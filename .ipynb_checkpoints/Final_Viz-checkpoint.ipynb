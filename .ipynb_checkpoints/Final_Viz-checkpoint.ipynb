{
 "cells": [
  {
   "cell_type": "markdown",
   "metadata": {},
   "source": [
    "# ALL PLOTS:-"
   ]
  },
  {
   "cell_type": "code",
   "execution_count": 1,
   "metadata": {},
   "outputs": [],
   "source": [
    "'''Libraries'''\n",
    "import plotly.express as px\n",
    "import plotly.graph_objects as go\n",
    "import numpy as np\n",
    "import pandas as pd\n",
    "from scipy.cluster.hierarchy import dendrogram, linkage\n",
    "\n",
    "def format_float(value):\n",
    "    return f'{value:,.2f}'\n",
    "\n",
    "pd.options.display.float_format = format_float\n",
    "\n",
    "'''Read Data'''\n",
    "# main data\n",
    "df = pd.read_csv('trade_new.csv')\n",
    "# additional data 1\n",
    "rca = pd.read_csv('Malaysia_RCA_stats.csv')\n",
    "# additional data 2\n",
    "sitc_1 = pd.read_csv('sitc_1.csv')\n",
    "# additional data 3\n",
    "sitc_2 = pd.read_csv('sitc_2.csv')\n",
    "# additional data 4\n",
    "df_country = pd.read_csv(\"country_data.csv\")\n",
    "\n",
    "'''Pre-processing'''\n",
    "# rca\n",
    "rca = rca.drop(['Reporter Name', 'Partner Name', 'Trade Flow'], axis=1)\n",
    "rca_melt = rca.melt(id_vars=['1D DESC'], value_vars=['2013', '2014', '2015', '2016', '2017', '2018', '2019'])\n",
    "rca_melt = rca_melt.rename(columns={'variable': 'YEAR', 'value': 'RCA Value'})\n",
    "rca_melt['YEAR'] = rca_melt['YEAR'].astype(str).astype(int)\n",
    "\n",
    "# main data\n",
    "table1 = df.groupby(['YEAR','SITC 1 DIGIT'])[['IMPORT (MILLION RM)', 'EXPORT (MILLION RM)']]\\\n",
    "    .sum().reset_index()\\\n",
    "    .sort_values(by=['SITC 1 DIGIT', 'YEAR'])\n",
    "\n",
    "table1['% Change Import'] = table1.groupby(['SITC 1 DIGIT'])['IMPORT (MILLION RM)'].pct_change().fillna(0)*100\n",
    "# table1['% Import Import'] = df_import_dynamic.sort_values(by=['YEAR','SITC 1 DIGIT'])\n",
    "table1['% Change Export'] = table1.groupby(['SITC 1 DIGIT'])['EXPORT (MILLION RM)'].pct_change().fillna(0)*100\n",
    "# table1['% Import Export'] = df_import_dynamic.sort_values(by=['YEAR','SITC 1 DIGIT'])\n",
    "\n",
    "table1 = table1.merge(sitc_1, on='SITC 1 DIGIT').merge(rca_melt, on=['YEAR', '1D DESC'])\n",
    "table1['SITC 1 DIGIT'] = table1['SITC 1 DIGIT'].astype(str)\n",
    "\n",
    "table1['TOTAL IMPORT SITC 1'] = df.groupby(['SITC 1 DIGIT', 'YEAR'])['IMPORT (MILLION RM)'].agg(['sum'])\\\n",
    "    .reset_index()['sum']\n",
    "table1['TOTAL EXPORT SITC 1'] = df.groupby(['SITC 1 DIGIT', 'YEAR'])['EXPORT (MILLION RM)'].agg(['sum'])\\\n",
    "    .reset_index()['sum']\n",
    "\n",
    "# special table for group by country\n",
    "table2 = pd.DataFrame()\n",
    "table2 = df.groupby(['YEAR','COUNTRY'])['IMPORT (MILLION RM)'].agg(TOT_IMPORT = 'sum').reset_index()\n",
    "table2['TOT_EXPORT'] = df.groupby(['YEAR','COUNTRY'])['EXPORT (MILLION RM)'].agg(['sum']).reset_index()['sum']\n",
    "# Merge\n",
    "table2 = table2.merge(df_country, on='COUNTRY', how='inner')\n",
    "# Clean 0 trade\n",
    "# table2 = table2[table2['total']>0]\n",
    "table2[\"world\"] = \"world\" # in order to have a single root node\n",
    "\n",
    "# special for group by sitc 2\n",
    "table3 = df.groupby(['YEAR','SITC 1 DIGIT', 'SITC 2 DIGIT'])[['IMPORT (MILLION RM)', 'EXPORT (MILLION RM)']]\\\n",
    "    .sum().reset_index()\\\n",
    "    .sort_values(by=['SITC 1 DIGIT', 'YEAR'])\n",
    "table3['All'] = 'All'\n",
    "table3 = table3.merge(sitc_1, on=['SITC 1 DIGIT'])\n",
    "\n",
    "# special for corr()\n",
    "df_temp_import = pd.DataFrame(index = np.sort(df['YEAR'].unique()))\n",
    "for i in range(0,10):\n",
    "    df_temp_import[format(i)] = df[df['SITC 1 DIGIT'] == i].groupby('YEAR')[['IMPORT (MILLION RM)']].sum().rename(columns={'IMPORT (MILLION RM)':i})[i]\n",
    "\n",
    "df_temp_export = pd.DataFrame(index = np.sort(df['YEAR'].unique()))\n",
    "for i in range(0,10):\n",
    "    df_temp_export[format(i)] = df[df['SITC 1 DIGIT'] == i].groupby('YEAR')[['EXPORT (MILLION RM)']].sum().rename(columns={'EXPORT (MILLION RM)':i})[i]\n",
    "\n",
    "    "
   ]
  },
  {
   "cell_type": "code",
   "execution_count": 5,
   "metadata": {},
   "outputs": [],
   "source": [
    "var_imp = 'IMPORT (MILLION RM)'\n",
    "var_exp = 'EXPORT (MILLION RM)'"
   ]
  },
  {
   "cell_type": "code",
   "execution_count": 6,
   "metadata": {},
   "outputs": [
    {
     "data": {
      "text/plain": [
       "RangeIndex(start=0, stop=7, step=1)"
      ]
     },
     "execution_count": 6,
     "metadata": {},
     "output_type": "execute_result"
    }
   ],
   "source": [
    "df_temp_import.reset_index().index"
   ]
  },
  {
   "cell_type": "markdown",
   "metadata": {},
   "source": [
    "## What Goods Did Malaysia Import/Export?"
   ]
  },
  {
   "cell_type": "code",
   "execution_count": 7,
   "metadata": {},
   "outputs": [
    {
     "ename": "ValueError",
     "evalue": "\n    Invalid value of type 'builtins.str' received for the 'colorscale' property of make_figure\n        Received value: 'turbo'\n\n    The 'colorscale' property is a colorscale and may be\n    specified as:\n      - A list of colors that will be spaced evenly to create the colorscale.\n        Many predefined colorscale lists are included in the sequential, diverging,\n        and cyclical modules in the plotly.colors package.\n      - A list of 2-element lists where the first element is the\n        normalized color level value (starting at 0 and ending at 1),\n        and the second item is a valid color string.\n        (e.g. [[0, 'green'], [0.5, 'red'], [1.0, 'rgb(0, 0, 255)']])\n      - One of the following named colorscales:\n            ['aggrnyl', 'agsunset', 'algae', 'amp', 'armyrose', 'balance',\n             'blackbody', 'bluered', 'blues', 'blugrn', 'bluyl', 'brbg',\n             'brwnyl', 'bugn', 'bupu', 'burg', 'burgyl', 'cividis', 'curl',\n             'darkmint', 'deep', 'delta', 'dense', 'earth', 'edge', 'electric',\n             'emrld', 'fall', 'geyser', 'gnbu', 'gray', 'greens', 'greys',\n             'haline', 'hot', 'hsv', 'ice', 'icefire', 'inferno', 'jet',\n             'magenta', 'magma', 'matter', 'mint', 'mrybm', 'mygbm', 'oranges',\n             'orrd', 'oryel', 'peach', 'phase', 'picnic', 'pinkyl', 'piyg',\n             'plasma', 'plotly3', 'portland', 'prgn', 'pubu', 'pubugn', 'puor',\n             'purd', 'purp', 'purples', 'purpor', 'rainbow', 'rdbu', 'rdgy',\n             'rdpu', 'rdylbu', 'rdylgn', 'redor', 'reds', 'solar', 'spectral',\n             'speed', 'sunset', 'sunsetdark', 'teal', 'tealgrn', 'tealrose',\n             'tempo', 'temps', 'thermal', 'tropic', 'turbid', 'twilight',\n             'viridis', 'ylgn', 'ylgnbu', 'ylorbr', 'ylorrd'].\n        Appending '_r' to a named colorscale reverses it.\n",
     "output_type": "error",
     "traceback": [
      "\u001b[1;31m---------------------------------------------------------------------------\u001b[0m",
      "\u001b[1;31mValueError\u001b[0m                                Traceback (most recent call last)",
      "\u001b[1;32m<ipython-input-7-27475eb59a73>\u001b[0m in \u001b[0;36m<module>\u001b[1;34m\u001b[0m\n\u001b[1;32m----> 1\u001b[1;33m fig = px.treemap(table3.query('YEAR == 2019'), path=['All', 'SITC 1 DIGIT','SITC 2 DIGIT'], values=var_imp,\n\u001b[0m\u001b[0;32m      2\u001b[0m                   \u001b[0mcolor\u001b[0m\u001b[1;33m=\u001b[0m\u001b[0mvar_imp\u001b[0m\u001b[1;33m,\u001b[0m \u001b[0mhover_data\u001b[0m\u001b[1;33m=\u001b[0m\u001b[1;33m[\u001b[0m\u001b[1;34m'1D DESC'\u001b[0m\u001b[1;33m]\u001b[0m\u001b[1;33m,\u001b[0m\u001b[1;33m\u001b[0m\u001b[1;33m\u001b[0m\u001b[0m\n\u001b[0;32m      3\u001b[0m                   color_continuous_scale='turbo')\n\u001b[0;32m      4\u001b[0m \u001b[0mfig\u001b[0m\u001b[1;33m.\u001b[0m\u001b[0mshow\u001b[0m\u001b[1;33m(\u001b[0m\u001b[1;33m)\u001b[0m\u001b[1;33m\u001b[0m\u001b[1;33m\u001b[0m\u001b[0m\n",
      "\u001b[1;32m~\\anaconda3\\envs\\hazimutalib\\lib\\site-packages\\plotly\\express\\_chart_types.py\u001b[0m in \u001b[0;36mtreemap\u001b[1;34m(data_frame, names, values, parents, ids, path, color, color_continuous_scale, range_color, color_continuous_midpoint, color_discrete_sequence, color_discrete_map, hover_name, hover_data, custom_data, labels, title, template, width, height, branchvalues, maxdepth)\u001b[0m\n\u001b[0;32m   1449\u001b[0m     \u001b[1;32mif\u001b[0m \u001b[0mpath\u001b[0m \u001b[1;32mis\u001b[0m \u001b[1;32mnot\u001b[0m \u001b[1;32mNone\u001b[0m \u001b[1;32mand\u001b[0m \u001b[0mbranchvalues\u001b[0m \u001b[1;32mis\u001b[0m \u001b[1;32mNone\u001b[0m\u001b[1;33m:\u001b[0m\u001b[1;33m\u001b[0m\u001b[1;33m\u001b[0m\u001b[0m\n\u001b[0;32m   1450\u001b[0m         \u001b[0mbranchvalues\u001b[0m \u001b[1;33m=\u001b[0m \u001b[1;34m\"total\"\u001b[0m\u001b[1;33m\u001b[0m\u001b[1;33m\u001b[0m\u001b[0m\n\u001b[1;32m-> 1451\u001b[1;33m     return make_figure(\n\u001b[0m\u001b[0;32m   1452\u001b[0m         \u001b[0margs\u001b[0m\u001b[1;33m=\u001b[0m\u001b[0mlocals\u001b[0m\u001b[1;33m(\u001b[0m\u001b[1;33m)\u001b[0m\u001b[1;33m,\u001b[0m\u001b[1;33m\u001b[0m\u001b[1;33m\u001b[0m\u001b[0m\n\u001b[0;32m   1453\u001b[0m         \u001b[0mconstructor\u001b[0m\u001b[1;33m=\u001b[0m\u001b[0mgo\u001b[0m\u001b[1;33m.\u001b[0m\u001b[0mTreemap\u001b[0m\u001b[1;33m,\u001b[0m\u001b[1;33m\u001b[0m\u001b[1;33m\u001b[0m\u001b[0m\n",
      "\u001b[1;32m~\\anaconda3\\envs\\hazimutalib\\lib\\site-packages\\plotly\\express\\_core.py\u001b[0m in \u001b[0;36mmake_figure\u001b[1;34m(args, constructor, trace_patch, layout_patch)\u001b[0m\n\u001b[0;32m   2001\u001b[0m         \u001b[0mcolorscale_validator\u001b[0m \u001b[1;33m=\u001b[0m \u001b[0mColorscaleValidator\u001b[0m\u001b[1;33m(\u001b[0m\u001b[1;34m\"colorscale\"\u001b[0m\u001b[1;33m,\u001b[0m \u001b[1;34m\"make_figure\"\u001b[0m\u001b[1;33m)\u001b[0m\u001b[1;33m\u001b[0m\u001b[1;33m\u001b[0m\u001b[0m\n\u001b[0;32m   2002\u001b[0m         layout_patch[\"coloraxis1\"] = dict(\n\u001b[1;32m-> 2003\u001b[1;33m             colorscale=colorscale_validator.validate_coerce(\n\u001b[0m\u001b[0;32m   2004\u001b[0m                 \u001b[0margs\u001b[0m\u001b[1;33m[\u001b[0m\u001b[1;34m\"color_continuous_scale\"\u001b[0m\u001b[1;33m]\u001b[0m\u001b[1;33m\u001b[0m\u001b[1;33m\u001b[0m\u001b[0m\n\u001b[0;32m   2005\u001b[0m             ),\n",
      "\u001b[1;32m~\\anaconda3\\envs\\hazimutalib\\lib\\site-packages\\_plotly_utils\\basevalidators.py\u001b[0m in \u001b[0;36mvalidate_coerce\u001b[1;34m(self, v)\u001b[0m\n\u001b[0;32m   1629\u001b[0m \u001b[1;33m\u001b[0m\u001b[0m\n\u001b[0;32m   1630\u001b[0m         \u001b[1;32mif\u001b[0m \u001b[1;32mnot\u001b[0m \u001b[0mv_valid\u001b[0m\u001b[1;33m:\u001b[0m\u001b[1;33m\u001b[0m\u001b[1;33m\u001b[0m\u001b[0m\n\u001b[1;32m-> 1631\u001b[1;33m             \u001b[0mself\u001b[0m\u001b[1;33m.\u001b[0m\u001b[0mraise_invalid_val\u001b[0m\u001b[1;33m(\u001b[0m\u001b[0mv\u001b[0m\u001b[1;33m)\u001b[0m\u001b[1;33m\u001b[0m\u001b[1;33m\u001b[0m\u001b[0m\n\u001b[0m\u001b[0;32m   1632\u001b[0m \u001b[1;33m\u001b[0m\u001b[0m\n\u001b[0;32m   1633\u001b[0m         \u001b[1;32mreturn\u001b[0m \u001b[0mv\u001b[0m\u001b[1;33m\u001b[0m\u001b[1;33m\u001b[0m\u001b[0m\n",
      "\u001b[1;32m~\\anaconda3\\envs\\hazimutalib\\lib\\site-packages\\_plotly_utils\\basevalidators.py\u001b[0m in \u001b[0;36mraise_invalid_val\u001b[1;34m(self, v, inds)\u001b[0m\n\u001b[0;32m    273\u001b[0m                 \u001b[0mname\u001b[0m \u001b[1;33m+=\u001b[0m \u001b[1;34m\"[\"\u001b[0m \u001b[1;33m+\u001b[0m \u001b[0mstr\u001b[0m\u001b[1;33m(\u001b[0m\u001b[0mi\u001b[0m\u001b[1;33m)\u001b[0m \u001b[1;33m+\u001b[0m \u001b[1;34m\"]\"\u001b[0m\u001b[1;33m\u001b[0m\u001b[1;33m\u001b[0m\u001b[0m\n\u001b[0;32m    274\u001b[0m \u001b[1;33m\u001b[0m\u001b[0m\n\u001b[1;32m--> 275\u001b[1;33m         raise ValueError(\n\u001b[0m\u001b[0;32m    276\u001b[0m             \"\"\"\n\u001b[0;32m    277\u001b[0m     \u001b[0mInvalid\u001b[0m \u001b[0mvalue\u001b[0m \u001b[0mof\u001b[0m \u001b[0mtype\u001b[0m \u001b[1;33m{\u001b[0m\u001b[0mtyp\u001b[0m\u001b[1;33m}\u001b[0m \u001b[0mreceived\u001b[0m \u001b[1;32mfor\u001b[0m \u001b[0mthe\u001b[0m \u001b[1;34m'{name}'\u001b[0m \u001b[0mproperty\u001b[0m \u001b[0mof\u001b[0m \u001b[1;33m{\u001b[0m\u001b[0mpname\u001b[0m\u001b[1;33m}\u001b[0m\u001b[1;33m\u001b[0m\u001b[1;33m\u001b[0m\u001b[0m\n",
      "\u001b[1;31mValueError\u001b[0m: \n    Invalid value of type 'builtins.str' received for the 'colorscale' property of make_figure\n        Received value: 'turbo'\n\n    The 'colorscale' property is a colorscale and may be\n    specified as:\n      - A list of colors that will be spaced evenly to create the colorscale.\n        Many predefined colorscale lists are included in the sequential, diverging,\n        and cyclical modules in the plotly.colors package.\n      - A list of 2-element lists where the first element is the\n        normalized color level value (starting at 0 and ending at 1),\n        and the second item is a valid color string.\n        (e.g. [[0, 'green'], [0.5, 'red'], [1.0, 'rgb(0, 0, 255)']])\n      - One of the following named colorscales:\n            ['aggrnyl', 'agsunset', 'algae', 'amp', 'armyrose', 'balance',\n             'blackbody', 'bluered', 'blues', 'blugrn', 'bluyl', 'brbg',\n             'brwnyl', 'bugn', 'bupu', 'burg', 'burgyl', 'cividis', 'curl',\n             'darkmint', 'deep', 'delta', 'dense', 'earth', 'edge', 'electric',\n             'emrld', 'fall', 'geyser', 'gnbu', 'gray', 'greens', 'greys',\n             'haline', 'hot', 'hsv', 'ice', 'icefire', 'inferno', 'jet',\n             'magenta', 'magma', 'matter', 'mint', 'mrybm', 'mygbm', 'oranges',\n             'orrd', 'oryel', 'peach', 'phase', 'picnic', 'pinkyl', 'piyg',\n             'plasma', 'plotly3', 'portland', 'prgn', 'pubu', 'pubugn', 'puor',\n             'purd', 'purp', 'purples', 'purpor', 'rainbow', 'rdbu', 'rdgy',\n             'rdpu', 'rdylbu', 'rdylgn', 'redor', 'reds', 'solar', 'spectral',\n             'speed', 'sunset', 'sunsetdark', 'teal', 'tealgrn', 'tealrose',\n             'tempo', 'temps', 'thermal', 'tropic', 'turbid', 'twilight',\n             'viridis', 'ylgn', 'ylgnbu', 'ylorbr', 'ylorrd'].\n        Appending '_r' to a named colorscale reverses it.\n"
     ]
    }
   ],
   "source": [
    "fig = px.treemap(table3.query('YEAR == 2019'), path=['All', 'SITC 1 DIGIT','SITC 2 DIGIT'], values=var_imp,\n",
    "                  color=var_imp, hover_data=['1D DESC'],\n",
    "                  color_continuous_scale='turbo')\n",
    "fig.show()"
   ]
  },
  {
   "cell_type": "markdown",
   "metadata": {},
   "source": [
    "## Where Did Malaysia Import/Export Goods?"
   ]
  },
  {
   "cell_type": "code",
   "execution_count": 5,
   "metadata": {},
   "outputs": [
    {
     "data": {
      "application/vnd.plotly.v1+json": {
       "config": {
        "plotlyServerURL": "https://plot.ly"
       },
       "data": [
        {
         "branchvalues": "total",
         "customdata": [
          [
           "AFGHANISTAN",
           3.80964
          ],
          [
           "ALBANIA",
           5.629118999999999
          ],
          [
           "ALGERIA",
           304.740302
          ],
          [
           "AMERICAN SAMOA",
           0.503919
          ],
          [
           "ANDORRA",
           0.010003
          ],
          [
           "ANGOLA",
           157.92619499999998
          ],
          [
           "ARGENTINA",
           4221.944924999999
          ],
          [
           "ARMENIA",
           0.40449900000000005
          ],
          [
           "ARUBA",
           253.035213
          ],
          [
           "AUSTRALIA",
           16491.895539000005
          ],
          [
           "AUSTRIA",
           1553.3354049999998
          ],
          [
           "AZERBAIJAN",
           9.556987
          ],
          [
           "BAHRAIN",
           944.1409099999997
          ],
          [
           "BANGLADESH",
           285.617095
          ],
          [
           "BARBADOS",
           7.153494000000001
          ],
          [
           "BELARUS",
           173.674669
          ],
          [
           "BELGIUM",
           3138.099835
          ],
          [
           "BELIZE",
           1.031042
          ],
          [
           "BENIN",
           12.325216
          ],
          [
           "BERMUDA",
           2.622558
          ],
          [
           "BHUTAN",
           0.11046199999999999
          ],
          [
           "BOTSWANA",
           0.062519
          ],
          [
           "BRAZIL",
           5678.9893470000015
          ],
          [
           "BULGARIA",
           165.65599
          ],
          [
           "BURKINA FASO",
           27.511757
          ],
          [
           "CAMBODIA",
           613.2976809999999
          ],
          [
           "CAMEROON",
           171.879253
          ],
          [
           "CANADA",
           3152.5639319999996
          ],
          [
           "CAPE VERDE",
           0.005611999999999999
          ],
          [
           "CAYMAN ISLANDS",
           0.006569
          ],
          [
           "CHAD",
           0.16773000000000002
          ],
          [
           "CHILE",
           1310.4896800000004
          ],
          [
           "CHINA",
           106264.79411400002
          ],
          [
           "COLOMBIA",
           1219.646531
          ],
          [
           "COMOROS",
           0.316768
          ],
          [
           "COOK ISLANDS",
           0.002616
          ],
          [
           "COSTA RICA",
           5675.806972
          ],
          [
           "COTE D'IVOIRE",
           1068.2291810000002
          ],
          [
           "CROATIA",
           6.527880000000001
          ],
          [
           "CUBA",
           8.535129
          ],
          [
           "CYPRUS",
           127.10375500000004
          ],
          [
           "CZECH REPUBLIC",
           542.6979809999999
          ],
          [
           "DENMARK",
           780.7497569999997
          ],
          [
           "DJIBOUTI",
           9.191265
          ],
          [
           "DOMINICA",
           0.00018899999999999999
          ],
          [
           "DOMINICAN REPUBLIC",
           3.5074890000000005
          ],
          [
           "ECUADOR",
           365.4937679999999
          ],
          [
           "EGYPT",
           585.2931540000003
          ],
          [
           "EL SALVADOR",
           2.4062820000000005
          ],
          [
           "EQUATORIAL GUINEA",
           0.212573
          ],
          [
           "ERITREA",
           0.010817
          ],
          [
           "ESTONIA",
           21.570607000000003
          ],
          [
           "ETHIOPIA",
           15.357212
          ],
          [
           "FAROE ISLANDS",
           0.002132
          ],
          [
           "FIJI",
           7.711691999999998
          ],
          [
           "FINLAND",
           1375.9094650000002
          ],
          [
           "FRANCE",
           13463.178824000002
          ],
          [
           "FRENCH GUIANA",
           0.05663900000000001
          ],
          [
           "FRENCH POLYNESIA",
           0.086689
          ],
          [
           "GABON",
           169.890132
          ],
          [
           "GEORGIA",
           15.083783
          ],
          [
           "GERMANY",
           22912.093564999996
          ],
          [
           "GHANA",
           439.442311
          ],
          [
           "GIBRALTAR",
           0.043973000000000005
          ],
          [
           "GREECE",
           127.43530700000001
          ],
          [
           "GREENLAND",
           0.035114
          ],
          [
           "GRENADA",
           26.382924999999993
          ],
          [
           "GUADELOUPE",
           0.058324
          ],
          [
           "GUAM",
           0.08927999999999998
          ],
          [
           "GUATEMALA",
           6.961786
          ],
          [
           "GUINEA",
           8.124494000000002
          ],
          [
           "GUINEA-BISSAU",
           0.174991
          ],
          [
           "GUYANA",
           9.281768000000001
          ],
          [
           "HAITI",
           2.7311579999999998
          ],
          [
           "HONDURAS",
           1.1431419999999999
          ],
          [
           "HONG KONG",
           10484.882103000002
          ],
          [
           "HUNGARY",
           471.2004160000001
          ],
          [
           "ICELAND",
           20.128490999999997
          ],
          [
           "INDIA",
           16346.491366999999
          ],
          [
           "INDONESIA",
           27943.820354
          ],
          [
           "IRAQ",
           620.799649
          ],
          [
           "IRELAND",
           908.135472
          ],
          [
           "ITALY",
           5872.615934
          ],
          [
           "JAMAICA",
           15.507399
          ],
          [
           "JAPAN",
           56359.91997399998
          ],
          [
           "JORDAN",
           386.606679
          ],
          [
           "KAZAKHSTAN",
           8.528075999999999
          ],
          [
           "KENYA",
           16.557249
          ],
          [
           "KUWAIT",
           2045.8958840000003
          ],
          [
           "KYRGYZSTAN",
           0.50602
          ],
          [
           "LATVIA",
           368.6167409999999
          ],
          [
           "LEBANON",
           39.010322
          ],
          [
           "LESOTHO",
           0.03203
          ],
          [
           "LIBERIA",
           54.570268999999996
          ],
          [
           "LIBYA",
           702.7075349999999
          ],
          [
           "LIECHTENSTEIN",
           0.035335000000000005
          ],
          [
           "LITHUANIA",
           152.549723
          ],
          [
           "LUXEMBOURG",
           138.95200899999998
          ],
          [
           "MADAGASCAR",
           15.921980000000001
          ],
          [
           "MALAWI",
           6.112761
          ],
          [
           "MALAYSIA",
           543.156256
          ],
          [
           "MALDIVES",
           2.397541
          ],
          [
           "MALI",
           28.454603
          ],
          [
           "MALTA",
           93.44938300000003
          ],
          [
           "MARTINIQUE",
           0.238991
          ],
          [
           "MAURITANIA",
           0.034936
          ],
          [
           "MAURITIUS",
           10.372316999999997
          ],
          [
           "MAYOTTE",
           0.10116100000000001
          ],
          [
           "MEXICO",
           1038.154241
          ],
          [
           "MONACO",
           0.06408
          ],
          [
           "MONGOLIA",
           1.949353
          ],
          [
           "MOROCCO",
           36.60942000000001
          ],
          [
           "MOZAMBIQUE",
           37.10910200000001
          ],
          [
           "NAMIBIA",
           18.176795000000002
          ],
          [
           "NEPAL",
           1.373535
          ],
          [
           "NETHERLANDS",
           5407.715561999998
          ],
          [
           "NEW CALEDONIA",
           0.88794
          ],
          [
           "NEW ZEALAND",
           2744.571819999999
          ],
          [
           "NICARAGUA",
           0.7149189999999997
          ],
          [
           "NIGER",
           0.000205
          ],
          [
           "NIGERIA",
           953.9727790000001
          ],
          [
           "NORWAY",
           1242.6265069999995
          ],
          [
           "OMAN",
           885.7351699999998
          ],
          [
           "PAKISTAN",
           689.8542389999998
          ],
          [
           "PANAMA",
           532.027587
          ],
          [
           "PAPUA NEW GUINEA",
           325.7810519999999
          ],
          [
           "PARAGUAY",
           175.724404
          ],
          [
           "PERU",
           237.14288600000006
          ],
          [
           "PHILIPPINES",
           4743.105153999998
          ],
          [
           "POLAND",
           895.289254
          ],
          [
           "PORTUGAL",
           434.698113
          ],
          [
           "PUERTO RICO",
           22.250490000000003
          ],
          [
           "QATAR",
           3231.0915309999987
          ],
          [
           "REUNION",
           3.3187240000000005
          ],
          [
           "ROMANIA",
           113.652194
          ],
          [
           "RWANDA",
           183.150185
          ],
          [
           "SAUDI ARABIA",
           6221.403392
          ],
          [
           "SENEGAL",
           6.785734
          ],
          [
           "SERBIA",
           19.169217999999994
          ],
          [
           "SEYCHELLES",
           0.5724739999999999
          ],
          [
           "SIERRA LEONE",
           3.065799
          ],
          [
           "SINGAPORE",
           80249.18073800002
          ],
          [
           "SLOVAKIA",
           57.17223200000001
          ],
          [
           "SLOVENIA",
           90.657584
          ],
          [
           "SOLOMON ISLANDS",
           28.069046000000007
          ],
          [
           "SOUTH AFRICA",
           2678.2850870000007
          ],
          [
           "SPAIN",
           1862.5159780000004
          ],
          [
           "SRI LANKA",
           273.879142
          ],
          [
           "SUDAN",
           6.072674000000001
          ],
          [
           "SURINAME",
           3.2911230000000002
          ],
          [
           "SWAZILAND",
           4.4457629999999995
          ],
          [
           "SWEDEN",
           1940.9156540000004
          ],
          [
           "SWITZERLAND",
           5948.362004999999
          ],
          [
           "TAJIKISTAN",
           0.046697
          ],
          [
           "THAILAND",
           38632.509547
          ],
          [
           "TOGO",
           0.024139
          ],
          [
           "TONGA",
           2.9999999999999997e-05
          ],
          [
           "TUNISIA",
           57.41201799999999
          ],
          [
           "TURKEY",
           629.5533890000002
          ],
          [
           "TURKMENISTAN",
           0.217476
          ],
          [
           "UGANDA",
           48.122328
          ],
          [
           "UKRAINE",
           513.7290589999999
          ],
          [
           "UNITED ARAB EMIRATES",
           15054.663572000001
          ],
          [
           "UNITED KINGDOM",
           7316.149033
          ],
          [
           "UNITED STATES",
           50682.39159700001
          ],
          [
           "URUGUAY",
           34.94668399999999
          ],
          [
           "UZBEKISTAN",
           5.079122
          ],
          [
           "VANUATU",
           18.846272
          ],
          [
           "VIET NAM",
           19015.990432000006
          ],
          [
           "YEMEN",
           380.0592419999999
          ],
          [
           "ZAMBIA",
           273.06938
          ],
          [
           "ZIMBABWE",
           34.407288
          ],
          [
           "(?)",
           66061.66243038571
          ],
          [
           "(?)",
           294.0927004029658
          ],
          [
           "(?)",
           405.18381390419285
          ],
          [
           "(?)",
           578.7935914306219
          ],
          [
           "(?)",
           4178.631384446447
          ],
          [
           "(?)",
           9250.2472021874
          ],
          [
           "(?)",
           553.645837087627
          ],
          [
           "(?)",
           47896.69026724519
          ],
          [
           "(?)",
           14253.046919017352
          ],
          [
           "(?)",
           1488.349350226557
          ],
          [
           "(?)",
           11852.643055832334
          ],
          [
           "(?)",
           48928.918702774354
          ]
         ],
         "domain": {
          "x": [
           0,
           1
          ],
          "y": [
           0,
           1
          ]
         },
         "hovertemplate": "labels=%{label}<br>TOT_IMPORT_sum=%{value}<br>parent=%{parent}<br>id=%{id}<br>COUNTRY=%{customdata[0]}<br>TOT_IMPORT=%{color}<extra></extra>",
         "ids": [
          "world/ASIA (EX. NEAR EAST)         /AFGHANISTAN",
          "world/EASTERN EUROPE                     /ALBANIA",
          "world/NORTHERN AFRICA                    /ALGERIA",
          "world/OCEANIA                            /AMERICAN SAMOA",
          "world/WESTERN EUROPE                     /ANDORRA",
          "world/SUB-SAHARAN AFRICA                 /ANGOLA",
          "world/LATIN AMER. & CARIB    /ARGENTINA",
          "world/C.W. OF IND. STATES /ARMENIA",
          "world/LATIN AMER. & CARIB    /ARUBA",
          "world/OCEANIA                            /AUSTRALIA",
          "world/WESTERN EUROPE                     /AUSTRIA",
          "world/C.W. OF IND. STATES /AZERBAIJAN",
          "world/NEAR EAST                          /BAHRAIN",
          "world/ASIA (EX. NEAR EAST)         /BANGLADESH",
          "world/LATIN AMER. & CARIB    /BARBADOS",
          "world/C.W. OF IND. STATES /BELARUS",
          "world/WESTERN EUROPE                     /BELGIUM",
          "world/LATIN AMER. & CARIB    /BELIZE",
          "world/SUB-SAHARAN AFRICA                 /BENIN",
          "world/NORTHERN AMERICA                   /BERMUDA",
          "world/ASIA (EX. NEAR EAST)         /BHUTAN",
          "world/SUB-SAHARAN AFRICA                 /BOTSWANA",
          "world/LATIN AMER. & CARIB    /BRAZIL",
          "world/EASTERN EUROPE                     /BULGARIA",
          "world/SUB-SAHARAN AFRICA                 /BURKINA FASO",
          "world/ASIA (EX. NEAR EAST)         /CAMBODIA",
          "world/SUB-SAHARAN AFRICA                 /CAMEROON",
          "world/NORTHERN AMERICA                   /CANADA",
          "world/SUB-SAHARAN AFRICA                 /CAPE VERDE",
          "world/LATIN AMER. & CARIB    /CAYMAN ISLANDS",
          "world/SUB-SAHARAN AFRICA                 /CHAD",
          "world/LATIN AMER. & CARIB    /CHILE",
          "world/ASIA (EX. NEAR EAST)         /CHINA",
          "world/LATIN AMER. & CARIB    /COLOMBIA",
          "world/SUB-SAHARAN AFRICA                 /COMOROS",
          "world/OCEANIA                            /COOK ISLANDS",
          "world/LATIN AMER. & CARIB    /COSTA RICA",
          "world/SUB-SAHARAN AFRICA                 /COTE D'IVOIRE",
          "world/EASTERN EUROPE                     /CROATIA",
          "world/LATIN AMER. & CARIB    /CUBA",
          "world/NEAR EAST                          /CYPRUS",
          "world/EASTERN EUROPE                     /CZECH REPUBLIC",
          "world/WESTERN EUROPE                     /DENMARK",
          "world/SUB-SAHARAN AFRICA                 /DJIBOUTI",
          "world/LATIN AMER. & CARIB    /DOMINICA",
          "world/LATIN AMER. & CARIB    /DOMINICAN REPUBLIC",
          "world/LATIN AMER. & CARIB    /ECUADOR",
          "world/NORTHERN AFRICA                    /EGYPT",
          "world/LATIN AMER. & CARIB    /EL SALVADOR",
          "world/SUB-SAHARAN AFRICA                 /EQUATORIAL GUINEA",
          "world/SUB-SAHARAN AFRICA                 /ERITREA",
          "world/BALTICS                            /ESTONIA",
          "world/SUB-SAHARAN AFRICA                 /ETHIOPIA",
          "world/WESTERN EUROPE                     /FAROE ISLANDS",
          "world/OCEANIA                            /FIJI",
          "world/WESTERN EUROPE                     /FINLAND",
          "world/WESTERN EUROPE                     /FRANCE",
          "world/LATIN AMER. & CARIB    /FRENCH GUIANA",
          "world/OCEANIA                            /FRENCH POLYNESIA",
          "world/SUB-SAHARAN AFRICA                 /GABON",
          "world/C.W. OF IND. STATES /GEORGIA",
          "world/WESTERN EUROPE                     /GERMANY",
          "world/SUB-SAHARAN AFRICA                 /GHANA",
          "world/WESTERN EUROPE                     /GIBRALTAR",
          "world/WESTERN EUROPE                     /GREECE",
          "world/NORTHERN AMERICA                   /GREENLAND",
          "world/LATIN AMER. & CARIB    /GRENADA",
          "world/LATIN AMER. & CARIB    /GUADELOUPE",
          "world/OCEANIA                            /GUAM",
          "world/LATIN AMER. & CARIB    /GUATEMALA",
          "world/SUB-SAHARAN AFRICA                 /GUINEA",
          "world/SUB-SAHARAN AFRICA                 /GUINEA-BISSAU",
          "world/LATIN AMER. & CARIB    /GUYANA",
          "world/LATIN AMER. & CARIB    /HAITI",
          "world/LATIN AMER. & CARIB    /HONDURAS",
          "world/ASIA (EX. NEAR EAST)         /HONG KONG",
          "world/EASTERN EUROPE                     /HUNGARY",
          "world/WESTERN EUROPE                     /ICELAND",
          "world/ASIA (EX. NEAR EAST)         /INDIA",
          "world/ASIA (EX. NEAR EAST)         /INDONESIA",
          "world/NEAR EAST                          /IRAQ",
          "world/WESTERN EUROPE                     /IRELAND",
          "world/WESTERN EUROPE                     /ITALY",
          "world/LATIN AMER. & CARIB    /JAMAICA",
          "world/ASIA (EX. NEAR EAST)         /JAPAN",
          "world/NEAR EAST                          /JORDAN",
          "world/C.W. OF IND. STATES /KAZAKHSTAN",
          "world/SUB-SAHARAN AFRICA                 /KENYA",
          "world/NEAR EAST                          /KUWAIT",
          "world/C.W. OF IND. STATES /KYRGYZSTAN",
          "world/BALTICS                            /LATVIA",
          "world/NEAR EAST                          /LEBANON",
          "world/SUB-SAHARAN AFRICA                 /LESOTHO",
          "world/SUB-SAHARAN AFRICA                 /LIBERIA",
          "world/NORTHERN AFRICA                    /LIBYA",
          "world/WESTERN EUROPE                     /LIECHTENSTEIN",
          "world/BALTICS                            /LITHUANIA",
          "world/WESTERN EUROPE                     /LUXEMBOURG",
          "world/SUB-SAHARAN AFRICA                 /MADAGASCAR",
          "world/SUB-SAHARAN AFRICA                 /MALAWI",
          "world/ASIA (EX. NEAR EAST)         /MALAYSIA",
          "world/ASIA (EX. NEAR EAST)         /MALDIVES",
          "world/SUB-SAHARAN AFRICA                 /MALI",
          "world/WESTERN EUROPE                     /MALTA",
          "world/LATIN AMER. & CARIB    /MARTINIQUE",
          "world/SUB-SAHARAN AFRICA                 /MAURITANIA",
          "world/SUB-SAHARAN AFRICA                 /MAURITIUS",
          "world/SUB-SAHARAN AFRICA                 /MAYOTTE",
          "world/LATIN AMER. & CARIB    /MEXICO",
          "world/WESTERN EUROPE                     /MONACO",
          "world/ASIA (EX. NEAR EAST)         /MONGOLIA",
          "world/NORTHERN AFRICA                    /MOROCCO",
          "world/SUB-SAHARAN AFRICA                 /MOZAMBIQUE",
          "world/SUB-SAHARAN AFRICA                 /NAMIBIA",
          "world/ASIA (EX. NEAR EAST)         /NEPAL",
          "world/WESTERN EUROPE                     /NETHERLANDS",
          "world/OCEANIA                            /NEW CALEDONIA",
          "world/OCEANIA                            /NEW ZEALAND",
          "world/LATIN AMER. & CARIB    /NICARAGUA",
          "world/SUB-SAHARAN AFRICA                 /NIGER",
          "world/SUB-SAHARAN AFRICA                 /NIGERIA",
          "world/WESTERN EUROPE                     /NORWAY",
          "world/NEAR EAST                          /OMAN",
          "world/ASIA (EX. NEAR EAST)         /PAKISTAN",
          "world/LATIN AMER. & CARIB    /PANAMA",
          "world/OCEANIA                            /PAPUA NEW GUINEA",
          "world/LATIN AMER. & CARIB    /PARAGUAY",
          "world/LATIN AMER. & CARIB    /PERU",
          "world/ASIA (EX. NEAR EAST)         /PHILIPPINES",
          "world/EASTERN EUROPE                     /POLAND",
          "world/WESTERN EUROPE                     /PORTUGAL",
          "world/LATIN AMER. & CARIB    /PUERTO RICO",
          "world/NEAR EAST                          /QATAR",
          "world/SUB-SAHARAN AFRICA                 /REUNION",
          "world/EASTERN EUROPE                     /ROMANIA",
          "world/SUB-SAHARAN AFRICA                 /RWANDA",
          "world/NEAR EAST                          /SAUDI ARABIA",
          "world/SUB-SAHARAN AFRICA                 /SENEGAL",
          "world/EASTERN EUROPE                     /SERBIA",
          "world/SUB-SAHARAN AFRICA                 /SEYCHELLES",
          "world/SUB-SAHARAN AFRICA                 /SIERRA LEONE",
          "world/ASIA (EX. NEAR EAST)         /SINGAPORE",
          "world/EASTERN EUROPE                     /SLOVAKIA",
          "world/EASTERN EUROPE                     /SLOVENIA",
          "world/OCEANIA                            /SOLOMON ISLANDS",
          "world/SUB-SAHARAN AFRICA                 /SOUTH AFRICA",
          "world/WESTERN EUROPE                     /SPAIN",
          "world/ASIA (EX. NEAR EAST)         /SRI LANKA",
          "world/SUB-SAHARAN AFRICA                 /SUDAN",
          "world/LATIN AMER. & CARIB    /SURINAME",
          "world/SUB-SAHARAN AFRICA                 /SWAZILAND",
          "world/WESTERN EUROPE                     /SWEDEN",
          "world/WESTERN EUROPE                     /SWITZERLAND",
          "world/C.W. OF IND. STATES /TAJIKISTAN",
          "world/ASIA (EX. NEAR EAST)         /THAILAND",
          "world/SUB-SAHARAN AFRICA                 /TOGO",
          "world/OCEANIA                            /TONGA",
          "world/NORTHERN AFRICA                    /TUNISIA",
          "world/NEAR EAST                          /TURKEY",
          "world/C.W. OF IND. STATES /TURKMENISTAN",
          "world/SUB-SAHARAN AFRICA                 /UGANDA",
          "world/C.W. OF IND. STATES /UKRAINE",
          "world/NEAR EAST                          /UNITED ARAB EMIRATES",
          "world/WESTERN EUROPE                     /UNITED KINGDOM",
          "world/NORTHERN AMERICA                   /UNITED STATES",
          "world/LATIN AMER. & CARIB    /URUGUAY",
          "world/C.W. OF IND. STATES /UZBEKISTAN",
          "world/OCEANIA                            /VANUATU",
          "world/ASIA (EX. NEAR EAST)         /VIET NAM",
          "world/NEAR EAST                          /YEMEN",
          "world/SUB-SAHARAN AFRICA                 /ZAMBIA",
          "world/SUB-SAHARAN AFRICA                 /ZIMBABWE",
          "world/ASIA (EX. NEAR EAST)         ",
          "world/BALTICS                            ",
          "world/C.W. OF IND. STATES ",
          "world/EASTERN EUROPE                     ",
          "world/LATIN AMER. & CARIB    ",
          "world/NEAR EAST                          ",
          "world/NORTHERN AFRICA                    ",
          "world/NORTHERN AMERICA                   ",
          "world/OCEANIA                            ",
          "world/SUB-SAHARAN AFRICA                 ",
          "world/WESTERN EUROPE                     ",
          "world"
         ],
         "labels": [
          "AFGHANISTAN",
          "ALBANIA",
          "ALGERIA",
          "AMERICAN SAMOA",
          "ANDORRA",
          "ANGOLA",
          "ARGENTINA",
          "ARMENIA",
          "ARUBA",
          "AUSTRALIA",
          "AUSTRIA",
          "AZERBAIJAN",
          "BAHRAIN",
          "BANGLADESH",
          "BARBADOS",
          "BELARUS",
          "BELGIUM",
          "BELIZE",
          "BENIN",
          "BERMUDA",
          "BHUTAN",
          "BOTSWANA",
          "BRAZIL",
          "BULGARIA",
          "BURKINA FASO",
          "CAMBODIA",
          "CAMEROON",
          "CANADA",
          "CAPE VERDE",
          "CAYMAN ISLANDS",
          "CHAD",
          "CHILE",
          "CHINA",
          "COLOMBIA",
          "COMOROS",
          "COOK ISLANDS",
          "COSTA RICA",
          "COTE D'IVOIRE",
          "CROATIA",
          "CUBA",
          "CYPRUS",
          "CZECH REPUBLIC",
          "DENMARK",
          "DJIBOUTI",
          "DOMINICA",
          "DOMINICAN REPUBLIC",
          "ECUADOR",
          "EGYPT",
          "EL SALVADOR",
          "EQUATORIAL GUINEA",
          "ERITREA",
          "ESTONIA",
          "ETHIOPIA",
          "FAROE ISLANDS",
          "FIJI",
          "FINLAND",
          "FRANCE",
          "FRENCH GUIANA",
          "FRENCH POLYNESIA",
          "GABON",
          "GEORGIA",
          "GERMANY",
          "GHANA",
          "GIBRALTAR",
          "GREECE",
          "GREENLAND",
          "GRENADA",
          "GUADELOUPE",
          "GUAM",
          "GUATEMALA",
          "GUINEA",
          "GUINEA-BISSAU",
          "GUYANA",
          "HAITI",
          "HONDURAS",
          "HONG KONG",
          "HUNGARY",
          "ICELAND",
          "INDIA",
          "INDONESIA",
          "IRAQ",
          "IRELAND",
          "ITALY",
          "JAMAICA",
          "JAPAN",
          "JORDAN",
          "KAZAKHSTAN",
          "KENYA",
          "KUWAIT",
          "KYRGYZSTAN",
          "LATVIA",
          "LEBANON",
          "LESOTHO",
          "LIBERIA",
          "LIBYA",
          "LIECHTENSTEIN",
          "LITHUANIA",
          "LUXEMBOURG",
          "MADAGASCAR",
          "MALAWI",
          "MALAYSIA",
          "MALDIVES",
          "MALI",
          "MALTA",
          "MARTINIQUE",
          "MAURITANIA",
          "MAURITIUS",
          "MAYOTTE",
          "MEXICO",
          "MONACO",
          "MONGOLIA",
          "MOROCCO",
          "MOZAMBIQUE",
          "NAMIBIA",
          "NEPAL",
          "NETHERLANDS",
          "NEW CALEDONIA",
          "NEW ZEALAND",
          "NICARAGUA",
          "NIGER",
          "NIGERIA",
          "NORWAY",
          "OMAN",
          "PAKISTAN",
          "PANAMA",
          "PAPUA NEW GUINEA",
          "PARAGUAY",
          "PERU",
          "PHILIPPINES",
          "POLAND",
          "PORTUGAL",
          "PUERTO RICO",
          "QATAR",
          "REUNION",
          "ROMANIA",
          "RWANDA",
          "SAUDI ARABIA",
          "SENEGAL",
          "SERBIA",
          "SEYCHELLES",
          "SIERRA LEONE",
          "SINGAPORE",
          "SLOVAKIA",
          "SLOVENIA",
          "SOLOMON ISLANDS",
          "SOUTH AFRICA",
          "SPAIN",
          "SRI LANKA",
          "SUDAN",
          "SURINAME",
          "SWAZILAND",
          "SWEDEN",
          "SWITZERLAND",
          "TAJIKISTAN",
          "THAILAND",
          "TOGO",
          "TONGA",
          "TUNISIA",
          "TURKEY",
          "TURKMENISTAN",
          "UGANDA",
          "UKRAINE",
          "UNITED ARAB EMIRATES",
          "UNITED KINGDOM",
          "UNITED STATES",
          "URUGUAY",
          "UZBEKISTAN",
          "VANUATU",
          "VIET NAM",
          "YEMEN",
          "ZAMBIA",
          "ZIMBABWE",
          "ASIA (EX. NEAR EAST)         ",
          "BALTICS                            ",
          "C.W. OF IND. STATES ",
          "EASTERN EUROPE                     ",
          "LATIN AMER. & CARIB    ",
          "NEAR EAST                          ",
          "NORTHERN AFRICA                    ",
          "NORTHERN AMERICA                   ",
          "OCEANIA                            ",
          "SUB-SAHARAN AFRICA                 ",
          "WESTERN EUROPE                     ",
          "world"
         ],
         "marker": {
          "coloraxis": "coloraxis",
          "colors": [
           3.80964,
           5.629118999999999,
           304.740302,
           0.503919,
           0.010003,
           157.92619499999998,
           4221.944924999999,
           0.40449900000000005,
           253.035213,
           16491.895539000005,
           1553.3354049999998,
           9.556987,
           944.1409099999997,
           285.617095,
           7.153494000000001,
           173.674669,
           3138.099835,
           1.031042,
           12.325216,
           2.622558,
           0.11046199999999999,
           0.062519,
           5678.9893470000015,
           165.65599,
           27.511757,
           613.2976809999999,
           171.879253,
           3152.5639319999996,
           0.005611999999999999,
           0.006569,
           0.16773000000000002,
           1310.4896800000004,
           106264.79411400002,
           1219.646531,
           0.316768,
           0.002616,
           5675.806972,
           1068.2291810000002,
           6.527880000000001,
           8.535129,
           127.10375500000004,
           542.6979809999999,
           780.7497569999997,
           9.191265,
           0.00018899999999999999,
           3.5074890000000005,
           365.4937679999999,
           585.2931540000003,
           2.4062820000000005,
           0.212573,
           0.010817,
           21.570607000000003,
           15.357212,
           0.002132,
           7.711691999999998,
           1375.9094650000002,
           13463.178824000002,
           0.05663900000000001,
           0.086689,
           169.890132,
           15.083783,
           22912.093564999996,
           439.442311,
           0.043973000000000005,
           127.43530700000001,
           0.035114,
           26.382924999999993,
           0.058324,
           0.08927999999999998,
           6.961786,
           8.124494000000002,
           0.174991,
           9.281768000000001,
           2.7311579999999998,
           1.1431419999999999,
           10484.882103000002,
           471.2004160000001,
           20.128490999999997,
           16346.491366999999,
           27943.820354,
           620.799649,
           908.135472,
           5872.615934,
           15.507399,
           56359.91997399998,
           386.606679,
           8.528075999999999,
           16.557249,
           2045.8958840000003,
           0.50602,
           368.6167409999999,
           39.010322,
           0.03203,
           54.570268999999996,
           702.7075349999999,
           0.035335000000000005,
           152.549723,
           138.95200899999998,
           15.921980000000001,
           6.112761,
           543.156256,
           2.397541,
           28.454603,
           93.44938300000003,
           0.238991,
           0.034936,
           10.372316999999997,
           0.10116100000000001,
           1038.154241,
           0.06408,
           1.949353,
           36.60942000000001,
           37.10910200000001,
           18.176795000000002,
           1.373535,
           5407.715561999998,
           0.88794,
           2744.571819999999,
           0.7149189999999997,
           0.000205,
           953.9727790000001,
           1242.6265069999995,
           885.7351699999998,
           689.8542389999998,
           532.027587,
           325.7810519999999,
           175.724404,
           237.14288600000006,
           4743.105153999998,
           895.289254,
           434.698113,
           22.250490000000003,
           3231.0915309999987,
           3.3187240000000005,
           113.652194,
           183.150185,
           6221.403392,
           6.785734,
           19.169217999999994,
           0.5724739999999999,
           3.065799,
           80249.18073800002,
           57.17223200000001,
           90.657584,
           28.069046000000007,
           2678.2850870000007,
           1862.5159780000004,
           273.879142,
           6.072674000000001,
           3.2911230000000002,
           4.4457629999999995,
           1940.9156540000004,
           5948.362004999999,
           0.046697,
           38632.509547,
           0.024139,
           2.9999999999999997e-05,
           57.41201799999999,
           629.5533890000002,
           0.217476,
           48.122328,
           513.7290589999999,
           15054.663572000001,
           7316.149033,
           50682.39159700001,
           34.94668399999999,
           5.079122,
           18.846272,
           19015.990432000006,
           380.0592419999999,
           273.06938,
           34.407288,
           66061.66243038571,
           294.0927004029658,
           405.18381390419285,
           578.7935914306219,
           4178.631384446447,
           9250.2472021874,
           553.645837087627,
           47896.69026724519,
           14253.046919017352,
           1488.349350226557,
           11852.643055832334,
           48928.918702774354
          ]
         },
         "name": "",
         "parents": [
          "world/ASIA (EX. NEAR EAST)         ",
          "world/EASTERN EUROPE                     ",
          "world/NORTHERN AFRICA                    ",
          "world/OCEANIA                            ",
          "world/WESTERN EUROPE                     ",
          "world/SUB-SAHARAN AFRICA                 ",
          "world/LATIN AMER. & CARIB    ",
          "world/C.W. OF IND. STATES ",
          "world/LATIN AMER. & CARIB    ",
          "world/OCEANIA                            ",
          "world/WESTERN EUROPE                     ",
          "world/C.W. OF IND. STATES ",
          "world/NEAR EAST                          ",
          "world/ASIA (EX. NEAR EAST)         ",
          "world/LATIN AMER. & CARIB    ",
          "world/C.W. OF IND. STATES ",
          "world/WESTERN EUROPE                     ",
          "world/LATIN AMER. & CARIB    ",
          "world/SUB-SAHARAN AFRICA                 ",
          "world/NORTHERN AMERICA                   ",
          "world/ASIA (EX. NEAR EAST)         ",
          "world/SUB-SAHARAN AFRICA                 ",
          "world/LATIN AMER. & CARIB    ",
          "world/EASTERN EUROPE                     ",
          "world/SUB-SAHARAN AFRICA                 ",
          "world/ASIA (EX. NEAR EAST)         ",
          "world/SUB-SAHARAN AFRICA                 ",
          "world/NORTHERN AMERICA                   ",
          "world/SUB-SAHARAN AFRICA                 ",
          "world/LATIN AMER. & CARIB    ",
          "world/SUB-SAHARAN AFRICA                 ",
          "world/LATIN AMER. & CARIB    ",
          "world/ASIA (EX. NEAR EAST)         ",
          "world/LATIN AMER. & CARIB    ",
          "world/SUB-SAHARAN AFRICA                 ",
          "world/OCEANIA                            ",
          "world/LATIN AMER. & CARIB    ",
          "world/SUB-SAHARAN AFRICA                 ",
          "world/EASTERN EUROPE                     ",
          "world/LATIN AMER. & CARIB    ",
          "world/NEAR EAST                          ",
          "world/EASTERN EUROPE                     ",
          "world/WESTERN EUROPE                     ",
          "world/SUB-SAHARAN AFRICA                 ",
          "world/LATIN AMER. & CARIB    ",
          "world/LATIN AMER. & CARIB    ",
          "world/LATIN AMER. & CARIB    ",
          "world/NORTHERN AFRICA                    ",
          "world/LATIN AMER. & CARIB    ",
          "world/SUB-SAHARAN AFRICA                 ",
          "world/SUB-SAHARAN AFRICA                 ",
          "world/BALTICS                            ",
          "world/SUB-SAHARAN AFRICA                 ",
          "world/WESTERN EUROPE                     ",
          "world/OCEANIA                            ",
          "world/WESTERN EUROPE                     ",
          "world/WESTERN EUROPE                     ",
          "world/LATIN AMER. & CARIB    ",
          "world/OCEANIA                            ",
          "world/SUB-SAHARAN AFRICA                 ",
          "world/C.W. OF IND. STATES ",
          "world/WESTERN EUROPE                     ",
          "world/SUB-SAHARAN AFRICA                 ",
          "world/WESTERN EUROPE                     ",
          "world/WESTERN EUROPE                     ",
          "world/NORTHERN AMERICA                   ",
          "world/LATIN AMER. & CARIB    ",
          "world/LATIN AMER. & CARIB    ",
          "world/OCEANIA                            ",
          "world/LATIN AMER. & CARIB    ",
          "world/SUB-SAHARAN AFRICA                 ",
          "world/SUB-SAHARAN AFRICA                 ",
          "world/LATIN AMER. & CARIB    ",
          "world/LATIN AMER. & CARIB    ",
          "world/LATIN AMER. & CARIB    ",
          "world/ASIA (EX. NEAR EAST)         ",
          "world/EASTERN EUROPE                     ",
          "world/WESTERN EUROPE                     ",
          "world/ASIA (EX. NEAR EAST)         ",
          "world/ASIA (EX. NEAR EAST)         ",
          "world/NEAR EAST                          ",
          "world/WESTERN EUROPE                     ",
          "world/WESTERN EUROPE                     ",
          "world/LATIN AMER. & CARIB    ",
          "world/ASIA (EX. NEAR EAST)         ",
          "world/NEAR EAST                          ",
          "world/C.W. OF IND. STATES ",
          "world/SUB-SAHARAN AFRICA                 ",
          "world/NEAR EAST                          ",
          "world/C.W. OF IND. STATES ",
          "world/BALTICS                            ",
          "world/NEAR EAST                          ",
          "world/SUB-SAHARAN AFRICA                 ",
          "world/SUB-SAHARAN AFRICA                 ",
          "world/NORTHERN AFRICA                    ",
          "world/WESTERN EUROPE                     ",
          "world/BALTICS                            ",
          "world/WESTERN EUROPE                     ",
          "world/SUB-SAHARAN AFRICA                 ",
          "world/SUB-SAHARAN AFRICA                 ",
          "world/ASIA (EX. NEAR EAST)         ",
          "world/ASIA (EX. NEAR EAST)         ",
          "world/SUB-SAHARAN AFRICA                 ",
          "world/WESTERN EUROPE                     ",
          "world/LATIN AMER. & CARIB    ",
          "world/SUB-SAHARAN AFRICA                 ",
          "world/SUB-SAHARAN AFRICA                 ",
          "world/SUB-SAHARAN AFRICA                 ",
          "world/LATIN AMER. & CARIB    ",
          "world/WESTERN EUROPE                     ",
          "world/ASIA (EX. NEAR EAST)         ",
          "world/NORTHERN AFRICA                    ",
          "world/SUB-SAHARAN AFRICA                 ",
          "world/SUB-SAHARAN AFRICA                 ",
          "world/ASIA (EX. NEAR EAST)         ",
          "world/WESTERN EUROPE                     ",
          "world/OCEANIA                            ",
          "world/OCEANIA                            ",
          "world/LATIN AMER. & CARIB    ",
          "world/SUB-SAHARAN AFRICA                 ",
          "world/SUB-SAHARAN AFRICA                 ",
          "world/WESTERN EUROPE                     ",
          "world/NEAR EAST                          ",
          "world/ASIA (EX. NEAR EAST)         ",
          "world/LATIN AMER. & CARIB    ",
          "world/OCEANIA                            ",
          "world/LATIN AMER. & CARIB    ",
          "world/LATIN AMER. & CARIB    ",
          "world/ASIA (EX. NEAR EAST)         ",
          "world/EASTERN EUROPE                     ",
          "world/WESTERN EUROPE                     ",
          "world/LATIN AMER. & CARIB    ",
          "world/NEAR EAST                          ",
          "world/SUB-SAHARAN AFRICA                 ",
          "world/EASTERN EUROPE                     ",
          "world/SUB-SAHARAN AFRICA                 ",
          "world/NEAR EAST                          ",
          "world/SUB-SAHARAN AFRICA                 ",
          "world/EASTERN EUROPE                     ",
          "world/SUB-SAHARAN AFRICA                 ",
          "world/SUB-SAHARAN AFRICA                 ",
          "world/ASIA (EX. NEAR EAST)         ",
          "world/EASTERN EUROPE                     ",
          "world/EASTERN EUROPE                     ",
          "world/OCEANIA                            ",
          "world/SUB-SAHARAN AFRICA                 ",
          "world/WESTERN EUROPE                     ",
          "world/ASIA (EX. NEAR EAST)         ",
          "world/SUB-SAHARAN AFRICA                 ",
          "world/LATIN AMER. & CARIB    ",
          "world/SUB-SAHARAN AFRICA                 ",
          "world/WESTERN EUROPE                     ",
          "world/WESTERN EUROPE                     ",
          "world/C.W. OF IND. STATES ",
          "world/ASIA (EX. NEAR EAST)         ",
          "world/SUB-SAHARAN AFRICA                 ",
          "world/OCEANIA                            ",
          "world/NORTHERN AFRICA                    ",
          "world/NEAR EAST                          ",
          "world/C.W. OF IND. STATES ",
          "world/SUB-SAHARAN AFRICA                 ",
          "world/C.W. OF IND. STATES ",
          "world/NEAR EAST                          ",
          "world/WESTERN EUROPE                     ",
          "world/NORTHERN AMERICA                   ",
          "world/LATIN AMER. & CARIB    ",
          "world/C.W. OF IND. STATES ",
          "world/OCEANIA                            ",
          "world/ASIA (EX. NEAR EAST)         ",
          "world/NEAR EAST                          ",
          "world/SUB-SAHARAN AFRICA                 ",
          "world/SUB-SAHARAN AFRICA                 ",
          "world",
          "world",
          "world",
          "world",
          "world",
          "world",
          "world",
          "world",
          "world",
          "world",
          "world",
          ""
         ],
         "type": "treemap",
         "values": [
          3.80964,
          5.629118999999999,
          304.740302,
          0.503919,
          0.010003,
          157.92619499999998,
          4221.944924999999,
          0.404499,
          253.035213,
          16491.895539000005,
          1553.335405,
          9.556987,
          944.1409099999998,
          285.617095,
          7.153494000000001,
          173.674669,
          3138.099835,
          1.031042,
          12.325216,
          2.622558,
          0.11046199999999999,
          0.062519,
          5678.9893470000015,
          165.65599,
          27.511757,
          613.2976809999999,
          171.879253,
          3152.5639319999996,
          0.005612,
          0.006569,
          0.16773000000000002,
          1310.4896800000004,
          106264.794114,
          1219.646531,
          0.316768,
          0.002616,
          5675.806972,
          1068.2291810000002,
          6.5278800000000015,
          8.535129,
          127.10375500000004,
          542.6979809999999,
          780.7497569999998,
          9.191265,
          0.00018899999999999999,
          3.5074890000000005,
          365.49376799999993,
          585.2931540000003,
          2.4062820000000005,
          0.212573,
          0.010817,
          21.570607000000003,
          15.357212,
          0.002132,
          7.711691999999998,
          1375.9094650000002,
          13463.178824000002,
          0.056639,
          0.086689,
          169.890132,
          15.083783,
          22912.093564999996,
          439.442311,
          0.043973000000000005,
          127.43530700000001,
          0.035114,
          26.382924999999993,
          0.058324,
          0.08928,
          6.961786000000001,
          8.124494000000002,
          0.174991,
          9.281768000000001,
          2.7311579999999998,
          1.1431419999999999,
          10484.882103000002,
          471.2004160000001,
          20.128490999999997,
          16346.491366999999,
          27943.820354,
          620.799649,
          908.135472,
          5872.615934,
          15.507399,
          56359.91997399999,
          386.606679,
          8.528075999999999,
          16.557249,
          2045.8958840000003,
          0.50602,
          368.6167409999999,
          39.010322,
          0.03203,
          54.570268999999996,
          702.7075349999999,
          0.035335000000000005,
          152.549723,
          138.95200899999998,
          15.921980000000001,
          6.112761,
          543.156256,
          2.397541,
          28.454603,
          93.44938300000003,
          0.238991,
          0.034936,
          10.372316999999997,
          0.101161,
          1038.154241,
          0.06408,
          1.949353,
          36.60942000000001,
          37.10910200000001,
          18.176795000000002,
          1.373535,
          5407.715561999998,
          0.88794,
          2744.571819999999,
          0.7149189999999999,
          0.000205,
          953.9727790000001,
          1242.6265069999995,
          885.7351699999998,
          689.8542389999998,
          532.027587,
          325.7810519999999,
          175.724404,
          237.14288600000006,
          4743.105153999998,
          895.289254,
          434.698113,
          22.250490000000003,
          3231.091530999999,
          3.3187240000000005,
          113.652194,
          183.150185,
          6221.403392000001,
          6.785734,
          19.169217999999994,
          0.5724739999999999,
          3.065799,
          80249.18073800002,
          57.17223200000001,
          90.657584,
          28.069046000000004,
          2678.2850870000007,
          1862.5159780000004,
          273.879142,
          6.072674,
          3.291123,
          4.4457629999999995,
          1940.9156540000004,
          5948.362004999999,
          0.046697,
          38632.509547,
          0.024139,
          2.9999999999999997e-05,
          57.41201799999999,
          629.5533890000002,
          0.217476,
          48.122328,
          513.7290589999999,
          15054.663572000001,
          7316.149033,
          50682.39159700001,
          34.94668399999999,
          5.079122,
          18.846272,
          19015.990432000006,
          380.0592419999999,
          273.06938,
          34.407288,
          362456.13872700004,
          542.7370709999999,
          726.8263879999998,
          2367.651868,
          20854.661095999996,
          30566.063495000002,
          1686.762429,
          53837.61320100001,
          19618.445895,
          6463.563788000001,
          74537.22182199999,
          573657.6857799999
         ]
        }
       ],
       "layout": {
        "coloraxis": {
         "colorbar": {
          "title": {
           "text": "TOT_IMPORT"
          }
         },
         "colorscale": [
          [
           0,
           "#30123b"
          ],
          [
           0.07142857142857142,
           "#4145ab"
          ],
          [
           0.14285714285714285,
           "#4675ed"
          ],
          [
           0.21428571428571427,
           "#39a2fc"
          ],
          [
           0.2857142857142857,
           "#1bcfd4"
          ],
          [
           0.35714285714285715,
           "#24eca6"
          ],
          [
           0.42857142857142855,
           "#61fc6c"
          ],
          [
           0.5,
           "#a4fc3b"
          ],
          [
           0.5714285714285714,
           "#d1e834"
          ],
          [
           0.6428571428571429,
           "#f3c63a"
          ],
          [
           0.7142857142857143,
           "#fe9b2d"
          ],
          [
           0.7857142857142857,
           "#f36315"
          ],
          [
           0.8571428571428571,
           "#d93806"
          ],
          [
           0.9285714285714286,
           "#b11901"
          ],
          [
           1,
           "#7a0402"
          ]
         ]
        },
        "legend": {
         "tracegroupgap": 0
        },
        "margin": {
         "t": 60
        },
        "template": {
         "data": {
          "bar": [
           {
            "error_x": {
             "color": "#2a3f5f"
            },
            "error_y": {
             "color": "#2a3f5f"
            },
            "marker": {
             "line": {
              "color": "#E5ECF6",
              "width": 0.5
             }
            },
            "type": "bar"
           }
          ],
          "barpolar": [
           {
            "marker": {
             "line": {
              "color": "#E5ECF6",
              "width": 0.5
             }
            },
            "type": "barpolar"
           }
          ],
          "carpet": [
           {
            "aaxis": {
             "endlinecolor": "#2a3f5f",
             "gridcolor": "white",
             "linecolor": "white",
             "minorgridcolor": "white",
             "startlinecolor": "#2a3f5f"
            },
            "baxis": {
             "endlinecolor": "#2a3f5f",
             "gridcolor": "white",
             "linecolor": "white",
             "minorgridcolor": "white",
             "startlinecolor": "#2a3f5f"
            },
            "type": "carpet"
           }
          ],
          "choropleth": [
           {
            "colorbar": {
             "outlinewidth": 0,
             "ticks": ""
            },
            "type": "choropleth"
           }
          ],
          "contour": [
           {
            "colorbar": {
             "outlinewidth": 0,
             "ticks": ""
            },
            "colorscale": [
             [
              0,
              "#0d0887"
             ],
             [
              0.1111111111111111,
              "#46039f"
             ],
             [
              0.2222222222222222,
              "#7201a8"
             ],
             [
              0.3333333333333333,
              "#9c179e"
             ],
             [
              0.4444444444444444,
              "#bd3786"
             ],
             [
              0.5555555555555556,
              "#d8576b"
             ],
             [
              0.6666666666666666,
              "#ed7953"
             ],
             [
              0.7777777777777778,
              "#fb9f3a"
             ],
             [
              0.8888888888888888,
              "#fdca26"
             ],
             [
              1,
              "#f0f921"
             ]
            ],
            "type": "contour"
           }
          ],
          "contourcarpet": [
           {
            "colorbar": {
             "outlinewidth": 0,
             "ticks": ""
            },
            "type": "contourcarpet"
           }
          ],
          "heatmap": [
           {
            "colorbar": {
             "outlinewidth": 0,
             "ticks": ""
            },
            "colorscale": [
             [
              0,
              "#0d0887"
             ],
             [
              0.1111111111111111,
              "#46039f"
             ],
             [
              0.2222222222222222,
              "#7201a8"
             ],
             [
              0.3333333333333333,
              "#9c179e"
             ],
             [
              0.4444444444444444,
              "#bd3786"
             ],
             [
              0.5555555555555556,
              "#d8576b"
             ],
             [
              0.6666666666666666,
              "#ed7953"
             ],
             [
              0.7777777777777778,
              "#fb9f3a"
             ],
             [
              0.8888888888888888,
              "#fdca26"
             ],
             [
              1,
              "#f0f921"
             ]
            ],
            "type": "heatmap"
           }
          ],
          "heatmapgl": [
           {
            "colorbar": {
             "outlinewidth": 0,
             "ticks": ""
            },
            "colorscale": [
             [
              0,
              "#0d0887"
             ],
             [
              0.1111111111111111,
              "#46039f"
             ],
             [
              0.2222222222222222,
              "#7201a8"
             ],
             [
              0.3333333333333333,
              "#9c179e"
             ],
             [
              0.4444444444444444,
              "#bd3786"
             ],
             [
              0.5555555555555556,
              "#d8576b"
             ],
             [
              0.6666666666666666,
              "#ed7953"
             ],
             [
              0.7777777777777778,
              "#fb9f3a"
             ],
             [
              0.8888888888888888,
              "#fdca26"
             ],
             [
              1,
              "#f0f921"
             ]
            ],
            "type": "heatmapgl"
           }
          ],
          "histogram": [
           {
            "marker": {
             "colorbar": {
              "outlinewidth": 0,
              "ticks": ""
             }
            },
            "type": "histogram"
           }
          ],
          "histogram2d": [
           {
            "colorbar": {
             "outlinewidth": 0,
             "ticks": ""
            },
            "colorscale": [
             [
              0,
              "#0d0887"
             ],
             [
              0.1111111111111111,
              "#46039f"
             ],
             [
              0.2222222222222222,
              "#7201a8"
             ],
             [
              0.3333333333333333,
              "#9c179e"
             ],
             [
              0.4444444444444444,
              "#bd3786"
             ],
             [
              0.5555555555555556,
              "#d8576b"
             ],
             [
              0.6666666666666666,
              "#ed7953"
             ],
             [
              0.7777777777777778,
              "#fb9f3a"
             ],
             [
              0.8888888888888888,
              "#fdca26"
             ],
             [
              1,
              "#f0f921"
             ]
            ],
            "type": "histogram2d"
           }
          ],
          "histogram2dcontour": [
           {
            "colorbar": {
             "outlinewidth": 0,
             "ticks": ""
            },
            "colorscale": [
             [
              0,
              "#0d0887"
             ],
             [
              0.1111111111111111,
              "#46039f"
             ],
             [
              0.2222222222222222,
              "#7201a8"
             ],
             [
              0.3333333333333333,
              "#9c179e"
             ],
             [
              0.4444444444444444,
              "#bd3786"
             ],
             [
              0.5555555555555556,
              "#d8576b"
             ],
             [
              0.6666666666666666,
              "#ed7953"
             ],
             [
              0.7777777777777778,
              "#fb9f3a"
             ],
             [
              0.8888888888888888,
              "#fdca26"
             ],
             [
              1,
              "#f0f921"
             ]
            ],
            "type": "histogram2dcontour"
           }
          ],
          "mesh3d": [
           {
            "colorbar": {
             "outlinewidth": 0,
             "ticks": ""
            },
            "type": "mesh3d"
           }
          ],
          "parcoords": [
           {
            "line": {
             "colorbar": {
              "outlinewidth": 0,
              "ticks": ""
             }
            },
            "type": "parcoords"
           }
          ],
          "pie": [
           {
            "automargin": true,
            "type": "pie"
           }
          ],
          "scatter": [
           {
            "marker": {
             "colorbar": {
              "outlinewidth": 0,
              "ticks": ""
             }
            },
            "type": "scatter"
           }
          ],
          "scatter3d": [
           {
            "line": {
             "colorbar": {
              "outlinewidth": 0,
              "ticks": ""
             }
            },
            "marker": {
             "colorbar": {
              "outlinewidth": 0,
              "ticks": ""
             }
            },
            "type": "scatter3d"
           }
          ],
          "scattercarpet": [
           {
            "marker": {
             "colorbar": {
              "outlinewidth": 0,
              "ticks": ""
             }
            },
            "type": "scattercarpet"
           }
          ],
          "scattergeo": [
           {
            "marker": {
             "colorbar": {
              "outlinewidth": 0,
              "ticks": ""
             }
            },
            "type": "scattergeo"
           }
          ],
          "scattergl": [
           {
            "marker": {
             "colorbar": {
              "outlinewidth": 0,
              "ticks": ""
             }
            },
            "type": "scattergl"
           }
          ],
          "scattermapbox": [
           {
            "marker": {
             "colorbar": {
              "outlinewidth": 0,
              "ticks": ""
             }
            },
            "type": "scattermapbox"
           }
          ],
          "scatterpolar": [
           {
            "marker": {
             "colorbar": {
              "outlinewidth": 0,
              "ticks": ""
             }
            },
            "type": "scatterpolar"
           }
          ],
          "scatterpolargl": [
           {
            "marker": {
             "colorbar": {
              "outlinewidth": 0,
              "ticks": ""
             }
            },
            "type": "scatterpolargl"
           }
          ],
          "scatterternary": [
           {
            "marker": {
             "colorbar": {
              "outlinewidth": 0,
              "ticks": ""
             }
            },
            "type": "scatterternary"
           }
          ],
          "surface": [
           {
            "colorbar": {
             "outlinewidth": 0,
             "ticks": ""
            },
            "colorscale": [
             [
              0,
              "#0d0887"
             ],
             [
              0.1111111111111111,
              "#46039f"
             ],
             [
              0.2222222222222222,
              "#7201a8"
             ],
             [
              0.3333333333333333,
              "#9c179e"
             ],
             [
              0.4444444444444444,
              "#bd3786"
             ],
             [
              0.5555555555555556,
              "#d8576b"
             ],
             [
              0.6666666666666666,
              "#ed7953"
             ],
             [
              0.7777777777777778,
              "#fb9f3a"
             ],
             [
              0.8888888888888888,
              "#fdca26"
             ],
             [
              1,
              "#f0f921"
             ]
            ],
            "type": "surface"
           }
          ],
          "table": [
           {
            "cells": {
             "fill": {
              "color": "#EBF0F8"
             },
             "line": {
              "color": "white"
             }
            },
            "header": {
             "fill": {
              "color": "#C8D4E3"
             },
             "line": {
              "color": "white"
             }
            },
            "type": "table"
           }
          ]
         },
         "layout": {
          "annotationdefaults": {
           "arrowcolor": "#2a3f5f",
           "arrowhead": 0,
           "arrowwidth": 1
          },
          "coloraxis": {
           "colorbar": {
            "outlinewidth": 0,
            "ticks": ""
           }
          },
          "colorscale": {
           "diverging": [
            [
             0,
             "#8e0152"
            ],
            [
             0.1,
             "#c51b7d"
            ],
            [
             0.2,
             "#de77ae"
            ],
            [
             0.3,
             "#f1b6da"
            ],
            [
             0.4,
             "#fde0ef"
            ],
            [
             0.5,
             "#f7f7f7"
            ],
            [
             0.6,
             "#e6f5d0"
            ],
            [
             0.7,
             "#b8e186"
            ],
            [
             0.8,
             "#7fbc41"
            ],
            [
             0.9,
             "#4d9221"
            ],
            [
             1,
             "#276419"
            ]
           ],
           "sequential": [
            [
             0,
             "#0d0887"
            ],
            [
             0.1111111111111111,
             "#46039f"
            ],
            [
             0.2222222222222222,
             "#7201a8"
            ],
            [
             0.3333333333333333,
             "#9c179e"
            ],
            [
             0.4444444444444444,
             "#bd3786"
            ],
            [
             0.5555555555555556,
             "#d8576b"
            ],
            [
             0.6666666666666666,
             "#ed7953"
            ],
            [
             0.7777777777777778,
             "#fb9f3a"
            ],
            [
             0.8888888888888888,
             "#fdca26"
            ],
            [
             1,
             "#f0f921"
            ]
           ],
           "sequentialminus": [
            [
             0,
             "#0d0887"
            ],
            [
             0.1111111111111111,
             "#46039f"
            ],
            [
             0.2222222222222222,
             "#7201a8"
            ],
            [
             0.3333333333333333,
             "#9c179e"
            ],
            [
             0.4444444444444444,
             "#bd3786"
            ],
            [
             0.5555555555555556,
             "#d8576b"
            ],
            [
             0.6666666666666666,
             "#ed7953"
            ],
            [
             0.7777777777777778,
             "#fb9f3a"
            ],
            [
             0.8888888888888888,
             "#fdca26"
            ],
            [
             1,
             "#f0f921"
            ]
           ]
          },
          "colorway": [
           "#636efa",
           "#EF553B",
           "#00cc96",
           "#ab63fa",
           "#FFA15A",
           "#19d3f3",
           "#FF6692",
           "#B6E880",
           "#FF97FF",
           "#FECB52"
          ],
          "font": {
           "color": "#2a3f5f"
          },
          "geo": {
           "bgcolor": "white",
           "lakecolor": "white",
           "landcolor": "#E5ECF6",
           "showlakes": true,
           "showland": true,
           "subunitcolor": "white"
          },
          "hoverlabel": {
           "align": "left"
          },
          "hovermode": "closest",
          "mapbox": {
           "style": "light"
          },
          "paper_bgcolor": "white",
          "plot_bgcolor": "#E5ECF6",
          "polar": {
           "angularaxis": {
            "gridcolor": "white",
            "linecolor": "white",
            "ticks": ""
           },
           "bgcolor": "#E5ECF6",
           "radialaxis": {
            "gridcolor": "white",
            "linecolor": "white",
            "ticks": ""
           }
          },
          "scene": {
           "xaxis": {
            "backgroundcolor": "#E5ECF6",
            "gridcolor": "white",
            "gridwidth": 2,
            "linecolor": "white",
            "showbackground": true,
            "ticks": "",
            "zerolinecolor": "white"
           },
           "yaxis": {
            "backgroundcolor": "#E5ECF6",
            "gridcolor": "white",
            "gridwidth": 2,
            "linecolor": "white",
            "showbackground": true,
            "ticks": "",
            "zerolinecolor": "white"
           },
           "zaxis": {
            "backgroundcolor": "#E5ECF6",
            "gridcolor": "white",
            "gridwidth": 2,
            "linecolor": "white",
            "showbackground": true,
            "ticks": "",
            "zerolinecolor": "white"
           }
          },
          "shapedefaults": {
           "line": {
            "color": "#2a3f5f"
           }
          },
          "ternary": {
           "aaxis": {
            "gridcolor": "white",
            "linecolor": "white",
            "ticks": ""
           },
           "baxis": {
            "gridcolor": "white",
            "linecolor": "white",
            "ticks": ""
           },
           "bgcolor": "#E5ECF6",
           "caxis": {
            "gridcolor": "white",
            "linecolor": "white",
            "ticks": ""
           }
          },
          "title": {
           "x": 0.05
          },
          "xaxis": {
           "automargin": true,
           "gridcolor": "white",
           "linecolor": "white",
           "ticks": "",
           "title": {
            "standoff": 15
           },
           "zerolinecolor": "white",
           "zerolinewidth": 2
          },
          "yaxis": {
           "automargin": true,
           "gridcolor": "white",
           "linecolor": "white",
           "ticks": "",
           "title": {
            "standoff": 15
           },
           "zerolinecolor": "white",
           "zerolinewidth": 2
          }
         }
        }
       }
      },
      "text/html": [
       "<div>                            <div id=\"34e76fa4-2346-407e-aef9-c51c1d339bf9\" class=\"plotly-graph-div\" style=\"height:525px; width:100%;\"></div>            <script type=\"text/javascript\">                require([\"plotly\"], function(Plotly) {                    window.PLOTLYENV=window.PLOTLYENV || {};                                    if (document.getElementById(\"34e76fa4-2346-407e-aef9-c51c1d339bf9\")) {                    Plotly.newPlot(                        \"34e76fa4-2346-407e-aef9-c51c1d339bf9\",                        [{\"branchvalues\": \"total\", \"customdata\": [[\"AFGHANISTAN\", 3.80964], [\"ALBANIA\", 5.629118999999999], [\"ALGERIA\", 304.740302], [\"AMERICAN SAMOA\", 0.503919], [\"ANDORRA\", 0.010003], [\"ANGOLA\", 157.92619499999998], [\"ARGENTINA\", 4221.944924999999], [\"ARMENIA\", 0.40449900000000005], [\"ARUBA\", 253.035213], [\"AUSTRALIA\", 16491.895539000005], [\"AUSTRIA\", 1553.3354049999998], [\"AZERBAIJAN\", 9.556987], [\"BAHRAIN\", 944.1409099999997], [\"BANGLADESH\", 285.617095], [\"BARBADOS\", 7.153494000000001], [\"BELARUS\", 173.674669], [\"BELGIUM\", 3138.099835], [\"BELIZE\", 1.031042], [\"BENIN\", 12.325216], [\"BERMUDA\", 2.622558], [\"BHUTAN\", 0.11046199999999999], [\"BOTSWANA\", 0.062519], [\"BRAZIL\", 5678.9893470000015], [\"BULGARIA\", 165.65599], [\"BURKINA FASO\", 27.511757], [\"CAMBODIA\", 613.2976809999999], [\"CAMEROON\", 171.879253], [\"CANADA\", 3152.5639319999996], [\"CAPE VERDE\", 0.005611999999999999], [\"CAYMAN ISLANDS\", 0.006569], [\"CHAD\", 0.16773000000000002], [\"CHILE\", 1310.4896800000004], [\"CHINA\", 106264.79411400002], [\"COLOMBIA\", 1219.646531], [\"COMOROS\", 0.316768], [\"COOK ISLANDS\", 0.002616], [\"COSTA RICA\", 5675.806972], [\"COTE D'IVOIRE\", 1068.2291810000002], [\"CROATIA\", 6.527880000000001], [\"CUBA\", 8.535129], [\"CYPRUS\", 127.10375500000004], [\"CZECH REPUBLIC\", 542.6979809999999], [\"DENMARK\", 780.7497569999997], [\"DJIBOUTI\", 9.191265], [\"DOMINICA\", 0.00018899999999999999], [\"DOMINICAN REPUBLIC\", 3.5074890000000005], [\"ECUADOR\", 365.4937679999999], [\"EGYPT\", 585.2931540000003], [\"EL SALVADOR\", 2.4062820000000005], [\"EQUATORIAL GUINEA\", 0.212573], [\"ERITREA\", 0.010817], [\"ESTONIA\", 21.570607000000003], [\"ETHIOPIA\", 15.357212], [\"FAROE ISLANDS\", 0.002132], [\"FIJI\", 7.711691999999998], [\"FINLAND\", 1375.9094650000002], [\"FRANCE\", 13463.178824000002], [\"FRENCH GUIANA\", 0.05663900000000001], [\"FRENCH POLYNESIA\", 0.086689], [\"GABON\", 169.890132], [\"GEORGIA\", 15.083783], [\"GERMANY\", 22912.093564999996], [\"GHANA\", 439.442311], [\"GIBRALTAR\", 0.043973000000000005], [\"GREECE\", 127.43530700000001], [\"GREENLAND\", 0.035114], [\"GRENADA\", 26.382924999999993], [\"GUADELOUPE\", 0.058324], [\"GUAM\", 0.08927999999999998], [\"GUATEMALA\", 6.961786], [\"GUINEA\", 8.124494000000002], [\"GUINEA-BISSAU\", 0.174991], [\"GUYANA\", 9.281768000000001], [\"HAITI\", 2.7311579999999998], [\"HONDURAS\", 1.1431419999999999], [\"HONG KONG\", 10484.882103000002], [\"HUNGARY\", 471.2004160000001], [\"ICELAND\", 20.128490999999997], [\"INDIA\", 16346.491366999999], [\"INDONESIA\", 27943.820354], [\"IRAQ\", 620.799649], [\"IRELAND\", 908.135472], [\"ITALY\", 5872.615934], [\"JAMAICA\", 15.507399], [\"JAPAN\", 56359.91997399998], [\"JORDAN\", 386.606679], [\"KAZAKHSTAN\", 8.528075999999999], [\"KENYA\", 16.557249], [\"KUWAIT\", 2045.8958840000003], [\"KYRGYZSTAN\", 0.50602], [\"LATVIA\", 368.6167409999999], [\"LEBANON\", 39.010322], [\"LESOTHO\", 0.03203], [\"LIBERIA\", 54.570268999999996], [\"LIBYA\", 702.7075349999999], [\"LIECHTENSTEIN\", 0.035335000000000005], [\"LITHUANIA\", 152.549723], [\"LUXEMBOURG\", 138.95200899999998], [\"MADAGASCAR\", 15.921980000000001], [\"MALAWI\", 6.112761], [\"MALAYSIA\", 543.156256], [\"MALDIVES\", 2.397541], [\"MALI\", 28.454603], [\"MALTA\", 93.44938300000003], [\"MARTINIQUE\", 0.238991], [\"MAURITANIA\", 0.034936], [\"MAURITIUS\", 10.372316999999997], [\"MAYOTTE\", 0.10116100000000001], [\"MEXICO\", 1038.154241], [\"MONACO\", 0.06408], [\"MONGOLIA\", 1.949353], [\"MOROCCO\", 36.60942000000001], [\"MOZAMBIQUE\", 37.10910200000001], [\"NAMIBIA\", 18.176795000000002], [\"NEPAL\", 1.373535], [\"NETHERLANDS\", 5407.715561999998], [\"NEW CALEDONIA\", 0.88794], [\"NEW ZEALAND\", 2744.571819999999], [\"NICARAGUA\", 0.7149189999999997], [\"NIGER\", 0.000205], [\"NIGERIA\", 953.9727790000001], [\"NORWAY\", 1242.6265069999995], [\"OMAN\", 885.7351699999998], [\"PAKISTAN\", 689.8542389999998], [\"PANAMA\", 532.027587], [\"PAPUA NEW GUINEA\", 325.7810519999999], [\"PARAGUAY\", 175.724404], [\"PERU\", 237.14288600000006], [\"PHILIPPINES\", 4743.105153999998], [\"POLAND\", 895.289254], [\"PORTUGAL\", 434.698113], [\"PUERTO RICO\", 22.250490000000003], [\"QATAR\", 3231.0915309999987], [\"REUNION\", 3.3187240000000005], [\"ROMANIA\", 113.652194], [\"RWANDA\", 183.150185], [\"SAUDI ARABIA\", 6221.403392], [\"SENEGAL\", 6.785734], [\"SERBIA\", 19.169217999999994], [\"SEYCHELLES\", 0.5724739999999999], [\"SIERRA LEONE\", 3.065799], [\"SINGAPORE\", 80249.18073800002], [\"SLOVAKIA\", 57.17223200000001], [\"SLOVENIA\", 90.657584], [\"SOLOMON ISLANDS\", 28.069046000000007], [\"SOUTH AFRICA\", 2678.2850870000007], [\"SPAIN\", 1862.5159780000004], [\"SRI LANKA\", 273.879142], [\"SUDAN\", 6.072674000000001], [\"SURINAME\", 3.2911230000000002], [\"SWAZILAND\", 4.4457629999999995], [\"SWEDEN\", 1940.9156540000004], [\"SWITZERLAND\", 5948.362004999999], [\"TAJIKISTAN\", 0.046697], [\"THAILAND\", 38632.509547], [\"TOGO\", 0.024139], [\"TONGA\", 2.9999999999999997e-05], [\"TUNISIA\", 57.41201799999999], [\"TURKEY\", 629.5533890000002], [\"TURKMENISTAN\", 0.217476], [\"UGANDA\", 48.122328], [\"UKRAINE\", 513.7290589999999], [\"UNITED ARAB EMIRATES\", 15054.663572000001], [\"UNITED KINGDOM\", 7316.149033], [\"UNITED STATES\", 50682.39159700001], [\"URUGUAY\", 34.94668399999999], [\"UZBEKISTAN\", 5.079122], [\"VANUATU\", 18.846272], [\"VIET NAM\", 19015.990432000006], [\"YEMEN\", 380.0592419999999], [\"ZAMBIA\", 273.06938], [\"ZIMBABWE\", 34.407288], [\"(?)\", 66061.66243038571], [\"(?)\", 294.0927004029658], [\"(?)\", 405.18381390419285], [\"(?)\", 578.7935914306219], [\"(?)\", 4178.631384446447], [\"(?)\", 9250.2472021874], [\"(?)\", 553.645837087627], [\"(?)\", 47896.69026724519], [\"(?)\", 14253.046919017352], [\"(?)\", 1488.349350226557], [\"(?)\", 11852.643055832334], [\"(?)\", 48928.918702774354]], \"domain\": {\"x\": [0.0, 1.0], \"y\": [0.0, 1.0]}, \"hovertemplate\": \"labels=%{label}<br>TOT_IMPORT_sum=%{value}<br>parent=%{parent}<br>id=%{id}<br>COUNTRY=%{customdata[0]}<br>TOT_IMPORT=%{color}<extra></extra>\", \"ids\": [\"world/ASIA (EX. NEAR EAST)         /AFGHANISTAN\", \"world/EASTERN EUROPE                     /ALBANIA\", \"world/NORTHERN AFRICA                    /ALGERIA\", \"world/OCEANIA                            /AMERICAN SAMOA\", \"world/WESTERN EUROPE                     /ANDORRA\", \"world/SUB-SAHARAN AFRICA                 /ANGOLA\", \"world/LATIN AMER. & CARIB    /ARGENTINA\", \"world/C.W. OF IND. STATES /ARMENIA\", \"world/LATIN AMER. & CARIB    /ARUBA\", \"world/OCEANIA                            /AUSTRALIA\", \"world/WESTERN EUROPE                     /AUSTRIA\", \"world/C.W. OF IND. STATES /AZERBAIJAN\", \"world/NEAR EAST                          /BAHRAIN\", \"world/ASIA (EX. NEAR EAST)         /BANGLADESH\", \"world/LATIN AMER. & CARIB    /BARBADOS\", \"world/C.W. OF IND. STATES /BELARUS\", \"world/WESTERN EUROPE                     /BELGIUM\", \"world/LATIN AMER. & CARIB    /BELIZE\", \"world/SUB-SAHARAN AFRICA                 /BENIN\", \"world/NORTHERN AMERICA                   /BERMUDA\", \"world/ASIA (EX. NEAR EAST)         /BHUTAN\", \"world/SUB-SAHARAN AFRICA                 /BOTSWANA\", \"world/LATIN AMER. & CARIB    /BRAZIL\", \"world/EASTERN EUROPE                     /BULGARIA\", \"world/SUB-SAHARAN AFRICA                 /BURKINA FASO\", \"world/ASIA (EX. NEAR EAST)         /CAMBODIA\", \"world/SUB-SAHARAN AFRICA                 /CAMEROON\", \"world/NORTHERN AMERICA                   /CANADA\", \"world/SUB-SAHARAN AFRICA                 /CAPE VERDE\", \"world/LATIN AMER. & CARIB    /CAYMAN ISLANDS\", \"world/SUB-SAHARAN AFRICA                 /CHAD\", \"world/LATIN AMER. & CARIB    /CHILE\", \"world/ASIA (EX. NEAR EAST)         /CHINA\", \"world/LATIN AMER. & CARIB    /COLOMBIA\", \"world/SUB-SAHARAN AFRICA                 /COMOROS\", \"world/OCEANIA                            /COOK ISLANDS\", \"world/LATIN AMER. & CARIB    /COSTA RICA\", \"world/SUB-SAHARAN AFRICA                 /COTE D'IVOIRE\", \"world/EASTERN EUROPE                     /CROATIA\", \"world/LATIN AMER. & CARIB    /CUBA\", \"world/NEAR EAST                          /CYPRUS\", \"world/EASTERN EUROPE                     /CZECH REPUBLIC\", \"world/WESTERN EUROPE                     /DENMARK\", \"world/SUB-SAHARAN AFRICA                 /DJIBOUTI\", \"world/LATIN AMER. & CARIB    /DOMINICA\", \"world/LATIN AMER. & CARIB    /DOMINICAN REPUBLIC\", \"world/LATIN AMER. & CARIB    /ECUADOR\", \"world/NORTHERN AFRICA                    /EGYPT\", \"world/LATIN AMER. & CARIB    /EL SALVADOR\", \"world/SUB-SAHARAN AFRICA                 /EQUATORIAL GUINEA\", \"world/SUB-SAHARAN AFRICA                 /ERITREA\", \"world/BALTICS                            /ESTONIA\", \"world/SUB-SAHARAN AFRICA                 /ETHIOPIA\", \"world/WESTERN EUROPE                     /FAROE ISLANDS\", \"world/OCEANIA                            /FIJI\", \"world/WESTERN EUROPE                     /FINLAND\", \"world/WESTERN EUROPE                     /FRANCE\", \"world/LATIN AMER. & CARIB    /FRENCH GUIANA\", \"world/OCEANIA                            /FRENCH POLYNESIA\", \"world/SUB-SAHARAN AFRICA                 /GABON\", \"world/C.W. OF IND. STATES /GEORGIA\", \"world/WESTERN EUROPE                     /GERMANY\", \"world/SUB-SAHARAN AFRICA                 /GHANA\", \"world/WESTERN EUROPE                     /GIBRALTAR\", \"world/WESTERN EUROPE                     /GREECE\", \"world/NORTHERN AMERICA                   /GREENLAND\", \"world/LATIN AMER. & CARIB    /GRENADA\", \"world/LATIN AMER. & CARIB    /GUADELOUPE\", \"world/OCEANIA                            /GUAM\", \"world/LATIN AMER. & CARIB    /GUATEMALA\", \"world/SUB-SAHARAN AFRICA                 /GUINEA\", \"world/SUB-SAHARAN AFRICA                 /GUINEA-BISSAU\", \"world/LATIN AMER. & CARIB    /GUYANA\", \"world/LATIN AMER. & CARIB    /HAITI\", \"world/LATIN AMER. & CARIB    /HONDURAS\", \"world/ASIA (EX. NEAR EAST)         /HONG KONG\", \"world/EASTERN EUROPE                     /HUNGARY\", \"world/WESTERN EUROPE                     /ICELAND\", \"world/ASIA (EX. NEAR EAST)         /INDIA\", \"world/ASIA (EX. NEAR EAST)         /INDONESIA\", \"world/NEAR EAST                          /IRAQ\", \"world/WESTERN EUROPE                     /IRELAND\", \"world/WESTERN EUROPE                     /ITALY\", \"world/LATIN AMER. & CARIB    /JAMAICA\", \"world/ASIA (EX. NEAR EAST)         /JAPAN\", \"world/NEAR EAST                          /JORDAN\", \"world/C.W. OF IND. STATES /KAZAKHSTAN\", \"world/SUB-SAHARAN AFRICA                 /KENYA\", \"world/NEAR EAST                          /KUWAIT\", \"world/C.W. OF IND. STATES /KYRGYZSTAN\", \"world/BALTICS                            /LATVIA\", \"world/NEAR EAST                          /LEBANON\", \"world/SUB-SAHARAN AFRICA                 /LESOTHO\", \"world/SUB-SAHARAN AFRICA                 /LIBERIA\", \"world/NORTHERN AFRICA                    /LIBYA\", \"world/WESTERN EUROPE                     /LIECHTENSTEIN\", \"world/BALTICS                            /LITHUANIA\", \"world/WESTERN EUROPE                     /LUXEMBOURG\", \"world/SUB-SAHARAN AFRICA                 /MADAGASCAR\", \"world/SUB-SAHARAN AFRICA                 /MALAWI\", \"world/ASIA (EX. NEAR EAST)         /MALAYSIA\", \"world/ASIA (EX. NEAR EAST)         /MALDIVES\", \"world/SUB-SAHARAN AFRICA                 /MALI\", \"world/WESTERN EUROPE                     /MALTA\", \"world/LATIN AMER. & CARIB    /MARTINIQUE\", \"world/SUB-SAHARAN AFRICA                 /MAURITANIA\", \"world/SUB-SAHARAN AFRICA                 /MAURITIUS\", \"world/SUB-SAHARAN AFRICA                 /MAYOTTE\", \"world/LATIN AMER. & CARIB    /MEXICO\", \"world/WESTERN EUROPE                     /MONACO\", \"world/ASIA (EX. NEAR EAST)         /MONGOLIA\", \"world/NORTHERN AFRICA                    /MOROCCO\", \"world/SUB-SAHARAN AFRICA                 /MOZAMBIQUE\", \"world/SUB-SAHARAN AFRICA                 /NAMIBIA\", \"world/ASIA (EX. NEAR EAST)         /NEPAL\", \"world/WESTERN EUROPE                     /NETHERLANDS\", \"world/OCEANIA                            /NEW CALEDONIA\", \"world/OCEANIA                            /NEW ZEALAND\", \"world/LATIN AMER. & CARIB    /NICARAGUA\", \"world/SUB-SAHARAN AFRICA                 /NIGER\", \"world/SUB-SAHARAN AFRICA                 /NIGERIA\", \"world/WESTERN EUROPE                     /NORWAY\", \"world/NEAR EAST                          /OMAN\", \"world/ASIA (EX. NEAR EAST)         /PAKISTAN\", \"world/LATIN AMER. & CARIB    /PANAMA\", \"world/OCEANIA                            /PAPUA NEW GUINEA\", \"world/LATIN AMER. & CARIB    /PARAGUAY\", \"world/LATIN AMER. & CARIB    /PERU\", \"world/ASIA (EX. NEAR EAST)         /PHILIPPINES\", \"world/EASTERN EUROPE                     /POLAND\", \"world/WESTERN EUROPE                     /PORTUGAL\", \"world/LATIN AMER. & CARIB    /PUERTO RICO\", \"world/NEAR EAST                          /QATAR\", \"world/SUB-SAHARAN AFRICA                 /REUNION\", \"world/EASTERN EUROPE                     /ROMANIA\", \"world/SUB-SAHARAN AFRICA                 /RWANDA\", \"world/NEAR EAST                          /SAUDI ARABIA\", \"world/SUB-SAHARAN AFRICA                 /SENEGAL\", \"world/EASTERN EUROPE                     /SERBIA\", \"world/SUB-SAHARAN AFRICA                 /SEYCHELLES\", \"world/SUB-SAHARAN AFRICA                 /SIERRA LEONE\", \"world/ASIA (EX. NEAR EAST)         /SINGAPORE\", \"world/EASTERN EUROPE                     /SLOVAKIA\", \"world/EASTERN EUROPE                     /SLOVENIA\", \"world/OCEANIA                            /SOLOMON ISLANDS\", \"world/SUB-SAHARAN AFRICA                 /SOUTH AFRICA\", \"world/WESTERN EUROPE                     /SPAIN\", \"world/ASIA (EX. NEAR EAST)         /SRI LANKA\", \"world/SUB-SAHARAN AFRICA                 /SUDAN\", \"world/LATIN AMER. & CARIB    /SURINAME\", \"world/SUB-SAHARAN AFRICA                 /SWAZILAND\", \"world/WESTERN EUROPE                     /SWEDEN\", \"world/WESTERN EUROPE                     /SWITZERLAND\", \"world/C.W. OF IND. STATES /TAJIKISTAN\", \"world/ASIA (EX. NEAR EAST)         /THAILAND\", \"world/SUB-SAHARAN AFRICA                 /TOGO\", \"world/OCEANIA                            /TONGA\", \"world/NORTHERN AFRICA                    /TUNISIA\", \"world/NEAR EAST                          /TURKEY\", \"world/C.W. OF IND. STATES /TURKMENISTAN\", \"world/SUB-SAHARAN AFRICA                 /UGANDA\", \"world/C.W. OF IND. STATES /UKRAINE\", \"world/NEAR EAST                          /UNITED ARAB EMIRATES\", \"world/WESTERN EUROPE                     /UNITED KINGDOM\", \"world/NORTHERN AMERICA                   /UNITED STATES\", \"world/LATIN AMER. & CARIB    /URUGUAY\", \"world/C.W. OF IND. STATES /UZBEKISTAN\", \"world/OCEANIA                            /VANUATU\", \"world/ASIA (EX. NEAR EAST)         /VIET NAM\", \"world/NEAR EAST                          /YEMEN\", \"world/SUB-SAHARAN AFRICA                 /ZAMBIA\", \"world/SUB-SAHARAN AFRICA                 /ZIMBABWE\", \"world/ASIA (EX. NEAR EAST)         \", \"world/BALTICS                            \", \"world/C.W. OF IND. STATES \", \"world/EASTERN EUROPE                     \", \"world/LATIN AMER. & CARIB    \", \"world/NEAR EAST                          \", \"world/NORTHERN AFRICA                    \", \"world/NORTHERN AMERICA                   \", \"world/OCEANIA                            \", \"world/SUB-SAHARAN AFRICA                 \", \"world/WESTERN EUROPE                     \", \"world\"], \"labels\": [\"AFGHANISTAN\", \"ALBANIA\", \"ALGERIA\", \"AMERICAN SAMOA\", \"ANDORRA\", \"ANGOLA\", \"ARGENTINA\", \"ARMENIA\", \"ARUBA\", \"AUSTRALIA\", \"AUSTRIA\", \"AZERBAIJAN\", \"BAHRAIN\", \"BANGLADESH\", \"BARBADOS\", \"BELARUS\", \"BELGIUM\", \"BELIZE\", \"BENIN\", \"BERMUDA\", \"BHUTAN\", \"BOTSWANA\", \"BRAZIL\", \"BULGARIA\", \"BURKINA FASO\", \"CAMBODIA\", \"CAMEROON\", \"CANADA\", \"CAPE VERDE\", \"CAYMAN ISLANDS\", \"CHAD\", \"CHILE\", \"CHINA\", \"COLOMBIA\", \"COMOROS\", \"COOK ISLANDS\", \"COSTA RICA\", \"COTE D'IVOIRE\", \"CROATIA\", \"CUBA\", \"CYPRUS\", \"CZECH REPUBLIC\", \"DENMARK\", \"DJIBOUTI\", \"DOMINICA\", \"DOMINICAN REPUBLIC\", \"ECUADOR\", \"EGYPT\", \"EL SALVADOR\", \"EQUATORIAL GUINEA\", \"ERITREA\", \"ESTONIA\", \"ETHIOPIA\", \"FAROE ISLANDS\", \"FIJI\", \"FINLAND\", \"FRANCE\", \"FRENCH GUIANA\", \"FRENCH POLYNESIA\", \"GABON\", \"GEORGIA\", \"GERMANY\", \"GHANA\", \"GIBRALTAR\", \"GREECE\", \"GREENLAND\", \"GRENADA\", \"GUADELOUPE\", \"GUAM\", \"GUATEMALA\", \"GUINEA\", \"GUINEA-BISSAU\", \"GUYANA\", \"HAITI\", \"HONDURAS\", \"HONG KONG\", \"HUNGARY\", \"ICELAND\", \"INDIA\", \"INDONESIA\", \"IRAQ\", \"IRELAND\", \"ITALY\", \"JAMAICA\", \"JAPAN\", \"JORDAN\", \"KAZAKHSTAN\", \"KENYA\", \"KUWAIT\", \"KYRGYZSTAN\", \"LATVIA\", \"LEBANON\", \"LESOTHO\", \"LIBERIA\", \"LIBYA\", \"LIECHTENSTEIN\", \"LITHUANIA\", \"LUXEMBOURG\", \"MADAGASCAR\", \"MALAWI\", \"MALAYSIA\", \"MALDIVES\", \"MALI\", \"MALTA\", \"MARTINIQUE\", \"MAURITANIA\", \"MAURITIUS\", \"MAYOTTE\", \"MEXICO\", \"MONACO\", \"MONGOLIA\", \"MOROCCO\", \"MOZAMBIQUE\", \"NAMIBIA\", \"NEPAL\", \"NETHERLANDS\", \"NEW CALEDONIA\", \"NEW ZEALAND\", \"NICARAGUA\", \"NIGER\", \"NIGERIA\", \"NORWAY\", \"OMAN\", \"PAKISTAN\", \"PANAMA\", \"PAPUA NEW GUINEA\", \"PARAGUAY\", \"PERU\", \"PHILIPPINES\", \"POLAND\", \"PORTUGAL\", \"PUERTO RICO\", \"QATAR\", \"REUNION\", \"ROMANIA\", \"RWANDA\", \"SAUDI ARABIA\", \"SENEGAL\", \"SERBIA\", \"SEYCHELLES\", \"SIERRA LEONE\", \"SINGAPORE\", \"SLOVAKIA\", \"SLOVENIA\", \"SOLOMON ISLANDS\", \"SOUTH AFRICA\", \"SPAIN\", \"SRI LANKA\", \"SUDAN\", \"SURINAME\", \"SWAZILAND\", \"SWEDEN\", \"SWITZERLAND\", \"TAJIKISTAN\", \"THAILAND\", \"TOGO\", \"TONGA\", \"TUNISIA\", \"TURKEY\", \"TURKMENISTAN\", \"UGANDA\", \"UKRAINE\", \"UNITED ARAB EMIRATES\", \"UNITED KINGDOM\", \"UNITED STATES\", \"URUGUAY\", \"UZBEKISTAN\", \"VANUATU\", \"VIET NAM\", \"YEMEN\", \"ZAMBIA\", \"ZIMBABWE\", \"ASIA (EX. NEAR EAST)         \", \"BALTICS                            \", \"C.W. OF IND. STATES \", \"EASTERN EUROPE                     \", \"LATIN AMER. & CARIB    \", \"NEAR EAST                          \", \"NORTHERN AFRICA                    \", \"NORTHERN AMERICA                   \", \"OCEANIA                            \", \"SUB-SAHARAN AFRICA                 \", \"WESTERN EUROPE                     \", \"world\"], \"marker\": {\"coloraxis\": \"coloraxis\", \"colors\": [3.80964, 5.629118999999999, 304.740302, 0.503919, 0.010003, 157.92619499999998, 4221.944924999999, 0.40449900000000005, 253.035213, 16491.895539000005, 1553.3354049999998, 9.556987, 944.1409099999997, 285.617095, 7.153494000000001, 173.674669, 3138.099835, 1.031042, 12.325216, 2.622558, 0.11046199999999999, 0.062519, 5678.9893470000015, 165.65599, 27.511757, 613.2976809999999, 171.879253, 3152.5639319999996, 0.005611999999999999, 0.006569, 0.16773000000000002, 1310.4896800000004, 106264.79411400002, 1219.646531, 0.316768, 0.002616, 5675.806972, 1068.2291810000002, 6.527880000000001, 8.535129, 127.10375500000004, 542.6979809999999, 780.7497569999997, 9.191265, 0.00018899999999999999, 3.5074890000000005, 365.4937679999999, 585.2931540000003, 2.4062820000000005, 0.212573, 0.010817, 21.570607000000003, 15.357212, 0.002132, 7.711691999999998, 1375.9094650000002, 13463.178824000002, 0.05663900000000001, 0.086689, 169.890132, 15.083783, 22912.093564999996, 439.442311, 0.043973000000000005, 127.43530700000001, 0.035114, 26.382924999999993, 0.058324, 0.08927999999999998, 6.961786, 8.124494000000002, 0.174991, 9.281768000000001, 2.7311579999999998, 1.1431419999999999, 10484.882103000002, 471.2004160000001, 20.128490999999997, 16346.491366999999, 27943.820354, 620.799649, 908.135472, 5872.615934, 15.507399, 56359.91997399998, 386.606679, 8.528075999999999, 16.557249, 2045.8958840000003, 0.50602, 368.6167409999999, 39.010322, 0.03203, 54.570268999999996, 702.7075349999999, 0.035335000000000005, 152.549723, 138.95200899999998, 15.921980000000001, 6.112761, 543.156256, 2.397541, 28.454603, 93.44938300000003, 0.238991, 0.034936, 10.372316999999997, 0.10116100000000001, 1038.154241, 0.06408, 1.949353, 36.60942000000001, 37.10910200000001, 18.176795000000002, 1.373535, 5407.715561999998, 0.88794, 2744.571819999999, 0.7149189999999997, 0.000205, 953.9727790000001, 1242.6265069999995, 885.7351699999998, 689.8542389999998, 532.027587, 325.7810519999999, 175.724404, 237.14288600000006, 4743.105153999998, 895.289254, 434.698113, 22.250490000000003, 3231.0915309999987, 3.3187240000000005, 113.652194, 183.150185, 6221.403392, 6.785734, 19.169217999999994, 0.5724739999999999, 3.065799, 80249.18073800002, 57.17223200000001, 90.657584, 28.069046000000007, 2678.2850870000007, 1862.5159780000004, 273.879142, 6.072674000000001, 3.2911230000000002, 4.4457629999999995, 1940.9156540000004, 5948.362004999999, 0.046697, 38632.509547, 0.024139, 2.9999999999999997e-05, 57.41201799999999, 629.5533890000002, 0.217476, 48.122328, 513.7290589999999, 15054.663572000001, 7316.149033, 50682.39159700001, 34.94668399999999, 5.079122, 18.846272, 19015.990432000006, 380.0592419999999, 273.06938, 34.407288, 66061.66243038571, 294.0927004029658, 405.18381390419285, 578.7935914306219, 4178.631384446447, 9250.2472021874, 553.645837087627, 47896.69026724519, 14253.046919017352, 1488.349350226557, 11852.643055832334, 48928.918702774354]}, \"name\": \"\", \"parents\": [\"world/ASIA (EX. NEAR EAST)         \", \"world/EASTERN EUROPE                     \", \"world/NORTHERN AFRICA                    \", \"world/OCEANIA                            \", \"world/WESTERN EUROPE                     \", \"world/SUB-SAHARAN AFRICA                 \", \"world/LATIN AMER. & CARIB    \", \"world/C.W. OF IND. STATES \", \"world/LATIN AMER. & CARIB    \", \"world/OCEANIA                            \", \"world/WESTERN EUROPE                     \", \"world/C.W. OF IND. STATES \", \"world/NEAR EAST                          \", \"world/ASIA (EX. NEAR EAST)         \", \"world/LATIN AMER. & CARIB    \", \"world/C.W. OF IND. STATES \", \"world/WESTERN EUROPE                     \", \"world/LATIN AMER. & CARIB    \", \"world/SUB-SAHARAN AFRICA                 \", \"world/NORTHERN AMERICA                   \", \"world/ASIA (EX. NEAR EAST)         \", \"world/SUB-SAHARAN AFRICA                 \", \"world/LATIN AMER. & CARIB    \", \"world/EASTERN EUROPE                     \", \"world/SUB-SAHARAN AFRICA                 \", \"world/ASIA (EX. NEAR EAST)         \", \"world/SUB-SAHARAN AFRICA                 \", \"world/NORTHERN AMERICA                   \", \"world/SUB-SAHARAN AFRICA                 \", \"world/LATIN AMER. & CARIB    \", \"world/SUB-SAHARAN AFRICA                 \", \"world/LATIN AMER. & CARIB    \", \"world/ASIA (EX. NEAR EAST)         \", \"world/LATIN AMER. & CARIB    \", \"world/SUB-SAHARAN AFRICA                 \", \"world/OCEANIA                            \", \"world/LATIN AMER. & CARIB    \", \"world/SUB-SAHARAN AFRICA                 \", \"world/EASTERN EUROPE                     \", \"world/LATIN AMER. & CARIB    \", \"world/NEAR EAST                          \", \"world/EASTERN EUROPE                     \", \"world/WESTERN EUROPE                     \", \"world/SUB-SAHARAN AFRICA                 \", \"world/LATIN AMER. & CARIB    \", \"world/LATIN AMER. & CARIB    \", \"world/LATIN AMER. & CARIB    \", \"world/NORTHERN AFRICA                    \", \"world/LATIN AMER. & CARIB    \", \"world/SUB-SAHARAN AFRICA                 \", \"world/SUB-SAHARAN AFRICA                 \", \"world/BALTICS                            \", \"world/SUB-SAHARAN AFRICA                 \", \"world/WESTERN EUROPE                     \", \"world/OCEANIA                            \", \"world/WESTERN EUROPE                     \", \"world/WESTERN EUROPE                     \", \"world/LATIN AMER. & CARIB    \", \"world/OCEANIA                            \", \"world/SUB-SAHARAN AFRICA                 \", \"world/C.W. OF IND. STATES \", \"world/WESTERN EUROPE                     \", \"world/SUB-SAHARAN AFRICA                 \", \"world/WESTERN EUROPE                     \", \"world/WESTERN EUROPE                     \", \"world/NORTHERN AMERICA                   \", \"world/LATIN AMER. & CARIB    \", \"world/LATIN AMER. & CARIB    \", \"world/OCEANIA                            \", \"world/LATIN AMER. & CARIB    \", \"world/SUB-SAHARAN AFRICA                 \", \"world/SUB-SAHARAN AFRICA                 \", \"world/LATIN AMER. & CARIB    \", \"world/LATIN AMER. & CARIB    \", \"world/LATIN AMER. & CARIB    \", \"world/ASIA (EX. NEAR EAST)         \", \"world/EASTERN EUROPE                     \", \"world/WESTERN EUROPE                     \", \"world/ASIA (EX. NEAR EAST)         \", \"world/ASIA (EX. NEAR EAST)         \", \"world/NEAR EAST                          \", \"world/WESTERN EUROPE                     \", \"world/WESTERN EUROPE                     \", \"world/LATIN AMER. & CARIB    \", \"world/ASIA (EX. NEAR EAST)         \", \"world/NEAR EAST                          \", \"world/C.W. OF IND. STATES \", \"world/SUB-SAHARAN AFRICA                 \", \"world/NEAR EAST                          \", \"world/C.W. OF IND. STATES \", \"world/BALTICS                            \", \"world/NEAR EAST                          \", \"world/SUB-SAHARAN AFRICA                 \", \"world/SUB-SAHARAN AFRICA                 \", \"world/NORTHERN AFRICA                    \", \"world/WESTERN EUROPE                     \", \"world/BALTICS                            \", \"world/WESTERN EUROPE                     \", \"world/SUB-SAHARAN AFRICA                 \", \"world/SUB-SAHARAN AFRICA                 \", \"world/ASIA (EX. NEAR EAST)         \", \"world/ASIA (EX. NEAR EAST)         \", \"world/SUB-SAHARAN AFRICA                 \", \"world/WESTERN EUROPE                     \", \"world/LATIN AMER. & CARIB    \", \"world/SUB-SAHARAN AFRICA                 \", \"world/SUB-SAHARAN AFRICA                 \", \"world/SUB-SAHARAN AFRICA                 \", \"world/LATIN AMER. & CARIB    \", \"world/WESTERN EUROPE                     \", \"world/ASIA (EX. NEAR EAST)         \", \"world/NORTHERN AFRICA                    \", \"world/SUB-SAHARAN AFRICA                 \", \"world/SUB-SAHARAN AFRICA                 \", \"world/ASIA (EX. NEAR EAST)         \", \"world/WESTERN EUROPE                     \", \"world/OCEANIA                            \", \"world/OCEANIA                            \", \"world/LATIN AMER. & CARIB    \", \"world/SUB-SAHARAN AFRICA                 \", \"world/SUB-SAHARAN AFRICA                 \", \"world/WESTERN EUROPE                     \", \"world/NEAR EAST                          \", \"world/ASIA (EX. NEAR EAST)         \", \"world/LATIN AMER. & CARIB    \", \"world/OCEANIA                            \", \"world/LATIN AMER. & CARIB    \", \"world/LATIN AMER. & CARIB    \", \"world/ASIA (EX. NEAR EAST)         \", \"world/EASTERN EUROPE                     \", \"world/WESTERN EUROPE                     \", \"world/LATIN AMER. & CARIB    \", \"world/NEAR EAST                          \", \"world/SUB-SAHARAN AFRICA                 \", \"world/EASTERN EUROPE                     \", \"world/SUB-SAHARAN AFRICA                 \", \"world/NEAR EAST                          \", \"world/SUB-SAHARAN AFRICA                 \", \"world/EASTERN EUROPE                     \", \"world/SUB-SAHARAN AFRICA                 \", \"world/SUB-SAHARAN AFRICA                 \", \"world/ASIA (EX. NEAR EAST)         \", \"world/EASTERN EUROPE                     \", \"world/EASTERN EUROPE                     \", \"world/OCEANIA                            \", \"world/SUB-SAHARAN AFRICA                 \", \"world/WESTERN EUROPE                     \", \"world/ASIA (EX. NEAR EAST)         \", \"world/SUB-SAHARAN AFRICA                 \", \"world/LATIN AMER. & CARIB    \", \"world/SUB-SAHARAN AFRICA                 \", \"world/WESTERN EUROPE                     \", \"world/WESTERN EUROPE                     \", \"world/C.W. OF IND. STATES \", \"world/ASIA (EX. NEAR EAST)         \", \"world/SUB-SAHARAN AFRICA                 \", \"world/OCEANIA                            \", \"world/NORTHERN AFRICA                    \", \"world/NEAR EAST                          \", \"world/C.W. OF IND. STATES \", \"world/SUB-SAHARAN AFRICA                 \", \"world/C.W. OF IND. STATES \", \"world/NEAR EAST                          \", \"world/WESTERN EUROPE                     \", \"world/NORTHERN AMERICA                   \", \"world/LATIN AMER. & CARIB    \", \"world/C.W. OF IND. STATES \", \"world/OCEANIA                            \", \"world/ASIA (EX. NEAR EAST)         \", \"world/NEAR EAST                          \", \"world/SUB-SAHARAN AFRICA                 \", \"world/SUB-SAHARAN AFRICA                 \", \"world\", \"world\", \"world\", \"world\", \"world\", \"world\", \"world\", \"world\", \"world\", \"world\", \"world\", \"\"], \"type\": \"treemap\", \"values\": [3.80964, 5.629118999999999, 304.740302, 0.503919, 0.010003, 157.92619499999998, 4221.944924999999, 0.404499, 253.035213, 16491.895539000005, 1553.335405, 9.556987, 944.1409099999998, 285.617095, 7.153494000000001, 173.674669, 3138.099835, 1.031042, 12.325216, 2.622558, 0.11046199999999999, 0.062519, 5678.9893470000015, 165.65599, 27.511757, 613.2976809999999, 171.879253, 3152.5639319999996, 0.005612, 0.006569, 0.16773000000000002, 1310.4896800000004, 106264.794114, 1219.646531, 0.316768, 0.002616, 5675.806972, 1068.2291810000002, 6.5278800000000015, 8.535129, 127.10375500000004, 542.6979809999999, 780.7497569999998, 9.191265, 0.00018899999999999999, 3.5074890000000005, 365.49376799999993, 585.2931540000003, 2.4062820000000005, 0.212573, 0.010817, 21.570607000000003, 15.357212, 0.002132, 7.711691999999998, 1375.9094650000002, 13463.178824000002, 0.056639, 0.086689, 169.890132, 15.083783, 22912.093564999996, 439.442311, 0.043973000000000005, 127.43530700000001, 0.035114, 26.382924999999993, 0.058324, 0.08928, 6.961786000000001, 8.124494000000002, 0.174991, 9.281768000000001, 2.7311579999999998, 1.1431419999999999, 10484.882103000002, 471.2004160000001, 20.128490999999997, 16346.491366999999, 27943.820354, 620.799649, 908.135472, 5872.615934, 15.507399, 56359.91997399999, 386.606679, 8.528075999999999, 16.557249, 2045.8958840000003, 0.50602, 368.6167409999999, 39.010322, 0.03203, 54.570268999999996, 702.7075349999999, 0.035335000000000005, 152.549723, 138.95200899999998, 15.921980000000001, 6.112761, 543.156256, 2.397541, 28.454603, 93.44938300000003, 0.238991, 0.034936, 10.372316999999997, 0.101161, 1038.154241, 0.06408, 1.949353, 36.60942000000001, 37.10910200000001, 18.176795000000002, 1.373535, 5407.715561999998, 0.88794, 2744.571819999999, 0.7149189999999999, 0.000205, 953.9727790000001, 1242.6265069999995, 885.7351699999998, 689.8542389999998, 532.027587, 325.7810519999999, 175.724404, 237.14288600000006, 4743.105153999998, 895.289254, 434.698113, 22.250490000000003, 3231.091530999999, 3.3187240000000005, 113.652194, 183.150185, 6221.403392000001, 6.785734, 19.169217999999994, 0.5724739999999999, 3.065799, 80249.18073800002, 57.17223200000001, 90.657584, 28.069046000000004, 2678.2850870000007, 1862.5159780000004, 273.879142, 6.072674, 3.291123, 4.4457629999999995, 1940.9156540000004, 5948.362004999999, 0.046697, 38632.509547, 0.024139, 2.9999999999999997e-05, 57.41201799999999, 629.5533890000002, 0.217476, 48.122328, 513.7290589999999, 15054.663572000001, 7316.149033, 50682.39159700001, 34.94668399999999, 5.079122, 18.846272, 19015.990432000006, 380.0592419999999, 273.06938, 34.407288, 362456.13872700004, 542.7370709999999, 726.8263879999998, 2367.651868, 20854.661095999996, 30566.063495000002, 1686.762429, 53837.61320100001, 19618.445895, 6463.563788000001, 74537.22182199999, 573657.6857799999]}],                        {\"coloraxis\": {\"colorbar\": {\"title\": {\"text\": \"TOT_IMPORT\"}}, \"colorscale\": [[0.0, \"#30123b\"], [0.07142857142857142, \"#4145ab\"], [0.14285714285714285, \"#4675ed\"], [0.21428571428571427, \"#39a2fc\"], [0.2857142857142857, \"#1bcfd4\"], [0.35714285714285715, \"#24eca6\"], [0.42857142857142855, \"#61fc6c\"], [0.5, \"#a4fc3b\"], [0.5714285714285714, \"#d1e834\"], [0.6428571428571429, \"#f3c63a\"], [0.7142857142857143, \"#fe9b2d\"], [0.7857142857142857, \"#f36315\"], [0.8571428571428571, \"#d93806\"], [0.9285714285714286, \"#b11901\"], [1.0, \"#7a0402\"]]}, \"legend\": {\"tracegroupgap\": 0}, \"margin\": {\"t\": 60}, \"template\": {\"data\": {\"bar\": [{\"error_x\": {\"color\": \"#2a3f5f\"}, \"error_y\": {\"color\": \"#2a3f5f\"}, \"marker\": {\"line\": {\"color\": \"#E5ECF6\", \"width\": 0.5}}, \"type\": \"bar\"}], \"barpolar\": [{\"marker\": {\"line\": {\"color\": \"#E5ECF6\", \"width\": 0.5}}, \"type\": \"barpolar\"}], \"carpet\": [{\"aaxis\": {\"endlinecolor\": \"#2a3f5f\", \"gridcolor\": \"white\", \"linecolor\": \"white\", \"minorgridcolor\": \"white\", \"startlinecolor\": \"#2a3f5f\"}, \"baxis\": {\"endlinecolor\": \"#2a3f5f\", \"gridcolor\": \"white\", \"linecolor\": \"white\", \"minorgridcolor\": \"white\", \"startlinecolor\": \"#2a3f5f\"}, \"type\": \"carpet\"}], \"choropleth\": [{\"colorbar\": {\"outlinewidth\": 0, \"ticks\": \"\"}, \"type\": \"choropleth\"}], \"contour\": [{\"colorbar\": {\"outlinewidth\": 0, \"ticks\": \"\"}, \"colorscale\": [[0.0, \"#0d0887\"], [0.1111111111111111, \"#46039f\"], [0.2222222222222222, \"#7201a8\"], [0.3333333333333333, \"#9c179e\"], [0.4444444444444444, \"#bd3786\"], [0.5555555555555556, \"#d8576b\"], [0.6666666666666666, \"#ed7953\"], [0.7777777777777778, \"#fb9f3a\"], [0.8888888888888888, \"#fdca26\"], [1.0, \"#f0f921\"]], \"type\": \"contour\"}], \"contourcarpet\": [{\"colorbar\": {\"outlinewidth\": 0, \"ticks\": \"\"}, \"type\": \"contourcarpet\"}], \"heatmap\": [{\"colorbar\": {\"outlinewidth\": 0, \"ticks\": \"\"}, \"colorscale\": [[0.0, \"#0d0887\"], [0.1111111111111111, \"#46039f\"], [0.2222222222222222, \"#7201a8\"], [0.3333333333333333, \"#9c179e\"], [0.4444444444444444, \"#bd3786\"], [0.5555555555555556, \"#d8576b\"], [0.6666666666666666, \"#ed7953\"], [0.7777777777777778, \"#fb9f3a\"], [0.8888888888888888, \"#fdca26\"], [1.0, \"#f0f921\"]], \"type\": \"heatmap\"}], \"heatmapgl\": [{\"colorbar\": {\"outlinewidth\": 0, \"ticks\": \"\"}, \"colorscale\": [[0.0, \"#0d0887\"], [0.1111111111111111, \"#46039f\"], [0.2222222222222222, \"#7201a8\"], [0.3333333333333333, \"#9c179e\"], [0.4444444444444444, \"#bd3786\"], [0.5555555555555556, \"#d8576b\"], [0.6666666666666666, \"#ed7953\"], [0.7777777777777778, \"#fb9f3a\"], [0.8888888888888888, \"#fdca26\"], [1.0, \"#f0f921\"]], \"type\": \"heatmapgl\"}], \"histogram\": [{\"marker\": {\"colorbar\": {\"outlinewidth\": 0, \"ticks\": \"\"}}, \"type\": \"histogram\"}], \"histogram2d\": [{\"colorbar\": {\"outlinewidth\": 0, \"ticks\": \"\"}, \"colorscale\": [[0.0, \"#0d0887\"], [0.1111111111111111, \"#46039f\"], [0.2222222222222222, \"#7201a8\"], [0.3333333333333333, \"#9c179e\"], [0.4444444444444444, \"#bd3786\"], [0.5555555555555556, \"#d8576b\"], [0.6666666666666666, \"#ed7953\"], [0.7777777777777778, \"#fb9f3a\"], [0.8888888888888888, \"#fdca26\"], [1.0, \"#f0f921\"]], \"type\": \"histogram2d\"}], \"histogram2dcontour\": [{\"colorbar\": {\"outlinewidth\": 0, \"ticks\": \"\"}, \"colorscale\": [[0.0, \"#0d0887\"], [0.1111111111111111, \"#46039f\"], [0.2222222222222222, \"#7201a8\"], [0.3333333333333333, \"#9c179e\"], [0.4444444444444444, \"#bd3786\"], [0.5555555555555556, \"#d8576b\"], [0.6666666666666666, \"#ed7953\"], [0.7777777777777778, \"#fb9f3a\"], [0.8888888888888888, \"#fdca26\"], [1.0, \"#f0f921\"]], \"type\": \"histogram2dcontour\"}], \"mesh3d\": [{\"colorbar\": {\"outlinewidth\": 0, \"ticks\": \"\"}, \"type\": \"mesh3d\"}], \"parcoords\": [{\"line\": {\"colorbar\": {\"outlinewidth\": 0, \"ticks\": \"\"}}, \"type\": \"parcoords\"}], \"pie\": [{\"automargin\": true, \"type\": \"pie\"}], \"scatter\": [{\"marker\": {\"colorbar\": {\"outlinewidth\": 0, \"ticks\": \"\"}}, \"type\": \"scatter\"}], \"scatter3d\": [{\"line\": {\"colorbar\": {\"outlinewidth\": 0, \"ticks\": \"\"}}, \"marker\": {\"colorbar\": {\"outlinewidth\": 0, \"ticks\": \"\"}}, \"type\": \"scatter3d\"}], \"scattercarpet\": [{\"marker\": {\"colorbar\": {\"outlinewidth\": 0, \"ticks\": \"\"}}, \"type\": \"scattercarpet\"}], \"scattergeo\": [{\"marker\": {\"colorbar\": {\"outlinewidth\": 0, \"ticks\": \"\"}}, \"type\": \"scattergeo\"}], \"scattergl\": [{\"marker\": {\"colorbar\": {\"outlinewidth\": 0, \"ticks\": \"\"}}, \"type\": \"scattergl\"}], \"scattermapbox\": [{\"marker\": {\"colorbar\": {\"outlinewidth\": 0, \"ticks\": \"\"}}, \"type\": \"scattermapbox\"}], \"scatterpolar\": [{\"marker\": {\"colorbar\": {\"outlinewidth\": 0, \"ticks\": \"\"}}, \"type\": \"scatterpolar\"}], \"scatterpolargl\": [{\"marker\": {\"colorbar\": {\"outlinewidth\": 0, \"ticks\": \"\"}}, \"type\": \"scatterpolargl\"}], \"scatterternary\": [{\"marker\": {\"colorbar\": {\"outlinewidth\": 0, \"ticks\": \"\"}}, \"type\": \"scatterternary\"}], \"surface\": [{\"colorbar\": {\"outlinewidth\": 0, \"ticks\": \"\"}, \"colorscale\": [[0.0, \"#0d0887\"], [0.1111111111111111, \"#46039f\"], [0.2222222222222222, \"#7201a8\"], [0.3333333333333333, \"#9c179e\"], [0.4444444444444444, \"#bd3786\"], [0.5555555555555556, \"#d8576b\"], [0.6666666666666666, \"#ed7953\"], [0.7777777777777778, \"#fb9f3a\"], [0.8888888888888888, \"#fdca26\"], [1.0, \"#f0f921\"]], \"type\": \"surface\"}], \"table\": [{\"cells\": {\"fill\": {\"color\": \"#EBF0F8\"}, \"line\": {\"color\": \"white\"}}, \"header\": {\"fill\": {\"color\": \"#C8D4E3\"}, \"line\": {\"color\": \"white\"}}, \"type\": \"table\"}]}, \"layout\": {\"annotationdefaults\": {\"arrowcolor\": \"#2a3f5f\", \"arrowhead\": 0, \"arrowwidth\": 1}, \"coloraxis\": {\"colorbar\": {\"outlinewidth\": 0, \"ticks\": \"\"}}, \"colorscale\": {\"diverging\": [[0, \"#8e0152\"], [0.1, \"#c51b7d\"], [0.2, \"#de77ae\"], [0.3, \"#f1b6da\"], [0.4, \"#fde0ef\"], [0.5, \"#f7f7f7\"], [0.6, \"#e6f5d0\"], [0.7, \"#b8e186\"], [0.8, \"#7fbc41\"], [0.9, \"#4d9221\"], [1, \"#276419\"]], \"sequential\": [[0.0, \"#0d0887\"], [0.1111111111111111, \"#46039f\"], [0.2222222222222222, \"#7201a8\"], [0.3333333333333333, \"#9c179e\"], [0.4444444444444444, \"#bd3786\"], [0.5555555555555556, \"#d8576b\"], [0.6666666666666666, \"#ed7953\"], [0.7777777777777778, \"#fb9f3a\"], [0.8888888888888888, \"#fdca26\"], [1.0, \"#f0f921\"]], \"sequentialminus\": [[0.0, \"#0d0887\"], [0.1111111111111111, \"#46039f\"], [0.2222222222222222, \"#7201a8\"], [0.3333333333333333, \"#9c179e\"], [0.4444444444444444, \"#bd3786\"], [0.5555555555555556, \"#d8576b\"], [0.6666666666666666, \"#ed7953\"], [0.7777777777777778, \"#fb9f3a\"], [0.8888888888888888, \"#fdca26\"], [1.0, \"#f0f921\"]]}, \"colorway\": [\"#636efa\", \"#EF553B\", \"#00cc96\", \"#ab63fa\", \"#FFA15A\", \"#19d3f3\", \"#FF6692\", \"#B6E880\", \"#FF97FF\", \"#FECB52\"], \"font\": {\"color\": \"#2a3f5f\"}, \"geo\": {\"bgcolor\": \"white\", \"lakecolor\": \"white\", \"landcolor\": \"#E5ECF6\", \"showlakes\": true, \"showland\": true, \"subunitcolor\": \"white\"}, \"hoverlabel\": {\"align\": \"left\"}, \"hovermode\": \"closest\", \"mapbox\": {\"style\": \"light\"}, \"paper_bgcolor\": \"white\", \"plot_bgcolor\": \"#E5ECF6\", \"polar\": {\"angularaxis\": {\"gridcolor\": \"white\", \"linecolor\": \"white\", \"ticks\": \"\"}, \"bgcolor\": \"#E5ECF6\", \"radialaxis\": {\"gridcolor\": \"white\", \"linecolor\": \"white\", \"ticks\": \"\"}}, \"scene\": {\"xaxis\": {\"backgroundcolor\": \"#E5ECF6\", \"gridcolor\": \"white\", \"gridwidth\": 2, \"linecolor\": \"white\", \"showbackground\": true, \"ticks\": \"\", \"zerolinecolor\": \"white\"}, \"yaxis\": {\"backgroundcolor\": \"#E5ECF6\", \"gridcolor\": \"white\", \"gridwidth\": 2, \"linecolor\": \"white\", \"showbackground\": true, \"ticks\": \"\", \"zerolinecolor\": \"white\"}, \"zaxis\": {\"backgroundcolor\": \"#E5ECF6\", \"gridcolor\": \"white\", \"gridwidth\": 2, \"linecolor\": \"white\", \"showbackground\": true, \"ticks\": \"\", \"zerolinecolor\": \"white\"}}, \"shapedefaults\": {\"line\": {\"color\": \"#2a3f5f\"}}, \"ternary\": {\"aaxis\": {\"gridcolor\": \"white\", \"linecolor\": \"white\", \"ticks\": \"\"}, \"baxis\": {\"gridcolor\": \"white\", \"linecolor\": \"white\", \"ticks\": \"\"}, \"bgcolor\": \"#E5ECF6\", \"caxis\": {\"gridcolor\": \"white\", \"linecolor\": \"white\", \"ticks\": \"\"}}, \"title\": {\"x\": 0.05}, \"xaxis\": {\"automargin\": true, \"gridcolor\": \"white\", \"linecolor\": \"white\", \"ticks\": \"\", \"title\": {\"standoff\": 15}, \"zerolinecolor\": \"white\", \"zerolinewidth\": 2}, \"yaxis\": {\"automargin\": true, \"gridcolor\": \"white\", \"linecolor\": \"white\", \"ticks\": \"\", \"title\": {\"standoff\": 15}, \"zerolinecolor\": \"white\", \"zerolinewidth\": 2}}}},                        {\"responsive\": true}                    ).then(function(){\n",
       "                            \n",
       "var gd = document.getElementById('34e76fa4-2346-407e-aef9-c51c1d339bf9');\n",
       "var x = new MutationObserver(function (mutations, observer) {{\n",
       "        var display = window.getComputedStyle(gd).display;\n",
       "        if (!display || display === 'none') {{\n",
       "            console.log([gd, 'removed!']);\n",
       "            Plotly.purge(gd);\n",
       "            observer.disconnect();\n",
       "        }}\n",
       "}});\n",
       "\n",
       "// Listen for the removal of the full notebook cells\n",
       "var notebookContainer = gd.closest('#notebook-container');\n",
       "if (notebookContainer) {{\n",
       "    x.observe(notebookContainer, {childList: true});\n",
       "}}\n",
       "\n",
       "// Listen for the clearing of the current output cell\n",
       "var outputEl = gd.closest('.output');\n",
       "if (outputEl) {{\n",
       "    x.observe(outputEl, {childList: true});\n",
       "}}\n",
       "\n",
       "                        })                };                });            </script>        </div>"
      ]
     },
     "metadata": {},
     "output_type": "display_data"
    }
   ],
   "source": [
    "table2_import = table2[table2['TOT_IMPORT'] > 0]\n",
    "table2_export = table2[table2['TOT_EXPORT'] > 0]\n",
    "\n",
    "fig = px.treemap(table2_import.query('YEAR == 2013'), path=['world', 'Region','COUNTRY'], values='TOT_IMPORT',\n",
    "                  color='TOT_IMPORT', hover_data=['COUNTRY'],\n",
    "                  color_continuous_scale='turbo')\n",
    "fig.show()"
   ]
  },
  {
   "cell_type": "markdown",
   "metadata": {},
   "source": [
    "## What Did Malaysia Trades Over Time (not suitable)"
   ]
  },
  {
   "cell_type": "code",
   "execution_count": null,
   "metadata": {},
   "outputs": [],
   "source": []
  },
  {
   "cell_type": "code",
   "execution_count": 6,
   "metadata": {},
   "outputs": [
    {
     "data": {
      "application/vnd.plotly.v1+json": {
       "config": {
        "plotlyServerURL": "https://plot.ly"
       },
       "data": [
        {
         "hovertemplate": "1D DESC=FOOD<br>YEAR=%{x}<br>TOTAL IMPORT SITC 1=%{y}<extra></extra>",
         "legendgroup": "FOOD",
         "line": {
          "color": "#636efa"
         },
         "mode": "lines",
         "name": "FOOD",
         "orientation": "v",
         "showlegend": true,
         "stackgroup": "1",
         "type": "scatter",
         "x": [
          2013,
          2014,
          2015,
          2016,
          2017,
          2018,
          2019
         ],
         "xaxis": "x",
         "y": [
          38857.36003400002,
          42642.630298000026,
          45342.62268600002,
          46762.158608000034,
          51287.100734999956,
          50172.85180799999,
          51462.181374999935
         ],
         "yaxis": "y"
        },
        {
         "hovertemplate": "1D DESC=BEVERAGES AND TOBACCO<br>YEAR=%{x}<br>TOTAL IMPORT SITC 1=%{y}<extra></extra>",
         "legendgroup": "BEVERAGES AND TOBACCO",
         "line": {
          "color": "#EF553B"
         },
         "mode": "lines",
         "name": "BEVERAGES AND TOBACCO",
         "orientation": "v",
         "showlegend": true,
         "stackgroup": "1",
         "type": "scatter",
         "x": [
          2013,
          2014,
          2015,
          2016,
          2017,
          2018,
          2019
         ],
         "xaxis": "x",
         "y": [
          4069.289044,
          4049.3254720000023,
          4547.662307999999,
          4534.132963999997,
          3685.7822010000004,
          3818.3819179999996,
          3726.7286780000013
         ],
         "yaxis": "y"
        },
        {
         "hovertemplate": "1D DESC=CRUDE MATERIALS, INEDIBLE<br>YEAR=%{x}<br>TOTAL IMPORT SITC 1=%{y}<extra></extra>",
         "legendgroup": "CRUDE MATERIALS, INEDIBLE",
         "line": {
          "color": "#00cc96"
         },
         "mode": "lines",
         "name": "CRUDE MATERIALS, INEDIBLE",
         "orientation": "v",
         "showlegend": true,
         "stackgroup": "1",
         "type": "scatter",
         "x": [
          2013,
          2014,
          2015,
          2016,
          2017,
          2018,
          2019
         ],
         "xaxis": "x",
         "y": [
          23888.244454999993,
          21991.581289999995,
          22487.596840999988,
          24881.865449999987,
          33687.323254999974,
          36590.262061,
          41777.75387600004
         ],
         "yaxis": "y"
        },
        {
         "hovertemplate": "1D DESC=MINERAL FUELS, LUBRICANTS, ETC.<br>YEAR=%{x}<br>TOTAL IMPORT SITC 1=%{y}<extra></extra>",
         "legendgroup": "MINERAL FUELS, LUBRICANTS, ETC.",
         "line": {
          "color": "#ab63fa"
         },
         "mode": "lines",
         "name": "MINERAL FUELS, LUBRICANTS, ETC.",
         "orientation": "v",
         "showlegend": true,
         "stackgroup": "1",
         "type": "scatter",
         "x": [
          2013,
          2014,
          2015,
          2016,
          2017,
          2018,
          2019
         ],
         "xaxis": "x",
         "y": [
          105022.36317899999,
          114876.466882,
          85148.117287,
          72183.85315000001,
          106807.608963,
          126499.82635600003,
          123544.27885400003
         ],
         "yaxis": "y"
        },
        {
         "hovertemplate": "1D DESC=ANIMAL AND VEGETABLE OILS AND FATS<br>YEAR=%{x}<br>TOTAL IMPORT SITC 1=%{y}<extra></extra>",
         "legendgroup": "ANIMAL AND VEGETABLE OILS AND FATS",
         "line": {
          "color": "#FFA15A"
         },
         "mode": "lines",
         "name": "ANIMAL AND VEGETABLE OILS AND FATS",
         "orientation": "v",
         "showlegend": true,
         "stackgroup": "1",
         "type": "scatter",
         "x": [
          2013,
          2014,
          2015,
          2016,
          2017,
          2018,
          2019
         ],
         "xaxis": "x",
         "y": [
          4117.144985,
          4521.1308229999995,
          6970.915174000002,
          5469.000097999997,
          6772.834854,
          6656.149153000001,
          6564.533032000003
         ],
         "yaxis": "y"
        },
        {
         "hovertemplate": "1D DESC=CHEMICALS<br>YEAR=%{x}<br>TOTAL IMPORT SITC 1=%{y}<extra></extra>",
         "legendgroup": "CHEMICALS",
         "line": {
          "color": "#19d3f3"
         },
         "mode": "lines",
         "name": "CHEMICALS",
         "orientation": "v",
         "showlegend": true,
         "stackgroup": "1",
         "type": "scatter",
         "x": [
          2013,
          2014,
          2015,
          2016,
          2017,
          2018,
          2019
         ],
         "xaxis": "x",
         "y": [
          59415.570777000015,
          65992.52192200007,
          69736.02597799996,
          73570.85364399993,
          86217.2573579999,
          95377.58317799984,
          93237.78943600002
         ],
         "yaxis": "y"
        },
        {
         "hovertemplate": "1D DESC=MANUFACTURED GOODS<br>YEAR=%{x}<br>TOTAL IMPORT SITC 1=%{y}<extra></extra>",
         "legendgroup": "MANUFACTURED GOODS",
         "line": {
          "color": "#FF6692"
         },
         "mode": "lines",
         "name": "MANUFACTURED GOODS",
         "orientation": "v",
         "showlegend": true,
         "stackgroup": "1",
         "type": "scatter",
         "x": [
          2013,
          2014,
          2015,
          2016,
          2017,
          2018,
          2019
         ],
         "xaxis": "x",
         "y": [
          85373.84559100002,
          87418.86816199996,
          89629.327376,
          87914.966543,
          98036.50003400004,
          103044.57383,
          99007.31426299996
         ],
         "yaxis": "y"
        },
        {
         "hovertemplate": "1D DESC=MACHINERY & TRANSPORT EQUIPMENT<br>YEAR=%{x}<br>TOTAL IMPORT SITC 1=%{y}<extra></extra>",
         "legendgroup": "MACHINERY & TRANSPORT EQUIPMENT",
         "line": {
          "color": "#B6E880"
         },
         "mode": "lines",
         "name": "MACHINERY & TRANSPORT EQUIPMENT",
         "orientation": "v",
         "showlegend": true,
         "stackgroup": "1",
         "type": "scatter",
         "x": [
          2013,
          2014,
          2015,
          2016,
          2017,
          2018,
          2019
         ],
         "xaxis": "x",
         "y": [
          276277.9764709997,
          285547.578136,
          297067.28623499995,
          316347.70564600016,
          372857.99432699947,
          381571.4383860004,
          355962.84402699996
         ],
         "yaxis": "y"
        },
        {
         "hovertemplate": "1D DESC=MISCELLANEOUS MANUFACTURED ARTICLES<br>YEAR=%{x}<br>TOTAL IMPORT SITC 1=%{y}<extra></extra>",
         "legendgroup": "MISCELLANEOUS MANUFACTURED ARTICLES",
         "line": {
          "color": "#FF97FF"
         },
         "mode": "lines",
         "name": "MISCELLANEOUS MANUFACTURED ARTICLES",
         "orientation": "v",
         "showlegend": true,
         "stackgroup": "1",
         "type": "scatter",
         "x": [
          2013,
          2014,
          2015,
          2016,
          2017,
          2018,
          2019
         ],
         "xaxis": "x",
         "y": [
          37085.86823499997,
          41774.03062499997,
          50447.30112899997,
          54558.82173300008,
          59905.57610600001,
          59774.81205299993,
          59330.864364999994
         ],
         "yaxis": "y"
        },
        {
         "hovertemplate": "1D DESC=MISCELLANEOUS TRANSACTIONS AND COMMODITIES<br>YEAR=%{x}<br>TOTAL IMPORT SITC 1=%{y}<extra></extra>",
         "legendgroup": "MISCELLANEOUS TRANSACTIONS AND COMMODITIES",
         "line": {
          "color": "#FECB52"
         },
         "mode": "lines",
         "name": "MISCELLANEOUS TRANSACTIONS AND COMMODITIES",
         "orientation": "v",
         "showlegend": true,
         "stackgroup": "1",
         "type": "scatter",
         "x": [
          2013,
          2014,
          2015,
          2016,
          2017,
          2018,
          2019
         ],
         "xaxis": "x",
         "y": [
          14587.210538999994,
          14123.013703999995,
          14400.595560000003,
          12584.956679000004,
          17163.065338,
          16297.094197000004,
          14794.590013999998
         ],
         "yaxis": "y"
        }
       ],
       "layout": {
        "legend": {
         "title": {
          "text": "1D DESC"
         },
         "tracegroupgap": 0
        },
        "margin": {
         "t": 60
        },
        "template": {
         "data": {
          "bar": [
           {
            "error_x": {
             "color": "#2a3f5f"
            },
            "error_y": {
             "color": "#2a3f5f"
            },
            "marker": {
             "line": {
              "color": "#E5ECF6",
              "width": 0.5
             }
            },
            "type": "bar"
           }
          ],
          "barpolar": [
           {
            "marker": {
             "line": {
              "color": "#E5ECF6",
              "width": 0.5
             }
            },
            "type": "barpolar"
           }
          ],
          "carpet": [
           {
            "aaxis": {
             "endlinecolor": "#2a3f5f",
             "gridcolor": "white",
             "linecolor": "white",
             "minorgridcolor": "white",
             "startlinecolor": "#2a3f5f"
            },
            "baxis": {
             "endlinecolor": "#2a3f5f",
             "gridcolor": "white",
             "linecolor": "white",
             "minorgridcolor": "white",
             "startlinecolor": "#2a3f5f"
            },
            "type": "carpet"
           }
          ],
          "choropleth": [
           {
            "colorbar": {
             "outlinewidth": 0,
             "ticks": ""
            },
            "type": "choropleth"
           }
          ],
          "contour": [
           {
            "colorbar": {
             "outlinewidth": 0,
             "ticks": ""
            },
            "colorscale": [
             [
              0,
              "#0d0887"
             ],
             [
              0.1111111111111111,
              "#46039f"
             ],
             [
              0.2222222222222222,
              "#7201a8"
             ],
             [
              0.3333333333333333,
              "#9c179e"
             ],
             [
              0.4444444444444444,
              "#bd3786"
             ],
             [
              0.5555555555555556,
              "#d8576b"
             ],
             [
              0.6666666666666666,
              "#ed7953"
             ],
             [
              0.7777777777777778,
              "#fb9f3a"
             ],
             [
              0.8888888888888888,
              "#fdca26"
             ],
             [
              1,
              "#f0f921"
             ]
            ],
            "type": "contour"
           }
          ],
          "contourcarpet": [
           {
            "colorbar": {
             "outlinewidth": 0,
             "ticks": ""
            },
            "type": "contourcarpet"
           }
          ],
          "heatmap": [
           {
            "colorbar": {
             "outlinewidth": 0,
             "ticks": ""
            },
            "colorscale": [
             [
              0,
              "#0d0887"
             ],
             [
              0.1111111111111111,
              "#46039f"
             ],
             [
              0.2222222222222222,
              "#7201a8"
             ],
             [
              0.3333333333333333,
              "#9c179e"
             ],
             [
              0.4444444444444444,
              "#bd3786"
             ],
             [
              0.5555555555555556,
              "#d8576b"
             ],
             [
              0.6666666666666666,
              "#ed7953"
             ],
             [
              0.7777777777777778,
              "#fb9f3a"
             ],
             [
              0.8888888888888888,
              "#fdca26"
             ],
             [
              1,
              "#f0f921"
             ]
            ],
            "type": "heatmap"
           }
          ],
          "heatmapgl": [
           {
            "colorbar": {
             "outlinewidth": 0,
             "ticks": ""
            },
            "colorscale": [
             [
              0,
              "#0d0887"
             ],
             [
              0.1111111111111111,
              "#46039f"
             ],
             [
              0.2222222222222222,
              "#7201a8"
             ],
             [
              0.3333333333333333,
              "#9c179e"
             ],
             [
              0.4444444444444444,
              "#bd3786"
             ],
             [
              0.5555555555555556,
              "#d8576b"
             ],
             [
              0.6666666666666666,
              "#ed7953"
             ],
             [
              0.7777777777777778,
              "#fb9f3a"
             ],
             [
              0.8888888888888888,
              "#fdca26"
             ],
             [
              1,
              "#f0f921"
             ]
            ],
            "type": "heatmapgl"
           }
          ],
          "histogram": [
           {
            "marker": {
             "colorbar": {
              "outlinewidth": 0,
              "ticks": ""
             }
            },
            "type": "histogram"
           }
          ],
          "histogram2d": [
           {
            "colorbar": {
             "outlinewidth": 0,
             "ticks": ""
            },
            "colorscale": [
             [
              0,
              "#0d0887"
             ],
             [
              0.1111111111111111,
              "#46039f"
             ],
             [
              0.2222222222222222,
              "#7201a8"
             ],
             [
              0.3333333333333333,
              "#9c179e"
             ],
             [
              0.4444444444444444,
              "#bd3786"
             ],
             [
              0.5555555555555556,
              "#d8576b"
             ],
             [
              0.6666666666666666,
              "#ed7953"
             ],
             [
              0.7777777777777778,
              "#fb9f3a"
             ],
             [
              0.8888888888888888,
              "#fdca26"
             ],
             [
              1,
              "#f0f921"
             ]
            ],
            "type": "histogram2d"
           }
          ],
          "histogram2dcontour": [
           {
            "colorbar": {
             "outlinewidth": 0,
             "ticks": ""
            },
            "colorscale": [
             [
              0,
              "#0d0887"
             ],
             [
              0.1111111111111111,
              "#46039f"
             ],
             [
              0.2222222222222222,
              "#7201a8"
             ],
             [
              0.3333333333333333,
              "#9c179e"
             ],
             [
              0.4444444444444444,
              "#bd3786"
             ],
             [
              0.5555555555555556,
              "#d8576b"
             ],
             [
              0.6666666666666666,
              "#ed7953"
             ],
             [
              0.7777777777777778,
              "#fb9f3a"
             ],
             [
              0.8888888888888888,
              "#fdca26"
             ],
             [
              1,
              "#f0f921"
             ]
            ],
            "type": "histogram2dcontour"
           }
          ],
          "mesh3d": [
           {
            "colorbar": {
             "outlinewidth": 0,
             "ticks": ""
            },
            "type": "mesh3d"
           }
          ],
          "parcoords": [
           {
            "line": {
             "colorbar": {
              "outlinewidth": 0,
              "ticks": ""
             }
            },
            "type": "parcoords"
           }
          ],
          "pie": [
           {
            "automargin": true,
            "type": "pie"
           }
          ],
          "scatter": [
           {
            "marker": {
             "colorbar": {
              "outlinewidth": 0,
              "ticks": ""
             }
            },
            "type": "scatter"
           }
          ],
          "scatter3d": [
           {
            "line": {
             "colorbar": {
              "outlinewidth": 0,
              "ticks": ""
             }
            },
            "marker": {
             "colorbar": {
              "outlinewidth": 0,
              "ticks": ""
             }
            },
            "type": "scatter3d"
           }
          ],
          "scattercarpet": [
           {
            "marker": {
             "colorbar": {
              "outlinewidth": 0,
              "ticks": ""
             }
            },
            "type": "scattercarpet"
           }
          ],
          "scattergeo": [
           {
            "marker": {
             "colorbar": {
              "outlinewidth": 0,
              "ticks": ""
             }
            },
            "type": "scattergeo"
           }
          ],
          "scattergl": [
           {
            "marker": {
             "colorbar": {
              "outlinewidth": 0,
              "ticks": ""
             }
            },
            "type": "scattergl"
           }
          ],
          "scattermapbox": [
           {
            "marker": {
             "colorbar": {
              "outlinewidth": 0,
              "ticks": ""
             }
            },
            "type": "scattermapbox"
           }
          ],
          "scatterpolar": [
           {
            "marker": {
             "colorbar": {
              "outlinewidth": 0,
              "ticks": ""
             }
            },
            "type": "scatterpolar"
           }
          ],
          "scatterpolargl": [
           {
            "marker": {
             "colorbar": {
              "outlinewidth": 0,
              "ticks": ""
             }
            },
            "type": "scatterpolargl"
           }
          ],
          "scatterternary": [
           {
            "marker": {
             "colorbar": {
              "outlinewidth": 0,
              "ticks": ""
             }
            },
            "type": "scatterternary"
           }
          ],
          "surface": [
           {
            "colorbar": {
             "outlinewidth": 0,
             "ticks": ""
            },
            "colorscale": [
             [
              0,
              "#0d0887"
             ],
             [
              0.1111111111111111,
              "#46039f"
             ],
             [
              0.2222222222222222,
              "#7201a8"
             ],
             [
              0.3333333333333333,
              "#9c179e"
             ],
             [
              0.4444444444444444,
              "#bd3786"
             ],
             [
              0.5555555555555556,
              "#d8576b"
             ],
             [
              0.6666666666666666,
              "#ed7953"
             ],
             [
              0.7777777777777778,
              "#fb9f3a"
             ],
             [
              0.8888888888888888,
              "#fdca26"
             ],
             [
              1,
              "#f0f921"
             ]
            ],
            "type": "surface"
           }
          ],
          "table": [
           {
            "cells": {
             "fill": {
              "color": "#EBF0F8"
             },
             "line": {
              "color": "white"
             }
            },
            "header": {
             "fill": {
              "color": "#C8D4E3"
             },
             "line": {
              "color": "white"
             }
            },
            "type": "table"
           }
          ]
         },
         "layout": {
          "annotationdefaults": {
           "arrowcolor": "#2a3f5f",
           "arrowhead": 0,
           "arrowwidth": 1
          },
          "coloraxis": {
           "colorbar": {
            "outlinewidth": 0,
            "ticks": ""
           }
          },
          "colorscale": {
           "diverging": [
            [
             0,
             "#8e0152"
            ],
            [
             0.1,
             "#c51b7d"
            ],
            [
             0.2,
             "#de77ae"
            ],
            [
             0.3,
             "#f1b6da"
            ],
            [
             0.4,
             "#fde0ef"
            ],
            [
             0.5,
             "#f7f7f7"
            ],
            [
             0.6,
             "#e6f5d0"
            ],
            [
             0.7,
             "#b8e186"
            ],
            [
             0.8,
             "#7fbc41"
            ],
            [
             0.9,
             "#4d9221"
            ],
            [
             1,
             "#276419"
            ]
           ],
           "sequential": [
            [
             0,
             "#0d0887"
            ],
            [
             0.1111111111111111,
             "#46039f"
            ],
            [
             0.2222222222222222,
             "#7201a8"
            ],
            [
             0.3333333333333333,
             "#9c179e"
            ],
            [
             0.4444444444444444,
             "#bd3786"
            ],
            [
             0.5555555555555556,
             "#d8576b"
            ],
            [
             0.6666666666666666,
             "#ed7953"
            ],
            [
             0.7777777777777778,
             "#fb9f3a"
            ],
            [
             0.8888888888888888,
             "#fdca26"
            ],
            [
             1,
             "#f0f921"
            ]
           ],
           "sequentialminus": [
            [
             0,
             "#0d0887"
            ],
            [
             0.1111111111111111,
             "#46039f"
            ],
            [
             0.2222222222222222,
             "#7201a8"
            ],
            [
             0.3333333333333333,
             "#9c179e"
            ],
            [
             0.4444444444444444,
             "#bd3786"
            ],
            [
             0.5555555555555556,
             "#d8576b"
            ],
            [
             0.6666666666666666,
             "#ed7953"
            ],
            [
             0.7777777777777778,
             "#fb9f3a"
            ],
            [
             0.8888888888888888,
             "#fdca26"
            ],
            [
             1,
             "#f0f921"
            ]
           ]
          },
          "colorway": [
           "#636efa",
           "#EF553B",
           "#00cc96",
           "#ab63fa",
           "#FFA15A",
           "#19d3f3",
           "#FF6692",
           "#B6E880",
           "#FF97FF",
           "#FECB52"
          ],
          "font": {
           "color": "#2a3f5f"
          },
          "geo": {
           "bgcolor": "white",
           "lakecolor": "white",
           "landcolor": "#E5ECF6",
           "showlakes": true,
           "showland": true,
           "subunitcolor": "white"
          },
          "hoverlabel": {
           "align": "left"
          },
          "hovermode": "closest",
          "mapbox": {
           "style": "light"
          },
          "paper_bgcolor": "white",
          "plot_bgcolor": "#E5ECF6",
          "polar": {
           "angularaxis": {
            "gridcolor": "white",
            "linecolor": "white",
            "ticks": ""
           },
           "bgcolor": "#E5ECF6",
           "radialaxis": {
            "gridcolor": "white",
            "linecolor": "white",
            "ticks": ""
           }
          },
          "scene": {
           "xaxis": {
            "backgroundcolor": "#E5ECF6",
            "gridcolor": "white",
            "gridwidth": 2,
            "linecolor": "white",
            "showbackground": true,
            "ticks": "",
            "zerolinecolor": "white"
           },
           "yaxis": {
            "backgroundcolor": "#E5ECF6",
            "gridcolor": "white",
            "gridwidth": 2,
            "linecolor": "white",
            "showbackground": true,
            "ticks": "",
            "zerolinecolor": "white"
           },
           "zaxis": {
            "backgroundcolor": "#E5ECF6",
            "gridcolor": "white",
            "gridwidth": 2,
            "linecolor": "white",
            "showbackground": true,
            "ticks": "",
            "zerolinecolor": "white"
           }
          },
          "shapedefaults": {
           "line": {
            "color": "#2a3f5f"
           }
          },
          "ternary": {
           "aaxis": {
            "gridcolor": "white",
            "linecolor": "white",
            "ticks": ""
           },
           "baxis": {
            "gridcolor": "white",
            "linecolor": "white",
            "ticks": ""
           },
           "bgcolor": "#E5ECF6",
           "caxis": {
            "gridcolor": "white",
            "linecolor": "white",
            "ticks": ""
           }
          },
          "title": {
           "x": 0.05
          },
          "xaxis": {
           "automargin": true,
           "gridcolor": "white",
           "linecolor": "white",
           "ticks": "",
           "title": {
            "standoff": 15
           },
           "zerolinecolor": "white",
           "zerolinewidth": 2
          },
          "yaxis": {
           "automargin": true,
           "gridcolor": "white",
           "linecolor": "white",
           "ticks": "",
           "title": {
            "standoff": 15
           },
           "zerolinecolor": "white",
           "zerolinewidth": 2
          }
         }
        },
        "xaxis": {
         "anchor": "y",
         "domain": [
          0,
          1
         ],
         "title": {
          "text": "YEAR"
         }
        },
        "yaxis": {
         "anchor": "x",
         "domain": [
          0,
          1
         ],
         "title": {
          "text": "TOTAL IMPORT SITC 1"
         }
        }
       }
      },
      "text/html": [
       "<div>                            <div id=\"eed2edd7-3f92-4332-ad48-47a3bebf6c1b\" class=\"plotly-graph-div\" style=\"height:525px; width:100%;\"></div>            <script type=\"text/javascript\">                require([\"plotly\"], function(Plotly) {                    window.PLOTLYENV=window.PLOTLYENV || {};                                    if (document.getElementById(\"eed2edd7-3f92-4332-ad48-47a3bebf6c1b\")) {                    Plotly.newPlot(                        \"eed2edd7-3f92-4332-ad48-47a3bebf6c1b\",                        [{\"hovertemplate\": \"1D DESC=FOOD<br>YEAR=%{x}<br>TOTAL IMPORT SITC 1=%{y}<extra></extra>\", \"legendgroup\": \"FOOD\", \"line\": {\"color\": \"#636efa\"}, \"mode\": \"lines\", \"name\": \"FOOD\", \"orientation\": \"v\", \"showlegend\": true, \"stackgroup\": \"1\", \"type\": \"scatter\", \"x\": [2013, 2014, 2015, 2016, 2017, 2018, 2019], \"xaxis\": \"x\", \"y\": [38857.36003400002, 42642.630298000026, 45342.62268600002, 46762.158608000034, 51287.100734999956, 50172.85180799999, 51462.181374999935], \"yaxis\": \"y\"}, {\"hovertemplate\": \"1D DESC=BEVERAGES AND TOBACCO<br>YEAR=%{x}<br>TOTAL IMPORT SITC 1=%{y}<extra></extra>\", \"legendgroup\": \"BEVERAGES AND TOBACCO\", \"line\": {\"color\": \"#EF553B\"}, \"mode\": \"lines\", \"name\": \"BEVERAGES AND TOBACCO\", \"orientation\": \"v\", \"showlegend\": true, \"stackgroup\": \"1\", \"type\": \"scatter\", \"x\": [2013, 2014, 2015, 2016, 2017, 2018, 2019], \"xaxis\": \"x\", \"y\": [4069.289044, 4049.3254720000023, 4547.662307999999, 4534.132963999997, 3685.7822010000004, 3818.3819179999996, 3726.7286780000013], \"yaxis\": \"y\"}, {\"hovertemplate\": \"1D DESC=CRUDE MATERIALS, INEDIBLE<br>YEAR=%{x}<br>TOTAL IMPORT SITC 1=%{y}<extra></extra>\", \"legendgroup\": \"CRUDE MATERIALS, INEDIBLE\", \"line\": {\"color\": \"#00cc96\"}, \"mode\": \"lines\", \"name\": \"CRUDE MATERIALS, INEDIBLE\", \"orientation\": \"v\", \"showlegend\": true, \"stackgroup\": \"1\", \"type\": \"scatter\", \"x\": [2013, 2014, 2015, 2016, 2017, 2018, 2019], \"xaxis\": \"x\", \"y\": [23888.244454999993, 21991.581289999995, 22487.596840999988, 24881.865449999987, 33687.323254999974, 36590.262061, 41777.75387600004], \"yaxis\": \"y\"}, {\"hovertemplate\": \"1D DESC=MINERAL FUELS, LUBRICANTS, ETC.<br>YEAR=%{x}<br>TOTAL IMPORT SITC 1=%{y}<extra></extra>\", \"legendgroup\": \"MINERAL FUELS, LUBRICANTS, ETC.\", \"line\": {\"color\": \"#ab63fa\"}, \"mode\": \"lines\", \"name\": \"MINERAL FUELS, LUBRICANTS, ETC.\", \"orientation\": \"v\", \"showlegend\": true, \"stackgroup\": \"1\", \"type\": \"scatter\", \"x\": [2013, 2014, 2015, 2016, 2017, 2018, 2019], \"xaxis\": \"x\", \"y\": [105022.36317899999, 114876.466882, 85148.117287, 72183.85315000001, 106807.608963, 126499.82635600003, 123544.27885400003], \"yaxis\": \"y\"}, {\"hovertemplate\": \"1D DESC=ANIMAL AND VEGETABLE OILS AND FATS<br>YEAR=%{x}<br>TOTAL IMPORT SITC 1=%{y}<extra></extra>\", \"legendgroup\": \"ANIMAL AND VEGETABLE OILS AND FATS\", \"line\": {\"color\": \"#FFA15A\"}, \"mode\": \"lines\", \"name\": \"ANIMAL AND VEGETABLE OILS AND FATS\", \"orientation\": \"v\", \"showlegend\": true, \"stackgroup\": \"1\", \"type\": \"scatter\", \"x\": [2013, 2014, 2015, 2016, 2017, 2018, 2019], \"xaxis\": \"x\", \"y\": [4117.144985, 4521.1308229999995, 6970.915174000002, 5469.000097999997, 6772.834854, 6656.149153000001, 6564.533032000003], \"yaxis\": \"y\"}, {\"hovertemplate\": \"1D DESC=CHEMICALS<br>YEAR=%{x}<br>TOTAL IMPORT SITC 1=%{y}<extra></extra>\", \"legendgroup\": \"CHEMICALS\", \"line\": {\"color\": \"#19d3f3\"}, \"mode\": \"lines\", \"name\": \"CHEMICALS\", \"orientation\": \"v\", \"showlegend\": true, \"stackgroup\": \"1\", \"type\": \"scatter\", \"x\": [2013, 2014, 2015, 2016, 2017, 2018, 2019], \"xaxis\": \"x\", \"y\": [59415.570777000015, 65992.52192200007, 69736.02597799996, 73570.85364399993, 86217.2573579999, 95377.58317799984, 93237.78943600002], \"yaxis\": \"y\"}, {\"hovertemplate\": \"1D DESC=MANUFACTURED GOODS<br>YEAR=%{x}<br>TOTAL IMPORT SITC 1=%{y}<extra></extra>\", \"legendgroup\": \"MANUFACTURED GOODS\", \"line\": {\"color\": \"#FF6692\"}, \"mode\": \"lines\", \"name\": \"MANUFACTURED GOODS\", \"orientation\": \"v\", \"showlegend\": true, \"stackgroup\": \"1\", \"type\": \"scatter\", \"x\": [2013, 2014, 2015, 2016, 2017, 2018, 2019], \"xaxis\": \"x\", \"y\": [85373.84559100002, 87418.86816199996, 89629.327376, 87914.966543, 98036.50003400004, 103044.57383, 99007.31426299996], \"yaxis\": \"y\"}, {\"hovertemplate\": \"1D DESC=MACHINERY & TRANSPORT EQUIPMENT<br>YEAR=%{x}<br>TOTAL IMPORT SITC 1=%{y}<extra></extra>\", \"legendgroup\": \"MACHINERY & TRANSPORT EQUIPMENT\", \"line\": {\"color\": \"#B6E880\"}, \"mode\": \"lines\", \"name\": \"MACHINERY & TRANSPORT EQUIPMENT\", \"orientation\": \"v\", \"showlegend\": true, \"stackgroup\": \"1\", \"type\": \"scatter\", \"x\": [2013, 2014, 2015, 2016, 2017, 2018, 2019], \"xaxis\": \"x\", \"y\": [276277.9764709997, 285547.578136, 297067.28623499995, 316347.70564600016, 372857.99432699947, 381571.4383860004, 355962.84402699996], \"yaxis\": \"y\"}, {\"hovertemplate\": \"1D DESC=MISCELLANEOUS MANUFACTURED ARTICLES<br>YEAR=%{x}<br>TOTAL IMPORT SITC 1=%{y}<extra></extra>\", \"legendgroup\": \"MISCELLANEOUS MANUFACTURED ARTICLES\", \"line\": {\"color\": \"#FF97FF\"}, \"mode\": \"lines\", \"name\": \"MISCELLANEOUS MANUFACTURED ARTICLES\", \"orientation\": \"v\", \"showlegend\": true, \"stackgroup\": \"1\", \"type\": \"scatter\", \"x\": [2013, 2014, 2015, 2016, 2017, 2018, 2019], \"xaxis\": \"x\", \"y\": [37085.86823499997, 41774.03062499997, 50447.30112899997, 54558.82173300008, 59905.57610600001, 59774.81205299993, 59330.864364999994], \"yaxis\": \"y\"}, {\"hovertemplate\": \"1D DESC=MISCELLANEOUS TRANSACTIONS AND COMMODITIES<br>YEAR=%{x}<br>TOTAL IMPORT SITC 1=%{y}<extra></extra>\", \"legendgroup\": \"MISCELLANEOUS TRANSACTIONS AND COMMODITIES\", \"line\": {\"color\": \"#FECB52\"}, \"mode\": \"lines\", \"name\": \"MISCELLANEOUS TRANSACTIONS AND COMMODITIES\", \"orientation\": \"v\", \"showlegend\": true, \"stackgroup\": \"1\", \"type\": \"scatter\", \"x\": [2013, 2014, 2015, 2016, 2017, 2018, 2019], \"xaxis\": \"x\", \"y\": [14587.210538999994, 14123.013703999995, 14400.595560000003, 12584.956679000004, 17163.065338, 16297.094197000004, 14794.590013999998], \"yaxis\": \"y\"}],                        {\"legend\": {\"title\": {\"text\": \"1D DESC\"}, \"tracegroupgap\": 0}, \"margin\": {\"t\": 60}, \"template\": {\"data\": {\"bar\": [{\"error_x\": {\"color\": \"#2a3f5f\"}, \"error_y\": {\"color\": \"#2a3f5f\"}, \"marker\": {\"line\": {\"color\": \"#E5ECF6\", \"width\": 0.5}}, \"type\": \"bar\"}], \"barpolar\": [{\"marker\": {\"line\": {\"color\": \"#E5ECF6\", \"width\": 0.5}}, \"type\": \"barpolar\"}], \"carpet\": [{\"aaxis\": {\"endlinecolor\": \"#2a3f5f\", \"gridcolor\": \"white\", \"linecolor\": \"white\", \"minorgridcolor\": \"white\", \"startlinecolor\": \"#2a3f5f\"}, \"baxis\": {\"endlinecolor\": \"#2a3f5f\", \"gridcolor\": \"white\", \"linecolor\": \"white\", \"minorgridcolor\": \"white\", \"startlinecolor\": \"#2a3f5f\"}, \"type\": \"carpet\"}], \"choropleth\": [{\"colorbar\": {\"outlinewidth\": 0, \"ticks\": \"\"}, \"type\": \"choropleth\"}], \"contour\": [{\"colorbar\": {\"outlinewidth\": 0, \"ticks\": \"\"}, \"colorscale\": [[0.0, \"#0d0887\"], [0.1111111111111111, \"#46039f\"], [0.2222222222222222, \"#7201a8\"], [0.3333333333333333, \"#9c179e\"], [0.4444444444444444, \"#bd3786\"], [0.5555555555555556, \"#d8576b\"], [0.6666666666666666, \"#ed7953\"], [0.7777777777777778, \"#fb9f3a\"], [0.8888888888888888, \"#fdca26\"], [1.0, \"#f0f921\"]], \"type\": \"contour\"}], \"contourcarpet\": [{\"colorbar\": {\"outlinewidth\": 0, \"ticks\": \"\"}, \"type\": \"contourcarpet\"}], \"heatmap\": [{\"colorbar\": {\"outlinewidth\": 0, \"ticks\": \"\"}, \"colorscale\": [[0.0, \"#0d0887\"], [0.1111111111111111, \"#46039f\"], [0.2222222222222222, \"#7201a8\"], [0.3333333333333333, \"#9c179e\"], [0.4444444444444444, \"#bd3786\"], [0.5555555555555556, \"#d8576b\"], [0.6666666666666666, \"#ed7953\"], [0.7777777777777778, \"#fb9f3a\"], [0.8888888888888888, \"#fdca26\"], [1.0, \"#f0f921\"]], \"type\": \"heatmap\"}], \"heatmapgl\": [{\"colorbar\": {\"outlinewidth\": 0, \"ticks\": \"\"}, \"colorscale\": [[0.0, \"#0d0887\"], [0.1111111111111111, \"#46039f\"], [0.2222222222222222, \"#7201a8\"], [0.3333333333333333, \"#9c179e\"], [0.4444444444444444, \"#bd3786\"], [0.5555555555555556, \"#d8576b\"], [0.6666666666666666, \"#ed7953\"], [0.7777777777777778, \"#fb9f3a\"], [0.8888888888888888, \"#fdca26\"], [1.0, \"#f0f921\"]], \"type\": \"heatmapgl\"}], \"histogram\": [{\"marker\": {\"colorbar\": {\"outlinewidth\": 0, \"ticks\": \"\"}}, \"type\": \"histogram\"}], \"histogram2d\": [{\"colorbar\": {\"outlinewidth\": 0, \"ticks\": \"\"}, \"colorscale\": [[0.0, \"#0d0887\"], [0.1111111111111111, \"#46039f\"], [0.2222222222222222, \"#7201a8\"], [0.3333333333333333, \"#9c179e\"], [0.4444444444444444, \"#bd3786\"], [0.5555555555555556, \"#d8576b\"], [0.6666666666666666, \"#ed7953\"], [0.7777777777777778, \"#fb9f3a\"], [0.8888888888888888, \"#fdca26\"], [1.0, \"#f0f921\"]], \"type\": \"histogram2d\"}], \"histogram2dcontour\": [{\"colorbar\": {\"outlinewidth\": 0, \"ticks\": \"\"}, \"colorscale\": [[0.0, \"#0d0887\"], [0.1111111111111111, \"#46039f\"], [0.2222222222222222, \"#7201a8\"], [0.3333333333333333, \"#9c179e\"], [0.4444444444444444, \"#bd3786\"], [0.5555555555555556, \"#d8576b\"], [0.6666666666666666, \"#ed7953\"], [0.7777777777777778, \"#fb9f3a\"], [0.8888888888888888, \"#fdca26\"], [1.0, \"#f0f921\"]], \"type\": \"histogram2dcontour\"}], \"mesh3d\": [{\"colorbar\": {\"outlinewidth\": 0, \"ticks\": \"\"}, \"type\": \"mesh3d\"}], \"parcoords\": [{\"line\": {\"colorbar\": {\"outlinewidth\": 0, \"ticks\": \"\"}}, \"type\": \"parcoords\"}], \"pie\": [{\"automargin\": true, \"type\": \"pie\"}], \"scatter\": [{\"marker\": {\"colorbar\": {\"outlinewidth\": 0, \"ticks\": \"\"}}, \"type\": \"scatter\"}], \"scatter3d\": [{\"line\": {\"colorbar\": {\"outlinewidth\": 0, \"ticks\": \"\"}}, \"marker\": {\"colorbar\": {\"outlinewidth\": 0, \"ticks\": \"\"}}, \"type\": \"scatter3d\"}], \"scattercarpet\": [{\"marker\": {\"colorbar\": {\"outlinewidth\": 0, \"ticks\": \"\"}}, \"type\": \"scattercarpet\"}], \"scattergeo\": [{\"marker\": {\"colorbar\": {\"outlinewidth\": 0, \"ticks\": \"\"}}, \"type\": \"scattergeo\"}], \"scattergl\": [{\"marker\": {\"colorbar\": {\"outlinewidth\": 0, \"ticks\": \"\"}}, \"type\": \"scattergl\"}], \"scattermapbox\": [{\"marker\": {\"colorbar\": {\"outlinewidth\": 0, \"ticks\": \"\"}}, \"type\": \"scattermapbox\"}], \"scatterpolar\": [{\"marker\": {\"colorbar\": {\"outlinewidth\": 0, \"ticks\": \"\"}}, \"type\": \"scatterpolar\"}], \"scatterpolargl\": [{\"marker\": {\"colorbar\": {\"outlinewidth\": 0, \"ticks\": \"\"}}, \"type\": \"scatterpolargl\"}], \"scatterternary\": [{\"marker\": {\"colorbar\": {\"outlinewidth\": 0, \"ticks\": \"\"}}, \"type\": \"scatterternary\"}], \"surface\": [{\"colorbar\": {\"outlinewidth\": 0, \"ticks\": \"\"}, \"colorscale\": [[0.0, \"#0d0887\"], [0.1111111111111111, \"#46039f\"], [0.2222222222222222, \"#7201a8\"], [0.3333333333333333, \"#9c179e\"], [0.4444444444444444, \"#bd3786\"], [0.5555555555555556, \"#d8576b\"], [0.6666666666666666, \"#ed7953\"], [0.7777777777777778, \"#fb9f3a\"], [0.8888888888888888, \"#fdca26\"], [1.0, \"#f0f921\"]], \"type\": \"surface\"}], \"table\": [{\"cells\": {\"fill\": {\"color\": \"#EBF0F8\"}, \"line\": {\"color\": \"white\"}}, \"header\": {\"fill\": {\"color\": \"#C8D4E3\"}, \"line\": {\"color\": \"white\"}}, \"type\": \"table\"}]}, \"layout\": {\"annotationdefaults\": {\"arrowcolor\": \"#2a3f5f\", \"arrowhead\": 0, \"arrowwidth\": 1}, \"coloraxis\": {\"colorbar\": {\"outlinewidth\": 0, \"ticks\": \"\"}}, \"colorscale\": {\"diverging\": [[0, \"#8e0152\"], [0.1, \"#c51b7d\"], [0.2, \"#de77ae\"], [0.3, \"#f1b6da\"], [0.4, \"#fde0ef\"], [0.5, \"#f7f7f7\"], [0.6, \"#e6f5d0\"], [0.7, \"#b8e186\"], [0.8, \"#7fbc41\"], [0.9, \"#4d9221\"], [1, \"#276419\"]], \"sequential\": [[0.0, \"#0d0887\"], [0.1111111111111111, \"#46039f\"], [0.2222222222222222, \"#7201a8\"], [0.3333333333333333, \"#9c179e\"], [0.4444444444444444, \"#bd3786\"], [0.5555555555555556, \"#d8576b\"], [0.6666666666666666, \"#ed7953\"], [0.7777777777777778, \"#fb9f3a\"], [0.8888888888888888, \"#fdca26\"], [1.0, \"#f0f921\"]], \"sequentialminus\": [[0.0, \"#0d0887\"], [0.1111111111111111, \"#46039f\"], [0.2222222222222222, \"#7201a8\"], [0.3333333333333333, \"#9c179e\"], [0.4444444444444444, \"#bd3786\"], [0.5555555555555556, \"#d8576b\"], [0.6666666666666666, \"#ed7953\"], [0.7777777777777778, \"#fb9f3a\"], [0.8888888888888888, \"#fdca26\"], [1.0, \"#f0f921\"]]}, \"colorway\": [\"#636efa\", \"#EF553B\", \"#00cc96\", \"#ab63fa\", \"#FFA15A\", \"#19d3f3\", \"#FF6692\", \"#B6E880\", \"#FF97FF\", \"#FECB52\"], \"font\": {\"color\": \"#2a3f5f\"}, \"geo\": {\"bgcolor\": \"white\", \"lakecolor\": \"white\", \"landcolor\": \"#E5ECF6\", \"showlakes\": true, \"showland\": true, \"subunitcolor\": \"white\"}, \"hoverlabel\": {\"align\": \"left\"}, \"hovermode\": \"closest\", \"mapbox\": {\"style\": \"light\"}, \"paper_bgcolor\": \"white\", \"plot_bgcolor\": \"#E5ECF6\", \"polar\": {\"angularaxis\": {\"gridcolor\": \"white\", \"linecolor\": \"white\", \"ticks\": \"\"}, \"bgcolor\": \"#E5ECF6\", \"radialaxis\": {\"gridcolor\": \"white\", \"linecolor\": \"white\", \"ticks\": \"\"}}, \"scene\": {\"xaxis\": {\"backgroundcolor\": \"#E5ECF6\", \"gridcolor\": \"white\", \"gridwidth\": 2, \"linecolor\": \"white\", \"showbackground\": true, \"ticks\": \"\", \"zerolinecolor\": \"white\"}, \"yaxis\": {\"backgroundcolor\": \"#E5ECF6\", \"gridcolor\": \"white\", \"gridwidth\": 2, \"linecolor\": \"white\", \"showbackground\": true, \"ticks\": \"\", \"zerolinecolor\": \"white\"}, \"zaxis\": {\"backgroundcolor\": \"#E5ECF6\", \"gridcolor\": \"white\", \"gridwidth\": 2, \"linecolor\": \"white\", \"showbackground\": true, \"ticks\": \"\", \"zerolinecolor\": \"white\"}}, \"shapedefaults\": {\"line\": {\"color\": \"#2a3f5f\"}}, \"ternary\": {\"aaxis\": {\"gridcolor\": \"white\", \"linecolor\": \"white\", \"ticks\": \"\"}, \"baxis\": {\"gridcolor\": \"white\", \"linecolor\": \"white\", \"ticks\": \"\"}, \"bgcolor\": \"#E5ECF6\", \"caxis\": {\"gridcolor\": \"white\", \"linecolor\": \"white\", \"ticks\": \"\"}}, \"title\": {\"x\": 0.05}, \"xaxis\": {\"automargin\": true, \"gridcolor\": \"white\", \"linecolor\": \"white\", \"ticks\": \"\", \"title\": {\"standoff\": 15}, \"zerolinecolor\": \"white\", \"zerolinewidth\": 2}, \"yaxis\": {\"automargin\": true, \"gridcolor\": \"white\", \"linecolor\": \"white\", \"ticks\": \"\", \"title\": {\"standoff\": 15}, \"zerolinecolor\": \"white\", \"zerolinewidth\": 2}}}, \"xaxis\": {\"anchor\": \"y\", \"domain\": [0.0, 1.0], \"title\": {\"text\": \"YEAR\"}}, \"yaxis\": {\"anchor\": \"x\", \"domain\": [0.0, 1.0], \"title\": {\"text\": \"TOTAL IMPORT SITC 1\"}}},                        {\"responsive\": true}                    ).then(function(){\n",
       "                            \n",
       "var gd = document.getElementById('eed2edd7-3f92-4332-ad48-47a3bebf6c1b');\n",
       "var x = new MutationObserver(function (mutations, observer) {{\n",
       "        var display = window.getComputedStyle(gd).display;\n",
       "        if (!display || display === 'none') {{\n",
       "            console.log([gd, 'removed!']);\n",
       "            Plotly.purge(gd);\n",
       "            observer.disconnect();\n",
       "        }}\n",
       "}});\n",
       "\n",
       "// Listen for the removal of the full notebook cells\n",
       "var notebookContainer = gd.closest('#notebook-container');\n",
       "if (notebookContainer) {{\n",
       "    x.observe(notebookContainer, {childList: true});\n",
       "}}\n",
       "\n",
       "// Listen for the clearing of the current output cell\n",
       "var outputEl = gd.closest('.output');\n",
       "if (outputEl) {{\n",
       "    x.observe(outputEl, {childList: true});\n",
       "}}\n",
       "\n",
       "                        })                };                });            </script>        </div>"
      ]
     },
     "metadata": {},
     "output_type": "display_data"
    }
   ],
   "source": [
    "fig = px.area(table1, x=\"YEAR\", y=\"TOTAL IMPORT SITC 1\", color=\"1D DESC\")\n",
    "fig.show()"
   ]
  },
  {
   "cell_type": "markdown",
   "metadata": {},
   "source": [
    "## How Product Categories Behave?"
   ]
  },
  {
   "cell_type": "code",
   "execution_count": 7,
   "metadata": {},
   "outputs": [
    {
     "data": {
      "application/vnd.plotly.v1+json": {
       "config": {
        "plotlyServerURL": "https://plot.ly"
       },
       "data": [
        {
         "type": "heatmap",
         "z": [
          [
           1,
           -0.4695032888133503,
           0.8227777514605774,
           0.2745394979136069,
           0.8371389016585165,
           0.9404574704577686,
           0.8756478735731659,
           0.927257092879192,
           0.981984120594952,
           0.48962795129955283
          ],
          [
           -0.4695032888133503,
           1,
           -0.7593071541525218,
           -0.8726491008414338,
           -0.16486407319586466,
           -0.6140226581532948,
           -0.6949291881724237,
           -0.6410524733766501,
           -0.344407509212034,
           -0.7729849848502419
          ],
          [
           0.8227777514605774,
           -0.7593071541525218,
           1,
           0.6381887082901384,
           0.5759980013379135,
           0.9262944058347808,
           0.9027811597896049,
           0.8702034301075273,
           0.768335023070424,
           0.5607982221786597
          ],
          [
           0.2745394979136069,
           -0.8726491008414338,
           0.6381887082901384,
           1,
           0.06706968959004432,
           0.5144502956937921,
           0.6212942768683504,
           0.4503630406604707,
           0.14745146357269182,
           0.6186206729236396
          ],
          [
           0.8371389016585165,
           -0.16486407319586466,
           0.5759980013379135,
           0.06706968959004432,
           1,
           0.7446455001400615,
           0.7373062864570584,
           0.7280390425777648,
           0.8577845434734509,
           0.48200832685460204
          ],
          [
           0.9404574704577686,
           -0.6140226581532948,
           0.9262944058347808,
           0.5144502956937921,
           0.7446455001400615,
           1,
           0.970892146923794,
           0.962709290307503,
           0.9173379772654108,
           0.5628786313045997
          ],
          [
           0.8756478735731659,
           -0.6949291881724237,
           0.9027811597896049,
           0.6212942768683504,
           0.7373062864570584,
           0.970892146923794,
           1,
           0.9588781446475855,
           0.8444695872450958,
           0.7230885036690706
          ],
          [
           0.927257092879192,
           -0.6410524733766501,
           0.8702034301075273,
           0.4503630406604707,
           0.7280390425777648,
           0.962709290307503,
           0.9588781446475855,
           1,
           0.9167689119816319,
           0.6827160656618805
          ],
          [
           0.981984120594952,
           -0.344407509212034,
           0.768335023070424,
           0.14745146357269182,
           0.8577845434734509,
           0.9173379772654108,
           0.8444695872450958,
           0.9167689119816319,
           1,
           0.42738160065794284
          ],
          [
           0.48962795129955283,
           -0.7729849848502419,
           0.5607982221786597,
           0.6186206729236396,
           0.48200832685460204,
           0.5628786313045997,
           0.7230885036690706,
           0.6827160656618805,
           0.42738160065794284,
           1
          ]
         ]
        }
       ],
       "layout": {
        "template": {
         "data": {
          "bar": [
           {
            "error_x": {
             "color": "#2a3f5f"
            },
            "error_y": {
             "color": "#2a3f5f"
            },
            "marker": {
             "line": {
              "color": "#E5ECF6",
              "width": 0.5
             }
            },
            "type": "bar"
           }
          ],
          "barpolar": [
           {
            "marker": {
             "line": {
              "color": "#E5ECF6",
              "width": 0.5
             }
            },
            "type": "barpolar"
           }
          ],
          "carpet": [
           {
            "aaxis": {
             "endlinecolor": "#2a3f5f",
             "gridcolor": "white",
             "linecolor": "white",
             "minorgridcolor": "white",
             "startlinecolor": "#2a3f5f"
            },
            "baxis": {
             "endlinecolor": "#2a3f5f",
             "gridcolor": "white",
             "linecolor": "white",
             "minorgridcolor": "white",
             "startlinecolor": "#2a3f5f"
            },
            "type": "carpet"
           }
          ],
          "choropleth": [
           {
            "colorbar": {
             "outlinewidth": 0,
             "ticks": ""
            },
            "type": "choropleth"
           }
          ],
          "contour": [
           {
            "colorbar": {
             "outlinewidth": 0,
             "ticks": ""
            },
            "colorscale": [
             [
              0,
              "#0d0887"
             ],
             [
              0.1111111111111111,
              "#46039f"
             ],
             [
              0.2222222222222222,
              "#7201a8"
             ],
             [
              0.3333333333333333,
              "#9c179e"
             ],
             [
              0.4444444444444444,
              "#bd3786"
             ],
             [
              0.5555555555555556,
              "#d8576b"
             ],
             [
              0.6666666666666666,
              "#ed7953"
             ],
             [
              0.7777777777777778,
              "#fb9f3a"
             ],
             [
              0.8888888888888888,
              "#fdca26"
             ],
             [
              1,
              "#f0f921"
             ]
            ],
            "type": "contour"
           }
          ],
          "contourcarpet": [
           {
            "colorbar": {
             "outlinewidth": 0,
             "ticks": ""
            },
            "type": "contourcarpet"
           }
          ],
          "heatmap": [
           {
            "colorbar": {
             "outlinewidth": 0,
             "ticks": ""
            },
            "colorscale": [
             [
              0,
              "#0d0887"
             ],
             [
              0.1111111111111111,
              "#46039f"
             ],
             [
              0.2222222222222222,
              "#7201a8"
             ],
             [
              0.3333333333333333,
              "#9c179e"
             ],
             [
              0.4444444444444444,
              "#bd3786"
             ],
             [
              0.5555555555555556,
              "#d8576b"
             ],
             [
              0.6666666666666666,
              "#ed7953"
             ],
             [
              0.7777777777777778,
              "#fb9f3a"
             ],
             [
              0.8888888888888888,
              "#fdca26"
             ],
             [
              1,
              "#f0f921"
             ]
            ],
            "type": "heatmap"
           }
          ],
          "heatmapgl": [
           {
            "colorbar": {
             "outlinewidth": 0,
             "ticks": ""
            },
            "colorscale": [
             [
              0,
              "#0d0887"
             ],
             [
              0.1111111111111111,
              "#46039f"
             ],
             [
              0.2222222222222222,
              "#7201a8"
             ],
             [
              0.3333333333333333,
              "#9c179e"
             ],
             [
              0.4444444444444444,
              "#bd3786"
             ],
             [
              0.5555555555555556,
              "#d8576b"
             ],
             [
              0.6666666666666666,
              "#ed7953"
             ],
             [
              0.7777777777777778,
              "#fb9f3a"
             ],
             [
              0.8888888888888888,
              "#fdca26"
             ],
             [
              1,
              "#f0f921"
             ]
            ],
            "type": "heatmapgl"
           }
          ],
          "histogram": [
           {
            "marker": {
             "colorbar": {
              "outlinewidth": 0,
              "ticks": ""
             }
            },
            "type": "histogram"
           }
          ],
          "histogram2d": [
           {
            "colorbar": {
             "outlinewidth": 0,
             "ticks": ""
            },
            "colorscale": [
             [
              0,
              "#0d0887"
             ],
             [
              0.1111111111111111,
              "#46039f"
             ],
             [
              0.2222222222222222,
              "#7201a8"
             ],
             [
              0.3333333333333333,
              "#9c179e"
             ],
             [
              0.4444444444444444,
              "#bd3786"
             ],
             [
              0.5555555555555556,
              "#d8576b"
             ],
             [
              0.6666666666666666,
              "#ed7953"
             ],
             [
              0.7777777777777778,
              "#fb9f3a"
             ],
             [
              0.8888888888888888,
              "#fdca26"
             ],
             [
              1,
              "#f0f921"
             ]
            ],
            "type": "histogram2d"
           }
          ],
          "histogram2dcontour": [
           {
            "colorbar": {
             "outlinewidth": 0,
             "ticks": ""
            },
            "colorscale": [
             [
              0,
              "#0d0887"
             ],
             [
              0.1111111111111111,
              "#46039f"
             ],
             [
              0.2222222222222222,
              "#7201a8"
             ],
             [
              0.3333333333333333,
              "#9c179e"
             ],
             [
              0.4444444444444444,
              "#bd3786"
             ],
             [
              0.5555555555555556,
              "#d8576b"
             ],
             [
              0.6666666666666666,
              "#ed7953"
             ],
             [
              0.7777777777777778,
              "#fb9f3a"
             ],
             [
              0.8888888888888888,
              "#fdca26"
             ],
             [
              1,
              "#f0f921"
             ]
            ],
            "type": "histogram2dcontour"
           }
          ],
          "mesh3d": [
           {
            "colorbar": {
             "outlinewidth": 0,
             "ticks": ""
            },
            "type": "mesh3d"
           }
          ],
          "parcoords": [
           {
            "line": {
             "colorbar": {
              "outlinewidth": 0,
              "ticks": ""
             }
            },
            "type": "parcoords"
           }
          ],
          "pie": [
           {
            "automargin": true,
            "type": "pie"
           }
          ],
          "scatter": [
           {
            "marker": {
             "colorbar": {
              "outlinewidth": 0,
              "ticks": ""
             }
            },
            "type": "scatter"
           }
          ],
          "scatter3d": [
           {
            "line": {
             "colorbar": {
              "outlinewidth": 0,
              "ticks": ""
             }
            },
            "marker": {
             "colorbar": {
              "outlinewidth": 0,
              "ticks": ""
             }
            },
            "type": "scatter3d"
           }
          ],
          "scattercarpet": [
           {
            "marker": {
             "colorbar": {
              "outlinewidth": 0,
              "ticks": ""
             }
            },
            "type": "scattercarpet"
           }
          ],
          "scattergeo": [
           {
            "marker": {
             "colorbar": {
              "outlinewidth": 0,
              "ticks": ""
             }
            },
            "type": "scattergeo"
           }
          ],
          "scattergl": [
           {
            "marker": {
             "colorbar": {
              "outlinewidth": 0,
              "ticks": ""
             }
            },
            "type": "scattergl"
           }
          ],
          "scattermapbox": [
           {
            "marker": {
             "colorbar": {
              "outlinewidth": 0,
              "ticks": ""
             }
            },
            "type": "scattermapbox"
           }
          ],
          "scatterpolar": [
           {
            "marker": {
             "colorbar": {
              "outlinewidth": 0,
              "ticks": ""
             }
            },
            "type": "scatterpolar"
           }
          ],
          "scatterpolargl": [
           {
            "marker": {
             "colorbar": {
              "outlinewidth": 0,
              "ticks": ""
             }
            },
            "type": "scatterpolargl"
           }
          ],
          "scatterternary": [
           {
            "marker": {
             "colorbar": {
              "outlinewidth": 0,
              "ticks": ""
             }
            },
            "type": "scatterternary"
           }
          ],
          "surface": [
           {
            "colorbar": {
             "outlinewidth": 0,
             "ticks": ""
            },
            "colorscale": [
             [
              0,
              "#0d0887"
             ],
             [
              0.1111111111111111,
              "#46039f"
             ],
             [
              0.2222222222222222,
              "#7201a8"
             ],
             [
              0.3333333333333333,
              "#9c179e"
             ],
             [
              0.4444444444444444,
              "#bd3786"
             ],
             [
              0.5555555555555556,
              "#d8576b"
             ],
             [
              0.6666666666666666,
              "#ed7953"
             ],
             [
              0.7777777777777778,
              "#fb9f3a"
             ],
             [
              0.8888888888888888,
              "#fdca26"
             ],
             [
              1,
              "#f0f921"
             ]
            ],
            "type": "surface"
           }
          ],
          "table": [
           {
            "cells": {
             "fill": {
              "color": "#EBF0F8"
             },
             "line": {
              "color": "white"
             }
            },
            "header": {
             "fill": {
              "color": "#C8D4E3"
             },
             "line": {
              "color": "white"
             }
            },
            "type": "table"
           }
          ]
         },
         "layout": {
          "annotationdefaults": {
           "arrowcolor": "#2a3f5f",
           "arrowhead": 0,
           "arrowwidth": 1
          },
          "coloraxis": {
           "colorbar": {
            "outlinewidth": 0,
            "ticks": ""
           }
          },
          "colorscale": {
           "diverging": [
            [
             0,
             "#8e0152"
            ],
            [
             0.1,
             "#c51b7d"
            ],
            [
             0.2,
             "#de77ae"
            ],
            [
             0.3,
             "#f1b6da"
            ],
            [
             0.4,
             "#fde0ef"
            ],
            [
             0.5,
             "#f7f7f7"
            ],
            [
             0.6,
             "#e6f5d0"
            ],
            [
             0.7,
             "#b8e186"
            ],
            [
             0.8,
             "#7fbc41"
            ],
            [
             0.9,
             "#4d9221"
            ],
            [
             1,
             "#276419"
            ]
           ],
           "sequential": [
            [
             0,
             "#0d0887"
            ],
            [
             0.1111111111111111,
             "#46039f"
            ],
            [
             0.2222222222222222,
             "#7201a8"
            ],
            [
             0.3333333333333333,
             "#9c179e"
            ],
            [
             0.4444444444444444,
             "#bd3786"
            ],
            [
             0.5555555555555556,
             "#d8576b"
            ],
            [
             0.6666666666666666,
             "#ed7953"
            ],
            [
             0.7777777777777778,
             "#fb9f3a"
            ],
            [
             0.8888888888888888,
             "#fdca26"
            ],
            [
             1,
             "#f0f921"
            ]
           ],
           "sequentialminus": [
            [
             0,
             "#0d0887"
            ],
            [
             0.1111111111111111,
             "#46039f"
            ],
            [
             0.2222222222222222,
             "#7201a8"
            ],
            [
             0.3333333333333333,
             "#9c179e"
            ],
            [
             0.4444444444444444,
             "#bd3786"
            ],
            [
             0.5555555555555556,
             "#d8576b"
            ],
            [
             0.6666666666666666,
             "#ed7953"
            ],
            [
             0.7777777777777778,
             "#fb9f3a"
            ],
            [
             0.8888888888888888,
             "#fdca26"
            ],
            [
             1,
             "#f0f921"
            ]
           ]
          },
          "colorway": [
           "#636efa",
           "#EF553B",
           "#00cc96",
           "#ab63fa",
           "#FFA15A",
           "#19d3f3",
           "#FF6692",
           "#B6E880",
           "#FF97FF",
           "#FECB52"
          ],
          "font": {
           "color": "#2a3f5f"
          },
          "geo": {
           "bgcolor": "white",
           "lakecolor": "white",
           "landcolor": "#E5ECF6",
           "showlakes": true,
           "showland": true,
           "subunitcolor": "white"
          },
          "hoverlabel": {
           "align": "left"
          },
          "hovermode": "closest",
          "mapbox": {
           "style": "light"
          },
          "paper_bgcolor": "white",
          "plot_bgcolor": "#E5ECF6",
          "polar": {
           "angularaxis": {
            "gridcolor": "white",
            "linecolor": "white",
            "ticks": ""
           },
           "bgcolor": "#E5ECF6",
           "radialaxis": {
            "gridcolor": "white",
            "linecolor": "white",
            "ticks": ""
           }
          },
          "scene": {
           "xaxis": {
            "backgroundcolor": "#E5ECF6",
            "gridcolor": "white",
            "gridwidth": 2,
            "linecolor": "white",
            "showbackground": true,
            "ticks": "",
            "zerolinecolor": "white"
           },
           "yaxis": {
            "backgroundcolor": "#E5ECF6",
            "gridcolor": "white",
            "gridwidth": 2,
            "linecolor": "white",
            "showbackground": true,
            "ticks": "",
            "zerolinecolor": "white"
           },
           "zaxis": {
            "backgroundcolor": "#E5ECF6",
            "gridcolor": "white",
            "gridwidth": 2,
            "linecolor": "white",
            "showbackground": true,
            "ticks": "",
            "zerolinecolor": "white"
           }
          },
          "shapedefaults": {
           "line": {
            "color": "#2a3f5f"
           }
          },
          "ternary": {
           "aaxis": {
            "gridcolor": "white",
            "linecolor": "white",
            "ticks": ""
           },
           "baxis": {
            "gridcolor": "white",
            "linecolor": "white",
            "ticks": ""
           },
           "bgcolor": "#E5ECF6",
           "caxis": {
            "gridcolor": "white",
            "linecolor": "white",
            "ticks": ""
           }
          },
          "title": {
           "x": 0.05
          },
          "xaxis": {
           "automargin": true,
           "gridcolor": "white",
           "linecolor": "white",
           "ticks": "",
           "title": {
            "standoff": 15
           },
           "zerolinecolor": "white",
           "zerolinewidth": 2
          },
          "yaxis": {
           "automargin": true,
           "gridcolor": "white",
           "linecolor": "white",
           "ticks": "",
           "title": {
            "standoff": 15
           },
           "zerolinecolor": "white",
           "zerolinewidth": 2
          }
         }
        }
       }
      },
      "text/html": [
       "<div>                            <div id=\"491ef453-e3f7-4daa-88e8-5d09ffe61f1f\" class=\"plotly-graph-div\" style=\"height:525px; width:100%;\"></div>            <script type=\"text/javascript\">                require([\"plotly\"], function(Plotly) {                    window.PLOTLYENV=window.PLOTLYENV || {};                                    if (document.getElementById(\"491ef453-e3f7-4daa-88e8-5d09ffe61f1f\")) {                    Plotly.newPlot(                        \"491ef453-e3f7-4daa-88e8-5d09ffe61f1f\",                        [{\"type\": \"heatmap\", \"z\": [[1.0, -0.4695032888133503, 0.8227777514605774, 0.2745394979136069, 0.8371389016585165, 0.9404574704577686, 0.8756478735731659, 0.927257092879192, 0.981984120594952, 0.48962795129955283], [-0.4695032888133503, 1.0, -0.7593071541525218, -0.8726491008414338, -0.16486407319586466, -0.6140226581532948, -0.6949291881724237, -0.6410524733766501, -0.344407509212034, -0.7729849848502419], [0.8227777514605774, -0.7593071541525218, 1.0, 0.6381887082901384, 0.5759980013379135, 0.9262944058347808, 0.9027811597896049, 0.8702034301075273, 0.768335023070424, 0.5607982221786597], [0.2745394979136069, -0.8726491008414338, 0.6381887082901384, 1.0, 0.06706968959004432, 0.5144502956937921, 0.6212942768683504, 0.4503630406604707, 0.14745146357269182, 0.6186206729236396], [0.8371389016585165, -0.16486407319586466, 0.5759980013379135, 0.06706968959004432, 1.0, 0.7446455001400615, 0.7373062864570584, 0.7280390425777648, 0.8577845434734509, 0.48200832685460204], [0.9404574704577686, -0.6140226581532948, 0.9262944058347808, 0.5144502956937921, 0.7446455001400615, 1.0, 0.970892146923794, 0.962709290307503, 0.9173379772654108, 0.5628786313045997], [0.8756478735731659, -0.6949291881724237, 0.9027811597896049, 0.6212942768683504, 0.7373062864570584, 0.970892146923794, 1.0, 0.9588781446475855, 0.8444695872450958, 0.7230885036690706], [0.927257092879192, -0.6410524733766501, 0.8702034301075273, 0.4503630406604707, 0.7280390425777648, 0.962709290307503, 0.9588781446475855, 1.0, 0.9167689119816319, 0.6827160656618805], [0.981984120594952, -0.344407509212034, 0.768335023070424, 0.14745146357269182, 0.8577845434734509, 0.9173379772654108, 0.8444695872450958, 0.9167689119816319, 1.0, 0.42738160065794284], [0.48962795129955283, -0.7729849848502419, 0.5607982221786597, 0.6186206729236396, 0.48200832685460204, 0.5628786313045997, 0.7230885036690706, 0.6827160656618805, 0.42738160065794284, 1.0]]}],                        {\"template\": {\"data\": {\"bar\": [{\"error_x\": {\"color\": \"#2a3f5f\"}, \"error_y\": {\"color\": \"#2a3f5f\"}, \"marker\": {\"line\": {\"color\": \"#E5ECF6\", \"width\": 0.5}}, \"type\": \"bar\"}], \"barpolar\": [{\"marker\": {\"line\": {\"color\": \"#E5ECF6\", \"width\": 0.5}}, \"type\": \"barpolar\"}], \"carpet\": [{\"aaxis\": {\"endlinecolor\": \"#2a3f5f\", \"gridcolor\": \"white\", \"linecolor\": \"white\", \"minorgridcolor\": \"white\", \"startlinecolor\": \"#2a3f5f\"}, \"baxis\": {\"endlinecolor\": \"#2a3f5f\", \"gridcolor\": \"white\", \"linecolor\": \"white\", \"minorgridcolor\": \"white\", \"startlinecolor\": \"#2a3f5f\"}, \"type\": \"carpet\"}], \"choropleth\": [{\"colorbar\": {\"outlinewidth\": 0, \"ticks\": \"\"}, \"type\": \"choropleth\"}], \"contour\": [{\"colorbar\": {\"outlinewidth\": 0, \"ticks\": \"\"}, \"colorscale\": [[0.0, \"#0d0887\"], [0.1111111111111111, \"#46039f\"], [0.2222222222222222, \"#7201a8\"], [0.3333333333333333, \"#9c179e\"], [0.4444444444444444, \"#bd3786\"], [0.5555555555555556, \"#d8576b\"], [0.6666666666666666, \"#ed7953\"], [0.7777777777777778, \"#fb9f3a\"], [0.8888888888888888, \"#fdca26\"], [1.0, \"#f0f921\"]], \"type\": \"contour\"}], \"contourcarpet\": [{\"colorbar\": {\"outlinewidth\": 0, \"ticks\": \"\"}, \"type\": \"contourcarpet\"}], \"heatmap\": [{\"colorbar\": {\"outlinewidth\": 0, \"ticks\": \"\"}, \"colorscale\": [[0.0, \"#0d0887\"], [0.1111111111111111, \"#46039f\"], [0.2222222222222222, \"#7201a8\"], [0.3333333333333333, \"#9c179e\"], [0.4444444444444444, \"#bd3786\"], [0.5555555555555556, \"#d8576b\"], [0.6666666666666666, \"#ed7953\"], [0.7777777777777778, \"#fb9f3a\"], [0.8888888888888888, \"#fdca26\"], [1.0, \"#f0f921\"]], \"type\": \"heatmap\"}], \"heatmapgl\": [{\"colorbar\": {\"outlinewidth\": 0, \"ticks\": \"\"}, \"colorscale\": [[0.0, \"#0d0887\"], [0.1111111111111111, \"#46039f\"], [0.2222222222222222, \"#7201a8\"], [0.3333333333333333, \"#9c179e\"], [0.4444444444444444, \"#bd3786\"], [0.5555555555555556, \"#d8576b\"], [0.6666666666666666, \"#ed7953\"], [0.7777777777777778, \"#fb9f3a\"], [0.8888888888888888, \"#fdca26\"], [1.0, \"#f0f921\"]], \"type\": \"heatmapgl\"}], \"histogram\": [{\"marker\": {\"colorbar\": {\"outlinewidth\": 0, \"ticks\": \"\"}}, \"type\": \"histogram\"}], \"histogram2d\": [{\"colorbar\": {\"outlinewidth\": 0, \"ticks\": \"\"}, \"colorscale\": [[0.0, \"#0d0887\"], [0.1111111111111111, \"#46039f\"], [0.2222222222222222, \"#7201a8\"], [0.3333333333333333, \"#9c179e\"], [0.4444444444444444, \"#bd3786\"], [0.5555555555555556, \"#d8576b\"], [0.6666666666666666, \"#ed7953\"], [0.7777777777777778, \"#fb9f3a\"], [0.8888888888888888, \"#fdca26\"], [1.0, \"#f0f921\"]], \"type\": \"histogram2d\"}], \"histogram2dcontour\": [{\"colorbar\": {\"outlinewidth\": 0, \"ticks\": \"\"}, \"colorscale\": [[0.0, \"#0d0887\"], [0.1111111111111111, \"#46039f\"], [0.2222222222222222, \"#7201a8\"], [0.3333333333333333, \"#9c179e\"], [0.4444444444444444, \"#bd3786\"], [0.5555555555555556, \"#d8576b\"], [0.6666666666666666, \"#ed7953\"], [0.7777777777777778, \"#fb9f3a\"], [0.8888888888888888, \"#fdca26\"], [1.0, \"#f0f921\"]], \"type\": \"histogram2dcontour\"}], \"mesh3d\": [{\"colorbar\": {\"outlinewidth\": 0, \"ticks\": \"\"}, \"type\": \"mesh3d\"}], \"parcoords\": [{\"line\": {\"colorbar\": {\"outlinewidth\": 0, \"ticks\": \"\"}}, \"type\": \"parcoords\"}], \"pie\": [{\"automargin\": true, \"type\": \"pie\"}], \"scatter\": [{\"marker\": {\"colorbar\": {\"outlinewidth\": 0, \"ticks\": \"\"}}, \"type\": \"scatter\"}], \"scatter3d\": [{\"line\": {\"colorbar\": {\"outlinewidth\": 0, \"ticks\": \"\"}}, \"marker\": {\"colorbar\": {\"outlinewidth\": 0, \"ticks\": \"\"}}, \"type\": \"scatter3d\"}], \"scattercarpet\": [{\"marker\": {\"colorbar\": {\"outlinewidth\": 0, \"ticks\": \"\"}}, \"type\": \"scattercarpet\"}], \"scattergeo\": [{\"marker\": {\"colorbar\": {\"outlinewidth\": 0, \"ticks\": \"\"}}, \"type\": \"scattergeo\"}], \"scattergl\": [{\"marker\": {\"colorbar\": {\"outlinewidth\": 0, \"ticks\": \"\"}}, \"type\": \"scattergl\"}], \"scattermapbox\": [{\"marker\": {\"colorbar\": {\"outlinewidth\": 0, \"ticks\": \"\"}}, \"type\": \"scattermapbox\"}], \"scatterpolar\": [{\"marker\": {\"colorbar\": {\"outlinewidth\": 0, \"ticks\": \"\"}}, \"type\": \"scatterpolar\"}], \"scatterpolargl\": [{\"marker\": {\"colorbar\": {\"outlinewidth\": 0, \"ticks\": \"\"}}, \"type\": \"scatterpolargl\"}], \"scatterternary\": [{\"marker\": {\"colorbar\": {\"outlinewidth\": 0, \"ticks\": \"\"}}, \"type\": \"scatterternary\"}], \"surface\": [{\"colorbar\": {\"outlinewidth\": 0, \"ticks\": \"\"}, \"colorscale\": [[0.0, \"#0d0887\"], [0.1111111111111111, \"#46039f\"], [0.2222222222222222, \"#7201a8\"], [0.3333333333333333, \"#9c179e\"], [0.4444444444444444, \"#bd3786\"], [0.5555555555555556, \"#d8576b\"], [0.6666666666666666, \"#ed7953\"], [0.7777777777777778, \"#fb9f3a\"], [0.8888888888888888, \"#fdca26\"], [1.0, \"#f0f921\"]], \"type\": \"surface\"}], \"table\": [{\"cells\": {\"fill\": {\"color\": \"#EBF0F8\"}, \"line\": {\"color\": \"white\"}}, \"header\": {\"fill\": {\"color\": \"#C8D4E3\"}, \"line\": {\"color\": \"white\"}}, \"type\": \"table\"}]}, \"layout\": {\"annotationdefaults\": {\"arrowcolor\": \"#2a3f5f\", \"arrowhead\": 0, \"arrowwidth\": 1}, \"coloraxis\": {\"colorbar\": {\"outlinewidth\": 0, \"ticks\": \"\"}}, \"colorscale\": {\"diverging\": [[0, \"#8e0152\"], [0.1, \"#c51b7d\"], [0.2, \"#de77ae\"], [0.3, \"#f1b6da\"], [0.4, \"#fde0ef\"], [0.5, \"#f7f7f7\"], [0.6, \"#e6f5d0\"], [0.7, \"#b8e186\"], [0.8, \"#7fbc41\"], [0.9, \"#4d9221\"], [1, \"#276419\"]], \"sequential\": [[0.0, \"#0d0887\"], [0.1111111111111111, \"#46039f\"], [0.2222222222222222, \"#7201a8\"], [0.3333333333333333, \"#9c179e\"], [0.4444444444444444, \"#bd3786\"], [0.5555555555555556, \"#d8576b\"], [0.6666666666666666, \"#ed7953\"], [0.7777777777777778, \"#fb9f3a\"], [0.8888888888888888, \"#fdca26\"], [1.0, \"#f0f921\"]], \"sequentialminus\": [[0.0, \"#0d0887\"], [0.1111111111111111, \"#46039f\"], [0.2222222222222222, \"#7201a8\"], [0.3333333333333333, \"#9c179e\"], [0.4444444444444444, \"#bd3786\"], [0.5555555555555556, \"#d8576b\"], [0.6666666666666666, \"#ed7953\"], [0.7777777777777778, \"#fb9f3a\"], [0.8888888888888888, \"#fdca26\"], [1.0, \"#f0f921\"]]}, \"colorway\": [\"#636efa\", \"#EF553B\", \"#00cc96\", \"#ab63fa\", \"#FFA15A\", \"#19d3f3\", \"#FF6692\", \"#B6E880\", \"#FF97FF\", \"#FECB52\"], \"font\": {\"color\": \"#2a3f5f\"}, \"geo\": {\"bgcolor\": \"white\", \"lakecolor\": \"white\", \"landcolor\": \"#E5ECF6\", \"showlakes\": true, \"showland\": true, \"subunitcolor\": \"white\"}, \"hoverlabel\": {\"align\": \"left\"}, \"hovermode\": \"closest\", \"mapbox\": {\"style\": \"light\"}, \"paper_bgcolor\": \"white\", \"plot_bgcolor\": \"#E5ECF6\", \"polar\": {\"angularaxis\": {\"gridcolor\": \"white\", \"linecolor\": \"white\", \"ticks\": \"\"}, \"bgcolor\": \"#E5ECF6\", \"radialaxis\": {\"gridcolor\": \"white\", \"linecolor\": \"white\", \"ticks\": \"\"}}, \"scene\": {\"xaxis\": {\"backgroundcolor\": \"#E5ECF6\", \"gridcolor\": \"white\", \"gridwidth\": 2, \"linecolor\": \"white\", \"showbackground\": true, \"ticks\": \"\", \"zerolinecolor\": \"white\"}, \"yaxis\": {\"backgroundcolor\": \"#E5ECF6\", \"gridcolor\": \"white\", \"gridwidth\": 2, \"linecolor\": \"white\", \"showbackground\": true, \"ticks\": \"\", \"zerolinecolor\": \"white\"}, \"zaxis\": {\"backgroundcolor\": \"#E5ECF6\", \"gridcolor\": \"white\", \"gridwidth\": 2, \"linecolor\": \"white\", \"showbackground\": true, \"ticks\": \"\", \"zerolinecolor\": \"white\"}}, \"shapedefaults\": {\"line\": {\"color\": \"#2a3f5f\"}}, \"ternary\": {\"aaxis\": {\"gridcolor\": \"white\", \"linecolor\": \"white\", \"ticks\": \"\"}, \"baxis\": {\"gridcolor\": \"white\", \"linecolor\": \"white\", \"ticks\": \"\"}, \"bgcolor\": \"#E5ECF6\", \"caxis\": {\"gridcolor\": \"white\", \"linecolor\": \"white\", \"ticks\": \"\"}}, \"title\": {\"x\": 0.05}, \"xaxis\": {\"automargin\": true, \"gridcolor\": \"white\", \"linecolor\": \"white\", \"ticks\": \"\", \"title\": {\"standoff\": 15}, \"zerolinecolor\": \"white\", \"zerolinewidth\": 2}, \"yaxis\": {\"automargin\": true, \"gridcolor\": \"white\", \"linecolor\": \"white\", \"ticks\": \"\", \"title\": {\"standoff\": 15}, \"zerolinecolor\": \"white\", \"zerolinewidth\": 2}}}},                        {\"responsive\": true}                    ).then(function(){\n",
       "                            \n",
       "var gd = document.getElementById('491ef453-e3f7-4daa-88e8-5d09ffe61f1f');\n",
       "var x = new MutationObserver(function (mutations, observer) {{\n",
       "        var display = window.getComputedStyle(gd).display;\n",
       "        if (!display || display === 'none') {{\n",
       "            console.log([gd, 'removed!']);\n",
       "            Plotly.purge(gd);\n",
       "            observer.disconnect();\n",
       "        }}\n",
       "}});\n",
       "\n",
       "// Listen for the removal of the full notebook cells\n",
       "var notebookContainer = gd.closest('#notebook-container');\n",
       "if (notebookContainer) {{\n",
       "    x.observe(notebookContainer, {childList: true});\n",
       "}}\n",
       "\n",
       "// Listen for the clearing of the current output cell\n",
       "var outputEl = gd.closest('.output');\n",
       "if (outputEl) {{\n",
       "    x.observe(outputEl, {childList: true});\n",
       "}}\n",
       "\n",
       "                        })                };                });            </script>        </div>"
      ]
     },
     "metadata": {},
     "output_type": "display_data"
    }
   ],
   "source": [
    "fig = go.Figure(data=go.Heatmap(\n",
    "                    z=df_temp_import.corr()))\n",
    "fig.show()"
   ]
  },
  {
   "cell_type": "code",
   "execution_count": 8,
   "metadata": {},
   "outputs": [
    {
     "data": {
      "application/vnd.plotly.v1+json": {
       "config": {
        "plotlyServerURL": "https://plot.ly"
       },
       "data": [
        {
         "type": "heatmap",
         "z": [
          [
           1,
           -0.1503295213434491,
           0.8596221877946614,
           -0.34327261575812573,
           0.044179093403587215,
           0.9212682553184932,
           0.8254908071808884,
           0.9244042255897803,
           0.9544140829920418,
           0.6358742471613782
          ],
          [
           -0.1503295213434491,
           1,
           -0.19293511764623716,
           -0.7110738576338496,
           0.5019118357925022,
           -0.46816888680840935,
           -0.6130163797564713,
           -0.4265708444191067,
           -0.39185711010704444,
           -0.3584716821142641
          ],
          [
           0.8596221877946614,
           -0.19293511764623716,
           1,
           -0.23922296408729643,
           0.23652221227711814,
           0.8637615222835261,
           0.8174878928910572,
           0.8834665250068897,
           0.8980668638690714,
           0.7915629767739211
          ],
          [
           -0.34327261575812573,
           -0.7110738576338496,
           -0.23922296408729643,
           1,
           -0.05799301802592299,
           -0.053634070554866596,
           0.05710677564089876,
           -0.07585828302079727,
           -0.15318117224018168,
           0.2056814001552668
          ],
          [
           0.044179093403587215,
           0.5019118357925022,
           0.23652221227711814,
           -0.05799301802592299,
           1,
           -0.12770530572575942,
           -0.2645133250802627,
           -0.08682089599414447,
           -0.08841397603331888,
           0.28715059139803806
          ],
          [
           0.9212682553184932,
           -0.46816888680840935,
           0.8637615222835261,
           -0.053634070554866596,
           -0.12770530572575942,
           1,
           0.962346909111114,
           0.9972102939114075,
           0.9895450079026626,
           0.7850773381977054
          ],
          [
           0.8254908071808884,
           -0.6130163797564713,
           0.8174878928910572,
           0.05710677564089876,
           -0.2645133250802627,
           0.962346909111114,
           1,
           0.957077455872949,
           0.9529365432647776,
           0.7087348690060842
          ],
          [
           0.9244042255897803,
           -0.4265708444191067,
           0.8834665250068897,
           -0.07585828302079727,
           -0.08682089599414447,
           0.9972102939114075,
           0.957077455872949,
           1,
           0.98964889840133,
           0.8048141581768301
          ],
          [
           0.9544140829920418,
           -0.39185711010704444,
           0.8980668638690714,
           -0.15318117224018168,
           -0.08841397603331888,
           0.9895450079026626,
           0.9529365432647776,
           0.98964889840133,
           1,
           0.7342938894781237
          ],
          [
           0.6358742471613782,
           -0.3584716821142641,
           0.7915629767739211,
           0.2056814001552668,
           0.28715059139803806,
           0.7850773381977054,
           0.7087348690060842,
           0.8048141581768301,
           0.7342938894781237,
           1
          ]
         ]
        }
       ],
       "layout": {
        "template": {
         "data": {
          "bar": [
           {
            "error_x": {
             "color": "#2a3f5f"
            },
            "error_y": {
             "color": "#2a3f5f"
            },
            "marker": {
             "line": {
              "color": "#E5ECF6",
              "width": 0.5
             }
            },
            "type": "bar"
           }
          ],
          "barpolar": [
           {
            "marker": {
             "line": {
              "color": "#E5ECF6",
              "width": 0.5
             }
            },
            "type": "barpolar"
           }
          ],
          "carpet": [
           {
            "aaxis": {
             "endlinecolor": "#2a3f5f",
             "gridcolor": "white",
             "linecolor": "white",
             "minorgridcolor": "white",
             "startlinecolor": "#2a3f5f"
            },
            "baxis": {
             "endlinecolor": "#2a3f5f",
             "gridcolor": "white",
             "linecolor": "white",
             "minorgridcolor": "white",
             "startlinecolor": "#2a3f5f"
            },
            "type": "carpet"
           }
          ],
          "choropleth": [
           {
            "colorbar": {
             "outlinewidth": 0,
             "ticks": ""
            },
            "type": "choropleth"
           }
          ],
          "contour": [
           {
            "colorbar": {
             "outlinewidth": 0,
             "ticks": ""
            },
            "colorscale": [
             [
              0,
              "#0d0887"
             ],
             [
              0.1111111111111111,
              "#46039f"
             ],
             [
              0.2222222222222222,
              "#7201a8"
             ],
             [
              0.3333333333333333,
              "#9c179e"
             ],
             [
              0.4444444444444444,
              "#bd3786"
             ],
             [
              0.5555555555555556,
              "#d8576b"
             ],
             [
              0.6666666666666666,
              "#ed7953"
             ],
             [
              0.7777777777777778,
              "#fb9f3a"
             ],
             [
              0.8888888888888888,
              "#fdca26"
             ],
             [
              1,
              "#f0f921"
             ]
            ],
            "type": "contour"
           }
          ],
          "contourcarpet": [
           {
            "colorbar": {
             "outlinewidth": 0,
             "ticks": ""
            },
            "type": "contourcarpet"
           }
          ],
          "heatmap": [
           {
            "colorbar": {
             "outlinewidth": 0,
             "ticks": ""
            },
            "colorscale": [
             [
              0,
              "#0d0887"
             ],
             [
              0.1111111111111111,
              "#46039f"
             ],
             [
              0.2222222222222222,
              "#7201a8"
             ],
             [
              0.3333333333333333,
              "#9c179e"
             ],
             [
              0.4444444444444444,
              "#bd3786"
             ],
             [
              0.5555555555555556,
              "#d8576b"
             ],
             [
              0.6666666666666666,
              "#ed7953"
             ],
             [
              0.7777777777777778,
              "#fb9f3a"
             ],
             [
              0.8888888888888888,
              "#fdca26"
             ],
             [
              1,
              "#f0f921"
             ]
            ],
            "type": "heatmap"
           }
          ],
          "heatmapgl": [
           {
            "colorbar": {
             "outlinewidth": 0,
             "ticks": ""
            },
            "colorscale": [
             [
              0,
              "#0d0887"
             ],
             [
              0.1111111111111111,
              "#46039f"
             ],
             [
              0.2222222222222222,
              "#7201a8"
             ],
             [
              0.3333333333333333,
              "#9c179e"
             ],
             [
              0.4444444444444444,
              "#bd3786"
             ],
             [
              0.5555555555555556,
              "#d8576b"
             ],
             [
              0.6666666666666666,
              "#ed7953"
             ],
             [
              0.7777777777777778,
              "#fb9f3a"
             ],
             [
              0.8888888888888888,
              "#fdca26"
             ],
             [
              1,
              "#f0f921"
             ]
            ],
            "type": "heatmapgl"
           }
          ],
          "histogram": [
           {
            "marker": {
             "colorbar": {
              "outlinewidth": 0,
              "ticks": ""
             }
            },
            "type": "histogram"
           }
          ],
          "histogram2d": [
           {
            "colorbar": {
             "outlinewidth": 0,
             "ticks": ""
            },
            "colorscale": [
             [
              0,
              "#0d0887"
             ],
             [
              0.1111111111111111,
              "#46039f"
             ],
             [
              0.2222222222222222,
              "#7201a8"
             ],
             [
              0.3333333333333333,
              "#9c179e"
             ],
             [
              0.4444444444444444,
              "#bd3786"
             ],
             [
              0.5555555555555556,
              "#d8576b"
             ],
             [
              0.6666666666666666,
              "#ed7953"
             ],
             [
              0.7777777777777778,
              "#fb9f3a"
             ],
             [
              0.8888888888888888,
              "#fdca26"
             ],
             [
              1,
              "#f0f921"
             ]
            ],
            "type": "histogram2d"
           }
          ],
          "histogram2dcontour": [
           {
            "colorbar": {
             "outlinewidth": 0,
             "ticks": ""
            },
            "colorscale": [
             [
              0,
              "#0d0887"
             ],
             [
              0.1111111111111111,
              "#46039f"
             ],
             [
              0.2222222222222222,
              "#7201a8"
             ],
             [
              0.3333333333333333,
              "#9c179e"
             ],
             [
              0.4444444444444444,
              "#bd3786"
             ],
             [
              0.5555555555555556,
              "#d8576b"
             ],
             [
              0.6666666666666666,
              "#ed7953"
             ],
             [
              0.7777777777777778,
              "#fb9f3a"
             ],
             [
              0.8888888888888888,
              "#fdca26"
             ],
             [
              1,
              "#f0f921"
             ]
            ],
            "type": "histogram2dcontour"
           }
          ],
          "mesh3d": [
           {
            "colorbar": {
             "outlinewidth": 0,
             "ticks": ""
            },
            "type": "mesh3d"
           }
          ],
          "parcoords": [
           {
            "line": {
             "colorbar": {
              "outlinewidth": 0,
              "ticks": ""
             }
            },
            "type": "parcoords"
           }
          ],
          "pie": [
           {
            "automargin": true,
            "type": "pie"
           }
          ],
          "scatter": [
           {
            "marker": {
             "colorbar": {
              "outlinewidth": 0,
              "ticks": ""
             }
            },
            "type": "scatter"
           }
          ],
          "scatter3d": [
           {
            "line": {
             "colorbar": {
              "outlinewidth": 0,
              "ticks": ""
             }
            },
            "marker": {
             "colorbar": {
              "outlinewidth": 0,
              "ticks": ""
             }
            },
            "type": "scatter3d"
           }
          ],
          "scattercarpet": [
           {
            "marker": {
             "colorbar": {
              "outlinewidth": 0,
              "ticks": ""
             }
            },
            "type": "scattercarpet"
           }
          ],
          "scattergeo": [
           {
            "marker": {
             "colorbar": {
              "outlinewidth": 0,
              "ticks": ""
             }
            },
            "type": "scattergeo"
           }
          ],
          "scattergl": [
           {
            "marker": {
             "colorbar": {
              "outlinewidth": 0,
              "ticks": ""
             }
            },
            "type": "scattergl"
           }
          ],
          "scattermapbox": [
           {
            "marker": {
             "colorbar": {
              "outlinewidth": 0,
              "ticks": ""
             }
            },
            "type": "scattermapbox"
           }
          ],
          "scatterpolar": [
           {
            "marker": {
             "colorbar": {
              "outlinewidth": 0,
              "ticks": ""
             }
            },
            "type": "scatterpolar"
           }
          ],
          "scatterpolargl": [
           {
            "marker": {
             "colorbar": {
              "outlinewidth": 0,
              "ticks": ""
             }
            },
            "type": "scatterpolargl"
           }
          ],
          "scatterternary": [
           {
            "marker": {
             "colorbar": {
              "outlinewidth": 0,
              "ticks": ""
             }
            },
            "type": "scatterternary"
           }
          ],
          "surface": [
           {
            "colorbar": {
             "outlinewidth": 0,
             "ticks": ""
            },
            "colorscale": [
             [
              0,
              "#0d0887"
             ],
             [
              0.1111111111111111,
              "#46039f"
             ],
             [
              0.2222222222222222,
              "#7201a8"
             ],
             [
              0.3333333333333333,
              "#9c179e"
             ],
             [
              0.4444444444444444,
              "#bd3786"
             ],
             [
              0.5555555555555556,
              "#d8576b"
             ],
             [
              0.6666666666666666,
              "#ed7953"
             ],
             [
              0.7777777777777778,
              "#fb9f3a"
             ],
             [
              0.8888888888888888,
              "#fdca26"
             ],
             [
              1,
              "#f0f921"
             ]
            ],
            "type": "surface"
           }
          ],
          "table": [
           {
            "cells": {
             "fill": {
              "color": "#EBF0F8"
             },
             "line": {
              "color": "white"
             }
            },
            "header": {
             "fill": {
              "color": "#C8D4E3"
             },
             "line": {
              "color": "white"
             }
            },
            "type": "table"
           }
          ]
         },
         "layout": {
          "annotationdefaults": {
           "arrowcolor": "#2a3f5f",
           "arrowhead": 0,
           "arrowwidth": 1
          },
          "coloraxis": {
           "colorbar": {
            "outlinewidth": 0,
            "ticks": ""
           }
          },
          "colorscale": {
           "diverging": [
            [
             0,
             "#8e0152"
            ],
            [
             0.1,
             "#c51b7d"
            ],
            [
             0.2,
             "#de77ae"
            ],
            [
             0.3,
             "#f1b6da"
            ],
            [
             0.4,
             "#fde0ef"
            ],
            [
             0.5,
             "#f7f7f7"
            ],
            [
             0.6,
             "#e6f5d0"
            ],
            [
             0.7,
             "#b8e186"
            ],
            [
             0.8,
             "#7fbc41"
            ],
            [
             0.9,
             "#4d9221"
            ],
            [
             1,
             "#276419"
            ]
           ],
           "sequential": [
            [
             0,
             "#0d0887"
            ],
            [
             0.1111111111111111,
             "#46039f"
            ],
            [
             0.2222222222222222,
             "#7201a8"
            ],
            [
             0.3333333333333333,
             "#9c179e"
            ],
            [
             0.4444444444444444,
             "#bd3786"
            ],
            [
             0.5555555555555556,
             "#d8576b"
            ],
            [
             0.6666666666666666,
             "#ed7953"
            ],
            [
             0.7777777777777778,
             "#fb9f3a"
            ],
            [
             0.8888888888888888,
             "#fdca26"
            ],
            [
             1,
             "#f0f921"
            ]
           ],
           "sequentialminus": [
            [
             0,
             "#0d0887"
            ],
            [
             0.1111111111111111,
             "#46039f"
            ],
            [
             0.2222222222222222,
             "#7201a8"
            ],
            [
             0.3333333333333333,
             "#9c179e"
            ],
            [
             0.4444444444444444,
             "#bd3786"
            ],
            [
             0.5555555555555556,
             "#d8576b"
            ],
            [
             0.6666666666666666,
             "#ed7953"
            ],
            [
             0.7777777777777778,
             "#fb9f3a"
            ],
            [
             0.8888888888888888,
             "#fdca26"
            ],
            [
             1,
             "#f0f921"
            ]
           ]
          },
          "colorway": [
           "#636efa",
           "#EF553B",
           "#00cc96",
           "#ab63fa",
           "#FFA15A",
           "#19d3f3",
           "#FF6692",
           "#B6E880",
           "#FF97FF",
           "#FECB52"
          ],
          "font": {
           "color": "#2a3f5f"
          },
          "geo": {
           "bgcolor": "white",
           "lakecolor": "white",
           "landcolor": "#E5ECF6",
           "showlakes": true,
           "showland": true,
           "subunitcolor": "white"
          },
          "hoverlabel": {
           "align": "left"
          },
          "hovermode": "closest",
          "mapbox": {
           "style": "light"
          },
          "paper_bgcolor": "white",
          "plot_bgcolor": "#E5ECF6",
          "polar": {
           "angularaxis": {
            "gridcolor": "white",
            "linecolor": "white",
            "ticks": ""
           },
           "bgcolor": "#E5ECF6",
           "radialaxis": {
            "gridcolor": "white",
            "linecolor": "white",
            "ticks": ""
           }
          },
          "scene": {
           "xaxis": {
            "backgroundcolor": "#E5ECF6",
            "gridcolor": "white",
            "gridwidth": 2,
            "linecolor": "white",
            "showbackground": true,
            "ticks": "",
            "zerolinecolor": "white"
           },
           "yaxis": {
            "backgroundcolor": "#E5ECF6",
            "gridcolor": "white",
            "gridwidth": 2,
            "linecolor": "white",
            "showbackground": true,
            "ticks": "",
            "zerolinecolor": "white"
           },
           "zaxis": {
            "backgroundcolor": "#E5ECF6",
            "gridcolor": "white",
            "gridwidth": 2,
            "linecolor": "white",
            "showbackground": true,
            "ticks": "",
            "zerolinecolor": "white"
           }
          },
          "shapedefaults": {
           "line": {
            "color": "#2a3f5f"
           }
          },
          "ternary": {
           "aaxis": {
            "gridcolor": "white",
            "linecolor": "white",
            "ticks": ""
           },
           "baxis": {
            "gridcolor": "white",
            "linecolor": "white",
            "ticks": ""
           },
           "bgcolor": "#E5ECF6",
           "caxis": {
            "gridcolor": "white",
            "linecolor": "white",
            "ticks": ""
           }
          },
          "title": {
           "x": 0.05
          },
          "xaxis": {
           "automargin": true,
           "gridcolor": "white",
           "linecolor": "white",
           "ticks": "",
           "title": {
            "standoff": 15
           },
           "zerolinecolor": "white",
           "zerolinewidth": 2
          },
          "yaxis": {
           "automargin": true,
           "gridcolor": "white",
           "linecolor": "white",
           "ticks": "",
           "title": {
            "standoff": 15
           },
           "zerolinecolor": "white",
           "zerolinewidth": 2
          }
         }
        }
       }
      },
      "text/html": [
       "<div>                            <div id=\"a81db512-f2e1-4d96-95f9-37ba3ac08d6f\" class=\"plotly-graph-div\" style=\"height:525px; width:100%;\"></div>            <script type=\"text/javascript\">                require([\"plotly\"], function(Plotly) {                    window.PLOTLYENV=window.PLOTLYENV || {};                                    if (document.getElementById(\"a81db512-f2e1-4d96-95f9-37ba3ac08d6f\")) {                    Plotly.newPlot(                        \"a81db512-f2e1-4d96-95f9-37ba3ac08d6f\",                        [{\"type\": \"heatmap\", \"z\": [[1.0, -0.1503295213434491, 0.8596221877946614, -0.34327261575812573, 0.044179093403587215, 0.9212682553184932, 0.8254908071808884, 0.9244042255897803, 0.9544140829920418, 0.6358742471613782], [-0.1503295213434491, 1.0, -0.19293511764623716, -0.7110738576338496, 0.5019118357925022, -0.46816888680840935, -0.6130163797564713, -0.4265708444191067, -0.39185711010704444, -0.3584716821142641], [0.8596221877946614, -0.19293511764623716, 1.0, -0.23922296408729643, 0.23652221227711814, 0.8637615222835261, 0.8174878928910572, 0.8834665250068897, 0.8980668638690714, 0.7915629767739211], [-0.34327261575812573, -0.7110738576338496, -0.23922296408729643, 1.0, -0.05799301802592299, -0.053634070554866596, 0.05710677564089876, -0.07585828302079727, -0.15318117224018168, 0.2056814001552668], [0.044179093403587215, 0.5019118357925022, 0.23652221227711814, -0.05799301802592299, 1.0, -0.12770530572575942, -0.2645133250802627, -0.08682089599414447, -0.08841397603331888, 0.28715059139803806], [0.9212682553184932, -0.46816888680840935, 0.8637615222835261, -0.053634070554866596, -0.12770530572575942, 1.0, 0.962346909111114, 0.9972102939114075, 0.9895450079026626, 0.7850773381977054], [0.8254908071808884, -0.6130163797564713, 0.8174878928910572, 0.05710677564089876, -0.2645133250802627, 0.962346909111114, 1.0, 0.957077455872949, 0.9529365432647776, 0.7087348690060842], [0.9244042255897803, -0.4265708444191067, 0.8834665250068897, -0.07585828302079727, -0.08682089599414447, 0.9972102939114075, 0.957077455872949, 1.0, 0.98964889840133, 0.8048141581768301], [0.9544140829920418, -0.39185711010704444, 0.8980668638690714, -0.15318117224018168, -0.08841397603331888, 0.9895450079026626, 0.9529365432647776, 0.98964889840133, 1.0, 0.7342938894781237], [0.6358742471613782, -0.3584716821142641, 0.7915629767739211, 0.2056814001552668, 0.28715059139803806, 0.7850773381977054, 0.7087348690060842, 0.8048141581768301, 0.7342938894781237, 1.0]]}],                        {\"template\": {\"data\": {\"bar\": [{\"error_x\": {\"color\": \"#2a3f5f\"}, \"error_y\": {\"color\": \"#2a3f5f\"}, \"marker\": {\"line\": {\"color\": \"#E5ECF6\", \"width\": 0.5}}, \"type\": \"bar\"}], \"barpolar\": [{\"marker\": {\"line\": {\"color\": \"#E5ECF6\", \"width\": 0.5}}, \"type\": \"barpolar\"}], \"carpet\": [{\"aaxis\": {\"endlinecolor\": \"#2a3f5f\", \"gridcolor\": \"white\", \"linecolor\": \"white\", \"minorgridcolor\": \"white\", \"startlinecolor\": \"#2a3f5f\"}, \"baxis\": {\"endlinecolor\": \"#2a3f5f\", \"gridcolor\": \"white\", \"linecolor\": \"white\", \"minorgridcolor\": \"white\", \"startlinecolor\": \"#2a3f5f\"}, \"type\": \"carpet\"}], \"choropleth\": [{\"colorbar\": {\"outlinewidth\": 0, \"ticks\": \"\"}, \"type\": \"choropleth\"}], \"contour\": [{\"colorbar\": {\"outlinewidth\": 0, \"ticks\": \"\"}, \"colorscale\": [[0.0, \"#0d0887\"], [0.1111111111111111, \"#46039f\"], [0.2222222222222222, \"#7201a8\"], [0.3333333333333333, \"#9c179e\"], [0.4444444444444444, \"#bd3786\"], [0.5555555555555556, \"#d8576b\"], [0.6666666666666666, \"#ed7953\"], [0.7777777777777778, \"#fb9f3a\"], [0.8888888888888888, \"#fdca26\"], [1.0, \"#f0f921\"]], \"type\": \"contour\"}], \"contourcarpet\": [{\"colorbar\": {\"outlinewidth\": 0, \"ticks\": \"\"}, \"type\": \"contourcarpet\"}], \"heatmap\": [{\"colorbar\": {\"outlinewidth\": 0, \"ticks\": \"\"}, \"colorscale\": [[0.0, \"#0d0887\"], [0.1111111111111111, \"#46039f\"], [0.2222222222222222, \"#7201a8\"], [0.3333333333333333, \"#9c179e\"], [0.4444444444444444, \"#bd3786\"], [0.5555555555555556, \"#d8576b\"], [0.6666666666666666, \"#ed7953\"], [0.7777777777777778, \"#fb9f3a\"], [0.8888888888888888, \"#fdca26\"], [1.0, \"#f0f921\"]], \"type\": \"heatmap\"}], \"heatmapgl\": [{\"colorbar\": {\"outlinewidth\": 0, \"ticks\": \"\"}, \"colorscale\": [[0.0, \"#0d0887\"], [0.1111111111111111, \"#46039f\"], [0.2222222222222222, \"#7201a8\"], [0.3333333333333333, \"#9c179e\"], [0.4444444444444444, \"#bd3786\"], [0.5555555555555556, \"#d8576b\"], [0.6666666666666666, \"#ed7953\"], [0.7777777777777778, \"#fb9f3a\"], [0.8888888888888888, \"#fdca26\"], [1.0, \"#f0f921\"]], \"type\": \"heatmapgl\"}], \"histogram\": [{\"marker\": {\"colorbar\": {\"outlinewidth\": 0, \"ticks\": \"\"}}, \"type\": \"histogram\"}], \"histogram2d\": [{\"colorbar\": {\"outlinewidth\": 0, \"ticks\": \"\"}, \"colorscale\": [[0.0, \"#0d0887\"], [0.1111111111111111, \"#46039f\"], [0.2222222222222222, \"#7201a8\"], [0.3333333333333333, \"#9c179e\"], [0.4444444444444444, \"#bd3786\"], [0.5555555555555556, \"#d8576b\"], [0.6666666666666666, \"#ed7953\"], [0.7777777777777778, \"#fb9f3a\"], [0.8888888888888888, \"#fdca26\"], [1.0, \"#f0f921\"]], \"type\": \"histogram2d\"}], \"histogram2dcontour\": [{\"colorbar\": {\"outlinewidth\": 0, \"ticks\": \"\"}, \"colorscale\": [[0.0, \"#0d0887\"], [0.1111111111111111, \"#46039f\"], [0.2222222222222222, \"#7201a8\"], [0.3333333333333333, \"#9c179e\"], [0.4444444444444444, \"#bd3786\"], [0.5555555555555556, \"#d8576b\"], [0.6666666666666666, \"#ed7953\"], [0.7777777777777778, \"#fb9f3a\"], [0.8888888888888888, \"#fdca26\"], [1.0, \"#f0f921\"]], \"type\": \"histogram2dcontour\"}], \"mesh3d\": [{\"colorbar\": {\"outlinewidth\": 0, \"ticks\": \"\"}, \"type\": \"mesh3d\"}], \"parcoords\": [{\"line\": {\"colorbar\": {\"outlinewidth\": 0, \"ticks\": \"\"}}, \"type\": \"parcoords\"}], \"pie\": [{\"automargin\": true, \"type\": \"pie\"}], \"scatter\": [{\"marker\": {\"colorbar\": {\"outlinewidth\": 0, \"ticks\": \"\"}}, \"type\": \"scatter\"}], \"scatter3d\": [{\"line\": {\"colorbar\": {\"outlinewidth\": 0, \"ticks\": \"\"}}, \"marker\": {\"colorbar\": {\"outlinewidth\": 0, \"ticks\": \"\"}}, \"type\": \"scatter3d\"}], \"scattercarpet\": [{\"marker\": {\"colorbar\": {\"outlinewidth\": 0, \"ticks\": \"\"}}, \"type\": \"scattercarpet\"}], \"scattergeo\": [{\"marker\": {\"colorbar\": {\"outlinewidth\": 0, \"ticks\": \"\"}}, \"type\": \"scattergeo\"}], \"scattergl\": [{\"marker\": {\"colorbar\": {\"outlinewidth\": 0, \"ticks\": \"\"}}, \"type\": \"scattergl\"}], \"scattermapbox\": [{\"marker\": {\"colorbar\": {\"outlinewidth\": 0, \"ticks\": \"\"}}, \"type\": \"scattermapbox\"}], \"scatterpolar\": [{\"marker\": {\"colorbar\": {\"outlinewidth\": 0, \"ticks\": \"\"}}, \"type\": \"scatterpolar\"}], \"scatterpolargl\": [{\"marker\": {\"colorbar\": {\"outlinewidth\": 0, \"ticks\": \"\"}}, \"type\": \"scatterpolargl\"}], \"scatterternary\": [{\"marker\": {\"colorbar\": {\"outlinewidth\": 0, \"ticks\": \"\"}}, \"type\": \"scatterternary\"}], \"surface\": [{\"colorbar\": {\"outlinewidth\": 0, \"ticks\": \"\"}, \"colorscale\": [[0.0, \"#0d0887\"], [0.1111111111111111, \"#46039f\"], [0.2222222222222222, \"#7201a8\"], [0.3333333333333333, \"#9c179e\"], [0.4444444444444444, \"#bd3786\"], [0.5555555555555556, \"#d8576b\"], [0.6666666666666666, \"#ed7953\"], [0.7777777777777778, \"#fb9f3a\"], [0.8888888888888888, \"#fdca26\"], [1.0, \"#f0f921\"]], \"type\": \"surface\"}], \"table\": [{\"cells\": {\"fill\": {\"color\": \"#EBF0F8\"}, \"line\": {\"color\": \"white\"}}, \"header\": {\"fill\": {\"color\": \"#C8D4E3\"}, \"line\": {\"color\": \"white\"}}, \"type\": \"table\"}]}, \"layout\": {\"annotationdefaults\": {\"arrowcolor\": \"#2a3f5f\", \"arrowhead\": 0, \"arrowwidth\": 1}, \"coloraxis\": {\"colorbar\": {\"outlinewidth\": 0, \"ticks\": \"\"}}, \"colorscale\": {\"diverging\": [[0, \"#8e0152\"], [0.1, \"#c51b7d\"], [0.2, \"#de77ae\"], [0.3, \"#f1b6da\"], [0.4, \"#fde0ef\"], [0.5, \"#f7f7f7\"], [0.6, \"#e6f5d0\"], [0.7, \"#b8e186\"], [0.8, \"#7fbc41\"], [0.9, \"#4d9221\"], [1, \"#276419\"]], \"sequential\": [[0.0, \"#0d0887\"], [0.1111111111111111, \"#46039f\"], [0.2222222222222222, \"#7201a8\"], [0.3333333333333333, \"#9c179e\"], [0.4444444444444444, \"#bd3786\"], [0.5555555555555556, \"#d8576b\"], [0.6666666666666666, \"#ed7953\"], [0.7777777777777778, \"#fb9f3a\"], [0.8888888888888888, \"#fdca26\"], [1.0, \"#f0f921\"]], \"sequentialminus\": [[0.0, \"#0d0887\"], [0.1111111111111111, \"#46039f\"], [0.2222222222222222, \"#7201a8\"], [0.3333333333333333, \"#9c179e\"], [0.4444444444444444, \"#bd3786\"], [0.5555555555555556, \"#d8576b\"], [0.6666666666666666, \"#ed7953\"], [0.7777777777777778, \"#fb9f3a\"], [0.8888888888888888, \"#fdca26\"], [1.0, \"#f0f921\"]]}, \"colorway\": [\"#636efa\", \"#EF553B\", \"#00cc96\", \"#ab63fa\", \"#FFA15A\", \"#19d3f3\", \"#FF6692\", \"#B6E880\", \"#FF97FF\", \"#FECB52\"], \"font\": {\"color\": \"#2a3f5f\"}, \"geo\": {\"bgcolor\": \"white\", \"lakecolor\": \"white\", \"landcolor\": \"#E5ECF6\", \"showlakes\": true, \"showland\": true, \"subunitcolor\": \"white\"}, \"hoverlabel\": {\"align\": \"left\"}, \"hovermode\": \"closest\", \"mapbox\": {\"style\": \"light\"}, \"paper_bgcolor\": \"white\", \"plot_bgcolor\": \"#E5ECF6\", \"polar\": {\"angularaxis\": {\"gridcolor\": \"white\", \"linecolor\": \"white\", \"ticks\": \"\"}, \"bgcolor\": \"#E5ECF6\", \"radialaxis\": {\"gridcolor\": \"white\", \"linecolor\": \"white\", \"ticks\": \"\"}}, \"scene\": {\"xaxis\": {\"backgroundcolor\": \"#E5ECF6\", \"gridcolor\": \"white\", \"gridwidth\": 2, \"linecolor\": \"white\", \"showbackground\": true, \"ticks\": \"\", \"zerolinecolor\": \"white\"}, \"yaxis\": {\"backgroundcolor\": \"#E5ECF6\", \"gridcolor\": \"white\", \"gridwidth\": 2, \"linecolor\": \"white\", \"showbackground\": true, \"ticks\": \"\", \"zerolinecolor\": \"white\"}, \"zaxis\": {\"backgroundcolor\": \"#E5ECF6\", \"gridcolor\": \"white\", \"gridwidth\": 2, \"linecolor\": \"white\", \"showbackground\": true, \"ticks\": \"\", \"zerolinecolor\": \"white\"}}, \"shapedefaults\": {\"line\": {\"color\": \"#2a3f5f\"}}, \"ternary\": {\"aaxis\": {\"gridcolor\": \"white\", \"linecolor\": \"white\", \"ticks\": \"\"}, \"baxis\": {\"gridcolor\": \"white\", \"linecolor\": \"white\", \"ticks\": \"\"}, \"bgcolor\": \"#E5ECF6\", \"caxis\": {\"gridcolor\": \"white\", \"linecolor\": \"white\", \"ticks\": \"\"}}, \"title\": {\"x\": 0.05}, \"xaxis\": {\"automargin\": true, \"gridcolor\": \"white\", \"linecolor\": \"white\", \"ticks\": \"\", \"title\": {\"standoff\": 15}, \"zerolinecolor\": \"white\", \"zerolinewidth\": 2}, \"yaxis\": {\"automargin\": true, \"gridcolor\": \"white\", \"linecolor\": \"white\", \"ticks\": \"\", \"title\": {\"standoff\": 15}, \"zerolinecolor\": \"white\", \"zerolinewidth\": 2}}}},                        {\"responsive\": true}                    ).then(function(){\n",
       "                            \n",
       "var gd = document.getElementById('a81db512-f2e1-4d96-95f9-37ba3ac08d6f');\n",
       "var x = new MutationObserver(function (mutations, observer) {{\n",
       "        var display = window.getComputedStyle(gd).display;\n",
       "        if (!display || display === 'none') {{\n",
       "            console.log([gd, 'removed!']);\n",
       "            Plotly.purge(gd);\n",
       "            observer.disconnect();\n",
       "        }}\n",
       "}});\n",
       "\n",
       "// Listen for the removal of the full notebook cells\n",
       "var notebookContainer = gd.closest('#notebook-container');\n",
       "if (notebookContainer) {{\n",
       "    x.observe(notebookContainer, {childList: true});\n",
       "}}\n",
       "\n",
       "// Listen for the clearing of the current output cell\n",
       "var outputEl = gd.closest('.output');\n",
       "if (outputEl) {{\n",
       "    x.observe(outputEl, {childList: true});\n",
       "}}\n",
       "\n",
       "                        })                };                });            </script>        </div>"
      ]
     },
     "metadata": {},
     "output_type": "display_data"
    }
   ],
   "source": [
    "fig = go.Figure(data=go.Heatmap(\n",
    "                    z=df_temp_export.corr()))\n",
    "fig.show()"
   ]
  },
  {
   "cell_type": "code",
   "execution_count": 9,
   "metadata": {},
   "outputs": [
    {
     "data": {
      "text/plain": [
       "{'icoord': [[15.0, 15.0, 25.0, 25.0],\n",
       "  [55.0, 55.0, 65.0, 65.0],\n",
       "  [45.0, 45.0, 60.0, 60.0],\n",
       "  [35.0, 35.0, 52.5, 52.5],\n",
       "  [85.0, 85.0, 95.0, 95.0],\n",
       "  [75.0, 75.0, 90.0, 90.0],\n",
       "  [43.75, 43.75, 82.5, 82.5],\n",
       "  [20.0, 20.0, 63.125, 63.125],\n",
       "  [5.0, 5.0, 41.5625, 41.5625]],\n",
       " 'dcoord': [[0.0, 0.8187282206264181, 0.8187282206264181, 0.0],\n",
       "  [0.0, 0.16037728625276432, 0.16037728625276432, 0.0],\n",
       "  [0.0, 0.24335336842169422, 0.24335336842169422, 0.16037728625276432],\n",
       "  [0.0, 0.4092678067310025, 0.4092678067310025, 0.24335336842169422],\n",
       "  [0.0, 0.20330008897994256, 0.20330008897994256, 0.0],\n",
       "  [0.0, 0.6103627879846472, 0.6103627879846472, 0.20330008897994256],\n",
       "  [0.4092678067310025,\n",
       "   1.2192386844343064,\n",
       "   1.2192386844343064,\n",
       "   0.6103627879846472],\n",
       "  [0.8187282206264181,\n",
       "   2.2399947081254017,\n",
       "   2.2399947081254017,\n",
       "   1.2192386844343064],\n",
       "  [0.0, 5.827460111435181, 5.827460111435181, 2.2399947081254017]],\n",
       " 'ivl': ['1', '3', '9', '2', '6', '5', '7', '4', '0', '8'],\n",
       " 'leaves': [1, 3, 9, 2, 6, 5, 7, 4, 0, 8],\n",
       " 'color_list': ['g', 'g', 'g', 'g', 'g', 'g', 'g', 'g', 'g']}"
      ]
     },
     "execution_count": 9,
     "metadata": {},
     "output_type": "execute_result"
    },
    {
     "data": {
      "image/png": "[encoded data removed]",
      "text/plain": [
       "<Figure size 432x288 with 1 Axes>"
      ]
     },
     "metadata": {
      "needs_background": "light"
     },
     "output_type": "display_data"
    }
   ],
   "source": [
    "Z = linkage(df_temp_import.corr(), 'ward')\n",
    "# Make the dendrogram\n",
    "dendrogram(Z, leaf_rotation=0, orientation=\"left\", color_threshold=240, above_threshold_color='grey')"
   ]
  },
  {
   "cell_type": "code",
   "execution_count": 10,
   "metadata": {},
   "outputs": [
    {
     "data": {
      "text/plain": [
       "{'icoord': [[15.0, 15.0, 25.0, 25.0],\n",
       "  [55.0, 55.0, 65.0, 65.0],\n",
       "  [45.0, 45.0, 60.0, 60.0],\n",
       "  [35.0, 35.0, 52.5, 52.5],\n",
       "  [20.0, 20.0, 43.75, 43.75],\n",
       "  [5.0, 5.0, 31.875, 31.875],\n",
       "  [85.0, 85.0, 95.0, 95.0],\n",
       "  [75.0, 75.0, 90.0, 90.0],\n",
       "  [18.4375, 18.4375, 82.5, 82.5]],\n",
       " 'dcoord': [[0.0, 0.34858321601592956, 0.34858321601592956, 0.0],\n",
       "  [0.0, 0.06875212044003108, 0.06875212044003108, 0.0],\n",
       "  [0.0, 0.14987944768628594, 0.14987944768628594, 0.06875212044003108],\n",
       "  [0.0, 0.4056281503181519, 0.4056281503181519, 0.14987944768628594],\n",
       "  [0.34858321601592956,\n",
       "   0.854547967449186,\n",
       "   0.854547967449186,\n",
       "   0.4056281503181519],\n",
       "  [0.0, 0.9537163277006409, 0.9537163277006409, 0.854547967449186],\n",
       "  [0.0, 1.416570200672952, 1.416570200672952, 0.0],\n",
       "  [0.0, 2.6496008019475537, 2.6496008019475537, 1.416570200672952],\n",
       "  [0.9537163277006409,\n",
       "   5.936379377681864,\n",
       "   5.936379377681864,\n",
       "   2.6496008019475537]],\n",
       " 'ivl': ['9', '0', '2', '6', '8', '5', '7', '3', '1', '4'],\n",
       " 'leaves': [9, 0, 2, 6, 8, 5, 7, 3, 1, 4],\n",
       " 'color_list': ['g', 'g', 'g', 'g', 'g', 'g', 'g', 'g', 'g']}"
      ]
     },
     "execution_count": 10,
     "metadata": {},
     "output_type": "execute_result"
    },
    {
     "data": {
      "image/png": "[encoded data removed]",
      "text/plain": [
       "<Figure size 432x288 with 1 Axes>"
      ]
     },
     "metadata": {
      "needs_background": "light"
     },
     "output_type": "display_data"
    }
   ],
   "source": [
    "Z = linkage(df_temp_export.corr(), 'ward')\n",
    "# Make the dendrogram\n",
    "dendrogram(Z, leaf_rotation=0, orientation=\"left\", color_threshold=240, above_threshold_color='grey')"
   ]
  },
  {
   "cell_type": "markdown",
   "metadata": {},
   "source": [
    "##  What is Malaysia’s Export Strength?"
   ]
  },
  {
   "cell_type": "markdown",
   "metadata": {},
   "source": [
    "Measure by RSA blablabla"
   ]
  },
  {
   "cell_type": "code",
   "execution_count": 11,
   "metadata": {},
   "outputs": [],
   "source": [
    "rca_df = rca.transpose().rename(columns=rca.transpose().iloc[0])\n",
    "rca_df.columns = rca_df.columns.rename('Product')\n",
    "rca_df = rca_df[1:] "
   ]
  },
  {
   "cell_type": "code",
   "execution_count": 12,
   "metadata": {},
   "outputs": [
    {
     "data": {
      "application/vnd.plotly.v1+json": {
       "config": {
        "plotlyServerURL": "https://plot.ly"
       },
       "data": [
        {
         "hovertemplate": "Product=FOOD<br>index=%{x}<br>value=%{y}<extra></extra>",
         "legendgroup": "FOOD",
         "line": {
          "color": "#636efa"
         },
         "mode": "lines",
         "name": "FOOD",
         "orientation": "v",
         "showlegend": true,
         "stackgroup": "1",
         "type": "scatter",
         "x": [
          "2013",
          "2014",
          "2015",
          "2016",
          "2017",
          "2018",
          "2019"
         ],
         "xaxis": "x9",
         "y": [
          0.13,
          0.33,
          0.53,
          0.73,
          0.93,
          1.13,
          1.33
         ],
         "yaxis": "y9"
        },
        {
         "hovertemplate": "Product=BEVERAGES AND TOBACCO<br>index=%{x}<br>value=%{y}<extra></extra>",
         "legendgroup": "BEVERAGES AND TOBACCO",
         "line": {
          "color": "#EF553B"
         },
         "mode": "lines",
         "name": "BEVERAGES AND TOBACCO",
         "orientation": "v",
         "showlegend": true,
         "stackgroup": "1",
         "type": "scatter",
         "x": [
          "2013",
          "2014",
          "2015",
          "2016",
          "2017",
          "2018",
          "2019"
         ],
         "xaxis": "x10",
         "y": [
          0.82,
          0.65,
          0.99,
          0.82,
          0.23,
          0.05,
          0.31
         ],
         "yaxis": "y10"
        },
        {
         "hovertemplate": "Product=CRUDE MATERIALS, INEDIBLE<br>index=%{x}<br>value=%{y}<extra></extra>",
         "legendgroup": "CRUDE MATERIALS, INEDIBLE",
         "line": {
          "color": "#00cc96"
         },
         "mode": "lines",
         "name": "CRUDE MATERIALS, INEDIBLE",
         "orientation": "v",
         "showlegend": true,
         "stackgroup": "1",
         "type": "scatter",
         "x": [
          "2013",
          "2014",
          "2015",
          "2016",
          "2017",
          "2018",
          "2019"
         ],
         "xaxis": "x7",
         "y": [
          0.05,
          0.36,
          0.84,
          0.77,
          0.28,
          0.65,
          0.9
         ],
         "yaxis": "y7"
        },
        {
         "hovertemplate": "Product=MINERAL FUELS, LUBRICANTS, ETC.<br>index=%{x}<br>value=%{y}<extra></extra>",
         "legendgroup": "MINERAL FUELS, LUBRICANTS, ETC.",
         "line": {
          "color": "#ab63fa"
         },
         "mode": "lines",
         "name": "MINERAL FUELS, LUBRICANTS, ETC.",
         "orientation": "v",
         "showlegend": true,
         "stackgroup": "1",
         "type": "scatter",
         "x": [
          "2013",
          "2014",
          "2015",
          "2016",
          "2017",
          "2018",
          "2019"
         ],
         "xaxis": "x8",
         "y": [
          0.76,
          0.41,
          0.94,
          0,
          0.2,
          0.01,
          0.51
         ],
         "yaxis": "y8"
        },
        {
         "hovertemplate": "Product=ANIMAL AND VEGETABLE OILS AND FATS<br>index=%{x}<br>value=%{y}<extra></extra>",
         "legendgroup": "ANIMAL AND VEGETABLE OILS AND FATS",
         "line": {
          "color": "#FFA15A"
         },
         "mode": "lines",
         "name": "ANIMAL AND VEGETABLE OILS AND FATS",
         "orientation": "v",
         "showlegend": true,
         "stackgroup": "1",
         "type": "scatter",
         "x": [
          "2013",
          "2014",
          "2015",
          "2016",
          "2017",
          "2018",
          "2019"
         ],
         "xaxis": "x5",
         "y": [
          0.78,
          0.5,
          0.01,
          0.49,
          0.74,
          0.91,
          0.28
         ],
         "yaxis": "y5"
        },
        {
         "hovertemplate": "Product=CHEMICALS<br>index=%{x}<br>value=%{y}<extra></extra>",
         "legendgroup": "CHEMICALS",
         "line": {
          "color": "#19d3f3"
         },
         "mode": "lines",
         "name": "CHEMICALS",
         "orientation": "v",
         "showlegend": true,
         "stackgroup": "1",
         "type": "scatter",
         "x": [
          "2013",
          "2014",
          "2015",
          "2016",
          "2017",
          "2018",
          "2019"
         ],
         "xaxis": "x6",
         "y": [
          0.71,
          0.96,
          0.75,
          0.37,
          0.1,
          0.91,
          0.63
         ],
         "yaxis": "y6"
        },
        {
         "hovertemplate": "Product=MANUFACTURED GOODS<br>index=%{x}<br>value=%{y}<extra></extra>",
         "legendgroup": "MANUFACTURED GOODS",
         "line": {
          "color": "#FF6692"
         },
         "mode": "lines",
         "name": "MANUFACTURED GOODS",
         "orientation": "v",
         "showlegend": true,
         "stackgroup": "1",
         "type": "scatter",
         "x": [
          "2013",
          "2014",
          "2015",
          "2016",
          "2017",
          "2018",
          "2019"
         ],
         "xaxis": "x3",
         "y": [
          0.57,
          0.86,
          0.64,
          0.99,
          0.8,
          0.09,
          0.66
         ],
         "yaxis": "y3"
        },
        {
         "hovertemplate": "Product=MACHINERY & TRANSPORT EQUIPMENT<br>index=%{x}<br>value=%{y}<extra></extra>",
         "legendgroup": "MACHINERY & TRANSPORT EQUIPMENT",
         "line": {
          "color": "#B6E880"
         },
         "mode": "lines",
         "name": "MACHINERY & TRANSPORT EQUIPMENT",
         "orientation": "v",
         "showlegend": true,
         "stackgroup": "1",
         "type": "scatter",
         "x": [
          "2013",
          "2014",
          "2015",
          "2016",
          "2017",
          "2018",
          "2019"
         ],
         "xaxis": "x4",
         "y": [
          0.06,
          0.83,
          0.76,
          0.8,
          0.59,
          0.52,
          0.85
         ],
         "yaxis": "y4"
        },
        {
         "hovertemplate": "Product=MISCELLANEOUS MANUFACTURED ARTICLES<br>index=%{x}<br>value=%{y}<extra></extra>",
         "legendgroup": "MISCELLANEOUS MANUFACTURED ARTICLES",
         "line": {
          "color": "#FF97FF"
         },
         "mode": "lines",
         "name": "MISCELLANEOUS MANUFACTURED ARTICLES",
         "orientation": "v",
         "showlegend": true,
         "stackgroup": "1",
         "type": "scatter",
         "x": [
          "2013",
          "2014",
          "2015",
          "2016",
          "2017",
          "2018",
          "2019"
         ],
         "xaxis": "x",
         "y": [
          0.69,
          0.34,
          0.24,
          0.57,
          0.06,
          0.51,
          0.37
         ],
         "yaxis": "y"
        },
        {
         "hovertemplate": "Product=MISCELLANEOUS TRANSACTIONS AND COMMODITIES<br>index=%{x}<br>value=%{y}<extra></extra>",
         "legendgroup": "MISCELLANEOUS TRANSACTIONS AND COMMODITIES",
         "line": {
          "color": "#FECB52"
         },
         "mode": "lines",
         "name": "MISCELLANEOUS TRANSACTIONS AND COMMODITIES",
         "orientation": "v",
         "showlegend": true,
         "stackgroup": "1",
         "type": "scatter",
         "x": [
          "2013",
          "2014",
          "2015",
          "2016",
          "2017",
          "2018",
          "2019"
         ],
         "xaxis": "x2",
         "y": [
          0.33,
          0.48,
          0.91,
          1,
          0.72,
          0.47,
          0.7
         ],
         "yaxis": "y2"
        }
       ],
       "layout": {
        "annotations": [
         {
          "font": {},
          "showarrow": false,
          "text": "Product=MISCELLANEOUS MANUFACTURED ARTICLES",
          "x": 0.245,
          "xanchor": "center",
          "xref": "paper",
          "y": 0.144,
          "yanchor": "bottom",
          "yref": "paper"
         },
         {
          "font": {},
          "showarrow": false,
          "text": "Product=MISCELLANEOUS TRANSACTIONS AND COMMODITIES",
          "x": 0.755,
          "xanchor": "center",
          "xref": "paper",
          "y": 0.144,
          "yanchor": "bottom",
          "yref": "paper"
         },
         {
          "font": {},
          "showarrow": false,
          "text": "Product=MANUFACTURED GOODS",
          "x": 0.245,
          "xanchor": "center",
          "xref": "paper",
          "y": 0.358,
          "yanchor": "bottom",
          "yref": "paper"
         },
         {
          "font": {},
          "showarrow": false,
          "text": "Product=MACHINERY & TRANSPORT EQUIPMENT",
          "x": 0.755,
          "xanchor": "center",
          "xref": "paper",
          "y": 0.358,
          "yanchor": "bottom",
          "yref": "paper"
         },
         {
          "font": {},
          "showarrow": false,
          "text": "Product=ANIMAL AND VEGETABLE OILS AND FATS",
          "x": 0.245,
          "xanchor": "center",
          "xref": "paper",
          "y": 0.572,
          "yanchor": "bottom",
          "yref": "paper"
         },
         {
          "font": {},
          "showarrow": false,
          "text": "Product=CHEMICALS",
          "x": 0.755,
          "xanchor": "center",
          "xref": "paper",
          "y": 0.572,
          "yanchor": "bottom",
          "yref": "paper"
         },
         {
          "font": {},
          "showarrow": false,
          "text": "Product=CRUDE MATERIALS, INEDIBLE",
          "x": 0.245,
          "xanchor": "center",
          "xref": "paper",
          "y": 0.7859999999999999,
          "yanchor": "bottom",
          "yref": "paper"
         },
         {
          "font": {},
          "showarrow": false,
          "text": "Product=MINERAL FUELS, LUBRICANTS, ETC.",
          "x": 0.755,
          "xanchor": "center",
          "xref": "paper",
          "y": 0.7859999999999999,
          "yanchor": "bottom",
          "yref": "paper"
         },
         {
          "font": {},
          "showarrow": false,
          "text": "Product=FOOD",
          "x": 0.245,
          "xanchor": "center",
          "xref": "paper",
          "y": 1,
          "yanchor": "bottom",
          "yref": "paper"
         },
         {
          "font": {},
          "showarrow": false,
          "text": "Product=BEVERAGES AND TOBACCO",
          "x": 0.755,
          "xanchor": "center",
          "xref": "paper",
          "y": 1,
          "yanchor": "bottom",
          "yref": "paper"
         }
        ],
        "legend": {
         "title": {
          "text": "Product"
         },
         "tracegroupgap": 0
        },
        "margin": {
         "t": 60
        },
        "template": {
         "data": {
          "bar": [
           {
            "error_x": {
             "color": "#2a3f5f"
            },
            "error_y": {
             "color": "#2a3f5f"
            },
            "marker": {
             "line": {
              "color": "#E5ECF6",
              "width": 0.5
             }
            },
            "type": "bar"
           }
          ],
          "barpolar": [
           {
            "marker": {
             "line": {
              "color": "#E5ECF6",
              "width": 0.5
             }
            },
            "type": "barpolar"
           }
          ],
          "carpet": [
           {
            "aaxis": {
             "endlinecolor": "#2a3f5f",
             "gridcolor": "white",
             "linecolor": "white",
             "minorgridcolor": "white",
             "startlinecolor": "#2a3f5f"
            },
            "baxis": {
             "endlinecolor": "#2a3f5f",
             "gridcolor": "white",
             "linecolor": "white",
             "minorgridcolor": "white",
             "startlinecolor": "#2a3f5f"
            },
            "type": "carpet"
           }
          ],
          "choropleth": [
           {
            "colorbar": {
             "outlinewidth": 0,
             "ticks": ""
            },
            "type": "choropleth"
           }
          ],
          "contour": [
           {
            "colorbar": {
             "outlinewidth": 0,
             "ticks": ""
            },
            "colorscale": [
             [
              0,
              "#0d0887"
             ],
             [
              0.1111111111111111,
              "#46039f"
             ],
             [
              0.2222222222222222,
              "#7201a8"
             ],
             [
              0.3333333333333333,
              "#9c179e"
             ],
             [
              0.4444444444444444,
              "#bd3786"
             ],
             [
              0.5555555555555556,
              "#d8576b"
             ],
             [
              0.6666666666666666,
              "#ed7953"
             ],
             [
              0.7777777777777778,
              "#fb9f3a"
             ],
             [
              0.8888888888888888,
              "#fdca26"
             ],
             [
              1,
              "#f0f921"
             ]
            ],
            "type": "contour"
           }
          ],
          "contourcarpet": [
           {
            "colorbar": {
             "outlinewidth": 0,
             "ticks": ""
            },
            "type": "contourcarpet"
           }
          ],
          "heatmap": [
           {
            "colorbar": {
             "outlinewidth": 0,
             "ticks": ""
            },
            "colorscale": [
             [
              0,
              "#0d0887"
             ],
             [
              0.1111111111111111,
              "#46039f"
             ],
             [
              0.2222222222222222,
              "#7201a8"
             ],
             [
              0.3333333333333333,
              "#9c179e"
             ],
             [
              0.4444444444444444,
              "#bd3786"
             ],
             [
              0.5555555555555556,
              "#d8576b"
             ],
             [
              0.6666666666666666,
              "#ed7953"
             ],
             [
              0.7777777777777778,
              "#fb9f3a"
             ],
             [
              0.8888888888888888,
              "#fdca26"
             ],
             [
              1,
              "#f0f921"
             ]
            ],
            "type": "heatmap"
           }
          ],
          "heatmapgl": [
           {
            "colorbar": {
             "outlinewidth": 0,
             "ticks": ""
            },
            "colorscale": [
             [
              0,
              "#0d0887"
             ],
             [
              0.1111111111111111,
              "#46039f"
             ],
             [
              0.2222222222222222,
              "#7201a8"
             ],
             [
              0.3333333333333333,
              "#9c179e"
             ],
             [
              0.4444444444444444,
              "#bd3786"
             ],
             [
              0.5555555555555556,
              "#d8576b"
             ],
             [
              0.6666666666666666,
              "#ed7953"
             ],
             [
              0.7777777777777778,
              "#fb9f3a"
             ],
             [
              0.8888888888888888,
              "#fdca26"
             ],
             [
              1,
              "#f0f921"
             ]
            ],
            "type": "heatmapgl"
           }
          ],
          "histogram": [
           {
            "marker": {
             "colorbar": {
              "outlinewidth": 0,
              "ticks": ""
             }
            },
            "type": "histogram"
           }
          ],
          "histogram2d": [
           {
            "colorbar": {
             "outlinewidth": 0,
             "ticks": ""
            },
            "colorscale": [
             [
              0,
              "#0d0887"
             ],
             [
              0.1111111111111111,
              "#46039f"
             ],
             [
              0.2222222222222222,
              "#7201a8"
             ],
             [
              0.3333333333333333,
              "#9c179e"
             ],
             [
              0.4444444444444444,
              "#bd3786"
             ],
             [
              0.5555555555555556,
              "#d8576b"
             ],
             [
              0.6666666666666666,
              "#ed7953"
             ],
             [
              0.7777777777777778,
              "#fb9f3a"
             ],
             [
              0.8888888888888888,
              "#fdca26"
             ],
             [
              1,
              "#f0f921"
             ]
            ],
            "type": "histogram2d"
           }
          ],
          "histogram2dcontour": [
           {
            "colorbar": {
             "outlinewidth": 0,
             "ticks": ""
            },
            "colorscale": [
             [
              0,
              "#0d0887"
             ],
             [
              0.1111111111111111,
              "#46039f"
             ],
             [
              0.2222222222222222,
              "#7201a8"
             ],
             [
              0.3333333333333333,
              "#9c179e"
             ],
             [
              0.4444444444444444,
              "#bd3786"
             ],
             [
              0.5555555555555556,
              "#d8576b"
             ],
             [
              0.6666666666666666,
              "#ed7953"
             ],
             [
              0.7777777777777778,
              "#fb9f3a"
             ],
             [
              0.8888888888888888,
              "#fdca26"
             ],
             [
              1,
              "#f0f921"
             ]
            ],
            "type": "histogram2dcontour"
           }
          ],
          "mesh3d": [
           {
            "colorbar": {
             "outlinewidth": 0,
             "ticks": ""
            },
            "type": "mesh3d"
           }
          ],
          "parcoords": [
           {
            "line": {
             "colorbar": {
              "outlinewidth": 0,
              "ticks": ""
             }
            },
            "type": "parcoords"
           }
          ],
          "pie": [
           {
            "automargin": true,
            "type": "pie"
           }
          ],
          "scatter": [
           {
            "marker": {
             "colorbar": {
              "outlinewidth": 0,
              "ticks": ""
             }
            },
            "type": "scatter"
           }
          ],
          "scatter3d": [
           {
            "line": {
             "colorbar": {
              "outlinewidth": 0,
              "ticks": ""
             }
            },
            "marker": {
             "colorbar": {
              "outlinewidth": 0,
              "ticks": ""
             }
            },
            "type": "scatter3d"
           }
          ],
          "scattercarpet": [
           {
            "marker": {
             "colorbar": {
              "outlinewidth": 0,
              "ticks": ""
             }
            },
            "type": "scattercarpet"
           }
          ],
          "scattergeo": [
           {
            "marker": {
             "colorbar": {
              "outlinewidth": 0,
              "ticks": ""
             }
            },
            "type": "scattergeo"
           }
          ],
          "scattergl": [
           {
            "marker": {
             "colorbar": {
              "outlinewidth": 0,
              "ticks": ""
             }
            },
            "type": "scattergl"
           }
          ],
          "scattermapbox": [
           {
            "marker": {
             "colorbar": {
              "outlinewidth": 0,
              "ticks": ""
             }
            },
            "type": "scattermapbox"
           }
          ],
          "scatterpolar": [
           {
            "marker": {
             "colorbar": {
              "outlinewidth": 0,
              "ticks": ""
             }
            },
            "type": "scatterpolar"
           }
          ],
          "scatterpolargl": [
           {
            "marker": {
             "colorbar": {
              "outlinewidth": 0,
              "ticks": ""
             }
            },
            "type": "scatterpolargl"
           }
          ],
          "scatterternary": [
           {
            "marker": {
             "colorbar": {
              "outlinewidth": 0,
              "ticks": ""
             }
            },
            "type": "scatterternary"
           }
          ],
          "surface": [
           {
            "colorbar": {
             "outlinewidth": 0,
             "ticks": ""
            },
            "colorscale": [
             [
              0,
              "#0d0887"
             ],
             [
              0.1111111111111111,
              "#46039f"
             ],
             [
              0.2222222222222222,
              "#7201a8"
             ],
             [
              0.3333333333333333,
              "#9c179e"
             ],
             [
              0.4444444444444444,
              "#bd3786"
             ],
             [
              0.5555555555555556,
              "#d8576b"
             ],
             [
              0.6666666666666666,
              "#ed7953"
             ],
             [
              0.7777777777777778,
              "#fb9f3a"
             ],
             [
              0.8888888888888888,
              "#fdca26"
             ],
             [
              1,
              "#f0f921"
             ]
            ],
            "type": "surface"
           }
          ],
          "table": [
           {
            "cells": {
             "fill": {
              "color": "#EBF0F8"
             },
             "line": {
              "color": "white"
             }
            },
            "header": {
             "fill": {
              "color": "#C8D4E3"
             },
             "line": {
              "color": "white"
             }
            },
            "type": "table"
           }
          ]
         },
         "layout": {
          "annotationdefaults": {
           "arrowcolor": "#2a3f5f",
           "arrowhead": 0,
           "arrowwidth": 1
          },
          "coloraxis": {
           "colorbar": {
            "outlinewidth": 0,
            "ticks": ""
           }
          },
          "colorscale": {
           "diverging": [
            [
             0,
             "#8e0152"
            ],
            [
             0.1,
             "#c51b7d"
            ],
            [
             0.2,
             "#de77ae"
            ],
            [
             0.3,
             "#f1b6da"
            ],
            [
             0.4,
             "#fde0ef"
            ],
            [
             0.5,
             "#f7f7f7"
            ],
            [
             0.6,
             "#e6f5d0"
            ],
            [
             0.7,
             "#b8e186"
            ],
            [
             0.8,
             "#7fbc41"
            ],
            [
             0.9,
             "#4d9221"
            ],
            [
             1,
             "#276419"
            ]
           ],
           "sequential": [
            [
             0,
             "#0d0887"
            ],
            [
             0.1111111111111111,
             "#46039f"
            ],
            [
             0.2222222222222222,
             "#7201a8"
            ],
            [
             0.3333333333333333,
             "#9c179e"
            ],
            [
             0.4444444444444444,
             "#bd3786"
            ],
            [
             0.5555555555555556,
             "#d8576b"
            ],
            [
             0.6666666666666666,
             "#ed7953"
            ],
            [
             0.7777777777777778,
             "#fb9f3a"
            ],
            [
             0.8888888888888888,
             "#fdca26"
            ],
            [
             1,
             "#f0f921"
            ]
           ],
           "sequentialminus": [
            [
             0,
             "#0d0887"
            ],
            [
             0.1111111111111111,
             "#46039f"
            ],
            [
             0.2222222222222222,
             "#7201a8"
            ],
            [
             0.3333333333333333,
             "#9c179e"
            ],
            [
             0.4444444444444444,
             "#bd3786"
            ],
            [
             0.5555555555555556,
             "#d8576b"
            ],
            [
             0.6666666666666666,
             "#ed7953"
            ],
            [
             0.7777777777777778,
             "#fb9f3a"
            ],
            [
             0.8888888888888888,
             "#fdca26"
            ],
            [
             1,
             "#f0f921"
            ]
           ]
          },
          "colorway": [
           "#636efa",
           "#EF553B",
           "#00cc96",
           "#ab63fa",
           "#FFA15A",
           "#19d3f3",
           "#FF6692",
           "#B6E880",
           "#FF97FF",
           "#FECB52"
          ],
          "font": {
           "color": "#2a3f5f"
          },
          "geo": {
           "bgcolor": "white",
           "lakecolor": "white",
           "landcolor": "#E5ECF6",
           "showlakes": true,
           "showland": true,
           "subunitcolor": "white"
          },
          "hoverlabel": {
           "align": "left"
          },
          "hovermode": "closest",
          "mapbox": {
           "style": "light"
          },
          "paper_bgcolor": "white",
          "plot_bgcolor": "#E5ECF6",
          "polar": {
           "angularaxis": {
            "gridcolor": "white",
            "linecolor": "white",
            "ticks": ""
           },
           "bgcolor": "#E5ECF6",
           "radialaxis": {
            "gridcolor": "white",
            "linecolor": "white",
            "ticks": ""
           }
          },
          "scene": {
           "xaxis": {
            "backgroundcolor": "#E5ECF6",
            "gridcolor": "white",
            "gridwidth": 2,
            "linecolor": "white",
            "showbackground": true,
            "ticks": "",
            "zerolinecolor": "white"
           },
           "yaxis": {
            "backgroundcolor": "#E5ECF6",
            "gridcolor": "white",
            "gridwidth": 2,
            "linecolor": "white",
            "showbackground": true,
            "ticks": "",
            "zerolinecolor": "white"
           },
           "zaxis": {
            "backgroundcolor": "#E5ECF6",
            "gridcolor": "white",
            "gridwidth": 2,
            "linecolor": "white",
            "showbackground": true,
            "ticks": "",
            "zerolinecolor": "white"
           }
          },
          "shapedefaults": {
           "line": {
            "color": "#2a3f5f"
           }
          },
          "ternary": {
           "aaxis": {
            "gridcolor": "white",
            "linecolor": "white",
            "ticks": ""
           },
           "baxis": {
            "gridcolor": "white",
            "linecolor": "white",
            "ticks": ""
           },
           "bgcolor": "#E5ECF6",
           "caxis": {
            "gridcolor": "white",
            "linecolor": "white",
            "ticks": ""
           }
          },
          "title": {
           "x": 0.05
          },
          "xaxis": {
           "automargin": true,
           "gridcolor": "white",
           "linecolor": "white",
           "ticks": "",
           "title": {
            "standoff": 15
           },
           "zerolinecolor": "white",
           "zerolinewidth": 2
          },
          "yaxis": {
           "automargin": true,
           "gridcolor": "white",
           "linecolor": "white",
           "ticks": "",
           "title": {
            "standoff": 15
           },
           "zerolinecolor": "white",
           "zerolinewidth": 2
          }
         }
        },
        "xaxis": {
         "anchor": "y",
         "domain": [
          0,
          0.49
         ],
         "title": {
          "text": "index"
         }
        },
        "xaxis10": {
         "anchor": "y10",
         "domain": [
          0.51,
          1
         ],
         "matches": "x",
         "showticklabels": false
        },
        "xaxis2": {
         "anchor": "y2",
         "domain": [
          0.51,
          1
         ],
         "matches": "x",
         "title": {
          "text": "index"
         }
        },
        "xaxis3": {
         "anchor": "y3",
         "domain": [
          0,
          0.49
         ],
         "matches": "x",
         "showticklabels": false
        },
        "xaxis4": {
         "anchor": "y4",
         "domain": [
          0.51,
          1
         ],
         "matches": "x",
         "showticklabels": false
        },
        "xaxis5": {
         "anchor": "y5",
         "domain": [
          0,
          0.49
         ],
         "matches": "x",
         "showticklabels": false
        },
        "xaxis6": {
         "anchor": "y6",
         "domain": [
          0.51,
          1
         ],
         "matches": "x",
         "showticklabels": false
        },
        "xaxis7": {
         "anchor": "y7",
         "domain": [
          0,
          0.49
         ],
         "matches": "x",
         "showticklabels": false
        },
        "xaxis8": {
         "anchor": "y8",
         "domain": [
          0.51,
          1
         ],
         "matches": "x",
         "showticklabels": false
        },
        "xaxis9": {
         "anchor": "y9",
         "domain": [
          0,
          0.49
         ],
         "matches": "x",
         "showticklabels": false
        },
        "yaxis": {
         "anchor": "x",
         "domain": [
          0,
          0.144
         ],
         "title": {
          "text": "value"
         }
        },
        "yaxis10": {
         "anchor": "x10",
         "domain": [
          0.856,
          1
         ],
         "matches": "y",
         "showticklabels": false
        },
        "yaxis2": {
         "anchor": "x2",
         "domain": [
          0,
          0.144
         ],
         "matches": "y",
         "showticklabels": false
        },
        "yaxis3": {
         "anchor": "x3",
         "domain": [
          0.214,
          0.358
         ],
         "matches": "y",
         "title": {
          "text": "value"
         }
        },
        "yaxis4": {
         "anchor": "x4",
         "domain": [
          0.214,
          0.358
         ],
         "matches": "y",
         "showticklabels": false
        },
        "yaxis5": {
         "anchor": "x5",
         "domain": [
          0.428,
          0.572
         ],
         "matches": "y",
         "title": {
          "text": "value"
         }
        },
        "yaxis6": {
         "anchor": "x6",
         "domain": [
          0.428,
          0.572
         ],
         "matches": "y",
         "showticklabels": false
        },
        "yaxis7": {
         "anchor": "x7",
         "domain": [
          0.6419999999999999,
          0.7859999999999999
         ],
         "matches": "y",
         "title": {
          "text": "value"
         }
        },
        "yaxis8": {
         "anchor": "x8",
         "domain": [
          0.6419999999999999,
          0.7859999999999999
         ],
         "matches": "y",
         "showticklabels": false
        },
        "yaxis9": {
         "anchor": "x9",
         "domain": [
          0.856,
          1
         ],
         "matches": "y",
         "title": {
          "text": "value"
         }
        }
       }
      },
      "text/html": [
       "<div>                            <div id=\"8b1df922-3e10-4ef0-9387-2c66bf2842fb\" class=\"plotly-graph-div\" style=\"height:525px; width:100%;\"></div>            <script type=\"text/javascript\">                require([\"plotly\"], function(Plotly) {                    window.PLOTLYENV=window.PLOTLYENV || {};                                    if (document.getElementById(\"8b1df922-3e10-4ef0-9387-2c66bf2842fb\")) {                    Plotly.newPlot(                        \"8b1df922-3e10-4ef0-9387-2c66bf2842fb\",                        [{\"hovertemplate\": \"Product=FOOD<br>index=%{x}<br>value=%{y}<extra></extra>\", \"legendgroup\": \"FOOD\", \"line\": {\"color\": \"#636efa\"}, \"mode\": \"lines\", \"name\": \"FOOD\", \"orientation\": \"v\", \"showlegend\": true, \"stackgroup\": \"1\", \"type\": \"scatter\", \"x\": [\"2013\", \"2014\", \"2015\", \"2016\", \"2017\", \"2018\", \"2019\"], \"xaxis\": \"x9\", \"y\": [0.13, 0.33, 0.53, 0.73, 0.93, 1.13, 1.33], \"yaxis\": \"y9\"}, {\"hovertemplate\": \"Product=BEVERAGES AND TOBACCO<br>index=%{x}<br>value=%{y}<extra></extra>\", \"legendgroup\": \"BEVERAGES AND TOBACCO\", \"line\": {\"color\": \"#EF553B\"}, \"mode\": \"lines\", \"name\": \"BEVERAGES AND TOBACCO\", \"orientation\": \"v\", \"showlegend\": true, \"stackgroup\": \"1\", \"type\": \"scatter\", \"x\": [\"2013\", \"2014\", \"2015\", \"2016\", \"2017\", \"2018\", \"2019\"], \"xaxis\": \"x10\", \"y\": [0.82, 0.65, 0.99, 0.82, 0.23, 0.05, 0.31], \"yaxis\": \"y10\"}, {\"hovertemplate\": \"Product=CRUDE MATERIALS, INEDIBLE<br>index=%{x}<br>value=%{y}<extra></extra>\", \"legendgroup\": \"CRUDE MATERIALS, INEDIBLE\", \"line\": {\"color\": \"#00cc96\"}, \"mode\": \"lines\", \"name\": \"CRUDE MATERIALS, INEDIBLE\", \"orientation\": \"v\", \"showlegend\": true, \"stackgroup\": \"1\", \"type\": \"scatter\", \"x\": [\"2013\", \"2014\", \"2015\", \"2016\", \"2017\", \"2018\", \"2019\"], \"xaxis\": \"x7\", \"y\": [0.05, 0.36, 0.84, 0.77, 0.28, 0.65, 0.9], \"yaxis\": \"y7\"}, {\"hovertemplate\": \"Product=MINERAL FUELS, LUBRICANTS, ETC.<br>index=%{x}<br>value=%{y}<extra></extra>\", \"legendgroup\": \"MINERAL FUELS, LUBRICANTS, ETC.\", \"line\": {\"color\": \"#ab63fa\"}, \"mode\": \"lines\", \"name\": \"MINERAL FUELS, LUBRICANTS, ETC.\", \"orientation\": \"v\", \"showlegend\": true, \"stackgroup\": \"1\", \"type\": \"scatter\", \"x\": [\"2013\", \"2014\", \"2015\", \"2016\", \"2017\", \"2018\", \"2019\"], \"xaxis\": \"x8\", \"y\": [0.76, 0.41, 0.94, 0.0, 0.2, 0.01, 0.51], \"yaxis\": \"y8\"}, {\"hovertemplate\": \"Product=ANIMAL AND VEGETABLE OILS AND FATS<br>index=%{x}<br>value=%{y}<extra></extra>\", \"legendgroup\": \"ANIMAL AND VEGETABLE OILS AND FATS\", \"line\": {\"color\": \"#FFA15A\"}, \"mode\": \"lines\", \"name\": \"ANIMAL AND VEGETABLE OILS AND FATS\", \"orientation\": \"v\", \"showlegend\": true, \"stackgroup\": \"1\", \"type\": \"scatter\", \"x\": [\"2013\", \"2014\", \"2015\", \"2016\", \"2017\", \"2018\", \"2019\"], \"xaxis\": \"x5\", \"y\": [0.78, 0.5, 0.01, 0.49, 0.74, 0.91, 0.28], \"yaxis\": \"y5\"}, {\"hovertemplate\": \"Product=CHEMICALS<br>index=%{x}<br>value=%{y}<extra></extra>\", \"legendgroup\": \"CHEMICALS\", \"line\": {\"color\": \"#19d3f3\"}, \"mode\": \"lines\", \"name\": \"CHEMICALS\", \"orientation\": \"v\", \"showlegend\": true, \"stackgroup\": \"1\", \"type\": \"scatter\", \"x\": [\"2013\", \"2014\", \"2015\", \"2016\", \"2017\", \"2018\", \"2019\"], \"xaxis\": \"x6\", \"y\": [0.71, 0.96, 0.75, 0.37, 0.1, 0.91, 0.63], \"yaxis\": \"y6\"}, {\"hovertemplate\": \"Product=MANUFACTURED GOODS<br>index=%{x}<br>value=%{y}<extra></extra>\", \"legendgroup\": \"MANUFACTURED GOODS\", \"line\": {\"color\": \"#FF6692\"}, \"mode\": \"lines\", \"name\": \"MANUFACTURED GOODS\", \"orientation\": \"v\", \"showlegend\": true, \"stackgroup\": \"1\", \"type\": \"scatter\", \"x\": [\"2013\", \"2014\", \"2015\", \"2016\", \"2017\", \"2018\", \"2019\"], \"xaxis\": \"x3\", \"y\": [0.57, 0.86, 0.64, 0.99, 0.8, 0.09, 0.66], \"yaxis\": \"y3\"}, {\"hovertemplate\": \"Product=MACHINERY & TRANSPORT EQUIPMENT<br>index=%{x}<br>value=%{y}<extra></extra>\", \"legendgroup\": \"MACHINERY & TRANSPORT EQUIPMENT\", \"line\": {\"color\": \"#B6E880\"}, \"mode\": \"lines\", \"name\": \"MACHINERY & TRANSPORT EQUIPMENT\", \"orientation\": \"v\", \"showlegend\": true, \"stackgroup\": \"1\", \"type\": \"scatter\", \"x\": [\"2013\", \"2014\", \"2015\", \"2016\", \"2017\", \"2018\", \"2019\"], \"xaxis\": \"x4\", \"y\": [0.06, 0.83, 0.76, 0.8, 0.59, 0.52, 0.85], \"yaxis\": \"y4\"}, {\"hovertemplate\": \"Product=MISCELLANEOUS MANUFACTURED ARTICLES<br>index=%{x}<br>value=%{y}<extra></extra>\", \"legendgroup\": \"MISCELLANEOUS MANUFACTURED ARTICLES\", \"line\": {\"color\": \"#FF97FF\"}, \"mode\": \"lines\", \"name\": \"MISCELLANEOUS MANUFACTURED ARTICLES\", \"orientation\": \"v\", \"showlegend\": true, \"stackgroup\": \"1\", \"type\": \"scatter\", \"x\": [\"2013\", \"2014\", \"2015\", \"2016\", \"2017\", \"2018\", \"2019\"], \"xaxis\": \"x\", \"y\": [0.69, 0.34, 0.24, 0.57, 0.06, 0.51, 0.37], \"yaxis\": \"y\"}, {\"hovertemplate\": \"Product=MISCELLANEOUS TRANSACTIONS AND COMMODITIES<br>index=%{x}<br>value=%{y}<extra></extra>\", \"legendgroup\": \"MISCELLANEOUS TRANSACTIONS AND COMMODITIES\", \"line\": {\"color\": \"#FECB52\"}, \"mode\": \"lines\", \"name\": \"MISCELLANEOUS TRANSACTIONS AND COMMODITIES\", \"orientation\": \"v\", \"showlegend\": true, \"stackgroup\": \"1\", \"type\": \"scatter\", \"x\": [\"2013\", \"2014\", \"2015\", \"2016\", \"2017\", \"2018\", \"2019\"], \"xaxis\": \"x2\", \"y\": [0.33, 0.48, 0.91, 1.0, 0.72, 0.47, 0.7], \"yaxis\": \"y2\"}],                        {\"annotations\": [{\"font\": {}, \"showarrow\": false, \"text\": \"Product=MISCELLANEOUS MANUFACTURED ARTICLES\", \"x\": 0.245, \"xanchor\": \"center\", \"xref\": \"paper\", \"y\": 0.144, \"yanchor\": \"bottom\", \"yref\": \"paper\"}, {\"font\": {}, \"showarrow\": false, \"text\": \"Product=MISCELLANEOUS TRANSACTIONS AND COMMODITIES\", \"x\": 0.755, \"xanchor\": \"center\", \"xref\": \"paper\", \"y\": 0.144, \"yanchor\": \"bottom\", \"yref\": \"paper\"}, {\"font\": {}, \"showarrow\": false, \"text\": \"Product=MANUFACTURED GOODS\", \"x\": 0.245, \"xanchor\": \"center\", \"xref\": \"paper\", \"y\": 0.358, \"yanchor\": \"bottom\", \"yref\": \"paper\"}, {\"font\": {}, \"showarrow\": false, \"text\": \"Product=MACHINERY & TRANSPORT EQUIPMENT\", \"x\": 0.755, \"xanchor\": \"center\", \"xref\": \"paper\", \"y\": 0.358, \"yanchor\": \"bottom\", \"yref\": \"paper\"}, {\"font\": {}, \"showarrow\": false, \"text\": \"Product=ANIMAL AND VEGETABLE OILS AND FATS\", \"x\": 0.245, \"xanchor\": \"center\", \"xref\": \"paper\", \"y\": 0.572, \"yanchor\": \"bottom\", \"yref\": \"paper\"}, {\"font\": {}, \"showarrow\": false, \"text\": \"Product=CHEMICALS\", \"x\": 0.755, \"xanchor\": \"center\", \"xref\": \"paper\", \"y\": 0.572, \"yanchor\": \"bottom\", \"yref\": \"paper\"}, {\"font\": {}, \"showarrow\": false, \"text\": \"Product=CRUDE MATERIALS, INEDIBLE\", \"x\": 0.245, \"xanchor\": \"center\", \"xref\": \"paper\", \"y\": 0.7859999999999999, \"yanchor\": \"bottom\", \"yref\": \"paper\"}, {\"font\": {}, \"showarrow\": false, \"text\": \"Product=MINERAL FUELS, LUBRICANTS, ETC.\", \"x\": 0.755, \"xanchor\": \"center\", \"xref\": \"paper\", \"y\": 0.7859999999999999, \"yanchor\": \"bottom\", \"yref\": \"paper\"}, {\"font\": {}, \"showarrow\": false, \"text\": \"Product=FOOD\", \"x\": 0.245, \"xanchor\": \"center\", \"xref\": \"paper\", \"y\": 1.0, \"yanchor\": \"bottom\", \"yref\": \"paper\"}, {\"font\": {}, \"showarrow\": false, \"text\": \"Product=BEVERAGES AND TOBACCO\", \"x\": 0.755, \"xanchor\": \"center\", \"xref\": \"paper\", \"y\": 1.0, \"yanchor\": \"bottom\", \"yref\": \"paper\"}], \"legend\": {\"title\": {\"text\": \"Product\"}, \"tracegroupgap\": 0}, \"margin\": {\"t\": 60}, \"template\": {\"data\": {\"bar\": [{\"error_x\": {\"color\": \"#2a3f5f\"}, \"error_y\": {\"color\": \"#2a3f5f\"}, \"marker\": {\"line\": {\"color\": \"#E5ECF6\", \"width\": 0.5}}, \"type\": \"bar\"}], \"barpolar\": [{\"marker\": {\"line\": {\"color\": \"#E5ECF6\", \"width\": 0.5}}, \"type\": \"barpolar\"}], \"carpet\": [{\"aaxis\": {\"endlinecolor\": \"#2a3f5f\", \"gridcolor\": \"white\", \"linecolor\": \"white\", \"minorgridcolor\": \"white\", \"startlinecolor\": \"#2a3f5f\"}, \"baxis\": {\"endlinecolor\": \"#2a3f5f\", \"gridcolor\": \"white\", \"linecolor\": \"white\", \"minorgridcolor\": \"white\", \"startlinecolor\": \"#2a3f5f\"}, \"type\": \"carpet\"}], \"choropleth\": [{\"colorbar\": {\"outlinewidth\": 0, \"ticks\": \"\"}, \"type\": \"choropleth\"}], \"contour\": [{\"colorbar\": {\"outlinewidth\": 0, \"ticks\": \"\"}, \"colorscale\": [[0.0, \"#0d0887\"], [0.1111111111111111, \"#46039f\"], [0.2222222222222222, \"#7201a8\"], [0.3333333333333333, \"#9c179e\"], [0.4444444444444444, \"#bd3786\"], [0.5555555555555556, \"#d8576b\"], [0.6666666666666666, \"#ed7953\"], [0.7777777777777778, \"#fb9f3a\"], [0.8888888888888888, \"#fdca26\"], [1.0, \"#f0f921\"]], \"type\": \"contour\"}], \"contourcarpet\": [{\"colorbar\": {\"outlinewidth\": 0, \"ticks\": \"\"}, \"type\": \"contourcarpet\"}], \"heatmap\": [{\"colorbar\": {\"outlinewidth\": 0, \"ticks\": \"\"}, \"colorscale\": [[0.0, \"#0d0887\"], [0.1111111111111111, \"#46039f\"], [0.2222222222222222, \"#7201a8\"], [0.3333333333333333, \"#9c179e\"], [0.4444444444444444, \"#bd3786\"], [0.5555555555555556, \"#d8576b\"], [0.6666666666666666, \"#ed7953\"], [0.7777777777777778, \"#fb9f3a\"], [0.8888888888888888, \"#fdca26\"], [1.0, \"#f0f921\"]], \"type\": \"heatmap\"}], \"heatmapgl\": [{\"colorbar\": {\"outlinewidth\": 0, \"ticks\": \"\"}, \"colorscale\": [[0.0, \"#0d0887\"], [0.1111111111111111, \"#46039f\"], [0.2222222222222222, \"#7201a8\"], [0.3333333333333333, \"#9c179e\"], [0.4444444444444444, \"#bd3786\"], [0.5555555555555556, \"#d8576b\"], [0.6666666666666666, \"#ed7953\"], [0.7777777777777778, \"#fb9f3a\"], [0.8888888888888888, \"#fdca26\"], [1.0, \"#f0f921\"]], \"type\": \"heatmapgl\"}], \"histogram\": [{\"marker\": {\"colorbar\": {\"outlinewidth\": 0, \"ticks\": \"\"}}, \"type\": \"histogram\"}], \"histogram2d\": [{\"colorbar\": {\"outlinewidth\": 0, \"ticks\": \"\"}, \"colorscale\": [[0.0, \"#0d0887\"], [0.1111111111111111, \"#46039f\"], [0.2222222222222222, \"#7201a8\"], [0.3333333333333333, \"#9c179e\"], [0.4444444444444444, \"#bd3786\"], [0.5555555555555556, \"#d8576b\"], [0.6666666666666666, \"#ed7953\"], [0.7777777777777778, \"#fb9f3a\"], [0.8888888888888888, \"#fdca26\"], [1.0, \"#f0f921\"]], \"type\": \"histogram2d\"}], \"histogram2dcontour\": [{\"colorbar\": {\"outlinewidth\": 0, \"ticks\": \"\"}, \"colorscale\": [[0.0, \"#0d0887\"], [0.1111111111111111, \"#46039f\"], [0.2222222222222222, \"#7201a8\"], [0.3333333333333333, \"#9c179e\"], [0.4444444444444444, \"#bd3786\"], [0.5555555555555556, \"#d8576b\"], [0.6666666666666666, \"#ed7953\"], [0.7777777777777778, \"#fb9f3a\"], [0.8888888888888888, \"#fdca26\"], [1.0, \"#f0f921\"]], \"type\": \"histogram2dcontour\"}], \"mesh3d\": [{\"colorbar\": {\"outlinewidth\": 0, \"ticks\": \"\"}, \"type\": \"mesh3d\"}], \"parcoords\": [{\"line\": {\"colorbar\": {\"outlinewidth\": 0, \"ticks\": \"\"}}, \"type\": \"parcoords\"}], \"pie\": [{\"automargin\": true, \"type\": \"pie\"}], \"scatter\": [{\"marker\": {\"colorbar\": {\"outlinewidth\": 0, \"ticks\": \"\"}}, \"type\": \"scatter\"}], \"scatter3d\": [{\"line\": {\"colorbar\": {\"outlinewidth\": 0, \"ticks\": \"\"}}, \"marker\": {\"colorbar\": {\"outlinewidth\": 0, \"ticks\": \"\"}}, \"type\": \"scatter3d\"}], \"scattercarpet\": [{\"marker\": {\"colorbar\": {\"outlinewidth\": 0, \"ticks\": \"\"}}, \"type\": \"scattercarpet\"}], \"scattergeo\": [{\"marker\": {\"colorbar\": {\"outlinewidth\": 0, \"ticks\": \"\"}}, \"type\": \"scattergeo\"}], \"scattergl\": [{\"marker\": {\"colorbar\": {\"outlinewidth\": 0, \"ticks\": \"\"}}, \"type\": \"scattergl\"}], \"scattermapbox\": [{\"marker\": {\"colorbar\": {\"outlinewidth\": 0, \"ticks\": \"\"}}, \"type\": \"scattermapbox\"}], \"scatterpolar\": [{\"marker\": {\"colorbar\": {\"outlinewidth\": 0, \"ticks\": \"\"}}, \"type\": \"scatterpolar\"}], \"scatterpolargl\": [{\"marker\": {\"colorbar\": {\"outlinewidth\": 0, \"ticks\": \"\"}}, \"type\": \"scatterpolargl\"}], \"scatterternary\": [{\"marker\": {\"colorbar\": {\"outlinewidth\": 0, \"ticks\": \"\"}}, \"type\": \"scatterternary\"}], \"surface\": [{\"colorbar\": {\"outlinewidth\": 0, \"ticks\": \"\"}, \"colorscale\": [[0.0, \"#0d0887\"], [0.1111111111111111, \"#46039f\"], [0.2222222222222222, \"#7201a8\"], [0.3333333333333333, \"#9c179e\"], [0.4444444444444444, \"#bd3786\"], [0.5555555555555556, \"#d8576b\"], [0.6666666666666666, \"#ed7953\"], [0.7777777777777778, \"#fb9f3a\"], [0.8888888888888888, \"#fdca26\"], [1.0, \"#f0f921\"]], \"type\": \"surface\"}], \"table\": [{\"cells\": {\"fill\": {\"color\": \"#EBF0F8\"}, \"line\": {\"color\": \"white\"}}, \"header\": {\"fill\": {\"color\": \"#C8D4E3\"}, \"line\": {\"color\": \"white\"}}, \"type\": \"table\"}]}, \"layout\": {\"annotationdefaults\": {\"arrowcolor\": \"#2a3f5f\", \"arrowhead\": 0, \"arrowwidth\": 1}, \"coloraxis\": {\"colorbar\": {\"outlinewidth\": 0, \"ticks\": \"\"}}, \"colorscale\": {\"diverging\": [[0, \"#8e0152\"], [0.1, \"#c51b7d\"], [0.2, \"#de77ae\"], [0.3, \"#f1b6da\"], [0.4, \"#fde0ef\"], [0.5, \"#f7f7f7\"], [0.6, \"#e6f5d0\"], [0.7, \"#b8e186\"], [0.8, \"#7fbc41\"], [0.9, \"#4d9221\"], [1, \"#276419\"]], \"sequential\": [[0.0, \"#0d0887\"], [0.1111111111111111, \"#46039f\"], [0.2222222222222222, \"#7201a8\"], [0.3333333333333333, \"#9c179e\"], [0.4444444444444444, \"#bd3786\"], [0.5555555555555556, \"#d8576b\"], [0.6666666666666666, \"#ed7953\"], [0.7777777777777778, \"#fb9f3a\"], [0.8888888888888888, \"#fdca26\"], [1.0, \"#f0f921\"]], \"sequentialminus\": [[0.0, \"#0d0887\"], [0.1111111111111111, \"#46039f\"], [0.2222222222222222, \"#7201a8\"], [0.3333333333333333, \"#9c179e\"], [0.4444444444444444, \"#bd3786\"], [0.5555555555555556, \"#d8576b\"], [0.6666666666666666, \"#ed7953\"], [0.7777777777777778, \"#fb9f3a\"], [0.8888888888888888, \"#fdca26\"], [1.0, \"#f0f921\"]]}, \"colorway\": [\"#636efa\", \"#EF553B\", \"#00cc96\", \"#ab63fa\", \"#FFA15A\", \"#19d3f3\", \"#FF6692\", \"#B6E880\", \"#FF97FF\", \"#FECB52\"], \"font\": {\"color\": \"#2a3f5f\"}, \"geo\": {\"bgcolor\": \"white\", \"lakecolor\": \"white\", \"landcolor\": \"#E5ECF6\", \"showlakes\": true, \"showland\": true, \"subunitcolor\": \"white\"}, \"hoverlabel\": {\"align\": \"left\"}, \"hovermode\": \"closest\", \"mapbox\": {\"style\": \"light\"}, \"paper_bgcolor\": \"white\", \"plot_bgcolor\": \"#E5ECF6\", \"polar\": {\"angularaxis\": {\"gridcolor\": \"white\", \"linecolor\": \"white\", \"ticks\": \"\"}, \"bgcolor\": \"#E5ECF6\", \"radialaxis\": {\"gridcolor\": \"white\", \"linecolor\": \"white\", \"ticks\": \"\"}}, \"scene\": {\"xaxis\": {\"backgroundcolor\": \"#E5ECF6\", \"gridcolor\": \"white\", \"gridwidth\": 2, \"linecolor\": \"white\", \"showbackground\": true, \"ticks\": \"\", \"zerolinecolor\": \"white\"}, \"yaxis\": {\"backgroundcolor\": \"#E5ECF6\", \"gridcolor\": \"white\", \"gridwidth\": 2, \"linecolor\": \"white\", \"showbackground\": true, \"ticks\": \"\", \"zerolinecolor\": \"white\"}, \"zaxis\": {\"backgroundcolor\": \"#E5ECF6\", \"gridcolor\": \"white\", \"gridwidth\": 2, \"linecolor\": \"white\", \"showbackground\": true, \"ticks\": \"\", \"zerolinecolor\": \"white\"}}, \"shapedefaults\": {\"line\": {\"color\": \"#2a3f5f\"}}, \"ternary\": {\"aaxis\": {\"gridcolor\": \"white\", \"linecolor\": \"white\", \"ticks\": \"\"}, \"baxis\": {\"gridcolor\": \"white\", \"linecolor\": \"white\", \"ticks\": \"\"}, \"bgcolor\": \"#E5ECF6\", \"caxis\": {\"gridcolor\": \"white\", \"linecolor\": \"white\", \"ticks\": \"\"}}, \"title\": {\"x\": 0.05}, \"xaxis\": {\"automargin\": true, \"gridcolor\": \"white\", \"linecolor\": \"white\", \"ticks\": \"\", \"title\": {\"standoff\": 15}, \"zerolinecolor\": \"white\", \"zerolinewidth\": 2}, \"yaxis\": {\"automargin\": true, \"gridcolor\": \"white\", \"linecolor\": \"white\", \"ticks\": \"\", \"title\": {\"standoff\": 15}, \"zerolinecolor\": \"white\", \"zerolinewidth\": 2}}}, \"xaxis\": {\"anchor\": \"y\", \"domain\": [0.0, 0.49], \"title\": {\"text\": \"index\"}}, \"xaxis10\": {\"anchor\": \"y10\", \"domain\": [0.51, 1.0], \"matches\": \"x\", \"showticklabels\": false}, \"xaxis2\": {\"anchor\": \"y2\", \"domain\": [0.51, 1.0], \"matches\": \"x\", \"title\": {\"text\": \"index\"}}, \"xaxis3\": {\"anchor\": \"y3\", \"domain\": [0.0, 0.49], \"matches\": \"x\", \"showticklabels\": false}, \"xaxis4\": {\"anchor\": \"y4\", \"domain\": [0.51, 1.0], \"matches\": \"x\", \"showticklabels\": false}, \"xaxis5\": {\"anchor\": \"y5\", \"domain\": [0.0, 0.49], \"matches\": \"x\", \"showticklabels\": false}, \"xaxis6\": {\"anchor\": \"y6\", \"domain\": [0.51, 1.0], \"matches\": \"x\", \"showticklabels\": false}, \"xaxis7\": {\"anchor\": \"y7\", \"domain\": [0.0, 0.49], \"matches\": \"x\", \"showticklabels\": false}, \"xaxis8\": {\"anchor\": \"y8\", \"domain\": [0.51, 1.0], \"matches\": \"x\", \"showticklabels\": false}, \"xaxis9\": {\"anchor\": \"y9\", \"domain\": [0.0, 0.49], \"matches\": \"x\", \"showticklabels\": false}, \"yaxis\": {\"anchor\": \"x\", \"domain\": [0.0, 0.144], \"title\": {\"text\": \"value\"}}, \"yaxis10\": {\"anchor\": \"x10\", \"domain\": [0.856, 1.0], \"matches\": \"y\", \"showticklabels\": false}, \"yaxis2\": {\"anchor\": \"x2\", \"domain\": [0.0, 0.144], \"matches\": \"y\", \"showticklabels\": false}, \"yaxis3\": {\"anchor\": \"x3\", \"domain\": [0.214, 0.358], \"matches\": \"y\", \"title\": {\"text\": \"value\"}}, \"yaxis4\": {\"anchor\": \"x4\", \"domain\": [0.214, 0.358], \"matches\": \"y\", \"showticklabels\": false}, \"yaxis5\": {\"anchor\": \"x5\", \"domain\": [0.428, 0.572], \"matches\": \"y\", \"title\": {\"text\": \"value\"}}, \"yaxis6\": {\"anchor\": \"x6\", \"domain\": [0.428, 0.572], \"matches\": \"y\", \"showticklabels\": false}, \"yaxis7\": {\"anchor\": \"x7\", \"domain\": [0.6419999999999999, 0.7859999999999999], \"matches\": \"y\", \"title\": {\"text\": \"value\"}}, \"yaxis8\": {\"anchor\": \"x8\", \"domain\": [0.6419999999999999, 0.7859999999999999], \"matches\": \"y\", \"showticklabels\": false}, \"yaxis9\": {\"anchor\": \"x9\", \"domain\": [0.856, 1.0], \"matches\": \"y\", \"title\": {\"text\": \"value\"}}},                        {\"responsive\": true}                    ).then(function(){\n",
       "                            \n",
       "var gd = document.getElementById('8b1df922-3e10-4ef0-9387-2c66bf2842fb');\n",
       "var x = new MutationObserver(function (mutations, observer) {{\n",
       "        var display = window.getComputedStyle(gd).display;\n",
       "        if (!display || display === 'none') {{\n",
       "            console.log([gd, 'removed!']);\n",
       "            Plotly.purge(gd);\n",
       "            observer.disconnect();\n",
       "        }}\n",
       "}});\n",
       "\n",
       "// Listen for the removal of the full notebook cells\n",
       "var notebookContainer = gd.closest('#notebook-container');\n",
       "if (notebookContainer) {{\n",
       "    x.observe(notebookContainer, {childList: true});\n",
       "}}\n",
       "\n",
       "// Listen for the clearing of the current output cell\n",
       "var outputEl = gd.closest('.output');\n",
       "if (outputEl) {{\n",
       "    x.observe(outputEl, {childList: true});\n",
       "}}\n",
       "\n",
       "                        })                };                });            </script>        </div>"
      ]
     },
     "metadata": {},
     "output_type": "display_data"
    }
   ],
   "source": [
    "fig = px.area(rca_df, facet_col=\"Product\",facet_col_wrap=2)\n",
    "fig.show()"
   ]
  },
  {
   "cell_type": "markdown",
   "metadata": {},
   "source": [
    "## Does Malaysia Export What It Should?"
   ]
  },
  {
   "cell_type": "code",
   "execution_count": 13,
   "metadata": {},
   "outputs": [
    {
     "data": {
      "application/vnd.plotly.v1+json": {
       "config": {
        "plotlyServerURL": "https://plot.ly"
       },
       "data": [
        {
         "branchvalues": "total",
         "customdata": [
          [
           0.74
          ],
          [
           0.23
          ],
          [
           0.10000000000000002
          ],
          [
           0.28
          ],
          [
           0.93
          ],
          [
           0.59
          ],
          [
           0.8000000000000002
          ],
          [
           0.20000000000000004
          ],
          [
           0.06
          ],
          [
           0.72
          ]
         ],
         "domain": {
          "x": [
           0,
           1
          ],
          "y": [
           0,
           1
          ]
         },
         "hovertemplate": "<b>%{hovertext}</b><br><br>labels=%{label}<br>RCA Value_sum=%{value}<br>parent=%{parent}<br>id=%{id}<br>RCA Value=%{color}<extra></extra>",
         "hovertext": [
          "ANIMAL AND VEGETABLE OILS AND FATS",
          "BEVERAGES AND TOBACCO",
          "CHEMICALS",
          "CRUDE MATERIALS, INEDIBLE",
          "FOOD",
          "MACHINERY & TRANSPORT EQUIPMENT",
          "MANUFACTURED GOODS",
          "MINERAL FUELS, LUBRICANTS, ETC.",
          "MISCELLANEOUS MANUFACTURED ARTICLES",
          "MISCELLANEOUS TRANSACTIONS AND COMMODITIES"
         ],
         "ids": [
          "ANIMAL AND VEGETABLE OILS AND FATS",
          "BEVERAGES AND TOBACCO",
          "CHEMICALS",
          "CRUDE MATERIALS, INEDIBLE",
          "FOOD",
          "MACHINERY & TRANSPORT EQUIPMENT",
          "MANUFACTURED GOODS",
          "MINERAL FUELS, LUBRICANTS, ETC.",
          "MISCELLANEOUS MANUFACTURED ARTICLES",
          "MISCELLANEOUS TRANSACTIONS AND COMMODITIES"
         ],
         "labels": [
          "ANIMAL AND VEGETABLE OILS AND FATS",
          "BEVERAGES AND TOBACCO",
          "CHEMICALS",
          "CRUDE MATERIALS, INEDIBLE",
          "FOOD",
          "MACHINERY & TRANSPORT EQUIPMENT",
          "MANUFACTURED GOODS",
          "MINERAL FUELS, LUBRICANTS, ETC.",
          "MISCELLANEOUS MANUFACTURED ARTICLES",
          "MISCELLANEOUS TRANSACTIONS AND COMMODITIES"
         ],
         "marker": {
          "coloraxis": "coloraxis",
          "colors": [
           0.74,
           0.23,
           0.10000000000000002,
           0.28,
           0.93,
           0.59,
           0.8000000000000002,
           0.20000000000000004,
           0.06,
           0.72
          ]
         },
         "name": "",
         "parents": [
          "",
          "",
          "",
          "",
          "",
          "",
          "",
          "",
          "",
          ""
         ],
         "type": "treemap",
         "values": [
          0.74,
          0.23,
          0.1,
          0.28,
          0.93,
          0.59,
          0.8,
          0.2,
          0.06,
          0.72
         ]
        }
       ],
       "layout": {
        "coloraxis": {
         "colorbar": {
          "title": {
           "text": "RCA Value"
          }
         },
         "colorscale": [
          [
           0,
           "#30123b"
          ],
          [
           0.07142857142857142,
           "#4145ab"
          ],
          [
           0.14285714285714285,
           "#4675ed"
          ],
          [
           0.21428571428571427,
           "#39a2fc"
          ],
          [
           0.2857142857142857,
           "#1bcfd4"
          ],
          [
           0.35714285714285715,
           "#24eca6"
          ],
          [
           0.42857142857142855,
           "#61fc6c"
          ],
          [
           0.5,
           "#a4fc3b"
          ],
          [
           0.5714285714285714,
           "#d1e834"
          ],
          [
           0.6428571428571429,
           "#f3c63a"
          ],
          [
           0.7142857142857143,
           "#fe9b2d"
          ],
          [
           0.7857142857142857,
           "#f36315"
          ],
          [
           0.8571428571428571,
           "#d93806"
          ],
          [
           0.9285714285714286,
           "#b11901"
          ],
          [
           1,
           "#7a0402"
          ]
         ]
        },
        "legend": {
         "tracegroupgap": 0
        },
        "margin": {
         "t": 60
        },
        "template": {
         "data": {
          "bar": [
           {
            "error_x": {
             "color": "#2a3f5f"
            },
            "error_y": {
             "color": "#2a3f5f"
            },
            "marker": {
             "line": {
              "color": "#E5ECF6",
              "width": 0.5
             }
            },
            "type": "bar"
           }
          ],
          "barpolar": [
           {
            "marker": {
             "line": {
              "color": "#E5ECF6",
              "width": 0.5
             }
            },
            "type": "barpolar"
           }
          ],
          "carpet": [
           {
            "aaxis": {
             "endlinecolor": "#2a3f5f",
             "gridcolor": "white",
             "linecolor": "white",
             "minorgridcolor": "white",
             "startlinecolor": "#2a3f5f"
            },
            "baxis": {
             "endlinecolor": "#2a3f5f",
             "gridcolor": "white",
             "linecolor": "white",
             "minorgridcolor": "white",
             "startlinecolor": "#2a3f5f"
            },
            "type": "carpet"
           }
          ],
          "choropleth": [
           {
            "colorbar": {
             "outlinewidth": 0,
             "ticks": ""
            },
            "type": "choropleth"
           }
          ],
          "contour": [
           {
            "colorbar": {
             "outlinewidth": 0,
             "ticks": ""
            },
            "colorscale": [
             [
              0,
              "#0d0887"
             ],
             [
              0.1111111111111111,
              "#46039f"
             ],
             [
              0.2222222222222222,
              "#7201a8"
             ],
             [
              0.3333333333333333,
              "#9c179e"
             ],
             [
              0.4444444444444444,
              "#bd3786"
             ],
             [
              0.5555555555555556,
              "#d8576b"
             ],
             [
              0.6666666666666666,
              "#ed7953"
             ],
             [
              0.7777777777777778,
              "#fb9f3a"
             ],
             [
              0.8888888888888888,
              "#fdca26"
             ],
             [
              1,
              "#f0f921"
             ]
            ],
            "type": "contour"
           }
          ],
          "contourcarpet": [
           {
            "colorbar": {
             "outlinewidth": 0,
             "ticks": ""
            },
            "type": "contourcarpet"
           }
          ],
          "heatmap": [
           {
            "colorbar": {
             "outlinewidth": 0,
             "ticks": ""
            },
            "colorscale": [
             [
              0,
              "#0d0887"
             ],
             [
              0.1111111111111111,
              "#46039f"
             ],
             [
              0.2222222222222222,
              "#7201a8"
             ],
             [
              0.3333333333333333,
              "#9c179e"
             ],
             [
              0.4444444444444444,
              "#bd3786"
             ],
             [
              0.5555555555555556,
              "#d8576b"
             ],
             [
              0.6666666666666666,
              "#ed7953"
             ],
             [
              0.7777777777777778,
              "#fb9f3a"
             ],
             [
              0.8888888888888888,
              "#fdca26"
             ],
             [
              1,
              "#f0f921"
             ]
            ],
            "type": "heatmap"
           }
          ],
          "heatmapgl": [
           {
            "colorbar": {
             "outlinewidth": 0,
             "ticks": ""
            },
            "colorscale": [
             [
              0,
              "#0d0887"
             ],
             [
              0.1111111111111111,
              "#46039f"
             ],
             [
              0.2222222222222222,
              "#7201a8"
             ],
             [
              0.3333333333333333,
              "#9c179e"
             ],
             [
              0.4444444444444444,
              "#bd3786"
             ],
             [
              0.5555555555555556,
              "#d8576b"
             ],
             [
              0.6666666666666666,
              "#ed7953"
             ],
             [
              0.7777777777777778,
              "#fb9f3a"
             ],
             [
              0.8888888888888888,
              "#fdca26"
             ],
             [
              1,
              "#f0f921"
             ]
            ],
            "type": "heatmapgl"
           }
          ],
          "histogram": [
           {
            "marker": {
             "colorbar": {
              "outlinewidth": 0,
              "ticks": ""
             }
            },
            "type": "histogram"
           }
          ],
          "histogram2d": [
           {
            "colorbar": {
             "outlinewidth": 0,
             "ticks": ""
            },
            "colorscale": [
             [
              0,
              "#0d0887"
             ],
             [
              0.1111111111111111,
              "#46039f"
             ],
             [
              0.2222222222222222,
              "#7201a8"
             ],
             [
              0.3333333333333333,
              "#9c179e"
             ],
             [
              0.4444444444444444,
              "#bd3786"
             ],
             [
              0.5555555555555556,
              "#d8576b"
             ],
             [
              0.6666666666666666,
              "#ed7953"
             ],
             [
              0.7777777777777778,
              "#fb9f3a"
             ],
             [
              0.8888888888888888,
              "#fdca26"
             ],
             [
              1,
              "#f0f921"
             ]
            ],
            "type": "histogram2d"
           }
          ],
          "histogram2dcontour": [
           {
            "colorbar": {
             "outlinewidth": 0,
             "ticks": ""
            },
            "colorscale": [
             [
              0,
              "#0d0887"
             ],
             [
              0.1111111111111111,
              "#46039f"
             ],
             [
              0.2222222222222222,
              "#7201a8"
             ],
             [
              0.3333333333333333,
              "#9c179e"
             ],
             [
              0.4444444444444444,
              "#bd3786"
             ],
             [
              0.5555555555555556,
              "#d8576b"
             ],
             [
              0.6666666666666666,
              "#ed7953"
             ],
             [
              0.7777777777777778,
              "#fb9f3a"
             ],
             [
              0.8888888888888888,
              "#fdca26"
             ],
             [
              1,
              "#f0f921"
             ]
            ],
            "type": "histogram2dcontour"
           }
          ],
          "mesh3d": [
           {
            "colorbar": {
             "outlinewidth": 0,
             "ticks": ""
            },
            "type": "mesh3d"
           }
          ],
          "parcoords": [
           {
            "line": {
             "colorbar": {
              "outlinewidth": 0,
              "ticks": ""
             }
            },
            "type": "parcoords"
           }
          ],
          "pie": [
           {
            "automargin": true,
            "type": "pie"
           }
          ],
          "scatter": [
           {
            "marker": {
             "colorbar": {
              "outlinewidth": 0,
              "ticks": ""
             }
            },
            "type": "scatter"
           }
          ],
          "scatter3d": [
           {
            "line": {
             "colorbar": {
              "outlinewidth": 0,
              "ticks": ""
             }
            },
            "marker": {
             "colorbar": {
              "outlinewidth": 0,
              "ticks": ""
             }
            },
            "type": "scatter3d"
           }
          ],
          "scattercarpet": [
           {
            "marker": {
             "colorbar": {
              "outlinewidth": 0,
              "ticks": ""
             }
            },
            "type": "scattercarpet"
           }
          ],
          "scattergeo": [
           {
            "marker": {
             "colorbar": {
              "outlinewidth": 0,
              "ticks": ""
             }
            },
            "type": "scattergeo"
           }
          ],
          "scattergl": [
           {
            "marker": {
             "colorbar": {
              "outlinewidth": 0,
              "ticks": ""
             }
            },
            "type": "scattergl"
           }
          ],
          "scattermapbox": [
           {
            "marker": {
             "colorbar": {
              "outlinewidth": 0,
              "ticks": ""
             }
            },
            "type": "scattermapbox"
           }
          ],
          "scatterpolar": [
           {
            "marker": {
             "colorbar": {
              "outlinewidth": 0,
              "ticks": ""
             }
            },
            "type": "scatterpolar"
           }
          ],
          "scatterpolargl": [
           {
            "marker": {
             "colorbar": {
              "outlinewidth": 0,
              "ticks": ""
             }
            },
            "type": "scatterpolargl"
           }
          ],
          "scatterternary": [
           {
            "marker": {
             "colorbar": {
              "outlinewidth": 0,
              "ticks": ""
             }
            },
            "type": "scatterternary"
           }
          ],
          "surface": [
           {
            "colorbar": {
             "outlinewidth": 0,
             "ticks": ""
            },
            "colorscale": [
             [
              0,
              "#0d0887"
             ],
             [
              0.1111111111111111,
              "#46039f"
             ],
             [
              0.2222222222222222,
              "#7201a8"
             ],
             [
              0.3333333333333333,
              "#9c179e"
             ],
             [
              0.4444444444444444,
              "#bd3786"
             ],
             [
              0.5555555555555556,
              "#d8576b"
             ],
             [
              0.6666666666666666,
              "#ed7953"
             ],
             [
              0.7777777777777778,
              "#fb9f3a"
             ],
             [
              0.8888888888888888,
              "#fdca26"
             ],
             [
              1,
              "#f0f921"
             ]
            ],
            "type": "surface"
           }
          ],
          "table": [
           {
            "cells": {
             "fill": {
              "color": "#EBF0F8"
             },
             "line": {
              "color": "white"
             }
            },
            "header": {
             "fill": {
              "color": "#C8D4E3"
             },
             "line": {
              "color": "white"
             }
            },
            "type": "table"
           }
          ]
         },
         "layout": {
          "annotationdefaults": {
           "arrowcolor": "#2a3f5f",
           "arrowhead": 0,
           "arrowwidth": 1
          },
          "coloraxis": {
           "colorbar": {
            "outlinewidth": 0,
            "ticks": ""
           }
          },
          "colorscale": {
           "diverging": [
            [
             0,
             "#8e0152"
            ],
            [
             0.1,
             "#c51b7d"
            ],
            [
             0.2,
             "#de77ae"
            ],
            [
             0.3,
             "#f1b6da"
            ],
            [
             0.4,
             "#fde0ef"
            ],
            [
             0.5,
             "#f7f7f7"
            ],
            [
             0.6,
             "#e6f5d0"
            ],
            [
             0.7,
             "#b8e186"
            ],
            [
             0.8,
             "#7fbc41"
            ],
            [
             0.9,
             "#4d9221"
            ],
            [
             1,
             "#276419"
            ]
           ],
           "sequential": [
            [
             0,
             "#0d0887"
            ],
            [
             0.1111111111111111,
             "#46039f"
            ],
            [
             0.2222222222222222,
             "#7201a8"
            ],
            [
             0.3333333333333333,
             "#9c179e"
            ],
            [
             0.4444444444444444,
             "#bd3786"
            ],
            [
             0.5555555555555556,
             "#d8576b"
            ],
            [
             0.6666666666666666,
             "#ed7953"
            ],
            [
             0.7777777777777778,
             "#fb9f3a"
            ],
            [
             0.8888888888888888,
             "#fdca26"
            ],
            [
             1,
             "#f0f921"
            ]
           ],
           "sequentialminus": [
            [
             0,
             "#0d0887"
            ],
            [
             0.1111111111111111,
             "#46039f"
            ],
            [
             0.2222222222222222,
             "#7201a8"
            ],
            [
             0.3333333333333333,
             "#9c179e"
            ],
            [
             0.4444444444444444,
             "#bd3786"
            ],
            [
             0.5555555555555556,
             "#d8576b"
            ],
            [
             0.6666666666666666,
             "#ed7953"
            ],
            [
             0.7777777777777778,
             "#fb9f3a"
            ],
            [
             0.8888888888888888,
             "#fdca26"
            ],
            [
             1,
             "#f0f921"
            ]
           ]
          },
          "colorway": [
           "#636efa",
           "#EF553B",
           "#00cc96",
           "#ab63fa",
           "#FFA15A",
           "#19d3f3",
           "#FF6692",
           "#B6E880",
           "#FF97FF",
           "#FECB52"
          ],
          "font": {
           "color": "#2a3f5f"
          },
          "geo": {
           "bgcolor": "white",
           "lakecolor": "white",
           "landcolor": "#E5ECF6",
           "showlakes": true,
           "showland": true,
           "subunitcolor": "white"
          },
          "hoverlabel": {
           "align": "left"
          },
          "hovermode": "closest",
          "mapbox": {
           "style": "light"
          },
          "paper_bgcolor": "white",
          "plot_bgcolor": "#E5ECF6",
          "polar": {
           "angularaxis": {
            "gridcolor": "white",
            "linecolor": "white",
            "ticks": ""
           },
           "bgcolor": "#E5ECF6",
           "radialaxis": {
            "gridcolor": "white",
            "linecolor": "white",
            "ticks": ""
           }
          },
          "scene": {
           "xaxis": {
            "backgroundcolor": "#E5ECF6",
            "gridcolor": "white",
            "gridwidth": 2,
            "linecolor": "white",
            "showbackground": true,
            "ticks": "",
            "zerolinecolor": "white"
           },
           "yaxis": {
            "backgroundcolor": "#E5ECF6",
            "gridcolor": "white",
            "gridwidth": 2,
            "linecolor": "white",
            "showbackground": true,
            "ticks": "",
            "zerolinecolor": "white"
           },
           "zaxis": {
            "backgroundcolor": "#E5ECF6",
            "gridcolor": "white",
            "gridwidth": 2,
            "linecolor": "white",
            "showbackground": true,
            "ticks": "",
            "zerolinecolor": "white"
           }
          },
          "shapedefaults": {
           "line": {
            "color": "#2a3f5f"
           }
          },
          "ternary": {
           "aaxis": {
            "gridcolor": "white",
            "linecolor": "white",
            "ticks": ""
           },
           "baxis": {
            "gridcolor": "white",
            "linecolor": "white",
            "ticks": ""
           },
           "bgcolor": "#E5ECF6",
           "caxis": {
            "gridcolor": "white",
            "linecolor": "white",
            "ticks": ""
           }
          },
          "title": {
           "x": 0.05
          },
          "xaxis": {
           "automargin": true,
           "gridcolor": "white",
           "linecolor": "white",
           "ticks": "",
           "title": {
            "standoff": 15
           },
           "zerolinecolor": "white",
           "zerolinewidth": 2
          },
          "yaxis": {
           "automargin": true,
           "gridcolor": "white",
           "linecolor": "white",
           "ticks": "",
           "title": {
            "standoff": 15
           },
           "zerolinecolor": "white",
           "zerolinewidth": 2
          }
         }
        }
       }
      },
      "text/html": [
       "<div>                            <div id=\"012149b8-11f2-4b54-8b42-961183eb4376\" class=\"plotly-graph-div\" style=\"height:525px; width:100%;\"></div>            <script type=\"text/javascript\">                require([\"plotly\"], function(Plotly) {                    window.PLOTLYENV=window.PLOTLYENV || {};                                    if (document.getElementById(\"012149b8-11f2-4b54-8b42-961183eb4376\")) {                    Plotly.newPlot(                        \"012149b8-11f2-4b54-8b42-961183eb4376\",                        [{\"branchvalues\": \"total\", \"customdata\": [[0.74], [0.23], [0.10000000000000002], [0.28], [0.93], [0.59], [0.8000000000000002], [0.20000000000000004], [0.06], [0.72]], \"domain\": {\"x\": [0.0, 1.0], \"y\": [0.0, 1.0]}, \"hovertemplate\": \"<b>%{hovertext}</b><br><br>labels=%{label}<br>RCA Value_sum=%{value}<br>parent=%{parent}<br>id=%{id}<br>RCA Value=%{color}<extra></extra>\", \"hovertext\": [\"ANIMAL AND VEGETABLE OILS AND FATS\", \"BEVERAGES AND TOBACCO\", \"CHEMICALS\", \"CRUDE MATERIALS, INEDIBLE\", \"FOOD\", \"MACHINERY & TRANSPORT EQUIPMENT\", \"MANUFACTURED GOODS\", \"MINERAL FUELS, LUBRICANTS, ETC.\", \"MISCELLANEOUS MANUFACTURED ARTICLES\", \"MISCELLANEOUS TRANSACTIONS AND COMMODITIES\"], \"ids\": [\"ANIMAL AND VEGETABLE OILS AND FATS\", \"BEVERAGES AND TOBACCO\", \"CHEMICALS\", \"CRUDE MATERIALS, INEDIBLE\", \"FOOD\", \"MACHINERY & TRANSPORT EQUIPMENT\", \"MANUFACTURED GOODS\", \"MINERAL FUELS, LUBRICANTS, ETC.\", \"MISCELLANEOUS MANUFACTURED ARTICLES\", \"MISCELLANEOUS TRANSACTIONS AND COMMODITIES\"], \"labels\": [\"ANIMAL AND VEGETABLE OILS AND FATS\", \"BEVERAGES AND TOBACCO\", \"CHEMICALS\", \"CRUDE MATERIALS, INEDIBLE\", \"FOOD\", \"MACHINERY & TRANSPORT EQUIPMENT\", \"MANUFACTURED GOODS\", \"MINERAL FUELS, LUBRICANTS, ETC.\", \"MISCELLANEOUS MANUFACTURED ARTICLES\", \"MISCELLANEOUS TRANSACTIONS AND COMMODITIES\"], \"marker\": {\"coloraxis\": \"coloraxis\", \"colors\": [0.74, 0.23, 0.10000000000000002, 0.28, 0.93, 0.59, 0.8000000000000002, 0.20000000000000004, 0.06, 0.72]}, \"name\": \"\", \"parents\": [\"\", \"\", \"\", \"\", \"\", \"\", \"\", \"\", \"\", \"\"], \"type\": \"treemap\", \"values\": [0.74, 0.23, 0.1, 0.28, 0.93, 0.59, 0.8, 0.2, 0.06, 0.72]}],                        {\"coloraxis\": {\"colorbar\": {\"title\": {\"text\": \"RCA Value\"}}, \"colorscale\": [[0.0, \"#30123b\"], [0.07142857142857142, \"#4145ab\"], [0.14285714285714285, \"#4675ed\"], [0.21428571428571427, \"#39a2fc\"], [0.2857142857142857, \"#1bcfd4\"], [0.35714285714285715, \"#24eca6\"], [0.42857142857142855, \"#61fc6c\"], [0.5, \"#a4fc3b\"], [0.5714285714285714, \"#d1e834\"], [0.6428571428571429, \"#f3c63a\"], [0.7142857142857143, \"#fe9b2d\"], [0.7857142857142857, \"#f36315\"], [0.8571428571428571, \"#d93806\"], [0.9285714285714286, \"#b11901\"], [1.0, \"#7a0402\"]]}, \"legend\": {\"tracegroupgap\": 0}, \"margin\": {\"t\": 60}, \"template\": {\"data\": {\"bar\": [{\"error_x\": {\"color\": \"#2a3f5f\"}, \"error_y\": {\"color\": \"#2a3f5f\"}, \"marker\": {\"line\": {\"color\": \"#E5ECF6\", \"width\": 0.5}}, \"type\": \"bar\"}], \"barpolar\": [{\"marker\": {\"line\": {\"color\": \"#E5ECF6\", \"width\": 0.5}}, \"type\": \"barpolar\"}], \"carpet\": [{\"aaxis\": {\"endlinecolor\": \"#2a3f5f\", \"gridcolor\": \"white\", \"linecolor\": \"white\", \"minorgridcolor\": \"white\", \"startlinecolor\": \"#2a3f5f\"}, \"baxis\": {\"endlinecolor\": \"#2a3f5f\", \"gridcolor\": \"white\", \"linecolor\": \"white\", \"minorgridcolor\": \"white\", \"startlinecolor\": \"#2a3f5f\"}, \"type\": \"carpet\"}], \"choropleth\": [{\"colorbar\": {\"outlinewidth\": 0, \"ticks\": \"\"}, \"type\": \"choropleth\"}], \"contour\": [{\"colorbar\": {\"outlinewidth\": 0, \"ticks\": \"\"}, \"colorscale\": [[0.0, \"#0d0887\"], [0.1111111111111111, \"#46039f\"], [0.2222222222222222, \"#7201a8\"], [0.3333333333333333, \"#9c179e\"], [0.4444444444444444, \"#bd3786\"], [0.5555555555555556, \"#d8576b\"], [0.6666666666666666, \"#ed7953\"], [0.7777777777777778, \"#fb9f3a\"], [0.8888888888888888, \"#fdca26\"], [1.0, \"#f0f921\"]], \"type\": \"contour\"}], \"contourcarpet\": [{\"colorbar\": {\"outlinewidth\": 0, \"ticks\": \"\"}, \"type\": \"contourcarpet\"}], \"heatmap\": [{\"colorbar\": {\"outlinewidth\": 0, \"ticks\": \"\"}, \"colorscale\": [[0.0, \"#0d0887\"], [0.1111111111111111, \"#46039f\"], [0.2222222222222222, \"#7201a8\"], [0.3333333333333333, \"#9c179e\"], [0.4444444444444444, \"#bd3786\"], [0.5555555555555556, \"#d8576b\"], [0.6666666666666666, \"#ed7953\"], [0.7777777777777778, \"#fb9f3a\"], [0.8888888888888888, \"#fdca26\"], [1.0, \"#f0f921\"]], \"type\": \"heatmap\"}], \"heatmapgl\": [{\"colorbar\": {\"outlinewidth\": 0, \"ticks\": \"\"}, \"colorscale\": [[0.0, \"#0d0887\"], [0.1111111111111111, \"#46039f\"], [0.2222222222222222, \"#7201a8\"], [0.3333333333333333, \"#9c179e\"], [0.4444444444444444, \"#bd3786\"], [0.5555555555555556, \"#d8576b\"], [0.6666666666666666, \"#ed7953\"], [0.7777777777777778, \"#fb9f3a\"], [0.8888888888888888, \"#fdca26\"], [1.0, \"#f0f921\"]], \"type\": \"heatmapgl\"}], \"histogram\": [{\"marker\": {\"colorbar\": {\"outlinewidth\": 0, \"ticks\": \"\"}}, \"type\": \"histogram\"}], \"histogram2d\": [{\"colorbar\": {\"outlinewidth\": 0, \"ticks\": \"\"}, \"colorscale\": [[0.0, \"#0d0887\"], [0.1111111111111111, \"#46039f\"], [0.2222222222222222, \"#7201a8\"], [0.3333333333333333, \"#9c179e\"], [0.4444444444444444, \"#bd3786\"], [0.5555555555555556, \"#d8576b\"], [0.6666666666666666, \"#ed7953\"], [0.7777777777777778, \"#fb9f3a\"], [0.8888888888888888, \"#fdca26\"], [1.0, \"#f0f921\"]], \"type\": \"histogram2d\"}], \"histogram2dcontour\": [{\"colorbar\": {\"outlinewidth\": 0, \"ticks\": \"\"}, \"colorscale\": [[0.0, \"#0d0887\"], [0.1111111111111111, \"#46039f\"], [0.2222222222222222, \"#7201a8\"], [0.3333333333333333, \"#9c179e\"], [0.4444444444444444, \"#bd3786\"], [0.5555555555555556, \"#d8576b\"], [0.6666666666666666, \"#ed7953\"], [0.7777777777777778, \"#fb9f3a\"], [0.8888888888888888, \"#fdca26\"], [1.0, \"#f0f921\"]], \"type\": \"histogram2dcontour\"}], \"mesh3d\": [{\"colorbar\": {\"outlinewidth\": 0, \"ticks\": \"\"}, \"type\": \"mesh3d\"}], \"parcoords\": [{\"line\": {\"colorbar\": {\"outlinewidth\": 0, \"ticks\": \"\"}}, \"type\": \"parcoords\"}], \"pie\": [{\"automargin\": true, \"type\": \"pie\"}], \"scatter\": [{\"marker\": {\"colorbar\": {\"outlinewidth\": 0, \"ticks\": \"\"}}, \"type\": \"scatter\"}], \"scatter3d\": [{\"line\": {\"colorbar\": {\"outlinewidth\": 0, \"ticks\": \"\"}}, \"marker\": {\"colorbar\": {\"outlinewidth\": 0, \"ticks\": \"\"}}, \"type\": \"scatter3d\"}], \"scattercarpet\": [{\"marker\": {\"colorbar\": {\"outlinewidth\": 0, \"ticks\": \"\"}}, \"type\": \"scattercarpet\"}], \"scattergeo\": [{\"marker\": {\"colorbar\": {\"outlinewidth\": 0, \"ticks\": \"\"}}, \"type\": \"scattergeo\"}], \"scattergl\": [{\"marker\": {\"colorbar\": {\"outlinewidth\": 0, \"ticks\": \"\"}}, \"type\": \"scattergl\"}], \"scattermapbox\": [{\"marker\": {\"colorbar\": {\"outlinewidth\": 0, \"ticks\": \"\"}}, \"type\": \"scattermapbox\"}], \"scatterpolar\": [{\"marker\": {\"colorbar\": {\"outlinewidth\": 0, \"ticks\": \"\"}}, \"type\": \"scatterpolar\"}], \"scatterpolargl\": [{\"marker\": {\"colorbar\": {\"outlinewidth\": 0, \"ticks\": \"\"}}, \"type\": \"scatterpolargl\"}], \"scatterternary\": [{\"marker\": {\"colorbar\": {\"outlinewidth\": 0, \"ticks\": \"\"}}, \"type\": \"scatterternary\"}], \"surface\": [{\"colorbar\": {\"outlinewidth\": 0, \"ticks\": \"\"}, \"colorscale\": [[0.0, \"#0d0887\"], [0.1111111111111111, \"#46039f\"], [0.2222222222222222, \"#7201a8\"], [0.3333333333333333, \"#9c179e\"], [0.4444444444444444, \"#bd3786\"], [0.5555555555555556, \"#d8576b\"], [0.6666666666666666, \"#ed7953\"], [0.7777777777777778, \"#fb9f3a\"], [0.8888888888888888, \"#fdca26\"], [1.0, \"#f0f921\"]], \"type\": \"surface\"}], \"table\": [{\"cells\": {\"fill\": {\"color\": \"#EBF0F8\"}, \"line\": {\"color\": \"white\"}}, \"header\": {\"fill\": {\"color\": \"#C8D4E3\"}, \"line\": {\"color\": \"white\"}}, \"type\": \"table\"}]}, \"layout\": {\"annotationdefaults\": {\"arrowcolor\": \"#2a3f5f\", \"arrowhead\": 0, \"arrowwidth\": 1}, \"coloraxis\": {\"colorbar\": {\"outlinewidth\": 0, \"ticks\": \"\"}}, \"colorscale\": {\"diverging\": [[0, \"#8e0152\"], [0.1, \"#c51b7d\"], [0.2, \"#de77ae\"], [0.3, \"#f1b6da\"], [0.4, \"#fde0ef\"], [0.5, \"#f7f7f7\"], [0.6, \"#e6f5d0\"], [0.7, \"#b8e186\"], [0.8, \"#7fbc41\"], [0.9, \"#4d9221\"], [1, \"#276419\"]], \"sequential\": [[0.0, \"#0d0887\"], [0.1111111111111111, \"#46039f\"], [0.2222222222222222, \"#7201a8\"], [0.3333333333333333, \"#9c179e\"], [0.4444444444444444, \"#bd3786\"], [0.5555555555555556, \"#d8576b\"], [0.6666666666666666, \"#ed7953\"], [0.7777777777777778, \"#fb9f3a\"], [0.8888888888888888, \"#fdca26\"], [1.0, \"#f0f921\"]], \"sequentialminus\": [[0.0, \"#0d0887\"], [0.1111111111111111, \"#46039f\"], [0.2222222222222222, \"#7201a8\"], [0.3333333333333333, \"#9c179e\"], [0.4444444444444444, \"#bd3786\"], [0.5555555555555556, \"#d8576b\"], [0.6666666666666666, \"#ed7953\"], [0.7777777777777778, \"#fb9f3a\"], [0.8888888888888888, \"#fdca26\"], [1.0, \"#f0f921\"]]}, \"colorway\": [\"#636efa\", \"#EF553B\", \"#00cc96\", \"#ab63fa\", \"#FFA15A\", \"#19d3f3\", \"#FF6692\", \"#B6E880\", \"#FF97FF\", \"#FECB52\"], \"font\": {\"color\": \"#2a3f5f\"}, \"geo\": {\"bgcolor\": \"white\", \"lakecolor\": \"white\", \"landcolor\": \"#E5ECF6\", \"showlakes\": true, \"showland\": true, \"subunitcolor\": \"white\"}, \"hoverlabel\": {\"align\": \"left\"}, \"hovermode\": \"closest\", \"mapbox\": {\"style\": \"light\"}, \"paper_bgcolor\": \"white\", \"plot_bgcolor\": \"#E5ECF6\", \"polar\": {\"angularaxis\": {\"gridcolor\": \"white\", \"linecolor\": \"white\", \"ticks\": \"\"}, \"bgcolor\": \"#E5ECF6\", \"radialaxis\": {\"gridcolor\": \"white\", \"linecolor\": \"white\", \"ticks\": \"\"}}, \"scene\": {\"xaxis\": {\"backgroundcolor\": \"#E5ECF6\", \"gridcolor\": \"white\", \"gridwidth\": 2, \"linecolor\": \"white\", \"showbackground\": true, \"ticks\": \"\", \"zerolinecolor\": \"white\"}, \"yaxis\": {\"backgroundcolor\": \"#E5ECF6\", \"gridcolor\": \"white\", \"gridwidth\": 2, \"linecolor\": \"white\", \"showbackground\": true, \"ticks\": \"\", \"zerolinecolor\": \"white\"}, \"zaxis\": {\"backgroundcolor\": \"#E5ECF6\", \"gridcolor\": \"white\", \"gridwidth\": 2, \"linecolor\": \"white\", \"showbackground\": true, \"ticks\": \"\", \"zerolinecolor\": \"white\"}}, \"shapedefaults\": {\"line\": {\"color\": \"#2a3f5f\"}}, \"ternary\": {\"aaxis\": {\"gridcolor\": \"white\", \"linecolor\": \"white\", \"ticks\": \"\"}, \"baxis\": {\"gridcolor\": \"white\", \"linecolor\": \"white\", \"ticks\": \"\"}, \"bgcolor\": \"#E5ECF6\", \"caxis\": {\"gridcolor\": \"white\", \"linecolor\": \"white\", \"ticks\": \"\"}}, \"title\": {\"x\": 0.05}, \"xaxis\": {\"automargin\": true, \"gridcolor\": \"white\", \"linecolor\": \"white\", \"ticks\": \"\", \"title\": {\"standoff\": 15}, \"zerolinecolor\": \"white\", \"zerolinewidth\": 2}, \"yaxis\": {\"automargin\": true, \"gridcolor\": \"white\", \"linecolor\": \"white\", \"ticks\": \"\", \"title\": {\"standoff\": 15}, \"zerolinecolor\": \"white\", \"zerolinewidth\": 2}}}},                        {\"responsive\": true}                    ).then(function(){\n",
       "                            \n",
       "var gd = document.getElementById('012149b8-11f2-4b54-8b42-961183eb4376');\n",
       "var x = new MutationObserver(function (mutations, observer) {{\n",
       "        var display = window.getComputedStyle(gd).display;\n",
       "        if (!display || display === 'none') {{\n",
       "            console.log([gd, 'removed!']);\n",
       "            Plotly.purge(gd);\n",
       "            observer.disconnect();\n",
       "        }}\n",
       "}});\n",
       "\n",
       "// Listen for the removal of the full notebook cells\n",
       "var notebookContainer = gd.closest('#notebook-container');\n",
       "if (notebookContainer) {{\n",
       "    x.observe(notebookContainer, {childList: true});\n",
       "}}\n",
       "\n",
       "// Listen for the clearing of the current output cell\n",
       "var outputEl = gd.closest('.output');\n",
       "if (outputEl) {{\n",
       "    x.observe(outputEl, {childList: true});\n",
       "}}\n",
       "\n",
       "                        })                };                });            </script>        </div>"
      ]
     },
     "metadata": {},
     "output_type": "display_data"
    }
   ],
   "source": [
    "fig = px.treemap(rca_melt.query(\"YEAR==2017\"), path=['1D DESC'], values='RCA Value',\n",
    "                  color='RCA Value', hover_name='1D DESC',\n",
    "                  color_continuous_scale='turbo')\n",
    "fig.show()"
   ]
  },
  {
   "cell_type": "code",
   "execution_count": 14,
   "metadata": {},
   "outputs": [
    {
     "data": {
      "application/vnd.plotly.v1+json": {
       "config": {
        "plotlyServerURL": "https://plot.ly"
       },
       "data": [
        {
         "branchvalues": "total",
         "customdata": [
          [
           6772.834854
          ],
          [
           3685.7822010000004
          ],
          [
           86217.2573579999
          ],
          [
           33687.323254999974
          ],
          [
           51287.100734999956
          ],
          [
           372857.99432699947
          ],
          [
           98036.50003400004
          ],
          [
           106807.608963
          ],
          [
           59905.57610600001
          ],
          [
           17163.065338
          ]
         ],
         "domain": {
          "x": [
           0,
           1
          ],
          "y": [
           0,
           1
          ]
         },
         "hovertemplate": "<b>%{hovertext}</b><br><br>labels=%{label}<br>IMPORT (MILLION RM)_sum=%{value}<br>parent=%{parent}<br>id=%{id}<br>IMPORT (MILLION RM)=%{color}<extra></extra>",
         "hovertext": [
          "ANIMAL AND VEGETABLE OILS AND FATS",
          "BEVERAGES AND TOBACCO",
          "CHEMICALS",
          "CRUDE MATERIALS, INEDIBLE",
          "FOOD",
          "MACHINERY & TRANSPORT EQUIPMENT",
          "MANUFACTURED GOODS",
          "MINERAL FUELS, LUBRICANTS, ETC.",
          "MISCELLANEOUS MANUFACTURED ARTICLES",
          "MISCELLANEOUS TRANSACTIONS AND COMMODITIES"
         ],
         "ids": [
          "ANIMAL AND VEGETABLE OILS AND FATS",
          "BEVERAGES AND TOBACCO",
          "CHEMICALS",
          "CRUDE MATERIALS, INEDIBLE",
          "FOOD",
          "MACHINERY & TRANSPORT EQUIPMENT",
          "MANUFACTURED GOODS",
          "MINERAL FUELS, LUBRICANTS, ETC.",
          "MISCELLANEOUS MANUFACTURED ARTICLES",
          "MISCELLANEOUS TRANSACTIONS AND COMMODITIES"
         ],
         "labels": [
          "ANIMAL AND VEGETABLE OILS AND FATS",
          "BEVERAGES AND TOBACCO",
          "CHEMICALS",
          "CRUDE MATERIALS, INEDIBLE",
          "FOOD",
          "MACHINERY & TRANSPORT EQUIPMENT",
          "MANUFACTURED GOODS",
          "MINERAL FUELS, LUBRICANTS, ETC.",
          "MISCELLANEOUS MANUFACTURED ARTICLES",
          "MISCELLANEOUS TRANSACTIONS AND COMMODITIES"
         ],
         "marker": {
          "coloraxis": "coloraxis",
          "colors": [
           6772.834854,
           3685.7822010000004,
           86217.2573579999,
           33687.323254999974,
           51287.100734999956,
           372857.99432699947,
           98036.50003400004,
           106807.608963,
           59905.57610600001,
           17163.065338
          ]
         },
         "name": "",
         "parents": [
          "",
          "",
          "",
          "",
          "",
          "",
          "",
          "",
          "",
          ""
         ],
         "type": "treemap",
         "values": [
          6772.834854,
          3685.7822010000004,
          86217.2573579999,
          33687.323254999974,
          51287.100734999956,
          372857.99432699947,
          98036.50003400004,
          106807.608963,
          59905.57610600001,
          17163.065338
         ]
        }
       ],
       "layout": {
        "coloraxis": {
         "colorbar": {
          "title": {
           "text": "IMPORT (MILLION RM)"
          }
         },
         "colorscale": [
          [
           0,
           "#30123b"
          ],
          [
           0.07142857142857142,
           "#4145ab"
          ],
          [
           0.14285714285714285,
           "#4675ed"
          ],
          [
           0.21428571428571427,
           "#39a2fc"
          ],
          [
           0.2857142857142857,
           "#1bcfd4"
          ],
          [
           0.35714285714285715,
           "#24eca6"
          ],
          [
           0.42857142857142855,
           "#61fc6c"
          ],
          [
           0.5,
           "#a4fc3b"
          ],
          [
           0.5714285714285714,
           "#d1e834"
          ],
          [
           0.6428571428571429,
           "#f3c63a"
          ],
          [
           0.7142857142857143,
           "#fe9b2d"
          ],
          [
           0.7857142857142857,
           "#f36315"
          ],
          [
           0.8571428571428571,
           "#d93806"
          ],
          [
           0.9285714285714286,
           "#b11901"
          ],
          [
           1,
           "#7a0402"
          ]
         ]
        },
        "legend": {
         "tracegroupgap": 0
        },
        "margin": {
         "t": 60
        },
        "template": {
         "data": {
          "bar": [
           {
            "error_x": {
             "color": "#2a3f5f"
            },
            "error_y": {
             "color": "#2a3f5f"
            },
            "marker": {
             "line": {
              "color": "#E5ECF6",
              "width": 0.5
             }
            },
            "type": "bar"
           }
          ],
          "barpolar": [
           {
            "marker": {
             "line": {
              "color": "#E5ECF6",
              "width": 0.5
             }
            },
            "type": "barpolar"
           }
          ],
          "carpet": [
           {
            "aaxis": {
             "endlinecolor": "#2a3f5f",
             "gridcolor": "white",
             "linecolor": "white",
             "minorgridcolor": "white",
             "startlinecolor": "#2a3f5f"
            },
            "baxis": {
             "endlinecolor": "#2a3f5f",
             "gridcolor": "white",
             "linecolor": "white",
             "minorgridcolor": "white",
             "startlinecolor": "#2a3f5f"
            },
            "type": "carpet"
           }
          ],
          "choropleth": [
           {
            "colorbar": {
             "outlinewidth": 0,
             "ticks": ""
            },
            "type": "choropleth"
           }
          ],
          "contour": [
           {
            "colorbar": {
             "outlinewidth": 0,
             "ticks": ""
            },
            "colorscale": [
             [
              0,
              "#0d0887"
             ],
             [
              0.1111111111111111,
              "#46039f"
             ],
             [
              0.2222222222222222,
              "#7201a8"
             ],
             [
              0.3333333333333333,
              "#9c179e"
             ],
             [
              0.4444444444444444,
              "#bd3786"
             ],
             [
              0.5555555555555556,
              "#d8576b"
             ],
             [
              0.6666666666666666,
              "#ed7953"
             ],
             [
              0.7777777777777778,
              "#fb9f3a"
             ],
             [
              0.8888888888888888,
              "#fdca26"
             ],
             [
              1,
              "#f0f921"
             ]
            ],
            "type": "contour"
           }
          ],
          "contourcarpet": [
           {
            "colorbar": {
             "outlinewidth": 0,
             "ticks": ""
            },
            "type": "contourcarpet"
           }
          ],
          "heatmap": [
           {
            "colorbar": {
             "outlinewidth": 0,
             "ticks": ""
            },
            "colorscale": [
             [
              0,
              "#0d0887"
             ],
             [
              0.1111111111111111,
              "#46039f"
             ],
             [
              0.2222222222222222,
              "#7201a8"
             ],
             [
              0.3333333333333333,
              "#9c179e"
             ],
             [
              0.4444444444444444,
              "#bd3786"
             ],
             [
              0.5555555555555556,
              "#d8576b"
             ],
             [
              0.6666666666666666,
              "#ed7953"
             ],
             [
              0.7777777777777778,
              "#fb9f3a"
             ],
             [
              0.8888888888888888,
              "#fdca26"
             ],
             [
              1,
              "#f0f921"
             ]
            ],
            "type": "heatmap"
           }
          ],
          "heatmapgl": [
           {
            "colorbar": {
             "outlinewidth": 0,
             "ticks": ""
            },
            "colorscale": [
             [
              0,
              "#0d0887"
             ],
             [
              0.1111111111111111,
              "#46039f"
             ],
             [
              0.2222222222222222,
              "#7201a8"
             ],
             [
              0.3333333333333333,
              "#9c179e"
             ],
             [
              0.4444444444444444,
              "#bd3786"
             ],
             [
              0.5555555555555556,
              "#d8576b"
             ],
             [
              0.6666666666666666,
              "#ed7953"
             ],
             [
              0.7777777777777778,
              "#fb9f3a"
             ],
             [
              0.8888888888888888,
              "#fdca26"
             ],
             [
              1,
              "#f0f921"
             ]
            ],
            "type": "heatmapgl"
           }
          ],
          "histogram": [
           {
            "marker": {
             "colorbar": {
              "outlinewidth": 0,
              "ticks": ""
             }
            },
            "type": "histogram"
           }
          ],
          "histogram2d": [
           {
            "colorbar": {
             "outlinewidth": 0,
             "ticks": ""
            },
            "colorscale": [
             [
              0,
              "#0d0887"
             ],
             [
              0.1111111111111111,
              "#46039f"
             ],
             [
              0.2222222222222222,
              "#7201a8"
             ],
             [
              0.3333333333333333,
              "#9c179e"
             ],
             [
              0.4444444444444444,
              "#bd3786"
             ],
             [
              0.5555555555555556,
              "#d8576b"
             ],
             [
              0.6666666666666666,
              "#ed7953"
             ],
             [
              0.7777777777777778,
              "#fb9f3a"
             ],
             [
              0.8888888888888888,
              "#fdca26"
             ],
             [
              1,
              "#f0f921"
             ]
            ],
            "type": "histogram2d"
           }
          ],
          "histogram2dcontour": [
           {
            "colorbar": {
             "outlinewidth": 0,
             "ticks": ""
            },
            "colorscale": [
             [
              0,
              "#0d0887"
             ],
             [
              0.1111111111111111,
              "#46039f"
             ],
             [
              0.2222222222222222,
              "#7201a8"
             ],
             [
              0.3333333333333333,
              "#9c179e"
             ],
             [
              0.4444444444444444,
              "#bd3786"
             ],
             [
              0.5555555555555556,
              "#d8576b"
             ],
             [
              0.6666666666666666,
              "#ed7953"
             ],
             [
              0.7777777777777778,
              "#fb9f3a"
             ],
             [
              0.8888888888888888,
              "#fdca26"
             ],
             [
              1,
              "#f0f921"
             ]
            ],
            "type": "histogram2dcontour"
           }
          ],
          "mesh3d": [
           {
            "colorbar": {
             "outlinewidth": 0,
             "ticks": ""
            },
            "type": "mesh3d"
           }
          ],
          "parcoords": [
           {
            "line": {
             "colorbar": {
              "outlinewidth": 0,
              "ticks": ""
             }
            },
            "type": "parcoords"
           }
          ],
          "pie": [
           {
            "automargin": true,
            "type": "pie"
           }
          ],
          "scatter": [
           {
            "marker": {
             "colorbar": {
              "outlinewidth": 0,
              "ticks": ""
             }
            },
            "type": "scatter"
           }
          ],
          "scatter3d": [
           {
            "line": {
             "colorbar": {
              "outlinewidth": 0,
              "ticks": ""
             }
            },
            "marker": {
             "colorbar": {
              "outlinewidth": 0,
              "ticks": ""
             }
            },
            "type": "scatter3d"
           }
          ],
          "scattercarpet": [
           {
            "marker": {
             "colorbar": {
              "outlinewidth": 0,
              "ticks": ""
             }
            },
            "type": "scattercarpet"
           }
          ],
          "scattergeo": [
           {
            "marker": {
             "colorbar": {
              "outlinewidth": 0,
              "ticks": ""
             }
            },
            "type": "scattergeo"
           }
          ],
          "scattergl": [
           {
            "marker": {
             "colorbar": {
              "outlinewidth": 0,
              "ticks": ""
             }
            },
            "type": "scattergl"
           }
          ],
          "scattermapbox": [
           {
            "marker": {
             "colorbar": {
              "outlinewidth": 0,
              "ticks": ""
             }
            },
            "type": "scattermapbox"
           }
          ],
          "scatterpolar": [
           {
            "marker": {
             "colorbar": {
              "outlinewidth": 0,
              "ticks": ""
             }
            },
            "type": "scatterpolar"
           }
          ],
          "scatterpolargl": [
           {
            "marker": {
             "colorbar": {
              "outlinewidth": 0,
              "ticks": ""
             }
            },
            "type": "scatterpolargl"
           }
          ],
          "scatterternary": [
           {
            "marker": {
             "colorbar": {
              "outlinewidth": 0,
              "ticks": ""
             }
            },
            "type": "scatterternary"
           }
          ],
          "surface": [
           {
            "colorbar": {
             "outlinewidth": 0,
             "ticks": ""
            },
            "colorscale": [
             [
              0,
              "#0d0887"
             ],
             [
              0.1111111111111111,
              "#46039f"
             ],
             [
              0.2222222222222222,
              "#7201a8"
             ],
             [
              0.3333333333333333,
              "#9c179e"
             ],
             [
              0.4444444444444444,
              "#bd3786"
             ],
             [
              0.5555555555555556,
              "#d8576b"
             ],
             [
              0.6666666666666666,
              "#ed7953"
             ],
             [
              0.7777777777777778,
              "#fb9f3a"
             ],
             [
              0.8888888888888888,
              "#fdca26"
             ],
             [
              1,
              "#f0f921"
             ]
            ],
            "type": "surface"
           }
          ],
          "table": [
           {
            "cells": {
             "fill": {
              "color": "#EBF0F8"
             },
             "line": {
              "color": "white"
             }
            },
            "header": {
             "fill": {
              "color": "#C8D4E3"
             },
             "line": {
              "color": "white"
             }
            },
            "type": "table"
           }
          ]
         },
         "layout": {
          "annotationdefaults": {
           "arrowcolor": "#2a3f5f",
           "arrowhead": 0,
           "arrowwidth": 1
          },
          "coloraxis": {
           "colorbar": {
            "outlinewidth": 0,
            "ticks": ""
           }
          },
          "colorscale": {
           "diverging": [
            [
             0,
             "#8e0152"
            ],
            [
             0.1,
             "#c51b7d"
            ],
            [
             0.2,
             "#de77ae"
            ],
            [
             0.3,
             "#f1b6da"
            ],
            [
             0.4,
             "#fde0ef"
            ],
            [
             0.5,
             "#f7f7f7"
            ],
            [
             0.6,
             "#e6f5d0"
            ],
            [
             0.7,
             "#b8e186"
            ],
            [
             0.8,
             "#7fbc41"
            ],
            [
             0.9,
             "#4d9221"
            ],
            [
             1,
             "#276419"
            ]
           ],
           "sequential": [
            [
             0,
             "#0d0887"
            ],
            [
             0.1111111111111111,
             "#46039f"
            ],
            [
             0.2222222222222222,
             "#7201a8"
            ],
            [
             0.3333333333333333,
             "#9c179e"
            ],
            [
             0.4444444444444444,
             "#bd3786"
            ],
            [
             0.5555555555555556,
             "#d8576b"
            ],
            [
             0.6666666666666666,
             "#ed7953"
            ],
            [
             0.7777777777777778,
             "#fb9f3a"
            ],
            [
             0.8888888888888888,
             "#fdca26"
            ],
            [
             1,
             "#f0f921"
            ]
           ],
           "sequentialminus": [
            [
             0,
             "#0d0887"
            ],
            [
             0.1111111111111111,
             "#46039f"
            ],
            [
             0.2222222222222222,
             "#7201a8"
            ],
            [
             0.3333333333333333,
             "#9c179e"
            ],
            [
             0.4444444444444444,
             "#bd3786"
            ],
            [
             0.5555555555555556,
             "#d8576b"
            ],
            [
             0.6666666666666666,
             "#ed7953"
            ],
            [
             0.7777777777777778,
             "#fb9f3a"
            ],
            [
             0.8888888888888888,
             "#fdca26"
            ],
            [
             1,
             "#f0f921"
            ]
           ]
          },
          "colorway": [
           "#636efa",
           "#EF553B",
           "#00cc96",
           "#ab63fa",
           "#FFA15A",
           "#19d3f3",
           "#FF6692",
           "#B6E880",
           "#FF97FF",
           "#FECB52"
          ],
          "font": {
           "color": "#2a3f5f"
          },
          "geo": {
           "bgcolor": "white",
           "lakecolor": "white",
           "landcolor": "#E5ECF6",
           "showlakes": true,
           "showland": true,
           "subunitcolor": "white"
          },
          "hoverlabel": {
           "align": "left"
          },
          "hovermode": "closest",
          "mapbox": {
           "style": "light"
          },
          "paper_bgcolor": "white",
          "plot_bgcolor": "#E5ECF6",
          "polar": {
           "angularaxis": {
            "gridcolor": "white",
            "linecolor": "white",
            "ticks": ""
           },
           "bgcolor": "#E5ECF6",
           "radialaxis": {
            "gridcolor": "white",
            "linecolor": "white",
            "ticks": ""
           }
          },
          "scene": {
           "xaxis": {
            "backgroundcolor": "#E5ECF6",
            "gridcolor": "white",
            "gridwidth": 2,
            "linecolor": "white",
            "showbackground": true,
            "ticks": "",
            "zerolinecolor": "white"
           },
           "yaxis": {
            "backgroundcolor": "#E5ECF6",
            "gridcolor": "white",
            "gridwidth": 2,
            "linecolor": "white",
            "showbackground": true,
            "ticks": "",
            "zerolinecolor": "white"
           },
           "zaxis": {
            "backgroundcolor": "#E5ECF6",
            "gridcolor": "white",
            "gridwidth": 2,
            "linecolor": "white",
            "showbackground": true,
            "ticks": "",
            "zerolinecolor": "white"
           }
          },
          "shapedefaults": {
           "line": {
            "color": "#2a3f5f"
           }
          },
          "ternary": {
           "aaxis": {
            "gridcolor": "white",
            "linecolor": "white",
            "ticks": ""
           },
           "baxis": {
            "gridcolor": "white",
            "linecolor": "white",
            "ticks": ""
           },
           "bgcolor": "#E5ECF6",
           "caxis": {
            "gridcolor": "white",
            "linecolor": "white",
            "ticks": ""
           }
          },
          "title": {
           "x": 0.05
          },
          "xaxis": {
           "automargin": true,
           "gridcolor": "white",
           "linecolor": "white",
           "ticks": "",
           "title": {
            "standoff": 15
           },
           "zerolinecolor": "white",
           "zerolinewidth": 2
          },
          "yaxis": {
           "automargin": true,
           "gridcolor": "white",
           "linecolor": "white",
           "ticks": "",
           "title": {
            "standoff": 15
           },
           "zerolinecolor": "white",
           "zerolinewidth": 2
          }
         }
        }
       }
      },
      "text/html": [
       "<div>                            <div id=\"c19c05c0-56d7-4ffa-99a1-a21715a11650\" class=\"plotly-graph-div\" style=\"height:525px; width:100%;\"></div>            <script type=\"text/javascript\">                require([\"plotly\"], function(Plotly) {                    window.PLOTLYENV=window.PLOTLYENV || {};                                    if (document.getElementById(\"c19c05c0-56d7-4ffa-99a1-a21715a11650\")) {                    Plotly.newPlot(                        \"c19c05c0-56d7-4ffa-99a1-a21715a11650\",                        [{\"branchvalues\": \"total\", \"customdata\": [[6772.834854], [3685.7822010000004], [86217.2573579999], [33687.323254999974], [51287.100734999956], [372857.99432699947], [98036.50003400004], [106807.608963], [59905.57610600001], [17163.065338]], \"domain\": {\"x\": [0.0, 1.0], \"y\": [0.0, 1.0]}, \"hovertemplate\": \"<b>%{hovertext}</b><br><br>labels=%{label}<br>IMPORT (MILLION RM)_sum=%{value}<br>parent=%{parent}<br>id=%{id}<br>IMPORT (MILLION RM)=%{color}<extra></extra>\", \"hovertext\": [\"ANIMAL AND VEGETABLE OILS AND FATS\", \"BEVERAGES AND TOBACCO\", \"CHEMICALS\", \"CRUDE MATERIALS, INEDIBLE\", \"FOOD\", \"MACHINERY & TRANSPORT EQUIPMENT\", \"MANUFACTURED GOODS\", \"MINERAL FUELS, LUBRICANTS, ETC.\", \"MISCELLANEOUS MANUFACTURED ARTICLES\", \"MISCELLANEOUS TRANSACTIONS AND COMMODITIES\"], \"ids\": [\"ANIMAL AND VEGETABLE OILS AND FATS\", \"BEVERAGES AND TOBACCO\", \"CHEMICALS\", \"CRUDE MATERIALS, INEDIBLE\", \"FOOD\", \"MACHINERY & TRANSPORT EQUIPMENT\", \"MANUFACTURED GOODS\", \"MINERAL FUELS, LUBRICANTS, ETC.\", \"MISCELLANEOUS MANUFACTURED ARTICLES\", \"MISCELLANEOUS TRANSACTIONS AND COMMODITIES\"], \"labels\": [\"ANIMAL AND VEGETABLE OILS AND FATS\", \"BEVERAGES AND TOBACCO\", \"CHEMICALS\", \"CRUDE MATERIALS, INEDIBLE\", \"FOOD\", \"MACHINERY & TRANSPORT EQUIPMENT\", \"MANUFACTURED GOODS\", \"MINERAL FUELS, LUBRICANTS, ETC.\", \"MISCELLANEOUS MANUFACTURED ARTICLES\", \"MISCELLANEOUS TRANSACTIONS AND COMMODITIES\"], \"marker\": {\"coloraxis\": \"coloraxis\", \"colors\": [6772.834854, 3685.7822010000004, 86217.2573579999, 33687.323254999974, 51287.100734999956, 372857.99432699947, 98036.50003400004, 106807.608963, 59905.57610600001, 17163.065338]}, \"name\": \"\", \"parents\": [\"\", \"\", \"\", \"\", \"\", \"\", \"\", \"\", \"\", \"\"], \"type\": \"treemap\", \"values\": [6772.834854, 3685.7822010000004, 86217.2573579999, 33687.323254999974, 51287.100734999956, 372857.99432699947, 98036.50003400004, 106807.608963, 59905.57610600001, 17163.065338]}],                        {\"coloraxis\": {\"colorbar\": {\"title\": {\"text\": \"IMPORT (MILLION RM)\"}}, \"colorscale\": [[0.0, \"#30123b\"], [0.07142857142857142, \"#4145ab\"], [0.14285714285714285, \"#4675ed\"], [0.21428571428571427, \"#39a2fc\"], [0.2857142857142857, \"#1bcfd4\"], [0.35714285714285715, \"#24eca6\"], [0.42857142857142855, \"#61fc6c\"], [0.5, \"#a4fc3b\"], [0.5714285714285714, \"#d1e834\"], [0.6428571428571429, \"#f3c63a\"], [0.7142857142857143, \"#fe9b2d\"], [0.7857142857142857, \"#f36315\"], [0.8571428571428571, \"#d93806\"], [0.9285714285714286, \"#b11901\"], [1.0, \"#7a0402\"]]}, \"legend\": {\"tracegroupgap\": 0}, \"margin\": {\"t\": 60}, \"template\": {\"data\": {\"bar\": [{\"error_x\": {\"color\": \"#2a3f5f\"}, \"error_y\": {\"color\": \"#2a3f5f\"}, \"marker\": {\"line\": {\"color\": \"#E5ECF6\", \"width\": 0.5}}, \"type\": \"bar\"}], \"barpolar\": [{\"marker\": {\"line\": {\"color\": \"#E5ECF6\", \"width\": 0.5}}, \"type\": \"barpolar\"}], \"carpet\": [{\"aaxis\": {\"endlinecolor\": \"#2a3f5f\", \"gridcolor\": \"white\", \"linecolor\": \"white\", \"minorgridcolor\": \"white\", \"startlinecolor\": \"#2a3f5f\"}, \"baxis\": {\"endlinecolor\": \"#2a3f5f\", \"gridcolor\": \"white\", \"linecolor\": \"white\", \"minorgridcolor\": \"white\", \"startlinecolor\": \"#2a3f5f\"}, \"type\": \"carpet\"}], \"choropleth\": [{\"colorbar\": {\"outlinewidth\": 0, \"ticks\": \"\"}, \"type\": \"choropleth\"}], \"contour\": [{\"colorbar\": {\"outlinewidth\": 0, \"ticks\": \"\"}, \"colorscale\": [[0.0, \"#0d0887\"], [0.1111111111111111, \"#46039f\"], [0.2222222222222222, \"#7201a8\"], [0.3333333333333333, \"#9c179e\"], [0.4444444444444444, \"#bd3786\"], [0.5555555555555556, \"#d8576b\"], [0.6666666666666666, \"#ed7953\"], [0.7777777777777778, \"#fb9f3a\"], [0.8888888888888888, \"#fdca26\"], [1.0, \"#f0f921\"]], \"type\": \"contour\"}], \"contourcarpet\": [{\"colorbar\": {\"outlinewidth\": 0, \"ticks\": \"\"}, \"type\": \"contourcarpet\"}], \"heatmap\": [{\"colorbar\": {\"outlinewidth\": 0, \"ticks\": \"\"}, \"colorscale\": [[0.0, \"#0d0887\"], [0.1111111111111111, \"#46039f\"], [0.2222222222222222, \"#7201a8\"], [0.3333333333333333, \"#9c179e\"], [0.4444444444444444, \"#bd3786\"], [0.5555555555555556, \"#d8576b\"], [0.6666666666666666, \"#ed7953\"], [0.7777777777777778, \"#fb9f3a\"], [0.8888888888888888, \"#fdca26\"], [1.0, \"#f0f921\"]], \"type\": \"heatmap\"}], \"heatmapgl\": [{\"colorbar\": {\"outlinewidth\": 0, \"ticks\": \"\"}, \"colorscale\": [[0.0, \"#0d0887\"], [0.1111111111111111, \"#46039f\"], [0.2222222222222222, \"#7201a8\"], [0.3333333333333333, \"#9c179e\"], [0.4444444444444444, \"#bd3786\"], [0.5555555555555556, \"#d8576b\"], [0.6666666666666666, \"#ed7953\"], [0.7777777777777778, \"#fb9f3a\"], [0.8888888888888888, \"#fdca26\"], [1.0, \"#f0f921\"]], \"type\": \"heatmapgl\"}], \"histogram\": [{\"marker\": {\"colorbar\": {\"outlinewidth\": 0, \"ticks\": \"\"}}, \"type\": \"histogram\"}], \"histogram2d\": [{\"colorbar\": {\"outlinewidth\": 0, \"ticks\": \"\"}, \"colorscale\": [[0.0, \"#0d0887\"], [0.1111111111111111, \"#46039f\"], [0.2222222222222222, \"#7201a8\"], [0.3333333333333333, \"#9c179e\"], [0.4444444444444444, \"#bd3786\"], [0.5555555555555556, \"#d8576b\"], [0.6666666666666666, \"#ed7953\"], [0.7777777777777778, \"#fb9f3a\"], [0.8888888888888888, \"#fdca26\"], [1.0, \"#f0f921\"]], \"type\": \"histogram2d\"}], \"histogram2dcontour\": [{\"colorbar\": {\"outlinewidth\": 0, \"ticks\": \"\"}, \"colorscale\": [[0.0, \"#0d0887\"], [0.1111111111111111, \"#46039f\"], [0.2222222222222222, \"#7201a8\"], [0.3333333333333333, \"#9c179e\"], [0.4444444444444444, \"#bd3786\"], [0.5555555555555556, \"#d8576b\"], [0.6666666666666666, \"#ed7953\"], [0.7777777777777778, \"#fb9f3a\"], [0.8888888888888888, \"#fdca26\"], [1.0, \"#f0f921\"]], \"type\": \"histogram2dcontour\"}], \"mesh3d\": [{\"colorbar\": {\"outlinewidth\": 0, \"ticks\": \"\"}, \"type\": \"mesh3d\"}], \"parcoords\": [{\"line\": {\"colorbar\": {\"outlinewidth\": 0, \"ticks\": \"\"}}, \"type\": \"parcoords\"}], \"pie\": [{\"automargin\": true, \"type\": \"pie\"}], \"scatter\": [{\"marker\": {\"colorbar\": {\"outlinewidth\": 0, \"ticks\": \"\"}}, \"type\": \"scatter\"}], \"scatter3d\": [{\"line\": {\"colorbar\": {\"outlinewidth\": 0, \"ticks\": \"\"}}, \"marker\": {\"colorbar\": {\"outlinewidth\": 0, \"ticks\": \"\"}}, \"type\": \"scatter3d\"}], \"scattercarpet\": [{\"marker\": {\"colorbar\": {\"outlinewidth\": 0, \"ticks\": \"\"}}, \"type\": \"scattercarpet\"}], \"scattergeo\": [{\"marker\": {\"colorbar\": {\"outlinewidth\": 0, \"ticks\": \"\"}}, \"type\": \"scattergeo\"}], \"scattergl\": [{\"marker\": {\"colorbar\": {\"outlinewidth\": 0, \"ticks\": \"\"}}, \"type\": \"scattergl\"}], \"scattermapbox\": [{\"marker\": {\"colorbar\": {\"outlinewidth\": 0, \"ticks\": \"\"}}, \"type\": \"scattermapbox\"}], \"scatterpolar\": [{\"marker\": {\"colorbar\": {\"outlinewidth\": 0, \"ticks\": \"\"}}, \"type\": \"scatterpolar\"}], \"scatterpolargl\": [{\"marker\": {\"colorbar\": {\"outlinewidth\": 0, \"ticks\": \"\"}}, \"type\": \"scatterpolargl\"}], \"scatterternary\": [{\"marker\": {\"colorbar\": {\"outlinewidth\": 0, \"ticks\": \"\"}}, \"type\": \"scatterternary\"}], \"surface\": [{\"colorbar\": {\"outlinewidth\": 0, \"ticks\": \"\"}, \"colorscale\": [[0.0, \"#0d0887\"], [0.1111111111111111, \"#46039f\"], [0.2222222222222222, \"#7201a8\"], [0.3333333333333333, \"#9c179e\"], [0.4444444444444444, \"#bd3786\"], [0.5555555555555556, \"#d8576b\"], [0.6666666666666666, \"#ed7953\"], [0.7777777777777778, \"#fb9f3a\"], [0.8888888888888888, \"#fdca26\"], [1.0, \"#f0f921\"]], \"type\": \"surface\"}], \"table\": [{\"cells\": {\"fill\": {\"color\": \"#EBF0F8\"}, \"line\": {\"color\": \"white\"}}, \"header\": {\"fill\": {\"color\": \"#C8D4E3\"}, \"line\": {\"color\": \"white\"}}, \"type\": \"table\"}]}, \"layout\": {\"annotationdefaults\": {\"arrowcolor\": \"#2a3f5f\", \"arrowhead\": 0, \"arrowwidth\": 1}, \"coloraxis\": {\"colorbar\": {\"outlinewidth\": 0, \"ticks\": \"\"}}, \"colorscale\": {\"diverging\": [[0, \"#8e0152\"], [0.1, \"#c51b7d\"], [0.2, \"#de77ae\"], [0.3, \"#f1b6da\"], [0.4, \"#fde0ef\"], [0.5, \"#f7f7f7\"], [0.6, \"#e6f5d0\"], [0.7, \"#b8e186\"], [0.8, \"#7fbc41\"], [0.9, \"#4d9221\"], [1, \"#276419\"]], \"sequential\": [[0.0, \"#0d0887\"], [0.1111111111111111, \"#46039f\"], [0.2222222222222222, \"#7201a8\"], [0.3333333333333333, \"#9c179e\"], [0.4444444444444444, \"#bd3786\"], [0.5555555555555556, \"#d8576b\"], [0.6666666666666666, \"#ed7953\"], [0.7777777777777778, \"#fb9f3a\"], [0.8888888888888888, \"#fdca26\"], [1.0, \"#f0f921\"]], \"sequentialminus\": [[0.0, \"#0d0887\"], [0.1111111111111111, \"#46039f\"], [0.2222222222222222, \"#7201a8\"], [0.3333333333333333, \"#9c179e\"], [0.4444444444444444, \"#bd3786\"], [0.5555555555555556, \"#d8576b\"], [0.6666666666666666, \"#ed7953\"], [0.7777777777777778, \"#fb9f3a\"], [0.8888888888888888, \"#fdca26\"], [1.0, \"#f0f921\"]]}, \"colorway\": [\"#636efa\", \"#EF553B\", \"#00cc96\", \"#ab63fa\", \"#FFA15A\", \"#19d3f3\", \"#FF6692\", \"#B6E880\", \"#FF97FF\", \"#FECB52\"], \"font\": {\"color\": \"#2a3f5f\"}, \"geo\": {\"bgcolor\": \"white\", \"lakecolor\": \"white\", \"landcolor\": \"#E5ECF6\", \"showlakes\": true, \"showland\": true, \"subunitcolor\": \"white\"}, \"hoverlabel\": {\"align\": \"left\"}, \"hovermode\": \"closest\", \"mapbox\": {\"style\": \"light\"}, \"paper_bgcolor\": \"white\", \"plot_bgcolor\": \"#E5ECF6\", \"polar\": {\"angularaxis\": {\"gridcolor\": \"white\", \"linecolor\": \"white\", \"ticks\": \"\"}, \"bgcolor\": \"#E5ECF6\", \"radialaxis\": {\"gridcolor\": \"white\", \"linecolor\": \"white\", \"ticks\": \"\"}}, \"scene\": {\"xaxis\": {\"backgroundcolor\": \"#E5ECF6\", \"gridcolor\": \"white\", \"gridwidth\": 2, \"linecolor\": \"white\", \"showbackground\": true, \"ticks\": \"\", \"zerolinecolor\": \"white\"}, \"yaxis\": {\"backgroundcolor\": \"#E5ECF6\", \"gridcolor\": \"white\", \"gridwidth\": 2, \"linecolor\": \"white\", \"showbackground\": true, \"ticks\": \"\", \"zerolinecolor\": \"white\"}, \"zaxis\": {\"backgroundcolor\": \"#E5ECF6\", \"gridcolor\": \"white\", \"gridwidth\": 2, \"linecolor\": \"white\", \"showbackground\": true, \"ticks\": \"\", \"zerolinecolor\": \"white\"}}, \"shapedefaults\": {\"line\": {\"color\": \"#2a3f5f\"}}, \"ternary\": {\"aaxis\": {\"gridcolor\": \"white\", \"linecolor\": \"white\", \"ticks\": \"\"}, \"baxis\": {\"gridcolor\": \"white\", \"linecolor\": \"white\", \"ticks\": \"\"}, \"bgcolor\": \"#E5ECF6\", \"caxis\": {\"gridcolor\": \"white\", \"linecolor\": \"white\", \"ticks\": \"\"}}, \"title\": {\"x\": 0.05}, \"xaxis\": {\"automargin\": true, \"gridcolor\": \"white\", \"linecolor\": \"white\", \"ticks\": \"\", \"title\": {\"standoff\": 15}, \"zerolinecolor\": \"white\", \"zerolinewidth\": 2}, \"yaxis\": {\"automargin\": true, \"gridcolor\": \"white\", \"linecolor\": \"white\", \"ticks\": \"\", \"title\": {\"standoff\": 15}, \"zerolinecolor\": \"white\", \"zerolinewidth\": 2}}}},                        {\"responsive\": true}                    ).then(function(){\n",
       "                            \n",
       "var gd = document.getElementById('c19c05c0-56d7-4ffa-99a1-a21715a11650');\n",
       "var x = new MutationObserver(function (mutations, observer) {{\n",
       "        var display = window.getComputedStyle(gd).display;\n",
       "        if (!display || display === 'none') {{\n",
       "            console.log([gd, 'removed!']);\n",
       "            Plotly.purge(gd);\n",
       "            observer.disconnect();\n",
       "        }}\n",
       "}});\n",
       "\n",
       "// Listen for the removal of the full notebook cells\n",
       "var notebookContainer = gd.closest('#notebook-container');\n",
       "if (notebookContainer) {{\n",
       "    x.observe(notebookContainer, {childList: true});\n",
       "}}\n",
       "\n",
       "// Listen for the clearing of the current output cell\n",
       "var outputEl = gd.closest('.output');\n",
       "if (outputEl) {{\n",
       "    x.observe(outputEl, {childList: true});\n",
       "}}\n",
       "\n",
       "                        })                };                });            </script>        </div>"
      ]
     },
     "metadata": {},
     "output_type": "display_data"
    }
   ],
   "source": [
    "fig = px.treemap(table1.query(\"YEAR==2017\"), path=['1D DESC'], values='IMPORT (MILLION RM)',\n",
    "                  color='IMPORT (MILLION RM)', hover_name='1D DESC',\n",
    "                  color_continuous_scale='turbo')\n",
    "fig.show()"
   ]
  },
  {
   "cell_type": "markdown",
   "metadata": {},
   "source": [
    "## How Dynamic Malaysia Export Is?"
   ]
  },
  {
   "cell_type": "code",
   "execution_count": 15,
   "metadata": {},
   "outputs": [
    {
     "data": {
      "application/vnd.plotly.v1+json": {
       "config": {
        "plotlyServerURL": "https://plot.ly"
       },
       "data": [
        {
         "hovertemplate": "<b>%{hovertext}</b><br><br>SITC 1 DIGIT=0<br>RCA Value=%{x}<br>% Change Import=%{y}<br>IMPORT (MILLION RM)=%{marker.size}<extra></extra>",
         "hovertext": [
          "FOOD"
         ],
         "legendgroup": "0",
         "marker": {
          "color": "#636efa",
          "size": [
           46762.158608000034
          ],
          "sizemode": "area",
          "sizeref": 87.87436267944449,
          "symbol": "circle"
         },
         "mode": "markers",
         "name": "0",
         "orientation": "v",
         "showlegend": true,
         "type": "scatter",
         "x": [
          0.73
         ],
         "xaxis": "x",
         "y": [
          3.1306877236245922
         ],
         "yaxis": "y"
        },
        {
         "hovertemplate": "<b>%{hovertext}</b><br><br>SITC 1 DIGIT=1<br>RCA Value=%{x}<br>% Change Import=%{y}<br>IMPORT (MILLION RM)=%{marker.size}<extra></extra>",
         "hovertext": [
          "BEVERAGES AND TOBACCO"
         ],
         "legendgroup": "1",
         "marker": {
          "color": "#EF553B",
          "size": [
           4534.132963999997
          ],
          "sizemode": "area",
          "sizeref": 87.87436267944449,
          "symbol": "circle"
         },
         "mode": "markers",
         "name": "1",
         "orientation": "v",
         "showlegend": true,
         "type": "scatter",
         "x": [
          0.82
         ],
         "xaxis": "x",
         "y": [
          -0.2975010694220237
         ],
         "yaxis": "y"
        },
        {
         "hovertemplate": "<b>%{hovertext}</b><br><br>SITC 1 DIGIT=2<br>RCA Value=%{x}<br>% Change Import=%{y}<br>IMPORT (MILLION RM)=%{marker.size}<extra></extra>",
         "hovertext": [
          "CRUDE MATERIALS, INEDIBLE"
         ],
         "legendgroup": "2",
         "marker": {
          "color": "#00cc96",
          "size": [
           24881.865449999987
          ],
          "sizemode": "area",
          "sizeref": 87.87436267944449,
          "symbol": "circle"
         },
         "mode": "markers",
         "name": "2",
         "orientation": "v",
         "showlegend": true,
         "type": "scatter",
         "x": [
          0.77
         ],
         "xaxis": "x",
         "y": [
          10.647063027360515
         ],
         "yaxis": "y"
        },
        {
         "hovertemplate": "<b>%{hovertext}</b><br><br>SITC 1 DIGIT=3<br>RCA Value=%{x}<br>% Change Import=%{y}<br>IMPORT (MILLION RM)=%{marker.size}<extra></extra>",
         "hovertext": [
          "MINERAL FUELS, LUBRICANTS, ETC."
         ],
         "legendgroup": "3",
         "marker": {
          "color": "#ab63fa",
          "size": [
           72183.85315000001
          ],
          "sizemode": "area",
          "sizeref": 87.87436267944449,
          "symbol": "circle"
         },
         "mode": "markers",
         "name": "3",
         "orientation": "v",
         "showlegend": true,
         "type": "scatter",
         "x": [
          0
         ],
         "xaxis": "x",
         "y": [
          -15.22554408725525
         ],
         "yaxis": "y"
        },
        {
         "hovertemplate": "<b>%{hovertext}</b><br><br>SITC 1 DIGIT=4<br>RCA Value=%{x}<br>% Change Import=%{y}<br>IMPORT (MILLION RM)=%{marker.size}<extra></extra>",
         "hovertext": [
          "ANIMAL AND VEGETABLE OILS AND FATS"
         ],
         "legendgroup": "4",
         "marker": {
          "color": "#FFA15A",
          "size": [
           5469.000097999997
          ],
          "sizemode": "area",
          "sizeref": 87.87436267944449,
          "symbol": "circle"
         },
         "mode": "markers",
         "name": "4",
         "orientation": "v",
         "showlegend": true,
         "type": "scatter",
         "x": [
          0.49
         ],
         "xaxis": "x",
         "y": [
          -21.54545046828028
         ],
         "yaxis": "y"
        },
        {
         "hovertemplate": "<b>%{hovertext}</b><br><br>SITC 1 DIGIT=5<br>RCA Value=%{x}<br>% Change Import=%{y}<br>IMPORT (MILLION RM)=%{marker.size}<extra></extra>",
         "hovertext": [
          "CHEMICALS"
         ],
         "legendgroup": "5",
         "marker": {
          "color": "#19d3f3",
          "size": [
           73570.85364399993
          ],
          "sizemode": "area",
          "sizeref": 87.87436267944449,
          "symbol": "circle"
         },
         "mode": "markers",
         "name": "5",
         "orientation": "v",
         "showlegend": true,
         "type": "scatter",
         "x": [
          0.37
         ],
         "xaxis": "x",
         "y": [
          5.499062517858078
         ],
         "yaxis": "y"
        },
        {
         "hovertemplate": "<b>%{hovertext}</b><br><br>SITC 1 DIGIT=6<br>RCA Value=%{x}<br>% Change Import=%{y}<br>IMPORT (MILLION RM)=%{marker.size}<extra></extra>",
         "hovertext": [
          "MANUFACTURED GOODS"
         ],
         "legendgroup": "6",
         "marker": {
          "color": "#FF6692",
          "size": [
           87914.966543
          ],
          "sizemode": "area",
          "sizeref": 87.87436267944449,
          "symbol": "circle"
         },
         "mode": "markers",
         "name": "6",
         "orientation": "v",
         "showlegend": true,
         "type": "scatter",
         "x": [
          0.99
         ],
         "xaxis": "x",
         "y": [
          -1.9127230820422891
         ],
         "yaxis": "y"
        },
        {
         "hovertemplate": "<b>%{hovertext}</b><br><br>SITC 1 DIGIT=7<br>RCA Value=%{x}<br>% Change Import=%{y}<br>IMPORT (MILLION RM)=%{marker.size}<extra></extra>",
         "hovertext": [
          "MACHINERY & TRANSPORT EQUIPMENT"
         ],
         "legendgroup": "7",
         "marker": {
          "color": "#B6E880",
          "size": [
           316347.70564600016
          ],
          "sizemode": "area",
          "sizeref": 87.87436267944449,
          "symbol": "circle"
         },
         "mode": "markers",
         "name": "7",
         "orientation": "v",
         "showlegend": true,
         "type": "scatter",
         "x": [
          0.8
         ],
         "xaxis": "x",
         "y": [
          6.490253321177919
         ],
         "yaxis": "y"
        },
        {
         "hovertemplate": "<b>%{hovertext}</b><br><br>SITC 1 DIGIT=8<br>RCA Value=%{x}<br>% Change Import=%{y}<br>IMPORT (MILLION RM)=%{marker.size}<extra></extra>",
         "hovertext": [
          "MISCELLANEOUS MANUFACTURED ARTICLES"
         ],
         "legendgroup": "8",
         "marker": {
          "color": "#FF97FF",
          "size": [
           54558.82173300008
          ],
          "sizemode": "area",
          "sizeref": 87.87436267944449,
          "symbol": "circle"
         },
         "mode": "markers",
         "name": "8",
         "orientation": "v",
         "showlegend": true,
         "type": "scatter",
         "x": [
          0.57
         ],
         "xaxis": "x",
         "y": [
          8.150129961336173
         ],
         "yaxis": "y"
        },
        {
         "hovertemplate": "<b>%{hovertext}</b><br><br>SITC 1 DIGIT=9<br>RCA Value=%{x}<br>% Change Import=%{y}<br>IMPORT (MILLION RM)=%{marker.size}<extra></extra>",
         "hovertext": [
          "MISCELLANEOUS TRANSACTIONS AND COMMODITIES"
         ],
         "legendgroup": "9",
         "marker": {
          "color": "#FECB52",
          "size": [
           12584.956679000004
          ],
          "sizemode": "area",
          "sizeref": 87.87436267944449,
          "symbol": "circle"
         },
         "mode": "markers",
         "name": "9",
         "orientation": "v",
         "showlegend": true,
         "type": "scatter",
         "x": [
          1
         ],
         "xaxis": "x",
         "y": [
          -12.608081891024225
         ],
         "yaxis": "y"
        }
       ],
       "layout": {
        "legend": {
         "itemsizing": "constant",
         "title": {
          "text": "SITC 1 DIGIT"
         },
         "tracegroupgap": 0
        },
        "margin": {
         "t": 60
        },
        "template": {
         "data": {
          "bar": [
           {
            "error_x": {
             "color": "#2a3f5f"
            },
            "error_y": {
             "color": "#2a3f5f"
            },
            "marker": {
             "line": {
              "color": "#E5ECF6",
              "width": 0.5
             }
            },
            "type": "bar"
           }
          ],
          "barpolar": [
           {
            "marker": {
             "line": {
              "color": "#E5ECF6",
              "width": 0.5
             }
            },
            "type": "barpolar"
           }
          ],
          "carpet": [
           {
            "aaxis": {
             "endlinecolor": "#2a3f5f",
             "gridcolor": "white",
             "linecolor": "white",
             "minorgridcolor": "white",
             "startlinecolor": "#2a3f5f"
            },
            "baxis": {
             "endlinecolor": "#2a3f5f",
             "gridcolor": "white",
             "linecolor": "white",
             "minorgridcolor": "white",
             "startlinecolor": "#2a3f5f"
            },
            "type": "carpet"
           }
          ],
          "choropleth": [
           {
            "colorbar": {
             "outlinewidth": 0,
             "ticks": ""
            },
            "type": "choropleth"
           }
          ],
          "contour": [
           {
            "colorbar": {
             "outlinewidth": 0,
             "ticks": ""
            },
            "colorscale": [
             [
              0,
              "#0d0887"
             ],
             [
              0.1111111111111111,
              "#46039f"
             ],
             [
              0.2222222222222222,
              "#7201a8"
             ],
             [
              0.3333333333333333,
              "#9c179e"
             ],
             [
              0.4444444444444444,
              "#bd3786"
             ],
             [
              0.5555555555555556,
              "#d8576b"
             ],
             [
              0.6666666666666666,
              "#ed7953"
             ],
             [
              0.7777777777777778,
              "#fb9f3a"
             ],
             [
              0.8888888888888888,
              "#fdca26"
             ],
             [
              1,
              "#f0f921"
             ]
            ],
            "type": "contour"
           }
          ],
          "contourcarpet": [
           {
            "colorbar": {
             "outlinewidth": 0,
             "ticks": ""
            },
            "type": "contourcarpet"
           }
          ],
          "heatmap": [
           {
            "colorbar": {
             "outlinewidth": 0,
             "ticks": ""
            },
            "colorscale": [
             [
              0,
              "#0d0887"
             ],
             [
              0.1111111111111111,
              "#46039f"
             ],
             [
              0.2222222222222222,
              "#7201a8"
             ],
             [
              0.3333333333333333,
              "#9c179e"
             ],
             [
              0.4444444444444444,
              "#bd3786"
             ],
             [
              0.5555555555555556,
              "#d8576b"
             ],
             [
              0.6666666666666666,
              "#ed7953"
             ],
             [
              0.7777777777777778,
              "#fb9f3a"
             ],
             [
              0.8888888888888888,
              "#fdca26"
             ],
             [
              1,
              "#f0f921"
             ]
            ],
            "type": "heatmap"
           }
          ],
          "heatmapgl": [
           {
            "colorbar": {
             "outlinewidth": 0,
             "ticks": ""
            },
            "colorscale": [
             [
              0,
              "#0d0887"
             ],
             [
              0.1111111111111111,
              "#46039f"
             ],
             [
              0.2222222222222222,
              "#7201a8"
             ],
             [
              0.3333333333333333,
              "#9c179e"
             ],
             [
              0.4444444444444444,
              "#bd3786"
             ],
             [
              0.5555555555555556,
              "#d8576b"
             ],
             [
              0.6666666666666666,
              "#ed7953"
             ],
             [
              0.7777777777777778,
              "#fb9f3a"
             ],
             [
              0.8888888888888888,
              "#fdca26"
             ],
             [
              1,
              "#f0f921"
             ]
            ],
            "type": "heatmapgl"
           }
          ],
          "histogram": [
           {
            "marker": {
             "colorbar": {
              "outlinewidth": 0,
              "ticks": ""
             }
            },
            "type": "histogram"
           }
          ],
          "histogram2d": [
           {
            "colorbar": {
             "outlinewidth": 0,
             "ticks": ""
            },
            "colorscale": [
             [
              0,
              "#0d0887"
             ],
             [
              0.1111111111111111,
              "#46039f"
             ],
             [
              0.2222222222222222,
              "#7201a8"
             ],
             [
              0.3333333333333333,
              "#9c179e"
             ],
             [
              0.4444444444444444,
              "#bd3786"
             ],
             [
              0.5555555555555556,
              "#d8576b"
             ],
             [
              0.6666666666666666,
              "#ed7953"
             ],
             [
              0.7777777777777778,
              "#fb9f3a"
             ],
             [
              0.8888888888888888,
              "#fdca26"
             ],
             [
              1,
              "#f0f921"
             ]
            ],
            "type": "histogram2d"
           }
          ],
          "histogram2dcontour": [
           {
            "colorbar": {
             "outlinewidth": 0,
             "ticks": ""
            },
            "colorscale": [
             [
              0,
              "#0d0887"
             ],
             [
              0.1111111111111111,
              "#46039f"
             ],
             [
              0.2222222222222222,
              "#7201a8"
             ],
             [
              0.3333333333333333,
              "#9c179e"
             ],
             [
              0.4444444444444444,
              "#bd3786"
             ],
             [
              0.5555555555555556,
              "#d8576b"
             ],
             [
              0.6666666666666666,
              "#ed7953"
             ],
             [
              0.7777777777777778,
              "#fb9f3a"
             ],
             [
              0.8888888888888888,
              "#fdca26"
             ],
             [
              1,
              "#f0f921"
             ]
            ],
            "type": "histogram2dcontour"
           }
          ],
          "mesh3d": [
           {
            "colorbar": {
             "outlinewidth": 0,
             "ticks": ""
            },
            "type": "mesh3d"
           }
          ],
          "parcoords": [
           {
            "line": {
             "colorbar": {
              "outlinewidth": 0,
              "ticks": ""
             }
            },
            "type": "parcoords"
           }
          ],
          "pie": [
           {
            "automargin": true,
            "type": "pie"
           }
          ],
          "scatter": [
           {
            "marker": {
             "colorbar": {
              "outlinewidth": 0,
              "ticks": ""
             }
            },
            "type": "scatter"
           }
          ],
          "scatter3d": [
           {
            "line": {
             "colorbar": {
              "outlinewidth": 0,
              "ticks": ""
             }
            },
            "marker": {
             "colorbar": {
              "outlinewidth": 0,
              "ticks": ""
             }
            },
            "type": "scatter3d"
           }
          ],
          "scattercarpet": [
           {
            "marker": {
             "colorbar": {
              "outlinewidth": 0,
              "ticks": ""
             }
            },
            "type": "scattercarpet"
           }
          ],
          "scattergeo": [
           {
            "marker": {
             "colorbar": {
              "outlinewidth": 0,
              "ticks": ""
             }
            },
            "type": "scattergeo"
           }
          ],
          "scattergl": [
           {
            "marker": {
             "colorbar": {
              "outlinewidth": 0,
              "ticks": ""
             }
            },
            "type": "scattergl"
           }
          ],
          "scattermapbox": [
           {
            "marker": {
             "colorbar": {
              "outlinewidth": 0,
              "ticks": ""
             }
            },
            "type": "scattermapbox"
           }
          ],
          "scatterpolar": [
           {
            "marker": {
             "colorbar": {
              "outlinewidth": 0,
              "ticks": ""
             }
            },
            "type": "scatterpolar"
           }
          ],
          "scatterpolargl": [
           {
            "marker": {
             "colorbar": {
              "outlinewidth": 0,
              "ticks": ""
             }
            },
            "type": "scatterpolargl"
           }
          ],
          "scatterternary": [
           {
            "marker": {
             "colorbar": {
              "outlinewidth": 0,
              "ticks": ""
             }
            },
            "type": "scatterternary"
           }
          ],
          "surface": [
           {
            "colorbar": {
             "outlinewidth": 0,
             "ticks": ""
            },
            "colorscale": [
             [
              0,
              "#0d0887"
             ],
             [
              0.1111111111111111,
              "#46039f"
             ],
             [
              0.2222222222222222,
              "#7201a8"
             ],
             [
              0.3333333333333333,
              "#9c179e"
             ],
             [
              0.4444444444444444,
              "#bd3786"
             ],
             [
              0.5555555555555556,
              "#d8576b"
             ],
             [
              0.6666666666666666,
              "#ed7953"
             ],
             [
              0.7777777777777778,
              "#fb9f3a"
             ],
             [
              0.8888888888888888,
              "#fdca26"
             ],
             [
              1,
              "#f0f921"
             ]
            ],
            "type": "surface"
           }
          ],
          "table": [
           {
            "cells": {
             "fill": {
              "color": "#EBF0F8"
             },
             "line": {
              "color": "white"
             }
            },
            "header": {
             "fill": {
              "color": "#C8D4E3"
             },
             "line": {
              "color": "white"
             }
            },
            "type": "table"
           }
          ]
         },
         "layout": {
          "annotationdefaults": {
           "arrowcolor": "#2a3f5f",
           "arrowhead": 0,
           "arrowwidth": 1
          },
          "coloraxis": {
           "colorbar": {
            "outlinewidth": 0,
            "ticks": ""
           }
          },
          "colorscale": {
           "diverging": [
            [
             0,
             "#8e0152"
            ],
            [
             0.1,
             "#c51b7d"
            ],
            [
             0.2,
             "#de77ae"
            ],
            [
             0.3,
             "#f1b6da"
            ],
            [
             0.4,
             "#fde0ef"
            ],
            [
             0.5,
             "#f7f7f7"
            ],
            [
             0.6,
             "#e6f5d0"
            ],
            [
             0.7,
             "#b8e186"
            ],
            [
             0.8,
             "#7fbc41"
            ],
            [
             0.9,
             "#4d9221"
            ],
            [
             1,
             "#276419"
            ]
           ],
           "sequential": [
            [
             0,
             "#0d0887"
            ],
            [
             0.1111111111111111,
             "#46039f"
            ],
            [
             0.2222222222222222,
             "#7201a8"
            ],
            [
             0.3333333333333333,
             "#9c179e"
            ],
            [
             0.4444444444444444,
             "#bd3786"
            ],
            [
             0.5555555555555556,
             "#d8576b"
            ],
            [
             0.6666666666666666,
             "#ed7953"
            ],
            [
             0.7777777777777778,
             "#fb9f3a"
            ],
            [
             0.8888888888888888,
             "#fdca26"
            ],
            [
             1,
             "#f0f921"
            ]
           ],
           "sequentialminus": [
            [
             0,
             "#0d0887"
            ],
            [
             0.1111111111111111,
             "#46039f"
            ],
            [
             0.2222222222222222,
             "#7201a8"
            ],
            [
             0.3333333333333333,
             "#9c179e"
            ],
            [
             0.4444444444444444,
             "#bd3786"
            ],
            [
             0.5555555555555556,
             "#d8576b"
            ],
            [
             0.6666666666666666,
             "#ed7953"
            ],
            [
             0.7777777777777778,
             "#fb9f3a"
            ],
            [
             0.8888888888888888,
             "#fdca26"
            ],
            [
             1,
             "#f0f921"
            ]
           ]
          },
          "colorway": [
           "#636efa",
           "#EF553B",
           "#00cc96",
           "#ab63fa",
           "#FFA15A",
           "#19d3f3",
           "#FF6692",
           "#B6E880",
           "#FF97FF",
           "#FECB52"
          ],
          "font": {
           "color": "#2a3f5f"
          },
          "geo": {
           "bgcolor": "white",
           "lakecolor": "white",
           "landcolor": "#E5ECF6",
           "showlakes": true,
           "showland": true,
           "subunitcolor": "white"
          },
          "hoverlabel": {
           "align": "left"
          },
          "hovermode": "closest",
          "mapbox": {
           "style": "light"
          },
          "paper_bgcolor": "white",
          "plot_bgcolor": "#E5ECF6",
          "polar": {
           "angularaxis": {
            "gridcolor": "white",
            "linecolor": "white",
            "ticks": ""
           },
           "bgcolor": "#E5ECF6",
           "radialaxis": {
            "gridcolor": "white",
            "linecolor": "white",
            "ticks": ""
           }
          },
          "scene": {
           "xaxis": {
            "backgroundcolor": "#E5ECF6",
            "gridcolor": "white",
            "gridwidth": 2,
            "linecolor": "white",
            "showbackground": true,
            "ticks": "",
            "zerolinecolor": "white"
           },
           "yaxis": {
            "backgroundcolor": "#E5ECF6",
            "gridcolor": "white",
            "gridwidth": 2,
            "linecolor": "white",
            "showbackground": true,
            "ticks": "",
            "zerolinecolor": "white"
           },
           "zaxis": {
            "backgroundcolor": "#E5ECF6",
            "gridcolor": "white",
            "gridwidth": 2,
            "linecolor": "white",
            "showbackground": true,
            "ticks": "",
            "zerolinecolor": "white"
           }
          },
          "shapedefaults": {
           "line": {
            "color": "#2a3f5f"
           }
          },
          "ternary": {
           "aaxis": {
            "gridcolor": "white",
            "linecolor": "white",
            "ticks": ""
           },
           "baxis": {
            "gridcolor": "white",
            "linecolor": "white",
            "ticks": ""
           },
           "bgcolor": "#E5ECF6",
           "caxis": {
            "gridcolor": "white",
            "linecolor": "white",
            "ticks": ""
           }
          },
          "title": {
           "x": 0.05
          },
          "xaxis": {
           "automargin": true,
           "gridcolor": "white",
           "linecolor": "white",
           "ticks": "",
           "title": {
            "standoff": 15
           },
           "zerolinecolor": "white",
           "zerolinewidth": 2
          },
          "yaxis": {
           "automargin": true,
           "gridcolor": "white",
           "linecolor": "white",
           "ticks": "",
           "title": {
            "standoff": 15
           },
           "zerolinecolor": "white",
           "zerolinewidth": 2
          }
         }
        },
        "xaxis": {
         "anchor": "y",
         "domain": [
          0,
          1
         ],
         "title": {
          "text": "RCA Value"
         }
        },
        "yaxis": {
         "anchor": "x",
         "domain": [
          0,
          1
         ],
         "title": {
          "text": "% Change Import"
         }
        }
       }
      },
      "text/html": [
       "<div>                            <div id=\"a858b825-a05c-4046-9147-0b6669b0542d\" class=\"plotly-graph-div\" style=\"height:525px; width:100%;\"></div>            <script type=\"text/javascript\">                require([\"plotly\"], function(Plotly) {                    window.PLOTLYENV=window.PLOTLYENV || {};                                    if (document.getElementById(\"a858b825-a05c-4046-9147-0b6669b0542d\")) {                    Plotly.newPlot(                        \"a858b825-a05c-4046-9147-0b6669b0542d\",                        [{\"hovertemplate\": \"<b>%{hovertext}</b><br><br>SITC 1 DIGIT=0<br>RCA Value=%{x}<br>% Change Import=%{y}<br>IMPORT (MILLION RM)=%{marker.size}<extra></extra>\", \"hovertext\": [\"FOOD\"], \"legendgroup\": \"0\", \"marker\": {\"color\": \"#636efa\", \"size\": [46762.158608000034], \"sizemode\": \"area\", \"sizeref\": 87.87436267944449, \"symbol\": \"circle\"}, \"mode\": \"markers\", \"name\": \"0\", \"orientation\": \"v\", \"showlegend\": true, \"type\": \"scatter\", \"x\": [0.73], \"xaxis\": \"x\", \"y\": [3.1306877236245922], \"yaxis\": \"y\"}, {\"hovertemplate\": \"<b>%{hovertext}</b><br><br>SITC 1 DIGIT=1<br>RCA Value=%{x}<br>% Change Import=%{y}<br>IMPORT (MILLION RM)=%{marker.size}<extra></extra>\", \"hovertext\": [\"BEVERAGES AND TOBACCO\"], \"legendgroup\": \"1\", \"marker\": {\"color\": \"#EF553B\", \"size\": [4534.132963999997], \"sizemode\": \"area\", \"sizeref\": 87.87436267944449, \"symbol\": \"circle\"}, \"mode\": \"markers\", \"name\": \"1\", \"orientation\": \"v\", \"showlegend\": true, \"type\": \"scatter\", \"x\": [0.82], \"xaxis\": \"x\", \"y\": [-0.2975010694220237], \"yaxis\": \"y\"}, {\"hovertemplate\": \"<b>%{hovertext}</b><br><br>SITC 1 DIGIT=2<br>RCA Value=%{x}<br>% Change Import=%{y}<br>IMPORT (MILLION RM)=%{marker.size}<extra></extra>\", \"hovertext\": [\"CRUDE MATERIALS, INEDIBLE\"], \"legendgroup\": \"2\", \"marker\": {\"color\": \"#00cc96\", \"size\": [24881.865449999987], \"sizemode\": \"area\", \"sizeref\": 87.87436267944449, \"symbol\": \"circle\"}, \"mode\": \"markers\", \"name\": \"2\", \"orientation\": \"v\", \"showlegend\": true, \"type\": \"scatter\", \"x\": [0.77], \"xaxis\": \"x\", \"y\": [10.647063027360515], \"yaxis\": \"y\"}, {\"hovertemplate\": \"<b>%{hovertext}</b><br><br>SITC 1 DIGIT=3<br>RCA Value=%{x}<br>% Change Import=%{y}<br>IMPORT (MILLION RM)=%{marker.size}<extra></extra>\", \"hovertext\": [\"MINERAL FUELS, LUBRICANTS, ETC.\"], \"legendgroup\": \"3\", \"marker\": {\"color\": \"#ab63fa\", \"size\": [72183.85315000001], \"sizemode\": \"area\", \"sizeref\": 87.87436267944449, \"symbol\": \"circle\"}, \"mode\": \"markers\", \"name\": \"3\", \"orientation\": \"v\", \"showlegend\": true, \"type\": \"scatter\", \"x\": [0.0], \"xaxis\": \"x\", \"y\": [-15.22554408725525], \"yaxis\": \"y\"}, {\"hovertemplate\": \"<b>%{hovertext}</b><br><br>SITC 1 DIGIT=4<br>RCA Value=%{x}<br>% Change Import=%{y}<br>IMPORT (MILLION RM)=%{marker.size}<extra></extra>\", \"hovertext\": [\"ANIMAL AND VEGETABLE OILS AND FATS\"], \"legendgroup\": \"4\", \"marker\": {\"color\": \"#FFA15A\", \"size\": [5469.000097999997], \"sizemode\": \"area\", \"sizeref\": 87.87436267944449, \"symbol\": \"circle\"}, \"mode\": \"markers\", \"name\": \"4\", \"orientation\": \"v\", \"showlegend\": true, \"type\": \"scatter\", \"x\": [0.49], \"xaxis\": \"x\", \"y\": [-21.54545046828028], \"yaxis\": \"y\"}, {\"hovertemplate\": \"<b>%{hovertext}</b><br><br>SITC 1 DIGIT=5<br>RCA Value=%{x}<br>% Change Import=%{y}<br>IMPORT (MILLION RM)=%{marker.size}<extra></extra>\", \"hovertext\": [\"CHEMICALS\"], \"legendgroup\": \"5\", \"marker\": {\"color\": \"#19d3f3\", \"size\": [73570.85364399993], \"sizemode\": \"area\", \"sizeref\": 87.87436267944449, \"symbol\": \"circle\"}, \"mode\": \"markers\", \"name\": \"5\", \"orientation\": \"v\", \"showlegend\": true, \"type\": \"scatter\", \"x\": [0.37], \"xaxis\": \"x\", \"y\": [5.499062517858078], \"yaxis\": \"y\"}, {\"hovertemplate\": \"<b>%{hovertext}</b><br><br>SITC 1 DIGIT=6<br>RCA Value=%{x}<br>% Change Import=%{y}<br>IMPORT (MILLION RM)=%{marker.size}<extra></extra>\", \"hovertext\": [\"MANUFACTURED GOODS\"], \"legendgroup\": \"6\", \"marker\": {\"color\": \"#FF6692\", \"size\": [87914.966543], \"sizemode\": \"area\", \"sizeref\": 87.87436267944449, \"symbol\": \"circle\"}, \"mode\": \"markers\", \"name\": \"6\", \"orientation\": \"v\", \"showlegend\": true, \"type\": \"scatter\", \"x\": [0.99], \"xaxis\": \"x\", \"y\": [-1.9127230820422891], \"yaxis\": \"y\"}, {\"hovertemplate\": \"<b>%{hovertext}</b><br><br>SITC 1 DIGIT=7<br>RCA Value=%{x}<br>% Change Import=%{y}<br>IMPORT (MILLION RM)=%{marker.size}<extra></extra>\", \"hovertext\": [\"MACHINERY & TRANSPORT EQUIPMENT\"], \"legendgroup\": \"7\", \"marker\": {\"color\": \"#B6E880\", \"size\": [316347.70564600016], \"sizemode\": \"area\", \"sizeref\": 87.87436267944449, \"symbol\": \"circle\"}, \"mode\": \"markers\", \"name\": \"7\", \"orientation\": \"v\", \"showlegend\": true, \"type\": \"scatter\", \"x\": [0.8], \"xaxis\": \"x\", \"y\": [6.490253321177919], \"yaxis\": \"y\"}, {\"hovertemplate\": \"<b>%{hovertext}</b><br><br>SITC 1 DIGIT=8<br>RCA Value=%{x}<br>% Change Import=%{y}<br>IMPORT (MILLION RM)=%{marker.size}<extra></extra>\", \"hovertext\": [\"MISCELLANEOUS MANUFACTURED ARTICLES\"], \"legendgroup\": \"8\", \"marker\": {\"color\": \"#FF97FF\", \"size\": [54558.82173300008], \"sizemode\": \"area\", \"sizeref\": 87.87436267944449, \"symbol\": \"circle\"}, \"mode\": \"markers\", \"name\": \"8\", \"orientation\": \"v\", \"showlegend\": true, \"type\": \"scatter\", \"x\": [0.57], \"xaxis\": \"x\", \"y\": [8.150129961336173], \"yaxis\": \"y\"}, {\"hovertemplate\": \"<b>%{hovertext}</b><br><br>SITC 1 DIGIT=9<br>RCA Value=%{x}<br>% Change Import=%{y}<br>IMPORT (MILLION RM)=%{marker.size}<extra></extra>\", \"hovertext\": [\"MISCELLANEOUS TRANSACTIONS AND COMMODITIES\"], \"legendgroup\": \"9\", \"marker\": {\"color\": \"#FECB52\", \"size\": [12584.956679000004], \"sizemode\": \"area\", \"sizeref\": 87.87436267944449, \"symbol\": \"circle\"}, \"mode\": \"markers\", \"name\": \"9\", \"orientation\": \"v\", \"showlegend\": true, \"type\": \"scatter\", \"x\": [1.0], \"xaxis\": \"x\", \"y\": [-12.608081891024225], \"yaxis\": \"y\"}],                        {\"legend\": {\"itemsizing\": \"constant\", \"title\": {\"text\": \"SITC 1 DIGIT\"}, \"tracegroupgap\": 0}, \"margin\": {\"t\": 60}, \"template\": {\"data\": {\"bar\": [{\"error_x\": {\"color\": \"#2a3f5f\"}, \"error_y\": {\"color\": \"#2a3f5f\"}, \"marker\": {\"line\": {\"color\": \"#E5ECF6\", \"width\": 0.5}}, \"type\": \"bar\"}], \"barpolar\": [{\"marker\": {\"line\": {\"color\": \"#E5ECF6\", \"width\": 0.5}}, \"type\": \"barpolar\"}], \"carpet\": [{\"aaxis\": {\"endlinecolor\": \"#2a3f5f\", \"gridcolor\": \"white\", \"linecolor\": \"white\", \"minorgridcolor\": \"white\", \"startlinecolor\": \"#2a3f5f\"}, \"baxis\": {\"endlinecolor\": \"#2a3f5f\", \"gridcolor\": \"white\", \"linecolor\": \"white\", \"minorgridcolor\": \"white\", \"startlinecolor\": \"#2a3f5f\"}, \"type\": \"carpet\"}], \"choropleth\": [{\"colorbar\": {\"outlinewidth\": 0, \"ticks\": \"\"}, \"type\": \"choropleth\"}], \"contour\": [{\"colorbar\": {\"outlinewidth\": 0, \"ticks\": \"\"}, \"colorscale\": [[0.0, \"#0d0887\"], [0.1111111111111111, \"#46039f\"], [0.2222222222222222, \"#7201a8\"], [0.3333333333333333, \"#9c179e\"], [0.4444444444444444, \"#bd3786\"], [0.5555555555555556, \"#d8576b\"], [0.6666666666666666, \"#ed7953\"], [0.7777777777777778, \"#fb9f3a\"], [0.8888888888888888, \"#fdca26\"], [1.0, \"#f0f921\"]], \"type\": \"contour\"}], \"contourcarpet\": [{\"colorbar\": {\"outlinewidth\": 0, \"ticks\": \"\"}, \"type\": \"contourcarpet\"}], \"heatmap\": [{\"colorbar\": {\"outlinewidth\": 0, \"ticks\": \"\"}, \"colorscale\": [[0.0, \"#0d0887\"], [0.1111111111111111, \"#46039f\"], [0.2222222222222222, \"#7201a8\"], [0.3333333333333333, \"#9c179e\"], [0.4444444444444444, \"#bd3786\"], [0.5555555555555556, \"#d8576b\"], [0.6666666666666666, \"#ed7953\"], [0.7777777777777778, \"#fb9f3a\"], [0.8888888888888888, \"#fdca26\"], [1.0, \"#f0f921\"]], \"type\": \"heatmap\"}], \"heatmapgl\": [{\"colorbar\": {\"outlinewidth\": 0, \"ticks\": \"\"}, \"colorscale\": [[0.0, \"#0d0887\"], [0.1111111111111111, \"#46039f\"], [0.2222222222222222, \"#7201a8\"], [0.3333333333333333, \"#9c179e\"], [0.4444444444444444, \"#bd3786\"], [0.5555555555555556, \"#d8576b\"], [0.6666666666666666, \"#ed7953\"], [0.7777777777777778, \"#fb9f3a\"], [0.8888888888888888, \"#fdca26\"], [1.0, \"#f0f921\"]], \"type\": \"heatmapgl\"}], \"histogram\": [{\"marker\": {\"colorbar\": {\"outlinewidth\": 0, \"ticks\": \"\"}}, \"type\": \"histogram\"}], \"histogram2d\": [{\"colorbar\": {\"outlinewidth\": 0, \"ticks\": \"\"}, \"colorscale\": [[0.0, \"#0d0887\"], [0.1111111111111111, \"#46039f\"], [0.2222222222222222, \"#7201a8\"], [0.3333333333333333, \"#9c179e\"], [0.4444444444444444, \"#bd3786\"], [0.5555555555555556, \"#d8576b\"], [0.6666666666666666, \"#ed7953\"], [0.7777777777777778, \"#fb9f3a\"], [0.8888888888888888, \"#fdca26\"], [1.0, \"#f0f921\"]], \"type\": \"histogram2d\"}], \"histogram2dcontour\": [{\"colorbar\": {\"outlinewidth\": 0, \"ticks\": \"\"}, \"colorscale\": [[0.0, \"#0d0887\"], [0.1111111111111111, \"#46039f\"], [0.2222222222222222, \"#7201a8\"], [0.3333333333333333, \"#9c179e\"], [0.4444444444444444, \"#bd3786\"], [0.5555555555555556, \"#d8576b\"], [0.6666666666666666, \"#ed7953\"], [0.7777777777777778, \"#fb9f3a\"], [0.8888888888888888, \"#fdca26\"], [1.0, \"#f0f921\"]], \"type\": \"histogram2dcontour\"}], \"mesh3d\": [{\"colorbar\": {\"outlinewidth\": 0, \"ticks\": \"\"}, \"type\": \"mesh3d\"}], \"parcoords\": [{\"line\": {\"colorbar\": {\"outlinewidth\": 0, \"ticks\": \"\"}}, \"type\": \"parcoords\"}], \"pie\": [{\"automargin\": true, \"type\": \"pie\"}], \"scatter\": [{\"marker\": {\"colorbar\": {\"outlinewidth\": 0, \"ticks\": \"\"}}, \"type\": \"scatter\"}], \"scatter3d\": [{\"line\": {\"colorbar\": {\"outlinewidth\": 0, \"ticks\": \"\"}}, \"marker\": {\"colorbar\": {\"outlinewidth\": 0, \"ticks\": \"\"}}, \"type\": \"scatter3d\"}], \"scattercarpet\": [{\"marker\": {\"colorbar\": {\"outlinewidth\": 0, \"ticks\": \"\"}}, \"type\": \"scattercarpet\"}], \"scattergeo\": [{\"marker\": {\"colorbar\": {\"outlinewidth\": 0, \"ticks\": \"\"}}, \"type\": \"scattergeo\"}], \"scattergl\": [{\"marker\": {\"colorbar\": {\"outlinewidth\": 0, \"ticks\": \"\"}}, \"type\": \"scattergl\"}], \"scattermapbox\": [{\"marker\": {\"colorbar\": {\"outlinewidth\": 0, \"ticks\": \"\"}}, \"type\": \"scattermapbox\"}], \"scatterpolar\": [{\"marker\": {\"colorbar\": {\"outlinewidth\": 0, \"ticks\": \"\"}}, \"type\": \"scatterpolar\"}], \"scatterpolargl\": [{\"marker\": {\"colorbar\": {\"outlinewidth\": 0, \"ticks\": \"\"}}, \"type\": \"scatterpolargl\"}], \"scatterternary\": [{\"marker\": {\"colorbar\": {\"outlinewidth\": 0, \"ticks\": \"\"}}, \"type\": \"scatterternary\"}], \"surface\": [{\"colorbar\": {\"outlinewidth\": 0, \"ticks\": \"\"}, \"colorscale\": [[0.0, \"#0d0887\"], [0.1111111111111111, \"#46039f\"], [0.2222222222222222, \"#7201a8\"], [0.3333333333333333, \"#9c179e\"], [0.4444444444444444, \"#bd3786\"], [0.5555555555555556, \"#d8576b\"], [0.6666666666666666, \"#ed7953\"], [0.7777777777777778, \"#fb9f3a\"], [0.8888888888888888, \"#fdca26\"], [1.0, \"#f0f921\"]], \"type\": \"surface\"}], \"table\": [{\"cells\": {\"fill\": {\"color\": \"#EBF0F8\"}, \"line\": {\"color\": \"white\"}}, \"header\": {\"fill\": {\"color\": \"#C8D4E3\"}, \"line\": {\"color\": \"white\"}}, \"type\": \"table\"}]}, \"layout\": {\"annotationdefaults\": {\"arrowcolor\": \"#2a3f5f\", \"arrowhead\": 0, \"arrowwidth\": 1}, \"coloraxis\": {\"colorbar\": {\"outlinewidth\": 0, \"ticks\": \"\"}}, \"colorscale\": {\"diverging\": [[0, \"#8e0152\"], [0.1, \"#c51b7d\"], [0.2, \"#de77ae\"], [0.3, \"#f1b6da\"], [0.4, \"#fde0ef\"], [0.5, \"#f7f7f7\"], [0.6, \"#e6f5d0\"], [0.7, \"#b8e186\"], [0.8, \"#7fbc41\"], [0.9, \"#4d9221\"], [1, \"#276419\"]], \"sequential\": [[0.0, \"#0d0887\"], [0.1111111111111111, \"#46039f\"], [0.2222222222222222, \"#7201a8\"], [0.3333333333333333, \"#9c179e\"], [0.4444444444444444, \"#bd3786\"], [0.5555555555555556, \"#d8576b\"], [0.6666666666666666, \"#ed7953\"], [0.7777777777777778, \"#fb9f3a\"], [0.8888888888888888, \"#fdca26\"], [1.0, \"#f0f921\"]], \"sequentialminus\": [[0.0, \"#0d0887\"], [0.1111111111111111, \"#46039f\"], [0.2222222222222222, \"#7201a8\"], [0.3333333333333333, \"#9c179e\"], [0.4444444444444444, \"#bd3786\"], [0.5555555555555556, \"#d8576b\"], [0.6666666666666666, \"#ed7953\"], [0.7777777777777778, \"#fb9f3a\"], [0.8888888888888888, \"#fdca26\"], [1.0, \"#f0f921\"]]}, \"colorway\": [\"#636efa\", \"#EF553B\", \"#00cc96\", \"#ab63fa\", \"#FFA15A\", \"#19d3f3\", \"#FF6692\", \"#B6E880\", \"#FF97FF\", \"#FECB52\"], \"font\": {\"color\": \"#2a3f5f\"}, \"geo\": {\"bgcolor\": \"white\", \"lakecolor\": \"white\", \"landcolor\": \"#E5ECF6\", \"showlakes\": true, \"showland\": true, \"subunitcolor\": \"white\"}, \"hoverlabel\": {\"align\": \"left\"}, \"hovermode\": \"closest\", \"mapbox\": {\"style\": \"light\"}, \"paper_bgcolor\": \"white\", \"plot_bgcolor\": \"#E5ECF6\", \"polar\": {\"angularaxis\": {\"gridcolor\": \"white\", \"linecolor\": \"white\", \"ticks\": \"\"}, \"bgcolor\": \"#E5ECF6\", \"radialaxis\": {\"gridcolor\": \"white\", \"linecolor\": \"white\", \"ticks\": \"\"}}, \"scene\": {\"xaxis\": {\"backgroundcolor\": \"#E5ECF6\", \"gridcolor\": \"white\", \"gridwidth\": 2, \"linecolor\": \"white\", \"showbackground\": true, \"ticks\": \"\", \"zerolinecolor\": \"white\"}, \"yaxis\": {\"backgroundcolor\": \"#E5ECF6\", \"gridcolor\": \"white\", \"gridwidth\": 2, \"linecolor\": \"white\", \"showbackground\": true, \"ticks\": \"\", \"zerolinecolor\": \"white\"}, \"zaxis\": {\"backgroundcolor\": \"#E5ECF6\", \"gridcolor\": \"white\", \"gridwidth\": 2, \"linecolor\": \"white\", \"showbackground\": true, \"ticks\": \"\", \"zerolinecolor\": \"white\"}}, \"shapedefaults\": {\"line\": {\"color\": \"#2a3f5f\"}}, \"ternary\": {\"aaxis\": {\"gridcolor\": \"white\", \"linecolor\": \"white\", \"ticks\": \"\"}, \"baxis\": {\"gridcolor\": \"white\", \"linecolor\": \"white\", \"ticks\": \"\"}, \"bgcolor\": \"#E5ECF6\", \"caxis\": {\"gridcolor\": \"white\", \"linecolor\": \"white\", \"ticks\": \"\"}}, \"title\": {\"x\": 0.05}, \"xaxis\": {\"automargin\": true, \"gridcolor\": \"white\", \"linecolor\": \"white\", \"ticks\": \"\", \"title\": {\"standoff\": 15}, \"zerolinecolor\": \"white\", \"zerolinewidth\": 2}, \"yaxis\": {\"automargin\": true, \"gridcolor\": \"white\", \"linecolor\": \"white\", \"ticks\": \"\", \"title\": {\"standoff\": 15}, \"zerolinecolor\": \"white\", \"zerolinewidth\": 2}}}, \"xaxis\": {\"anchor\": \"y\", \"domain\": [0.0, 1.0], \"title\": {\"text\": \"RCA Value\"}}, \"yaxis\": {\"anchor\": \"x\", \"domain\": [0.0, 1.0], \"title\": {\"text\": \"% Change Import\"}}},                        {\"responsive\": true}                    ).then(function(){\n",
       "                            \n",
       "var gd = document.getElementById('a858b825-a05c-4046-9147-0b6669b0542d');\n",
       "var x = new MutationObserver(function (mutations, observer) {{\n",
       "        var display = window.getComputedStyle(gd).display;\n",
       "        if (!display || display === 'none') {{\n",
       "            console.log([gd, 'removed!']);\n",
       "            Plotly.purge(gd);\n",
       "            observer.disconnect();\n",
       "        }}\n",
       "}});\n",
       "\n",
       "// Listen for the removal of the full notebook cells\n",
       "var notebookContainer = gd.closest('#notebook-container');\n",
       "if (notebookContainer) {{\n",
       "    x.observe(notebookContainer, {childList: true});\n",
       "}}\n",
       "\n",
       "// Listen for the clearing of the current output cell\n",
       "var outputEl = gd.closest('.output');\n",
       "if (outputEl) {{\n",
       "    x.observe(outputEl, {childList: true});\n",
       "}}\n",
       "\n",
       "                        })                };                });            </script>        </div>"
      ]
     },
     "metadata": {},
     "output_type": "display_data"
    }
   ],
   "source": [
    "'''Plot'''\n",
    "fig = px.scatter(table1.query(\"YEAR==2016\"), x=\"RCA Value\", y=\"% Change Import\",\n",
    "         size=\"IMPORT (MILLION RM)\", color=\"SITC 1 DIGIT\",\n",
    "                 hover_name=\"1D DESC\", log_x=False, size_max=60)\n",
    "fig.show()"
   ]
  }
 ],
 "metadata": {
  "kernelspec": {
   "display_name": "Python 3",
   "language": "python",
   "name": "python3"
  },
  "language_info": {
   "codemirror_mode": {
    "name": "ipython",
    "version": 3
   },
   "file_extension": ".py",
   "mimetype": "text/x-python",
   "name": "python",
   "nbconvert_exporter": "python",
   "pygments_lexer": "ipython3",
   "version": "3.8.5"
  }
 },
 "nbformat": 4,
 "nbformat_minor": 4
}
