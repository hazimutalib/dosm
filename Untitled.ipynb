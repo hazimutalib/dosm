{
 "cells": [
  {
   "cell_type": "code",
   "execution_count": 5,
   "metadata": {},
   "outputs": [
    {
     "data": {
      "application/vnd.plotly.v1+json": {
       "config": {
        "plotlyServerURL": "https://plot.ly"
       },
       "data": [
        {
         "branchvalues": "total",
         "customdata": [
          [
           "AFGHANISTAN",
           517709027
          ],
          [
           "ALBANIA",
           18256588
          ],
          [
           "ALGERIA",
           509012966
          ],
          [
           "AMERICAN SAMOA",
           18405597
          ],
          [
           "ANDORRA",
           1344484
          ],
          [
           "ANGOLA",
           955527730.0000001
          ],
          [
           "ARGENTINA",
           930489108.9999999
          ],
          [
           "ARMENIA",
           8077389
          ],
          [
           "ARUBA",
           1468545
          ],
          [
           "AUSTRALIA",
           32376583253
          ],
          [
           "AUSTRIA",
           448885291.99999994
          ],
          [
           "AZERBAIJAN",
           49181112
          ],
          [
           "BAHRAIN",
           456456390
          ],
          [
           "BANGLADESH",
           6544822813
          ],
          [
           "BARBADOS",
           7331054
          ],
          [
           "BELARUS",
           5876146
          ],
          [
           "BELGIUM",
           4863088827
          ],
          [
           "BELIZE",
           11517276
          ],
          [
           "BENIN",
           1232064765
          ],
          [
           "BERMUDA",
           1337807
          ],
          [
           "BHUTAN",
           3481802
          ],
          [
           "BOTSWANA",
           8409535
          ],
          [
           "BRAZIL",
           3659097160.0000005
          ],
          [
           "BULGARIA",
           341745896
          ],
          [
           "BURKINA FASO",
           31989304
          ],
          [
           "BURUNDI",
           5644552
          ],
          [
           "CAMBODIA",
           1246668505
          ],
          [
           "CAMEROON",
           256178035
          ],
          [
           "CANADA",
           3524769995
          ],
          [
           "CAPE VERDE",
           8377600
          ],
          [
           "CAYMAN ISLANDS",
           692312
          ],
          [
           "CHAD",
           1635169
          ],
          [
           "CHILE",
           714452596
          ],
          [
           "CHINA",
           125956950346
          ],
          [
           "COLOMBIA",
           419879543.00000006
          ],
          [
           "COMOROS",
           18806964
          ],
          [
           "COOK ISLANDS",
           1374640
          ],
          [
           "COSTA RICA",
           256103848
          ],
          [
           "COTE D'IVOIRE",
           354852335
          ],
          [
           "CROATIA",
           74703673
          ],
          [
           "CUBA",
           25015402
          ],
          [
           "CYPRUS",
           71645844
          ],
          [
           "CZECH REPUBLIC",
           1431752672
          ],
          [
           "DENMARK",
           628920879
          ],
          [
           "DJIBOUTI",
           620434066
          ],
          [
           "DOMINICA",
           4571215
          ],
          [
           "DOMINICAN REPUBLIC",
           201354309
          ],
          [
           "ECUADOR",
           145092914
          ],
          [
           "EGYPT",
           2065749401
          ],
          [
           "EL SALVADOR",
           70360753
          ],
          [
           "EQUATORIAL GUINEA",
           92017555
          ],
          [
           "ERITREA",
           35663695
          ],
          [
           "ESTONIA",
           178904409
          ],
          [
           "ETHIOPIA",
           665123857
          ],
          [
           "FAROE ISLANDS",
           101990
          ],
          [
           "FIJI",
           305594130
          ],
          [
           "FINLAND",
           531613321
          ],
          [
           "FRANCE",
           5830048739
          ],
          [
           "FRENCH GUIANA",
           2283492
          ],
          [
           "FRENCH POLYNESIA",
           139885531
          ],
          [
           "GABON",
           158810853
          ],
          [
           "GEORGIA",
           108506500
          ],
          [
           "GERMANY",
           26673129679
          ],
          [
           "GHANA",
           1105659917
          ],
          [
           "GIBRALTAR",
           1128115
          ],
          [
           "GREECE",
           421991049.00000006
          ],
          [
           "GREENLAND",
           20400
          ],
          [
           "GRENADA",
           38027840
          ],
          [
           "GUADELOUPE",
           6720691
          ],
          [
           "GUAM",
           17169193
          ],
          [
           "GUATEMALA",
           146078036
          ],
          [
           "GUINEA",
           222820847
          ],
          [
           "GUINEA-BISSAU",
           21669688
          ],
          [
           "GUYANA",
           29136693
          ],
          [
           "HAITI",
           95760700.99999999
          ],
          [
           "HONDURAS",
           72383864
          ],
          [
           "HONG KONG",
           47713472878
          ],
          [
           "HUNGARY",
           1902231640.9999998
          ],
          [
           "ICELAND",
           4148072
          ],
          [
           "INDIA",
           34530787832
          ],
          [
           "INDONESIA",
           33630868482
          ],
          [
           "IRAQ",
           550630341
          ],
          [
           "IRELAND",
           679777284
          ],
          [
           "ITALY",
           4574660873
          ],
          [
           "JAMAICA",
           69740014
          ],
          [
           "JAPAN",
           75596858824
          ],
          [
           "JORDAN",
           410577098
          ],
          [
           "KAZAKHSTAN",
           297433933
          ],
          [
           "KENYA",
           1041542061
          ],
          [
           "KIRIBATI",
           4575182
          ],
          [
           "KUWAIT",
           808786093
          ],
          [
           "KYRGYZSTAN",
           9580505
          ],
          [
           "LATVIA",
           352224788
          ],
          [
           "LEBANON",
           314118985
          ],
          [
           "LESOTHO",
           4602525
          ],
          [
           "LIBERIA",
           170831871
          ],
          [
           "LIBYA",
           89360479
          ],
          [
           "LIECHTENSTEIN",
           3089710
          ],
          [
           "LITHUANIA",
           85570948
          ],
          [
           "LUXEMBOURG",
           89148280
          ],
          [
           "MADAGASCAR",
           431248813
          ],
          [
           "MALAWI",
           139375489
          ],
          [
           "MALDIVES",
           587653873
          ],
          [
           "MALI",
           17307488
          ],
          [
           "MALTA",
           178786207
          ],
          [
           "MARSHALL ISLANDS",
           2221571
          ],
          [
           "MARTINIQUE",
           9676816
          ],
          [
           "MAURITANIA",
           266524237
          ],
          [
           "MAURITIUS",
           361292454
          ],
          [
           "MAYOTTE",
           12584108
          ],
          [
           "MEXICO",
           9611154056
          ],
          [
           "MONACO",
           1161810
          ],
          [
           "MONGOLIA",
           73471290
          ],
          [
           "MONTSERRAT",
           2187652
          ],
          [
           "MOROCCO",
           312837612
          ],
          [
           "MOZAMBIQUE",
           829905767
          ],
          [
           "NAMIBIA",
           20943354
          ],
          [
           "NAURU",
           1287089
          ],
          [
           "NEPAL",
           122005218
          ],
          [
           "NETHERLANDS",
           26899999370
          ],
          [
           "NEW CALEDONIA",
           97459564.99999999
          ],
          [
           "NEW ZEALAND",
           4511353371
          ],
          [
           "NICARAGUA",
           21573002
          ],
          [
           "NIGER",
           28445705
          ],
          [
           "NIGERIA",
           1643502889.9999998
          ],
          [
           "NORWAY",
           424844738
          ],
          [
           "OMAN",
           1188270437
          ],
          [
           "PAKISTAN",
           5044253031
          ],
          [
           "PALAU",
           313284
          ],
          [
           "PANAMA",
           509592905
          ],
          [
           "PAPUA NEW GUINEA",
           1445146193
          ],
          [
           "PARAGUAY",
           32140598
          ],
          [
           "PERU",
           505223650
          ],
          [
           "PHILIPPINES",
           16520765195
          ],
          [
           "POLAND",
           1699312187
          ],
          [
           "PORTUGAL",
           392166237
          ],
          [
           "PUERTO RICO",
           80244002
          ],
          [
           "QATAR",
           762420811
          ],
          [
           "REUNION",
           52121655
          ],
          [
           "ROMANIA",
           617471040
          ],
          [
           "RWANDA",
           10973962
          ],
          [
           "SAINT LUCIA",
           2151281
          ],
          [
           "SAINT VINCENT AND THE GRENADINES",
           6087631
          ],
          [
           "SAUDI ARABIA",
           4235382473
          ],
          [
           "SENEGAL",
           364503059
          ],
          [
           "SERBIA",
           37050879
          ],
          [
           "SEYCHELLES",
           110524354.99999999
          ],
          [
           "SIERRA LEONE",
           70846135
          ],
          [
           "SINGAPORE",
           135628300345
          ],
          [
           "SLOVAKIA",
           373535381
          ],
          [
           "SLOVENIA",
           2054476253
          ],
          [
           "SOLOMON ISLANDS",
           238485872
          ],
          [
           "SOMALIA",
           386866639
          ],
          [
           "SOUTH AFRICA",
           3333251141.9999995
          ],
          [
           "SPAIN",
           2687945407
          ],
          [
           "SRI LANKA",
           2484265001
          ],
          [
           "SUDAN",
           370695955
          ],
          [
           "SURINAME",
           35488322
          ],
          [
           "SWAZILAND",
           9475451
          ],
          [
           "SWEDEN",
           1552532393
          ],
          [
           "SWITZERLAND",
           5221423982
          ],
          [
           "TAJIKISTAN",
           37776782
          ],
          [
           "THAILAND",
           50508049463.99999
          ],
          [
           "TOGO",
           678477819
          ],
          [
           "TONGA",
           8611695
          ],
          [
           "TUNISIA",
           200842447
          ],
          [
           "TURKEY",
           10442973032
          ],
          [
           "TURKMENISTAN",
           59056825
          ],
          [
           "TUVALU",
           1238812
          ],
          [
           "UGANDA",
           84045449
          ],
          [
           "UKRAINE",
           457927602
          ],
          [
           "UNITED ARAB EMIRATES",
           12019074605
          ],
          [
           "UNITED KINGDOM",
           9654611515
          ],
          [
           "UNITED STATES",
           88680165528
          ],
          [
           "URUGUAY",
           166332833
          ],
          [
           "UZBEKISTAN",
           335979418
          ],
          [
           "VANUATU",
           99564708
          ],
          [
           "VIET NAM",
           27596793779.000004
          ],
          [
           "WALLIS AND FUTUNA",
           235498
          ],
          [
           "YEMEN",
           798231409
          ],
          [
           "ZAMBIA",
           20093835
          ],
          [
           "ZIMBABWE",
           22004418
          ],
          [
           "(?)",
           85480537297.00746
          ],
          [
           "(?)",
           264944766.6059863
          ],
          [
           "(?)",
           314259375.2340728
          ],
          [
           "(?)",
           1569704088.272429
          ],
          [
           "(?)",
           6039533608.645303
          ],
          [
           "(?)",
           8594295697.151018
          ],
          [
           "(?)",
           1470388593.0565274
          ],
          [
           "(?)",
           85423623971.32732
          ],
          [
           "(?)",
           27269859307.66661
          ],
          [
           "(?)",
           1332530375.0483296
          ],
          [
           "(?)",
           17933251165.343815
          ],
          [
           "(?)",
           68305678929.46553
          ]
         ],
         "domain": {
          "x": [
           0,
           1
          ],
          "y": [
           0,
           1
          ]
         },
         "hovertemplate": "labels=%{label}<br>sum_import_export_sum=%{value}<br>parent=%{parent}<br>id=%{id}<br>COUNTRY=%{customdata[0]}<br>sum_import_export=%{color}<extra></extra>",
         "ids": [
          "world/ASIA (EX. NEAR EAST)         /AFGHANISTAN",
          "world/EASTERN EUROPE                     /ALBANIA",
          "world/NORTHERN AFRICA                    /ALGERIA",
          "world/OCEANIA                            /AMERICAN SAMOA",
          "world/WESTERN EUROPE                     /ANDORRA",
          "world/SUB-SAHARAN AFRICA                 /ANGOLA",
          "world/LATIN AMER. & CARIB    /ARGENTINA",
          "world/C.W. OF IND. STATES /ARMENIA",
          "world/LATIN AMER. & CARIB    /ARUBA",
          "world/OCEANIA                            /AUSTRALIA",
          "world/WESTERN EUROPE                     /AUSTRIA",
          "world/C.W. OF IND. STATES /AZERBAIJAN",
          "world/NEAR EAST                          /BAHRAIN",
          "world/ASIA (EX. NEAR EAST)         /BANGLADESH",
          "world/LATIN AMER. & CARIB    /BARBADOS",
          "world/C.W. OF IND. STATES /BELARUS",
          "world/WESTERN EUROPE                     /BELGIUM",
          "world/LATIN AMER. & CARIB    /BELIZE",
          "world/SUB-SAHARAN AFRICA                 /BENIN",
          "world/NORTHERN AMERICA                   /BERMUDA",
          "world/ASIA (EX. NEAR EAST)         /BHUTAN",
          "world/SUB-SAHARAN AFRICA                 /BOTSWANA",
          "world/LATIN AMER. & CARIB    /BRAZIL",
          "world/EASTERN EUROPE                     /BULGARIA",
          "world/SUB-SAHARAN AFRICA                 /BURKINA FASO",
          "world/SUB-SAHARAN AFRICA                 /BURUNDI",
          "world/ASIA (EX. NEAR EAST)         /CAMBODIA",
          "world/SUB-SAHARAN AFRICA                 /CAMEROON",
          "world/NORTHERN AMERICA                   /CANADA",
          "world/SUB-SAHARAN AFRICA                 /CAPE VERDE",
          "world/LATIN AMER. & CARIB    /CAYMAN ISLANDS",
          "world/SUB-SAHARAN AFRICA                 /CHAD",
          "world/LATIN AMER. & CARIB    /CHILE",
          "world/ASIA (EX. NEAR EAST)         /CHINA",
          "world/LATIN AMER. & CARIB    /COLOMBIA",
          "world/SUB-SAHARAN AFRICA                 /COMOROS",
          "world/OCEANIA                            /COOK ISLANDS",
          "world/LATIN AMER. & CARIB    /COSTA RICA",
          "world/SUB-SAHARAN AFRICA                 /COTE D'IVOIRE",
          "world/EASTERN EUROPE                     /CROATIA",
          "world/LATIN AMER. & CARIB    /CUBA",
          "world/NEAR EAST                          /CYPRUS",
          "world/EASTERN EUROPE                     /CZECH REPUBLIC",
          "world/WESTERN EUROPE                     /DENMARK",
          "world/SUB-SAHARAN AFRICA                 /DJIBOUTI",
          "world/LATIN AMER. & CARIB    /DOMINICA",
          "world/LATIN AMER. & CARIB    /DOMINICAN REPUBLIC",
          "world/LATIN AMER. & CARIB    /ECUADOR",
          "world/NORTHERN AFRICA                    /EGYPT",
          "world/LATIN AMER. & CARIB    /EL SALVADOR",
          "world/SUB-SAHARAN AFRICA                 /EQUATORIAL GUINEA",
          "world/SUB-SAHARAN AFRICA                 /ERITREA",
          "world/BALTICS                            /ESTONIA",
          "world/SUB-SAHARAN AFRICA                 /ETHIOPIA",
          "world/WESTERN EUROPE                     /FAROE ISLANDS",
          "world/OCEANIA                            /FIJI",
          "world/WESTERN EUROPE                     /FINLAND",
          "world/WESTERN EUROPE                     /FRANCE",
          "world/LATIN AMER. & CARIB    /FRENCH GUIANA",
          "world/OCEANIA                            /FRENCH POLYNESIA",
          "world/SUB-SAHARAN AFRICA                 /GABON",
          "world/C.W. OF IND. STATES /GEORGIA",
          "world/WESTERN EUROPE                     /GERMANY",
          "world/SUB-SAHARAN AFRICA                 /GHANA",
          "world/WESTERN EUROPE                     /GIBRALTAR",
          "world/WESTERN EUROPE                     /GREECE",
          "world/NORTHERN AMERICA                   /GREENLAND",
          "world/LATIN AMER. & CARIB    /GRENADA",
          "world/LATIN AMER. & CARIB    /GUADELOUPE",
          "world/OCEANIA                            /GUAM",
          "world/LATIN AMER. & CARIB    /GUATEMALA",
          "world/SUB-SAHARAN AFRICA                 /GUINEA",
          "world/SUB-SAHARAN AFRICA                 /GUINEA-BISSAU",
          "world/LATIN AMER. & CARIB    /GUYANA",
          "world/LATIN AMER. & CARIB    /HAITI",
          "world/LATIN AMER. & CARIB    /HONDURAS",
          "world/ASIA (EX. NEAR EAST)         /HONG KONG",
          "world/EASTERN EUROPE                     /HUNGARY",
          "world/WESTERN EUROPE                     /ICELAND",
          "world/ASIA (EX. NEAR EAST)         /INDIA",
          "world/ASIA (EX. NEAR EAST)         /INDONESIA",
          "world/NEAR EAST                          /IRAQ",
          "world/WESTERN EUROPE                     /IRELAND",
          "world/WESTERN EUROPE                     /ITALY",
          "world/LATIN AMER. & CARIB    /JAMAICA",
          "world/ASIA (EX. NEAR EAST)         /JAPAN",
          "world/NEAR EAST                          /JORDAN",
          "world/C.W. OF IND. STATES /KAZAKHSTAN",
          "world/SUB-SAHARAN AFRICA                 /KENYA",
          "world/OCEANIA                            /KIRIBATI",
          "world/NEAR EAST                          /KUWAIT",
          "world/C.W. OF IND. STATES /KYRGYZSTAN",
          "world/BALTICS                            /LATVIA",
          "world/NEAR EAST                          /LEBANON",
          "world/SUB-SAHARAN AFRICA                 /LESOTHO",
          "world/SUB-SAHARAN AFRICA                 /LIBERIA",
          "world/NORTHERN AFRICA                    /LIBYA",
          "world/WESTERN EUROPE                     /LIECHTENSTEIN",
          "world/BALTICS                            /LITHUANIA",
          "world/WESTERN EUROPE                     /LUXEMBOURG",
          "world/SUB-SAHARAN AFRICA                 /MADAGASCAR",
          "world/SUB-SAHARAN AFRICA                 /MALAWI",
          "world/ASIA (EX. NEAR EAST)         /MALDIVES",
          "world/SUB-SAHARAN AFRICA                 /MALI",
          "world/WESTERN EUROPE                     /MALTA",
          "world/OCEANIA                            /MARSHALL ISLANDS",
          "world/LATIN AMER. & CARIB    /MARTINIQUE",
          "world/SUB-SAHARAN AFRICA                 /MAURITANIA",
          "world/SUB-SAHARAN AFRICA                 /MAURITIUS",
          "world/SUB-SAHARAN AFRICA                 /MAYOTTE",
          "world/LATIN AMER. & CARIB    /MEXICO",
          "world/WESTERN EUROPE                     /MONACO",
          "world/ASIA (EX. NEAR EAST)         /MONGOLIA",
          "world/LATIN AMER. & CARIB    /MONTSERRAT",
          "world/NORTHERN AFRICA                    /MOROCCO",
          "world/SUB-SAHARAN AFRICA                 /MOZAMBIQUE",
          "world/SUB-SAHARAN AFRICA                 /NAMIBIA",
          "world/OCEANIA                            /NAURU",
          "world/ASIA (EX. NEAR EAST)         /NEPAL",
          "world/WESTERN EUROPE                     /NETHERLANDS",
          "world/OCEANIA                            /NEW CALEDONIA",
          "world/OCEANIA                            /NEW ZEALAND",
          "world/LATIN AMER. & CARIB    /NICARAGUA",
          "world/SUB-SAHARAN AFRICA                 /NIGER",
          "world/SUB-SAHARAN AFRICA                 /NIGERIA",
          "world/WESTERN EUROPE                     /NORWAY",
          "world/NEAR EAST                          /OMAN",
          "world/ASIA (EX. NEAR EAST)         /PAKISTAN",
          "world/OCEANIA                            /PALAU",
          "world/LATIN AMER. & CARIB    /PANAMA",
          "world/OCEANIA                            /PAPUA NEW GUINEA",
          "world/LATIN AMER. & CARIB    /PARAGUAY",
          "world/LATIN AMER. & CARIB    /PERU",
          "world/ASIA (EX. NEAR EAST)         /PHILIPPINES",
          "world/EASTERN EUROPE                     /POLAND",
          "world/WESTERN EUROPE                     /PORTUGAL",
          "world/LATIN AMER. & CARIB    /PUERTO RICO",
          "world/NEAR EAST                          /QATAR",
          "world/SUB-SAHARAN AFRICA                 /REUNION",
          "world/EASTERN EUROPE                     /ROMANIA",
          "world/SUB-SAHARAN AFRICA                 /RWANDA",
          "world/LATIN AMER. & CARIB    /SAINT LUCIA",
          "world/LATIN AMER. & CARIB    /SAINT VINCENT AND THE GRENADINES",
          "world/NEAR EAST                          /SAUDI ARABIA",
          "world/SUB-SAHARAN AFRICA                 /SENEGAL",
          "world/EASTERN EUROPE                     /SERBIA",
          "world/SUB-SAHARAN AFRICA                 /SEYCHELLES",
          "world/SUB-SAHARAN AFRICA                 /SIERRA LEONE",
          "world/ASIA (EX. NEAR EAST)         /SINGAPORE",
          "world/EASTERN EUROPE                     /SLOVAKIA",
          "world/EASTERN EUROPE                     /SLOVENIA",
          "world/OCEANIA                            /SOLOMON ISLANDS",
          "world/SUB-SAHARAN AFRICA                 /SOMALIA",
          "world/SUB-SAHARAN AFRICA                 /SOUTH AFRICA",
          "world/WESTERN EUROPE                     /SPAIN",
          "world/ASIA (EX. NEAR EAST)         /SRI LANKA",
          "world/SUB-SAHARAN AFRICA                 /SUDAN",
          "world/LATIN AMER. & CARIB    /SURINAME",
          "world/SUB-SAHARAN AFRICA                 /SWAZILAND",
          "world/WESTERN EUROPE                     /SWEDEN",
          "world/WESTERN EUROPE                     /SWITZERLAND",
          "world/C.W. OF IND. STATES /TAJIKISTAN",
          "world/ASIA (EX. NEAR EAST)         /THAILAND",
          "world/SUB-SAHARAN AFRICA                 /TOGO",
          "world/OCEANIA                            /TONGA",
          "world/NORTHERN AFRICA                    /TUNISIA",
          "world/NEAR EAST                          /TURKEY",
          "world/C.W. OF IND. STATES /TURKMENISTAN",
          "world/OCEANIA                            /TUVALU",
          "world/SUB-SAHARAN AFRICA                 /UGANDA",
          "world/C.W. OF IND. STATES /UKRAINE",
          "world/NEAR EAST                          /UNITED ARAB EMIRATES",
          "world/WESTERN EUROPE                     /UNITED KINGDOM",
          "world/NORTHERN AMERICA                   /UNITED STATES",
          "world/LATIN AMER. & CARIB    /URUGUAY",
          "world/C.W. OF IND. STATES /UZBEKISTAN",
          "world/OCEANIA                            /VANUATU",
          "world/ASIA (EX. NEAR EAST)         /VIET NAM",
          "world/OCEANIA                            /WALLIS AND FUTUNA",
          "world/NEAR EAST                          /YEMEN",
          "world/SUB-SAHARAN AFRICA                 /ZAMBIA",
          "world/SUB-SAHARAN AFRICA                 /ZIMBABWE",
          "world/ASIA (EX. NEAR EAST)         ",
          "world/BALTICS                            ",
          "world/C.W. OF IND. STATES ",
          "world/EASTERN EUROPE                     ",
          "world/LATIN AMER. & CARIB    ",
          "world/NEAR EAST                          ",
          "world/NORTHERN AFRICA                    ",
          "world/NORTHERN AMERICA                   ",
          "world/OCEANIA                            ",
          "world/SUB-SAHARAN AFRICA                 ",
          "world/WESTERN EUROPE                     ",
          "world"
         ],
         "labels": [
          "AFGHANISTAN",
          "ALBANIA",
          "ALGERIA",
          "AMERICAN SAMOA",
          "ANDORRA",
          "ANGOLA",
          "ARGENTINA",
          "ARMENIA",
          "ARUBA",
          "AUSTRALIA",
          "AUSTRIA",
          "AZERBAIJAN",
          "BAHRAIN",
          "BANGLADESH",
          "BARBADOS",
          "BELARUS",
          "BELGIUM",
          "BELIZE",
          "BENIN",
          "BERMUDA",
          "BHUTAN",
          "BOTSWANA",
          "BRAZIL",
          "BULGARIA",
          "BURKINA FASO",
          "BURUNDI",
          "CAMBODIA",
          "CAMEROON",
          "CANADA",
          "CAPE VERDE",
          "CAYMAN ISLANDS",
          "CHAD",
          "CHILE",
          "CHINA",
          "COLOMBIA",
          "COMOROS",
          "COOK ISLANDS",
          "COSTA RICA",
          "COTE D'IVOIRE",
          "CROATIA",
          "CUBA",
          "CYPRUS",
          "CZECH REPUBLIC",
          "DENMARK",
          "DJIBOUTI",
          "DOMINICA",
          "DOMINICAN REPUBLIC",
          "ECUADOR",
          "EGYPT",
          "EL SALVADOR",
          "EQUATORIAL GUINEA",
          "ERITREA",
          "ESTONIA",
          "ETHIOPIA",
          "FAROE ISLANDS",
          "FIJI",
          "FINLAND",
          "FRANCE",
          "FRENCH GUIANA",
          "FRENCH POLYNESIA",
          "GABON",
          "GEORGIA",
          "GERMANY",
          "GHANA",
          "GIBRALTAR",
          "GREECE",
          "GREENLAND",
          "GRENADA",
          "GUADELOUPE",
          "GUAM",
          "GUATEMALA",
          "GUINEA",
          "GUINEA-BISSAU",
          "GUYANA",
          "HAITI",
          "HONDURAS",
          "HONG KONG",
          "HUNGARY",
          "ICELAND",
          "INDIA",
          "INDONESIA",
          "IRAQ",
          "IRELAND",
          "ITALY",
          "JAMAICA",
          "JAPAN",
          "JORDAN",
          "KAZAKHSTAN",
          "KENYA",
          "KIRIBATI",
          "KUWAIT",
          "KYRGYZSTAN",
          "LATVIA",
          "LEBANON",
          "LESOTHO",
          "LIBERIA",
          "LIBYA",
          "LIECHTENSTEIN",
          "LITHUANIA",
          "LUXEMBOURG",
          "MADAGASCAR",
          "MALAWI",
          "MALDIVES",
          "MALI",
          "MALTA",
          "MARSHALL ISLANDS",
          "MARTINIQUE",
          "MAURITANIA",
          "MAURITIUS",
          "MAYOTTE",
          "MEXICO",
          "MONACO",
          "MONGOLIA",
          "MONTSERRAT",
          "MOROCCO",
          "MOZAMBIQUE",
          "NAMIBIA",
          "NAURU",
          "NEPAL",
          "NETHERLANDS",
          "NEW CALEDONIA",
          "NEW ZEALAND",
          "NICARAGUA",
          "NIGER",
          "NIGERIA",
          "NORWAY",
          "OMAN",
          "PAKISTAN",
          "PALAU",
          "PANAMA",
          "PAPUA NEW GUINEA",
          "PARAGUAY",
          "PERU",
          "PHILIPPINES",
          "POLAND",
          "PORTUGAL",
          "PUERTO RICO",
          "QATAR",
          "REUNION",
          "ROMANIA",
          "RWANDA",
          "SAINT LUCIA",
          "SAINT VINCENT AND THE GRENADINES",
          "SAUDI ARABIA",
          "SENEGAL",
          "SERBIA",
          "SEYCHELLES",
          "SIERRA LEONE",
          "SINGAPORE",
          "SLOVAKIA",
          "SLOVENIA",
          "SOLOMON ISLANDS",
          "SOMALIA",
          "SOUTH AFRICA",
          "SPAIN",
          "SRI LANKA",
          "SUDAN",
          "SURINAME",
          "SWAZILAND",
          "SWEDEN",
          "SWITZERLAND",
          "TAJIKISTAN",
          "THAILAND",
          "TOGO",
          "TONGA",
          "TUNISIA",
          "TURKEY",
          "TURKMENISTAN",
          "TUVALU",
          "UGANDA",
          "UKRAINE",
          "UNITED ARAB EMIRATES",
          "UNITED KINGDOM",
          "UNITED STATES",
          "URUGUAY",
          "UZBEKISTAN",
          "VANUATU",
          "VIET NAM",
          "WALLIS AND FUTUNA",
          "YEMEN",
          "ZAMBIA",
          "ZIMBABWE",
          "ASIA (EX. NEAR EAST)         ",
          "BALTICS                            ",
          "C.W. OF IND. STATES ",
          "EASTERN EUROPE                     ",
          "LATIN AMER. & CARIB    ",
          "NEAR EAST                          ",
          "NORTHERN AFRICA                    ",
          "NORTHERN AMERICA                   ",
          "OCEANIA                            ",
          "SUB-SAHARAN AFRICA                 ",
          "WESTERN EUROPE                     ",
          "world"
         ],
         "marker": {
          "coloraxis": "coloraxis",
          "colors": [
           517709027,
           18256588,
           509012966,
           18405597,
           1344484,
           955527730.0000001,
           930489108.9999999,
           8077389,
           1468545,
           32376583253,
           448885291.99999994,
           49181112,
           456456390,
           6544822813,
           7331054,
           5876146,
           4863088827,
           11517276,
           1232064765,
           1337807,
           3481802,
           8409535,
           3659097160.0000005,
           341745896,
           31989304,
           5644552,
           1246668505,
           256178035,
           3524769995,
           8377600,
           692312,
           1635169,
           714452596,
           125956950346,
           419879543.00000006,
           18806964,
           1374640,
           256103848,
           354852335,
           74703673,
           25015402,
           71645844,
           1431752672,
           628920879,
           620434066,
           4571215,
           201354309,
           145092914,
           2065749401,
           70360753,
           92017555,
           35663695,
           178904409,
           665123857,
           101990,
           305594130,
           531613321,
           5830048739,
           2283492,
           139885531,
           158810853,
           108506500,
           26673129679,
           1105659917,
           1128115,
           421991049.00000006,
           20400,
           38027840,
           6720691,
           17169193,
           146078036,
           222820847,
           21669688,
           29136693,
           95760700.99999999,
           72383864,
           47713472878,
           1902231640.9999998,
           4148072,
           34530787832,
           33630868482,
           550630341,
           679777284,
           4574660873,
           69740014,
           75596858824,
           410577098,
           297433933,
           1041542061,
           4575182,
           808786093,
           9580505,
           352224788,
           314118985,
           4602525,
           170831871,
           89360479,
           3089710,
           85570948,
           89148280,
           431248813,
           139375489,
           587653873,
           17307488,
           178786207,
           2221571,
           9676816,
           266524237,
           361292454,
           12584108,
           9611154056,
           1161810,
           73471290,
           2187652,
           312837612,
           829905767,
           20943354,
           1287089,
           122005218,
           26899999370,
           97459564.99999999,
           4511353371,
           21573002,
           28445705,
           1643502889.9999998,
           424844738,
           1188270437,
           5044253031,
           313284,
           509592905,
           1445146193,
           32140598,
           505223650,
           16520765195,
           1699312187,
           392166237,
           80244002,
           762420811,
           52121655,
           617471040,
           10973962,
           2151281,
           6087631,
           4235382473,
           364503059,
           37050879,
           110524354.99999999,
           70846135,
           135628300345,
           373535381,
           2054476253,
           238485872,
           386866639,
           3333251141.9999995,
           2687945407,
           2484265001,
           370695955,
           35488322,
           9475451,
           1552532393,
           5221423982,
           37776782,
           50508049463.99999,
           678477819,
           8611695,
           200842447,
           10442973032,
           59056825,
           1238812,
           84045449,
           457927602,
           12019074605,
           9654611515,
           88680165528,
           166332833,
           335979418,
           99564708,
           27596793779.000004,
           235498,
           798231409,
           20093835,
           22004418,
           85480537297.00746,
           264944766.6059863,
           314259375.2340728,
           1569704088.272429,
           6039533608.645303,
           8594295697.151018,
           1470388593.0565274,
           85423623971.32732,
           27269859307.66661,
           1332530375.0483296,
           17933251165.343815,
           68305678929.46553
          ]
         },
         "name": "",
         "parents": [
          "world/ASIA (EX. NEAR EAST)         ",
          "world/EASTERN EUROPE                     ",
          "world/NORTHERN AFRICA                    ",
          "world/OCEANIA                            ",
          "world/WESTERN EUROPE                     ",
          "world/SUB-SAHARAN AFRICA                 ",
          "world/LATIN AMER. & CARIB    ",
          "world/C.W. OF IND. STATES ",
          "world/LATIN AMER. & CARIB    ",
          "world/OCEANIA                            ",
          "world/WESTERN EUROPE                     ",
          "world/C.W. OF IND. STATES ",
          "world/NEAR EAST                          ",
          "world/ASIA (EX. NEAR EAST)         ",
          "world/LATIN AMER. & CARIB    ",
          "world/C.W. OF IND. STATES ",
          "world/WESTERN EUROPE                     ",
          "world/LATIN AMER. & CARIB    ",
          "world/SUB-SAHARAN AFRICA                 ",
          "world/NORTHERN AMERICA                   ",
          "world/ASIA (EX. NEAR EAST)         ",
          "world/SUB-SAHARAN AFRICA                 ",
          "world/LATIN AMER. & CARIB    ",
          "world/EASTERN EUROPE                     ",
          "world/SUB-SAHARAN AFRICA                 ",
          "world/SUB-SAHARAN AFRICA                 ",
          "world/ASIA (EX. NEAR EAST)         ",
          "world/SUB-SAHARAN AFRICA                 ",
          "world/NORTHERN AMERICA                   ",
          "world/SUB-SAHARAN AFRICA                 ",
          "world/LATIN AMER. & CARIB    ",
          "world/SUB-SAHARAN AFRICA                 ",
          "world/LATIN AMER. & CARIB    ",
          "world/ASIA (EX. NEAR EAST)         ",
          "world/LATIN AMER. & CARIB    ",
          "world/SUB-SAHARAN AFRICA                 ",
          "world/OCEANIA                            ",
          "world/LATIN AMER. & CARIB    ",
          "world/SUB-SAHARAN AFRICA                 ",
          "world/EASTERN EUROPE                     ",
          "world/LATIN AMER. & CARIB    ",
          "world/NEAR EAST                          ",
          "world/EASTERN EUROPE                     ",
          "world/WESTERN EUROPE                     ",
          "world/SUB-SAHARAN AFRICA                 ",
          "world/LATIN AMER. & CARIB    ",
          "world/LATIN AMER. & CARIB    ",
          "world/LATIN AMER. & CARIB    ",
          "world/NORTHERN AFRICA                    ",
          "world/LATIN AMER. & CARIB    ",
          "world/SUB-SAHARAN AFRICA                 ",
          "world/SUB-SAHARAN AFRICA                 ",
          "world/BALTICS                            ",
          "world/SUB-SAHARAN AFRICA                 ",
          "world/WESTERN EUROPE                     ",
          "world/OCEANIA                            ",
          "world/WESTERN EUROPE                     ",
          "world/WESTERN EUROPE                     ",
          "world/LATIN AMER. & CARIB    ",
          "world/OCEANIA                            ",
          "world/SUB-SAHARAN AFRICA                 ",
          "world/C.W. OF IND. STATES ",
          "world/WESTERN EUROPE                     ",
          "world/SUB-SAHARAN AFRICA                 ",
          "world/WESTERN EUROPE                     ",
          "world/WESTERN EUROPE                     ",
          "world/NORTHERN AMERICA                   ",
          "world/LATIN AMER. & CARIB    ",
          "world/LATIN AMER. & CARIB    ",
          "world/OCEANIA                            ",
          "world/LATIN AMER. & CARIB    ",
          "world/SUB-SAHARAN AFRICA                 ",
          "world/SUB-SAHARAN AFRICA                 ",
          "world/LATIN AMER. & CARIB    ",
          "world/LATIN AMER. & CARIB    ",
          "world/LATIN AMER. & CARIB    ",
          "world/ASIA (EX. NEAR EAST)         ",
          "world/EASTERN EUROPE                     ",
          "world/WESTERN EUROPE                     ",
          "world/ASIA (EX. NEAR EAST)         ",
          "world/ASIA (EX. NEAR EAST)         ",
          "world/NEAR EAST                          ",
          "world/WESTERN EUROPE                     ",
          "world/WESTERN EUROPE                     ",
          "world/LATIN AMER. & CARIB    ",
          "world/ASIA (EX. NEAR EAST)         ",
          "world/NEAR EAST                          ",
          "world/C.W. OF IND. STATES ",
          "world/SUB-SAHARAN AFRICA                 ",
          "world/OCEANIA                            ",
          "world/NEAR EAST                          ",
          "world/C.W. OF IND. STATES ",
          "world/BALTICS                            ",
          "world/NEAR EAST                          ",
          "world/SUB-SAHARAN AFRICA                 ",
          "world/SUB-SAHARAN AFRICA                 ",
          "world/NORTHERN AFRICA                    ",
          "world/WESTERN EUROPE                     ",
          "world/BALTICS                            ",
          "world/WESTERN EUROPE                     ",
          "world/SUB-SAHARAN AFRICA                 ",
          "world/SUB-SAHARAN AFRICA                 ",
          "world/ASIA (EX. NEAR EAST)         ",
          "world/SUB-SAHARAN AFRICA                 ",
          "world/WESTERN EUROPE                     ",
          "world/OCEANIA                            ",
          "world/LATIN AMER. & CARIB    ",
          "world/SUB-SAHARAN AFRICA                 ",
          "world/SUB-SAHARAN AFRICA                 ",
          "world/SUB-SAHARAN AFRICA                 ",
          "world/LATIN AMER. & CARIB    ",
          "world/WESTERN EUROPE                     ",
          "world/ASIA (EX. NEAR EAST)         ",
          "world/LATIN AMER. & CARIB    ",
          "world/NORTHERN AFRICA                    ",
          "world/SUB-SAHARAN AFRICA                 ",
          "world/SUB-SAHARAN AFRICA                 ",
          "world/OCEANIA                            ",
          "world/ASIA (EX. NEAR EAST)         ",
          "world/WESTERN EUROPE                     ",
          "world/OCEANIA                            ",
          "world/OCEANIA                            ",
          "world/LATIN AMER. & CARIB    ",
          "world/SUB-SAHARAN AFRICA                 ",
          "world/SUB-SAHARAN AFRICA                 ",
          "world/WESTERN EUROPE                     ",
          "world/NEAR EAST                          ",
          "world/ASIA (EX. NEAR EAST)         ",
          "world/OCEANIA                            ",
          "world/LATIN AMER. & CARIB    ",
          "world/OCEANIA                            ",
          "world/LATIN AMER. & CARIB    ",
          "world/LATIN AMER. & CARIB    ",
          "world/ASIA (EX. NEAR EAST)         ",
          "world/EASTERN EUROPE                     ",
          "world/WESTERN EUROPE                     ",
          "world/LATIN AMER. & CARIB    ",
          "world/NEAR EAST                          ",
          "world/SUB-SAHARAN AFRICA                 ",
          "world/EASTERN EUROPE                     ",
          "world/SUB-SAHARAN AFRICA                 ",
          "world/LATIN AMER. & CARIB    ",
          "world/LATIN AMER. & CARIB    ",
          "world/NEAR EAST                          ",
          "world/SUB-SAHARAN AFRICA                 ",
          "world/EASTERN EUROPE                     ",
          "world/SUB-SAHARAN AFRICA                 ",
          "world/SUB-SAHARAN AFRICA                 ",
          "world/ASIA (EX. NEAR EAST)         ",
          "world/EASTERN EUROPE                     ",
          "world/EASTERN EUROPE                     ",
          "world/OCEANIA                            ",
          "world/SUB-SAHARAN AFRICA                 ",
          "world/SUB-SAHARAN AFRICA                 ",
          "world/WESTERN EUROPE                     ",
          "world/ASIA (EX. NEAR EAST)         ",
          "world/SUB-SAHARAN AFRICA                 ",
          "world/LATIN AMER. & CARIB    ",
          "world/SUB-SAHARAN AFRICA                 ",
          "world/WESTERN EUROPE                     ",
          "world/WESTERN EUROPE                     ",
          "world/C.W. OF IND. STATES ",
          "world/ASIA (EX. NEAR EAST)         ",
          "world/SUB-SAHARAN AFRICA                 ",
          "world/OCEANIA                            ",
          "world/NORTHERN AFRICA                    ",
          "world/NEAR EAST                          ",
          "world/C.W. OF IND. STATES ",
          "world/OCEANIA                            ",
          "world/SUB-SAHARAN AFRICA                 ",
          "world/C.W. OF IND. STATES ",
          "world/NEAR EAST                          ",
          "world/WESTERN EUROPE                     ",
          "world/NORTHERN AMERICA                   ",
          "world/LATIN AMER. & CARIB    ",
          "world/C.W. OF IND. STATES ",
          "world/OCEANIA                            ",
          "world/ASIA (EX. NEAR EAST)         ",
          "world/OCEANIA                            ",
          "world/NEAR EAST                          ",
          "world/SUB-SAHARAN AFRICA                 ",
          "world/SUB-SAHARAN AFRICA                 ",
          "world",
          "world",
          "world",
          "world",
          "world",
          "world",
          "world",
          "world",
          "world",
          "world",
          "world",
          ""
         ],
         "type": "treemap",
         "values": [
          517709027,
          18256588,
          509012966,
          18405597,
          1344484,
          955527730,
          930489109,
          8077389,
          1468545,
          32376583253,
          448885292,
          49181112,
          456456390,
          6544822813,
          7331054,
          5876146,
          4863088827,
          11517276,
          1232064765,
          1337807,
          3481802,
          8409535,
          3659097160,
          341745896,
          31989304,
          5644552,
          1246668505,
          256178035,
          3524769995,
          8377600,
          692312,
          1635169,
          714452596,
          125956950346,
          419879543,
          18806964,
          1374640,
          256103848,
          354852335,
          74703673,
          25015402,
          71645844,
          1431752672,
          628920879,
          620434066,
          4571215,
          201354309,
          145092914,
          2065749401,
          70360753,
          92017555,
          35663695,
          178904409,
          665123857,
          101990,
          305594130,
          531613321,
          5830048739,
          2283492,
          139885531,
          158810853,
          108506500,
          26673129679,
          1105659917,
          1128115,
          421991049,
          20400,
          38027840,
          6720691,
          17169193,
          146078036,
          222820847,
          21669688,
          29136693,
          95760701,
          72383864,
          47713472878,
          1902231641,
          4148072,
          34530787832,
          33630868482,
          550630341,
          679777284,
          4574660873,
          69740014,
          75596858824,
          410577098,
          297433933,
          1041542061,
          4575182,
          808786093,
          9580505,
          352224788,
          314118985,
          4602525,
          170831871,
          89360479,
          3089710,
          85570948,
          89148280,
          431248813,
          139375489,
          587653873,
          17307488,
          178786207,
          2221571,
          9676816,
          266524237,
          361292454,
          12584108,
          9611154056,
          1161810,
          73471290,
          2187652,
          312837612,
          829905767,
          20943354,
          1287089,
          122005218,
          26899999370,
          97459565,
          4511353371,
          21573002,
          28445705,
          1643502890,
          424844738,
          1188270437,
          5044253031,
          313284,
          509592905,
          1445146193,
          32140598,
          505223650,
          16520765195,
          1699312187,
          392166237,
          80244002,
          762420811,
          52121655,
          617471040,
          10973962,
          2151281,
          6087631,
          4235382473,
          364503059,
          37050879,
          110524355,
          70846135,
          135628300345,
          373535381,
          2054476253,
          238485872,
          386866639,
          3333251142,
          2687945407,
          2484265001,
          370695955,
          35488322,
          9475451,
          1552532393,
          5221423982,
          37776782,
          50508049464,
          678477819,
          8611695,
          200842447,
          10442973032,
          59056825,
          1238812,
          84045449,
          457927602,
          12019074605,
          9654611515,
          88680165528,
          166332833,
          335979418,
          99564708,
          27596793779,
          235498,
          798231409,
          20093835,
          22004418,
          564307177705,
          616700145,
          1369396212,
          8550536210,
          17889410115,
          32058567518,
          3177802905,
          92206293730,
          39269505184,
          16277673103,
          91764548253,
          867487611080
         ]
        }
       ],
       "layout": {
        "coloraxis": {
         "colorbar": {
          "title": {
           "text": "sum_import_export"
          }
         },
         "colorscale": [
          [
           0,
           "rgb(103,0,31)"
          ],
          [
           0.1,
           "rgb(178,24,43)"
          ],
          [
           0.2,
           "rgb(214,96,77)"
          ],
          [
           0.3,
           "rgb(244,165,130)"
          ],
          [
           0.4,
           "rgb(253,219,199)"
          ],
          [
           0.5,
           "rgb(247,247,247)"
          ],
          [
           0.6,
           "rgb(209,229,240)"
          ],
          [
           0.7,
           "rgb(146,197,222)"
          ],
          [
           0.8,
           "rgb(67,147,195)"
          ],
          [
           0.9,
           "rgb(33,102,172)"
          ],
          [
           1,
           "rgb(5,48,97)"
          ]
         ]
        },
        "legend": {
         "tracegroupgap": 0
        },
        "margin": {
         "t": 60
        },
        "template": {
         "data": {
          "bar": [
           {
            "error_x": {
             "color": "#2a3f5f"
            },
            "error_y": {
             "color": "#2a3f5f"
            },
            "marker": {
             "line": {
              "color": "#E5ECF6",
              "width": 0.5
             }
            },
            "type": "bar"
           }
          ],
          "barpolar": [
           {
            "marker": {
             "line": {
              "color": "#E5ECF6",
              "width": 0.5
             }
            },
            "type": "barpolar"
           }
          ],
          "carpet": [
           {
            "aaxis": {
             "endlinecolor": "#2a3f5f",
             "gridcolor": "white",
             "linecolor": "white",
             "minorgridcolor": "white",
             "startlinecolor": "#2a3f5f"
            },
            "baxis": {
             "endlinecolor": "#2a3f5f",
             "gridcolor": "white",
             "linecolor": "white",
             "minorgridcolor": "white",
             "startlinecolor": "#2a3f5f"
            },
            "type": "carpet"
           }
          ],
          "choropleth": [
           {
            "colorbar": {
             "outlinewidth": 0,
             "ticks": ""
            },
            "type": "choropleth"
           }
          ],
          "contour": [
           {
            "colorbar": {
             "outlinewidth": 0,
             "ticks": ""
            },
            "colorscale": [
             [
              0,
              "#0d0887"
             ],
             [
              0.1111111111111111,
              "#46039f"
             ],
             [
              0.2222222222222222,
              "#7201a8"
             ],
             [
              0.3333333333333333,
              "#9c179e"
             ],
             [
              0.4444444444444444,
              "#bd3786"
             ],
             [
              0.5555555555555556,
              "#d8576b"
             ],
             [
              0.6666666666666666,
              "#ed7953"
             ],
             [
              0.7777777777777778,
              "#fb9f3a"
             ],
             [
              0.8888888888888888,
              "#fdca26"
             ],
             [
              1,
              "#f0f921"
             ]
            ],
            "type": "contour"
           }
          ],
          "contourcarpet": [
           {
            "colorbar": {
             "outlinewidth": 0,
             "ticks": ""
            },
            "type": "contourcarpet"
           }
          ],
          "heatmap": [
           {
            "colorbar": {
             "outlinewidth": 0,
             "ticks": ""
            },
            "colorscale": [
             [
              0,
              "#0d0887"
             ],
             [
              0.1111111111111111,
              "#46039f"
             ],
             [
              0.2222222222222222,
              "#7201a8"
             ],
             [
              0.3333333333333333,
              "#9c179e"
             ],
             [
              0.4444444444444444,
              "#bd3786"
             ],
             [
              0.5555555555555556,
              "#d8576b"
             ],
             [
              0.6666666666666666,
              "#ed7953"
             ],
             [
              0.7777777777777778,
              "#fb9f3a"
             ],
             [
              0.8888888888888888,
              "#fdca26"
             ],
             [
              1,
              "#f0f921"
             ]
            ],
            "type": "heatmap"
           }
          ],
          "heatmapgl": [
           {
            "colorbar": {
             "outlinewidth": 0,
             "ticks": ""
            },
            "colorscale": [
             [
              0,
              "#0d0887"
             ],
             [
              0.1111111111111111,
              "#46039f"
             ],
             [
              0.2222222222222222,
              "#7201a8"
             ],
             [
              0.3333333333333333,
              "#9c179e"
             ],
             [
              0.4444444444444444,
              "#bd3786"
             ],
             [
              0.5555555555555556,
              "#d8576b"
             ],
             [
              0.6666666666666666,
              "#ed7953"
             ],
             [
              0.7777777777777778,
              "#fb9f3a"
             ],
             [
              0.8888888888888888,
              "#fdca26"
             ],
             [
              1,
              "#f0f921"
             ]
            ],
            "type": "heatmapgl"
           }
          ],
          "histogram": [
           {
            "marker": {
             "colorbar": {
              "outlinewidth": 0,
              "ticks": ""
             }
            },
            "type": "histogram"
           }
          ],
          "histogram2d": [
           {
            "colorbar": {
             "outlinewidth": 0,
             "ticks": ""
            },
            "colorscale": [
             [
              0,
              "#0d0887"
             ],
             [
              0.1111111111111111,
              "#46039f"
             ],
             [
              0.2222222222222222,
              "#7201a8"
             ],
             [
              0.3333333333333333,
              "#9c179e"
             ],
             [
              0.4444444444444444,
              "#bd3786"
             ],
             [
              0.5555555555555556,
              "#d8576b"
             ],
             [
              0.6666666666666666,
              "#ed7953"
             ],
             [
              0.7777777777777778,
              "#fb9f3a"
             ],
             [
              0.8888888888888888,
              "#fdca26"
             ],
             [
              1,
              "#f0f921"
             ]
            ],
            "type": "histogram2d"
           }
          ],
          "histogram2dcontour": [
           {
            "colorbar": {
             "outlinewidth": 0,
             "ticks": ""
            },
            "colorscale": [
             [
              0,
              "#0d0887"
             ],
             [
              0.1111111111111111,
              "#46039f"
             ],
             [
              0.2222222222222222,
              "#7201a8"
             ],
             [
              0.3333333333333333,
              "#9c179e"
             ],
             [
              0.4444444444444444,
              "#bd3786"
             ],
             [
              0.5555555555555556,
              "#d8576b"
             ],
             [
              0.6666666666666666,
              "#ed7953"
             ],
             [
              0.7777777777777778,
              "#fb9f3a"
             ],
             [
              0.8888888888888888,
              "#fdca26"
             ],
             [
              1,
              "#f0f921"
             ]
            ],
            "type": "histogram2dcontour"
           }
          ],
          "mesh3d": [
           {
            "colorbar": {
             "outlinewidth": 0,
             "ticks": ""
            },
            "type": "mesh3d"
           }
          ],
          "parcoords": [
           {
            "line": {
             "colorbar": {
              "outlinewidth": 0,
              "ticks": ""
             }
            },
            "type": "parcoords"
           }
          ],
          "pie": [
           {
            "automargin": true,
            "type": "pie"
           }
          ],
          "scatter": [
           {
            "marker": {
             "colorbar": {
              "outlinewidth": 0,
              "ticks": ""
             }
            },
            "type": "scatter"
           }
          ],
          "scatter3d": [
           {
            "line": {
             "colorbar": {
              "outlinewidth": 0,
              "ticks": ""
             }
            },
            "marker": {
             "colorbar": {
              "outlinewidth": 0,
              "ticks": ""
             }
            },
            "type": "scatter3d"
           }
          ],
          "scattercarpet": [
           {
            "marker": {
             "colorbar": {
              "outlinewidth": 0,
              "ticks": ""
             }
            },
            "type": "scattercarpet"
           }
          ],
          "scattergeo": [
           {
            "marker": {
             "colorbar": {
              "outlinewidth": 0,
              "ticks": ""
             }
            },
            "type": "scattergeo"
           }
          ],
          "scattergl": [
           {
            "marker": {
             "colorbar": {
              "outlinewidth": 0,
              "ticks": ""
             }
            },
            "type": "scattergl"
           }
          ],
          "scattermapbox": [
           {
            "marker": {
             "colorbar": {
              "outlinewidth": 0,
              "ticks": ""
             }
            },
            "type": "scattermapbox"
           }
          ],
          "scatterpolar": [
           {
            "marker": {
             "colorbar": {
              "outlinewidth": 0,
              "ticks": ""
             }
            },
            "type": "scatterpolar"
           }
          ],
          "scatterpolargl": [
           {
            "marker": {
             "colorbar": {
              "outlinewidth": 0,
              "ticks": ""
             }
            },
            "type": "scatterpolargl"
           }
          ],
          "scatterternary": [
           {
            "marker": {
             "colorbar": {
              "outlinewidth": 0,
              "ticks": ""
             }
            },
            "type": "scatterternary"
           }
          ],
          "surface": [
           {
            "colorbar": {
             "outlinewidth": 0,
             "ticks": ""
            },
            "colorscale": [
             [
              0,
              "#0d0887"
             ],
             [
              0.1111111111111111,
              "#46039f"
             ],
             [
              0.2222222222222222,
              "#7201a8"
             ],
             [
              0.3333333333333333,
              "#9c179e"
             ],
             [
              0.4444444444444444,
              "#bd3786"
             ],
             [
              0.5555555555555556,
              "#d8576b"
             ],
             [
              0.6666666666666666,
              "#ed7953"
             ],
             [
              0.7777777777777778,
              "#fb9f3a"
             ],
             [
              0.8888888888888888,
              "#fdca26"
             ],
             [
              1,
              "#f0f921"
             ]
            ],
            "type": "surface"
           }
          ],
          "table": [
           {
            "cells": {
             "fill": {
              "color": "#EBF0F8"
             },
             "line": {
              "color": "white"
             }
            },
            "header": {
             "fill": {
              "color": "#C8D4E3"
             },
             "line": {
              "color": "white"
             }
            },
            "type": "table"
           }
          ]
         },
         "layout": {
          "annotationdefaults": {
           "arrowcolor": "#2a3f5f",
           "arrowhead": 0,
           "arrowwidth": 1
          },
          "coloraxis": {
           "colorbar": {
            "outlinewidth": 0,
            "ticks": ""
           }
          },
          "colorscale": {
           "diverging": [
            [
             0,
             "#8e0152"
            ],
            [
             0.1,
             "#c51b7d"
            ],
            [
             0.2,
             "#de77ae"
            ],
            [
             0.3,
             "#f1b6da"
            ],
            [
             0.4,
             "#fde0ef"
            ],
            [
             0.5,
             "#f7f7f7"
            ],
            [
             0.6,
             "#e6f5d0"
            ],
            [
             0.7,
             "#b8e186"
            ],
            [
             0.8,
             "#7fbc41"
            ],
            [
             0.9,
             "#4d9221"
            ],
            [
             1,
             "#276419"
            ]
           ],
           "sequential": [
            [
             0,
             "#0d0887"
            ],
            [
             0.1111111111111111,
             "#46039f"
            ],
            [
             0.2222222222222222,
             "#7201a8"
            ],
            [
             0.3333333333333333,
             "#9c179e"
            ],
            [
             0.4444444444444444,
             "#bd3786"
            ],
            [
             0.5555555555555556,
             "#d8576b"
            ],
            [
             0.6666666666666666,
             "#ed7953"
            ],
            [
             0.7777777777777778,
             "#fb9f3a"
            ],
            [
             0.8888888888888888,
             "#fdca26"
            ],
            [
             1,
             "#f0f921"
            ]
           ],
           "sequentialminus": [
            [
             0,
             "#0d0887"
            ],
            [
             0.1111111111111111,
             "#46039f"
            ],
            [
             0.2222222222222222,
             "#7201a8"
            ],
            [
             0.3333333333333333,
             "#9c179e"
            ],
            [
             0.4444444444444444,
             "#bd3786"
            ],
            [
             0.5555555555555556,
             "#d8576b"
            ],
            [
             0.6666666666666666,
             "#ed7953"
            ],
            [
             0.7777777777777778,
             "#fb9f3a"
            ],
            [
             0.8888888888888888,
             "#fdca26"
            ],
            [
             1,
             "#f0f921"
            ]
           ]
          },
          "colorway": [
           "#636efa",
           "#EF553B",
           "#00cc96",
           "#ab63fa",
           "#FFA15A",
           "#19d3f3",
           "#FF6692",
           "#B6E880",
           "#FF97FF",
           "#FECB52"
          ],
          "font": {
           "color": "#2a3f5f"
          },
          "geo": {
           "bgcolor": "white",
           "lakecolor": "white",
           "landcolor": "#E5ECF6",
           "showlakes": true,
           "showland": true,
           "subunitcolor": "white"
          },
          "hoverlabel": {
           "align": "left"
          },
          "hovermode": "closest",
          "mapbox": {
           "style": "light"
          },
          "paper_bgcolor": "white",
          "plot_bgcolor": "#E5ECF6",
          "polar": {
           "angularaxis": {
            "gridcolor": "white",
            "linecolor": "white",
            "ticks": ""
           },
           "bgcolor": "#E5ECF6",
           "radialaxis": {
            "gridcolor": "white",
            "linecolor": "white",
            "ticks": ""
           }
          },
          "scene": {
           "xaxis": {
            "backgroundcolor": "#E5ECF6",
            "gridcolor": "white",
            "gridwidth": 2,
            "linecolor": "white",
            "showbackground": true,
            "ticks": "",
            "zerolinecolor": "white"
           },
           "yaxis": {
            "backgroundcolor": "#E5ECF6",
            "gridcolor": "white",
            "gridwidth": 2,
            "linecolor": "white",
            "showbackground": true,
            "ticks": "",
            "zerolinecolor": "white"
           },
           "zaxis": {
            "backgroundcolor": "#E5ECF6",
            "gridcolor": "white",
            "gridwidth": 2,
            "linecolor": "white",
            "showbackground": true,
            "ticks": "",
            "zerolinecolor": "white"
           }
          },
          "shapedefaults": {
           "line": {
            "color": "#2a3f5f"
           }
          },
          "ternary": {
           "aaxis": {
            "gridcolor": "white",
            "linecolor": "white",
            "ticks": ""
           },
           "baxis": {
            "gridcolor": "white",
            "linecolor": "white",
            "ticks": ""
           },
           "bgcolor": "#E5ECF6",
           "caxis": {
            "gridcolor": "white",
            "linecolor": "white",
            "ticks": ""
           }
          },
          "title": {
           "x": 0.05
          },
          "xaxis": {
           "automargin": true,
           "gridcolor": "white",
           "linecolor": "white",
           "ticks": "",
           "title": {
            "standoff": 15
           },
           "zerolinecolor": "white",
           "zerolinewidth": 2
          },
          "yaxis": {
           "automargin": true,
           "gridcolor": "white",
           "linecolor": "white",
           "ticks": "",
           "title": {
            "standoff": 15
           },
           "zerolinecolor": "white",
           "zerolinewidth": 2
          }
         }
        }
       }
      },
      "text/html": [
       "<div>                            <div id=\"54678b34-fb1d-425a-835f-17bc483de3c6\" class=\"plotly-graph-div\" style=\"height:525px; width:100%;\"></div>            <script type=\"text/javascript\">                require([\"plotly\"], function(Plotly) {                    window.PLOTLYENV=window.PLOTLYENV || {};                                    if (document.getElementById(\"54678b34-fb1d-425a-835f-17bc483de3c6\")) {                    Plotly.newPlot(                        \"54678b34-fb1d-425a-835f-17bc483de3c6\",                        [{\"branchvalues\": \"total\", \"customdata\": [[\"AFGHANISTAN\", 517709027.0], [\"ALBANIA\", 18256588.0], [\"ALGERIA\", 509012966.0], [\"AMERICAN SAMOA\", 18405597.0], [\"ANDORRA\", 1344484.0], [\"ANGOLA\", 955527730.0000001], [\"ARGENTINA\", 930489108.9999999], [\"ARMENIA\", 8077389.0], [\"ARUBA\", 1468545.0], [\"AUSTRALIA\", 32376583253.0], [\"AUSTRIA\", 448885291.99999994], [\"AZERBAIJAN\", 49181112.0], [\"BAHRAIN\", 456456390.0], [\"BANGLADESH\", 6544822813.0], [\"BARBADOS\", 7331054.0], [\"BELARUS\", 5876146.0], [\"BELGIUM\", 4863088827.0], [\"BELIZE\", 11517276.0], [\"BENIN\", 1232064765.0], [\"BERMUDA\", 1337807.0], [\"BHUTAN\", 3481802.0], [\"BOTSWANA\", 8409535.0], [\"BRAZIL\", 3659097160.0000005], [\"BULGARIA\", 341745896.0], [\"BURKINA FASO\", 31989304.0], [\"BURUNDI\", 5644552.0], [\"CAMBODIA\", 1246668505.0], [\"CAMEROON\", 256178035.0], [\"CANADA\", 3524769995.0], [\"CAPE VERDE\", 8377600.0], [\"CAYMAN ISLANDS\", 692312.0], [\"CHAD\", 1635169.0], [\"CHILE\", 714452596.0], [\"CHINA\", 125956950346.0], [\"COLOMBIA\", 419879543.00000006], [\"COMOROS\", 18806964.0], [\"COOK ISLANDS\", 1374640.0], [\"COSTA RICA\", 256103848.0], [\"COTE D'IVOIRE\", 354852335.0], [\"CROATIA\", 74703673.0], [\"CUBA\", 25015402.0], [\"CYPRUS\", 71645844.0], [\"CZECH REPUBLIC\", 1431752672.0], [\"DENMARK\", 628920879.0], [\"DJIBOUTI\", 620434066.0], [\"DOMINICA\", 4571215.0], [\"DOMINICAN REPUBLIC\", 201354309.0], [\"ECUADOR\", 145092914.0], [\"EGYPT\", 2065749401.0], [\"EL SALVADOR\", 70360753.0], [\"EQUATORIAL GUINEA\", 92017555.0], [\"ERITREA\", 35663695.0], [\"ESTONIA\", 178904409.0], [\"ETHIOPIA\", 665123857.0], [\"FAROE ISLANDS\", 101990.0], [\"FIJI\", 305594130.0], [\"FINLAND\", 531613321.0], [\"FRANCE\", 5830048739.0], [\"FRENCH GUIANA\", 2283492.0], [\"FRENCH POLYNESIA\", 139885531.0], [\"GABON\", 158810853.0], [\"GEORGIA\", 108506500.0], [\"GERMANY\", 26673129679.0], [\"GHANA\", 1105659917.0], [\"GIBRALTAR\", 1128115.0], [\"GREECE\", 421991049.00000006], [\"GREENLAND\", 20400.0], [\"GRENADA\", 38027840.0], [\"GUADELOUPE\", 6720691.0], [\"GUAM\", 17169193.0], [\"GUATEMALA\", 146078036.0], [\"GUINEA\", 222820847.0], [\"GUINEA-BISSAU\", 21669688.0], [\"GUYANA\", 29136693.0], [\"HAITI\", 95760700.99999999], [\"HONDURAS\", 72383864.0], [\"HONG KONG\", 47713472878.0], [\"HUNGARY\", 1902231640.9999998], [\"ICELAND\", 4148072.0], [\"INDIA\", 34530787832.0], [\"INDONESIA\", 33630868482.0], [\"IRAQ\", 550630341.0], [\"IRELAND\", 679777284.0], [\"ITALY\", 4574660873.0], [\"JAMAICA\", 69740014.0], [\"JAPAN\", 75596858824.0], [\"JORDAN\", 410577098.0], [\"KAZAKHSTAN\", 297433933.0], [\"KENYA\", 1041542061.0], [\"KIRIBATI\", 4575182.0], [\"KUWAIT\", 808786093.0], [\"KYRGYZSTAN\", 9580505.0], [\"LATVIA\", 352224788.0], [\"LEBANON\", 314118985.0], [\"LESOTHO\", 4602525.0], [\"LIBERIA\", 170831871.0], [\"LIBYA\", 89360479.0], [\"LIECHTENSTEIN\", 3089710.0], [\"LITHUANIA\", 85570948.0], [\"LUXEMBOURG\", 89148280.0], [\"MADAGASCAR\", 431248813.0], [\"MALAWI\", 139375489.0], [\"MALDIVES\", 587653873.0], [\"MALI\", 17307488.0], [\"MALTA\", 178786207.0], [\"MARSHALL ISLANDS\", 2221571.0], [\"MARTINIQUE\", 9676816.0], [\"MAURITANIA\", 266524237.0], [\"MAURITIUS\", 361292454.0], [\"MAYOTTE\", 12584108.0], [\"MEXICO\", 9611154056.0], [\"MONACO\", 1161810.0], [\"MONGOLIA\", 73471290.0], [\"MONTSERRAT\", 2187652.0], [\"MOROCCO\", 312837612.0], [\"MOZAMBIQUE\", 829905767.0], [\"NAMIBIA\", 20943354.0], [\"NAURU\", 1287089.0], [\"NEPAL\", 122005218.0], [\"NETHERLANDS\", 26899999370.0], [\"NEW CALEDONIA\", 97459564.99999999], [\"NEW ZEALAND\", 4511353371.0], [\"NICARAGUA\", 21573002.0], [\"NIGER\", 28445705.0], [\"NIGERIA\", 1643502889.9999998], [\"NORWAY\", 424844738.0], [\"OMAN\", 1188270437.0], [\"PAKISTAN\", 5044253031.0], [\"PALAU\", 313284.0], [\"PANAMA\", 509592905.0], [\"PAPUA NEW GUINEA\", 1445146193.0], [\"PARAGUAY\", 32140598.0], [\"PERU\", 505223650.0], [\"PHILIPPINES\", 16520765195.0], [\"POLAND\", 1699312187.0], [\"PORTUGAL\", 392166237.0], [\"PUERTO RICO\", 80244002.0], [\"QATAR\", 762420811.0], [\"REUNION\", 52121655.0], [\"ROMANIA\", 617471040.0], [\"RWANDA\", 10973962.0], [\"SAINT LUCIA\", 2151281.0], [\"SAINT VINCENT AND THE GRENADINES\", 6087631.0], [\"SAUDI ARABIA\", 4235382473.0], [\"SENEGAL\", 364503059.0], [\"SERBIA\", 37050879.0], [\"SEYCHELLES\", 110524354.99999999], [\"SIERRA LEONE\", 70846135.0], [\"SINGAPORE\", 135628300345.0], [\"SLOVAKIA\", 373535381.0], [\"SLOVENIA\", 2054476253.0], [\"SOLOMON ISLANDS\", 238485872.0], [\"SOMALIA\", 386866639.0], [\"SOUTH AFRICA\", 3333251141.9999995], [\"SPAIN\", 2687945407.0], [\"SRI LANKA\", 2484265001.0], [\"SUDAN\", 370695955.0], [\"SURINAME\", 35488322.0], [\"SWAZILAND\", 9475451.0], [\"SWEDEN\", 1552532393.0], [\"SWITZERLAND\", 5221423982.0], [\"TAJIKISTAN\", 37776782.0], [\"THAILAND\", 50508049463.99999], [\"TOGO\", 678477819.0], [\"TONGA\", 8611695.0], [\"TUNISIA\", 200842447.0], [\"TURKEY\", 10442973032.0], [\"TURKMENISTAN\", 59056825.0], [\"TUVALU\", 1238812.0], [\"UGANDA\", 84045449.0], [\"UKRAINE\", 457927602.0], [\"UNITED ARAB EMIRATES\", 12019074605.0], [\"UNITED KINGDOM\", 9654611515.0], [\"UNITED STATES\", 88680165528.0], [\"URUGUAY\", 166332833.0], [\"UZBEKISTAN\", 335979418.0], [\"VANUATU\", 99564708.0], [\"VIET NAM\", 27596793779.000004], [\"WALLIS AND FUTUNA\", 235498.0], [\"YEMEN\", 798231409.0], [\"ZAMBIA\", 20093835.0], [\"ZIMBABWE\", 22004418.0], [\"(?)\", 85480537297.00746], [\"(?)\", 264944766.6059863], [\"(?)\", 314259375.2340728], [\"(?)\", 1569704088.272429], [\"(?)\", 6039533608.645303], [\"(?)\", 8594295697.151018], [\"(?)\", 1470388593.0565274], [\"(?)\", 85423623971.32732], [\"(?)\", 27269859307.66661], [\"(?)\", 1332530375.0483296], [\"(?)\", 17933251165.343815], [\"(?)\", 68305678929.46553]], \"domain\": {\"x\": [0.0, 1.0], \"y\": [0.0, 1.0]}, \"hovertemplate\": \"labels=%{label}<br>sum_import_export_sum=%{value}<br>parent=%{parent}<br>id=%{id}<br>COUNTRY=%{customdata[0]}<br>sum_import_export=%{color}<extra></extra>\", \"ids\": [\"world/ASIA (EX. NEAR EAST)         /AFGHANISTAN\", \"world/EASTERN EUROPE                     /ALBANIA\", \"world/NORTHERN AFRICA                    /ALGERIA\", \"world/OCEANIA                            /AMERICAN SAMOA\", \"world/WESTERN EUROPE                     /ANDORRA\", \"world/SUB-SAHARAN AFRICA                 /ANGOLA\", \"world/LATIN AMER. & CARIB    /ARGENTINA\", \"world/C.W. OF IND. STATES /ARMENIA\", \"world/LATIN AMER. & CARIB    /ARUBA\", \"world/OCEANIA                            /AUSTRALIA\", \"world/WESTERN EUROPE                     /AUSTRIA\", \"world/C.W. OF IND. STATES /AZERBAIJAN\", \"world/NEAR EAST                          /BAHRAIN\", \"world/ASIA (EX. NEAR EAST)         /BANGLADESH\", \"world/LATIN AMER. & CARIB    /BARBADOS\", \"world/C.W. OF IND. STATES /BELARUS\", \"world/WESTERN EUROPE                     /BELGIUM\", \"world/LATIN AMER. & CARIB    /BELIZE\", \"world/SUB-SAHARAN AFRICA                 /BENIN\", \"world/NORTHERN AMERICA                   /BERMUDA\", \"world/ASIA (EX. NEAR EAST)         /BHUTAN\", \"world/SUB-SAHARAN AFRICA                 /BOTSWANA\", \"world/LATIN AMER. & CARIB    /BRAZIL\", \"world/EASTERN EUROPE                     /BULGARIA\", \"world/SUB-SAHARAN AFRICA                 /BURKINA FASO\", \"world/SUB-SAHARAN AFRICA                 /BURUNDI\", \"world/ASIA (EX. NEAR EAST)         /CAMBODIA\", \"world/SUB-SAHARAN AFRICA                 /CAMEROON\", \"world/NORTHERN AMERICA                   /CANADA\", \"world/SUB-SAHARAN AFRICA                 /CAPE VERDE\", \"world/LATIN AMER. & CARIB    /CAYMAN ISLANDS\", \"world/SUB-SAHARAN AFRICA                 /CHAD\", \"world/LATIN AMER. & CARIB    /CHILE\", \"world/ASIA (EX. NEAR EAST)         /CHINA\", \"world/LATIN AMER. & CARIB    /COLOMBIA\", \"world/SUB-SAHARAN AFRICA                 /COMOROS\", \"world/OCEANIA                            /COOK ISLANDS\", \"world/LATIN AMER. & CARIB    /COSTA RICA\", \"world/SUB-SAHARAN AFRICA                 /COTE D'IVOIRE\", \"world/EASTERN EUROPE                     /CROATIA\", \"world/LATIN AMER. & CARIB    /CUBA\", \"world/NEAR EAST                          /CYPRUS\", \"world/EASTERN EUROPE                     /CZECH REPUBLIC\", \"world/WESTERN EUROPE                     /DENMARK\", \"world/SUB-SAHARAN AFRICA                 /DJIBOUTI\", \"world/LATIN AMER. & CARIB    /DOMINICA\", \"world/LATIN AMER. & CARIB    /DOMINICAN REPUBLIC\", \"world/LATIN AMER. & CARIB    /ECUADOR\", \"world/NORTHERN AFRICA                    /EGYPT\", \"world/LATIN AMER. & CARIB    /EL SALVADOR\", \"world/SUB-SAHARAN AFRICA                 /EQUATORIAL GUINEA\", \"world/SUB-SAHARAN AFRICA                 /ERITREA\", \"world/BALTICS                            /ESTONIA\", \"world/SUB-SAHARAN AFRICA                 /ETHIOPIA\", \"world/WESTERN EUROPE                     /FAROE ISLANDS\", \"world/OCEANIA                            /FIJI\", \"world/WESTERN EUROPE                     /FINLAND\", \"world/WESTERN EUROPE                     /FRANCE\", \"world/LATIN AMER. & CARIB    /FRENCH GUIANA\", \"world/OCEANIA                            /FRENCH POLYNESIA\", \"world/SUB-SAHARAN AFRICA                 /GABON\", \"world/C.W. OF IND. STATES /GEORGIA\", \"world/WESTERN EUROPE                     /GERMANY\", \"world/SUB-SAHARAN AFRICA                 /GHANA\", \"world/WESTERN EUROPE                     /GIBRALTAR\", \"world/WESTERN EUROPE                     /GREECE\", \"world/NORTHERN AMERICA                   /GREENLAND\", \"world/LATIN AMER. & CARIB    /GRENADA\", \"world/LATIN AMER. & CARIB    /GUADELOUPE\", \"world/OCEANIA                            /GUAM\", \"world/LATIN AMER. & CARIB    /GUATEMALA\", \"world/SUB-SAHARAN AFRICA                 /GUINEA\", \"world/SUB-SAHARAN AFRICA                 /GUINEA-BISSAU\", \"world/LATIN AMER. & CARIB    /GUYANA\", \"world/LATIN AMER. & CARIB    /HAITI\", \"world/LATIN AMER. & CARIB    /HONDURAS\", \"world/ASIA (EX. NEAR EAST)         /HONG KONG\", \"world/EASTERN EUROPE                     /HUNGARY\", \"world/WESTERN EUROPE                     /ICELAND\", \"world/ASIA (EX. NEAR EAST)         /INDIA\", \"world/ASIA (EX. NEAR EAST)         /INDONESIA\", \"world/NEAR EAST                          /IRAQ\", \"world/WESTERN EUROPE                     /IRELAND\", \"world/WESTERN EUROPE                     /ITALY\", \"world/LATIN AMER. & CARIB    /JAMAICA\", \"world/ASIA (EX. NEAR EAST)         /JAPAN\", \"world/NEAR EAST                          /JORDAN\", \"world/C.W. OF IND. STATES /KAZAKHSTAN\", \"world/SUB-SAHARAN AFRICA                 /KENYA\", \"world/OCEANIA                            /KIRIBATI\", \"world/NEAR EAST                          /KUWAIT\", \"world/C.W. OF IND. STATES /KYRGYZSTAN\", \"world/BALTICS                            /LATVIA\", \"world/NEAR EAST                          /LEBANON\", \"world/SUB-SAHARAN AFRICA                 /LESOTHO\", \"world/SUB-SAHARAN AFRICA                 /LIBERIA\", \"world/NORTHERN AFRICA                    /LIBYA\", \"world/WESTERN EUROPE                     /LIECHTENSTEIN\", \"world/BALTICS                            /LITHUANIA\", \"world/WESTERN EUROPE                     /LUXEMBOURG\", \"world/SUB-SAHARAN AFRICA                 /MADAGASCAR\", \"world/SUB-SAHARAN AFRICA                 /MALAWI\", \"world/ASIA (EX. NEAR EAST)         /MALDIVES\", \"world/SUB-SAHARAN AFRICA                 /MALI\", \"world/WESTERN EUROPE                     /MALTA\", \"world/OCEANIA                            /MARSHALL ISLANDS\", \"world/LATIN AMER. & CARIB    /MARTINIQUE\", \"world/SUB-SAHARAN AFRICA                 /MAURITANIA\", \"world/SUB-SAHARAN AFRICA                 /MAURITIUS\", \"world/SUB-SAHARAN AFRICA                 /MAYOTTE\", \"world/LATIN AMER. & CARIB    /MEXICO\", \"world/WESTERN EUROPE                     /MONACO\", \"world/ASIA (EX. NEAR EAST)         /MONGOLIA\", \"world/LATIN AMER. & CARIB    /MONTSERRAT\", \"world/NORTHERN AFRICA                    /MOROCCO\", \"world/SUB-SAHARAN AFRICA                 /MOZAMBIQUE\", \"world/SUB-SAHARAN AFRICA                 /NAMIBIA\", \"world/OCEANIA                            /NAURU\", \"world/ASIA (EX. NEAR EAST)         /NEPAL\", \"world/WESTERN EUROPE                     /NETHERLANDS\", \"world/OCEANIA                            /NEW CALEDONIA\", \"world/OCEANIA                            /NEW ZEALAND\", \"world/LATIN AMER. & CARIB    /NICARAGUA\", \"world/SUB-SAHARAN AFRICA                 /NIGER\", \"world/SUB-SAHARAN AFRICA                 /NIGERIA\", \"world/WESTERN EUROPE                     /NORWAY\", \"world/NEAR EAST                          /OMAN\", \"world/ASIA (EX. NEAR EAST)         /PAKISTAN\", \"world/OCEANIA                            /PALAU\", \"world/LATIN AMER. & CARIB    /PANAMA\", \"world/OCEANIA                            /PAPUA NEW GUINEA\", \"world/LATIN AMER. & CARIB    /PARAGUAY\", \"world/LATIN AMER. & CARIB    /PERU\", \"world/ASIA (EX. NEAR EAST)         /PHILIPPINES\", \"world/EASTERN EUROPE                     /POLAND\", \"world/WESTERN EUROPE                     /PORTUGAL\", \"world/LATIN AMER. & CARIB    /PUERTO RICO\", \"world/NEAR EAST                          /QATAR\", \"world/SUB-SAHARAN AFRICA                 /REUNION\", \"world/EASTERN EUROPE                     /ROMANIA\", \"world/SUB-SAHARAN AFRICA                 /RWANDA\", \"world/LATIN AMER. & CARIB    /SAINT LUCIA\", \"world/LATIN AMER. & CARIB    /SAINT VINCENT AND THE GRENADINES\", \"world/NEAR EAST                          /SAUDI ARABIA\", \"world/SUB-SAHARAN AFRICA                 /SENEGAL\", \"world/EASTERN EUROPE                     /SERBIA\", \"world/SUB-SAHARAN AFRICA                 /SEYCHELLES\", \"world/SUB-SAHARAN AFRICA                 /SIERRA LEONE\", \"world/ASIA (EX. NEAR EAST)         /SINGAPORE\", \"world/EASTERN EUROPE                     /SLOVAKIA\", \"world/EASTERN EUROPE                     /SLOVENIA\", \"world/OCEANIA                            /SOLOMON ISLANDS\", \"world/SUB-SAHARAN AFRICA                 /SOMALIA\", \"world/SUB-SAHARAN AFRICA                 /SOUTH AFRICA\", \"world/WESTERN EUROPE                     /SPAIN\", \"world/ASIA (EX. NEAR EAST)         /SRI LANKA\", \"world/SUB-SAHARAN AFRICA                 /SUDAN\", \"world/LATIN AMER. & CARIB    /SURINAME\", \"world/SUB-SAHARAN AFRICA                 /SWAZILAND\", \"world/WESTERN EUROPE                     /SWEDEN\", \"world/WESTERN EUROPE                     /SWITZERLAND\", \"world/C.W. OF IND. STATES /TAJIKISTAN\", \"world/ASIA (EX. NEAR EAST)         /THAILAND\", \"world/SUB-SAHARAN AFRICA                 /TOGO\", \"world/OCEANIA                            /TONGA\", \"world/NORTHERN AFRICA                    /TUNISIA\", \"world/NEAR EAST                          /TURKEY\", \"world/C.W. OF IND. STATES /TURKMENISTAN\", \"world/OCEANIA                            /TUVALU\", \"world/SUB-SAHARAN AFRICA                 /UGANDA\", \"world/C.W. OF IND. STATES /UKRAINE\", \"world/NEAR EAST                          /UNITED ARAB EMIRATES\", \"world/WESTERN EUROPE                     /UNITED KINGDOM\", \"world/NORTHERN AMERICA                   /UNITED STATES\", \"world/LATIN AMER. & CARIB    /URUGUAY\", \"world/C.W. OF IND. STATES /UZBEKISTAN\", \"world/OCEANIA                            /VANUATU\", \"world/ASIA (EX. NEAR EAST)         /VIET NAM\", \"world/OCEANIA                            /WALLIS AND FUTUNA\", \"world/NEAR EAST                          /YEMEN\", \"world/SUB-SAHARAN AFRICA                 /ZAMBIA\", \"world/SUB-SAHARAN AFRICA                 /ZIMBABWE\", \"world/ASIA (EX. NEAR EAST)         \", \"world/BALTICS                            \", \"world/C.W. OF IND. STATES \", \"world/EASTERN EUROPE                     \", \"world/LATIN AMER. & CARIB    \", \"world/NEAR EAST                          \", \"world/NORTHERN AFRICA                    \", \"world/NORTHERN AMERICA                   \", \"world/OCEANIA                            \", \"world/SUB-SAHARAN AFRICA                 \", \"world/WESTERN EUROPE                     \", \"world\"], \"labels\": [\"AFGHANISTAN\", \"ALBANIA\", \"ALGERIA\", \"AMERICAN SAMOA\", \"ANDORRA\", \"ANGOLA\", \"ARGENTINA\", \"ARMENIA\", \"ARUBA\", \"AUSTRALIA\", \"AUSTRIA\", \"AZERBAIJAN\", \"BAHRAIN\", \"BANGLADESH\", \"BARBADOS\", \"BELARUS\", \"BELGIUM\", \"BELIZE\", \"BENIN\", \"BERMUDA\", \"BHUTAN\", \"BOTSWANA\", \"BRAZIL\", \"BULGARIA\", \"BURKINA FASO\", \"BURUNDI\", \"CAMBODIA\", \"CAMEROON\", \"CANADA\", \"CAPE VERDE\", \"CAYMAN ISLANDS\", \"CHAD\", \"CHILE\", \"CHINA\", \"COLOMBIA\", \"COMOROS\", \"COOK ISLANDS\", \"COSTA RICA\", \"COTE D'IVOIRE\", \"CROATIA\", \"CUBA\", \"CYPRUS\", \"CZECH REPUBLIC\", \"DENMARK\", \"DJIBOUTI\", \"DOMINICA\", \"DOMINICAN REPUBLIC\", \"ECUADOR\", \"EGYPT\", \"EL SALVADOR\", \"EQUATORIAL GUINEA\", \"ERITREA\", \"ESTONIA\", \"ETHIOPIA\", \"FAROE ISLANDS\", \"FIJI\", \"FINLAND\", \"FRANCE\", \"FRENCH GUIANA\", \"FRENCH POLYNESIA\", \"GABON\", \"GEORGIA\", \"GERMANY\", \"GHANA\", \"GIBRALTAR\", \"GREECE\", \"GREENLAND\", \"GRENADA\", \"GUADELOUPE\", \"GUAM\", \"GUATEMALA\", \"GUINEA\", \"GUINEA-BISSAU\", \"GUYANA\", \"HAITI\", \"HONDURAS\", \"HONG KONG\", \"HUNGARY\", \"ICELAND\", \"INDIA\", \"INDONESIA\", \"IRAQ\", \"IRELAND\", \"ITALY\", \"JAMAICA\", \"JAPAN\", \"JORDAN\", \"KAZAKHSTAN\", \"KENYA\", \"KIRIBATI\", \"KUWAIT\", \"KYRGYZSTAN\", \"LATVIA\", \"LEBANON\", \"LESOTHO\", \"LIBERIA\", \"LIBYA\", \"LIECHTENSTEIN\", \"LITHUANIA\", \"LUXEMBOURG\", \"MADAGASCAR\", \"MALAWI\", \"MALDIVES\", \"MALI\", \"MALTA\", \"MARSHALL ISLANDS\", \"MARTINIQUE\", \"MAURITANIA\", \"MAURITIUS\", \"MAYOTTE\", \"MEXICO\", \"MONACO\", \"MONGOLIA\", \"MONTSERRAT\", \"MOROCCO\", \"MOZAMBIQUE\", \"NAMIBIA\", \"NAURU\", \"NEPAL\", \"NETHERLANDS\", \"NEW CALEDONIA\", \"NEW ZEALAND\", \"NICARAGUA\", \"NIGER\", \"NIGERIA\", \"NORWAY\", \"OMAN\", \"PAKISTAN\", \"PALAU\", \"PANAMA\", \"PAPUA NEW GUINEA\", \"PARAGUAY\", \"PERU\", \"PHILIPPINES\", \"POLAND\", \"PORTUGAL\", \"PUERTO RICO\", \"QATAR\", \"REUNION\", \"ROMANIA\", \"RWANDA\", \"SAINT LUCIA\", \"SAINT VINCENT AND THE GRENADINES\", \"SAUDI ARABIA\", \"SENEGAL\", \"SERBIA\", \"SEYCHELLES\", \"SIERRA LEONE\", \"SINGAPORE\", \"SLOVAKIA\", \"SLOVENIA\", \"SOLOMON ISLANDS\", \"SOMALIA\", \"SOUTH AFRICA\", \"SPAIN\", \"SRI LANKA\", \"SUDAN\", \"SURINAME\", \"SWAZILAND\", \"SWEDEN\", \"SWITZERLAND\", \"TAJIKISTAN\", \"THAILAND\", \"TOGO\", \"TONGA\", \"TUNISIA\", \"TURKEY\", \"TURKMENISTAN\", \"TUVALU\", \"UGANDA\", \"UKRAINE\", \"UNITED ARAB EMIRATES\", \"UNITED KINGDOM\", \"UNITED STATES\", \"URUGUAY\", \"UZBEKISTAN\", \"VANUATU\", \"VIET NAM\", \"WALLIS AND FUTUNA\", \"YEMEN\", \"ZAMBIA\", \"ZIMBABWE\", \"ASIA (EX. NEAR EAST)         \", \"BALTICS                            \", \"C.W. OF IND. STATES \", \"EASTERN EUROPE                     \", \"LATIN AMER. & CARIB    \", \"NEAR EAST                          \", \"NORTHERN AFRICA                    \", \"NORTHERN AMERICA                   \", \"OCEANIA                            \", \"SUB-SAHARAN AFRICA                 \", \"WESTERN EUROPE                     \", \"world\"], \"marker\": {\"coloraxis\": \"coloraxis\", \"colors\": [517709027.0, 18256588.0, 509012966.0, 18405597.0, 1344484.0, 955527730.0000001, 930489108.9999999, 8077389.0, 1468545.0, 32376583253.0, 448885291.99999994, 49181112.0, 456456390.0, 6544822813.0, 7331054.0, 5876146.0, 4863088827.0, 11517276.0, 1232064765.0, 1337807.0, 3481802.0, 8409535.0, 3659097160.0000005, 341745896.0, 31989304.0, 5644552.0, 1246668505.0, 256178035.0, 3524769995.0, 8377600.0, 692312.0, 1635169.0, 714452596.0, 125956950346.0, 419879543.00000006, 18806964.0, 1374640.0, 256103848.0, 354852335.0, 74703673.0, 25015402.0, 71645844.0, 1431752672.0, 628920879.0, 620434066.0, 4571215.0, 201354309.0, 145092914.0, 2065749401.0, 70360753.0, 92017555.0, 35663695.0, 178904409.0, 665123857.0, 101990.0, 305594130.0, 531613321.0, 5830048739.0, 2283492.0, 139885531.0, 158810853.0, 108506500.0, 26673129679.0, 1105659917.0, 1128115.0, 421991049.00000006, 20400.0, 38027840.0, 6720691.0, 17169193.0, 146078036.0, 222820847.0, 21669688.0, 29136693.0, 95760700.99999999, 72383864.0, 47713472878.0, 1902231640.9999998, 4148072.0, 34530787832.0, 33630868482.0, 550630341.0, 679777284.0, 4574660873.0, 69740014.0, 75596858824.0, 410577098.0, 297433933.0, 1041542061.0, 4575182.0, 808786093.0, 9580505.0, 352224788.0, 314118985.0, 4602525.0, 170831871.0, 89360479.0, 3089710.0, 85570948.0, 89148280.0, 431248813.0, 139375489.0, 587653873.0, 17307488.0, 178786207.0, 2221571.0, 9676816.0, 266524237.0, 361292454.0, 12584108.0, 9611154056.0, 1161810.0, 73471290.0, 2187652.0, 312837612.0, 829905767.0, 20943354.0, 1287089.0, 122005218.0, 26899999370.0, 97459564.99999999, 4511353371.0, 21573002.0, 28445705.0, 1643502889.9999998, 424844738.0, 1188270437.0, 5044253031.0, 313284.0, 509592905.0, 1445146193.0, 32140598.0, 505223650.0, 16520765195.0, 1699312187.0, 392166237.0, 80244002.0, 762420811.0, 52121655.0, 617471040.0, 10973962.0, 2151281.0, 6087631.0, 4235382473.0, 364503059.0, 37050879.0, 110524354.99999999, 70846135.0, 135628300345.0, 373535381.0, 2054476253.0, 238485872.0, 386866639.0, 3333251141.9999995, 2687945407.0, 2484265001.0, 370695955.0, 35488322.0, 9475451.0, 1552532393.0, 5221423982.0, 37776782.0, 50508049463.99999, 678477819.0, 8611695.0, 200842447.0, 10442973032.0, 59056825.0, 1238812.0, 84045449.0, 457927602.0, 12019074605.0, 9654611515.0, 88680165528.0, 166332833.0, 335979418.0, 99564708.0, 27596793779.000004, 235498.0, 798231409.0, 20093835.0, 22004418.0, 85480537297.00746, 264944766.6059863, 314259375.2340728, 1569704088.272429, 6039533608.645303, 8594295697.151018, 1470388593.0565274, 85423623971.32732, 27269859307.66661, 1332530375.0483296, 17933251165.343815, 68305678929.46553]}, \"name\": \"\", \"parents\": [\"world/ASIA (EX. NEAR EAST)         \", \"world/EASTERN EUROPE                     \", \"world/NORTHERN AFRICA                    \", \"world/OCEANIA                            \", \"world/WESTERN EUROPE                     \", \"world/SUB-SAHARAN AFRICA                 \", \"world/LATIN AMER. & CARIB    \", \"world/C.W. OF IND. STATES \", \"world/LATIN AMER. & CARIB    \", \"world/OCEANIA                            \", \"world/WESTERN EUROPE                     \", \"world/C.W. OF IND. STATES \", \"world/NEAR EAST                          \", \"world/ASIA (EX. NEAR EAST)         \", \"world/LATIN AMER. & CARIB    \", \"world/C.W. OF IND. STATES \", \"world/WESTERN EUROPE                     \", \"world/LATIN AMER. & CARIB    \", \"world/SUB-SAHARAN AFRICA                 \", \"world/NORTHERN AMERICA                   \", \"world/ASIA (EX. NEAR EAST)         \", \"world/SUB-SAHARAN AFRICA                 \", \"world/LATIN AMER. & CARIB    \", \"world/EASTERN EUROPE                     \", \"world/SUB-SAHARAN AFRICA                 \", \"world/SUB-SAHARAN AFRICA                 \", \"world/ASIA (EX. NEAR EAST)         \", \"world/SUB-SAHARAN AFRICA                 \", \"world/NORTHERN AMERICA                   \", \"world/SUB-SAHARAN AFRICA                 \", \"world/LATIN AMER. & CARIB    \", \"world/SUB-SAHARAN AFRICA                 \", \"world/LATIN AMER. & CARIB    \", \"world/ASIA (EX. NEAR EAST)         \", \"world/LATIN AMER. & CARIB    \", \"world/SUB-SAHARAN AFRICA                 \", \"world/OCEANIA                            \", \"world/LATIN AMER. & CARIB    \", \"world/SUB-SAHARAN AFRICA                 \", \"world/EASTERN EUROPE                     \", \"world/LATIN AMER. & CARIB    \", \"world/NEAR EAST                          \", \"world/EASTERN EUROPE                     \", \"world/WESTERN EUROPE                     \", \"world/SUB-SAHARAN AFRICA                 \", \"world/LATIN AMER. & CARIB    \", \"world/LATIN AMER. & CARIB    \", \"world/LATIN AMER. & CARIB    \", \"world/NORTHERN AFRICA                    \", \"world/LATIN AMER. & CARIB    \", \"world/SUB-SAHARAN AFRICA                 \", \"world/SUB-SAHARAN AFRICA                 \", \"world/BALTICS                            \", \"world/SUB-SAHARAN AFRICA                 \", \"world/WESTERN EUROPE                     \", \"world/OCEANIA                            \", \"world/WESTERN EUROPE                     \", \"world/WESTERN EUROPE                     \", \"world/LATIN AMER. & CARIB    \", \"world/OCEANIA                            \", \"world/SUB-SAHARAN AFRICA                 \", \"world/C.W. OF IND. STATES \", \"world/WESTERN EUROPE                     \", \"world/SUB-SAHARAN AFRICA                 \", \"world/WESTERN EUROPE                     \", \"world/WESTERN EUROPE                     \", \"world/NORTHERN AMERICA                   \", \"world/LATIN AMER. & CARIB    \", \"world/LATIN AMER. & CARIB    \", \"world/OCEANIA                            \", \"world/LATIN AMER. & CARIB    \", \"world/SUB-SAHARAN AFRICA                 \", \"world/SUB-SAHARAN AFRICA                 \", \"world/LATIN AMER. & CARIB    \", \"world/LATIN AMER. & CARIB    \", \"world/LATIN AMER. & CARIB    \", \"world/ASIA (EX. NEAR EAST)         \", \"world/EASTERN EUROPE                     \", \"world/WESTERN EUROPE                     \", \"world/ASIA (EX. NEAR EAST)         \", \"world/ASIA (EX. NEAR EAST)         \", \"world/NEAR EAST                          \", \"world/WESTERN EUROPE                     \", \"world/WESTERN EUROPE                     \", \"world/LATIN AMER. & CARIB    \", \"world/ASIA (EX. NEAR EAST)         \", \"world/NEAR EAST                          \", \"world/C.W. OF IND. STATES \", \"world/SUB-SAHARAN AFRICA                 \", \"world/OCEANIA                            \", \"world/NEAR EAST                          \", \"world/C.W. OF IND. STATES \", \"world/BALTICS                            \", \"world/NEAR EAST                          \", \"world/SUB-SAHARAN AFRICA                 \", \"world/SUB-SAHARAN AFRICA                 \", \"world/NORTHERN AFRICA                    \", \"world/WESTERN EUROPE                     \", \"world/BALTICS                            \", \"world/WESTERN EUROPE                     \", \"world/SUB-SAHARAN AFRICA                 \", \"world/SUB-SAHARAN AFRICA                 \", \"world/ASIA (EX. NEAR EAST)         \", \"world/SUB-SAHARAN AFRICA                 \", \"world/WESTERN EUROPE                     \", \"world/OCEANIA                            \", \"world/LATIN AMER. & CARIB    \", \"world/SUB-SAHARAN AFRICA                 \", \"world/SUB-SAHARAN AFRICA                 \", \"world/SUB-SAHARAN AFRICA                 \", \"world/LATIN AMER. & CARIB    \", \"world/WESTERN EUROPE                     \", \"world/ASIA (EX. NEAR EAST)         \", \"world/LATIN AMER. & CARIB    \", \"world/NORTHERN AFRICA                    \", \"world/SUB-SAHARAN AFRICA                 \", \"world/SUB-SAHARAN AFRICA                 \", \"world/OCEANIA                            \", \"world/ASIA (EX. NEAR EAST)         \", \"world/WESTERN EUROPE                     \", \"world/OCEANIA                            \", \"world/OCEANIA                            \", \"world/LATIN AMER. & CARIB    \", \"world/SUB-SAHARAN AFRICA                 \", \"world/SUB-SAHARAN AFRICA                 \", \"world/WESTERN EUROPE                     \", \"world/NEAR EAST                          \", \"world/ASIA (EX. NEAR EAST)         \", \"world/OCEANIA                            \", \"world/LATIN AMER. & CARIB    \", \"world/OCEANIA                            \", \"world/LATIN AMER. & CARIB    \", \"world/LATIN AMER. & CARIB    \", \"world/ASIA (EX. NEAR EAST)         \", \"world/EASTERN EUROPE                     \", \"world/WESTERN EUROPE                     \", \"world/LATIN AMER. & CARIB    \", \"world/NEAR EAST                          \", \"world/SUB-SAHARAN AFRICA                 \", \"world/EASTERN EUROPE                     \", \"world/SUB-SAHARAN AFRICA                 \", \"world/LATIN AMER. & CARIB    \", \"world/LATIN AMER. & CARIB    \", \"world/NEAR EAST                          \", \"world/SUB-SAHARAN AFRICA                 \", \"world/EASTERN EUROPE                     \", \"world/SUB-SAHARAN AFRICA                 \", \"world/SUB-SAHARAN AFRICA                 \", \"world/ASIA (EX. NEAR EAST)         \", \"world/EASTERN EUROPE                     \", \"world/EASTERN EUROPE                     \", \"world/OCEANIA                            \", \"world/SUB-SAHARAN AFRICA                 \", \"world/SUB-SAHARAN AFRICA                 \", \"world/WESTERN EUROPE                     \", \"world/ASIA (EX. NEAR EAST)         \", \"world/SUB-SAHARAN AFRICA                 \", \"world/LATIN AMER. & CARIB    \", \"world/SUB-SAHARAN AFRICA                 \", \"world/WESTERN EUROPE                     \", \"world/WESTERN EUROPE                     \", \"world/C.W. OF IND. STATES \", \"world/ASIA (EX. NEAR EAST)         \", \"world/SUB-SAHARAN AFRICA                 \", \"world/OCEANIA                            \", \"world/NORTHERN AFRICA                    \", \"world/NEAR EAST                          \", \"world/C.W. OF IND. STATES \", \"world/OCEANIA                            \", \"world/SUB-SAHARAN AFRICA                 \", \"world/C.W. OF IND. STATES \", \"world/NEAR EAST                          \", \"world/WESTERN EUROPE                     \", \"world/NORTHERN AMERICA                   \", \"world/LATIN AMER. & CARIB    \", \"world/C.W. OF IND. STATES \", \"world/OCEANIA                            \", \"world/ASIA (EX. NEAR EAST)         \", \"world/OCEANIA                            \", \"world/NEAR EAST                          \", \"world/SUB-SAHARAN AFRICA                 \", \"world/SUB-SAHARAN AFRICA                 \", \"world\", \"world\", \"world\", \"world\", \"world\", \"world\", \"world\", \"world\", \"world\", \"world\", \"world\", \"\"], \"type\": \"treemap\", \"values\": [517709027.0, 18256588.0, 509012966.0, 18405597.0, 1344484.0, 955527730.0, 930489109.0, 8077389.0, 1468545.0, 32376583253.0, 448885292.0, 49181112.0, 456456390.0, 6544822813.0, 7331054.0, 5876146.0, 4863088827.0, 11517276.0, 1232064765.0, 1337807.0, 3481802.0, 8409535.0, 3659097160.0, 341745896.0, 31989304.0, 5644552.0, 1246668505.0, 256178035.0, 3524769995.0, 8377600.0, 692312.0, 1635169.0, 714452596.0, 125956950346.0, 419879543.0, 18806964.0, 1374640.0, 256103848.0, 354852335.0, 74703673.0, 25015402.0, 71645844.0, 1431752672.0, 628920879.0, 620434066.0, 4571215.0, 201354309.0, 145092914.0, 2065749401.0, 70360753.0, 92017555.0, 35663695.0, 178904409.0, 665123857.0, 101990.0, 305594130.0, 531613321.0, 5830048739.0, 2283492.0, 139885531.0, 158810853.0, 108506500.0, 26673129679.0, 1105659917.0, 1128115.0, 421991049.0, 20400.0, 38027840.0, 6720691.0, 17169193.0, 146078036.0, 222820847.0, 21669688.0, 29136693.0, 95760701.0, 72383864.0, 47713472878.0, 1902231641.0, 4148072.0, 34530787832.0, 33630868482.0, 550630341.0, 679777284.0, 4574660873.0, 69740014.0, 75596858824.0, 410577098.0, 297433933.0, 1041542061.0, 4575182.0, 808786093.0, 9580505.0, 352224788.0, 314118985.0, 4602525.0, 170831871.0, 89360479.0, 3089710.0, 85570948.0, 89148280.0, 431248813.0, 139375489.0, 587653873.0, 17307488.0, 178786207.0, 2221571.0, 9676816.0, 266524237.0, 361292454.0, 12584108.0, 9611154056.0, 1161810.0, 73471290.0, 2187652.0, 312837612.0, 829905767.0, 20943354.0, 1287089.0, 122005218.0, 26899999370.0, 97459565.0, 4511353371.0, 21573002.0, 28445705.0, 1643502890.0, 424844738.0, 1188270437.0, 5044253031.0, 313284.0, 509592905.0, 1445146193.0, 32140598.0, 505223650.0, 16520765195.0, 1699312187.0, 392166237.0, 80244002.0, 762420811.0, 52121655.0, 617471040.0, 10973962.0, 2151281.0, 6087631.0, 4235382473.0, 364503059.0, 37050879.0, 110524355.0, 70846135.0, 135628300345.0, 373535381.0, 2054476253.0, 238485872.0, 386866639.0, 3333251142.0, 2687945407.0, 2484265001.0, 370695955.0, 35488322.0, 9475451.0, 1552532393.0, 5221423982.0, 37776782.0, 50508049464.0, 678477819.0, 8611695.0, 200842447.0, 10442973032.0, 59056825.0, 1238812.0, 84045449.0, 457927602.0, 12019074605.0, 9654611515.0, 88680165528.0, 166332833.0, 335979418.0, 99564708.0, 27596793779.0, 235498.0, 798231409.0, 20093835.0, 22004418.0, 564307177705.0, 616700145.0, 1369396212.0, 8550536210.0, 17889410115.0, 32058567518.0, 3177802905.0, 92206293730.0, 39269505184.0, 16277673103.0, 91764548253.0, 867487611080.0]}],                        {\"coloraxis\": {\"colorbar\": {\"title\": {\"text\": \"sum_import_export\"}}, \"colorscale\": [[0.0, \"rgb(103,0,31)\"], [0.1, \"rgb(178,24,43)\"], [0.2, \"rgb(214,96,77)\"], [0.3, \"rgb(244,165,130)\"], [0.4, \"rgb(253,219,199)\"], [0.5, \"rgb(247,247,247)\"], [0.6, \"rgb(209,229,240)\"], [0.7, \"rgb(146,197,222)\"], [0.8, \"rgb(67,147,195)\"], [0.9, \"rgb(33,102,172)\"], [1.0, \"rgb(5,48,97)\"]]}, \"legend\": {\"tracegroupgap\": 0}, \"margin\": {\"t\": 60}, \"template\": {\"data\": {\"bar\": [{\"error_x\": {\"color\": \"#2a3f5f\"}, \"error_y\": {\"color\": \"#2a3f5f\"}, \"marker\": {\"line\": {\"color\": \"#E5ECF6\", \"width\": 0.5}}, \"type\": \"bar\"}], \"barpolar\": [{\"marker\": {\"line\": {\"color\": \"#E5ECF6\", \"width\": 0.5}}, \"type\": \"barpolar\"}], \"carpet\": [{\"aaxis\": {\"endlinecolor\": \"#2a3f5f\", \"gridcolor\": \"white\", \"linecolor\": \"white\", \"minorgridcolor\": \"white\", \"startlinecolor\": \"#2a3f5f\"}, \"baxis\": {\"endlinecolor\": \"#2a3f5f\", \"gridcolor\": \"white\", \"linecolor\": \"white\", \"minorgridcolor\": \"white\", \"startlinecolor\": \"#2a3f5f\"}, \"type\": \"carpet\"}], \"choropleth\": [{\"colorbar\": {\"outlinewidth\": 0, \"ticks\": \"\"}, \"type\": \"choropleth\"}], \"contour\": [{\"colorbar\": {\"outlinewidth\": 0, \"ticks\": \"\"}, \"colorscale\": [[0.0, \"#0d0887\"], [0.1111111111111111, \"#46039f\"], [0.2222222222222222, \"#7201a8\"], [0.3333333333333333, \"#9c179e\"], [0.4444444444444444, \"#bd3786\"], [0.5555555555555556, \"#d8576b\"], [0.6666666666666666, \"#ed7953\"], [0.7777777777777778, \"#fb9f3a\"], [0.8888888888888888, \"#fdca26\"], [1.0, \"#f0f921\"]], \"type\": \"contour\"}], \"contourcarpet\": [{\"colorbar\": {\"outlinewidth\": 0, \"ticks\": \"\"}, \"type\": \"contourcarpet\"}], \"heatmap\": [{\"colorbar\": {\"outlinewidth\": 0, \"ticks\": \"\"}, \"colorscale\": [[0.0, \"#0d0887\"], [0.1111111111111111, \"#46039f\"], [0.2222222222222222, \"#7201a8\"], [0.3333333333333333, \"#9c179e\"], [0.4444444444444444, \"#bd3786\"], [0.5555555555555556, \"#d8576b\"], [0.6666666666666666, \"#ed7953\"], [0.7777777777777778, \"#fb9f3a\"], [0.8888888888888888, \"#fdca26\"], [1.0, \"#f0f921\"]], \"type\": \"heatmap\"}], \"heatmapgl\": [{\"colorbar\": {\"outlinewidth\": 0, \"ticks\": \"\"}, \"colorscale\": [[0.0, \"#0d0887\"], [0.1111111111111111, \"#46039f\"], [0.2222222222222222, \"#7201a8\"], [0.3333333333333333, \"#9c179e\"], [0.4444444444444444, \"#bd3786\"], [0.5555555555555556, \"#d8576b\"], [0.6666666666666666, \"#ed7953\"], [0.7777777777777778, \"#fb9f3a\"], [0.8888888888888888, \"#fdca26\"], [1.0, \"#f0f921\"]], \"type\": \"heatmapgl\"}], \"histogram\": [{\"marker\": {\"colorbar\": {\"outlinewidth\": 0, \"ticks\": \"\"}}, \"type\": \"histogram\"}], \"histogram2d\": [{\"colorbar\": {\"outlinewidth\": 0, \"ticks\": \"\"}, \"colorscale\": [[0.0, \"#0d0887\"], [0.1111111111111111, \"#46039f\"], [0.2222222222222222, \"#7201a8\"], [0.3333333333333333, \"#9c179e\"], [0.4444444444444444, \"#bd3786\"], [0.5555555555555556, \"#d8576b\"], [0.6666666666666666, \"#ed7953\"], [0.7777777777777778, \"#fb9f3a\"], [0.8888888888888888, \"#fdca26\"], [1.0, \"#f0f921\"]], \"type\": \"histogram2d\"}], \"histogram2dcontour\": [{\"colorbar\": {\"outlinewidth\": 0, \"ticks\": \"\"}, \"colorscale\": [[0.0, \"#0d0887\"], [0.1111111111111111, \"#46039f\"], [0.2222222222222222, \"#7201a8\"], [0.3333333333333333, \"#9c179e\"], [0.4444444444444444, \"#bd3786\"], [0.5555555555555556, \"#d8576b\"], [0.6666666666666666, \"#ed7953\"], [0.7777777777777778, \"#fb9f3a\"], [0.8888888888888888, \"#fdca26\"], [1.0, \"#f0f921\"]], \"type\": \"histogram2dcontour\"}], \"mesh3d\": [{\"colorbar\": {\"outlinewidth\": 0, \"ticks\": \"\"}, \"type\": \"mesh3d\"}], \"parcoords\": [{\"line\": {\"colorbar\": {\"outlinewidth\": 0, \"ticks\": \"\"}}, \"type\": \"parcoords\"}], \"pie\": [{\"automargin\": true, \"type\": \"pie\"}], \"scatter\": [{\"marker\": {\"colorbar\": {\"outlinewidth\": 0, \"ticks\": \"\"}}, \"type\": \"scatter\"}], \"scatter3d\": [{\"line\": {\"colorbar\": {\"outlinewidth\": 0, \"ticks\": \"\"}}, \"marker\": {\"colorbar\": {\"outlinewidth\": 0, \"ticks\": \"\"}}, \"type\": \"scatter3d\"}], \"scattercarpet\": [{\"marker\": {\"colorbar\": {\"outlinewidth\": 0, \"ticks\": \"\"}}, \"type\": \"scattercarpet\"}], \"scattergeo\": [{\"marker\": {\"colorbar\": {\"outlinewidth\": 0, \"ticks\": \"\"}}, \"type\": \"scattergeo\"}], \"scattergl\": [{\"marker\": {\"colorbar\": {\"outlinewidth\": 0, \"ticks\": \"\"}}, \"type\": \"scattergl\"}], \"scattermapbox\": [{\"marker\": {\"colorbar\": {\"outlinewidth\": 0, \"ticks\": \"\"}}, \"type\": \"scattermapbox\"}], \"scatterpolar\": [{\"marker\": {\"colorbar\": {\"outlinewidth\": 0, \"ticks\": \"\"}}, \"type\": \"scatterpolar\"}], \"scatterpolargl\": [{\"marker\": {\"colorbar\": {\"outlinewidth\": 0, \"ticks\": \"\"}}, \"type\": \"scatterpolargl\"}], \"scatterternary\": [{\"marker\": {\"colorbar\": {\"outlinewidth\": 0, \"ticks\": \"\"}}, \"type\": \"scatterternary\"}], \"surface\": [{\"colorbar\": {\"outlinewidth\": 0, \"ticks\": \"\"}, \"colorscale\": [[0.0, \"#0d0887\"], [0.1111111111111111, \"#46039f\"], [0.2222222222222222, \"#7201a8\"], [0.3333333333333333, \"#9c179e\"], [0.4444444444444444, \"#bd3786\"], [0.5555555555555556, \"#d8576b\"], [0.6666666666666666, \"#ed7953\"], [0.7777777777777778, \"#fb9f3a\"], [0.8888888888888888, \"#fdca26\"], [1.0, \"#f0f921\"]], \"type\": \"surface\"}], \"table\": [{\"cells\": {\"fill\": {\"color\": \"#EBF0F8\"}, \"line\": {\"color\": \"white\"}}, \"header\": {\"fill\": {\"color\": \"#C8D4E3\"}, \"line\": {\"color\": \"white\"}}, \"type\": \"table\"}]}, \"layout\": {\"annotationdefaults\": {\"arrowcolor\": \"#2a3f5f\", \"arrowhead\": 0, \"arrowwidth\": 1}, \"coloraxis\": {\"colorbar\": {\"outlinewidth\": 0, \"ticks\": \"\"}}, \"colorscale\": {\"diverging\": [[0, \"#8e0152\"], [0.1, \"#c51b7d\"], [0.2, \"#de77ae\"], [0.3, \"#f1b6da\"], [0.4, \"#fde0ef\"], [0.5, \"#f7f7f7\"], [0.6, \"#e6f5d0\"], [0.7, \"#b8e186\"], [0.8, \"#7fbc41\"], [0.9, \"#4d9221\"], [1, \"#276419\"]], \"sequential\": [[0.0, \"#0d0887\"], [0.1111111111111111, \"#46039f\"], [0.2222222222222222, \"#7201a8\"], [0.3333333333333333, \"#9c179e\"], [0.4444444444444444, \"#bd3786\"], [0.5555555555555556, \"#d8576b\"], [0.6666666666666666, \"#ed7953\"], [0.7777777777777778, \"#fb9f3a\"], [0.8888888888888888, \"#fdca26\"], [1.0, \"#f0f921\"]], \"sequentialminus\": [[0.0, \"#0d0887\"], [0.1111111111111111, \"#46039f\"], [0.2222222222222222, \"#7201a8\"], [0.3333333333333333, \"#9c179e\"], [0.4444444444444444, \"#bd3786\"], [0.5555555555555556, \"#d8576b\"], [0.6666666666666666, \"#ed7953\"], [0.7777777777777778, \"#fb9f3a\"], [0.8888888888888888, \"#fdca26\"], [1.0, \"#f0f921\"]]}, \"colorway\": [\"#636efa\", \"#EF553B\", \"#00cc96\", \"#ab63fa\", \"#FFA15A\", \"#19d3f3\", \"#FF6692\", \"#B6E880\", \"#FF97FF\", \"#FECB52\"], \"font\": {\"color\": \"#2a3f5f\"}, \"geo\": {\"bgcolor\": \"white\", \"lakecolor\": \"white\", \"landcolor\": \"#E5ECF6\", \"showlakes\": true, \"showland\": true, \"subunitcolor\": \"white\"}, \"hoverlabel\": {\"align\": \"left\"}, \"hovermode\": \"closest\", \"mapbox\": {\"style\": \"light\"}, \"paper_bgcolor\": \"white\", \"plot_bgcolor\": \"#E5ECF6\", \"polar\": {\"angularaxis\": {\"gridcolor\": \"white\", \"linecolor\": \"white\", \"ticks\": \"\"}, \"bgcolor\": \"#E5ECF6\", \"radialaxis\": {\"gridcolor\": \"white\", \"linecolor\": \"white\", \"ticks\": \"\"}}, \"scene\": {\"xaxis\": {\"backgroundcolor\": \"#E5ECF6\", \"gridcolor\": \"white\", \"gridwidth\": 2, \"linecolor\": \"white\", \"showbackground\": true, \"ticks\": \"\", \"zerolinecolor\": \"white\"}, \"yaxis\": {\"backgroundcolor\": \"#E5ECF6\", \"gridcolor\": \"white\", \"gridwidth\": 2, \"linecolor\": \"white\", \"showbackground\": true, \"ticks\": \"\", \"zerolinecolor\": \"white\"}, \"zaxis\": {\"backgroundcolor\": \"#E5ECF6\", \"gridcolor\": \"white\", \"gridwidth\": 2, \"linecolor\": \"white\", \"showbackground\": true, \"ticks\": \"\", \"zerolinecolor\": \"white\"}}, \"shapedefaults\": {\"line\": {\"color\": \"#2a3f5f\"}}, \"ternary\": {\"aaxis\": {\"gridcolor\": \"white\", \"linecolor\": \"white\", \"ticks\": \"\"}, \"baxis\": {\"gridcolor\": \"white\", \"linecolor\": \"white\", \"ticks\": \"\"}, \"bgcolor\": \"#E5ECF6\", \"caxis\": {\"gridcolor\": \"white\", \"linecolor\": \"white\", \"ticks\": \"\"}}, \"title\": {\"x\": 0.05}, \"xaxis\": {\"automargin\": true, \"gridcolor\": \"white\", \"linecolor\": \"white\", \"ticks\": \"\", \"title\": {\"standoff\": 15}, \"zerolinecolor\": \"white\", \"zerolinewidth\": 2}, \"yaxis\": {\"automargin\": true, \"gridcolor\": \"white\", \"linecolor\": \"white\", \"ticks\": \"\", \"title\": {\"standoff\": 15}, \"zerolinecolor\": \"white\", \"zerolinewidth\": 2}}}},                        {\"responsive\": true}                    ).then(function(){\n",
       "                            \n",
       "var gd = document.getElementById('54678b34-fb1d-425a-835f-17bc483de3c6');\n",
       "var x = new MutationObserver(function (mutations, observer) {{\n",
       "        var display = window.getComputedStyle(gd).display;\n",
       "        if (!display || display === 'none') {{\n",
       "            console.log([gd, 'removed!']);\n",
       "            Plotly.purge(gd);\n",
       "            observer.disconnect();\n",
       "        }}\n",
       "}});\n",
       "\n",
       "// Listen for the removal of the full notebook cells\n",
       "var notebookContainer = gd.closest('#notebook-container');\n",
       "if (notebookContainer) {{\n",
       "    x.observe(notebookContainer, {childList: true});\n",
       "}}\n",
       "\n",
       "// Listen for the clearing of the current output cell\n",
       "var outputEl = gd.closest('.output');\n",
       "if (outputEl) {{\n",
       "    x.observe(outputEl, {childList: true});\n",
       "}}\n",
       "\n",
       "                        })                };                });            </script>        </div>"
      ]
     },
     "metadata": {},
     "output_type": "display_data"
    }
   ],
   "source": [
    "import plotly.express as px\n",
    "import numpy as np\n",
    "import pandas as pd\n",
    "\n",
    "'''Variable year, import_export'''\n",
    "year = 2017\n",
    "# 'IMPORT (RM)' or 'EXPORT (RM)'\n",
    "import_export = 'EXPORT (RM)'\n",
    "\n",
    "'''Read Data'''\n",
    "# Read Data\n",
    "df = pd.read_csv(\"data_1.csv\")\n",
    "df_country = pd.read_csv(\"country_data.csv\")\n",
    "\n",
    "'''Data Preprocessing'''\n",
    "# Filter year\n",
    "df = df[df['YEAR'] == year]\n",
    "# GroupBy\n",
    "df_group = df.groupby('COUNTRY')[import_export].agg(sum_import_export = 'sum').reset_index()\n",
    "# Merge\n",
    "df_merge = df_group.merge(df_country, on='COUNTRY', how='inner')\n",
    "# Clean 0 trade\n",
    "df_merge = df_merge[df_merge['sum_import_export']>0]\n",
    "df_merge[\"world\"] = \"world\" # in order to have a single root node\n",
    "\n",
    "'''Plot'''\n",
    "fig = px.treemap(df_merge, path=['world', 'Region','COUNTRY'], values='sum_import_export',\n",
    "                  color='sum_import_export', hover_data=['COUNTRY'],\n",
    "                  color_continuous_scale='RdBu')\n",
    "#                   color_continuous_midpoint=np.average(df4['sum_import'], weights=df4['sum_import']))\n",
    "fig.show()"
   ]
  },
  {
   "cell_type": "code",
   "execution_count": 3,
   "metadata": {},
   "outputs": [
    {
     "data": {
      "text/html": [
       "<div>\n",
       "<style scoped>\n",
       "    .dataframe tbody tr th:only-of-type {\n",
       "        vertical-align: middle;\n",
       "    }\n",
       "\n",
       "    .dataframe tbody tr th {\n",
       "        vertical-align: top;\n",
       "    }\n",
       "\n",
       "    .dataframe thead th {\n",
       "        text-align: right;\n",
       "    }\n",
       "</style>\n",
       "<table border=\"1\" class=\"dataframe\">\n",
       "  <thead>\n",
       "    <tr style=\"text-align: right;\">\n",
       "      <th></th>\n",
       "      <th>YEAR</th>\n",
       "      <th>COUNTRY</th>\n",
       "      <th>SITC 1 DIGIT</th>\n",
       "      <th>SITC 2 DIGIT</th>\n",
       "      <th>IMPORT (RM)</th>\n",
       "      <th>EXPORT (RM)</th>\n",
       "    </tr>\n",
       "  </thead>\n",
       "  <tbody>\n",
       "    <tr>\n",
       "      <th>37756</th>\n",
       "      <td>2017</td>\n",
       "      <td>AFGHANISTAN</td>\n",
       "      <td>0</td>\n",
       "      <td>0</td>\n",
       "      <td>0.0</td>\n",
       "      <td>0.0</td>\n",
       "    </tr>\n",
       "    <tr>\n",
       "      <th>37757</th>\n",
       "      <td>2017</td>\n",
       "      <td>AFGHANISTAN</td>\n",
       "      <td>0</td>\n",
       "      <td>4</td>\n",
       "      <td>0.0</td>\n",
       "      <td>0.0</td>\n",
       "    </tr>\n",
       "    <tr>\n",
       "      <th>37758</th>\n",
       "      <td>2017</td>\n",
       "      <td>AFGHANISTAN</td>\n",
       "      <td>0</td>\n",
       "      <td>5</td>\n",
       "      <td>0.0</td>\n",
       "      <td>0.0</td>\n",
       "    </tr>\n",
       "    <tr>\n",
       "      <th>37759</th>\n",
       "      <td>2017</td>\n",
       "      <td>AFGHANISTAN</td>\n",
       "      <td>0</td>\n",
       "      <td>7</td>\n",
       "      <td>0.0</td>\n",
       "      <td>601560.0</td>\n",
       "    </tr>\n",
       "    <tr>\n",
       "      <th>37760</th>\n",
       "      <td>2017</td>\n",
       "      <td>AFGHANISTAN</td>\n",
       "      <td>0</td>\n",
       "      <td>9</td>\n",
       "      <td>0.0</td>\n",
       "      <td>1223472.0</td>\n",
       "    </tr>\n",
       "    <tr>\n",
       "      <th>...</th>\n",
       "      <td>...</td>\n",
       "      <td>...</td>\n",
       "      <td>...</td>\n",
       "      <td>...</td>\n",
       "      <td>...</td>\n",
       "      <td>...</td>\n",
       "    </tr>\n",
       "    <tr>\n",
       "      <th>47808</th>\n",
       "      <td>2017</td>\n",
       "      <td>ZIMBABWE</td>\n",
       "      <td>8</td>\n",
       "      <td>84</td>\n",
       "      <td>0.0</td>\n",
       "      <td>1426545.0</td>\n",
       "    </tr>\n",
       "    <tr>\n",
       "      <th>47809</th>\n",
       "      <td>2017</td>\n",
       "      <td>ZIMBABWE</td>\n",
       "      <td>8</td>\n",
       "      <td>87</td>\n",
       "      <td>0.0</td>\n",
       "      <td>252405.0</td>\n",
       "    </tr>\n",
       "    <tr>\n",
       "      <th>47810</th>\n",
       "      <td>2017</td>\n",
       "      <td>ZIMBABWE</td>\n",
       "      <td>8</td>\n",
       "      <td>88</td>\n",
       "      <td>0.0</td>\n",
       "      <td>0.0</td>\n",
       "    </tr>\n",
       "    <tr>\n",
       "      <th>47811</th>\n",
       "      <td>2017</td>\n",
       "      <td>ZIMBABWE</td>\n",
       "      <td>8</td>\n",
       "      <td>89</td>\n",
       "      <td>0.0</td>\n",
       "      <td>122687.0</td>\n",
       "    </tr>\n",
       "    <tr>\n",
       "      <th>47812</th>\n",
       "      <td>2017</td>\n",
       "      <td>ZIMBABWE</td>\n",
       "      <td>9</td>\n",
       "      <td>93</td>\n",
       "      <td>9722.0</td>\n",
       "      <td>124771.0</td>\n",
       "    </tr>\n",
       "  </tbody>\n",
       "</table>\n",
       "<p>10057 rows × 6 columns</p>\n",
       "</div>"
      ],
      "text/plain": [
       "       YEAR      COUNTRY  SITC 1 DIGIT  SITC 2 DIGIT  IMPORT (RM)  EXPORT (RM)\n",
       "37756  2017  AFGHANISTAN             0             0          0.0          0.0\n",
       "37757  2017  AFGHANISTAN             0             4          0.0          0.0\n",
       "37758  2017  AFGHANISTAN             0             5          0.0          0.0\n",
       "37759  2017  AFGHANISTAN             0             7          0.0     601560.0\n",
       "37760  2017  AFGHANISTAN             0             9          0.0    1223472.0\n",
       "...     ...          ...           ...           ...          ...          ...\n",
       "47808  2017     ZIMBABWE             8            84          0.0    1426545.0\n",
       "47809  2017     ZIMBABWE             8            87          0.0     252405.0\n",
       "47810  2017     ZIMBABWE             8            88          0.0          0.0\n",
       "47811  2017     ZIMBABWE             8            89          0.0     122687.0\n",
       "47812  2017     ZIMBABWE             9            93       9722.0     124771.0\n",
       "\n",
       "[10057 rows x 6 columns]"
      ]
     },
     "execution_count": 3,
     "metadata": {},
     "output_type": "execute_result"
    }
   ],
   "source": [
    "df"
   ]
  },
  {
   "cell_type": "code",
   "execution_count": 4,
   "metadata": {},
   "outputs": [
    {
     "data": {
      "text/html": [
       "<div>\n",
       "<style scoped>\n",
       "    .dataframe tbody tr th:only-of-type {\n",
       "        vertical-align: middle;\n",
       "    }\n",
       "\n",
       "    .dataframe tbody tr th {\n",
       "        vertical-align: top;\n",
       "    }\n",
       "\n",
       "    .dataframe thead th {\n",
       "        text-align: right;\n",
       "    }\n",
       "</style>\n",
       "<table border=\"1\" class=\"dataframe\">\n",
       "  <thead>\n",
       "    <tr style=\"text-align: right;\">\n",
       "      <th></th>\n",
       "      <th>COUNTRY</th>\n",
       "      <th>Region</th>\n",
       "      <th>Population</th>\n",
       "      <th>Area sq. mi.</th>\n",
       "      <th>Pop. Density</th>\n",
       "    </tr>\n",
       "  </thead>\n",
       "  <tbody>\n",
       "    <tr>\n",
       "      <th>0</th>\n",
       "      <td>AFGHANISTAN</td>\n",
       "      <td>ASIA (EX. NEAR EAST)</td>\n",
       "      <td>31056997</td>\n",
       "      <td>647500</td>\n",
       "      <td>47.96</td>\n",
       "    </tr>\n",
       "    <tr>\n",
       "      <th>1</th>\n",
       "      <td>ALBANIA</td>\n",
       "      <td>EASTERN EUROPE</td>\n",
       "      <td>3581655</td>\n",
       "      <td>28748</td>\n",
       "      <td>124.59</td>\n",
       "    </tr>\n",
       "    <tr>\n",
       "      <th>2</th>\n",
       "      <td>ALGERIA</td>\n",
       "      <td>NORTHERN AFRICA</td>\n",
       "      <td>32930091</td>\n",
       "      <td>2381740</td>\n",
       "      <td>13.83</td>\n",
       "    </tr>\n",
       "    <tr>\n",
       "      <th>3</th>\n",
       "      <td>AMERICAN SAMOA</td>\n",
       "      <td>OCEANIA</td>\n",
       "      <td>57794</td>\n",
       "      <td>199</td>\n",
       "      <td>290.42</td>\n",
       "    </tr>\n",
       "    <tr>\n",
       "      <th>4</th>\n",
       "      <td>ANDORRA</td>\n",
       "      <td>WESTERN EUROPE</td>\n",
       "      <td>71201</td>\n",
       "      <td>468</td>\n",
       "      <td>152.14</td>\n",
       "    </tr>\n",
       "    <tr>\n",
       "      <th>...</th>\n",
       "      <td>...</td>\n",
       "      <td>...</td>\n",
       "      <td>...</td>\n",
       "      <td>...</td>\n",
       "      <td>...</td>\n",
       "    </tr>\n",
       "    <tr>\n",
       "      <th>222</th>\n",
       "      <td>WEST BANK</td>\n",
       "      <td>NEAR EAST</td>\n",
       "      <td>2460492</td>\n",
       "      <td>5860</td>\n",
       "      <td>419.88</td>\n",
       "    </tr>\n",
       "    <tr>\n",
       "      <th>223</th>\n",
       "      <td>WESTERN SAHARA</td>\n",
       "      <td>NORTHERN AFRICA</td>\n",
       "      <td>273008</td>\n",
       "      <td>266000</td>\n",
       "      <td>1.03</td>\n",
       "    </tr>\n",
       "    <tr>\n",
       "      <th>224</th>\n",
       "      <td>YEMEN</td>\n",
       "      <td>NEAR EAST</td>\n",
       "      <td>21456188</td>\n",
       "      <td>527970</td>\n",
       "      <td>40.64</td>\n",
       "    </tr>\n",
       "    <tr>\n",
       "      <th>225</th>\n",
       "      <td>ZAMBIA</td>\n",
       "      <td>SUB-SAHARAN AFRICA</td>\n",
       "      <td>11502010</td>\n",
       "      <td>752614</td>\n",
       "      <td>15.28</td>\n",
       "    </tr>\n",
       "    <tr>\n",
       "      <th>226</th>\n",
       "      <td>ZIMBABWE</td>\n",
       "      <td>SUB-SAHARAN AFRICA</td>\n",
       "      <td>12236805</td>\n",
       "      <td>390580</td>\n",
       "      <td>31.33</td>\n",
       "    </tr>\n",
       "  </tbody>\n",
       "</table>\n",
       "<p>227 rows × 5 columns</p>\n",
       "</div>"
      ],
      "text/plain": [
       "            COUNTRY                               Region  Population  \\\n",
       "0       AFGHANISTAN        ASIA (EX. NEAR EAST)             31056997   \n",
       "1           ALBANIA  EASTERN EUROPE                          3581655   \n",
       "2           ALGERIA  NORTHERN AFRICA                        32930091   \n",
       "3    AMERICAN SAMOA  OCEANIA                                   57794   \n",
       "4           ANDORRA  WESTERN EUROPE                            71201   \n",
       "..              ...                                  ...         ...   \n",
       "222       WEST BANK  NEAR EAST                               2460492   \n",
       "223  WESTERN SAHARA  NORTHERN AFRICA                          273008   \n",
       "224           YEMEN  NEAR EAST                              21456188   \n",
       "225          ZAMBIA  SUB-SAHARAN AFRICA                     11502010   \n",
       "226        ZIMBABWE  SUB-SAHARAN AFRICA                     12236805   \n",
       "\n",
       "     Area sq. mi.  Pop. Density  \n",
       "0          647500         47.96  \n",
       "1           28748        124.59  \n",
       "2         2381740         13.83  \n",
       "3             199        290.42  \n",
       "4             468        152.14  \n",
       "..            ...           ...  \n",
       "222          5860        419.88  \n",
       "223        266000          1.03  \n",
       "224        527970         40.64  \n",
       "225        752614         15.28  \n",
       "226        390580         31.33  \n",
       "\n",
       "[227 rows x 5 columns]"
      ]
     },
     "execution_count": 4,
     "metadata": {},
     "output_type": "execute_result"
    }
   ],
   "source": [
    "df_country"
   ]
  },
  {
   "cell_type": "code",
   "execution_count": 6,
   "metadata": {},
   "outputs": [
    {
     "data": {
      "application/vnd.plotly.v1+json": {
       "config": {
        "plotlyServerURL": "https://plot.ly"
       },
       "data": [
        {
         "branchvalues": "total",
         "customdata": [
          [
           "AFGHANISTAN",
           3966704
          ],
          [
           "ALBANIA",
           1198657
          ],
          [
           "ALGERIA",
           358187599
          ],
          [
           "AMERICAN SAMOA",
           1987497
          ],
          [
           "ANDORRA",
           79208
          ],
          [
           "ANGOLA",
           62483235
          ],
          [
           "ARGENTINA",
           4813090840
          ],
          [
           "ARMENIA",
           190015
          ],
          [
           "ARUBA",
           47696
          ],
          [
           "AUSTRALIA",
           21584545899
          ],
          [
           "AUSTRIA",
           2828942536
          ],
          [
           "AZERBAIJAN",
           578543
          ],
          [
           "BAHRAIN",
           441669982
          ],
          [
           "BANGLADESH",
           1064146977
          ],
          [
           "BARBADOS",
           2440137
          ],
          [
           "BELARUS",
           302038347
          ],
          [
           "BELGIUM",
           2919241602
          ],
          [
           "BELIZE",
           1648593
          ],
          [
           "BENIN",
           2234012
          ],
          [
           "BHUTAN",
           1303880
          ],
          [
           "BOTSWANA",
           25349
          ],
          [
           "BRAZIL",
           7933657457
          ],
          [
           "BULGARIA",
           148426409
          ],
          [
           "BURKINA FASO",
           21354987
          ],
          [
           "BURUNDI",
           673538
          ],
          [
           "CAMBODIA",
           706371958
          ],
          [
           "CAMEROON",
           332206015
          ],
          [
           "CANADA",
           3272531399
          ],
          [
           "CAPE VERDE",
           128959
          ],
          [
           "CAYMAN ISLANDS",
           139172
          ],
          [
           "CHAD",
           1213
          ],
          [
           "CHILE",
           505269462
          ],
          [
           "CHINA",
           175416541976
          ],
          [
           "COLOMBIA",
           471668906
          ],
          [
           "COMOROS",
           334101
          ],
          [
           "COOK ISLANDS",
           1406
          ],
          [
           "COSTA RICA",
           101849284
          ],
          [
           "COTE D'IVOIRE",
           1920610302
          ],
          [
           "CROATIA",
           15476560
          ],
          [
           "CUBA",
           5323033
          ],
          [
           "CYPRUS",
           30066319
          ],
          [
           "CZECH REPUBLIC",
           984265758
          ],
          [
           "DENMARK",
           938094222.0000001
          ],
          [
           "DJIBOUTI",
           3058949
          ],
          [
           "DOMINICA",
           636444
          ],
          [
           "DOMINICAN REPUBLIC",
           11706760
          ],
          [
           "ECUADOR",
           517998570
          ],
          [
           "EGYPT",
           543166239
          ],
          [
           "EL SALVADOR",
           10368671
          ],
          [
           "EQUATORIAL GUINEA",
           247766
          ],
          [
           "ERITREA",
           85302
          ],
          [
           "ESTONIA",
           35804200
          ],
          [
           "ETHIOPIA",
           6850174
          ],
          [
           "FAROE ISLANDS",
           195284
          ],
          [
           "FIJI",
           12977750
          ],
          [
           "FINLAND",
           803825013
          ],
          [
           "FRANCE",
           16626237476
          ],
          [
           "GABON",
           239037129
          ],
          [
           "GEORGIA",
           69402086
          ],
          [
           "GERMANY",
           26380358234
          ],
          [
           "GHANA",
           1014910413
          ],
          [
           "GREECE",
           65825262
          ],
          [
           "GREENLAND",
           98115
          ],
          [
           "GRENADA",
           45901
          ],
          [
           "GUADELOUPE",
           168350
          ],
          [
           "GUAM",
           204400
          ],
          [
           "GUATEMALA",
           48186966
          ],
          [
           "GUINEA",
           45324628
          ],
          [
           "GUINEA-BISSAU",
           174313
          ],
          [
           "GUYANA",
           2144191
          ],
          [
           "HAITI",
           2722324
          ],
          [
           "HONDURAS",
           5240827
          ],
          [
           "HONG KONG",
           15140878814
          ],
          [
           "HUNGARY",
           717904147
          ],
          [
           "ICELAND",
           1496362
          ],
          [
           "INDIA",
           26497011568.999996
          ],
          [
           "INDONESIA",
           40490259026
          ],
          [
           "IRAQ",
           1385768951
          ],
          [
           "IRELAND",
           4641980199
          ],
          [
           "ITALY",
           6688520557
          ],
          [
           "JAMAICA",
           4233543
          ],
          [
           "JAPAN",
           63857511725.00001
          ],
          [
           "JORDAN",
           275008302
          ],
          [
           "KAZAKHSTAN",
           36692170
          ],
          [
           "KENYA",
           24400804
          ],
          [
           "KIRIBATI",
           8656153
          ],
          [
           "KUWAIT",
           1928453143
          ],
          [
           "KYRGYZSTAN",
           286907
          ],
          [
           "LATVIA",
           61792480
          ],
          [
           "LEBANON",
           23290206
          ],
          [
           "LESOTHO",
           371559
          ],
          [
           "LIBERIA",
           58956747
          ],
          [
           "LIBYA",
           2066546154
          ],
          [
           "LIECHTENSTEIN",
           84709
          ],
          [
           "LITHUANIA",
           275197260
          ],
          [
           "LUXEMBOURG",
           78759128
          ],
          [
           "MADAGASCAR",
           22867799
          ],
          [
           "MALAWI",
           6108986
          ],
          [
           "MALAYSIA",
           262153387
          ],
          [
           "MALDIVES",
           2424788
          ],
          [
           "MALTA",
           553371608
          ],
          [
           "MARSHALL ISLANDS",
           10047556
          ],
          [
           "MAURITANIA",
           1640216
          ],
          [
           "MAURITIUS",
           13084630
          ],
          [
           "MAYOTTE",
           25980
          ],
          [
           "MEXICO",
           1485174174
          ],
          [
           "MONACO",
           56237
          ],
          [
           "MONGOLIA",
           2453754
          ],
          [
           "MOROCCO",
           95919674.99999999
          ],
          [
           "MOZAMBIQUE",
           39907597
          ],
          [
           "NAMIBIA",
           84308206
          ],
          [
           "NAURU",
           59592
          ],
          [
           "NEPAL",
           1182015
          ],
          [
           "NETHERLANDS",
           6772233739
          ],
          [
           "NEW CALEDONIA",
           322381
          ],
          [
           "NEW ZEALAND",
           3334879026
          ],
          [
           "NICARAGUA",
           29990990
          ],
          [
           "NIGER",
           21530
          ],
          [
           "NIGERIA",
           1144052404
          ],
          [
           "NORWAY",
           936010103
          ],
          [
           "OMAN",
           2272821713
          ],
          [
           "PAKISTAN",
           757464124
          ],
          [
           "PANAMA",
           199335465
          ],
          [
           "PAPUA NEW GUINEA",
           619884373
          ],
          [
           "PARAGUAY",
           257216
          ],
          [
           "PERU",
           454078126
          ],
          [
           "PHILIPPINES",
           9198999577
          ],
          [
           "POLAND",
           789947113
          ],
          [
           "PORTUGAL",
           249258949.99999997
          ],
          [
           "PUERTO RICO",
           47362043
          ],
          [
           "QATAR",
           2731168757
          ],
          [
           "REUNION",
           1323279
          ],
          [
           "ROMANIA",
           144270583
          ],
          [
           "RWANDA",
           89453527
          ],
          [
           "SAINT LUCIA",
           188886
          ],
          [
           "SAN MARINO",
           1127
          ],
          [
           "SAUDI ARABIA",
           17901324811
          ],
          [
           "SENEGAL",
           3637625
          ],
          [
           "SERBIA",
           15148421
          ],
          [
           "SEYCHELLES",
           26485727
          ],
          [
           "SIERRA LEONE",
           897608
          ],
          [
           "SINGAPORE",
           103071082357
          ],
          [
           "SLOVAKIA",
           142900005
          ],
          [
           "SLOVENIA",
           137186131
          ],
          [
           "SOLOMON ISLANDS",
           49021873
          ],
          [
           "SOMALIA",
           5496274
          ],
          [
           "SOUTH AFRICA",
           3069692296.9999995
          ],
          [
           "SPAIN",
           2979668182
          ],
          [
           "SRI LANKA",
           244550351
          ],
          [
           "SUDAN",
           3345959
          ],
          [
           "SURINAME",
           10893835
          ],
          [
           "SWAZILAND",
           3661576
          ],
          [
           "SWEDEN",
           1817761496
          ],
          [
           "SWITZERLAND",
           10631751183
          ],
          [
           "TAJIKISTAN",
           3046277
          ],
          [
           "THAILAND",
           48623717038
          ],
          [
           "TOGO",
           32955507
          ],
          [
           "TUNISIA",
           104171888
          ],
          [
           "TURKEY",
           1827451641
          ],
          [
           "TURKMENISTAN",
           11404714
          ],
          [
           "UGANDA",
           65151006
          ],
          [
           "UKRAINE",
           600621479
          ],
          [
           "UNITED ARAB EMIRATES",
           11670735873
          ],
          [
           "UNITED KINGDOM",
           6972337072
          ],
          [
           "UNITED STATES",
           64947348925
          ],
          [
           "URUGUAY",
           26010057
          ],
          [
           "UZBEKISTAN",
           13404089
          ],
          [
           "VANUATU",
           12021381
          ],
          [
           "VIET NAM",
           19456974985
          ],
          [
           "YEMEN",
           415152535.00000006
          ],
          [
           "ZAMBIA",
           34101463
          ],
          [
           "ZIMBABWE",
           3101451
          ],
          [
           "(?)",
           100778700914.44675
          ],
          [
           "(?)",
           216832342.3757854
          ],
          [
           "(?)",
           441814963.2225368
          ],
          [
           "(?)",
           707437059.9759381
          ],
          [
           "(?)",
           5351314712.413208
          ],
          [
           "(?)",
           11703613449.13105
          ],
          [
           "(?)",
           1488006899.7471085
          ],
          [
           "(?)",
           61988697312.97375
          ],
          [
           "(?)",
           18623306762.217216
          ],
          [
           "(?)",
           1866881928.1840427
          ],
          [
           "(?)",
           13754899795.725574
          ],
          [
           "(?)",
           75076379799.39786
          ]
         ],
         "domain": {
          "x": [
           0,
           1
          ],
          "y": [
           0,
           1
          ]
         },
         "hovertemplate": "labels=%{label}<br>total_sum=%{value}<br>parent=%{parent}<br>id=%{id}<br>COUNTRY=%{customdata[0]}<br>total=%{color}<extra></extra>",
         "ids": [
          "world/ASIA (EX. NEAR EAST)         /AFGHANISTAN",
          "world/EASTERN EUROPE                     /ALBANIA",
          "world/NORTHERN AFRICA                    /ALGERIA",
          "world/OCEANIA                            /AMERICAN SAMOA",
          "world/WESTERN EUROPE                     /ANDORRA",
          "world/SUB-SAHARAN AFRICA                 /ANGOLA",
          "world/LATIN AMER. & CARIB    /ARGENTINA",
          "world/C.W. OF IND. STATES /ARMENIA",
          "world/LATIN AMER. & CARIB    /ARUBA",
          "world/OCEANIA                            /AUSTRALIA",
          "world/WESTERN EUROPE                     /AUSTRIA",
          "world/C.W. OF IND. STATES /AZERBAIJAN",
          "world/NEAR EAST                          /BAHRAIN",
          "world/ASIA (EX. NEAR EAST)         /BANGLADESH",
          "world/LATIN AMER. & CARIB    /BARBADOS",
          "world/C.W. OF IND. STATES /BELARUS",
          "world/WESTERN EUROPE                     /BELGIUM",
          "world/LATIN AMER. & CARIB    /BELIZE",
          "world/SUB-SAHARAN AFRICA                 /BENIN",
          "world/ASIA (EX. NEAR EAST)         /BHUTAN",
          "world/SUB-SAHARAN AFRICA                 /BOTSWANA",
          "world/LATIN AMER. & CARIB    /BRAZIL",
          "world/EASTERN EUROPE                     /BULGARIA",
          "world/SUB-SAHARAN AFRICA                 /BURKINA FASO",
          "world/SUB-SAHARAN AFRICA                 /BURUNDI",
          "world/ASIA (EX. NEAR EAST)         /CAMBODIA",
          "world/SUB-SAHARAN AFRICA                 /CAMEROON",
          "world/NORTHERN AMERICA                   /CANADA",
          "world/SUB-SAHARAN AFRICA                 /CAPE VERDE",
          "world/LATIN AMER. & CARIB    /CAYMAN ISLANDS",
          "world/SUB-SAHARAN AFRICA                 /CHAD",
          "world/LATIN AMER. & CARIB    /CHILE",
          "world/ASIA (EX. NEAR EAST)         /CHINA",
          "world/LATIN AMER. & CARIB    /COLOMBIA",
          "world/SUB-SAHARAN AFRICA                 /COMOROS",
          "world/OCEANIA                            /COOK ISLANDS",
          "world/LATIN AMER. & CARIB    /COSTA RICA",
          "world/SUB-SAHARAN AFRICA                 /COTE D'IVOIRE",
          "world/EASTERN EUROPE                     /CROATIA",
          "world/LATIN AMER. & CARIB    /CUBA",
          "world/NEAR EAST                          /CYPRUS",
          "world/EASTERN EUROPE                     /CZECH REPUBLIC",
          "world/WESTERN EUROPE                     /DENMARK",
          "world/SUB-SAHARAN AFRICA                 /DJIBOUTI",
          "world/LATIN AMER. & CARIB    /DOMINICA",
          "world/LATIN AMER. & CARIB    /DOMINICAN REPUBLIC",
          "world/LATIN AMER. & CARIB    /ECUADOR",
          "world/NORTHERN AFRICA                    /EGYPT",
          "world/LATIN AMER. & CARIB    /EL SALVADOR",
          "world/SUB-SAHARAN AFRICA                 /EQUATORIAL GUINEA",
          "world/SUB-SAHARAN AFRICA                 /ERITREA",
          "world/BALTICS                            /ESTONIA",
          "world/SUB-SAHARAN AFRICA                 /ETHIOPIA",
          "world/WESTERN EUROPE                     /FAROE ISLANDS",
          "world/OCEANIA                            /FIJI",
          "world/WESTERN EUROPE                     /FINLAND",
          "world/WESTERN EUROPE                     /FRANCE",
          "world/SUB-SAHARAN AFRICA                 /GABON",
          "world/C.W. OF IND. STATES /GEORGIA",
          "world/WESTERN EUROPE                     /GERMANY",
          "world/SUB-SAHARAN AFRICA                 /GHANA",
          "world/WESTERN EUROPE                     /GREECE",
          "world/NORTHERN AMERICA                   /GREENLAND",
          "world/LATIN AMER. & CARIB    /GRENADA",
          "world/LATIN AMER. & CARIB    /GUADELOUPE",
          "world/OCEANIA                            /GUAM",
          "world/LATIN AMER. & CARIB    /GUATEMALA",
          "world/SUB-SAHARAN AFRICA                 /GUINEA",
          "world/SUB-SAHARAN AFRICA                 /GUINEA-BISSAU",
          "world/LATIN AMER. & CARIB    /GUYANA",
          "world/LATIN AMER. & CARIB    /HAITI",
          "world/LATIN AMER. & CARIB    /HONDURAS",
          "world/ASIA (EX. NEAR EAST)         /HONG KONG",
          "world/EASTERN EUROPE                     /HUNGARY",
          "world/WESTERN EUROPE                     /ICELAND",
          "world/ASIA (EX. NEAR EAST)         /INDIA",
          "world/ASIA (EX. NEAR EAST)         /INDONESIA",
          "world/NEAR EAST                          /IRAQ",
          "world/WESTERN EUROPE                     /IRELAND",
          "world/WESTERN EUROPE                     /ITALY",
          "world/LATIN AMER. & CARIB    /JAMAICA",
          "world/ASIA (EX. NEAR EAST)         /JAPAN",
          "world/NEAR EAST                          /JORDAN",
          "world/C.W. OF IND. STATES /KAZAKHSTAN",
          "world/SUB-SAHARAN AFRICA                 /KENYA",
          "world/OCEANIA                            /KIRIBATI",
          "world/NEAR EAST                          /KUWAIT",
          "world/C.W. OF IND. STATES /KYRGYZSTAN",
          "world/BALTICS                            /LATVIA",
          "world/NEAR EAST                          /LEBANON",
          "world/SUB-SAHARAN AFRICA                 /LESOTHO",
          "world/SUB-SAHARAN AFRICA                 /LIBERIA",
          "world/NORTHERN AFRICA                    /LIBYA",
          "world/WESTERN EUROPE                     /LIECHTENSTEIN",
          "world/BALTICS                            /LITHUANIA",
          "world/WESTERN EUROPE                     /LUXEMBOURG",
          "world/SUB-SAHARAN AFRICA                 /MADAGASCAR",
          "world/SUB-SAHARAN AFRICA                 /MALAWI",
          "world/ASIA (EX. NEAR EAST)         /MALAYSIA",
          "world/ASIA (EX. NEAR EAST)         /MALDIVES",
          "world/WESTERN EUROPE                     /MALTA",
          "world/OCEANIA                            /MARSHALL ISLANDS",
          "world/SUB-SAHARAN AFRICA                 /MAURITANIA",
          "world/SUB-SAHARAN AFRICA                 /MAURITIUS",
          "world/SUB-SAHARAN AFRICA                 /MAYOTTE",
          "world/LATIN AMER. & CARIB    /MEXICO",
          "world/WESTERN EUROPE                     /MONACO",
          "world/ASIA (EX. NEAR EAST)         /MONGOLIA",
          "world/NORTHERN AFRICA                    /MOROCCO",
          "world/SUB-SAHARAN AFRICA                 /MOZAMBIQUE",
          "world/SUB-SAHARAN AFRICA                 /NAMIBIA",
          "world/OCEANIA                            /NAURU",
          "world/ASIA (EX. NEAR EAST)         /NEPAL",
          "world/WESTERN EUROPE                     /NETHERLANDS",
          "world/OCEANIA                            /NEW CALEDONIA",
          "world/OCEANIA                            /NEW ZEALAND",
          "world/LATIN AMER. & CARIB    /NICARAGUA",
          "world/SUB-SAHARAN AFRICA                 /NIGER",
          "world/SUB-SAHARAN AFRICA                 /NIGERIA",
          "world/WESTERN EUROPE                     /NORWAY",
          "world/NEAR EAST                          /OMAN",
          "world/ASIA (EX. NEAR EAST)         /PAKISTAN",
          "world/LATIN AMER. & CARIB    /PANAMA",
          "world/OCEANIA                            /PAPUA NEW GUINEA",
          "world/LATIN AMER. & CARIB    /PARAGUAY",
          "world/LATIN AMER. & CARIB    /PERU",
          "world/ASIA (EX. NEAR EAST)         /PHILIPPINES",
          "world/EASTERN EUROPE                     /POLAND",
          "world/WESTERN EUROPE                     /PORTUGAL",
          "world/LATIN AMER. & CARIB    /PUERTO RICO",
          "world/NEAR EAST                          /QATAR",
          "world/SUB-SAHARAN AFRICA                 /REUNION",
          "world/EASTERN EUROPE                     /ROMANIA",
          "world/SUB-SAHARAN AFRICA                 /RWANDA",
          "world/LATIN AMER. & CARIB    /SAINT LUCIA",
          "world/WESTERN EUROPE                     /SAN MARINO",
          "world/NEAR EAST                          /SAUDI ARABIA",
          "world/SUB-SAHARAN AFRICA                 /SENEGAL",
          "world/EASTERN EUROPE                     /SERBIA",
          "world/SUB-SAHARAN AFRICA                 /SEYCHELLES",
          "world/SUB-SAHARAN AFRICA                 /SIERRA LEONE",
          "world/ASIA (EX. NEAR EAST)         /SINGAPORE",
          "world/EASTERN EUROPE                     /SLOVAKIA",
          "world/EASTERN EUROPE                     /SLOVENIA",
          "world/OCEANIA                            /SOLOMON ISLANDS",
          "world/SUB-SAHARAN AFRICA                 /SOMALIA",
          "world/SUB-SAHARAN AFRICA                 /SOUTH AFRICA",
          "world/WESTERN EUROPE                     /SPAIN",
          "world/ASIA (EX. NEAR EAST)         /SRI LANKA",
          "world/SUB-SAHARAN AFRICA                 /SUDAN",
          "world/LATIN AMER. & CARIB    /SURINAME",
          "world/SUB-SAHARAN AFRICA                 /SWAZILAND",
          "world/WESTERN EUROPE                     /SWEDEN",
          "world/WESTERN EUROPE                     /SWITZERLAND",
          "world/C.W. OF IND. STATES /TAJIKISTAN",
          "world/ASIA (EX. NEAR EAST)         /THAILAND",
          "world/SUB-SAHARAN AFRICA                 /TOGO",
          "world/NORTHERN AFRICA                    /TUNISIA",
          "world/NEAR EAST                          /TURKEY",
          "world/C.W. OF IND. STATES /TURKMENISTAN",
          "world/SUB-SAHARAN AFRICA                 /UGANDA",
          "world/C.W. OF IND. STATES /UKRAINE",
          "world/NEAR EAST                          /UNITED ARAB EMIRATES",
          "world/WESTERN EUROPE                     /UNITED KINGDOM",
          "world/NORTHERN AMERICA                   /UNITED STATES",
          "world/LATIN AMER. & CARIB    /URUGUAY",
          "world/C.W. OF IND. STATES /UZBEKISTAN",
          "world/OCEANIA                            /VANUATU",
          "world/ASIA (EX. NEAR EAST)         /VIET NAM",
          "world/NEAR EAST                          /YEMEN",
          "world/SUB-SAHARAN AFRICA                 /ZAMBIA",
          "world/SUB-SAHARAN AFRICA                 /ZIMBABWE",
          "world/ASIA (EX. NEAR EAST)         ",
          "world/BALTICS                            ",
          "world/C.W. OF IND. STATES ",
          "world/EASTERN EUROPE                     ",
          "world/LATIN AMER. & CARIB    ",
          "world/NEAR EAST                          ",
          "world/NORTHERN AFRICA                    ",
          "world/NORTHERN AMERICA                   ",
          "world/OCEANIA                            ",
          "world/SUB-SAHARAN AFRICA                 ",
          "world/WESTERN EUROPE                     ",
          "world"
         ],
         "labels": [
          "AFGHANISTAN",
          "ALBANIA",
          "ALGERIA",
          "AMERICAN SAMOA",
          "ANDORRA",
          "ANGOLA",
          "ARGENTINA",
          "ARMENIA",
          "ARUBA",
          "AUSTRALIA",
          "AUSTRIA",
          "AZERBAIJAN",
          "BAHRAIN",
          "BANGLADESH",
          "BARBADOS",
          "BELARUS",
          "BELGIUM",
          "BELIZE",
          "BENIN",
          "BHUTAN",
          "BOTSWANA",
          "BRAZIL",
          "BULGARIA",
          "BURKINA FASO",
          "BURUNDI",
          "CAMBODIA",
          "CAMEROON",
          "CANADA",
          "CAPE VERDE",
          "CAYMAN ISLANDS",
          "CHAD",
          "CHILE",
          "CHINA",
          "COLOMBIA",
          "COMOROS",
          "COOK ISLANDS",
          "COSTA RICA",
          "COTE D'IVOIRE",
          "CROATIA",
          "CUBA",
          "CYPRUS",
          "CZECH REPUBLIC",
          "DENMARK",
          "DJIBOUTI",
          "DOMINICA",
          "DOMINICAN REPUBLIC",
          "ECUADOR",
          "EGYPT",
          "EL SALVADOR",
          "EQUATORIAL GUINEA",
          "ERITREA",
          "ESTONIA",
          "ETHIOPIA",
          "FAROE ISLANDS",
          "FIJI",
          "FINLAND",
          "FRANCE",
          "GABON",
          "GEORGIA",
          "GERMANY",
          "GHANA",
          "GREECE",
          "GREENLAND",
          "GRENADA",
          "GUADELOUPE",
          "GUAM",
          "GUATEMALA",
          "GUINEA",
          "GUINEA-BISSAU",
          "GUYANA",
          "HAITI",
          "HONDURAS",
          "HONG KONG",
          "HUNGARY",
          "ICELAND",
          "INDIA",
          "INDONESIA",
          "IRAQ",
          "IRELAND",
          "ITALY",
          "JAMAICA",
          "JAPAN",
          "JORDAN",
          "KAZAKHSTAN",
          "KENYA",
          "KIRIBATI",
          "KUWAIT",
          "KYRGYZSTAN",
          "LATVIA",
          "LEBANON",
          "LESOTHO",
          "LIBERIA",
          "LIBYA",
          "LIECHTENSTEIN",
          "LITHUANIA",
          "LUXEMBOURG",
          "MADAGASCAR",
          "MALAWI",
          "MALAYSIA",
          "MALDIVES",
          "MALTA",
          "MARSHALL ISLANDS",
          "MAURITANIA",
          "MAURITIUS",
          "MAYOTTE",
          "MEXICO",
          "MONACO",
          "MONGOLIA",
          "MOROCCO",
          "MOZAMBIQUE",
          "NAMIBIA",
          "NAURU",
          "NEPAL",
          "NETHERLANDS",
          "NEW CALEDONIA",
          "NEW ZEALAND",
          "NICARAGUA",
          "NIGER",
          "NIGERIA",
          "NORWAY",
          "OMAN",
          "PAKISTAN",
          "PANAMA",
          "PAPUA NEW GUINEA",
          "PARAGUAY",
          "PERU",
          "PHILIPPINES",
          "POLAND",
          "PORTUGAL",
          "PUERTO RICO",
          "QATAR",
          "REUNION",
          "ROMANIA",
          "RWANDA",
          "SAINT LUCIA",
          "SAN MARINO",
          "SAUDI ARABIA",
          "SENEGAL",
          "SERBIA",
          "SEYCHELLES",
          "SIERRA LEONE",
          "SINGAPORE",
          "SLOVAKIA",
          "SLOVENIA",
          "SOLOMON ISLANDS",
          "SOMALIA",
          "SOUTH AFRICA",
          "SPAIN",
          "SRI LANKA",
          "SUDAN",
          "SURINAME",
          "SWAZILAND",
          "SWEDEN",
          "SWITZERLAND",
          "TAJIKISTAN",
          "THAILAND",
          "TOGO",
          "TUNISIA",
          "TURKEY",
          "TURKMENISTAN",
          "UGANDA",
          "UKRAINE",
          "UNITED ARAB EMIRATES",
          "UNITED KINGDOM",
          "UNITED STATES",
          "URUGUAY",
          "UZBEKISTAN",
          "VANUATU",
          "VIET NAM",
          "YEMEN",
          "ZAMBIA",
          "ZIMBABWE",
          "ASIA (EX. NEAR EAST)         ",
          "BALTICS                            ",
          "C.W. OF IND. STATES ",
          "EASTERN EUROPE                     ",
          "LATIN AMER. & CARIB    ",
          "NEAR EAST                          ",
          "NORTHERN AFRICA                    ",
          "NORTHERN AMERICA                   ",
          "OCEANIA                            ",
          "SUB-SAHARAN AFRICA                 ",
          "WESTERN EUROPE                     ",
          "world"
         ],
         "marker": {
          "coloraxis": "coloraxis",
          "colors": [
           3966704,
           1198657,
           358187599,
           1987497,
           79208,
           62483235,
           4813090840,
           190015,
           47696,
           21584545899,
           2828942536,
           578543,
           441669982,
           1064146977,
           2440137,
           302038347,
           2919241602,
           1648593,
           2234012,
           1303880,
           25349,
           7933657457,
           148426409,
           21354987,
           673538,
           706371958,
           332206015,
           3272531399,
           128959,
           139172,
           1213,
           505269462,
           175416541976,
           471668906,
           334101,
           1406,
           101849284,
           1920610302,
           15476560,
           5323033,
           30066319,
           984265758,
           938094222.0000001,
           3058949,
           636444,
           11706760,
           517998570,
           543166239,
           10368671,
           247766,
           85302,
           35804200,
           6850174,
           195284,
           12977750,
           803825013,
           16626237476,
           239037129,
           69402086,
           26380358234,
           1014910413,
           65825262,
           98115,
           45901,
           168350,
           204400,
           48186966,
           45324628,
           174313,
           2144191,
           2722324,
           5240827,
           15140878814,
           717904147,
           1496362,
           26497011568.999996,
           40490259026,
           1385768951,
           4641980199,
           6688520557,
           4233543,
           63857511725.00001,
           275008302,
           36692170,
           24400804,
           8656153,
           1928453143,
           286907,
           61792480,
           23290206,
           371559,
           58956747,
           2066546154,
           84709,
           275197260,
           78759128,
           22867799,
           6108986,
           262153387,
           2424788,
           553371608,
           10047556,
           1640216,
           13084630,
           25980,
           1485174174,
           56237,
           2453754,
           95919674.99999999,
           39907597,
           84308206,
           59592,
           1182015,
           6772233739,
           322381,
           3334879026,
           29990990,
           21530,
           1144052404,
           936010103,
           2272821713,
           757464124,
           199335465,
           619884373,
           257216,
           454078126,
           9198999577,
           789947113,
           249258949.99999997,
           47362043,
           2731168757,
           1323279,
           144270583,
           89453527,
           188886,
           1127,
           17901324811,
           3637625,
           15148421,
           26485727,
           897608,
           103071082357,
           142900005,
           137186131,
           49021873,
           5496274,
           3069692296.9999995,
           2979668182,
           244550351,
           3345959,
           10893835,
           3661576,
           1817761496,
           10631751183,
           3046277,
           48623717038,
           32955507,
           104171888,
           1827451641,
           11404714,
           65151006,
           600621479,
           11670735873,
           6972337072,
           64947348925,
           26010057,
           13404089,
           12021381,
           19456974985,
           415152535.00000006,
           34101463,
           3101451,
           100778700914.44675,
           216832342.3757854,
           441814963.2225368,
           707437059.9759381,
           5351314712.413208,
           11703613449.13105,
           1488006899.7471085,
           61988697312.97375,
           18623306762.217216,
           1866881928.1840427,
           13754899795.725574,
           75076379799.39786
          ]
         },
         "name": "",
         "parents": [
          "world/ASIA (EX. NEAR EAST)         ",
          "world/EASTERN EUROPE                     ",
          "world/NORTHERN AFRICA                    ",
          "world/OCEANIA                            ",
          "world/WESTERN EUROPE                     ",
          "world/SUB-SAHARAN AFRICA                 ",
          "world/LATIN AMER. & CARIB    ",
          "world/C.W. OF IND. STATES ",
          "world/LATIN AMER. & CARIB    ",
          "world/OCEANIA                            ",
          "world/WESTERN EUROPE                     ",
          "world/C.W. OF IND. STATES ",
          "world/NEAR EAST                          ",
          "world/ASIA (EX. NEAR EAST)         ",
          "world/LATIN AMER. & CARIB    ",
          "world/C.W. OF IND. STATES ",
          "world/WESTERN EUROPE                     ",
          "world/LATIN AMER. & CARIB    ",
          "world/SUB-SAHARAN AFRICA                 ",
          "world/ASIA (EX. NEAR EAST)         ",
          "world/SUB-SAHARAN AFRICA                 ",
          "world/LATIN AMER. & CARIB    ",
          "world/EASTERN EUROPE                     ",
          "world/SUB-SAHARAN AFRICA                 ",
          "world/SUB-SAHARAN AFRICA                 ",
          "world/ASIA (EX. NEAR EAST)         ",
          "world/SUB-SAHARAN AFRICA                 ",
          "world/NORTHERN AMERICA                   ",
          "world/SUB-SAHARAN AFRICA                 ",
          "world/LATIN AMER. & CARIB    ",
          "world/SUB-SAHARAN AFRICA                 ",
          "world/LATIN AMER. & CARIB    ",
          "world/ASIA (EX. NEAR EAST)         ",
          "world/LATIN AMER. & CARIB    ",
          "world/SUB-SAHARAN AFRICA                 ",
          "world/OCEANIA                            ",
          "world/LATIN AMER. & CARIB    ",
          "world/SUB-SAHARAN AFRICA                 ",
          "world/EASTERN EUROPE                     ",
          "world/LATIN AMER. & CARIB    ",
          "world/NEAR EAST                          ",
          "world/EASTERN EUROPE                     ",
          "world/WESTERN EUROPE                     ",
          "world/SUB-SAHARAN AFRICA                 ",
          "world/LATIN AMER. & CARIB    ",
          "world/LATIN AMER. & CARIB    ",
          "world/LATIN AMER. & CARIB    ",
          "world/NORTHERN AFRICA                    ",
          "world/LATIN AMER. & CARIB    ",
          "world/SUB-SAHARAN AFRICA                 ",
          "world/SUB-SAHARAN AFRICA                 ",
          "world/BALTICS                            ",
          "world/SUB-SAHARAN AFRICA                 ",
          "world/WESTERN EUROPE                     ",
          "world/OCEANIA                            ",
          "world/WESTERN EUROPE                     ",
          "world/WESTERN EUROPE                     ",
          "world/SUB-SAHARAN AFRICA                 ",
          "world/C.W. OF IND. STATES ",
          "world/WESTERN EUROPE                     ",
          "world/SUB-SAHARAN AFRICA                 ",
          "world/WESTERN EUROPE                     ",
          "world/NORTHERN AMERICA                   ",
          "world/LATIN AMER. & CARIB    ",
          "world/LATIN AMER. & CARIB    ",
          "world/OCEANIA                            ",
          "world/LATIN AMER. & CARIB    ",
          "world/SUB-SAHARAN AFRICA                 ",
          "world/SUB-SAHARAN AFRICA                 ",
          "world/LATIN AMER. & CARIB    ",
          "world/LATIN AMER. & CARIB    ",
          "world/LATIN AMER. & CARIB    ",
          "world/ASIA (EX. NEAR EAST)         ",
          "world/EASTERN EUROPE                     ",
          "world/WESTERN EUROPE                     ",
          "world/ASIA (EX. NEAR EAST)         ",
          "world/ASIA (EX. NEAR EAST)         ",
          "world/NEAR EAST                          ",
          "world/WESTERN EUROPE                     ",
          "world/WESTERN EUROPE                     ",
          "world/LATIN AMER. & CARIB    ",
          "world/ASIA (EX. NEAR EAST)         ",
          "world/NEAR EAST                          ",
          "world/C.W. OF IND. STATES ",
          "world/SUB-SAHARAN AFRICA                 ",
          "world/OCEANIA                            ",
          "world/NEAR EAST                          ",
          "world/C.W. OF IND. STATES ",
          "world/BALTICS                            ",
          "world/NEAR EAST                          ",
          "world/SUB-SAHARAN AFRICA                 ",
          "world/SUB-SAHARAN AFRICA                 ",
          "world/NORTHERN AFRICA                    ",
          "world/WESTERN EUROPE                     ",
          "world/BALTICS                            ",
          "world/WESTERN EUROPE                     ",
          "world/SUB-SAHARAN AFRICA                 ",
          "world/SUB-SAHARAN AFRICA                 ",
          "world/ASIA (EX. NEAR EAST)         ",
          "world/ASIA (EX. NEAR EAST)         ",
          "world/WESTERN EUROPE                     ",
          "world/OCEANIA                            ",
          "world/SUB-SAHARAN AFRICA                 ",
          "world/SUB-SAHARAN AFRICA                 ",
          "world/SUB-SAHARAN AFRICA                 ",
          "world/LATIN AMER. & CARIB    ",
          "world/WESTERN EUROPE                     ",
          "world/ASIA (EX. NEAR EAST)         ",
          "world/NORTHERN AFRICA                    ",
          "world/SUB-SAHARAN AFRICA                 ",
          "world/SUB-SAHARAN AFRICA                 ",
          "world/OCEANIA                            ",
          "world/ASIA (EX. NEAR EAST)         ",
          "world/WESTERN EUROPE                     ",
          "world/OCEANIA                            ",
          "world/OCEANIA                            ",
          "world/LATIN AMER. & CARIB    ",
          "world/SUB-SAHARAN AFRICA                 ",
          "world/SUB-SAHARAN AFRICA                 ",
          "world/WESTERN EUROPE                     ",
          "world/NEAR EAST                          ",
          "world/ASIA (EX. NEAR EAST)         ",
          "world/LATIN AMER. & CARIB    ",
          "world/OCEANIA                            ",
          "world/LATIN AMER. & CARIB    ",
          "world/LATIN AMER. & CARIB    ",
          "world/ASIA (EX. NEAR EAST)         ",
          "world/EASTERN EUROPE                     ",
          "world/WESTERN EUROPE                     ",
          "world/LATIN AMER. & CARIB    ",
          "world/NEAR EAST                          ",
          "world/SUB-SAHARAN AFRICA                 ",
          "world/EASTERN EUROPE                     ",
          "world/SUB-SAHARAN AFRICA                 ",
          "world/LATIN AMER. & CARIB    ",
          "world/WESTERN EUROPE                     ",
          "world/NEAR EAST                          ",
          "world/SUB-SAHARAN AFRICA                 ",
          "world/EASTERN EUROPE                     ",
          "world/SUB-SAHARAN AFRICA                 ",
          "world/SUB-SAHARAN AFRICA                 ",
          "world/ASIA (EX. NEAR EAST)         ",
          "world/EASTERN EUROPE                     ",
          "world/EASTERN EUROPE                     ",
          "world/OCEANIA                            ",
          "world/SUB-SAHARAN AFRICA                 ",
          "world/SUB-SAHARAN AFRICA                 ",
          "world/WESTERN EUROPE                     ",
          "world/ASIA (EX. NEAR EAST)         ",
          "world/SUB-SAHARAN AFRICA                 ",
          "world/LATIN AMER. & CARIB    ",
          "world/SUB-SAHARAN AFRICA                 ",
          "world/WESTERN EUROPE                     ",
          "world/WESTERN EUROPE                     ",
          "world/C.W. OF IND. STATES ",
          "world/ASIA (EX. NEAR EAST)         ",
          "world/SUB-SAHARAN AFRICA                 ",
          "world/NORTHERN AFRICA                    ",
          "world/NEAR EAST                          ",
          "world/C.W. OF IND. STATES ",
          "world/SUB-SAHARAN AFRICA                 ",
          "world/C.W. OF IND. STATES ",
          "world/NEAR EAST                          ",
          "world/WESTERN EUROPE                     ",
          "world/NORTHERN AMERICA                   ",
          "world/LATIN AMER. & CARIB    ",
          "world/C.W. OF IND. STATES ",
          "world/OCEANIA                            ",
          "world/ASIA (EX. NEAR EAST)         ",
          "world/NEAR EAST                          ",
          "world/SUB-SAHARAN AFRICA                 ",
          "world/SUB-SAHARAN AFRICA                 ",
          "world",
          "world",
          "world",
          "world",
          "world",
          "world",
          "world",
          "world",
          "world",
          "world",
          "world",
          ""
         ],
         "type": "treemap",
         "values": [
          3966704,
          1198657,
          358187599,
          1987497,
          79208,
          62483235,
          4813090840,
          190015,
          47696,
          21584545899,
          2828942536,
          578543,
          441669982,
          1064146977,
          2440137,
          302038347,
          2919241602,
          1648593,
          2234012,
          1303880,
          25349,
          7933657457,
          148426409,
          21354987,
          673538,
          706371958,
          332206015,
          3272531399,
          128959,
          139172,
          1213,
          505269462,
          175416541976,
          471668906,
          334101,
          1406,
          101849284,
          1920610302,
          15476560,
          5323033,
          30066319,
          984265758,
          938094222,
          3058949,
          636444,
          11706760,
          517998570,
          543166239,
          10368671,
          247766,
          85302,
          35804200,
          6850174,
          195284,
          12977750,
          803825013,
          16626237476,
          239037129,
          69402086,
          26380358234,
          1014910413,
          65825262,
          98115,
          45901,
          168350,
          204400,
          48186966,
          45324628,
          174313,
          2144191,
          2722324,
          5240827,
          15140878814,
          717904147,
          1496362,
          26497011569,
          40490259026,
          1385768951,
          4641980199,
          6688520557,
          4233543,
          63857511725,
          275008302,
          36692170,
          24400804,
          8656153,
          1928453143,
          286907,
          61792480,
          23290206,
          371559,
          58956747,
          2066546154,
          84709,
          275197260,
          78759128,
          22867799,
          6108986,
          262153387,
          2424788,
          553371608,
          10047556,
          1640216,
          13084630,
          25980,
          1485174174,
          56237,
          2453754,
          95919675,
          39907597,
          84308206,
          59592,
          1182015,
          6772233739,
          322381,
          3334879026,
          29990990,
          21530,
          1144052404,
          936010103,
          2272821713,
          757464124,
          199335465,
          619884373,
          257216,
          454078126,
          9198999577,
          789947113,
          249258950,
          47362043,
          2731168757,
          1323279,
          144270583,
          89453527,
          188886,
          1127,
          17901324811,
          3637625,
          15148421,
          26485727,
          897608,
          103071082357,
          142900005,
          137186131,
          49021873,
          5496274,
          3069692297,
          2979668182,
          244550351,
          3345959,
          10893835,
          3661576,
          1817761496,
          10631751183,
          3046277,
          48623717038,
          32955507,
          104171888,
          1827451641,
          11404714,
          65151006,
          600621479,
          11670735873,
          6972337072,
          64947348925,
          26010057,
          13404089,
          12021381,
          19456974985,
          415152535,
          34101463,
          3101451,
          504798995005,
          372793940,
          1037664627,
          3096723784,
          16691877919,
          40902912233,
          3167991555,
          68219978439,
          25634609287,
          8384790142,
          92886089489,
          765194426420
         ]
        }
       ],
       "layout": {
        "coloraxis": {
         "colorbar": {
          "title": {
           "text": "total"
          }
         },
         "colorscale": [
          [
           0,
           "rgb(103,0,31)"
          ],
          [
           0.1,
           "rgb(178,24,43)"
          ],
          [
           0.2,
           "rgb(214,96,77)"
          ],
          [
           0.3,
           "rgb(244,165,130)"
          ],
          [
           0.4,
           "rgb(253,219,199)"
          ],
          [
           0.5,
           "rgb(247,247,247)"
          ],
          [
           0.6,
           "rgb(209,229,240)"
          ],
          [
           0.7,
           "rgb(146,197,222)"
          ],
          [
           0.8,
           "rgb(67,147,195)"
          ],
          [
           0.9,
           "rgb(33,102,172)"
          ],
          [
           1,
           "rgb(5,48,97)"
          ]
         ]
        },
        "legend": {
         "tracegroupgap": 0
        },
        "margin": {
         "t": 60
        },
        "template": {
         "data": {
          "bar": [
           {
            "error_x": {
             "color": "#2a3f5f"
            },
            "error_y": {
             "color": "#2a3f5f"
            },
            "marker": {
             "line": {
              "color": "#E5ECF6",
              "width": 0.5
             }
            },
            "type": "bar"
           }
          ],
          "barpolar": [
           {
            "marker": {
             "line": {
              "color": "#E5ECF6",
              "width": 0.5
             }
            },
            "type": "barpolar"
           }
          ],
          "carpet": [
           {
            "aaxis": {
             "endlinecolor": "#2a3f5f",
             "gridcolor": "white",
             "linecolor": "white",
             "minorgridcolor": "white",
             "startlinecolor": "#2a3f5f"
            },
            "baxis": {
             "endlinecolor": "#2a3f5f",
             "gridcolor": "white",
             "linecolor": "white",
             "minorgridcolor": "white",
             "startlinecolor": "#2a3f5f"
            },
            "type": "carpet"
           }
          ],
          "choropleth": [
           {
            "colorbar": {
             "outlinewidth": 0,
             "ticks": ""
            },
            "type": "choropleth"
           }
          ],
          "contour": [
           {
            "colorbar": {
             "outlinewidth": 0,
             "ticks": ""
            },
            "colorscale": [
             [
              0,
              "#0d0887"
             ],
             [
              0.1111111111111111,
              "#46039f"
             ],
             [
              0.2222222222222222,
              "#7201a8"
             ],
             [
              0.3333333333333333,
              "#9c179e"
             ],
             [
              0.4444444444444444,
              "#bd3786"
             ],
             [
              0.5555555555555556,
              "#d8576b"
             ],
             [
              0.6666666666666666,
              "#ed7953"
             ],
             [
              0.7777777777777778,
              "#fb9f3a"
             ],
             [
              0.8888888888888888,
              "#fdca26"
             ],
             [
              1,
              "#f0f921"
             ]
            ],
            "type": "contour"
           }
          ],
          "contourcarpet": [
           {
            "colorbar": {
             "outlinewidth": 0,
             "ticks": ""
            },
            "type": "contourcarpet"
           }
          ],
          "heatmap": [
           {
            "colorbar": {
             "outlinewidth": 0,
             "ticks": ""
            },
            "colorscale": [
             [
              0,
              "#0d0887"
             ],
             [
              0.1111111111111111,
              "#46039f"
             ],
             [
              0.2222222222222222,
              "#7201a8"
             ],
             [
              0.3333333333333333,
              "#9c179e"
             ],
             [
              0.4444444444444444,
              "#bd3786"
             ],
             [
              0.5555555555555556,
              "#d8576b"
             ],
             [
              0.6666666666666666,
              "#ed7953"
             ],
             [
              0.7777777777777778,
              "#fb9f3a"
             ],
             [
              0.8888888888888888,
              "#fdca26"
             ],
             [
              1,
              "#f0f921"
             ]
            ],
            "type": "heatmap"
           }
          ],
          "heatmapgl": [
           {
            "colorbar": {
             "outlinewidth": 0,
             "ticks": ""
            },
            "colorscale": [
             [
              0,
              "#0d0887"
             ],
             [
              0.1111111111111111,
              "#46039f"
             ],
             [
              0.2222222222222222,
              "#7201a8"
             ],
             [
              0.3333333333333333,
              "#9c179e"
             ],
             [
              0.4444444444444444,
              "#bd3786"
             ],
             [
              0.5555555555555556,
              "#d8576b"
             ],
             [
              0.6666666666666666,
              "#ed7953"
             ],
             [
              0.7777777777777778,
              "#fb9f3a"
             ],
             [
              0.8888888888888888,
              "#fdca26"
             ],
             [
              1,
              "#f0f921"
             ]
            ],
            "type": "heatmapgl"
           }
          ],
          "histogram": [
           {
            "marker": {
             "colorbar": {
              "outlinewidth": 0,
              "ticks": ""
             }
            },
            "type": "histogram"
           }
          ],
          "histogram2d": [
           {
            "colorbar": {
             "outlinewidth": 0,
             "ticks": ""
            },
            "colorscale": [
             [
              0,
              "#0d0887"
             ],
             [
              0.1111111111111111,
              "#46039f"
             ],
             [
              0.2222222222222222,
              "#7201a8"
             ],
             [
              0.3333333333333333,
              "#9c179e"
             ],
             [
              0.4444444444444444,
              "#bd3786"
             ],
             [
              0.5555555555555556,
              "#d8576b"
             ],
             [
              0.6666666666666666,
              "#ed7953"
             ],
             [
              0.7777777777777778,
              "#fb9f3a"
             ],
             [
              0.8888888888888888,
              "#fdca26"
             ],
             [
              1,
              "#f0f921"
             ]
            ],
            "type": "histogram2d"
           }
          ],
          "histogram2dcontour": [
           {
            "colorbar": {
             "outlinewidth": 0,
             "ticks": ""
            },
            "colorscale": [
             [
              0,
              "#0d0887"
             ],
             [
              0.1111111111111111,
              "#46039f"
             ],
             [
              0.2222222222222222,
              "#7201a8"
             ],
             [
              0.3333333333333333,
              "#9c179e"
             ],
             [
              0.4444444444444444,
              "#bd3786"
             ],
             [
              0.5555555555555556,
              "#d8576b"
             ],
             [
              0.6666666666666666,
              "#ed7953"
             ],
             [
              0.7777777777777778,
              "#fb9f3a"
             ],
             [
              0.8888888888888888,
              "#fdca26"
             ],
             [
              1,
              "#f0f921"
             ]
            ],
            "type": "histogram2dcontour"
           }
          ],
          "mesh3d": [
           {
            "colorbar": {
             "outlinewidth": 0,
             "ticks": ""
            },
            "type": "mesh3d"
           }
          ],
          "parcoords": [
           {
            "line": {
             "colorbar": {
              "outlinewidth": 0,
              "ticks": ""
             }
            },
            "type": "parcoords"
           }
          ],
          "pie": [
           {
            "automargin": true,
            "type": "pie"
           }
          ],
          "scatter": [
           {
            "marker": {
             "colorbar": {
              "outlinewidth": 0,
              "ticks": ""
             }
            },
            "type": "scatter"
           }
          ],
          "scatter3d": [
           {
            "line": {
             "colorbar": {
              "outlinewidth": 0,
              "ticks": ""
             }
            },
            "marker": {
             "colorbar": {
              "outlinewidth": 0,
              "ticks": ""
             }
            },
            "type": "scatter3d"
           }
          ],
          "scattercarpet": [
           {
            "marker": {
             "colorbar": {
              "outlinewidth": 0,
              "ticks": ""
             }
            },
            "type": "scattercarpet"
           }
          ],
          "scattergeo": [
           {
            "marker": {
             "colorbar": {
              "outlinewidth": 0,
              "ticks": ""
             }
            },
            "type": "scattergeo"
           }
          ],
          "scattergl": [
           {
            "marker": {
             "colorbar": {
              "outlinewidth": 0,
              "ticks": ""
             }
            },
            "type": "scattergl"
           }
          ],
          "scattermapbox": [
           {
            "marker": {
             "colorbar": {
              "outlinewidth": 0,
              "ticks": ""
             }
            },
            "type": "scattermapbox"
           }
          ],
          "scatterpolar": [
           {
            "marker": {
             "colorbar": {
              "outlinewidth": 0,
              "ticks": ""
             }
            },
            "type": "scatterpolar"
           }
          ],
          "scatterpolargl": [
           {
            "marker": {
             "colorbar": {
              "outlinewidth": 0,
              "ticks": ""
             }
            },
            "type": "scatterpolargl"
           }
          ],
          "scatterternary": [
           {
            "marker": {
             "colorbar": {
              "outlinewidth": 0,
              "ticks": ""
             }
            },
            "type": "scatterternary"
           }
          ],
          "surface": [
           {
            "colorbar": {
             "outlinewidth": 0,
             "ticks": ""
            },
            "colorscale": [
             [
              0,
              "#0d0887"
             ],
             [
              0.1111111111111111,
              "#46039f"
             ],
             [
              0.2222222222222222,
              "#7201a8"
             ],
             [
              0.3333333333333333,
              "#9c179e"
             ],
             [
              0.4444444444444444,
              "#bd3786"
             ],
             [
              0.5555555555555556,
              "#d8576b"
             ],
             [
              0.6666666666666666,
              "#ed7953"
             ],
             [
              0.7777777777777778,
              "#fb9f3a"
             ],
             [
              0.8888888888888888,
              "#fdca26"
             ],
             [
              1,
              "#f0f921"
             ]
            ],
            "type": "surface"
           }
          ],
          "table": [
           {
            "cells": {
             "fill": {
              "color": "#EBF0F8"
             },
             "line": {
              "color": "white"
             }
            },
            "header": {
             "fill": {
              "color": "#C8D4E3"
             },
             "line": {
              "color": "white"
             }
            },
            "type": "table"
           }
          ]
         },
         "layout": {
          "annotationdefaults": {
           "arrowcolor": "#2a3f5f",
           "arrowhead": 0,
           "arrowwidth": 1
          },
          "coloraxis": {
           "colorbar": {
            "outlinewidth": 0,
            "ticks": ""
           }
          },
          "colorscale": {
           "diverging": [
            [
             0,
             "#8e0152"
            ],
            [
             0.1,
             "#c51b7d"
            ],
            [
             0.2,
             "#de77ae"
            ],
            [
             0.3,
             "#f1b6da"
            ],
            [
             0.4,
             "#fde0ef"
            ],
            [
             0.5,
             "#f7f7f7"
            ],
            [
             0.6,
             "#e6f5d0"
            ],
            [
             0.7,
             "#b8e186"
            ],
            [
             0.8,
             "#7fbc41"
            ],
            [
             0.9,
             "#4d9221"
            ],
            [
             1,
             "#276419"
            ]
           ],
           "sequential": [
            [
             0,
             "#0d0887"
            ],
            [
             0.1111111111111111,
             "#46039f"
            ],
            [
             0.2222222222222222,
             "#7201a8"
            ],
            [
             0.3333333333333333,
             "#9c179e"
            ],
            [
             0.4444444444444444,
             "#bd3786"
            ],
            [
             0.5555555555555556,
             "#d8576b"
            ],
            [
             0.6666666666666666,
             "#ed7953"
            ],
            [
             0.7777777777777778,
             "#fb9f3a"
            ],
            [
             0.8888888888888888,
             "#fdca26"
            ],
            [
             1,
             "#f0f921"
            ]
           ],
           "sequentialminus": [
            [
             0,
             "#0d0887"
            ],
            [
             0.1111111111111111,
             "#46039f"
            ],
            [
             0.2222222222222222,
             "#7201a8"
            ],
            [
             0.3333333333333333,
             "#9c179e"
            ],
            [
             0.4444444444444444,
             "#bd3786"
            ],
            [
             0.5555555555555556,
             "#d8576b"
            ],
            [
             0.6666666666666666,
             "#ed7953"
            ],
            [
             0.7777777777777778,
             "#fb9f3a"
            ],
            [
             0.8888888888888888,
             "#fdca26"
            ],
            [
             1,
             "#f0f921"
            ]
           ]
          },
          "colorway": [
           "#636efa",
           "#EF553B",
           "#00cc96",
           "#ab63fa",
           "#FFA15A",
           "#19d3f3",
           "#FF6692",
           "#B6E880",
           "#FF97FF",
           "#FECB52"
          ],
          "font": {
           "color": "#2a3f5f"
          },
          "geo": {
           "bgcolor": "white",
           "lakecolor": "white",
           "landcolor": "#E5ECF6",
           "showlakes": true,
           "showland": true,
           "subunitcolor": "white"
          },
          "hoverlabel": {
           "align": "left"
          },
          "hovermode": "closest",
          "mapbox": {
           "style": "light"
          },
          "paper_bgcolor": "white",
          "plot_bgcolor": "#E5ECF6",
          "polar": {
           "angularaxis": {
            "gridcolor": "white",
            "linecolor": "white",
            "ticks": ""
           },
           "bgcolor": "#E5ECF6",
           "radialaxis": {
            "gridcolor": "white",
            "linecolor": "white",
            "ticks": ""
           }
          },
          "scene": {
           "xaxis": {
            "backgroundcolor": "#E5ECF6",
            "gridcolor": "white",
            "gridwidth": 2,
            "linecolor": "white",
            "showbackground": true,
            "ticks": "",
            "zerolinecolor": "white"
           },
           "yaxis": {
            "backgroundcolor": "#E5ECF6",
            "gridcolor": "white",
            "gridwidth": 2,
            "linecolor": "white",
            "showbackground": true,
            "ticks": "",
            "zerolinecolor": "white"
           },
           "zaxis": {
            "backgroundcolor": "#E5ECF6",
            "gridcolor": "white",
            "gridwidth": 2,
            "linecolor": "white",
            "showbackground": true,
            "ticks": "",
            "zerolinecolor": "white"
           }
          },
          "shapedefaults": {
           "line": {
            "color": "#2a3f5f"
           }
          },
          "ternary": {
           "aaxis": {
            "gridcolor": "white",
            "linecolor": "white",
            "ticks": ""
           },
           "baxis": {
            "gridcolor": "white",
            "linecolor": "white",
            "ticks": ""
           },
           "bgcolor": "#E5ECF6",
           "caxis": {
            "gridcolor": "white",
            "linecolor": "white",
            "ticks": ""
           }
          },
          "title": {
           "x": 0.05
          },
          "xaxis": {
           "automargin": true,
           "gridcolor": "white",
           "linecolor": "white",
           "ticks": "",
           "title": {
            "standoff": 15
           },
           "zerolinecolor": "white",
           "zerolinewidth": 2
          },
          "yaxis": {
           "automargin": true,
           "gridcolor": "white",
           "linecolor": "white",
           "ticks": "",
           "title": {
            "standoff": 15
           },
           "zerolinecolor": "white",
           "zerolinewidth": 2
          }
         }
        }
       }
      },
      "text/html": [
       "<div>                            <div id=\"eb8b204d-4c60-416e-b82f-29bb56c256a8\" class=\"plotly-graph-div\" style=\"height:525px; width:100%;\"></div>            <script type=\"text/javascript\">                require([\"plotly\"], function(Plotly) {                    window.PLOTLYENV=window.PLOTLYENV || {};                                    if (document.getElementById(\"eb8b204d-4c60-416e-b82f-29bb56c256a8\")) {                    Plotly.newPlot(                        \"eb8b204d-4c60-416e-b82f-29bb56c256a8\",                        [{\"branchvalues\": \"total\", \"customdata\": [[\"AFGHANISTAN\", 3966704.0], [\"ALBANIA\", 1198657.0], [\"ALGERIA\", 358187599.0], [\"AMERICAN SAMOA\", 1987497.0], [\"ANDORRA\", 79208.0], [\"ANGOLA\", 62483235.0], [\"ARGENTINA\", 4813090840.0], [\"ARMENIA\", 190015.0], [\"ARUBA\", 47696.0], [\"AUSTRALIA\", 21584545899.0], [\"AUSTRIA\", 2828942536.0], [\"AZERBAIJAN\", 578543.0], [\"BAHRAIN\", 441669982.0], [\"BANGLADESH\", 1064146977.0], [\"BARBADOS\", 2440137.0], [\"BELARUS\", 302038347.0], [\"BELGIUM\", 2919241602.0], [\"BELIZE\", 1648593.0], [\"BENIN\", 2234012.0], [\"BHUTAN\", 1303880.0], [\"BOTSWANA\", 25349.0], [\"BRAZIL\", 7933657457.0], [\"BULGARIA\", 148426409.0], [\"BURKINA FASO\", 21354987.0], [\"BURUNDI\", 673538.0], [\"CAMBODIA\", 706371958.0], [\"CAMEROON\", 332206015.0], [\"CANADA\", 3272531399.0], [\"CAPE VERDE\", 128959.0], [\"CAYMAN ISLANDS\", 139172.0], [\"CHAD\", 1213.0], [\"CHILE\", 505269462.0], [\"CHINA\", 175416541976.0], [\"COLOMBIA\", 471668906.0], [\"COMOROS\", 334101.0], [\"COOK ISLANDS\", 1406.0], [\"COSTA RICA\", 101849284.0], [\"COTE D'IVOIRE\", 1920610302.0], [\"CROATIA\", 15476560.0], [\"CUBA\", 5323033.0], [\"CYPRUS\", 30066319.0], [\"CZECH REPUBLIC\", 984265758.0], [\"DENMARK\", 938094222.0000001], [\"DJIBOUTI\", 3058949.0], [\"DOMINICA\", 636444.0], [\"DOMINICAN REPUBLIC\", 11706760.0], [\"ECUADOR\", 517998570.0], [\"EGYPT\", 543166239.0], [\"EL SALVADOR\", 10368671.0], [\"EQUATORIAL GUINEA\", 247766.0], [\"ERITREA\", 85302.0], [\"ESTONIA\", 35804200.0], [\"ETHIOPIA\", 6850174.0], [\"FAROE ISLANDS\", 195284.0], [\"FIJI\", 12977750.0], [\"FINLAND\", 803825013.0], [\"FRANCE\", 16626237476.0], [\"GABON\", 239037129.0], [\"GEORGIA\", 69402086.0], [\"GERMANY\", 26380358234.0], [\"GHANA\", 1014910413.0], [\"GREECE\", 65825262.0], [\"GREENLAND\", 98115.0], [\"GRENADA\", 45901.0], [\"GUADELOUPE\", 168350.0], [\"GUAM\", 204400.0], [\"GUATEMALA\", 48186966.0], [\"GUINEA\", 45324628.0], [\"GUINEA-BISSAU\", 174313.0], [\"GUYANA\", 2144191.0], [\"HAITI\", 2722324.0], [\"HONDURAS\", 5240827.0], [\"HONG KONG\", 15140878814.0], [\"HUNGARY\", 717904147.0], [\"ICELAND\", 1496362.0], [\"INDIA\", 26497011568.999996], [\"INDONESIA\", 40490259026.0], [\"IRAQ\", 1385768951.0], [\"IRELAND\", 4641980199.0], [\"ITALY\", 6688520557.0], [\"JAMAICA\", 4233543.0], [\"JAPAN\", 63857511725.00001], [\"JORDAN\", 275008302.0], [\"KAZAKHSTAN\", 36692170.0], [\"KENYA\", 24400804.0], [\"KIRIBATI\", 8656153.0], [\"KUWAIT\", 1928453143.0], [\"KYRGYZSTAN\", 286907.0], [\"LATVIA\", 61792480.0], [\"LEBANON\", 23290206.0], [\"LESOTHO\", 371559.0], [\"LIBERIA\", 58956747.0], [\"LIBYA\", 2066546154.0], [\"LIECHTENSTEIN\", 84709.0], [\"LITHUANIA\", 275197260.0], [\"LUXEMBOURG\", 78759128.0], [\"MADAGASCAR\", 22867799.0], [\"MALAWI\", 6108986.0], [\"MALAYSIA\", 262153387.0], [\"MALDIVES\", 2424788.0], [\"MALTA\", 553371608.0], [\"MARSHALL ISLANDS\", 10047556.0], [\"MAURITANIA\", 1640216.0], [\"MAURITIUS\", 13084630.0], [\"MAYOTTE\", 25980.0], [\"MEXICO\", 1485174174.0], [\"MONACO\", 56237.0], [\"MONGOLIA\", 2453754.0], [\"MOROCCO\", 95919674.99999999], [\"MOZAMBIQUE\", 39907597.0], [\"NAMIBIA\", 84308206.0], [\"NAURU\", 59592.0], [\"NEPAL\", 1182015.0], [\"NETHERLANDS\", 6772233739.0], [\"NEW CALEDONIA\", 322381.0], [\"NEW ZEALAND\", 3334879026.0], [\"NICARAGUA\", 29990990.0], [\"NIGER\", 21530.0], [\"NIGERIA\", 1144052404.0], [\"NORWAY\", 936010103.0], [\"OMAN\", 2272821713.0], [\"PAKISTAN\", 757464124.0], [\"PANAMA\", 199335465.0], [\"PAPUA NEW GUINEA\", 619884373.0], [\"PARAGUAY\", 257216.0], [\"PERU\", 454078126.0], [\"PHILIPPINES\", 9198999577.0], [\"POLAND\", 789947113.0], [\"PORTUGAL\", 249258949.99999997], [\"PUERTO RICO\", 47362043.0], [\"QATAR\", 2731168757.0], [\"REUNION\", 1323279.0], [\"ROMANIA\", 144270583.0], [\"RWANDA\", 89453527.0], [\"SAINT LUCIA\", 188886.0], [\"SAN MARINO\", 1127.0], [\"SAUDI ARABIA\", 17901324811.0], [\"SENEGAL\", 3637625.0], [\"SERBIA\", 15148421.0], [\"SEYCHELLES\", 26485727.0], [\"SIERRA LEONE\", 897608.0], [\"SINGAPORE\", 103071082357.0], [\"SLOVAKIA\", 142900005.0], [\"SLOVENIA\", 137186131.0], [\"SOLOMON ISLANDS\", 49021873.0], [\"SOMALIA\", 5496274.0], [\"SOUTH AFRICA\", 3069692296.9999995], [\"SPAIN\", 2979668182.0], [\"SRI LANKA\", 244550351.0], [\"SUDAN\", 3345959.0], [\"SURINAME\", 10893835.0], [\"SWAZILAND\", 3661576.0], [\"SWEDEN\", 1817761496.0], [\"SWITZERLAND\", 10631751183.0], [\"TAJIKISTAN\", 3046277.0], [\"THAILAND\", 48623717038.0], [\"TOGO\", 32955507.0], [\"TUNISIA\", 104171888.0], [\"TURKEY\", 1827451641.0], [\"TURKMENISTAN\", 11404714.0], [\"UGANDA\", 65151006.0], [\"UKRAINE\", 600621479.0], [\"UNITED ARAB EMIRATES\", 11670735873.0], [\"UNITED KINGDOM\", 6972337072.0], [\"UNITED STATES\", 64947348925.0], [\"URUGUAY\", 26010057.0], [\"UZBEKISTAN\", 13404089.0], [\"VANUATU\", 12021381.0], [\"VIET NAM\", 19456974985.0], [\"YEMEN\", 415152535.00000006], [\"ZAMBIA\", 34101463.0], [\"ZIMBABWE\", 3101451.0], [\"(?)\", 100778700914.44675], [\"(?)\", 216832342.3757854], [\"(?)\", 441814963.2225368], [\"(?)\", 707437059.9759381], [\"(?)\", 5351314712.413208], [\"(?)\", 11703613449.13105], [\"(?)\", 1488006899.7471085], [\"(?)\", 61988697312.97375], [\"(?)\", 18623306762.217216], [\"(?)\", 1866881928.1840427], [\"(?)\", 13754899795.725574], [\"(?)\", 75076379799.39786]], \"domain\": {\"x\": [0.0, 1.0], \"y\": [0.0, 1.0]}, \"hovertemplate\": \"labels=%{label}<br>total_sum=%{value}<br>parent=%{parent}<br>id=%{id}<br>COUNTRY=%{customdata[0]}<br>total=%{color}<extra></extra>\", \"ids\": [\"world/ASIA (EX. NEAR EAST)         /AFGHANISTAN\", \"world/EASTERN EUROPE                     /ALBANIA\", \"world/NORTHERN AFRICA                    /ALGERIA\", \"world/OCEANIA                            /AMERICAN SAMOA\", \"world/WESTERN EUROPE                     /ANDORRA\", \"world/SUB-SAHARAN AFRICA                 /ANGOLA\", \"world/LATIN AMER. & CARIB    /ARGENTINA\", \"world/C.W. OF IND. STATES /ARMENIA\", \"world/LATIN AMER. & CARIB    /ARUBA\", \"world/OCEANIA                            /AUSTRALIA\", \"world/WESTERN EUROPE                     /AUSTRIA\", \"world/C.W. OF IND. STATES /AZERBAIJAN\", \"world/NEAR EAST                          /BAHRAIN\", \"world/ASIA (EX. NEAR EAST)         /BANGLADESH\", \"world/LATIN AMER. & CARIB    /BARBADOS\", \"world/C.W. OF IND. STATES /BELARUS\", \"world/WESTERN EUROPE                     /BELGIUM\", \"world/LATIN AMER. & CARIB    /BELIZE\", \"world/SUB-SAHARAN AFRICA                 /BENIN\", \"world/ASIA (EX. NEAR EAST)         /BHUTAN\", \"world/SUB-SAHARAN AFRICA                 /BOTSWANA\", \"world/LATIN AMER. & CARIB    /BRAZIL\", \"world/EASTERN EUROPE                     /BULGARIA\", \"world/SUB-SAHARAN AFRICA                 /BURKINA FASO\", \"world/SUB-SAHARAN AFRICA                 /BURUNDI\", \"world/ASIA (EX. NEAR EAST)         /CAMBODIA\", \"world/SUB-SAHARAN AFRICA                 /CAMEROON\", \"world/NORTHERN AMERICA                   /CANADA\", \"world/SUB-SAHARAN AFRICA                 /CAPE VERDE\", \"world/LATIN AMER. & CARIB    /CAYMAN ISLANDS\", \"world/SUB-SAHARAN AFRICA                 /CHAD\", \"world/LATIN AMER. & CARIB    /CHILE\", \"world/ASIA (EX. NEAR EAST)         /CHINA\", \"world/LATIN AMER. & CARIB    /COLOMBIA\", \"world/SUB-SAHARAN AFRICA                 /COMOROS\", \"world/OCEANIA                            /COOK ISLANDS\", \"world/LATIN AMER. & CARIB    /COSTA RICA\", \"world/SUB-SAHARAN AFRICA                 /COTE D'IVOIRE\", \"world/EASTERN EUROPE                     /CROATIA\", \"world/LATIN AMER. & CARIB    /CUBA\", \"world/NEAR EAST                          /CYPRUS\", \"world/EASTERN EUROPE                     /CZECH REPUBLIC\", \"world/WESTERN EUROPE                     /DENMARK\", \"world/SUB-SAHARAN AFRICA                 /DJIBOUTI\", \"world/LATIN AMER. & CARIB    /DOMINICA\", \"world/LATIN AMER. & CARIB    /DOMINICAN REPUBLIC\", \"world/LATIN AMER. & CARIB    /ECUADOR\", \"world/NORTHERN AFRICA                    /EGYPT\", \"world/LATIN AMER. & CARIB    /EL SALVADOR\", \"world/SUB-SAHARAN AFRICA                 /EQUATORIAL GUINEA\", \"world/SUB-SAHARAN AFRICA                 /ERITREA\", \"world/BALTICS                            /ESTONIA\", \"world/SUB-SAHARAN AFRICA                 /ETHIOPIA\", \"world/WESTERN EUROPE                     /FAROE ISLANDS\", \"world/OCEANIA                            /FIJI\", \"world/WESTERN EUROPE                     /FINLAND\", \"world/WESTERN EUROPE                     /FRANCE\", \"world/SUB-SAHARAN AFRICA                 /GABON\", \"world/C.W. OF IND. STATES /GEORGIA\", \"world/WESTERN EUROPE                     /GERMANY\", \"world/SUB-SAHARAN AFRICA                 /GHANA\", \"world/WESTERN EUROPE                     /GREECE\", \"world/NORTHERN AMERICA                   /GREENLAND\", \"world/LATIN AMER. & CARIB    /GRENADA\", \"world/LATIN AMER. & CARIB    /GUADELOUPE\", \"world/OCEANIA                            /GUAM\", \"world/LATIN AMER. & CARIB    /GUATEMALA\", \"world/SUB-SAHARAN AFRICA                 /GUINEA\", \"world/SUB-SAHARAN AFRICA                 /GUINEA-BISSAU\", \"world/LATIN AMER. & CARIB    /GUYANA\", \"world/LATIN AMER. & CARIB    /HAITI\", \"world/LATIN AMER. & CARIB    /HONDURAS\", \"world/ASIA (EX. NEAR EAST)         /HONG KONG\", \"world/EASTERN EUROPE                     /HUNGARY\", \"world/WESTERN EUROPE                     /ICELAND\", \"world/ASIA (EX. NEAR EAST)         /INDIA\", \"world/ASIA (EX. NEAR EAST)         /INDONESIA\", \"world/NEAR EAST                          /IRAQ\", \"world/WESTERN EUROPE                     /IRELAND\", \"world/WESTERN EUROPE                     /ITALY\", \"world/LATIN AMER. & CARIB    /JAMAICA\", \"world/ASIA (EX. NEAR EAST)         /JAPAN\", \"world/NEAR EAST                          /JORDAN\", \"world/C.W. OF IND. STATES /KAZAKHSTAN\", \"world/SUB-SAHARAN AFRICA                 /KENYA\", \"world/OCEANIA                            /KIRIBATI\", \"world/NEAR EAST                          /KUWAIT\", \"world/C.W. OF IND. STATES /KYRGYZSTAN\", \"world/BALTICS                            /LATVIA\", \"world/NEAR EAST                          /LEBANON\", \"world/SUB-SAHARAN AFRICA                 /LESOTHO\", \"world/SUB-SAHARAN AFRICA                 /LIBERIA\", \"world/NORTHERN AFRICA                    /LIBYA\", \"world/WESTERN EUROPE                     /LIECHTENSTEIN\", \"world/BALTICS                            /LITHUANIA\", \"world/WESTERN EUROPE                     /LUXEMBOURG\", \"world/SUB-SAHARAN AFRICA                 /MADAGASCAR\", \"world/SUB-SAHARAN AFRICA                 /MALAWI\", \"world/ASIA (EX. NEAR EAST)         /MALAYSIA\", \"world/ASIA (EX. NEAR EAST)         /MALDIVES\", \"world/WESTERN EUROPE                     /MALTA\", \"world/OCEANIA                            /MARSHALL ISLANDS\", \"world/SUB-SAHARAN AFRICA                 /MAURITANIA\", \"world/SUB-SAHARAN AFRICA                 /MAURITIUS\", \"world/SUB-SAHARAN AFRICA                 /MAYOTTE\", \"world/LATIN AMER. & CARIB    /MEXICO\", \"world/WESTERN EUROPE                     /MONACO\", \"world/ASIA (EX. NEAR EAST)         /MONGOLIA\", \"world/NORTHERN AFRICA                    /MOROCCO\", \"world/SUB-SAHARAN AFRICA                 /MOZAMBIQUE\", \"world/SUB-SAHARAN AFRICA                 /NAMIBIA\", \"world/OCEANIA                            /NAURU\", \"world/ASIA (EX. NEAR EAST)         /NEPAL\", \"world/WESTERN EUROPE                     /NETHERLANDS\", \"world/OCEANIA                            /NEW CALEDONIA\", \"world/OCEANIA                            /NEW ZEALAND\", \"world/LATIN AMER. & CARIB    /NICARAGUA\", \"world/SUB-SAHARAN AFRICA                 /NIGER\", \"world/SUB-SAHARAN AFRICA                 /NIGERIA\", \"world/WESTERN EUROPE                     /NORWAY\", \"world/NEAR EAST                          /OMAN\", \"world/ASIA (EX. NEAR EAST)         /PAKISTAN\", \"world/LATIN AMER. & CARIB    /PANAMA\", \"world/OCEANIA                            /PAPUA NEW GUINEA\", \"world/LATIN AMER. & CARIB    /PARAGUAY\", \"world/LATIN AMER. & CARIB    /PERU\", \"world/ASIA (EX. NEAR EAST)         /PHILIPPINES\", \"world/EASTERN EUROPE                     /POLAND\", \"world/WESTERN EUROPE                     /PORTUGAL\", \"world/LATIN AMER. & CARIB    /PUERTO RICO\", \"world/NEAR EAST                          /QATAR\", \"world/SUB-SAHARAN AFRICA                 /REUNION\", \"world/EASTERN EUROPE                     /ROMANIA\", \"world/SUB-SAHARAN AFRICA                 /RWANDA\", \"world/LATIN AMER. & CARIB    /SAINT LUCIA\", \"world/WESTERN EUROPE                     /SAN MARINO\", \"world/NEAR EAST                          /SAUDI ARABIA\", \"world/SUB-SAHARAN AFRICA                 /SENEGAL\", \"world/EASTERN EUROPE                     /SERBIA\", \"world/SUB-SAHARAN AFRICA                 /SEYCHELLES\", \"world/SUB-SAHARAN AFRICA                 /SIERRA LEONE\", \"world/ASIA (EX. NEAR EAST)         /SINGAPORE\", \"world/EASTERN EUROPE                     /SLOVAKIA\", \"world/EASTERN EUROPE                     /SLOVENIA\", \"world/OCEANIA                            /SOLOMON ISLANDS\", \"world/SUB-SAHARAN AFRICA                 /SOMALIA\", \"world/SUB-SAHARAN AFRICA                 /SOUTH AFRICA\", \"world/WESTERN EUROPE                     /SPAIN\", \"world/ASIA (EX. NEAR EAST)         /SRI LANKA\", \"world/SUB-SAHARAN AFRICA                 /SUDAN\", \"world/LATIN AMER. & CARIB    /SURINAME\", \"world/SUB-SAHARAN AFRICA                 /SWAZILAND\", \"world/WESTERN EUROPE                     /SWEDEN\", \"world/WESTERN EUROPE                     /SWITZERLAND\", \"world/C.W. OF IND. STATES /TAJIKISTAN\", \"world/ASIA (EX. NEAR EAST)         /THAILAND\", \"world/SUB-SAHARAN AFRICA                 /TOGO\", \"world/NORTHERN AFRICA                    /TUNISIA\", \"world/NEAR EAST                          /TURKEY\", \"world/C.W. OF IND. STATES /TURKMENISTAN\", \"world/SUB-SAHARAN AFRICA                 /UGANDA\", \"world/C.W. OF IND. STATES /UKRAINE\", \"world/NEAR EAST                          /UNITED ARAB EMIRATES\", \"world/WESTERN EUROPE                     /UNITED KINGDOM\", \"world/NORTHERN AMERICA                   /UNITED STATES\", \"world/LATIN AMER. & CARIB    /URUGUAY\", \"world/C.W. OF IND. STATES /UZBEKISTAN\", \"world/OCEANIA                            /VANUATU\", \"world/ASIA (EX. NEAR EAST)         /VIET NAM\", \"world/NEAR EAST                          /YEMEN\", \"world/SUB-SAHARAN AFRICA                 /ZAMBIA\", \"world/SUB-SAHARAN AFRICA                 /ZIMBABWE\", \"world/ASIA (EX. NEAR EAST)         \", \"world/BALTICS                            \", \"world/C.W. OF IND. STATES \", \"world/EASTERN EUROPE                     \", \"world/LATIN AMER. & CARIB    \", \"world/NEAR EAST                          \", \"world/NORTHERN AFRICA                    \", \"world/NORTHERN AMERICA                   \", \"world/OCEANIA                            \", \"world/SUB-SAHARAN AFRICA                 \", \"world/WESTERN EUROPE                     \", \"world\"], \"labels\": [\"AFGHANISTAN\", \"ALBANIA\", \"ALGERIA\", \"AMERICAN SAMOA\", \"ANDORRA\", \"ANGOLA\", \"ARGENTINA\", \"ARMENIA\", \"ARUBA\", \"AUSTRALIA\", \"AUSTRIA\", \"AZERBAIJAN\", \"BAHRAIN\", \"BANGLADESH\", \"BARBADOS\", \"BELARUS\", \"BELGIUM\", \"BELIZE\", \"BENIN\", \"BHUTAN\", \"BOTSWANA\", \"BRAZIL\", \"BULGARIA\", \"BURKINA FASO\", \"BURUNDI\", \"CAMBODIA\", \"CAMEROON\", \"CANADA\", \"CAPE VERDE\", \"CAYMAN ISLANDS\", \"CHAD\", \"CHILE\", \"CHINA\", \"COLOMBIA\", \"COMOROS\", \"COOK ISLANDS\", \"COSTA RICA\", \"COTE D'IVOIRE\", \"CROATIA\", \"CUBA\", \"CYPRUS\", \"CZECH REPUBLIC\", \"DENMARK\", \"DJIBOUTI\", \"DOMINICA\", \"DOMINICAN REPUBLIC\", \"ECUADOR\", \"EGYPT\", \"EL SALVADOR\", \"EQUATORIAL GUINEA\", \"ERITREA\", \"ESTONIA\", \"ETHIOPIA\", \"FAROE ISLANDS\", \"FIJI\", \"FINLAND\", \"FRANCE\", \"GABON\", \"GEORGIA\", \"GERMANY\", \"GHANA\", \"GREECE\", \"GREENLAND\", \"GRENADA\", \"GUADELOUPE\", \"GUAM\", \"GUATEMALA\", \"GUINEA\", \"GUINEA-BISSAU\", \"GUYANA\", \"HAITI\", \"HONDURAS\", \"HONG KONG\", \"HUNGARY\", \"ICELAND\", \"INDIA\", \"INDONESIA\", \"IRAQ\", \"IRELAND\", \"ITALY\", \"JAMAICA\", \"JAPAN\", \"JORDAN\", \"KAZAKHSTAN\", \"KENYA\", \"KIRIBATI\", \"KUWAIT\", \"KYRGYZSTAN\", \"LATVIA\", \"LEBANON\", \"LESOTHO\", \"LIBERIA\", \"LIBYA\", \"LIECHTENSTEIN\", \"LITHUANIA\", \"LUXEMBOURG\", \"MADAGASCAR\", \"MALAWI\", \"MALAYSIA\", \"MALDIVES\", \"MALTA\", \"MARSHALL ISLANDS\", \"MAURITANIA\", \"MAURITIUS\", \"MAYOTTE\", \"MEXICO\", \"MONACO\", \"MONGOLIA\", \"MOROCCO\", \"MOZAMBIQUE\", \"NAMIBIA\", \"NAURU\", \"NEPAL\", \"NETHERLANDS\", \"NEW CALEDONIA\", \"NEW ZEALAND\", \"NICARAGUA\", \"NIGER\", \"NIGERIA\", \"NORWAY\", \"OMAN\", \"PAKISTAN\", \"PANAMA\", \"PAPUA NEW GUINEA\", \"PARAGUAY\", \"PERU\", \"PHILIPPINES\", \"POLAND\", \"PORTUGAL\", \"PUERTO RICO\", \"QATAR\", \"REUNION\", \"ROMANIA\", \"RWANDA\", \"SAINT LUCIA\", \"SAN MARINO\", \"SAUDI ARABIA\", \"SENEGAL\", \"SERBIA\", \"SEYCHELLES\", \"SIERRA LEONE\", \"SINGAPORE\", \"SLOVAKIA\", \"SLOVENIA\", \"SOLOMON ISLANDS\", \"SOMALIA\", \"SOUTH AFRICA\", \"SPAIN\", \"SRI LANKA\", \"SUDAN\", \"SURINAME\", \"SWAZILAND\", \"SWEDEN\", \"SWITZERLAND\", \"TAJIKISTAN\", \"THAILAND\", \"TOGO\", \"TUNISIA\", \"TURKEY\", \"TURKMENISTAN\", \"UGANDA\", \"UKRAINE\", \"UNITED ARAB EMIRATES\", \"UNITED KINGDOM\", \"UNITED STATES\", \"URUGUAY\", \"UZBEKISTAN\", \"VANUATU\", \"VIET NAM\", \"YEMEN\", \"ZAMBIA\", \"ZIMBABWE\", \"ASIA (EX. NEAR EAST)         \", \"BALTICS                            \", \"C.W. OF IND. STATES \", \"EASTERN EUROPE                     \", \"LATIN AMER. & CARIB    \", \"NEAR EAST                          \", \"NORTHERN AFRICA                    \", \"NORTHERN AMERICA                   \", \"OCEANIA                            \", \"SUB-SAHARAN AFRICA                 \", \"WESTERN EUROPE                     \", \"world\"], \"marker\": {\"coloraxis\": \"coloraxis\", \"colors\": [3966704.0, 1198657.0, 358187599.0, 1987497.0, 79208.0, 62483235.0, 4813090840.0, 190015.0, 47696.0, 21584545899.0, 2828942536.0, 578543.0, 441669982.0, 1064146977.0, 2440137.0, 302038347.0, 2919241602.0, 1648593.0, 2234012.0, 1303880.0, 25349.0, 7933657457.0, 148426409.0, 21354987.0, 673538.0, 706371958.0, 332206015.0, 3272531399.0, 128959.0, 139172.0, 1213.0, 505269462.0, 175416541976.0, 471668906.0, 334101.0, 1406.0, 101849284.0, 1920610302.0, 15476560.0, 5323033.0, 30066319.0, 984265758.0, 938094222.0000001, 3058949.0, 636444.0, 11706760.0, 517998570.0, 543166239.0, 10368671.0, 247766.0, 85302.0, 35804200.0, 6850174.0, 195284.0, 12977750.0, 803825013.0, 16626237476.0, 239037129.0, 69402086.0, 26380358234.0, 1014910413.0, 65825262.0, 98115.0, 45901.0, 168350.0, 204400.0, 48186966.0, 45324628.0, 174313.0, 2144191.0, 2722324.0, 5240827.0, 15140878814.0, 717904147.0, 1496362.0, 26497011568.999996, 40490259026.0, 1385768951.0, 4641980199.0, 6688520557.0, 4233543.0, 63857511725.00001, 275008302.0, 36692170.0, 24400804.0, 8656153.0, 1928453143.0, 286907.0, 61792480.0, 23290206.0, 371559.0, 58956747.0, 2066546154.0, 84709.0, 275197260.0, 78759128.0, 22867799.0, 6108986.0, 262153387.0, 2424788.0, 553371608.0, 10047556.0, 1640216.0, 13084630.0, 25980.0, 1485174174.0, 56237.0, 2453754.0, 95919674.99999999, 39907597.0, 84308206.0, 59592.0, 1182015.0, 6772233739.0, 322381.0, 3334879026.0, 29990990.0, 21530.0, 1144052404.0, 936010103.0, 2272821713.0, 757464124.0, 199335465.0, 619884373.0, 257216.0, 454078126.0, 9198999577.0, 789947113.0, 249258949.99999997, 47362043.0, 2731168757.0, 1323279.0, 144270583.0, 89453527.0, 188886.0, 1127.0, 17901324811.0, 3637625.0, 15148421.0, 26485727.0, 897608.0, 103071082357.0, 142900005.0, 137186131.0, 49021873.0, 5496274.0, 3069692296.9999995, 2979668182.0, 244550351.0, 3345959.0, 10893835.0, 3661576.0, 1817761496.0, 10631751183.0, 3046277.0, 48623717038.0, 32955507.0, 104171888.0, 1827451641.0, 11404714.0, 65151006.0, 600621479.0, 11670735873.0, 6972337072.0, 64947348925.0, 26010057.0, 13404089.0, 12021381.0, 19456974985.0, 415152535.00000006, 34101463.0, 3101451.0, 100778700914.44675, 216832342.3757854, 441814963.2225368, 707437059.9759381, 5351314712.413208, 11703613449.13105, 1488006899.7471085, 61988697312.97375, 18623306762.217216, 1866881928.1840427, 13754899795.725574, 75076379799.39786]}, \"name\": \"\", \"parents\": [\"world/ASIA (EX. NEAR EAST)         \", \"world/EASTERN EUROPE                     \", \"world/NORTHERN AFRICA                    \", \"world/OCEANIA                            \", \"world/WESTERN EUROPE                     \", \"world/SUB-SAHARAN AFRICA                 \", \"world/LATIN AMER. & CARIB    \", \"world/C.W. OF IND. STATES \", \"world/LATIN AMER. & CARIB    \", \"world/OCEANIA                            \", \"world/WESTERN EUROPE                     \", \"world/C.W. OF IND. STATES \", \"world/NEAR EAST                          \", \"world/ASIA (EX. NEAR EAST)         \", \"world/LATIN AMER. & CARIB    \", \"world/C.W. OF IND. STATES \", \"world/WESTERN EUROPE                     \", \"world/LATIN AMER. & CARIB    \", \"world/SUB-SAHARAN AFRICA                 \", \"world/ASIA (EX. NEAR EAST)         \", \"world/SUB-SAHARAN AFRICA                 \", \"world/LATIN AMER. & CARIB    \", \"world/EASTERN EUROPE                     \", \"world/SUB-SAHARAN AFRICA                 \", \"world/SUB-SAHARAN AFRICA                 \", \"world/ASIA (EX. NEAR EAST)         \", \"world/SUB-SAHARAN AFRICA                 \", \"world/NORTHERN AMERICA                   \", \"world/SUB-SAHARAN AFRICA                 \", \"world/LATIN AMER. & CARIB    \", \"world/SUB-SAHARAN AFRICA                 \", \"world/LATIN AMER. & CARIB    \", \"world/ASIA (EX. NEAR EAST)         \", \"world/LATIN AMER. & CARIB    \", \"world/SUB-SAHARAN AFRICA                 \", \"world/OCEANIA                            \", \"world/LATIN AMER. & CARIB    \", \"world/SUB-SAHARAN AFRICA                 \", \"world/EASTERN EUROPE                     \", \"world/LATIN AMER. & CARIB    \", \"world/NEAR EAST                          \", \"world/EASTERN EUROPE                     \", \"world/WESTERN EUROPE                     \", \"world/SUB-SAHARAN AFRICA                 \", \"world/LATIN AMER. & CARIB    \", \"world/LATIN AMER. & CARIB    \", \"world/LATIN AMER. & CARIB    \", \"world/NORTHERN AFRICA                    \", \"world/LATIN AMER. & CARIB    \", \"world/SUB-SAHARAN AFRICA                 \", \"world/SUB-SAHARAN AFRICA                 \", \"world/BALTICS                            \", \"world/SUB-SAHARAN AFRICA                 \", \"world/WESTERN EUROPE                     \", \"world/OCEANIA                            \", \"world/WESTERN EUROPE                     \", \"world/WESTERN EUROPE                     \", \"world/SUB-SAHARAN AFRICA                 \", \"world/C.W. OF IND. STATES \", \"world/WESTERN EUROPE                     \", \"world/SUB-SAHARAN AFRICA                 \", \"world/WESTERN EUROPE                     \", \"world/NORTHERN AMERICA                   \", \"world/LATIN AMER. & CARIB    \", \"world/LATIN AMER. & CARIB    \", \"world/OCEANIA                            \", \"world/LATIN AMER. & CARIB    \", \"world/SUB-SAHARAN AFRICA                 \", \"world/SUB-SAHARAN AFRICA                 \", \"world/LATIN AMER. & CARIB    \", \"world/LATIN AMER. & CARIB    \", \"world/LATIN AMER. & CARIB    \", \"world/ASIA (EX. NEAR EAST)         \", \"world/EASTERN EUROPE                     \", \"world/WESTERN EUROPE                     \", \"world/ASIA (EX. NEAR EAST)         \", \"world/ASIA (EX. NEAR EAST)         \", \"world/NEAR EAST                          \", \"world/WESTERN EUROPE                     \", \"world/WESTERN EUROPE                     \", \"world/LATIN AMER. & CARIB    \", \"world/ASIA (EX. NEAR EAST)         \", \"world/NEAR EAST                          \", \"world/C.W. OF IND. STATES \", \"world/SUB-SAHARAN AFRICA                 \", \"world/OCEANIA                            \", \"world/NEAR EAST                          \", \"world/C.W. OF IND. STATES \", \"world/BALTICS                            \", \"world/NEAR EAST                          \", \"world/SUB-SAHARAN AFRICA                 \", \"world/SUB-SAHARAN AFRICA                 \", \"world/NORTHERN AFRICA                    \", \"world/WESTERN EUROPE                     \", \"world/BALTICS                            \", \"world/WESTERN EUROPE                     \", \"world/SUB-SAHARAN AFRICA                 \", \"world/SUB-SAHARAN AFRICA                 \", \"world/ASIA (EX. NEAR EAST)         \", \"world/ASIA (EX. NEAR EAST)         \", \"world/WESTERN EUROPE                     \", \"world/OCEANIA                            \", \"world/SUB-SAHARAN AFRICA                 \", \"world/SUB-SAHARAN AFRICA                 \", \"world/SUB-SAHARAN AFRICA                 \", \"world/LATIN AMER. & CARIB    \", \"world/WESTERN EUROPE                     \", \"world/ASIA (EX. NEAR EAST)         \", \"world/NORTHERN AFRICA                    \", \"world/SUB-SAHARAN AFRICA                 \", \"world/SUB-SAHARAN AFRICA                 \", \"world/OCEANIA                            \", \"world/ASIA (EX. NEAR EAST)         \", \"world/WESTERN EUROPE                     \", \"world/OCEANIA                            \", \"world/OCEANIA                            \", \"world/LATIN AMER. & CARIB    \", \"world/SUB-SAHARAN AFRICA                 \", \"world/SUB-SAHARAN AFRICA                 \", \"world/WESTERN EUROPE                     \", \"world/NEAR EAST                          \", \"world/ASIA (EX. NEAR EAST)         \", \"world/LATIN AMER. & CARIB    \", \"world/OCEANIA                            \", \"world/LATIN AMER. & CARIB    \", \"world/LATIN AMER. & CARIB    \", \"world/ASIA (EX. NEAR EAST)         \", \"world/EASTERN EUROPE                     \", \"world/WESTERN EUROPE                     \", \"world/LATIN AMER. & CARIB    \", \"world/NEAR EAST                          \", \"world/SUB-SAHARAN AFRICA                 \", \"world/EASTERN EUROPE                     \", \"world/SUB-SAHARAN AFRICA                 \", \"world/LATIN AMER. & CARIB    \", \"world/WESTERN EUROPE                     \", \"world/NEAR EAST                          \", \"world/SUB-SAHARAN AFRICA                 \", \"world/EASTERN EUROPE                     \", \"world/SUB-SAHARAN AFRICA                 \", \"world/SUB-SAHARAN AFRICA                 \", \"world/ASIA (EX. NEAR EAST)         \", \"world/EASTERN EUROPE                     \", \"world/EASTERN EUROPE                     \", \"world/OCEANIA                            \", \"world/SUB-SAHARAN AFRICA                 \", \"world/SUB-SAHARAN AFRICA                 \", \"world/WESTERN EUROPE                     \", \"world/ASIA (EX. NEAR EAST)         \", \"world/SUB-SAHARAN AFRICA                 \", \"world/LATIN AMER. & CARIB    \", \"world/SUB-SAHARAN AFRICA                 \", \"world/WESTERN EUROPE                     \", \"world/WESTERN EUROPE                     \", \"world/C.W. OF IND. STATES \", \"world/ASIA (EX. NEAR EAST)         \", \"world/SUB-SAHARAN AFRICA                 \", \"world/NORTHERN AFRICA                    \", \"world/NEAR EAST                          \", \"world/C.W. OF IND. STATES \", \"world/SUB-SAHARAN AFRICA                 \", \"world/C.W. OF IND. STATES \", \"world/NEAR EAST                          \", \"world/WESTERN EUROPE                     \", \"world/NORTHERN AMERICA                   \", \"world/LATIN AMER. & CARIB    \", \"world/C.W. OF IND. STATES \", \"world/OCEANIA                            \", \"world/ASIA (EX. NEAR EAST)         \", \"world/NEAR EAST                          \", \"world/SUB-SAHARAN AFRICA                 \", \"world/SUB-SAHARAN AFRICA                 \", \"world\", \"world\", \"world\", \"world\", \"world\", \"world\", \"world\", \"world\", \"world\", \"world\", \"world\", \"\"], \"type\": \"treemap\", \"values\": [3966704.0, 1198657.0, 358187599.0, 1987497.0, 79208.0, 62483235.0, 4813090840.0, 190015.0, 47696.0, 21584545899.0, 2828942536.0, 578543.0, 441669982.0, 1064146977.0, 2440137.0, 302038347.0, 2919241602.0, 1648593.0, 2234012.0, 1303880.0, 25349.0, 7933657457.0, 148426409.0, 21354987.0, 673538.0, 706371958.0, 332206015.0, 3272531399.0, 128959.0, 139172.0, 1213.0, 505269462.0, 175416541976.0, 471668906.0, 334101.0, 1406.0, 101849284.0, 1920610302.0, 15476560.0, 5323033.0, 30066319.0, 984265758.0, 938094222.0, 3058949.0, 636444.0, 11706760.0, 517998570.0, 543166239.0, 10368671.0, 247766.0, 85302.0, 35804200.0, 6850174.0, 195284.0, 12977750.0, 803825013.0, 16626237476.0, 239037129.0, 69402086.0, 26380358234.0, 1014910413.0, 65825262.0, 98115.0, 45901.0, 168350.0, 204400.0, 48186966.0, 45324628.0, 174313.0, 2144191.0, 2722324.0, 5240827.0, 15140878814.0, 717904147.0, 1496362.0, 26497011569.0, 40490259026.0, 1385768951.0, 4641980199.0, 6688520557.0, 4233543.0, 63857511725.0, 275008302.0, 36692170.0, 24400804.0, 8656153.0, 1928453143.0, 286907.0, 61792480.0, 23290206.0, 371559.0, 58956747.0, 2066546154.0, 84709.0, 275197260.0, 78759128.0, 22867799.0, 6108986.0, 262153387.0, 2424788.0, 553371608.0, 10047556.0, 1640216.0, 13084630.0, 25980.0, 1485174174.0, 56237.0, 2453754.0, 95919675.0, 39907597.0, 84308206.0, 59592.0, 1182015.0, 6772233739.0, 322381.0, 3334879026.0, 29990990.0, 21530.0, 1144052404.0, 936010103.0, 2272821713.0, 757464124.0, 199335465.0, 619884373.0, 257216.0, 454078126.0, 9198999577.0, 789947113.0, 249258950.0, 47362043.0, 2731168757.0, 1323279.0, 144270583.0, 89453527.0, 188886.0, 1127.0, 17901324811.0, 3637625.0, 15148421.0, 26485727.0, 897608.0, 103071082357.0, 142900005.0, 137186131.0, 49021873.0, 5496274.0, 3069692297.0, 2979668182.0, 244550351.0, 3345959.0, 10893835.0, 3661576.0, 1817761496.0, 10631751183.0, 3046277.0, 48623717038.0, 32955507.0, 104171888.0, 1827451641.0, 11404714.0, 65151006.0, 600621479.0, 11670735873.0, 6972337072.0, 64947348925.0, 26010057.0, 13404089.0, 12021381.0, 19456974985.0, 415152535.0, 34101463.0, 3101451.0, 504798995005.0, 372793940.0, 1037664627.0, 3096723784.0, 16691877919.0, 40902912233.0, 3167991555.0, 68219978439.0, 25634609287.0, 8384790142.0, 92886089489.0, 765194426420.0]}],                        {\"coloraxis\": {\"colorbar\": {\"title\": {\"text\": \"total\"}}, \"colorscale\": [[0.0, \"rgb(103,0,31)\"], [0.1, \"rgb(178,24,43)\"], [0.2, \"rgb(214,96,77)\"], [0.3, \"rgb(244,165,130)\"], [0.4, \"rgb(253,219,199)\"], [0.5, \"rgb(247,247,247)\"], [0.6, \"rgb(209,229,240)\"], [0.7, \"rgb(146,197,222)\"], [0.8, \"rgb(67,147,195)\"], [0.9, \"rgb(33,102,172)\"], [1.0, \"rgb(5,48,97)\"]]}, \"legend\": {\"tracegroupgap\": 0}, \"margin\": {\"t\": 60}, \"template\": {\"data\": {\"bar\": [{\"error_x\": {\"color\": \"#2a3f5f\"}, \"error_y\": {\"color\": \"#2a3f5f\"}, \"marker\": {\"line\": {\"color\": \"#E5ECF6\", \"width\": 0.5}}, \"type\": \"bar\"}], \"barpolar\": [{\"marker\": {\"line\": {\"color\": \"#E5ECF6\", \"width\": 0.5}}, \"type\": \"barpolar\"}], \"carpet\": [{\"aaxis\": {\"endlinecolor\": \"#2a3f5f\", \"gridcolor\": \"white\", \"linecolor\": \"white\", \"minorgridcolor\": \"white\", \"startlinecolor\": \"#2a3f5f\"}, \"baxis\": {\"endlinecolor\": \"#2a3f5f\", \"gridcolor\": \"white\", \"linecolor\": \"white\", \"minorgridcolor\": \"white\", \"startlinecolor\": \"#2a3f5f\"}, \"type\": \"carpet\"}], \"choropleth\": [{\"colorbar\": {\"outlinewidth\": 0, \"ticks\": \"\"}, \"type\": \"choropleth\"}], \"contour\": [{\"colorbar\": {\"outlinewidth\": 0, \"ticks\": \"\"}, \"colorscale\": [[0.0, \"#0d0887\"], [0.1111111111111111, \"#46039f\"], [0.2222222222222222, \"#7201a8\"], [0.3333333333333333, \"#9c179e\"], [0.4444444444444444, \"#bd3786\"], [0.5555555555555556, \"#d8576b\"], [0.6666666666666666, \"#ed7953\"], [0.7777777777777778, \"#fb9f3a\"], [0.8888888888888888, \"#fdca26\"], [1.0, \"#f0f921\"]], \"type\": \"contour\"}], \"contourcarpet\": [{\"colorbar\": {\"outlinewidth\": 0, \"ticks\": \"\"}, \"type\": \"contourcarpet\"}], \"heatmap\": [{\"colorbar\": {\"outlinewidth\": 0, \"ticks\": \"\"}, \"colorscale\": [[0.0, \"#0d0887\"], [0.1111111111111111, \"#46039f\"], [0.2222222222222222, \"#7201a8\"], [0.3333333333333333, \"#9c179e\"], [0.4444444444444444, \"#bd3786\"], [0.5555555555555556, \"#d8576b\"], [0.6666666666666666, \"#ed7953\"], [0.7777777777777778, \"#fb9f3a\"], [0.8888888888888888, \"#fdca26\"], [1.0, \"#f0f921\"]], \"type\": \"heatmap\"}], \"heatmapgl\": [{\"colorbar\": {\"outlinewidth\": 0, \"ticks\": \"\"}, \"colorscale\": [[0.0, \"#0d0887\"], [0.1111111111111111, \"#46039f\"], [0.2222222222222222, \"#7201a8\"], [0.3333333333333333, \"#9c179e\"], [0.4444444444444444, \"#bd3786\"], [0.5555555555555556, \"#d8576b\"], [0.6666666666666666, \"#ed7953\"], [0.7777777777777778, \"#fb9f3a\"], [0.8888888888888888, \"#fdca26\"], [1.0, \"#f0f921\"]], \"type\": \"heatmapgl\"}], \"histogram\": [{\"marker\": {\"colorbar\": {\"outlinewidth\": 0, \"ticks\": \"\"}}, \"type\": \"histogram\"}], \"histogram2d\": [{\"colorbar\": {\"outlinewidth\": 0, \"ticks\": \"\"}, \"colorscale\": [[0.0, \"#0d0887\"], [0.1111111111111111, \"#46039f\"], [0.2222222222222222, \"#7201a8\"], [0.3333333333333333, \"#9c179e\"], [0.4444444444444444, \"#bd3786\"], [0.5555555555555556, \"#d8576b\"], [0.6666666666666666, \"#ed7953\"], [0.7777777777777778, \"#fb9f3a\"], [0.8888888888888888, \"#fdca26\"], [1.0, \"#f0f921\"]], \"type\": \"histogram2d\"}], \"histogram2dcontour\": [{\"colorbar\": {\"outlinewidth\": 0, \"ticks\": \"\"}, \"colorscale\": [[0.0, \"#0d0887\"], [0.1111111111111111, \"#46039f\"], [0.2222222222222222, \"#7201a8\"], [0.3333333333333333, \"#9c179e\"], [0.4444444444444444, \"#bd3786\"], [0.5555555555555556, \"#d8576b\"], [0.6666666666666666, \"#ed7953\"], [0.7777777777777778, \"#fb9f3a\"], [0.8888888888888888, \"#fdca26\"], [1.0, \"#f0f921\"]], \"type\": \"histogram2dcontour\"}], \"mesh3d\": [{\"colorbar\": {\"outlinewidth\": 0, \"ticks\": \"\"}, \"type\": \"mesh3d\"}], \"parcoords\": [{\"line\": {\"colorbar\": {\"outlinewidth\": 0, \"ticks\": \"\"}}, \"type\": \"parcoords\"}], \"pie\": [{\"automargin\": true, \"type\": \"pie\"}], \"scatter\": [{\"marker\": {\"colorbar\": {\"outlinewidth\": 0, \"ticks\": \"\"}}, \"type\": \"scatter\"}], \"scatter3d\": [{\"line\": {\"colorbar\": {\"outlinewidth\": 0, \"ticks\": \"\"}}, \"marker\": {\"colorbar\": {\"outlinewidth\": 0, \"ticks\": \"\"}}, \"type\": \"scatter3d\"}], \"scattercarpet\": [{\"marker\": {\"colorbar\": {\"outlinewidth\": 0, \"ticks\": \"\"}}, \"type\": \"scattercarpet\"}], \"scattergeo\": [{\"marker\": {\"colorbar\": {\"outlinewidth\": 0, \"ticks\": \"\"}}, \"type\": \"scattergeo\"}], \"scattergl\": [{\"marker\": {\"colorbar\": {\"outlinewidth\": 0, \"ticks\": \"\"}}, \"type\": \"scattergl\"}], \"scattermapbox\": [{\"marker\": {\"colorbar\": {\"outlinewidth\": 0, \"ticks\": \"\"}}, \"type\": \"scattermapbox\"}], \"scatterpolar\": [{\"marker\": {\"colorbar\": {\"outlinewidth\": 0, \"ticks\": \"\"}}, \"type\": \"scatterpolar\"}], \"scatterpolargl\": [{\"marker\": {\"colorbar\": {\"outlinewidth\": 0, \"ticks\": \"\"}}, \"type\": \"scatterpolargl\"}], \"scatterternary\": [{\"marker\": {\"colorbar\": {\"outlinewidth\": 0, \"ticks\": \"\"}}, \"type\": \"scatterternary\"}], \"surface\": [{\"colorbar\": {\"outlinewidth\": 0, \"ticks\": \"\"}, \"colorscale\": [[0.0, \"#0d0887\"], [0.1111111111111111, \"#46039f\"], [0.2222222222222222, \"#7201a8\"], [0.3333333333333333, \"#9c179e\"], [0.4444444444444444, \"#bd3786\"], [0.5555555555555556, \"#d8576b\"], [0.6666666666666666, \"#ed7953\"], [0.7777777777777778, \"#fb9f3a\"], [0.8888888888888888, \"#fdca26\"], [1.0, \"#f0f921\"]], \"type\": \"surface\"}], \"table\": [{\"cells\": {\"fill\": {\"color\": \"#EBF0F8\"}, \"line\": {\"color\": \"white\"}}, \"header\": {\"fill\": {\"color\": \"#C8D4E3\"}, \"line\": {\"color\": \"white\"}}, \"type\": \"table\"}]}, \"layout\": {\"annotationdefaults\": {\"arrowcolor\": \"#2a3f5f\", \"arrowhead\": 0, \"arrowwidth\": 1}, \"coloraxis\": {\"colorbar\": {\"outlinewidth\": 0, \"ticks\": \"\"}}, \"colorscale\": {\"diverging\": [[0, \"#8e0152\"], [0.1, \"#c51b7d\"], [0.2, \"#de77ae\"], [0.3, \"#f1b6da\"], [0.4, \"#fde0ef\"], [0.5, \"#f7f7f7\"], [0.6, \"#e6f5d0\"], [0.7, \"#b8e186\"], [0.8, \"#7fbc41\"], [0.9, \"#4d9221\"], [1, \"#276419\"]], \"sequential\": [[0.0, \"#0d0887\"], [0.1111111111111111, \"#46039f\"], [0.2222222222222222, \"#7201a8\"], [0.3333333333333333, \"#9c179e\"], [0.4444444444444444, \"#bd3786\"], [0.5555555555555556, \"#d8576b\"], [0.6666666666666666, \"#ed7953\"], [0.7777777777777778, \"#fb9f3a\"], [0.8888888888888888, \"#fdca26\"], [1.0, \"#f0f921\"]], \"sequentialminus\": [[0.0, \"#0d0887\"], [0.1111111111111111, \"#46039f\"], [0.2222222222222222, \"#7201a8\"], [0.3333333333333333, \"#9c179e\"], [0.4444444444444444, \"#bd3786\"], [0.5555555555555556, \"#d8576b\"], [0.6666666666666666, \"#ed7953\"], [0.7777777777777778, \"#fb9f3a\"], [0.8888888888888888, \"#fdca26\"], [1.0, \"#f0f921\"]]}, \"colorway\": [\"#636efa\", \"#EF553B\", \"#00cc96\", \"#ab63fa\", \"#FFA15A\", \"#19d3f3\", \"#FF6692\", \"#B6E880\", \"#FF97FF\", \"#FECB52\"], \"font\": {\"color\": \"#2a3f5f\"}, \"geo\": {\"bgcolor\": \"white\", \"lakecolor\": \"white\", \"landcolor\": \"#E5ECF6\", \"showlakes\": true, \"showland\": true, \"subunitcolor\": \"white\"}, \"hoverlabel\": {\"align\": \"left\"}, \"hovermode\": \"closest\", \"mapbox\": {\"style\": \"light\"}, \"paper_bgcolor\": \"white\", \"plot_bgcolor\": \"#E5ECF6\", \"polar\": {\"angularaxis\": {\"gridcolor\": \"white\", \"linecolor\": \"white\", \"ticks\": \"\"}, \"bgcolor\": \"#E5ECF6\", \"radialaxis\": {\"gridcolor\": \"white\", \"linecolor\": \"white\", \"ticks\": \"\"}}, \"scene\": {\"xaxis\": {\"backgroundcolor\": \"#E5ECF6\", \"gridcolor\": \"white\", \"gridwidth\": 2, \"linecolor\": \"white\", \"showbackground\": true, \"ticks\": \"\", \"zerolinecolor\": \"white\"}, \"yaxis\": {\"backgroundcolor\": \"#E5ECF6\", \"gridcolor\": \"white\", \"gridwidth\": 2, \"linecolor\": \"white\", \"showbackground\": true, \"ticks\": \"\", \"zerolinecolor\": \"white\"}, \"zaxis\": {\"backgroundcolor\": \"#E5ECF6\", \"gridcolor\": \"white\", \"gridwidth\": 2, \"linecolor\": \"white\", \"showbackground\": true, \"ticks\": \"\", \"zerolinecolor\": \"white\"}}, \"shapedefaults\": {\"line\": {\"color\": \"#2a3f5f\"}}, \"ternary\": {\"aaxis\": {\"gridcolor\": \"white\", \"linecolor\": \"white\", \"ticks\": \"\"}, \"baxis\": {\"gridcolor\": \"white\", \"linecolor\": \"white\", \"ticks\": \"\"}, \"bgcolor\": \"#E5ECF6\", \"caxis\": {\"gridcolor\": \"white\", \"linecolor\": \"white\", \"ticks\": \"\"}}, \"title\": {\"x\": 0.05}, \"xaxis\": {\"automargin\": true, \"gridcolor\": \"white\", \"linecolor\": \"white\", \"ticks\": \"\", \"title\": {\"standoff\": 15}, \"zerolinecolor\": \"white\", \"zerolinewidth\": 2}, \"yaxis\": {\"automargin\": true, \"gridcolor\": \"white\", \"linecolor\": \"white\", \"ticks\": \"\", \"title\": {\"standoff\": 15}, \"zerolinecolor\": \"white\", \"zerolinewidth\": 2}}}},                        {\"responsive\": true}                    ).then(function(){\n",
       "                            \n",
       "var gd = document.getElementById('eb8b204d-4c60-416e-b82f-29bb56c256a8');\n",
       "var x = new MutationObserver(function (mutations, observer) {{\n",
       "        var display = window.getComputedStyle(gd).display;\n",
       "        if (!display || display === 'none') {{\n",
       "            console.log([gd, 'removed!']);\n",
       "            Plotly.purge(gd);\n",
       "            observer.disconnect();\n",
       "        }}\n",
       "}});\n",
       "\n",
       "// Listen for the removal of the full notebook cells\n",
       "var notebookContainer = gd.closest('#notebook-container');\n",
       "if (notebookContainer) {{\n",
       "    x.observe(notebookContainer, {childList: true});\n",
       "}}\n",
       "\n",
       "// Listen for the clearing of the current output cell\n",
       "var outputEl = gd.closest('.output');\n",
       "if (outputEl) {{\n",
       "    x.observe(outputEl, {childList: true});\n",
       "}}\n",
       "\n",
       "                        })                };                });            </script>        </div>"
      ]
     },
     "metadata": {},
     "output_type": "display_data"
    }
   ],
   "source": [
    "import plotly.express as px\n",
    "import numpy as np\n",
    "import pandas as pd\n",
    "\n",
    "'''Variable year, import_export'''\n",
    "year = 2018\n",
    "# 'IMPORT (RM)' or 'EXPORT (RM)'\n",
    "import_export = 'IMPORT (RM)'\n",
    "\n",
    "'''Read Data'''\n",
    "# Read Data\n",
    "df = pd.read_csv(\"data_1.csv\")\n",
    "df_country = pd.read_csv(\"country_data.csv\")\n",
    "\n",
    "'''Data Preprocessing'''\n",
    "# Filter year\n",
    "df = df[df['YEAR'] == year]\n",
    "# GroupBy\n",
    "df_group = df.groupby('COUNTRY')[import_export].agg(total = 'sum').reset_index()\n",
    "# Merge\n",
    "df_merge = df_group.merge(df_country, on='COUNTRY', how='inner')\n",
    "# Clean 0 trade\n",
    "df_merge = df_merge[df_merge['total']>0]\n",
    "df_merge[\"world\"] = \"world\" # in order to have a single root node\n",
    "\n",
    "'''Plot'''\n",
    "fig = px.treemap(df_merge, path=['world', 'Region','COUNTRY'], values='total',\n",
    "                  color='total', hover_data=['COUNTRY'],\n",
    "                  color_continuous_scale='RdBu')\n",
    "#                   color_continuous_midpoint=np.average(df4['sum_import'], weights=df4['sum_import']))\n",
    "fig.show()\n"
   ]
  },
  {
   "cell_type": "code",
   "execution_count": 7,
   "metadata": {},
   "outputs": [
    {
     "data": {
      "text/html": [
       "<div>\n",
       "<style scoped>\n",
       "    .dataframe tbody tr th:only-of-type {\n",
       "        vertical-align: middle;\n",
       "    }\n",
       "\n",
       "    .dataframe tbody tr th {\n",
       "        vertical-align: top;\n",
       "    }\n",
       "\n",
       "    .dataframe thead th {\n",
       "        text-align: right;\n",
       "    }\n",
       "</style>\n",
       "<table border=\"1\" class=\"dataframe\">\n",
       "  <thead>\n",
       "    <tr style=\"text-align: right;\">\n",
       "      <th></th>\n",
       "      <th>COUNTRY</th>\n",
       "      <th>total</th>\n",
       "      <th>Region</th>\n",
       "      <th>Population</th>\n",
       "      <th>Area sq. mi.</th>\n",
       "      <th>Pop. Density</th>\n",
       "      <th>world</th>\n",
       "    </tr>\n",
       "  </thead>\n",
       "  <tbody>\n",
       "    <tr>\n",
       "      <th>0</th>\n",
       "      <td>AFGHANISTAN</td>\n",
       "      <td>3.966704e+06</td>\n",
       "      <td>ASIA (EX. NEAR EAST)</td>\n",
       "      <td>31056997</td>\n",
       "      <td>647500</td>\n",
       "      <td>47.96</td>\n",
       "      <td>world</td>\n",
       "    </tr>\n",
       "    <tr>\n",
       "      <th>1</th>\n",
       "      <td>ALBANIA</td>\n",
       "      <td>1.198657e+06</td>\n",
       "      <td>EASTERN EUROPE</td>\n",
       "      <td>3581655</td>\n",
       "      <td>28748</td>\n",
       "      <td>124.59</td>\n",
       "      <td>world</td>\n",
       "    </tr>\n",
       "    <tr>\n",
       "      <th>2</th>\n",
       "      <td>ALGERIA</td>\n",
       "      <td>3.581876e+08</td>\n",
       "      <td>NORTHERN AFRICA</td>\n",
       "      <td>32930091</td>\n",
       "      <td>2381740</td>\n",
       "      <td>13.83</td>\n",
       "      <td>world</td>\n",
       "    </tr>\n",
       "    <tr>\n",
       "      <th>3</th>\n",
       "      <td>AMERICAN SAMOA</td>\n",
       "      <td>1.987497e+06</td>\n",
       "      <td>OCEANIA</td>\n",
       "      <td>57794</td>\n",
       "      <td>199</td>\n",
       "      <td>290.42</td>\n",
       "      <td>world</td>\n",
       "    </tr>\n",
       "    <tr>\n",
       "      <th>4</th>\n",
       "      <td>ANDORRA</td>\n",
       "      <td>7.920800e+04</td>\n",
       "      <td>WESTERN EUROPE</td>\n",
       "      <td>71201</td>\n",
       "      <td>468</td>\n",
       "      <td>152.14</td>\n",
       "      <td>world</td>\n",
       "    </tr>\n",
       "    <tr>\n",
       "      <th>...</th>\n",
       "      <td>...</td>\n",
       "      <td>...</td>\n",
       "      <td>...</td>\n",
       "      <td>...</td>\n",
       "      <td>...</td>\n",
       "      <td>...</td>\n",
       "      <td>...</td>\n",
       "    </tr>\n",
       "    <tr>\n",
       "      <th>179</th>\n",
       "      <td>VANUATU</td>\n",
       "      <td>1.202138e+07</td>\n",
       "      <td>OCEANIA</td>\n",
       "      <td>208869</td>\n",
       "      <td>12200</td>\n",
       "      <td>17.12</td>\n",
       "      <td>world</td>\n",
       "    </tr>\n",
       "    <tr>\n",
       "      <th>180</th>\n",
       "      <td>VIET NAM</td>\n",
       "      <td>1.945697e+10</td>\n",
       "      <td>ASIA (EX. NEAR EAST)</td>\n",
       "      <td>84402966</td>\n",
       "      <td>329560</td>\n",
       "      <td>256.11</td>\n",
       "      <td>world</td>\n",
       "    </tr>\n",
       "    <tr>\n",
       "      <th>183</th>\n",
       "      <td>YEMEN</td>\n",
       "      <td>4.151525e+08</td>\n",
       "      <td>NEAR EAST</td>\n",
       "      <td>21456188</td>\n",
       "      <td>527970</td>\n",
       "      <td>40.64</td>\n",
       "      <td>world</td>\n",
       "    </tr>\n",
       "    <tr>\n",
       "      <th>184</th>\n",
       "      <td>ZAMBIA</td>\n",
       "      <td>3.410146e+07</td>\n",
       "      <td>SUB-SAHARAN AFRICA</td>\n",
       "      <td>11502010</td>\n",
       "      <td>752614</td>\n",
       "      <td>15.28</td>\n",
       "      <td>world</td>\n",
       "    </tr>\n",
       "    <tr>\n",
       "      <th>185</th>\n",
       "      <td>ZIMBABWE</td>\n",
       "      <td>3.101451e+06</td>\n",
       "      <td>SUB-SAHARAN AFRICA</td>\n",
       "      <td>12236805</td>\n",
       "      <td>390580</td>\n",
       "      <td>31.33</td>\n",
       "      <td>world</td>\n",
       "    </tr>\n",
       "  </tbody>\n",
       "</table>\n",
       "<p>172 rows × 7 columns</p>\n",
       "</div>"
      ],
      "text/plain": [
       "            COUNTRY         total                               Region  \\\n",
       "0       AFGHANISTAN  3.966704e+06        ASIA (EX. NEAR EAST)            \n",
       "1           ALBANIA  1.198657e+06  EASTERN EUROPE                        \n",
       "2           ALGERIA  3.581876e+08  NORTHERN AFRICA                       \n",
       "3    AMERICAN SAMOA  1.987497e+06  OCEANIA                               \n",
       "4           ANDORRA  7.920800e+04  WESTERN EUROPE                        \n",
       "..              ...           ...                                  ...   \n",
       "179         VANUATU  1.202138e+07  OCEANIA                               \n",
       "180        VIET NAM  1.945697e+10        ASIA (EX. NEAR EAST)            \n",
       "183           YEMEN  4.151525e+08  NEAR EAST                             \n",
       "184          ZAMBIA  3.410146e+07  SUB-SAHARAN AFRICA                    \n",
       "185        ZIMBABWE  3.101451e+06  SUB-SAHARAN AFRICA                    \n",
       "\n",
       "     Population  Area sq. mi.  Pop. Density  world  \n",
       "0      31056997        647500         47.96  world  \n",
       "1       3581655         28748        124.59  world  \n",
       "2      32930091       2381740         13.83  world  \n",
       "3         57794           199        290.42  world  \n",
       "4         71201           468        152.14  world  \n",
       "..          ...           ...           ...    ...  \n",
       "179      208869         12200         17.12  world  \n",
       "180    84402966        329560        256.11  world  \n",
       "183    21456188        527970         40.64  world  \n",
       "184    11502010        752614         15.28  world  \n",
       "185    12236805        390580         31.33  world  \n",
       "\n",
       "[172 rows x 7 columns]"
      ]
     },
     "execution_count": 7,
     "metadata": {},
     "output_type": "execute_result"
    }
   ],
   "source": [
    "df_merge"
   ]
  },
  {
   "cell_type": "code",
   "execution_count": 25,
   "metadata": {},
   "outputs": [
    {
     "data": {
      "application/vnd.plotly.v1+json": {
       "config": {
        "plotlyServerURL": "https://plot.ly"
       },
       "data": [
        {
         "branchvalues": "total",
         "customdata": [
          [
           3.966704,
           3.966704
          ],
          [
           1.198657,
           1.198657
          ],
          [
           358.18759900000003,
           358.18759900000003
          ],
          [
           1.987497,
           1.987497
          ],
          [
           0.079208,
           0.079208
          ],
          [
           62.483235,
           62.483235
          ],
          [
           4813.090839999998,
           4813.090839999998
          ],
          [
           0.19001500000000004,
           0.19001500000000004
          ],
          [
           0.047695999999999995,
           0.047695999999999995
          ],
          [
           21584.545898999997,
           21584.545898999997
          ],
          [
           2828.9425360000005,
           2828.9425360000005
          ],
          [
           0.578543,
           0.578543
          ],
          [
           441.669982,
           441.669982
          ],
          [
           1064.1469769999997,
           1064.1469769999997
          ],
          [
           2.440137,
           2.440137
          ],
          [
           302.0383469999999,
           302.0383469999999
          ],
          [
           2919.2416020000005,
           2919.2416020000005
          ],
          [
           1.6485930000000004,
           1.6485930000000004
          ],
          [
           2.234012,
           2.234012
          ],
          [
           1.3038800000000001,
           1.3038800000000001
          ],
          [
           0.025349,
           0.025349
          ],
          [
           7933.657457,
           7933.657457
          ],
          [
           148.426409,
           148.426409
          ],
          [
           21.354987000000005,
           21.354987000000005
          ],
          [
           0.6735380000000001,
           0.6735380000000001
          ],
          [
           706.3719580000001,
           706.3719580000001
          ],
          [
           332.2060150000001,
           332.2060150000001
          ],
          [
           3272.531399,
           3272.531399
          ],
          [
           0.128959,
           0.128959
          ],
          [
           0.13917200000000002,
           0.13917200000000002
          ],
          [
           0.001213,
           0.001213
          ],
          [
           505.2694620000001,
           505.2694620000001
          ],
          [
           175416.54197700002,
           175416.54197700002
          ],
          [
           471.66890600000005,
           471.66890600000005
          ],
          [
           0.33410100000000004,
           0.33410100000000004
          ],
          [
           0.0014060000000000001,
           0.0014060000000000001
          ],
          [
           101.849284,
           101.849284
          ],
          [
           1920.6103019999998,
           1920.6103019999998
          ],
          [
           15.476560000000003,
           15.476560000000003
          ],
          [
           5.323032999999999,
           5.323032999999999
          ],
          [
           30.066319000000004,
           30.066319000000004
          ],
          [
           984.2657580000001,
           984.2657580000001
          ],
          [
           938.0942219999997,
           938.0942219999997
          ],
          [
           3.058949,
           3.058949
          ],
          [
           0.636444,
           0.636444
          ],
          [
           11.706759999999997,
           11.706759999999997
          ],
          [
           517.9985699999999,
           517.9985699999999
          ],
          [
           543.1662389999998,
           543.1662389999998
          ],
          [
           10.368670999999999,
           10.368670999999999
          ],
          [
           0.247766,
           0.247766
          ],
          [
           0.085302,
           0.085302
          ],
          [
           35.80419999999999,
           35.80419999999999
          ],
          [
           6.850173999999999,
           6.850173999999999
          ],
          [
           0.19528399999999999,
           0.19528399999999999
          ],
          [
           12.97775,
           12.97775
          ],
          [
           803.8250129999998,
           803.8250129999998
          ],
          [
           16626.237476000002,
           16626.237476000002
          ],
          [
           239.03712900000002,
           239.03712900000002
          ],
          [
           69.40208600000001,
           69.40208600000001
          ],
          [
           26380.358233999992,
           26380.358233999992
          ],
          [
           1014.9104129999998,
           1014.9104129999998
          ],
          [
           65.825262,
           65.825262
          ],
          [
           0.098115,
           0.098115
          ],
          [
           0.045901,
           0.045901
          ],
          [
           0.16835,
           0.16835
          ],
          [
           0.20439999999999997,
           0.20439999999999997
          ],
          [
           48.186966,
           48.186966
          ],
          [
           45.324628,
           45.324628
          ],
          [
           0.174313,
           0.174313
          ],
          [
           2.1441909999999997,
           2.1441909999999997
          ],
          [
           2.722324,
           2.722324
          ],
          [
           5.2408269999999995,
           5.2408269999999995
          ],
          [
           15140.878814,
           15140.878814
          ],
          [
           717.904147,
           717.904147
          ],
          [
           1.4963620000000002,
           1.4963620000000002
          ],
          [
           26497.011569,
           26497.011569
          ],
          [
           40490.25902599999,
           40490.25902599999
          ],
          [
           1385.768951,
           1385.768951
          ],
          [
           4641.980199,
           4641.980199
          ],
          [
           6688.520557,
           6688.520557
          ],
          [
           4.233543,
           4.233543
          ],
          [
           63857.51172500002,
           63857.51172500002
          ],
          [
           275.00830199999996,
           275.00830199999996
          ],
          [
           36.69216999999999,
           36.69216999999999
          ],
          [
           24.400803999999997,
           24.400803999999997
          ],
          [
           8.656153,
           8.656153
          ],
          [
           1928.4531430000002,
           1928.4531430000002
          ],
          [
           0.2869070000000001,
           0.2869070000000001
          ],
          [
           61.792480000000005,
           61.792480000000005
          ],
          [
           23.290205999999994,
           23.290205999999994
          ],
          [
           0.371559,
           0.371559
          ],
          [
           58.956747,
           58.956747
          ],
          [
           2066.5461539999997,
           2066.5461539999997
          ],
          [
           0.08470899999999999,
           0.08470899999999999
          ],
          [
           275.19726,
           275.19726
          ],
          [
           78.759128,
           78.759128
          ],
          [
           22.867799000000005,
           22.867799000000005
          ],
          [
           6.108986000000001,
           6.108986000000001
          ],
          [
           262.153387,
           262.153387
          ],
          [
           2.424788,
           2.424788
          ],
          [
           553.371608,
           553.371608
          ],
          [
           10.047556,
           10.047556
          ],
          [
           1.640216,
           1.640216
          ],
          [
           13.08463,
           13.08463
          ],
          [
           0.025979999999999996,
           0.025979999999999996
          ],
          [
           1485.1741739999998,
           1485.1741739999998
          ],
          [
           0.056236999999999995,
           0.056236999999999995
          ],
          [
           2.453754,
           2.453754
          ],
          [
           95.91967500000001,
           95.91967500000001
          ],
          [
           39.907596999999996,
           39.907596999999996
          ],
          [
           84.30820599999997,
           84.30820599999997
          ],
          [
           0.059592,
           0.059592
          ],
          [
           1.182015,
           1.182015
          ],
          [
           6772.233738999998,
           6772.233738999998
          ],
          [
           0.322381,
           0.322381
          ],
          [
           3334.8790260000005,
           3334.8790260000005
          ],
          [
           29.990989999999996,
           29.990989999999996
          ],
          [
           0.02153,
           0.02153
          ],
          [
           1144.052404,
           1144.052404
          ],
          [
           936.0101029999997,
           936.0101029999997
          ],
          [
           2272.821713,
           2272.821713
          ],
          [
           757.4641239999997,
           757.4641239999997
          ],
          [
           199.335465,
           199.335465
          ],
          [
           619.8843729999998,
           619.8843729999998
          ],
          [
           0.257216,
           0.257216
          ],
          [
           454.07812600000005,
           454.07812600000005
          ],
          [
           9198.999577000004,
           9198.999577000004
          ],
          [
           789.947113,
           789.947113
          ],
          [
           249.25895000000003,
           249.25895000000003
          ],
          [
           47.362042999999986,
           47.362042999999986
          ],
          [
           2731.1687570000004,
           2731.1687570000004
          ],
          [
           1.323279,
           1.323279
          ],
          [
           144.27058300000002,
           144.27058300000002
          ],
          [
           89.453527,
           89.453527
          ],
          [
           0.188886,
           0.188886
          ],
          [
           0.001127,
           0.001127
          ],
          [
           17901.324815000007,
           17901.324815000007
          ],
          [
           3.6376249999999994,
           3.6376249999999994
          ],
          [
           15.148421,
           15.148421
          ],
          [
           26.485727,
           26.485727
          ],
          [
           0.8976080000000002,
           0.8976080000000002
          ],
          [
           103071.08236300004,
           103071.08236300004
          ],
          [
           142.900005,
           142.900005
          ],
          [
           137.18613099999996,
           137.18613099999996
          ],
          [
           49.02187300000001,
           49.02187300000001
          ],
          [
           5.496274,
           5.496274
          ],
          [
           3069.6922969999987,
           3069.6922969999987
          ],
          [
           2979.668181999999,
           2979.668181999999
          ],
          [
           244.55035099999995,
           244.55035099999995
          ],
          [
           3.345959,
           3.345959
          ],
          [
           10.893835,
           10.893835
          ],
          [
           3.6615759999999997,
           3.6615759999999997
          ],
          [
           1817.7614959999999,
           1817.7614959999999
          ],
          [
           10631.751183000002,
           10631.751183000002
          ],
          [
           3.0462769999999995,
           3.0462769999999995
          ],
          [
           48623.717038,
           48623.717038
          ],
          [
           32.955507,
           32.955507
          ],
          [
           104.17188800000001,
           104.17188800000001
          ],
          [
           1827.4516409999999,
           1827.4516409999999
          ],
          [
           11.404714,
           11.404714
          ],
          [
           65.151006,
           65.151006
          ],
          [
           600.6214790000002,
           600.6214790000002
          ],
          [
           11670.735872999998,
           11670.735872999998
          ],
          [
           6972.337072,
           6972.337072
          ],
          [
           64947.348923,
           64947.348923
          ],
          [
           26.010056999999996,
           26.010056999999996
          ],
          [
           13.404088999999999,
           13.404088999999999
          ],
          [
           12.021380999999998,
           12.021380999999998
          ],
          [
           19456.974985000004,
           19456.974985000004
          ],
          [
           415.152535,
           415.152535
          ],
          [
           34.101462999999995,
           34.101462999999995
          ],
          [
           3.101451,
           3.101451
          ],
          [
           100778.70091619447,
           100778.70091619447
          ],
          [
           216.8323423757854,
           216.8323423757854
          ],
          [
           441.81496322253696,
           441.81496322253696
          ],
          [
           707.437059975938,
           707.437059975938
          ],
          [
           5351.3147124132065,
           5351.3147124132065
          ],
          [
           11703.613451487758,
           11703.613451487758
          ],
          [
           1488.0068997471083,
           1488.0068997471083
          ],
          [
           61988.69731098295,
           61988.69731098295
          ],
          [
           18623.306762217206,
           18623.306762217206
          ],
          [
           1866.8819281840422,
           1866.8819281840422
          ],
          [
           13754.899795725572,
           13754.899795725572
          ],
          [
           75076.37980043735,
           75076.37980043735
          ]
         ],
         "domain": {
          "x": [
           0,
           1
          ],
          "y": [
           0,
           1
          ]
         },
         "hovertemplate": "labels=%{label}<br>MILLION_sum=%{value}<br>parent=%{parent}<br>id=%{id}<br>MILLION=%{color}<extra></extra>",
         "ids": [
          "world/ASIA (EX. NEAR EAST)         /AFGHANISTAN",
          "world/EASTERN EUROPE                     /ALBANIA",
          "world/NORTHERN AFRICA                    /ALGERIA",
          "world/OCEANIA                            /AMERICAN SAMOA",
          "world/WESTERN EUROPE                     /ANDORRA",
          "world/SUB-SAHARAN AFRICA                 /ANGOLA",
          "world/LATIN AMER. & CARIB    /ARGENTINA",
          "world/C.W. OF IND. STATES /ARMENIA",
          "world/LATIN AMER. & CARIB    /ARUBA",
          "world/OCEANIA                            /AUSTRALIA",
          "world/WESTERN EUROPE                     /AUSTRIA",
          "world/C.W. OF IND. STATES /AZERBAIJAN",
          "world/NEAR EAST                          /BAHRAIN",
          "world/ASIA (EX. NEAR EAST)         /BANGLADESH",
          "world/LATIN AMER. & CARIB    /BARBADOS",
          "world/C.W. OF IND. STATES /BELARUS",
          "world/WESTERN EUROPE                     /BELGIUM",
          "world/LATIN AMER. & CARIB    /BELIZE",
          "world/SUB-SAHARAN AFRICA                 /BENIN",
          "world/ASIA (EX. NEAR EAST)         /BHUTAN",
          "world/SUB-SAHARAN AFRICA                 /BOTSWANA",
          "world/LATIN AMER. & CARIB    /BRAZIL",
          "world/EASTERN EUROPE                     /BULGARIA",
          "world/SUB-SAHARAN AFRICA                 /BURKINA FASO",
          "world/SUB-SAHARAN AFRICA                 /BURUNDI",
          "world/ASIA (EX. NEAR EAST)         /CAMBODIA",
          "world/SUB-SAHARAN AFRICA                 /CAMEROON",
          "world/NORTHERN AMERICA                   /CANADA",
          "world/SUB-SAHARAN AFRICA                 /CAPE VERDE",
          "world/LATIN AMER. & CARIB    /CAYMAN ISLANDS",
          "world/SUB-SAHARAN AFRICA                 /CHAD",
          "world/LATIN AMER. & CARIB    /CHILE",
          "world/ASIA (EX. NEAR EAST)         /CHINA",
          "world/LATIN AMER. & CARIB    /COLOMBIA",
          "world/SUB-SAHARAN AFRICA                 /COMOROS",
          "world/OCEANIA                            /COOK ISLANDS",
          "world/LATIN AMER. & CARIB    /COSTA RICA",
          "world/SUB-SAHARAN AFRICA                 /COTE D'IVOIRE",
          "world/EASTERN EUROPE                     /CROATIA",
          "world/LATIN AMER. & CARIB    /CUBA",
          "world/NEAR EAST                          /CYPRUS",
          "world/EASTERN EUROPE                     /CZECH REPUBLIC",
          "world/WESTERN EUROPE                     /DENMARK",
          "world/SUB-SAHARAN AFRICA                 /DJIBOUTI",
          "world/LATIN AMER. & CARIB    /DOMINICA",
          "world/LATIN AMER. & CARIB    /DOMINICAN REPUBLIC",
          "world/LATIN AMER. & CARIB    /ECUADOR",
          "world/NORTHERN AFRICA                    /EGYPT",
          "world/LATIN AMER. & CARIB    /EL SALVADOR",
          "world/SUB-SAHARAN AFRICA                 /EQUATORIAL GUINEA",
          "world/SUB-SAHARAN AFRICA                 /ERITREA",
          "world/BALTICS                            /ESTONIA",
          "world/SUB-SAHARAN AFRICA                 /ETHIOPIA",
          "world/WESTERN EUROPE                     /FAROE ISLANDS",
          "world/OCEANIA                            /FIJI",
          "world/WESTERN EUROPE                     /FINLAND",
          "world/WESTERN EUROPE                     /FRANCE",
          "world/SUB-SAHARAN AFRICA                 /GABON",
          "world/C.W. OF IND. STATES /GEORGIA",
          "world/WESTERN EUROPE                     /GERMANY",
          "world/SUB-SAHARAN AFRICA                 /GHANA",
          "world/WESTERN EUROPE                     /GREECE",
          "world/NORTHERN AMERICA                   /GREENLAND",
          "world/LATIN AMER. & CARIB    /GRENADA",
          "world/LATIN AMER. & CARIB    /GUADELOUPE",
          "world/OCEANIA                            /GUAM",
          "world/LATIN AMER. & CARIB    /GUATEMALA",
          "world/SUB-SAHARAN AFRICA                 /GUINEA",
          "world/SUB-SAHARAN AFRICA                 /GUINEA-BISSAU",
          "world/LATIN AMER. & CARIB    /GUYANA",
          "world/LATIN AMER. & CARIB    /HAITI",
          "world/LATIN AMER. & CARIB    /HONDURAS",
          "world/ASIA (EX. NEAR EAST)         /HONG KONG",
          "world/EASTERN EUROPE                     /HUNGARY",
          "world/WESTERN EUROPE                     /ICELAND",
          "world/ASIA (EX. NEAR EAST)         /INDIA",
          "world/ASIA (EX. NEAR EAST)         /INDONESIA",
          "world/NEAR EAST                          /IRAQ",
          "world/WESTERN EUROPE                     /IRELAND",
          "world/WESTERN EUROPE                     /ITALY",
          "world/LATIN AMER. & CARIB    /JAMAICA",
          "world/ASIA (EX. NEAR EAST)         /JAPAN",
          "world/NEAR EAST                          /JORDAN",
          "world/C.W. OF IND. STATES /KAZAKHSTAN",
          "world/SUB-SAHARAN AFRICA                 /KENYA",
          "world/OCEANIA                            /KIRIBATI",
          "world/NEAR EAST                          /KUWAIT",
          "world/C.W. OF IND. STATES /KYRGYZSTAN",
          "world/BALTICS                            /LATVIA",
          "world/NEAR EAST                          /LEBANON",
          "world/SUB-SAHARAN AFRICA                 /LESOTHO",
          "world/SUB-SAHARAN AFRICA                 /LIBERIA",
          "world/NORTHERN AFRICA                    /LIBYA",
          "world/WESTERN EUROPE                     /LIECHTENSTEIN",
          "world/BALTICS                            /LITHUANIA",
          "world/WESTERN EUROPE                     /LUXEMBOURG",
          "world/SUB-SAHARAN AFRICA                 /MADAGASCAR",
          "world/SUB-SAHARAN AFRICA                 /MALAWI",
          "world/ASIA (EX. NEAR EAST)         /MALAYSIA",
          "world/ASIA (EX. NEAR EAST)         /MALDIVES",
          "world/WESTERN EUROPE                     /MALTA",
          "world/OCEANIA                            /MARSHALL ISLANDS",
          "world/SUB-SAHARAN AFRICA                 /MAURITANIA",
          "world/SUB-SAHARAN AFRICA                 /MAURITIUS",
          "world/SUB-SAHARAN AFRICA                 /MAYOTTE",
          "world/LATIN AMER. & CARIB    /MEXICO",
          "world/WESTERN EUROPE                     /MONACO",
          "world/ASIA (EX. NEAR EAST)         /MONGOLIA",
          "world/NORTHERN AFRICA                    /MOROCCO",
          "world/SUB-SAHARAN AFRICA                 /MOZAMBIQUE",
          "world/SUB-SAHARAN AFRICA                 /NAMIBIA",
          "world/OCEANIA                            /NAURU",
          "world/ASIA (EX. NEAR EAST)         /NEPAL",
          "world/WESTERN EUROPE                     /NETHERLANDS",
          "world/OCEANIA                            /NEW CALEDONIA",
          "world/OCEANIA                            /NEW ZEALAND",
          "world/LATIN AMER. & CARIB    /NICARAGUA",
          "world/SUB-SAHARAN AFRICA                 /NIGER",
          "world/SUB-SAHARAN AFRICA                 /NIGERIA",
          "world/WESTERN EUROPE                     /NORWAY",
          "world/NEAR EAST                          /OMAN",
          "world/ASIA (EX. NEAR EAST)         /PAKISTAN",
          "world/LATIN AMER. & CARIB    /PANAMA",
          "world/OCEANIA                            /PAPUA NEW GUINEA",
          "world/LATIN AMER. & CARIB    /PARAGUAY",
          "world/LATIN AMER. & CARIB    /PERU",
          "world/ASIA (EX. NEAR EAST)         /PHILIPPINES",
          "world/EASTERN EUROPE                     /POLAND",
          "world/WESTERN EUROPE                     /PORTUGAL",
          "world/LATIN AMER. & CARIB    /PUERTO RICO",
          "world/NEAR EAST                          /QATAR",
          "world/SUB-SAHARAN AFRICA                 /REUNION",
          "world/EASTERN EUROPE                     /ROMANIA",
          "world/SUB-SAHARAN AFRICA                 /RWANDA",
          "world/LATIN AMER. & CARIB    /SAINT LUCIA",
          "world/WESTERN EUROPE                     /SAN MARINO",
          "world/NEAR EAST                          /SAUDI ARABIA",
          "world/SUB-SAHARAN AFRICA                 /SENEGAL",
          "world/EASTERN EUROPE                     /SERBIA",
          "world/SUB-SAHARAN AFRICA                 /SEYCHELLES",
          "world/SUB-SAHARAN AFRICA                 /SIERRA LEONE",
          "world/ASIA (EX. NEAR EAST)         /SINGAPORE",
          "world/EASTERN EUROPE                     /SLOVAKIA",
          "world/EASTERN EUROPE                     /SLOVENIA",
          "world/OCEANIA                            /SOLOMON ISLANDS",
          "world/SUB-SAHARAN AFRICA                 /SOMALIA",
          "world/SUB-SAHARAN AFRICA                 /SOUTH AFRICA",
          "world/WESTERN EUROPE                     /SPAIN",
          "world/ASIA (EX. NEAR EAST)         /SRI LANKA",
          "world/SUB-SAHARAN AFRICA                 /SUDAN",
          "world/LATIN AMER. & CARIB    /SURINAME",
          "world/SUB-SAHARAN AFRICA                 /SWAZILAND",
          "world/WESTERN EUROPE                     /SWEDEN",
          "world/WESTERN EUROPE                     /SWITZERLAND",
          "world/C.W. OF IND. STATES /TAJIKISTAN",
          "world/ASIA (EX. NEAR EAST)         /THAILAND",
          "world/SUB-SAHARAN AFRICA                 /TOGO",
          "world/NORTHERN AFRICA                    /TUNISIA",
          "world/NEAR EAST                          /TURKEY",
          "world/C.W. OF IND. STATES /TURKMENISTAN",
          "world/SUB-SAHARAN AFRICA                 /UGANDA",
          "world/C.W. OF IND. STATES /UKRAINE",
          "world/NEAR EAST                          /UNITED ARAB EMIRATES",
          "world/WESTERN EUROPE                     /UNITED KINGDOM",
          "world/NORTHERN AMERICA                   /UNITED STATES",
          "world/LATIN AMER. & CARIB    /URUGUAY",
          "world/C.W. OF IND. STATES /UZBEKISTAN",
          "world/OCEANIA                            /VANUATU",
          "world/ASIA (EX. NEAR EAST)         /VIET NAM",
          "world/NEAR EAST                          /YEMEN",
          "world/SUB-SAHARAN AFRICA                 /ZAMBIA",
          "world/SUB-SAHARAN AFRICA                 /ZIMBABWE",
          "world/ASIA (EX. NEAR EAST)         ",
          "world/BALTICS                            ",
          "world/C.W. OF IND. STATES ",
          "world/EASTERN EUROPE                     ",
          "world/LATIN AMER. & CARIB    ",
          "world/NEAR EAST                          ",
          "world/NORTHERN AFRICA                    ",
          "world/NORTHERN AMERICA                   ",
          "world/OCEANIA                            ",
          "world/SUB-SAHARAN AFRICA                 ",
          "world/WESTERN EUROPE                     ",
          "world"
         ],
         "labels": [
          "AFGHANISTAN",
          "ALBANIA",
          "ALGERIA",
          "AMERICAN SAMOA",
          "ANDORRA",
          "ANGOLA",
          "ARGENTINA",
          "ARMENIA",
          "ARUBA",
          "AUSTRALIA",
          "AUSTRIA",
          "AZERBAIJAN",
          "BAHRAIN",
          "BANGLADESH",
          "BARBADOS",
          "BELARUS",
          "BELGIUM",
          "BELIZE",
          "BENIN",
          "BHUTAN",
          "BOTSWANA",
          "BRAZIL",
          "BULGARIA",
          "BURKINA FASO",
          "BURUNDI",
          "CAMBODIA",
          "CAMEROON",
          "CANADA",
          "CAPE VERDE",
          "CAYMAN ISLANDS",
          "CHAD",
          "CHILE",
          "CHINA",
          "COLOMBIA",
          "COMOROS",
          "COOK ISLANDS",
          "COSTA RICA",
          "COTE D'IVOIRE",
          "CROATIA",
          "CUBA",
          "CYPRUS",
          "CZECH REPUBLIC",
          "DENMARK",
          "DJIBOUTI",
          "DOMINICA",
          "DOMINICAN REPUBLIC",
          "ECUADOR",
          "EGYPT",
          "EL SALVADOR",
          "EQUATORIAL GUINEA",
          "ERITREA",
          "ESTONIA",
          "ETHIOPIA",
          "FAROE ISLANDS",
          "FIJI",
          "FINLAND",
          "FRANCE",
          "GABON",
          "GEORGIA",
          "GERMANY",
          "GHANA",
          "GREECE",
          "GREENLAND",
          "GRENADA",
          "GUADELOUPE",
          "GUAM",
          "GUATEMALA",
          "GUINEA",
          "GUINEA-BISSAU",
          "GUYANA",
          "HAITI",
          "HONDURAS",
          "HONG KONG",
          "HUNGARY",
          "ICELAND",
          "INDIA",
          "INDONESIA",
          "IRAQ",
          "IRELAND",
          "ITALY",
          "JAMAICA",
          "JAPAN",
          "JORDAN",
          "KAZAKHSTAN",
          "KENYA",
          "KIRIBATI",
          "KUWAIT",
          "KYRGYZSTAN",
          "LATVIA",
          "LEBANON",
          "LESOTHO",
          "LIBERIA",
          "LIBYA",
          "LIECHTENSTEIN",
          "LITHUANIA",
          "LUXEMBOURG",
          "MADAGASCAR",
          "MALAWI",
          "MALAYSIA",
          "MALDIVES",
          "MALTA",
          "MARSHALL ISLANDS",
          "MAURITANIA",
          "MAURITIUS",
          "MAYOTTE",
          "MEXICO",
          "MONACO",
          "MONGOLIA",
          "MOROCCO",
          "MOZAMBIQUE",
          "NAMIBIA",
          "NAURU",
          "NEPAL",
          "NETHERLANDS",
          "NEW CALEDONIA",
          "NEW ZEALAND",
          "NICARAGUA",
          "NIGER",
          "NIGERIA",
          "NORWAY",
          "OMAN",
          "PAKISTAN",
          "PANAMA",
          "PAPUA NEW GUINEA",
          "PARAGUAY",
          "PERU",
          "PHILIPPINES",
          "POLAND",
          "PORTUGAL",
          "PUERTO RICO",
          "QATAR",
          "REUNION",
          "ROMANIA",
          "RWANDA",
          "SAINT LUCIA",
          "SAN MARINO",
          "SAUDI ARABIA",
          "SENEGAL",
          "SERBIA",
          "SEYCHELLES",
          "SIERRA LEONE",
          "SINGAPORE",
          "SLOVAKIA",
          "SLOVENIA",
          "SOLOMON ISLANDS",
          "SOMALIA",
          "SOUTH AFRICA",
          "SPAIN",
          "SRI LANKA",
          "SUDAN",
          "SURINAME",
          "SWAZILAND",
          "SWEDEN",
          "SWITZERLAND",
          "TAJIKISTAN",
          "THAILAND",
          "TOGO",
          "TUNISIA",
          "TURKEY",
          "TURKMENISTAN",
          "UGANDA",
          "UKRAINE",
          "UNITED ARAB EMIRATES",
          "UNITED KINGDOM",
          "UNITED STATES",
          "URUGUAY",
          "UZBEKISTAN",
          "VANUATU",
          "VIET NAM",
          "YEMEN",
          "ZAMBIA",
          "ZIMBABWE",
          "ASIA (EX. NEAR EAST)         ",
          "BALTICS                            ",
          "C.W. OF IND. STATES ",
          "EASTERN EUROPE                     ",
          "LATIN AMER. & CARIB    ",
          "NEAR EAST                          ",
          "NORTHERN AFRICA                    ",
          "NORTHERN AMERICA                   ",
          "OCEANIA                            ",
          "SUB-SAHARAN AFRICA                 ",
          "WESTERN EUROPE                     ",
          "world"
         ],
         "marker": {
          "coloraxis": "coloraxis",
          "colors": [
           3.966704,
           1.198657,
           358.18759900000003,
           1.987497,
           0.079208,
           62.483235,
           4813.090839999998,
           0.19001500000000004,
           0.047695999999999995,
           21584.545898999997,
           2828.9425360000005,
           0.578543,
           441.669982,
           1064.1469769999997,
           2.440137,
           302.0383469999999,
           2919.2416020000005,
           1.6485930000000004,
           2.234012,
           1.3038800000000001,
           0.025349,
           7933.657457,
           148.426409,
           21.354987000000005,
           0.6735380000000001,
           706.3719580000001,
           332.2060150000001,
           3272.531399,
           0.128959,
           0.13917200000000002,
           0.001213,
           505.2694620000001,
           175416.54197700002,
           471.66890600000005,
           0.33410100000000004,
           0.0014060000000000001,
           101.849284,
           1920.6103019999998,
           15.476560000000003,
           5.323032999999999,
           30.066319000000004,
           984.2657580000001,
           938.0942219999997,
           3.058949,
           0.636444,
           11.706759999999997,
           517.9985699999999,
           543.1662389999998,
           10.368670999999999,
           0.247766,
           0.085302,
           35.80419999999999,
           6.850173999999999,
           0.19528399999999999,
           12.97775,
           803.8250129999998,
           16626.237476000002,
           239.03712900000002,
           69.40208600000001,
           26380.358233999992,
           1014.9104129999998,
           65.825262,
           0.098115,
           0.045901,
           0.16835,
           0.20439999999999997,
           48.186966,
           45.324628,
           0.174313,
           2.1441909999999997,
           2.722324,
           5.2408269999999995,
           15140.878814,
           717.904147,
           1.4963620000000002,
           26497.011569,
           40490.25902599999,
           1385.768951,
           4641.980199,
           6688.520557,
           4.233543,
           63857.51172500002,
           275.00830199999996,
           36.69216999999999,
           24.400803999999997,
           8.656153,
           1928.4531430000002,
           0.2869070000000001,
           61.792480000000005,
           23.290205999999994,
           0.371559,
           58.956747,
           2066.5461539999997,
           0.08470899999999999,
           275.19726,
           78.759128,
           22.867799000000005,
           6.108986000000001,
           262.153387,
           2.424788,
           553.371608,
           10.047556,
           1.640216,
           13.08463,
           0.025979999999999996,
           1485.1741739999998,
           0.056236999999999995,
           2.453754,
           95.91967500000001,
           39.907596999999996,
           84.30820599999997,
           0.059592,
           1.182015,
           6772.233738999998,
           0.322381,
           3334.8790260000005,
           29.990989999999996,
           0.02153,
           1144.052404,
           936.0101029999997,
           2272.821713,
           757.4641239999997,
           199.335465,
           619.8843729999998,
           0.257216,
           454.07812600000005,
           9198.999577000004,
           789.947113,
           249.25895000000003,
           47.362042999999986,
           2731.1687570000004,
           1.323279,
           144.27058300000002,
           89.453527,
           0.188886,
           0.001127,
           17901.324815000007,
           3.6376249999999994,
           15.148421,
           26.485727,
           0.8976080000000002,
           103071.08236300004,
           142.900005,
           137.18613099999996,
           49.02187300000001,
           5.496274,
           3069.6922969999987,
           2979.668181999999,
           244.55035099999995,
           3.345959,
           10.893835,
           3.6615759999999997,
           1817.7614959999999,
           10631.751183000002,
           3.0462769999999995,
           48623.717038,
           32.955507,
           104.17188800000001,
           1827.4516409999999,
           11.404714,
           65.151006,
           600.6214790000002,
           11670.735872999998,
           6972.337072,
           64947.348923,
           26.010056999999996,
           13.404088999999999,
           12.021380999999998,
           19456.974985000004,
           415.152535,
           34.101462999999995,
           3.101451,
           100778.70091619447,
           216.8323423757854,
           441.81496322253696,
           707.437059975938,
           5351.3147124132065,
           11703.613451487758,
           1488.0068997471083,
           61988.69731098295,
           18623.306762217206,
           1866.8819281840422,
           13754.899795725572,
           75076.37980043735
          ]
         },
         "name": "",
         "parents": [
          "world/ASIA (EX. NEAR EAST)         ",
          "world/EASTERN EUROPE                     ",
          "world/NORTHERN AFRICA                    ",
          "world/OCEANIA                            ",
          "world/WESTERN EUROPE                     ",
          "world/SUB-SAHARAN AFRICA                 ",
          "world/LATIN AMER. & CARIB    ",
          "world/C.W. OF IND. STATES ",
          "world/LATIN AMER. & CARIB    ",
          "world/OCEANIA                            ",
          "world/WESTERN EUROPE                     ",
          "world/C.W. OF IND. STATES ",
          "world/NEAR EAST                          ",
          "world/ASIA (EX. NEAR EAST)         ",
          "world/LATIN AMER. & CARIB    ",
          "world/C.W. OF IND. STATES ",
          "world/WESTERN EUROPE                     ",
          "world/LATIN AMER. & CARIB    ",
          "world/SUB-SAHARAN AFRICA                 ",
          "world/ASIA (EX. NEAR EAST)         ",
          "world/SUB-SAHARAN AFRICA                 ",
          "world/LATIN AMER. & CARIB    ",
          "world/EASTERN EUROPE                     ",
          "world/SUB-SAHARAN AFRICA                 ",
          "world/SUB-SAHARAN AFRICA                 ",
          "world/ASIA (EX. NEAR EAST)         ",
          "world/SUB-SAHARAN AFRICA                 ",
          "world/NORTHERN AMERICA                   ",
          "world/SUB-SAHARAN AFRICA                 ",
          "world/LATIN AMER. & CARIB    ",
          "world/SUB-SAHARAN AFRICA                 ",
          "world/LATIN AMER. & CARIB    ",
          "world/ASIA (EX. NEAR EAST)         ",
          "world/LATIN AMER. & CARIB    ",
          "world/SUB-SAHARAN AFRICA                 ",
          "world/OCEANIA                            ",
          "world/LATIN AMER. & CARIB    ",
          "world/SUB-SAHARAN AFRICA                 ",
          "world/EASTERN EUROPE                     ",
          "world/LATIN AMER. & CARIB    ",
          "world/NEAR EAST                          ",
          "world/EASTERN EUROPE                     ",
          "world/WESTERN EUROPE                     ",
          "world/SUB-SAHARAN AFRICA                 ",
          "world/LATIN AMER. & CARIB    ",
          "world/LATIN AMER. & CARIB    ",
          "world/LATIN AMER. & CARIB    ",
          "world/NORTHERN AFRICA                    ",
          "world/LATIN AMER. & CARIB    ",
          "world/SUB-SAHARAN AFRICA                 ",
          "world/SUB-SAHARAN AFRICA                 ",
          "world/BALTICS                            ",
          "world/SUB-SAHARAN AFRICA                 ",
          "world/WESTERN EUROPE                     ",
          "world/OCEANIA                            ",
          "world/WESTERN EUROPE                     ",
          "world/WESTERN EUROPE                     ",
          "world/SUB-SAHARAN AFRICA                 ",
          "world/C.W. OF IND. STATES ",
          "world/WESTERN EUROPE                     ",
          "world/SUB-SAHARAN AFRICA                 ",
          "world/WESTERN EUROPE                     ",
          "world/NORTHERN AMERICA                   ",
          "world/LATIN AMER. & CARIB    ",
          "world/LATIN AMER. & CARIB    ",
          "world/OCEANIA                            ",
          "world/LATIN AMER. & CARIB    ",
          "world/SUB-SAHARAN AFRICA                 ",
          "world/SUB-SAHARAN AFRICA                 ",
          "world/LATIN AMER. & CARIB    ",
          "world/LATIN AMER. & CARIB    ",
          "world/LATIN AMER. & CARIB    ",
          "world/ASIA (EX. NEAR EAST)         ",
          "world/EASTERN EUROPE                     ",
          "world/WESTERN EUROPE                     ",
          "world/ASIA (EX. NEAR EAST)         ",
          "world/ASIA (EX. NEAR EAST)         ",
          "world/NEAR EAST                          ",
          "world/WESTERN EUROPE                     ",
          "world/WESTERN EUROPE                     ",
          "world/LATIN AMER. & CARIB    ",
          "world/ASIA (EX. NEAR EAST)         ",
          "world/NEAR EAST                          ",
          "world/C.W. OF IND. STATES ",
          "world/SUB-SAHARAN AFRICA                 ",
          "world/OCEANIA                            ",
          "world/NEAR EAST                          ",
          "world/C.W. OF IND. STATES ",
          "world/BALTICS                            ",
          "world/NEAR EAST                          ",
          "world/SUB-SAHARAN AFRICA                 ",
          "world/SUB-SAHARAN AFRICA                 ",
          "world/NORTHERN AFRICA                    ",
          "world/WESTERN EUROPE                     ",
          "world/BALTICS                            ",
          "world/WESTERN EUROPE                     ",
          "world/SUB-SAHARAN AFRICA                 ",
          "world/SUB-SAHARAN AFRICA                 ",
          "world/ASIA (EX. NEAR EAST)         ",
          "world/ASIA (EX. NEAR EAST)         ",
          "world/WESTERN EUROPE                     ",
          "world/OCEANIA                            ",
          "world/SUB-SAHARAN AFRICA                 ",
          "world/SUB-SAHARAN AFRICA                 ",
          "world/SUB-SAHARAN AFRICA                 ",
          "world/LATIN AMER. & CARIB    ",
          "world/WESTERN EUROPE                     ",
          "world/ASIA (EX. NEAR EAST)         ",
          "world/NORTHERN AFRICA                    ",
          "world/SUB-SAHARAN AFRICA                 ",
          "world/SUB-SAHARAN AFRICA                 ",
          "world/OCEANIA                            ",
          "world/ASIA (EX. NEAR EAST)         ",
          "world/WESTERN EUROPE                     ",
          "world/OCEANIA                            ",
          "world/OCEANIA                            ",
          "world/LATIN AMER. & CARIB    ",
          "world/SUB-SAHARAN AFRICA                 ",
          "world/SUB-SAHARAN AFRICA                 ",
          "world/WESTERN EUROPE                     ",
          "world/NEAR EAST                          ",
          "world/ASIA (EX. NEAR EAST)         ",
          "world/LATIN AMER. & CARIB    ",
          "world/OCEANIA                            ",
          "world/LATIN AMER. & CARIB    ",
          "world/LATIN AMER. & CARIB    ",
          "world/ASIA (EX. NEAR EAST)         ",
          "world/EASTERN EUROPE                     ",
          "world/WESTERN EUROPE                     ",
          "world/LATIN AMER. & CARIB    ",
          "world/NEAR EAST                          ",
          "world/SUB-SAHARAN AFRICA                 ",
          "world/EASTERN EUROPE                     ",
          "world/SUB-SAHARAN AFRICA                 ",
          "world/LATIN AMER. & CARIB    ",
          "world/WESTERN EUROPE                     ",
          "world/NEAR EAST                          ",
          "world/SUB-SAHARAN AFRICA                 ",
          "world/EASTERN EUROPE                     ",
          "world/SUB-SAHARAN AFRICA                 ",
          "world/SUB-SAHARAN AFRICA                 ",
          "world/ASIA (EX. NEAR EAST)         ",
          "world/EASTERN EUROPE                     ",
          "world/EASTERN EUROPE                     ",
          "world/OCEANIA                            ",
          "world/SUB-SAHARAN AFRICA                 ",
          "world/SUB-SAHARAN AFRICA                 ",
          "world/WESTERN EUROPE                     ",
          "world/ASIA (EX. NEAR EAST)         ",
          "world/SUB-SAHARAN AFRICA                 ",
          "world/LATIN AMER. & CARIB    ",
          "world/SUB-SAHARAN AFRICA                 ",
          "world/WESTERN EUROPE                     ",
          "world/WESTERN EUROPE                     ",
          "world/C.W. OF IND. STATES ",
          "world/ASIA (EX. NEAR EAST)         ",
          "world/SUB-SAHARAN AFRICA                 ",
          "world/NORTHERN AFRICA                    ",
          "world/NEAR EAST                          ",
          "world/C.W. OF IND. STATES ",
          "world/SUB-SAHARAN AFRICA                 ",
          "world/C.W. OF IND. STATES ",
          "world/NEAR EAST                          ",
          "world/WESTERN EUROPE                     ",
          "world/NORTHERN AMERICA                   ",
          "world/LATIN AMER. & CARIB    ",
          "world/C.W. OF IND. STATES ",
          "world/OCEANIA                            ",
          "world/ASIA (EX. NEAR EAST)         ",
          "world/NEAR EAST                          ",
          "world/SUB-SAHARAN AFRICA                 ",
          "world/SUB-SAHARAN AFRICA                 ",
          "world",
          "world",
          "world",
          "world",
          "world",
          "world",
          "world",
          "world",
          "world",
          "world",
          "world",
          ""
         ],
         "type": "treemap",
         "values": [
          3.966704,
          1.198657,
          358.18759900000003,
          1.987497,
          0.079208,
          62.483235,
          4813.090839999998,
          0.19001500000000002,
          0.047695999999999995,
          21584.545898999997,
          2828.9425360000005,
          0.578543,
          441.669982,
          1064.1469769999997,
          2.440137,
          302.0383469999999,
          2919.2416020000005,
          1.6485930000000002,
          2.234012,
          1.3038800000000001,
          0.025349,
          7933.657457,
          148.426409,
          21.354987000000005,
          0.6735380000000001,
          706.3719580000001,
          332.2060150000001,
          3272.531399,
          0.128959,
          0.13917200000000002,
          0.001213,
          505.2694620000001,
          175416.54197700002,
          471.66890600000005,
          0.33410100000000004,
          0.0014060000000000001,
          101.849284,
          1920.6103019999998,
          15.476560000000003,
          5.323032999999999,
          30.066319000000004,
          984.2657580000001,
          938.0942219999997,
          3.058949,
          0.636444,
          11.706759999999997,
          517.9985699999999,
          543.1662389999998,
          10.368670999999999,
          0.247766,
          0.085302,
          35.80419999999999,
          6.850173999999999,
          0.19528399999999999,
          12.97775,
          803.8250129999998,
          16626.237476000002,
          239.03712900000002,
          69.40208600000001,
          26380.358233999996,
          1014.9104129999998,
          65.825262,
          0.098115,
          0.045901,
          0.16835,
          0.20439999999999997,
          48.186966,
          45.324628,
          0.174313,
          2.1441909999999997,
          2.722324,
          5.2408269999999995,
          15140.878814,
          717.904147,
          1.4963620000000002,
          26497.011569,
          40490.25902599999,
          1385.768951,
          4641.980199,
          6688.520557,
          4.233543,
          63857.51172500002,
          275.00830199999996,
          36.69216999999999,
          24.400803999999997,
          8.656153,
          1928.4531430000002,
          0.2869070000000001,
          61.792480000000005,
          23.290205999999994,
          0.371559,
          58.956747,
          2066.5461539999997,
          0.08470899999999999,
          275.19726,
          78.759128,
          22.867799000000005,
          6.108986000000001,
          262.153387,
          2.424788,
          553.371608,
          10.047556,
          1.640216,
          13.08463,
          0.025979999999999996,
          1485.1741739999998,
          0.056236999999999995,
          2.453754,
          95.91967500000001,
          39.907596999999996,
          84.30820599999997,
          0.059592,
          1.182015,
          6772.233738999998,
          0.322381,
          3334.8790260000005,
          29.990989999999996,
          0.02153,
          1144.052404,
          936.0101029999997,
          2272.821713,
          757.4641239999997,
          199.33546500000003,
          619.8843729999998,
          0.257216,
          454.07812600000005,
          9198.999577000004,
          789.9471130000001,
          249.25895000000003,
          47.36204299999999,
          2731.1687570000004,
          1.323279,
          144.27058300000002,
          89.453527,
          0.188886,
          0.001127,
          17901.324815000007,
          3.6376249999999994,
          15.148421,
          26.485727,
          0.8976080000000002,
          103071.08236300002,
          142.900005,
          137.18613099999996,
          49.02187300000001,
          5.496274,
          3069.692296999999,
          2979.668181999999,
          244.55035099999995,
          3.345959,
          10.893835,
          3.6615759999999997,
          1817.7614959999999,
          10631.751183000002,
          3.046277,
          48623.717038,
          32.955507,
          104.17188800000001,
          1827.4516409999999,
          11.404714,
          65.151006,
          600.6214790000002,
          11670.735872999998,
          6972.337072,
          64947.348923,
          26.010056999999996,
          13.404088999999999,
          12.021381,
          19456.974985000004,
          415.152535,
          34.101462999999995,
          3.101451,
          504798.995012,
          372.79394,
          1037.664627,
          3096.723784,
          16691.877918999995,
          40902.91223700001,
          3167.9915549999996,
          68219.978437,
          25634.609286999996,
          8384.790142000003,
          92886.08948899998,
          765194.4264290001
         ]
        }
       ],
       "layout": {
        "coloraxis": {
         "colorbar": {
          "title": {
           "text": "MILLION"
          }
         },
         "colorscale": [
          [
           0,
           "rgb(103,0,31)"
          ],
          [
           0.1,
           "rgb(178,24,43)"
          ],
          [
           0.2,
           "rgb(214,96,77)"
          ],
          [
           0.3,
           "rgb(244,165,130)"
          ],
          [
           0.4,
           "rgb(253,219,199)"
          ],
          [
           0.5,
           "rgb(247,247,247)"
          ],
          [
           0.6,
           "rgb(209,229,240)"
          ],
          [
           0.7,
           "rgb(146,197,222)"
          ],
          [
           0.8,
           "rgb(67,147,195)"
          ],
          [
           0.9,
           "rgb(33,102,172)"
          ],
          [
           1,
           "rgb(5,48,97)"
          ]
         ]
        },
        "legend": {
         "tracegroupgap": 0
        },
        "margin": {
         "t": 60
        },
        "template": {
         "data": {
          "bar": [
           {
            "error_x": {
             "color": "#2a3f5f"
            },
            "error_y": {
             "color": "#2a3f5f"
            },
            "marker": {
             "line": {
              "color": "#E5ECF6",
              "width": 0.5
             }
            },
            "type": "bar"
           }
          ],
          "barpolar": [
           {
            "marker": {
             "line": {
              "color": "#E5ECF6",
              "width": 0.5
             }
            },
            "type": "barpolar"
           }
          ],
          "carpet": [
           {
            "aaxis": {
             "endlinecolor": "#2a3f5f",
             "gridcolor": "white",
             "linecolor": "white",
             "minorgridcolor": "white",
             "startlinecolor": "#2a3f5f"
            },
            "baxis": {
             "endlinecolor": "#2a3f5f",
             "gridcolor": "white",
             "linecolor": "white",
             "minorgridcolor": "white",
             "startlinecolor": "#2a3f5f"
            },
            "type": "carpet"
           }
          ],
          "choropleth": [
           {
            "colorbar": {
             "outlinewidth": 0,
             "ticks": ""
            },
            "type": "choropleth"
           }
          ],
          "contour": [
           {
            "colorbar": {
             "outlinewidth": 0,
             "ticks": ""
            },
            "colorscale": [
             [
              0,
              "#0d0887"
             ],
             [
              0.1111111111111111,
              "#46039f"
             ],
             [
              0.2222222222222222,
              "#7201a8"
             ],
             [
              0.3333333333333333,
              "#9c179e"
             ],
             [
              0.4444444444444444,
              "#bd3786"
             ],
             [
              0.5555555555555556,
              "#d8576b"
             ],
             [
              0.6666666666666666,
              "#ed7953"
             ],
             [
              0.7777777777777778,
              "#fb9f3a"
             ],
             [
              0.8888888888888888,
              "#fdca26"
             ],
             [
              1,
              "#f0f921"
             ]
            ],
            "type": "contour"
           }
          ],
          "contourcarpet": [
           {
            "colorbar": {
             "outlinewidth": 0,
             "ticks": ""
            },
            "type": "contourcarpet"
           }
          ],
          "heatmap": [
           {
            "colorbar": {
             "outlinewidth": 0,
             "ticks": ""
            },
            "colorscale": [
             [
              0,
              "#0d0887"
             ],
             [
              0.1111111111111111,
              "#46039f"
             ],
             [
              0.2222222222222222,
              "#7201a8"
             ],
             [
              0.3333333333333333,
              "#9c179e"
             ],
             [
              0.4444444444444444,
              "#bd3786"
             ],
             [
              0.5555555555555556,
              "#d8576b"
             ],
             [
              0.6666666666666666,
              "#ed7953"
             ],
             [
              0.7777777777777778,
              "#fb9f3a"
             ],
             [
              0.8888888888888888,
              "#fdca26"
             ],
             [
              1,
              "#f0f921"
             ]
            ],
            "type": "heatmap"
           }
          ],
          "heatmapgl": [
           {
            "colorbar": {
             "outlinewidth": 0,
             "ticks": ""
            },
            "colorscale": [
             [
              0,
              "#0d0887"
             ],
             [
              0.1111111111111111,
              "#46039f"
             ],
             [
              0.2222222222222222,
              "#7201a8"
             ],
             [
              0.3333333333333333,
              "#9c179e"
             ],
             [
              0.4444444444444444,
              "#bd3786"
             ],
             [
              0.5555555555555556,
              "#d8576b"
             ],
             [
              0.6666666666666666,
              "#ed7953"
             ],
             [
              0.7777777777777778,
              "#fb9f3a"
             ],
             [
              0.8888888888888888,
              "#fdca26"
             ],
             [
              1,
              "#f0f921"
             ]
            ],
            "type": "heatmapgl"
           }
          ],
          "histogram": [
           {
            "marker": {
             "colorbar": {
              "outlinewidth": 0,
              "ticks": ""
             }
            },
            "type": "histogram"
           }
          ],
          "histogram2d": [
           {
            "colorbar": {
             "outlinewidth": 0,
             "ticks": ""
            },
            "colorscale": [
             [
              0,
              "#0d0887"
             ],
             [
              0.1111111111111111,
              "#46039f"
             ],
             [
              0.2222222222222222,
              "#7201a8"
             ],
             [
              0.3333333333333333,
              "#9c179e"
             ],
             [
              0.4444444444444444,
              "#bd3786"
             ],
             [
              0.5555555555555556,
              "#d8576b"
             ],
             [
              0.6666666666666666,
              "#ed7953"
             ],
             [
              0.7777777777777778,
              "#fb9f3a"
             ],
             [
              0.8888888888888888,
              "#fdca26"
             ],
             [
              1,
              "#f0f921"
             ]
            ],
            "type": "histogram2d"
           }
          ],
          "histogram2dcontour": [
           {
            "colorbar": {
             "outlinewidth": 0,
             "ticks": ""
            },
            "colorscale": [
             [
              0,
              "#0d0887"
             ],
             [
              0.1111111111111111,
              "#46039f"
             ],
             [
              0.2222222222222222,
              "#7201a8"
             ],
             [
              0.3333333333333333,
              "#9c179e"
             ],
             [
              0.4444444444444444,
              "#bd3786"
             ],
             [
              0.5555555555555556,
              "#d8576b"
             ],
             [
              0.6666666666666666,
              "#ed7953"
             ],
             [
              0.7777777777777778,
              "#fb9f3a"
             ],
             [
              0.8888888888888888,
              "#fdca26"
             ],
             [
              1,
              "#f0f921"
             ]
            ],
            "type": "histogram2dcontour"
           }
          ],
          "mesh3d": [
           {
            "colorbar": {
             "outlinewidth": 0,
             "ticks": ""
            },
            "type": "mesh3d"
           }
          ],
          "parcoords": [
           {
            "line": {
             "colorbar": {
              "outlinewidth": 0,
              "ticks": ""
             }
            },
            "type": "parcoords"
           }
          ],
          "pie": [
           {
            "automargin": true,
            "type": "pie"
           }
          ],
          "scatter": [
           {
            "marker": {
             "colorbar": {
              "outlinewidth": 0,
              "ticks": ""
             }
            },
            "type": "scatter"
           }
          ],
          "scatter3d": [
           {
            "line": {
             "colorbar": {
              "outlinewidth": 0,
              "ticks": ""
             }
            },
            "marker": {
             "colorbar": {
              "outlinewidth": 0,
              "ticks": ""
             }
            },
            "type": "scatter3d"
           }
          ],
          "scattercarpet": [
           {
            "marker": {
             "colorbar": {
              "outlinewidth": 0,
              "ticks": ""
             }
            },
            "type": "scattercarpet"
           }
          ],
          "scattergeo": [
           {
            "marker": {
             "colorbar": {
              "outlinewidth": 0,
              "ticks": ""
             }
            },
            "type": "scattergeo"
           }
          ],
          "scattergl": [
           {
            "marker": {
             "colorbar": {
              "outlinewidth": 0,
              "ticks": ""
             }
            },
            "type": "scattergl"
           }
          ],
          "scattermapbox": [
           {
            "marker": {
             "colorbar": {
              "outlinewidth": 0,
              "ticks": ""
             }
            },
            "type": "scattermapbox"
           }
          ],
          "scatterpolar": [
           {
            "marker": {
             "colorbar": {
              "outlinewidth": 0,
              "ticks": ""
             }
            },
            "type": "scatterpolar"
           }
          ],
          "scatterpolargl": [
           {
            "marker": {
             "colorbar": {
              "outlinewidth": 0,
              "ticks": ""
             }
            },
            "type": "scatterpolargl"
           }
          ],
          "scatterternary": [
           {
            "marker": {
             "colorbar": {
              "outlinewidth": 0,
              "ticks": ""
             }
            },
            "type": "scatterternary"
           }
          ],
          "surface": [
           {
            "colorbar": {
             "outlinewidth": 0,
             "ticks": ""
            },
            "colorscale": [
             [
              0,
              "#0d0887"
             ],
             [
              0.1111111111111111,
              "#46039f"
             ],
             [
              0.2222222222222222,
              "#7201a8"
             ],
             [
              0.3333333333333333,
              "#9c179e"
             ],
             [
              0.4444444444444444,
              "#bd3786"
             ],
             [
              0.5555555555555556,
              "#d8576b"
             ],
             [
              0.6666666666666666,
              "#ed7953"
             ],
             [
              0.7777777777777778,
              "#fb9f3a"
             ],
             [
              0.8888888888888888,
              "#fdca26"
             ],
             [
              1,
              "#f0f921"
             ]
            ],
            "type": "surface"
           }
          ],
          "table": [
           {
            "cells": {
             "fill": {
              "color": "#EBF0F8"
             },
             "line": {
              "color": "white"
             }
            },
            "header": {
             "fill": {
              "color": "#C8D4E3"
             },
             "line": {
              "color": "white"
             }
            },
            "type": "table"
           }
          ]
         },
         "layout": {
          "annotationdefaults": {
           "arrowcolor": "#2a3f5f",
           "arrowhead": 0,
           "arrowwidth": 1
          },
          "coloraxis": {
           "colorbar": {
            "outlinewidth": 0,
            "ticks": ""
           }
          },
          "colorscale": {
           "diverging": [
            [
             0,
             "#8e0152"
            ],
            [
             0.1,
             "#c51b7d"
            ],
            [
             0.2,
             "#de77ae"
            ],
            [
             0.3,
             "#f1b6da"
            ],
            [
             0.4,
             "#fde0ef"
            ],
            [
             0.5,
             "#f7f7f7"
            ],
            [
             0.6,
             "#e6f5d0"
            ],
            [
             0.7,
             "#b8e186"
            ],
            [
             0.8,
             "#7fbc41"
            ],
            [
             0.9,
             "#4d9221"
            ],
            [
             1,
             "#276419"
            ]
           ],
           "sequential": [
            [
             0,
             "#0d0887"
            ],
            [
             0.1111111111111111,
             "#46039f"
            ],
            [
             0.2222222222222222,
             "#7201a8"
            ],
            [
             0.3333333333333333,
             "#9c179e"
            ],
            [
             0.4444444444444444,
             "#bd3786"
            ],
            [
             0.5555555555555556,
             "#d8576b"
            ],
            [
             0.6666666666666666,
             "#ed7953"
            ],
            [
             0.7777777777777778,
             "#fb9f3a"
            ],
            [
             0.8888888888888888,
             "#fdca26"
            ],
            [
             1,
             "#f0f921"
            ]
           ],
           "sequentialminus": [
            [
             0,
             "#0d0887"
            ],
            [
             0.1111111111111111,
             "#46039f"
            ],
            [
             0.2222222222222222,
             "#7201a8"
            ],
            [
             0.3333333333333333,
             "#9c179e"
            ],
            [
             0.4444444444444444,
             "#bd3786"
            ],
            [
             0.5555555555555556,
             "#d8576b"
            ],
            [
             0.6666666666666666,
             "#ed7953"
            ],
            [
             0.7777777777777778,
             "#fb9f3a"
            ],
            [
             0.8888888888888888,
             "#fdca26"
            ],
            [
             1,
             "#f0f921"
            ]
           ]
          },
          "colorway": [
           "#636efa",
           "#EF553B",
           "#00cc96",
           "#ab63fa",
           "#FFA15A",
           "#19d3f3",
           "#FF6692",
           "#B6E880",
           "#FF97FF",
           "#FECB52"
          ],
          "font": {
           "color": "#2a3f5f"
          },
          "geo": {
           "bgcolor": "white",
           "lakecolor": "white",
           "landcolor": "#E5ECF6",
           "showlakes": true,
           "showland": true,
           "subunitcolor": "white"
          },
          "hoverlabel": {
           "align": "left"
          },
          "hovermode": "closest",
          "mapbox": {
           "style": "light"
          },
          "paper_bgcolor": "white",
          "plot_bgcolor": "#E5ECF6",
          "polar": {
           "angularaxis": {
            "gridcolor": "white",
            "linecolor": "white",
            "ticks": ""
           },
           "bgcolor": "#E5ECF6",
           "radialaxis": {
            "gridcolor": "white",
            "linecolor": "white",
            "ticks": ""
           }
          },
          "scene": {
           "xaxis": {
            "backgroundcolor": "#E5ECF6",
            "gridcolor": "white",
            "gridwidth": 2,
            "linecolor": "white",
            "showbackground": true,
            "ticks": "",
            "zerolinecolor": "white"
           },
           "yaxis": {
            "backgroundcolor": "#E5ECF6",
            "gridcolor": "white",
            "gridwidth": 2,
            "linecolor": "white",
            "showbackground": true,
            "ticks": "",
            "zerolinecolor": "white"
           },
           "zaxis": {
            "backgroundcolor": "#E5ECF6",
            "gridcolor": "white",
            "gridwidth": 2,
            "linecolor": "white",
            "showbackground": true,
            "ticks": "",
            "zerolinecolor": "white"
           }
          },
          "shapedefaults": {
           "line": {
            "color": "#2a3f5f"
           }
          },
          "ternary": {
           "aaxis": {
            "gridcolor": "white",
            "linecolor": "white",
            "ticks": ""
           },
           "baxis": {
            "gridcolor": "white",
            "linecolor": "white",
            "ticks": ""
           },
           "bgcolor": "#E5ECF6",
           "caxis": {
            "gridcolor": "white",
            "linecolor": "white",
            "ticks": ""
           }
          },
          "title": {
           "x": 0.05
          },
          "xaxis": {
           "automargin": true,
           "gridcolor": "white",
           "linecolor": "white",
           "ticks": "",
           "title": {
            "standoff": 15
           },
           "zerolinecolor": "white",
           "zerolinewidth": 2
          },
          "yaxis": {
           "automargin": true,
           "gridcolor": "white",
           "linecolor": "white",
           "ticks": "",
           "title": {
            "standoff": 15
           },
           "zerolinecolor": "white",
           "zerolinewidth": 2
          }
         }
        }
       }
      },
      "text/html": [
       "<div>                            <div id=\"699324b9-5f44-4aed-a971-30320326388e\" class=\"plotly-graph-div\" style=\"height:525px; width:100%;\"></div>            <script type=\"text/javascript\">                require([\"plotly\"], function(Plotly) {                    window.PLOTLYENV=window.PLOTLYENV || {};                                    if (document.getElementById(\"699324b9-5f44-4aed-a971-30320326388e\")) {                    Plotly.newPlot(                        \"699324b9-5f44-4aed-a971-30320326388e\",                        [{\"branchvalues\": \"total\", \"customdata\": [[3.966704, 3.966704], [1.198657, 1.198657], [358.18759900000003, 358.18759900000003], [1.987497, 1.987497], [0.079208, 0.079208], [62.483235, 62.483235], [4813.090839999998, 4813.090839999998], [0.19001500000000004, 0.19001500000000004], [0.047695999999999995, 0.047695999999999995], [21584.545898999997, 21584.545898999997], [2828.9425360000005, 2828.9425360000005], [0.578543, 0.578543], [441.669982, 441.669982], [1064.1469769999997, 1064.1469769999997], [2.440137, 2.440137], [302.0383469999999, 302.0383469999999], [2919.2416020000005, 2919.2416020000005], [1.6485930000000004, 1.6485930000000004], [2.234012, 2.234012], [1.3038800000000001, 1.3038800000000001], [0.025349, 0.025349], [7933.657457, 7933.657457], [148.426409, 148.426409], [21.354987000000005, 21.354987000000005], [0.6735380000000001, 0.6735380000000001], [706.3719580000001, 706.3719580000001], [332.2060150000001, 332.2060150000001], [3272.531399, 3272.531399], [0.128959, 0.128959], [0.13917200000000002, 0.13917200000000002], [0.001213, 0.001213], [505.2694620000001, 505.2694620000001], [175416.54197700002, 175416.54197700002], [471.66890600000005, 471.66890600000005], [0.33410100000000004, 0.33410100000000004], [0.0014060000000000001, 0.0014060000000000001], [101.849284, 101.849284], [1920.6103019999998, 1920.6103019999998], [15.476560000000003, 15.476560000000003], [5.323032999999999, 5.323032999999999], [30.066319000000004, 30.066319000000004], [984.2657580000001, 984.2657580000001], [938.0942219999997, 938.0942219999997], [3.058949, 3.058949], [0.636444, 0.636444], [11.706759999999997, 11.706759999999997], [517.9985699999999, 517.9985699999999], [543.1662389999998, 543.1662389999998], [10.368670999999999, 10.368670999999999], [0.247766, 0.247766], [0.085302, 0.085302], [35.80419999999999, 35.80419999999999], [6.850173999999999, 6.850173999999999], [0.19528399999999999, 0.19528399999999999], [12.97775, 12.97775], [803.8250129999998, 803.8250129999998], [16626.237476000002, 16626.237476000002], [239.03712900000002, 239.03712900000002], [69.40208600000001, 69.40208600000001], [26380.358233999992, 26380.358233999992], [1014.9104129999998, 1014.9104129999998], [65.825262, 65.825262], [0.098115, 0.098115], [0.045901, 0.045901], [0.16835, 0.16835], [0.20439999999999997, 0.20439999999999997], [48.186966, 48.186966], [45.324628, 45.324628], [0.174313, 0.174313], [2.1441909999999997, 2.1441909999999997], [2.722324, 2.722324], [5.2408269999999995, 5.2408269999999995], [15140.878814, 15140.878814], [717.904147, 717.904147], [1.4963620000000002, 1.4963620000000002], [26497.011569, 26497.011569], [40490.25902599999, 40490.25902599999], [1385.768951, 1385.768951], [4641.980199, 4641.980199], [6688.520557, 6688.520557], [4.233543, 4.233543], [63857.51172500002, 63857.51172500002], [275.00830199999996, 275.00830199999996], [36.69216999999999, 36.69216999999999], [24.400803999999997, 24.400803999999997], [8.656153, 8.656153], [1928.4531430000002, 1928.4531430000002], [0.2869070000000001, 0.2869070000000001], [61.792480000000005, 61.792480000000005], [23.290205999999994, 23.290205999999994], [0.371559, 0.371559], [58.956747, 58.956747], [2066.5461539999997, 2066.5461539999997], [0.08470899999999999, 0.08470899999999999], [275.19726, 275.19726], [78.759128, 78.759128], [22.867799000000005, 22.867799000000005], [6.108986000000001, 6.108986000000001], [262.153387, 262.153387], [2.424788, 2.424788], [553.371608, 553.371608], [10.047556, 10.047556], [1.640216, 1.640216], [13.08463, 13.08463], [0.025979999999999996, 0.025979999999999996], [1485.1741739999998, 1485.1741739999998], [0.056236999999999995, 0.056236999999999995], [2.453754, 2.453754], [95.91967500000001, 95.91967500000001], [39.907596999999996, 39.907596999999996], [84.30820599999997, 84.30820599999997], [0.059592, 0.059592], [1.182015, 1.182015], [6772.233738999998, 6772.233738999998], [0.322381, 0.322381], [3334.8790260000005, 3334.8790260000005], [29.990989999999996, 29.990989999999996], [0.02153, 0.02153], [1144.052404, 1144.052404], [936.0101029999997, 936.0101029999997], [2272.821713, 2272.821713], [757.4641239999997, 757.4641239999997], [199.335465, 199.335465], [619.8843729999998, 619.8843729999998], [0.257216, 0.257216], [454.07812600000005, 454.07812600000005], [9198.999577000004, 9198.999577000004], [789.947113, 789.947113], [249.25895000000003, 249.25895000000003], [47.362042999999986, 47.362042999999986], [2731.1687570000004, 2731.1687570000004], [1.323279, 1.323279], [144.27058300000002, 144.27058300000002], [89.453527, 89.453527], [0.188886, 0.188886], [0.001127, 0.001127], [17901.324815000007, 17901.324815000007], [3.6376249999999994, 3.6376249999999994], [15.148421, 15.148421], [26.485727, 26.485727], [0.8976080000000002, 0.8976080000000002], [103071.08236300004, 103071.08236300004], [142.900005, 142.900005], [137.18613099999996, 137.18613099999996], [49.02187300000001, 49.02187300000001], [5.496274, 5.496274], [3069.6922969999987, 3069.6922969999987], [2979.668181999999, 2979.668181999999], [244.55035099999995, 244.55035099999995], [3.345959, 3.345959], [10.893835, 10.893835], [3.6615759999999997, 3.6615759999999997], [1817.7614959999999, 1817.7614959999999], [10631.751183000002, 10631.751183000002], [3.0462769999999995, 3.0462769999999995], [48623.717038, 48623.717038], [32.955507, 32.955507], [104.17188800000001, 104.17188800000001], [1827.4516409999999, 1827.4516409999999], [11.404714, 11.404714], [65.151006, 65.151006], [600.6214790000002, 600.6214790000002], [11670.735872999998, 11670.735872999998], [6972.337072, 6972.337072], [64947.348923, 64947.348923], [26.010056999999996, 26.010056999999996], [13.404088999999999, 13.404088999999999], [12.021380999999998, 12.021380999999998], [19456.974985000004, 19456.974985000004], [415.152535, 415.152535], [34.101462999999995, 34.101462999999995], [3.101451, 3.101451], [100778.70091619447, 100778.70091619447], [216.8323423757854, 216.8323423757854], [441.81496322253696, 441.81496322253696], [707.437059975938, 707.437059975938], [5351.3147124132065, 5351.3147124132065], [11703.613451487758, 11703.613451487758], [1488.0068997471083, 1488.0068997471083], [61988.69731098295, 61988.69731098295], [18623.306762217206, 18623.306762217206], [1866.8819281840422, 1866.8819281840422], [13754.899795725572, 13754.899795725572], [75076.37980043735, 75076.37980043735]], \"domain\": {\"x\": [0.0, 1.0], \"y\": [0.0, 1.0]}, \"hovertemplate\": \"labels=%{label}<br>MILLION_sum=%{value}<br>parent=%{parent}<br>id=%{id}<br>MILLION=%{color}<extra></extra>\", \"ids\": [\"world/ASIA (EX. NEAR EAST)         /AFGHANISTAN\", \"world/EASTERN EUROPE                     /ALBANIA\", \"world/NORTHERN AFRICA                    /ALGERIA\", \"world/OCEANIA                            /AMERICAN SAMOA\", \"world/WESTERN EUROPE                     /ANDORRA\", \"world/SUB-SAHARAN AFRICA                 /ANGOLA\", \"world/LATIN AMER. & CARIB    /ARGENTINA\", \"world/C.W. OF IND. STATES /ARMENIA\", \"world/LATIN AMER. & CARIB    /ARUBA\", \"world/OCEANIA                            /AUSTRALIA\", \"world/WESTERN EUROPE                     /AUSTRIA\", \"world/C.W. OF IND. STATES /AZERBAIJAN\", \"world/NEAR EAST                          /BAHRAIN\", \"world/ASIA (EX. NEAR EAST)         /BANGLADESH\", \"world/LATIN AMER. & CARIB    /BARBADOS\", \"world/C.W. OF IND. STATES /BELARUS\", \"world/WESTERN EUROPE                     /BELGIUM\", \"world/LATIN AMER. & CARIB    /BELIZE\", \"world/SUB-SAHARAN AFRICA                 /BENIN\", \"world/ASIA (EX. NEAR EAST)         /BHUTAN\", \"world/SUB-SAHARAN AFRICA                 /BOTSWANA\", \"world/LATIN AMER. & CARIB    /BRAZIL\", \"world/EASTERN EUROPE                     /BULGARIA\", \"world/SUB-SAHARAN AFRICA                 /BURKINA FASO\", \"world/SUB-SAHARAN AFRICA                 /BURUNDI\", \"world/ASIA (EX. NEAR EAST)         /CAMBODIA\", \"world/SUB-SAHARAN AFRICA                 /CAMEROON\", \"world/NORTHERN AMERICA                   /CANADA\", \"world/SUB-SAHARAN AFRICA                 /CAPE VERDE\", \"world/LATIN AMER. & CARIB    /CAYMAN ISLANDS\", \"world/SUB-SAHARAN AFRICA                 /CHAD\", \"world/LATIN AMER. & CARIB    /CHILE\", \"world/ASIA (EX. NEAR EAST)         /CHINA\", \"world/LATIN AMER. & CARIB    /COLOMBIA\", \"world/SUB-SAHARAN AFRICA                 /COMOROS\", \"world/OCEANIA                            /COOK ISLANDS\", \"world/LATIN AMER. & CARIB    /COSTA RICA\", \"world/SUB-SAHARAN AFRICA                 /COTE D'IVOIRE\", \"world/EASTERN EUROPE                     /CROATIA\", \"world/LATIN AMER. & CARIB    /CUBA\", \"world/NEAR EAST                          /CYPRUS\", \"world/EASTERN EUROPE                     /CZECH REPUBLIC\", \"world/WESTERN EUROPE                     /DENMARK\", \"world/SUB-SAHARAN AFRICA                 /DJIBOUTI\", \"world/LATIN AMER. & CARIB    /DOMINICA\", \"world/LATIN AMER. & CARIB    /DOMINICAN REPUBLIC\", \"world/LATIN AMER. & CARIB    /ECUADOR\", \"world/NORTHERN AFRICA                    /EGYPT\", \"world/LATIN AMER. & CARIB    /EL SALVADOR\", \"world/SUB-SAHARAN AFRICA                 /EQUATORIAL GUINEA\", \"world/SUB-SAHARAN AFRICA                 /ERITREA\", \"world/BALTICS                            /ESTONIA\", \"world/SUB-SAHARAN AFRICA                 /ETHIOPIA\", \"world/WESTERN EUROPE                     /FAROE ISLANDS\", \"world/OCEANIA                            /FIJI\", \"world/WESTERN EUROPE                     /FINLAND\", \"world/WESTERN EUROPE                     /FRANCE\", \"world/SUB-SAHARAN AFRICA                 /GABON\", \"world/C.W. OF IND. STATES /GEORGIA\", \"world/WESTERN EUROPE                     /GERMANY\", \"world/SUB-SAHARAN AFRICA                 /GHANA\", \"world/WESTERN EUROPE                     /GREECE\", \"world/NORTHERN AMERICA                   /GREENLAND\", \"world/LATIN AMER. & CARIB    /GRENADA\", \"world/LATIN AMER. & CARIB    /GUADELOUPE\", \"world/OCEANIA                            /GUAM\", \"world/LATIN AMER. & CARIB    /GUATEMALA\", \"world/SUB-SAHARAN AFRICA                 /GUINEA\", \"world/SUB-SAHARAN AFRICA                 /GUINEA-BISSAU\", \"world/LATIN AMER. & CARIB    /GUYANA\", \"world/LATIN AMER. & CARIB    /HAITI\", \"world/LATIN AMER. & CARIB    /HONDURAS\", \"world/ASIA (EX. NEAR EAST)         /HONG KONG\", \"world/EASTERN EUROPE                     /HUNGARY\", \"world/WESTERN EUROPE                     /ICELAND\", \"world/ASIA (EX. NEAR EAST)         /INDIA\", \"world/ASIA (EX. NEAR EAST)         /INDONESIA\", \"world/NEAR EAST                          /IRAQ\", \"world/WESTERN EUROPE                     /IRELAND\", \"world/WESTERN EUROPE                     /ITALY\", \"world/LATIN AMER. & CARIB    /JAMAICA\", \"world/ASIA (EX. NEAR EAST)         /JAPAN\", \"world/NEAR EAST                          /JORDAN\", \"world/C.W. OF IND. STATES /KAZAKHSTAN\", \"world/SUB-SAHARAN AFRICA                 /KENYA\", \"world/OCEANIA                            /KIRIBATI\", \"world/NEAR EAST                          /KUWAIT\", \"world/C.W. OF IND. STATES /KYRGYZSTAN\", \"world/BALTICS                            /LATVIA\", \"world/NEAR EAST                          /LEBANON\", \"world/SUB-SAHARAN AFRICA                 /LESOTHO\", \"world/SUB-SAHARAN AFRICA                 /LIBERIA\", \"world/NORTHERN AFRICA                    /LIBYA\", \"world/WESTERN EUROPE                     /LIECHTENSTEIN\", \"world/BALTICS                            /LITHUANIA\", \"world/WESTERN EUROPE                     /LUXEMBOURG\", \"world/SUB-SAHARAN AFRICA                 /MADAGASCAR\", \"world/SUB-SAHARAN AFRICA                 /MALAWI\", \"world/ASIA (EX. NEAR EAST)         /MALAYSIA\", \"world/ASIA (EX. NEAR EAST)         /MALDIVES\", \"world/WESTERN EUROPE                     /MALTA\", \"world/OCEANIA                            /MARSHALL ISLANDS\", \"world/SUB-SAHARAN AFRICA                 /MAURITANIA\", \"world/SUB-SAHARAN AFRICA                 /MAURITIUS\", \"world/SUB-SAHARAN AFRICA                 /MAYOTTE\", \"world/LATIN AMER. & CARIB    /MEXICO\", \"world/WESTERN EUROPE                     /MONACO\", \"world/ASIA (EX. NEAR EAST)         /MONGOLIA\", \"world/NORTHERN AFRICA                    /MOROCCO\", \"world/SUB-SAHARAN AFRICA                 /MOZAMBIQUE\", \"world/SUB-SAHARAN AFRICA                 /NAMIBIA\", \"world/OCEANIA                            /NAURU\", \"world/ASIA (EX. NEAR EAST)         /NEPAL\", \"world/WESTERN EUROPE                     /NETHERLANDS\", \"world/OCEANIA                            /NEW CALEDONIA\", \"world/OCEANIA                            /NEW ZEALAND\", \"world/LATIN AMER. & CARIB    /NICARAGUA\", \"world/SUB-SAHARAN AFRICA                 /NIGER\", \"world/SUB-SAHARAN AFRICA                 /NIGERIA\", \"world/WESTERN EUROPE                     /NORWAY\", \"world/NEAR EAST                          /OMAN\", \"world/ASIA (EX. NEAR EAST)         /PAKISTAN\", \"world/LATIN AMER. & CARIB    /PANAMA\", \"world/OCEANIA                            /PAPUA NEW GUINEA\", \"world/LATIN AMER. & CARIB    /PARAGUAY\", \"world/LATIN AMER. & CARIB    /PERU\", \"world/ASIA (EX. NEAR EAST)         /PHILIPPINES\", \"world/EASTERN EUROPE                     /POLAND\", \"world/WESTERN EUROPE                     /PORTUGAL\", \"world/LATIN AMER. & CARIB    /PUERTO RICO\", \"world/NEAR EAST                          /QATAR\", \"world/SUB-SAHARAN AFRICA                 /REUNION\", \"world/EASTERN EUROPE                     /ROMANIA\", \"world/SUB-SAHARAN AFRICA                 /RWANDA\", \"world/LATIN AMER. & CARIB    /SAINT LUCIA\", \"world/WESTERN EUROPE                     /SAN MARINO\", \"world/NEAR EAST                          /SAUDI ARABIA\", \"world/SUB-SAHARAN AFRICA                 /SENEGAL\", \"world/EASTERN EUROPE                     /SERBIA\", \"world/SUB-SAHARAN AFRICA                 /SEYCHELLES\", \"world/SUB-SAHARAN AFRICA                 /SIERRA LEONE\", \"world/ASIA (EX. NEAR EAST)         /SINGAPORE\", \"world/EASTERN EUROPE                     /SLOVAKIA\", \"world/EASTERN EUROPE                     /SLOVENIA\", \"world/OCEANIA                            /SOLOMON ISLANDS\", \"world/SUB-SAHARAN AFRICA                 /SOMALIA\", \"world/SUB-SAHARAN AFRICA                 /SOUTH AFRICA\", \"world/WESTERN EUROPE                     /SPAIN\", \"world/ASIA (EX. NEAR EAST)         /SRI LANKA\", \"world/SUB-SAHARAN AFRICA                 /SUDAN\", \"world/LATIN AMER. & CARIB    /SURINAME\", \"world/SUB-SAHARAN AFRICA                 /SWAZILAND\", \"world/WESTERN EUROPE                     /SWEDEN\", \"world/WESTERN EUROPE                     /SWITZERLAND\", \"world/C.W. OF IND. STATES /TAJIKISTAN\", \"world/ASIA (EX. NEAR EAST)         /THAILAND\", \"world/SUB-SAHARAN AFRICA                 /TOGO\", \"world/NORTHERN AFRICA                    /TUNISIA\", \"world/NEAR EAST                          /TURKEY\", \"world/C.W. OF IND. STATES /TURKMENISTAN\", \"world/SUB-SAHARAN AFRICA                 /UGANDA\", \"world/C.W. OF IND. STATES /UKRAINE\", \"world/NEAR EAST                          /UNITED ARAB EMIRATES\", \"world/WESTERN EUROPE                     /UNITED KINGDOM\", \"world/NORTHERN AMERICA                   /UNITED STATES\", \"world/LATIN AMER. & CARIB    /URUGUAY\", \"world/C.W. OF IND. STATES /UZBEKISTAN\", \"world/OCEANIA                            /VANUATU\", \"world/ASIA (EX. NEAR EAST)         /VIET NAM\", \"world/NEAR EAST                          /YEMEN\", \"world/SUB-SAHARAN AFRICA                 /ZAMBIA\", \"world/SUB-SAHARAN AFRICA                 /ZIMBABWE\", \"world/ASIA (EX. NEAR EAST)         \", \"world/BALTICS                            \", \"world/C.W. OF IND. STATES \", \"world/EASTERN EUROPE                     \", \"world/LATIN AMER. & CARIB    \", \"world/NEAR EAST                          \", \"world/NORTHERN AFRICA                    \", \"world/NORTHERN AMERICA                   \", \"world/OCEANIA                            \", \"world/SUB-SAHARAN AFRICA                 \", \"world/WESTERN EUROPE                     \", \"world\"], \"labels\": [\"AFGHANISTAN\", \"ALBANIA\", \"ALGERIA\", \"AMERICAN SAMOA\", \"ANDORRA\", \"ANGOLA\", \"ARGENTINA\", \"ARMENIA\", \"ARUBA\", \"AUSTRALIA\", \"AUSTRIA\", \"AZERBAIJAN\", \"BAHRAIN\", \"BANGLADESH\", \"BARBADOS\", \"BELARUS\", \"BELGIUM\", \"BELIZE\", \"BENIN\", \"BHUTAN\", \"BOTSWANA\", \"BRAZIL\", \"BULGARIA\", \"BURKINA FASO\", \"BURUNDI\", \"CAMBODIA\", \"CAMEROON\", \"CANADA\", \"CAPE VERDE\", \"CAYMAN ISLANDS\", \"CHAD\", \"CHILE\", \"CHINA\", \"COLOMBIA\", \"COMOROS\", \"COOK ISLANDS\", \"COSTA RICA\", \"COTE D'IVOIRE\", \"CROATIA\", \"CUBA\", \"CYPRUS\", \"CZECH REPUBLIC\", \"DENMARK\", \"DJIBOUTI\", \"DOMINICA\", \"DOMINICAN REPUBLIC\", \"ECUADOR\", \"EGYPT\", \"EL SALVADOR\", \"EQUATORIAL GUINEA\", \"ERITREA\", \"ESTONIA\", \"ETHIOPIA\", \"FAROE ISLANDS\", \"FIJI\", \"FINLAND\", \"FRANCE\", \"GABON\", \"GEORGIA\", \"GERMANY\", \"GHANA\", \"GREECE\", \"GREENLAND\", \"GRENADA\", \"GUADELOUPE\", \"GUAM\", \"GUATEMALA\", \"GUINEA\", \"GUINEA-BISSAU\", \"GUYANA\", \"HAITI\", \"HONDURAS\", \"HONG KONG\", \"HUNGARY\", \"ICELAND\", \"INDIA\", \"INDONESIA\", \"IRAQ\", \"IRELAND\", \"ITALY\", \"JAMAICA\", \"JAPAN\", \"JORDAN\", \"KAZAKHSTAN\", \"KENYA\", \"KIRIBATI\", \"KUWAIT\", \"KYRGYZSTAN\", \"LATVIA\", \"LEBANON\", \"LESOTHO\", \"LIBERIA\", \"LIBYA\", \"LIECHTENSTEIN\", \"LITHUANIA\", \"LUXEMBOURG\", \"MADAGASCAR\", \"MALAWI\", \"MALAYSIA\", \"MALDIVES\", \"MALTA\", \"MARSHALL ISLANDS\", \"MAURITANIA\", \"MAURITIUS\", \"MAYOTTE\", \"MEXICO\", \"MONACO\", \"MONGOLIA\", \"MOROCCO\", \"MOZAMBIQUE\", \"NAMIBIA\", \"NAURU\", \"NEPAL\", \"NETHERLANDS\", \"NEW CALEDONIA\", \"NEW ZEALAND\", \"NICARAGUA\", \"NIGER\", \"NIGERIA\", \"NORWAY\", \"OMAN\", \"PAKISTAN\", \"PANAMA\", \"PAPUA NEW GUINEA\", \"PARAGUAY\", \"PERU\", \"PHILIPPINES\", \"POLAND\", \"PORTUGAL\", \"PUERTO RICO\", \"QATAR\", \"REUNION\", \"ROMANIA\", \"RWANDA\", \"SAINT LUCIA\", \"SAN MARINO\", \"SAUDI ARABIA\", \"SENEGAL\", \"SERBIA\", \"SEYCHELLES\", \"SIERRA LEONE\", \"SINGAPORE\", \"SLOVAKIA\", \"SLOVENIA\", \"SOLOMON ISLANDS\", \"SOMALIA\", \"SOUTH AFRICA\", \"SPAIN\", \"SRI LANKA\", \"SUDAN\", \"SURINAME\", \"SWAZILAND\", \"SWEDEN\", \"SWITZERLAND\", \"TAJIKISTAN\", \"THAILAND\", \"TOGO\", \"TUNISIA\", \"TURKEY\", \"TURKMENISTAN\", \"UGANDA\", \"UKRAINE\", \"UNITED ARAB EMIRATES\", \"UNITED KINGDOM\", \"UNITED STATES\", \"URUGUAY\", \"UZBEKISTAN\", \"VANUATU\", \"VIET NAM\", \"YEMEN\", \"ZAMBIA\", \"ZIMBABWE\", \"ASIA (EX. NEAR EAST)         \", \"BALTICS                            \", \"C.W. OF IND. STATES \", \"EASTERN EUROPE                     \", \"LATIN AMER. & CARIB    \", \"NEAR EAST                          \", \"NORTHERN AFRICA                    \", \"NORTHERN AMERICA                   \", \"OCEANIA                            \", \"SUB-SAHARAN AFRICA                 \", \"WESTERN EUROPE                     \", \"world\"], \"marker\": {\"coloraxis\": \"coloraxis\", \"colors\": [3.966704, 1.198657, 358.18759900000003, 1.987497, 0.079208, 62.483235, 4813.090839999998, 0.19001500000000004, 0.047695999999999995, 21584.545898999997, 2828.9425360000005, 0.578543, 441.669982, 1064.1469769999997, 2.440137, 302.0383469999999, 2919.2416020000005, 1.6485930000000004, 2.234012, 1.3038800000000001, 0.025349, 7933.657457, 148.426409, 21.354987000000005, 0.6735380000000001, 706.3719580000001, 332.2060150000001, 3272.531399, 0.128959, 0.13917200000000002, 0.001213, 505.2694620000001, 175416.54197700002, 471.66890600000005, 0.33410100000000004, 0.0014060000000000001, 101.849284, 1920.6103019999998, 15.476560000000003, 5.323032999999999, 30.066319000000004, 984.2657580000001, 938.0942219999997, 3.058949, 0.636444, 11.706759999999997, 517.9985699999999, 543.1662389999998, 10.368670999999999, 0.247766, 0.085302, 35.80419999999999, 6.850173999999999, 0.19528399999999999, 12.97775, 803.8250129999998, 16626.237476000002, 239.03712900000002, 69.40208600000001, 26380.358233999992, 1014.9104129999998, 65.825262, 0.098115, 0.045901, 0.16835, 0.20439999999999997, 48.186966, 45.324628, 0.174313, 2.1441909999999997, 2.722324, 5.2408269999999995, 15140.878814, 717.904147, 1.4963620000000002, 26497.011569, 40490.25902599999, 1385.768951, 4641.980199, 6688.520557, 4.233543, 63857.51172500002, 275.00830199999996, 36.69216999999999, 24.400803999999997, 8.656153, 1928.4531430000002, 0.2869070000000001, 61.792480000000005, 23.290205999999994, 0.371559, 58.956747, 2066.5461539999997, 0.08470899999999999, 275.19726, 78.759128, 22.867799000000005, 6.108986000000001, 262.153387, 2.424788, 553.371608, 10.047556, 1.640216, 13.08463, 0.025979999999999996, 1485.1741739999998, 0.056236999999999995, 2.453754, 95.91967500000001, 39.907596999999996, 84.30820599999997, 0.059592, 1.182015, 6772.233738999998, 0.322381, 3334.8790260000005, 29.990989999999996, 0.02153, 1144.052404, 936.0101029999997, 2272.821713, 757.4641239999997, 199.335465, 619.8843729999998, 0.257216, 454.07812600000005, 9198.999577000004, 789.947113, 249.25895000000003, 47.362042999999986, 2731.1687570000004, 1.323279, 144.27058300000002, 89.453527, 0.188886, 0.001127, 17901.324815000007, 3.6376249999999994, 15.148421, 26.485727, 0.8976080000000002, 103071.08236300004, 142.900005, 137.18613099999996, 49.02187300000001, 5.496274, 3069.6922969999987, 2979.668181999999, 244.55035099999995, 3.345959, 10.893835, 3.6615759999999997, 1817.7614959999999, 10631.751183000002, 3.0462769999999995, 48623.717038, 32.955507, 104.17188800000001, 1827.4516409999999, 11.404714, 65.151006, 600.6214790000002, 11670.735872999998, 6972.337072, 64947.348923, 26.010056999999996, 13.404088999999999, 12.021380999999998, 19456.974985000004, 415.152535, 34.101462999999995, 3.101451, 100778.70091619447, 216.8323423757854, 441.81496322253696, 707.437059975938, 5351.3147124132065, 11703.613451487758, 1488.0068997471083, 61988.69731098295, 18623.306762217206, 1866.8819281840422, 13754.899795725572, 75076.37980043735]}, \"name\": \"\", \"parents\": [\"world/ASIA (EX. NEAR EAST)         \", \"world/EASTERN EUROPE                     \", \"world/NORTHERN AFRICA                    \", \"world/OCEANIA                            \", \"world/WESTERN EUROPE                     \", \"world/SUB-SAHARAN AFRICA                 \", \"world/LATIN AMER. & CARIB    \", \"world/C.W. OF IND. STATES \", \"world/LATIN AMER. & CARIB    \", \"world/OCEANIA                            \", \"world/WESTERN EUROPE                     \", \"world/C.W. OF IND. STATES \", \"world/NEAR EAST                          \", \"world/ASIA (EX. NEAR EAST)         \", \"world/LATIN AMER. & CARIB    \", \"world/C.W. OF IND. STATES \", \"world/WESTERN EUROPE                     \", \"world/LATIN AMER. & CARIB    \", \"world/SUB-SAHARAN AFRICA                 \", \"world/ASIA (EX. NEAR EAST)         \", \"world/SUB-SAHARAN AFRICA                 \", \"world/LATIN AMER. & CARIB    \", \"world/EASTERN EUROPE                     \", \"world/SUB-SAHARAN AFRICA                 \", \"world/SUB-SAHARAN AFRICA                 \", \"world/ASIA (EX. NEAR EAST)         \", \"world/SUB-SAHARAN AFRICA                 \", \"world/NORTHERN AMERICA                   \", \"world/SUB-SAHARAN AFRICA                 \", \"world/LATIN AMER. & CARIB    \", \"world/SUB-SAHARAN AFRICA                 \", \"world/LATIN AMER. & CARIB    \", \"world/ASIA (EX. NEAR EAST)         \", \"world/LATIN AMER. & CARIB    \", \"world/SUB-SAHARAN AFRICA                 \", \"world/OCEANIA                            \", \"world/LATIN AMER. & CARIB    \", \"world/SUB-SAHARAN AFRICA                 \", \"world/EASTERN EUROPE                     \", \"world/LATIN AMER. & CARIB    \", \"world/NEAR EAST                          \", \"world/EASTERN EUROPE                     \", \"world/WESTERN EUROPE                     \", \"world/SUB-SAHARAN AFRICA                 \", \"world/LATIN AMER. & CARIB    \", \"world/LATIN AMER. & CARIB    \", \"world/LATIN AMER. & CARIB    \", \"world/NORTHERN AFRICA                    \", \"world/LATIN AMER. & CARIB    \", \"world/SUB-SAHARAN AFRICA                 \", \"world/SUB-SAHARAN AFRICA                 \", \"world/BALTICS                            \", \"world/SUB-SAHARAN AFRICA                 \", \"world/WESTERN EUROPE                     \", \"world/OCEANIA                            \", \"world/WESTERN EUROPE                     \", \"world/WESTERN EUROPE                     \", \"world/SUB-SAHARAN AFRICA                 \", \"world/C.W. OF IND. STATES \", \"world/WESTERN EUROPE                     \", \"world/SUB-SAHARAN AFRICA                 \", \"world/WESTERN EUROPE                     \", \"world/NORTHERN AMERICA                   \", \"world/LATIN AMER. & CARIB    \", \"world/LATIN AMER. & CARIB    \", \"world/OCEANIA                            \", \"world/LATIN AMER. & CARIB    \", \"world/SUB-SAHARAN AFRICA                 \", \"world/SUB-SAHARAN AFRICA                 \", \"world/LATIN AMER. & CARIB    \", \"world/LATIN AMER. & CARIB    \", \"world/LATIN AMER. & CARIB    \", \"world/ASIA (EX. NEAR EAST)         \", \"world/EASTERN EUROPE                     \", \"world/WESTERN EUROPE                     \", \"world/ASIA (EX. NEAR EAST)         \", \"world/ASIA (EX. NEAR EAST)         \", \"world/NEAR EAST                          \", \"world/WESTERN EUROPE                     \", \"world/WESTERN EUROPE                     \", \"world/LATIN AMER. & CARIB    \", \"world/ASIA (EX. NEAR EAST)         \", \"world/NEAR EAST                          \", \"world/C.W. OF IND. STATES \", \"world/SUB-SAHARAN AFRICA                 \", \"world/OCEANIA                            \", \"world/NEAR EAST                          \", \"world/C.W. OF IND. STATES \", \"world/BALTICS                            \", \"world/NEAR EAST                          \", \"world/SUB-SAHARAN AFRICA                 \", \"world/SUB-SAHARAN AFRICA                 \", \"world/NORTHERN AFRICA                    \", \"world/WESTERN EUROPE                     \", \"world/BALTICS                            \", \"world/WESTERN EUROPE                     \", \"world/SUB-SAHARAN AFRICA                 \", \"world/SUB-SAHARAN AFRICA                 \", \"world/ASIA (EX. NEAR EAST)         \", \"world/ASIA (EX. NEAR EAST)         \", \"world/WESTERN EUROPE                     \", \"world/OCEANIA                            \", \"world/SUB-SAHARAN AFRICA                 \", \"world/SUB-SAHARAN AFRICA                 \", \"world/SUB-SAHARAN AFRICA                 \", \"world/LATIN AMER. & CARIB    \", \"world/WESTERN EUROPE                     \", \"world/ASIA (EX. NEAR EAST)         \", \"world/NORTHERN AFRICA                    \", \"world/SUB-SAHARAN AFRICA                 \", \"world/SUB-SAHARAN AFRICA                 \", \"world/OCEANIA                            \", \"world/ASIA (EX. NEAR EAST)         \", \"world/WESTERN EUROPE                     \", \"world/OCEANIA                            \", \"world/OCEANIA                            \", \"world/LATIN AMER. & CARIB    \", \"world/SUB-SAHARAN AFRICA                 \", \"world/SUB-SAHARAN AFRICA                 \", \"world/WESTERN EUROPE                     \", \"world/NEAR EAST                          \", \"world/ASIA (EX. NEAR EAST)         \", \"world/LATIN AMER. & CARIB    \", \"world/OCEANIA                            \", \"world/LATIN AMER. & CARIB    \", \"world/LATIN AMER. & CARIB    \", \"world/ASIA (EX. NEAR EAST)         \", \"world/EASTERN EUROPE                     \", \"world/WESTERN EUROPE                     \", \"world/LATIN AMER. & CARIB    \", \"world/NEAR EAST                          \", \"world/SUB-SAHARAN AFRICA                 \", \"world/EASTERN EUROPE                     \", \"world/SUB-SAHARAN AFRICA                 \", \"world/LATIN AMER. & CARIB    \", \"world/WESTERN EUROPE                     \", \"world/NEAR EAST                          \", \"world/SUB-SAHARAN AFRICA                 \", \"world/EASTERN EUROPE                     \", \"world/SUB-SAHARAN AFRICA                 \", \"world/SUB-SAHARAN AFRICA                 \", \"world/ASIA (EX. NEAR EAST)         \", \"world/EASTERN EUROPE                     \", \"world/EASTERN EUROPE                     \", \"world/OCEANIA                            \", \"world/SUB-SAHARAN AFRICA                 \", \"world/SUB-SAHARAN AFRICA                 \", \"world/WESTERN EUROPE                     \", \"world/ASIA (EX. NEAR EAST)         \", \"world/SUB-SAHARAN AFRICA                 \", \"world/LATIN AMER. & CARIB    \", \"world/SUB-SAHARAN AFRICA                 \", \"world/WESTERN EUROPE                     \", \"world/WESTERN EUROPE                     \", \"world/C.W. OF IND. STATES \", \"world/ASIA (EX. NEAR EAST)         \", \"world/SUB-SAHARAN AFRICA                 \", \"world/NORTHERN AFRICA                    \", \"world/NEAR EAST                          \", \"world/C.W. OF IND. STATES \", \"world/SUB-SAHARAN AFRICA                 \", \"world/C.W. OF IND. STATES \", \"world/NEAR EAST                          \", \"world/WESTERN EUROPE                     \", \"world/NORTHERN AMERICA                   \", \"world/LATIN AMER. & CARIB    \", \"world/C.W. OF IND. STATES \", \"world/OCEANIA                            \", \"world/ASIA (EX. NEAR EAST)         \", \"world/NEAR EAST                          \", \"world/SUB-SAHARAN AFRICA                 \", \"world/SUB-SAHARAN AFRICA                 \", \"world\", \"world\", \"world\", \"world\", \"world\", \"world\", \"world\", \"world\", \"world\", \"world\", \"world\", \"\"], \"type\": \"treemap\", \"values\": [3.966704, 1.198657, 358.18759900000003, 1.987497, 0.079208, 62.483235, 4813.090839999998, 0.19001500000000002, 0.047695999999999995, 21584.545898999997, 2828.9425360000005, 0.578543, 441.669982, 1064.1469769999997, 2.440137, 302.0383469999999, 2919.2416020000005, 1.6485930000000002, 2.234012, 1.3038800000000001, 0.025349, 7933.657457, 148.426409, 21.354987000000005, 0.6735380000000001, 706.3719580000001, 332.2060150000001, 3272.531399, 0.128959, 0.13917200000000002, 0.001213, 505.2694620000001, 175416.54197700002, 471.66890600000005, 0.33410100000000004, 0.0014060000000000001, 101.849284, 1920.6103019999998, 15.476560000000003, 5.323032999999999, 30.066319000000004, 984.2657580000001, 938.0942219999997, 3.058949, 0.636444, 11.706759999999997, 517.9985699999999, 543.1662389999998, 10.368670999999999, 0.247766, 0.085302, 35.80419999999999, 6.850173999999999, 0.19528399999999999, 12.97775, 803.8250129999998, 16626.237476000002, 239.03712900000002, 69.40208600000001, 26380.358233999996, 1014.9104129999998, 65.825262, 0.098115, 0.045901, 0.16835, 0.20439999999999997, 48.186966, 45.324628, 0.174313, 2.1441909999999997, 2.722324, 5.2408269999999995, 15140.878814, 717.904147, 1.4963620000000002, 26497.011569, 40490.25902599999, 1385.768951, 4641.980199, 6688.520557, 4.233543, 63857.51172500002, 275.00830199999996, 36.69216999999999, 24.400803999999997, 8.656153, 1928.4531430000002, 0.2869070000000001, 61.792480000000005, 23.290205999999994, 0.371559, 58.956747, 2066.5461539999997, 0.08470899999999999, 275.19726, 78.759128, 22.867799000000005, 6.108986000000001, 262.153387, 2.424788, 553.371608, 10.047556, 1.640216, 13.08463, 0.025979999999999996, 1485.1741739999998, 0.056236999999999995, 2.453754, 95.91967500000001, 39.907596999999996, 84.30820599999997, 0.059592, 1.182015, 6772.233738999998, 0.322381, 3334.8790260000005, 29.990989999999996, 0.02153, 1144.052404, 936.0101029999997, 2272.821713, 757.4641239999997, 199.33546500000003, 619.8843729999998, 0.257216, 454.07812600000005, 9198.999577000004, 789.9471130000001, 249.25895000000003, 47.36204299999999, 2731.1687570000004, 1.323279, 144.27058300000002, 89.453527, 0.188886, 0.001127, 17901.324815000007, 3.6376249999999994, 15.148421, 26.485727, 0.8976080000000002, 103071.08236300002, 142.900005, 137.18613099999996, 49.02187300000001, 5.496274, 3069.692296999999, 2979.668181999999, 244.55035099999995, 3.345959, 10.893835, 3.6615759999999997, 1817.7614959999999, 10631.751183000002, 3.046277, 48623.717038, 32.955507, 104.17188800000001, 1827.4516409999999, 11.404714, 65.151006, 600.6214790000002, 11670.735872999998, 6972.337072, 64947.348923, 26.010056999999996, 13.404088999999999, 12.021381, 19456.974985000004, 415.152535, 34.101462999999995, 3.101451, 504798.995012, 372.79394, 1037.664627, 3096.723784, 16691.877918999995, 40902.91223700001, 3167.9915549999996, 68219.978437, 25634.609286999996, 8384.790142000003, 92886.08948899998, 765194.4264290001]}],                        {\"coloraxis\": {\"colorbar\": {\"title\": {\"text\": \"MILLION\"}}, \"colorscale\": [[0.0, \"rgb(103,0,31)\"], [0.1, \"rgb(178,24,43)\"], [0.2, \"rgb(214,96,77)\"], [0.3, \"rgb(244,165,130)\"], [0.4, \"rgb(253,219,199)\"], [0.5, \"rgb(247,247,247)\"], [0.6, \"rgb(209,229,240)\"], [0.7, \"rgb(146,197,222)\"], [0.8, \"rgb(67,147,195)\"], [0.9, \"rgb(33,102,172)\"], [1.0, \"rgb(5,48,97)\"]]}, \"legend\": {\"tracegroupgap\": 0}, \"margin\": {\"t\": 60}, \"template\": {\"data\": {\"bar\": [{\"error_x\": {\"color\": \"#2a3f5f\"}, \"error_y\": {\"color\": \"#2a3f5f\"}, \"marker\": {\"line\": {\"color\": \"#E5ECF6\", \"width\": 0.5}}, \"type\": \"bar\"}], \"barpolar\": [{\"marker\": {\"line\": {\"color\": \"#E5ECF6\", \"width\": 0.5}}, \"type\": \"barpolar\"}], \"carpet\": [{\"aaxis\": {\"endlinecolor\": \"#2a3f5f\", \"gridcolor\": \"white\", \"linecolor\": \"white\", \"minorgridcolor\": \"white\", \"startlinecolor\": \"#2a3f5f\"}, \"baxis\": {\"endlinecolor\": \"#2a3f5f\", \"gridcolor\": \"white\", \"linecolor\": \"white\", \"minorgridcolor\": \"white\", \"startlinecolor\": \"#2a3f5f\"}, \"type\": \"carpet\"}], \"choropleth\": [{\"colorbar\": {\"outlinewidth\": 0, \"ticks\": \"\"}, \"type\": \"choropleth\"}], \"contour\": [{\"colorbar\": {\"outlinewidth\": 0, \"ticks\": \"\"}, \"colorscale\": [[0.0, \"#0d0887\"], [0.1111111111111111, \"#46039f\"], [0.2222222222222222, \"#7201a8\"], [0.3333333333333333, \"#9c179e\"], [0.4444444444444444, \"#bd3786\"], [0.5555555555555556, \"#d8576b\"], [0.6666666666666666, \"#ed7953\"], [0.7777777777777778, \"#fb9f3a\"], [0.8888888888888888, \"#fdca26\"], [1.0, \"#f0f921\"]], \"type\": \"contour\"}], \"contourcarpet\": [{\"colorbar\": {\"outlinewidth\": 0, \"ticks\": \"\"}, \"type\": \"contourcarpet\"}], \"heatmap\": [{\"colorbar\": {\"outlinewidth\": 0, \"ticks\": \"\"}, \"colorscale\": [[0.0, \"#0d0887\"], [0.1111111111111111, \"#46039f\"], [0.2222222222222222, \"#7201a8\"], [0.3333333333333333, \"#9c179e\"], [0.4444444444444444, \"#bd3786\"], [0.5555555555555556, \"#d8576b\"], [0.6666666666666666, \"#ed7953\"], [0.7777777777777778, \"#fb9f3a\"], [0.8888888888888888, \"#fdca26\"], [1.0, \"#f0f921\"]], \"type\": \"heatmap\"}], \"heatmapgl\": [{\"colorbar\": {\"outlinewidth\": 0, \"ticks\": \"\"}, \"colorscale\": [[0.0, \"#0d0887\"], [0.1111111111111111, \"#46039f\"], [0.2222222222222222, \"#7201a8\"], [0.3333333333333333, \"#9c179e\"], [0.4444444444444444, \"#bd3786\"], [0.5555555555555556, \"#d8576b\"], [0.6666666666666666, \"#ed7953\"], [0.7777777777777778, \"#fb9f3a\"], [0.8888888888888888, \"#fdca26\"], [1.0, \"#f0f921\"]], \"type\": \"heatmapgl\"}], \"histogram\": [{\"marker\": {\"colorbar\": {\"outlinewidth\": 0, \"ticks\": \"\"}}, \"type\": \"histogram\"}], \"histogram2d\": [{\"colorbar\": {\"outlinewidth\": 0, \"ticks\": \"\"}, \"colorscale\": [[0.0, \"#0d0887\"], [0.1111111111111111, \"#46039f\"], [0.2222222222222222, \"#7201a8\"], [0.3333333333333333, \"#9c179e\"], [0.4444444444444444, \"#bd3786\"], [0.5555555555555556, \"#d8576b\"], [0.6666666666666666, \"#ed7953\"], [0.7777777777777778, \"#fb9f3a\"], [0.8888888888888888, \"#fdca26\"], [1.0, \"#f0f921\"]], \"type\": \"histogram2d\"}], \"histogram2dcontour\": [{\"colorbar\": {\"outlinewidth\": 0, \"ticks\": \"\"}, \"colorscale\": [[0.0, \"#0d0887\"], [0.1111111111111111, \"#46039f\"], [0.2222222222222222, \"#7201a8\"], [0.3333333333333333, \"#9c179e\"], [0.4444444444444444, \"#bd3786\"], [0.5555555555555556, \"#d8576b\"], [0.6666666666666666, \"#ed7953\"], [0.7777777777777778, \"#fb9f3a\"], [0.8888888888888888, \"#fdca26\"], [1.0, \"#f0f921\"]], \"type\": \"histogram2dcontour\"}], \"mesh3d\": [{\"colorbar\": {\"outlinewidth\": 0, \"ticks\": \"\"}, \"type\": \"mesh3d\"}], \"parcoords\": [{\"line\": {\"colorbar\": {\"outlinewidth\": 0, \"ticks\": \"\"}}, \"type\": \"parcoords\"}], \"pie\": [{\"automargin\": true, \"type\": \"pie\"}], \"scatter\": [{\"marker\": {\"colorbar\": {\"outlinewidth\": 0, \"ticks\": \"\"}}, \"type\": \"scatter\"}], \"scatter3d\": [{\"line\": {\"colorbar\": {\"outlinewidth\": 0, \"ticks\": \"\"}}, \"marker\": {\"colorbar\": {\"outlinewidth\": 0, \"ticks\": \"\"}}, \"type\": \"scatter3d\"}], \"scattercarpet\": [{\"marker\": {\"colorbar\": {\"outlinewidth\": 0, \"ticks\": \"\"}}, \"type\": \"scattercarpet\"}], \"scattergeo\": [{\"marker\": {\"colorbar\": {\"outlinewidth\": 0, \"ticks\": \"\"}}, \"type\": \"scattergeo\"}], \"scattergl\": [{\"marker\": {\"colorbar\": {\"outlinewidth\": 0, \"ticks\": \"\"}}, \"type\": \"scattergl\"}], \"scattermapbox\": [{\"marker\": {\"colorbar\": {\"outlinewidth\": 0, \"ticks\": \"\"}}, \"type\": \"scattermapbox\"}], \"scatterpolar\": [{\"marker\": {\"colorbar\": {\"outlinewidth\": 0, \"ticks\": \"\"}}, \"type\": \"scatterpolar\"}], \"scatterpolargl\": [{\"marker\": {\"colorbar\": {\"outlinewidth\": 0, \"ticks\": \"\"}}, \"type\": \"scatterpolargl\"}], \"scatterternary\": [{\"marker\": {\"colorbar\": {\"outlinewidth\": 0, \"ticks\": \"\"}}, \"type\": \"scatterternary\"}], \"surface\": [{\"colorbar\": {\"outlinewidth\": 0, \"ticks\": \"\"}, \"colorscale\": [[0.0, \"#0d0887\"], [0.1111111111111111, \"#46039f\"], [0.2222222222222222, \"#7201a8\"], [0.3333333333333333, \"#9c179e\"], [0.4444444444444444, \"#bd3786\"], [0.5555555555555556, \"#d8576b\"], [0.6666666666666666, \"#ed7953\"], [0.7777777777777778, \"#fb9f3a\"], [0.8888888888888888, \"#fdca26\"], [1.0, \"#f0f921\"]], \"type\": \"surface\"}], \"table\": [{\"cells\": {\"fill\": {\"color\": \"#EBF0F8\"}, \"line\": {\"color\": \"white\"}}, \"header\": {\"fill\": {\"color\": \"#C8D4E3\"}, \"line\": {\"color\": \"white\"}}, \"type\": \"table\"}]}, \"layout\": {\"annotationdefaults\": {\"arrowcolor\": \"#2a3f5f\", \"arrowhead\": 0, \"arrowwidth\": 1}, \"coloraxis\": {\"colorbar\": {\"outlinewidth\": 0, \"ticks\": \"\"}}, \"colorscale\": {\"diverging\": [[0, \"#8e0152\"], [0.1, \"#c51b7d\"], [0.2, \"#de77ae\"], [0.3, \"#f1b6da\"], [0.4, \"#fde0ef\"], [0.5, \"#f7f7f7\"], [0.6, \"#e6f5d0\"], [0.7, \"#b8e186\"], [0.8, \"#7fbc41\"], [0.9, \"#4d9221\"], [1, \"#276419\"]], \"sequential\": [[0.0, \"#0d0887\"], [0.1111111111111111, \"#46039f\"], [0.2222222222222222, \"#7201a8\"], [0.3333333333333333, \"#9c179e\"], [0.4444444444444444, \"#bd3786\"], [0.5555555555555556, \"#d8576b\"], [0.6666666666666666, \"#ed7953\"], [0.7777777777777778, \"#fb9f3a\"], [0.8888888888888888, \"#fdca26\"], [1.0, \"#f0f921\"]], \"sequentialminus\": [[0.0, \"#0d0887\"], [0.1111111111111111, \"#46039f\"], [0.2222222222222222, \"#7201a8\"], [0.3333333333333333, \"#9c179e\"], [0.4444444444444444, \"#bd3786\"], [0.5555555555555556, \"#d8576b\"], [0.6666666666666666, \"#ed7953\"], [0.7777777777777778, \"#fb9f3a\"], [0.8888888888888888, \"#fdca26\"], [1.0, \"#f0f921\"]]}, \"colorway\": [\"#636efa\", \"#EF553B\", \"#00cc96\", \"#ab63fa\", \"#FFA15A\", \"#19d3f3\", \"#FF6692\", \"#B6E880\", \"#FF97FF\", \"#FECB52\"], \"font\": {\"color\": \"#2a3f5f\"}, \"geo\": {\"bgcolor\": \"white\", \"lakecolor\": \"white\", \"landcolor\": \"#E5ECF6\", \"showlakes\": true, \"showland\": true, \"subunitcolor\": \"white\"}, \"hoverlabel\": {\"align\": \"left\"}, \"hovermode\": \"closest\", \"mapbox\": {\"style\": \"light\"}, \"paper_bgcolor\": \"white\", \"plot_bgcolor\": \"#E5ECF6\", \"polar\": {\"angularaxis\": {\"gridcolor\": \"white\", \"linecolor\": \"white\", \"ticks\": \"\"}, \"bgcolor\": \"#E5ECF6\", \"radialaxis\": {\"gridcolor\": \"white\", \"linecolor\": \"white\", \"ticks\": \"\"}}, \"scene\": {\"xaxis\": {\"backgroundcolor\": \"#E5ECF6\", \"gridcolor\": \"white\", \"gridwidth\": 2, \"linecolor\": \"white\", \"showbackground\": true, \"ticks\": \"\", \"zerolinecolor\": \"white\"}, \"yaxis\": {\"backgroundcolor\": \"#E5ECF6\", \"gridcolor\": \"white\", \"gridwidth\": 2, \"linecolor\": \"white\", \"showbackground\": true, \"ticks\": \"\", \"zerolinecolor\": \"white\"}, \"zaxis\": {\"backgroundcolor\": \"#E5ECF6\", \"gridcolor\": \"white\", \"gridwidth\": 2, \"linecolor\": \"white\", \"showbackground\": true, \"ticks\": \"\", \"zerolinecolor\": \"white\"}}, \"shapedefaults\": {\"line\": {\"color\": \"#2a3f5f\"}}, \"ternary\": {\"aaxis\": {\"gridcolor\": \"white\", \"linecolor\": \"white\", \"ticks\": \"\"}, \"baxis\": {\"gridcolor\": \"white\", \"linecolor\": \"white\", \"ticks\": \"\"}, \"bgcolor\": \"#E5ECF6\", \"caxis\": {\"gridcolor\": \"white\", \"linecolor\": \"white\", \"ticks\": \"\"}}, \"title\": {\"x\": 0.05}, \"xaxis\": {\"automargin\": true, \"gridcolor\": \"white\", \"linecolor\": \"white\", \"ticks\": \"\", \"title\": {\"standoff\": 15}, \"zerolinecolor\": \"white\", \"zerolinewidth\": 2}, \"yaxis\": {\"automargin\": true, \"gridcolor\": \"white\", \"linecolor\": \"white\", \"ticks\": \"\", \"title\": {\"standoff\": 15}, \"zerolinecolor\": \"white\", \"zerolinewidth\": 2}}}},                        {\"responsive\": true}                    ).then(function(){\n",
       "                            \n",
       "var gd = document.getElementById('699324b9-5f44-4aed-a971-30320326388e');\n",
       "var x = new MutationObserver(function (mutations, observer) {{\n",
       "        var display = window.getComputedStyle(gd).display;\n",
       "        if (!display || display === 'none') {{\n",
       "            console.log([gd, 'removed!']);\n",
       "            Plotly.purge(gd);\n",
       "            observer.disconnect();\n",
       "        }}\n",
       "}});\n",
       "\n",
       "// Listen for the removal of the full notebook cells\n",
       "var notebookContainer = gd.closest('#notebook-container');\n",
       "if (notebookContainer) {{\n",
       "    x.observe(notebookContainer, {childList: true});\n",
       "}}\n",
       "\n",
       "// Listen for the clearing of the current output cell\n",
       "var outputEl = gd.closest('.output');\n",
       "if (outputEl) {{\n",
       "    x.observe(outputEl, {childList: true});\n",
       "}}\n",
       "\n",
       "                        })                };                });            </script>        </div>"
      ]
     },
     "metadata": {},
     "output_type": "display_data"
    }
   ],
   "source": [
    "import plotly.express as px\n",
    "import numpy as np\n",
    "import pandas as pd\n",
    "\n",
    "'''Variable year, import_export'''\n",
    "year = 2018\n",
    "# 'IMPORT (RM)' or 'EXPORT (RM)'\n",
    "import_export = 'IMPORT (MILLION RM)'\n",
    "\n",
    "'''Read Data'''\n",
    "# Read Data\n",
    "df = pd.read_csv(\"trade_new.csv\")\n",
    "df_country = pd.read_csv(\"country_data.csv\")\n",
    "\n",
    "'''Data Preprocessing'''\n",
    "# Filter year\n",
    "df = df[df['YEAR'] == year]\n",
    "# GroupBy\n",
    "df_group = df.groupby('COUNTRY')[import_export].agg(MILLION = 'sum').reset_index()\n",
    "# Merge\n",
    "df_merge = df_group.merge(df_country, on='COUNTRY', how='inner')\n",
    "# Clean 0 trade\n",
    "df_merge = df_merge[df_merge['MILLION']>0]\n",
    "df_merge[\"world\"] = \"world\" # in order to have a single root node\n",
    "\n",
    "'''Plot'''\n",
    "fig = px.treemap(df_merge, path=['world', 'Region','COUNTRY'], values='MILLION',\n",
    "                  color='MILLION', hover_data=['MILLION'],\n",
    "                  color_continuous_scale='RdBu')\n",
    "#                   color_continuous_midpoint=np.average(df4['sum_import'], weights=df4['sum_import']))\n",
    "fig.show()"
   ]
  },
  {
   "cell_type": "code",
   "execution_count": 24,
   "metadata": {},
   "outputs": [
    {
     "data": {
      "text/html": [
       "<div>\n",
       "<style scoped>\n",
       "    .dataframe tbody tr th:only-of-type {\n",
       "        vertical-align: middle;\n",
       "    }\n",
       "\n",
       "    .dataframe tbody tr th {\n",
       "        vertical-align: top;\n",
       "    }\n",
       "\n",
       "    .dataframe thead th {\n",
       "        text-align: right;\n",
       "    }\n",
       "</style>\n",
       "<table border=\"1\" class=\"dataframe\">\n",
       "  <thead>\n",
       "    <tr style=\"text-align: right;\">\n",
       "      <th></th>\n",
       "      <th>COUNTRY</th>\n",
       "      <th>MILLION</th>\n",
       "    </tr>\n",
       "  </thead>\n",
       "  <tbody>\n",
       "    <tr>\n",
       "      <th>0</th>\n",
       "      <td>AFGHANISTAN</td>\n",
       "      <td>3.966704</td>\n",
       "    </tr>\n",
       "    <tr>\n",
       "      <th>1</th>\n",
       "      <td>ALBANIA</td>\n",
       "      <td>1.198657</td>\n",
       "    </tr>\n",
       "    <tr>\n",
       "      <th>2</th>\n",
       "      <td>ALGERIA</td>\n",
       "      <td>358.187599</td>\n",
       "    </tr>\n",
       "    <tr>\n",
       "      <th>3</th>\n",
       "      <td>AMERICAN SAMOA</td>\n",
       "      <td>1.987497</td>\n",
       "    </tr>\n",
       "    <tr>\n",
       "      <th>4</th>\n",
       "      <td>ANDORRA</td>\n",
       "      <td>0.079208</td>\n",
       "    </tr>\n",
       "    <tr>\n",
       "      <th>...</th>\n",
       "      <td>...</td>\n",
       "      <td>...</td>\n",
       "    </tr>\n",
       "    <tr>\n",
       "      <th>236</th>\n",
       "      <td>WESTERN SAHARA</td>\n",
       "      <td>0.000000</td>\n",
       "    </tr>\n",
       "    <tr>\n",
       "      <th>237</th>\n",
       "      <td>WESTERN SAMOA</td>\n",
       "      <td>0.010100</td>\n",
       "    </tr>\n",
       "    <tr>\n",
       "      <th>238</th>\n",
       "      <td>YEMEN</td>\n",
       "      <td>415.152535</td>\n",
       "    </tr>\n",
       "    <tr>\n",
       "      <th>239</th>\n",
       "      <td>ZAMBIA</td>\n",
       "      <td>34.101463</td>\n",
       "    </tr>\n",
       "    <tr>\n",
       "      <th>240</th>\n",
       "      <td>ZIMBABWE</td>\n",
       "      <td>3.101451</td>\n",
       "    </tr>\n",
       "  </tbody>\n",
       "</table>\n",
       "<p>241 rows × 2 columns</p>\n",
       "</div>"
      ],
      "text/plain": [
       "            COUNTRY     MILLION\n",
       "0       AFGHANISTAN    3.966704\n",
       "1           ALBANIA    1.198657\n",
       "2           ALGERIA  358.187599\n",
       "3    AMERICAN SAMOA    1.987497\n",
       "4           ANDORRA    0.079208\n",
       "..              ...         ...\n",
       "236  WESTERN SAHARA    0.000000\n",
       "237   WESTERN SAMOA    0.010100\n",
       "238           YEMEN  415.152535\n",
       "239          ZAMBIA   34.101463\n",
       "240        ZIMBABWE    3.101451\n",
       "\n",
       "[241 rows x 2 columns]"
      ]
     },
     "execution_count": 24,
     "metadata": {},
     "output_type": "execute_result"
    }
   ],
   "source": [
    "df_group = df.groupby('COUNTRY')[import_export].agg(MILLION = 'sum').reset_index()\n",
    "df_group"
   ]
  },
  {
   "cell_type": "code",
   "execution_count": 26,
   "metadata": {},
   "outputs": [
    {
     "data": {
      "text/html": [
       "<div>\n",
       "<style scoped>\n",
       "    .dataframe tbody tr th:only-of-type {\n",
       "        vertical-align: middle;\n",
       "    }\n",
       "\n",
       "    .dataframe tbody tr th {\n",
       "        vertical-align: top;\n",
       "    }\n",
       "\n",
       "    .dataframe thead th {\n",
       "        text-align: right;\n",
       "    }\n",
       "</style>\n",
       "<table border=\"1\" class=\"dataframe\">\n",
       "  <thead>\n",
       "    <tr style=\"text-align: right;\">\n",
       "      <th></th>\n",
       "      <th>COUNTRY</th>\n",
       "      <th>MILLION</th>\n",
       "      <th>Region</th>\n",
       "      <th>Population</th>\n",
       "      <th>Area sq. mi.</th>\n",
       "      <th>Pop. Density</th>\n",
       "      <th>world</th>\n",
       "    </tr>\n",
       "  </thead>\n",
       "  <tbody>\n",
       "    <tr>\n",
       "      <th>0</th>\n",
       "      <td>AFGHANISTAN</td>\n",
       "      <td>3.966704</td>\n",
       "      <td>ASIA (EX. NEAR EAST)</td>\n",
       "      <td>31056997</td>\n",
       "      <td>647500</td>\n",
       "      <td>47.96</td>\n",
       "      <td>world</td>\n",
       "    </tr>\n",
       "    <tr>\n",
       "      <th>1</th>\n",
       "      <td>ALBANIA</td>\n",
       "      <td>1.198657</td>\n",
       "      <td>EASTERN EUROPE</td>\n",
       "      <td>3581655</td>\n",
       "      <td>28748</td>\n",
       "      <td>124.59</td>\n",
       "      <td>world</td>\n",
       "    </tr>\n",
       "    <tr>\n",
       "      <th>2</th>\n",
       "      <td>ALGERIA</td>\n",
       "      <td>358.187599</td>\n",
       "      <td>NORTHERN AFRICA</td>\n",
       "      <td>32930091</td>\n",
       "      <td>2381740</td>\n",
       "      <td>13.83</td>\n",
       "      <td>world</td>\n",
       "    </tr>\n",
       "    <tr>\n",
       "      <th>3</th>\n",
       "      <td>AMERICAN SAMOA</td>\n",
       "      <td>1.987497</td>\n",
       "      <td>OCEANIA</td>\n",
       "      <td>57794</td>\n",
       "      <td>199</td>\n",
       "      <td>290.42</td>\n",
       "      <td>world</td>\n",
       "    </tr>\n",
       "    <tr>\n",
       "      <th>4</th>\n",
       "      <td>ANDORRA</td>\n",
       "      <td>0.079208</td>\n",
       "      <td>WESTERN EUROPE</td>\n",
       "      <td>71201</td>\n",
       "      <td>468</td>\n",
       "      <td>152.14</td>\n",
       "      <td>world</td>\n",
       "    </tr>\n",
       "    <tr>\n",
       "      <th>...</th>\n",
       "      <td>...</td>\n",
       "      <td>...</td>\n",
       "      <td>...</td>\n",
       "      <td>...</td>\n",
       "      <td>...</td>\n",
       "      <td>...</td>\n",
       "      <td>...</td>\n",
       "    </tr>\n",
       "    <tr>\n",
       "      <th>179</th>\n",
       "      <td>VANUATU</td>\n",
       "      <td>12.021381</td>\n",
       "      <td>OCEANIA</td>\n",
       "      <td>208869</td>\n",
       "      <td>12200</td>\n",
       "      <td>17.12</td>\n",
       "      <td>world</td>\n",
       "    </tr>\n",
       "    <tr>\n",
       "      <th>180</th>\n",
       "      <td>VIET NAM</td>\n",
       "      <td>19456.974985</td>\n",
       "      <td>ASIA (EX. NEAR EAST)</td>\n",
       "      <td>84402966</td>\n",
       "      <td>329560</td>\n",
       "      <td>256.11</td>\n",
       "      <td>world</td>\n",
       "    </tr>\n",
       "    <tr>\n",
       "      <th>183</th>\n",
       "      <td>YEMEN</td>\n",
       "      <td>415.152535</td>\n",
       "      <td>NEAR EAST</td>\n",
       "      <td>21456188</td>\n",
       "      <td>527970</td>\n",
       "      <td>40.64</td>\n",
       "      <td>world</td>\n",
       "    </tr>\n",
       "    <tr>\n",
       "      <th>184</th>\n",
       "      <td>ZAMBIA</td>\n",
       "      <td>34.101463</td>\n",
       "      <td>SUB-SAHARAN AFRICA</td>\n",
       "      <td>11502010</td>\n",
       "      <td>752614</td>\n",
       "      <td>15.28</td>\n",
       "      <td>world</td>\n",
       "    </tr>\n",
       "    <tr>\n",
       "      <th>185</th>\n",
       "      <td>ZIMBABWE</td>\n",
       "      <td>3.101451</td>\n",
       "      <td>SUB-SAHARAN AFRICA</td>\n",
       "      <td>12236805</td>\n",
       "      <td>390580</td>\n",
       "      <td>31.33</td>\n",
       "      <td>world</td>\n",
       "    </tr>\n",
       "  </tbody>\n",
       "</table>\n",
       "<p>172 rows × 7 columns</p>\n",
       "</div>"
      ],
      "text/plain": [
       "            COUNTRY       MILLION                               Region  \\\n",
       "0       AFGHANISTAN      3.966704        ASIA (EX. NEAR EAST)            \n",
       "1           ALBANIA      1.198657  EASTERN EUROPE                        \n",
       "2           ALGERIA    358.187599  NORTHERN AFRICA                       \n",
       "3    AMERICAN SAMOA      1.987497  OCEANIA                               \n",
       "4           ANDORRA      0.079208  WESTERN EUROPE                        \n",
       "..              ...           ...                                  ...   \n",
       "179         VANUATU     12.021381  OCEANIA                               \n",
       "180        VIET NAM  19456.974985        ASIA (EX. NEAR EAST)            \n",
       "183           YEMEN    415.152535  NEAR EAST                             \n",
       "184          ZAMBIA     34.101463  SUB-SAHARAN AFRICA                    \n",
       "185        ZIMBABWE      3.101451  SUB-SAHARAN AFRICA                    \n",
       "\n",
       "     Population  Area sq. mi.  Pop. Density  world  \n",
       "0      31056997        647500         47.96  world  \n",
       "1       3581655         28748        124.59  world  \n",
       "2      32930091       2381740         13.83  world  \n",
       "3         57794           199        290.42  world  \n",
       "4         71201           468        152.14  world  \n",
       "..          ...           ...           ...    ...  \n",
       "179      208869         12200         17.12  world  \n",
       "180    84402966        329560        256.11  world  \n",
       "183    21456188        527970         40.64  world  \n",
       "184    11502010        752614         15.28  world  \n",
       "185    12236805        390580         31.33  world  \n",
       "\n",
       "[172 rows x 7 columns]"
      ]
     },
     "execution_count": 26,
     "metadata": {},
     "output_type": "execute_result"
    }
   ],
   "source": [
    "df_merge"
   ]
  },
  {
   "cell_type": "code",
   "execution_count": 27,
   "metadata": {},
   "outputs": [
    {
     "data": {
      "text/html": [
       "<div>\n",
       "<style scoped>\n",
       "    .dataframe tbody tr th:only-of-type {\n",
       "        vertical-align: middle;\n",
       "    }\n",
       "\n",
       "    .dataframe tbody tr th {\n",
       "        vertical-align: top;\n",
       "    }\n",
       "\n",
       "    .dataframe thead th {\n",
       "        text-align: right;\n",
       "    }\n",
       "</style>\n",
       "<table border=\"1\" class=\"dataframe\">\n",
       "  <thead>\n",
       "    <tr style=\"text-align: right;\">\n",
       "      <th></th>\n",
       "      <th>COUNTRY</th>\n",
       "      <th>Region</th>\n",
       "      <th>Population</th>\n",
       "      <th>Area sq. mi.</th>\n",
       "      <th>Pop. Density</th>\n",
       "    </tr>\n",
       "  </thead>\n",
       "  <tbody>\n",
       "    <tr>\n",
       "      <th>0</th>\n",
       "      <td>AFGHANISTAN</td>\n",
       "      <td>ASIA (EX. NEAR EAST)</td>\n",
       "      <td>31056997</td>\n",
       "      <td>647500</td>\n",
       "      <td>47.96</td>\n",
       "    </tr>\n",
       "    <tr>\n",
       "      <th>1</th>\n",
       "      <td>ALBANIA</td>\n",
       "      <td>EASTERN EUROPE</td>\n",
       "      <td>3581655</td>\n",
       "      <td>28748</td>\n",
       "      <td>124.59</td>\n",
       "    </tr>\n",
       "    <tr>\n",
       "      <th>2</th>\n",
       "      <td>ALGERIA</td>\n",
       "      <td>NORTHERN AFRICA</td>\n",
       "      <td>32930091</td>\n",
       "      <td>2381740</td>\n",
       "      <td>13.83</td>\n",
       "    </tr>\n",
       "    <tr>\n",
       "      <th>3</th>\n",
       "      <td>AMERICAN SAMOA</td>\n",
       "      <td>OCEANIA</td>\n",
       "      <td>57794</td>\n",
       "      <td>199</td>\n",
       "      <td>290.42</td>\n",
       "    </tr>\n",
       "    <tr>\n",
       "      <th>4</th>\n",
       "      <td>ANDORRA</td>\n",
       "      <td>WESTERN EUROPE</td>\n",
       "      <td>71201</td>\n",
       "      <td>468</td>\n",
       "      <td>152.14</td>\n",
       "    </tr>\n",
       "    <tr>\n",
       "      <th>...</th>\n",
       "      <td>...</td>\n",
       "      <td>...</td>\n",
       "      <td>...</td>\n",
       "      <td>...</td>\n",
       "      <td>...</td>\n",
       "    </tr>\n",
       "    <tr>\n",
       "      <th>222</th>\n",
       "      <td>WEST BANK</td>\n",
       "      <td>NEAR EAST</td>\n",
       "      <td>2460492</td>\n",
       "      <td>5860</td>\n",
       "      <td>419.88</td>\n",
       "    </tr>\n",
       "    <tr>\n",
       "      <th>223</th>\n",
       "      <td>WESTERN SAHARA</td>\n",
       "      <td>NORTHERN AFRICA</td>\n",
       "      <td>273008</td>\n",
       "      <td>266000</td>\n",
       "      <td>1.03</td>\n",
       "    </tr>\n",
       "    <tr>\n",
       "      <th>224</th>\n",
       "      <td>YEMEN</td>\n",
       "      <td>NEAR EAST</td>\n",
       "      <td>21456188</td>\n",
       "      <td>527970</td>\n",
       "      <td>40.64</td>\n",
       "    </tr>\n",
       "    <tr>\n",
       "      <th>225</th>\n",
       "      <td>ZAMBIA</td>\n",
       "      <td>SUB-SAHARAN AFRICA</td>\n",
       "      <td>11502010</td>\n",
       "      <td>752614</td>\n",
       "      <td>15.28</td>\n",
       "    </tr>\n",
       "    <tr>\n",
       "      <th>226</th>\n",
       "      <td>ZIMBABWE</td>\n",
       "      <td>SUB-SAHARAN AFRICA</td>\n",
       "      <td>12236805</td>\n",
       "      <td>390580</td>\n",
       "      <td>31.33</td>\n",
       "    </tr>\n",
       "  </tbody>\n",
       "</table>\n",
       "<p>227 rows × 5 columns</p>\n",
       "</div>"
      ],
      "text/plain": [
       "            COUNTRY                               Region  Population  \\\n",
       "0       AFGHANISTAN        ASIA (EX. NEAR EAST)             31056997   \n",
       "1           ALBANIA  EASTERN EUROPE                          3581655   \n",
       "2           ALGERIA  NORTHERN AFRICA                        32930091   \n",
       "3    AMERICAN SAMOA  OCEANIA                                   57794   \n",
       "4           ANDORRA  WESTERN EUROPE                            71201   \n",
       "..              ...                                  ...         ...   \n",
       "222       WEST BANK  NEAR EAST                               2460492   \n",
       "223  WESTERN SAHARA  NORTHERN AFRICA                          273008   \n",
       "224           YEMEN  NEAR EAST                              21456188   \n",
       "225          ZAMBIA  SUB-SAHARAN AFRICA                     11502010   \n",
       "226        ZIMBABWE  SUB-SAHARAN AFRICA                     12236805   \n",
       "\n",
       "     Area sq. mi.  Pop. Density  \n",
       "0          647500         47.96  \n",
       "1           28748        124.59  \n",
       "2         2381740         13.83  \n",
       "3             199        290.42  \n",
       "4             468        152.14  \n",
       "..            ...           ...  \n",
       "222          5860        419.88  \n",
       "223        266000          1.03  \n",
       "224        527970         40.64  \n",
       "225        752614         15.28  \n",
       "226        390580         31.33  \n",
       "\n",
       "[227 rows x 5 columns]"
      ]
     },
     "execution_count": 27,
     "metadata": {},
     "output_type": "execute_result"
    }
   ],
   "source": [
    "df_country"
   ]
  },
  {
   "cell_type": "code",
   "execution_count": 29,
   "metadata": {},
   "outputs": [
    {
     "data": {
      "text/plain": [
       "Index(['COUNTRY', 'Region', 'Population', 'Area sq. mi.', 'Pop. Density'], dtype='object')"
      ]
     },
     "execution_count": 29,
     "metadata": {},
     "output_type": "execute_result"
    }
   ],
   "source": [
    "df_country.columns"
   ]
  },
  {
   "cell_type": "code",
   "execution_count": 30,
   "metadata": {},
   "outputs": [],
   "source": [
    "df_country.drop(['Population', 'Area sq. mi.', 'Pop. Density'], axis = 1, inplace = True)"
   ]
  },
  {
   "cell_type": "code",
   "execution_count": 31,
   "metadata": {},
   "outputs": [
    {
     "data": {
      "text/html": [
       "<div>\n",
       "<style scoped>\n",
       "    .dataframe tbody tr th:only-of-type {\n",
       "        vertical-align: middle;\n",
       "    }\n",
       "\n",
       "    .dataframe tbody tr th {\n",
       "        vertical-align: top;\n",
       "    }\n",
       "\n",
       "    .dataframe thead th {\n",
       "        text-align: right;\n",
       "    }\n",
       "</style>\n",
       "<table border=\"1\" class=\"dataframe\">\n",
       "  <thead>\n",
       "    <tr style=\"text-align: right;\">\n",
       "      <th></th>\n",
       "      <th>COUNTRY</th>\n",
       "      <th>Region</th>\n",
       "    </tr>\n",
       "  </thead>\n",
       "  <tbody>\n",
       "    <tr>\n",
       "      <th>0</th>\n",
       "      <td>AFGHANISTAN</td>\n",
       "      <td>ASIA (EX. NEAR EAST)</td>\n",
       "    </tr>\n",
       "    <tr>\n",
       "      <th>1</th>\n",
       "      <td>ALBANIA</td>\n",
       "      <td>EASTERN EUROPE</td>\n",
       "    </tr>\n",
       "    <tr>\n",
       "      <th>2</th>\n",
       "      <td>ALGERIA</td>\n",
       "      <td>NORTHERN AFRICA</td>\n",
       "    </tr>\n",
       "    <tr>\n",
       "      <th>3</th>\n",
       "      <td>AMERICAN SAMOA</td>\n",
       "      <td>OCEANIA</td>\n",
       "    </tr>\n",
       "    <tr>\n",
       "      <th>4</th>\n",
       "      <td>ANDORRA</td>\n",
       "      <td>WESTERN EUROPE</td>\n",
       "    </tr>\n",
       "    <tr>\n",
       "      <th>...</th>\n",
       "      <td>...</td>\n",
       "      <td>...</td>\n",
       "    </tr>\n",
       "    <tr>\n",
       "      <th>222</th>\n",
       "      <td>WEST BANK</td>\n",
       "      <td>NEAR EAST</td>\n",
       "    </tr>\n",
       "    <tr>\n",
       "      <th>223</th>\n",
       "      <td>WESTERN SAHARA</td>\n",
       "      <td>NORTHERN AFRICA</td>\n",
       "    </tr>\n",
       "    <tr>\n",
       "      <th>224</th>\n",
       "      <td>YEMEN</td>\n",
       "      <td>NEAR EAST</td>\n",
       "    </tr>\n",
       "    <tr>\n",
       "      <th>225</th>\n",
       "      <td>ZAMBIA</td>\n",
       "      <td>SUB-SAHARAN AFRICA</td>\n",
       "    </tr>\n",
       "    <tr>\n",
       "      <th>226</th>\n",
       "      <td>ZIMBABWE</td>\n",
       "      <td>SUB-SAHARAN AFRICA</td>\n",
       "    </tr>\n",
       "  </tbody>\n",
       "</table>\n",
       "<p>227 rows × 2 columns</p>\n",
       "</div>"
      ],
      "text/plain": [
       "            COUNTRY                               Region\n",
       "0       AFGHANISTAN        ASIA (EX. NEAR EAST)         \n",
       "1           ALBANIA  EASTERN EUROPE                     \n",
       "2           ALGERIA  NORTHERN AFRICA                    \n",
       "3    AMERICAN SAMOA  OCEANIA                            \n",
       "4           ANDORRA  WESTERN EUROPE                     \n",
       "..              ...                                  ...\n",
       "222       WEST BANK  NEAR EAST                          \n",
       "223  WESTERN SAHARA  NORTHERN AFRICA                    \n",
       "224           YEMEN  NEAR EAST                          \n",
       "225          ZAMBIA  SUB-SAHARAN AFRICA                 \n",
       "226        ZIMBABWE  SUB-SAHARAN AFRICA                 \n",
       "\n",
       "[227 rows x 2 columns]"
      ]
     },
     "execution_count": 31,
     "metadata": {},
     "output_type": "execute_result"
    }
   ],
   "source": [
    "df_country"
   ]
  },
  {
   "cell_type": "code",
   "execution_count": 32,
   "metadata": {},
   "outputs": [],
   "source": [
    "df_country.to_csv('region.csv', index = False)"
   ]
  },
  {
   "cell_type": "code",
   "execution_count": 59,
   "metadata": {},
   "outputs": [],
   "source": [
    "df = pd.read_csv(\"trade_new.csv\")"
   ]
  },
  {
   "cell_type": "code",
   "execution_count": 60,
   "metadata": {},
   "outputs": [
    {
     "data": {
      "text/html": [
       "<div>\n",
       "<style scoped>\n",
       "    .dataframe tbody tr th:only-of-type {\n",
       "        vertical-align: middle;\n",
       "    }\n",
       "\n",
       "    .dataframe tbody tr th {\n",
       "        vertical-align: top;\n",
       "    }\n",
       "\n",
       "    .dataframe thead th {\n",
       "        text-align: right;\n",
       "    }\n",
       "</style>\n",
       "<table border=\"1\" class=\"dataframe\">\n",
       "  <thead>\n",
       "    <tr style=\"text-align: right;\">\n",
       "      <th></th>\n",
       "      <th>YEAR</th>\n",
       "      <th>COUNTRY</th>\n",
       "      <th>SITC 1 DIGIT</th>\n",
       "      <th>SITC 2 DIGIT</th>\n",
       "      <th>IMPORT (MILLION RM)</th>\n",
       "      <th>EXPORT (MILLION RM)</th>\n",
       "      <th>DEFICIT/SURPLUS (MILLION RM)</th>\n",
       "      <th>Region</th>\n",
       "    </tr>\n",
       "  </thead>\n",
       "  <tbody>\n",
       "    <tr>\n",
       "      <th>0</th>\n",
       "      <td>2013</td>\n",
       "      <td>AFGHANISTAN</td>\n",
       "      <td>0</td>\n",
       "      <td>4</td>\n",
       "      <td>0.000000</td>\n",
       "      <td>0.000000</td>\n",
       "      <td>0.000000</td>\n",
       "      <td>ASIA (EX. NEAR EAST)</td>\n",
       "    </tr>\n",
       "    <tr>\n",
       "      <th>1</th>\n",
       "      <td>2013</td>\n",
       "      <td>AFGHANISTAN</td>\n",
       "      <td>0</td>\n",
       "      <td>5</td>\n",
       "      <td>0.002469</td>\n",
       "      <td>0.419797</td>\n",
       "      <td>0.417328</td>\n",
       "      <td>ASIA (EX. NEAR EAST)</td>\n",
       "    </tr>\n",
       "    <tr>\n",
       "      <th>2</th>\n",
       "      <td>2013</td>\n",
       "      <td>AFGHANISTAN</td>\n",
       "      <td>0</td>\n",
       "      <td>9</td>\n",
       "      <td>0.000000</td>\n",
       "      <td>0.669157</td>\n",
       "      <td>0.669157</td>\n",
       "      <td>ASIA (EX. NEAR EAST)</td>\n",
       "    </tr>\n",
       "    <tr>\n",
       "      <th>3</th>\n",
       "      <td>2013</td>\n",
       "      <td>AFGHANISTAN</td>\n",
       "      <td>1</td>\n",
       "      <td>12</td>\n",
       "      <td>0.000000</td>\n",
       "      <td>0.179208</td>\n",
       "      <td>0.179208</td>\n",
       "      <td>ASIA (EX. NEAR EAST)</td>\n",
       "    </tr>\n",
       "    <tr>\n",
       "      <th>4</th>\n",
       "      <td>2013</td>\n",
       "      <td>AFGHANISTAN</td>\n",
       "      <td>2</td>\n",
       "      <td>26</td>\n",
       "      <td>1.264967</td>\n",
       "      <td>0.000000</td>\n",
       "      <td>-1.264967</td>\n",
       "      <td>ASIA (EX. NEAR EAST)</td>\n",
       "    </tr>\n",
       "    <tr>\n",
       "      <th>...</th>\n",
       "      <td>...</td>\n",
       "      <td>...</td>\n",
       "      <td>...</td>\n",
       "      <td>...</td>\n",
       "      <td>...</td>\n",
       "      <td>...</td>\n",
       "      <td>...</td>\n",
       "      <td>...</td>\n",
       "    </tr>\n",
       "    <tr>\n",
       "      <th>57058</th>\n",
       "      <td>2015</td>\n",
       "      <td>WESTERN SAHARA</td>\n",
       "      <td>7</td>\n",
       "      <td>77</td>\n",
       "      <td>0.000000</td>\n",
       "      <td>0.120519</td>\n",
       "      <td>0.120519</td>\n",
       "      <td>NORTHERN AFRICA</td>\n",
       "    </tr>\n",
       "    <tr>\n",
       "      <th>57059</th>\n",
       "      <td>2016</td>\n",
       "      <td>WESTERN SAHARA</td>\n",
       "      <td>7</td>\n",
       "      <td>77</td>\n",
       "      <td>0.000000</td>\n",
       "      <td>0.000000</td>\n",
       "      <td>0.000000</td>\n",
       "      <td>NORTHERN AFRICA</td>\n",
       "    </tr>\n",
       "    <tr>\n",
       "      <th>57060</th>\n",
       "      <td>2017</td>\n",
       "      <td>WESTERN SAHARA</td>\n",
       "      <td>7</td>\n",
       "      <td>77</td>\n",
       "      <td>0.000000</td>\n",
       "      <td>0.000000</td>\n",
       "      <td>0.000000</td>\n",
       "      <td>NORTHERN AFRICA</td>\n",
       "    </tr>\n",
       "    <tr>\n",
       "      <th>57061</th>\n",
       "      <td>2018</td>\n",
       "      <td>WESTERN SAHARA</td>\n",
       "      <td>7</td>\n",
       "      <td>77</td>\n",
       "      <td>0.000000</td>\n",
       "      <td>0.000000</td>\n",
       "      <td>0.000000</td>\n",
       "      <td>NORTHERN AFRICA</td>\n",
       "    </tr>\n",
       "    <tr>\n",
       "      <th>57062</th>\n",
       "      <td>2019</td>\n",
       "      <td>WESTERN SAHARA</td>\n",
       "      <td>7</td>\n",
       "      <td>77</td>\n",
       "      <td>0.000000</td>\n",
       "      <td>0.000000</td>\n",
       "      <td>0.000000</td>\n",
       "      <td>NORTHERN AFRICA</td>\n",
       "    </tr>\n",
       "  </tbody>\n",
       "</table>\n",
       "<p>57063 rows × 8 columns</p>\n",
       "</div>"
      ],
      "text/plain": [
       "       YEAR         COUNTRY  SITC 1 DIGIT  SITC 2 DIGIT  IMPORT (MILLION RM)  \\\n",
       "0      2013     AFGHANISTAN             0             4             0.000000   \n",
       "1      2013     AFGHANISTAN             0             5             0.002469   \n",
       "2      2013     AFGHANISTAN             0             9             0.000000   \n",
       "3      2013     AFGHANISTAN             1            12             0.000000   \n",
       "4      2013     AFGHANISTAN             2            26             1.264967   \n",
       "...     ...             ...           ...           ...                  ...   \n",
       "57058  2015  WESTERN SAHARA             7            77             0.000000   \n",
       "57059  2016  WESTERN SAHARA             7            77             0.000000   \n",
       "57060  2017  WESTERN SAHARA             7            77             0.000000   \n",
       "57061  2018  WESTERN SAHARA             7            77             0.000000   \n",
       "57062  2019  WESTERN SAHARA             7            77             0.000000   \n",
       "\n",
       "       EXPORT (MILLION RM)  DEFICIT/SURPLUS (MILLION RM)  \\\n",
       "0                 0.000000                      0.000000   \n",
       "1                 0.419797                      0.417328   \n",
       "2                 0.669157                      0.669157   \n",
       "3                 0.179208                      0.179208   \n",
       "4                 0.000000                     -1.264967   \n",
       "...                    ...                           ...   \n",
       "57058             0.120519                      0.120519   \n",
       "57059             0.000000                      0.000000   \n",
       "57060             0.000000                      0.000000   \n",
       "57061             0.000000                      0.000000   \n",
       "57062             0.000000                      0.000000   \n",
       "\n",
       "                                    Region  \n",
       "0            ASIA (EX. NEAR EAST)           \n",
       "1            ASIA (EX. NEAR EAST)           \n",
       "2            ASIA (EX. NEAR EAST)           \n",
       "3            ASIA (EX. NEAR EAST)           \n",
       "4            ASIA (EX. NEAR EAST)           \n",
       "...                                    ...  \n",
       "57058  NORTHERN AFRICA                      \n",
       "57059  NORTHERN AFRICA                      \n",
       "57060  NORTHERN AFRICA                      \n",
       "57061  NORTHERN AFRICA                      \n",
       "57062  NORTHERN AFRICA                      \n",
       "\n",
       "[57063 rows x 8 columns]"
      ]
     },
     "execution_count": 60,
     "metadata": {},
     "output_type": "execute_result"
    }
   ],
   "source": [
    "df_merge = df.merge(df_country, on='COUNTRY', how='inner')\n",
    "df_merge"
   ]
  },
  {
   "cell_type": "code",
   "execution_count": 61,
   "metadata": {},
   "outputs": [],
   "source": [
    "df_merge = df_merge.rename(columns={'Region': 'REGION'})"
   ]
  },
  {
   "cell_type": "code",
   "execution_count": 62,
   "metadata": {},
   "outputs": [
    {
     "data": {
      "text/html": [
       "<div>\n",
       "<style scoped>\n",
       "    .dataframe tbody tr th:only-of-type {\n",
       "        vertical-align: middle;\n",
       "    }\n",
       "\n",
       "    .dataframe tbody tr th {\n",
       "        vertical-align: top;\n",
       "    }\n",
       "\n",
       "    .dataframe thead th {\n",
       "        text-align: right;\n",
       "    }\n",
       "</style>\n",
       "<table border=\"1\" class=\"dataframe\">\n",
       "  <thead>\n",
       "    <tr style=\"text-align: right;\">\n",
       "      <th></th>\n",
       "      <th>YEAR</th>\n",
       "      <th>COUNTRY</th>\n",
       "      <th>SITC 1 DIGIT</th>\n",
       "      <th>SITC 2 DIGIT</th>\n",
       "      <th>IMPORT (MILLION RM)</th>\n",
       "      <th>EXPORT (MILLION RM)</th>\n",
       "      <th>DEFICIT/SURPLUS (MILLION RM)</th>\n",
       "      <th>REGION</th>\n",
       "    </tr>\n",
       "  </thead>\n",
       "  <tbody>\n",
       "    <tr>\n",
       "      <th>0</th>\n",
       "      <td>2013</td>\n",
       "      <td>AFGHANISTAN</td>\n",
       "      <td>0</td>\n",
       "      <td>4</td>\n",
       "      <td>0.000000</td>\n",
       "      <td>0.000000</td>\n",
       "      <td>0.000000</td>\n",
       "      <td>ASIA (EX. NEAR EAST)</td>\n",
       "    </tr>\n",
       "    <tr>\n",
       "      <th>1</th>\n",
       "      <td>2013</td>\n",
       "      <td>AFGHANISTAN</td>\n",
       "      <td>0</td>\n",
       "      <td>5</td>\n",
       "      <td>0.002469</td>\n",
       "      <td>0.419797</td>\n",
       "      <td>0.417328</td>\n",
       "      <td>ASIA (EX. NEAR EAST)</td>\n",
       "    </tr>\n",
       "    <tr>\n",
       "      <th>2</th>\n",
       "      <td>2013</td>\n",
       "      <td>AFGHANISTAN</td>\n",
       "      <td>0</td>\n",
       "      <td>9</td>\n",
       "      <td>0.000000</td>\n",
       "      <td>0.669157</td>\n",
       "      <td>0.669157</td>\n",
       "      <td>ASIA (EX. NEAR EAST)</td>\n",
       "    </tr>\n",
       "    <tr>\n",
       "      <th>3</th>\n",
       "      <td>2013</td>\n",
       "      <td>AFGHANISTAN</td>\n",
       "      <td>1</td>\n",
       "      <td>12</td>\n",
       "      <td>0.000000</td>\n",
       "      <td>0.179208</td>\n",
       "      <td>0.179208</td>\n",
       "      <td>ASIA (EX. NEAR EAST)</td>\n",
       "    </tr>\n",
       "    <tr>\n",
       "      <th>4</th>\n",
       "      <td>2013</td>\n",
       "      <td>AFGHANISTAN</td>\n",
       "      <td>2</td>\n",
       "      <td>26</td>\n",
       "      <td>1.264967</td>\n",
       "      <td>0.000000</td>\n",
       "      <td>-1.264967</td>\n",
       "      <td>ASIA (EX. NEAR EAST)</td>\n",
       "    </tr>\n",
       "    <tr>\n",
       "      <th>...</th>\n",
       "      <td>...</td>\n",
       "      <td>...</td>\n",
       "      <td>...</td>\n",
       "      <td>...</td>\n",
       "      <td>...</td>\n",
       "      <td>...</td>\n",
       "      <td>...</td>\n",
       "      <td>...</td>\n",
       "    </tr>\n",
       "    <tr>\n",
       "      <th>57058</th>\n",
       "      <td>2015</td>\n",
       "      <td>WESTERN SAHARA</td>\n",
       "      <td>7</td>\n",
       "      <td>77</td>\n",
       "      <td>0.000000</td>\n",
       "      <td>0.120519</td>\n",
       "      <td>0.120519</td>\n",
       "      <td>NORTHERN AFRICA</td>\n",
       "    </tr>\n",
       "    <tr>\n",
       "      <th>57059</th>\n",
       "      <td>2016</td>\n",
       "      <td>WESTERN SAHARA</td>\n",
       "      <td>7</td>\n",
       "      <td>77</td>\n",
       "      <td>0.000000</td>\n",
       "      <td>0.000000</td>\n",
       "      <td>0.000000</td>\n",
       "      <td>NORTHERN AFRICA</td>\n",
       "    </tr>\n",
       "    <tr>\n",
       "      <th>57060</th>\n",
       "      <td>2017</td>\n",
       "      <td>WESTERN SAHARA</td>\n",
       "      <td>7</td>\n",
       "      <td>77</td>\n",
       "      <td>0.000000</td>\n",
       "      <td>0.000000</td>\n",
       "      <td>0.000000</td>\n",
       "      <td>NORTHERN AFRICA</td>\n",
       "    </tr>\n",
       "    <tr>\n",
       "      <th>57061</th>\n",
       "      <td>2018</td>\n",
       "      <td>WESTERN SAHARA</td>\n",
       "      <td>7</td>\n",
       "      <td>77</td>\n",
       "      <td>0.000000</td>\n",
       "      <td>0.000000</td>\n",
       "      <td>0.000000</td>\n",
       "      <td>NORTHERN AFRICA</td>\n",
       "    </tr>\n",
       "    <tr>\n",
       "      <th>57062</th>\n",
       "      <td>2019</td>\n",
       "      <td>WESTERN SAHARA</td>\n",
       "      <td>7</td>\n",
       "      <td>77</td>\n",
       "      <td>0.000000</td>\n",
       "      <td>0.000000</td>\n",
       "      <td>0.000000</td>\n",
       "      <td>NORTHERN AFRICA</td>\n",
       "    </tr>\n",
       "  </tbody>\n",
       "</table>\n",
       "<p>57063 rows × 8 columns</p>\n",
       "</div>"
      ],
      "text/plain": [
       "       YEAR         COUNTRY  SITC 1 DIGIT  SITC 2 DIGIT  IMPORT (MILLION RM)  \\\n",
       "0      2013     AFGHANISTAN             0             4             0.000000   \n",
       "1      2013     AFGHANISTAN             0             5             0.002469   \n",
       "2      2013     AFGHANISTAN             0             9             0.000000   \n",
       "3      2013     AFGHANISTAN             1            12             0.000000   \n",
       "4      2013     AFGHANISTAN             2            26             1.264967   \n",
       "...     ...             ...           ...           ...                  ...   \n",
       "57058  2015  WESTERN SAHARA             7            77             0.000000   \n",
       "57059  2016  WESTERN SAHARA             7            77             0.000000   \n",
       "57060  2017  WESTERN SAHARA             7            77             0.000000   \n",
       "57061  2018  WESTERN SAHARA             7            77             0.000000   \n",
       "57062  2019  WESTERN SAHARA             7            77             0.000000   \n",
       "\n",
       "       EXPORT (MILLION RM)  DEFICIT/SURPLUS (MILLION RM)  \\\n",
       "0                 0.000000                      0.000000   \n",
       "1                 0.419797                      0.417328   \n",
       "2                 0.669157                      0.669157   \n",
       "3                 0.179208                      0.179208   \n",
       "4                 0.000000                     -1.264967   \n",
       "...                    ...                           ...   \n",
       "57058             0.120519                      0.120519   \n",
       "57059             0.000000                      0.000000   \n",
       "57060             0.000000                      0.000000   \n",
       "57061             0.000000                      0.000000   \n",
       "57062             0.000000                      0.000000   \n",
       "\n",
       "                                    REGION  \n",
       "0            ASIA (EX. NEAR EAST)           \n",
       "1            ASIA (EX. NEAR EAST)           \n",
       "2            ASIA (EX. NEAR EAST)           \n",
       "3            ASIA (EX. NEAR EAST)           \n",
       "4            ASIA (EX. NEAR EAST)           \n",
       "...                                    ...  \n",
       "57058  NORTHERN AFRICA                      \n",
       "57059  NORTHERN AFRICA                      \n",
       "57060  NORTHERN AFRICA                      \n",
       "57061  NORTHERN AFRICA                      \n",
       "57062  NORTHERN AFRICA                      \n",
       "\n",
       "[57063 rows x 8 columns]"
      ]
     },
     "execution_count": 62,
     "metadata": {},
     "output_type": "execute_result"
    }
   ],
   "source": [
    "df_merge"
   ]
  },
  {
   "cell_type": "code",
   "execution_count": 63,
   "metadata": {},
   "outputs": [],
   "source": [
    "df_merge[\"WORLD\"] = \"WORLD\""
   ]
  },
  {
   "cell_type": "code",
   "execution_count": 64,
   "metadata": {},
   "outputs": [
    {
     "data": {
      "text/html": [
       "<div>\n",
       "<style scoped>\n",
       "    .dataframe tbody tr th:only-of-type {\n",
       "        vertical-align: middle;\n",
       "    }\n",
       "\n",
       "    .dataframe tbody tr th {\n",
       "        vertical-align: top;\n",
       "    }\n",
       "\n",
       "    .dataframe thead th {\n",
       "        text-align: right;\n",
       "    }\n",
       "</style>\n",
       "<table border=\"1\" class=\"dataframe\">\n",
       "  <thead>\n",
       "    <tr style=\"text-align: right;\">\n",
       "      <th></th>\n",
       "      <th>YEAR</th>\n",
       "      <th>COUNTRY</th>\n",
       "      <th>SITC 1 DIGIT</th>\n",
       "      <th>SITC 2 DIGIT</th>\n",
       "      <th>IMPORT (MILLION RM)</th>\n",
       "      <th>EXPORT (MILLION RM)</th>\n",
       "      <th>DEFICIT/SURPLUS (MILLION RM)</th>\n",
       "      <th>REGION</th>\n",
       "      <th>WORLD</th>\n",
       "    </tr>\n",
       "  </thead>\n",
       "  <tbody>\n",
       "    <tr>\n",
       "      <th>0</th>\n",
       "      <td>2013</td>\n",
       "      <td>AFGHANISTAN</td>\n",
       "      <td>0</td>\n",
       "      <td>4</td>\n",
       "      <td>0.000000</td>\n",
       "      <td>0.000000</td>\n",
       "      <td>0.000000</td>\n",
       "      <td>ASIA (EX. NEAR EAST)</td>\n",
       "      <td>WORLD</td>\n",
       "    </tr>\n",
       "    <tr>\n",
       "      <th>1</th>\n",
       "      <td>2013</td>\n",
       "      <td>AFGHANISTAN</td>\n",
       "      <td>0</td>\n",
       "      <td>5</td>\n",
       "      <td>0.002469</td>\n",
       "      <td>0.419797</td>\n",
       "      <td>0.417328</td>\n",
       "      <td>ASIA (EX. NEAR EAST)</td>\n",
       "      <td>WORLD</td>\n",
       "    </tr>\n",
       "    <tr>\n",
       "      <th>2</th>\n",
       "      <td>2013</td>\n",
       "      <td>AFGHANISTAN</td>\n",
       "      <td>0</td>\n",
       "      <td>9</td>\n",
       "      <td>0.000000</td>\n",
       "      <td>0.669157</td>\n",
       "      <td>0.669157</td>\n",
       "      <td>ASIA (EX. NEAR EAST)</td>\n",
       "      <td>WORLD</td>\n",
       "    </tr>\n",
       "    <tr>\n",
       "      <th>3</th>\n",
       "      <td>2013</td>\n",
       "      <td>AFGHANISTAN</td>\n",
       "      <td>1</td>\n",
       "      <td>12</td>\n",
       "      <td>0.000000</td>\n",
       "      <td>0.179208</td>\n",
       "      <td>0.179208</td>\n",
       "      <td>ASIA (EX. NEAR EAST)</td>\n",
       "      <td>WORLD</td>\n",
       "    </tr>\n",
       "    <tr>\n",
       "      <th>4</th>\n",
       "      <td>2013</td>\n",
       "      <td>AFGHANISTAN</td>\n",
       "      <td>2</td>\n",
       "      <td>26</td>\n",
       "      <td>1.264967</td>\n",
       "      <td>0.000000</td>\n",
       "      <td>-1.264967</td>\n",
       "      <td>ASIA (EX. NEAR EAST)</td>\n",
       "      <td>WORLD</td>\n",
       "    </tr>\n",
       "    <tr>\n",
       "      <th>...</th>\n",
       "      <td>...</td>\n",
       "      <td>...</td>\n",
       "      <td>...</td>\n",
       "      <td>...</td>\n",
       "      <td>...</td>\n",
       "      <td>...</td>\n",
       "      <td>...</td>\n",
       "      <td>...</td>\n",
       "      <td>...</td>\n",
       "    </tr>\n",
       "    <tr>\n",
       "      <th>57058</th>\n",
       "      <td>2015</td>\n",
       "      <td>WESTERN SAHARA</td>\n",
       "      <td>7</td>\n",
       "      <td>77</td>\n",
       "      <td>0.000000</td>\n",
       "      <td>0.120519</td>\n",
       "      <td>0.120519</td>\n",
       "      <td>NORTHERN AFRICA</td>\n",
       "      <td>WORLD</td>\n",
       "    </tr>\n",
       "    <tr>\n",
       "      <th>57059</th>\n",
       "      <td>2016</td>\n",
       "      <td>WESTERN SAHARA</td>\n",
       "      <td>7</td>\n",
       "      <td>77</td>\n",
       "      <td>0.000000</td>\n",
       "      <td>0.000000</td>\n",
       "      <td>0.000000</td>\n",
       "      <td>NORTHERN AFRICA</td>\n",
       "      <td>WORLD</td>\n",
       "    </tr>\n",
       "    <tr>\n",
       "      <th>57060</th>\n",
       "      <td>2017</td>\n",
       "      <td>WESTERN SAHARA</td>\n",
       "      <td>7</td>\n",
       "      <td>77</td>\n",
       "      <td>0.000000</td>\n",
       "      <td>0.000000</td>\n",
       "      <td>0.000000</td>\n",
       "      <td>NORTHERN AFRICA</td>\n",
       "      <td>WORLD</td>\n",
       "    </tr>\n",
       "    <tr>\n",
       "      <th>57061</th>\n",
       "      <td>2018</td>\n",
       "      <td>WESTERN SAHARA</td>\n",
       "      <td>7</td>\n",
       "      <td>77</td>\n",
       "      <td>0.000000</td>\n",
       "      <td>0.000000</td>\n",
       "      <td>0.000000</td>\n",
       "      <td>NORTHERN AFRICA</td>\n",
       "      <td>WORLD</td>\n",
       "    </tr>\n",
       "    <tr>\n",
       "      <th>57062</th>\n",
       "      <td>2019</td>\n",
       "      <td>WESTERN SAHARA</td>\n",
       "      <td>7</td>\n",
       "      <td>77</td>\n",
       "      <td>0.000000</td>\n",
       "      <td>0.000000</td>\n",
       "      <td>0.000000</td>\n",
       "      <td>NORTHERN AFRICA</td>\n",
       "      <td>WORLD</td>\n",
       "    </tr>\n",
       "  </tbody>\n",
       "</table>\n",
       "<p>57063 rows × 9 columns</p>\n",
       "</div>"
      ],
      "text/plain": [
       "       YEAR         COUNTRY  SITC 1 DIGIT  SITC 2 DIGIT  IMPORT (MILLION RM)  \\\n",
       "0      2013     AFGHANISTAN             0             4             0.000000   \n",
       "1      2013     AFGHANISTAN             0             5             0.002469   \n",
       "2      2013     AFGHANISTAN             0             9             0.000000   \n",
       "3      2013     AFGHANISTAN             1            12             0.000000   \n",
       "4      2013     AFGHANISTAN             2            26             1.264967   \n",
       "...     ...             ...           ...           ...                  ...   \n",
       "57058  2015  WESTERN SAHARA             7            77             0.000000   \n",
       "57059  2016  WESTERN SAHARA             7            77             0.000000   \n",
       "57060  2017  WESTERN SAHARA             7            77             0.000000   \n",
       "57061  2018  WESTERN SAHARA             7            77             0.000000   \n",
       "57062  2019  WESTERN SAHARA             7            77             0.000000   \n",
       "\n",
       "       EXPORT (MILLION RM)  DEFICIT/SURPLUS (MILLION RM)  \\\n",
       "0                 0.000000                      0.000000   \n",
       "1                 0.419797                      0.417328   \n",
       "2                 0.669157                      0.669157   \n",
       "3                 0.179208                      0.179208   \n",
       "4                 0.000000                     -1.264967   \n",
       "...                    ...                           ...   \n",
       "57058             0.120519                      0.120519   \n",
       "57059             0.000000                      0.000000   \n",
       "57060             0.000000                      0.000000   \n",
       "57061             0.000000                      0.000000   \n",
       "57062             0.000000                      0.000000   \n",
       "\n",
       "                                    REGION  WORLD  \n",
       "0            ASIA (EX. NEAR EAST)           WORLD  \n",
       "1            ASIA (EX. NEAR EAST)           WORLD  \n",
       "2            ASIA (EX. NEAR EAST)           WORLD  \n",
       "3            ASIA (EX. NEAR EAST)           WORLD  \n",
       "4            ASIA (EX. NEAR EAST)           WORLD  \n",
       "...                                    ...    ...  \n",
       "57058  NORTHERN AFRICA                      WORLD  \n",
       "57059  NORTHERN AFRICA                      WORLD  \n",
       "57060  NORTHERN AFRICA                      WORLD  \n",
       "57061  NORTHERN AFRICA                      WORLD  \n",
       "57062  NORTHERN AFRICA                      WORLD  \n",
       "\n",
       "[57063 rows x 9 columns]"
      ]
     },
     "execution_count": 64,
     "metadata": {},
     "output_type": "execute_result"
    }
   ],
   "source": [
    "df_merge"
   ]
  },
  {
   "cell_type": "code",
   "execution_count": 67,
   "metadata": {},
   "outputs": [
    {
     "data": {
      "application/vnd.plotly.v1+json": {
       "config": {
        "plotlyServerURL": "https://plot.ly"
       },
       "data": [
        {
         "branchvalues": "total",
         "customdata": [
          [
           10.776333000000001,
           10.776333000000001
          ],
          [
           26.495999,
           26.495999
          ],
          [
           2732.3596559999996,
           2732.3596559999996
          ],
          [
           5.614514,
           5.614514
          ],
          [
           3.856605,
           3.856605
          ],
          [
           904.1393129999999,
           904.1393129999999
          ],
          [
           0.23157100000000003,
           0.23157100000000003
          ],
          [
           31393.865520999992,
           31393.865520999992
          ],
          [
           2.3471940000000004,
           2.3471940000000004
          ],
          [
           469.7341640000001,
           469.7341640000001
          ],
          [
           134928.5646650001,
           134928.5646650001
          ],
          [
           15500.146632000004,
           15500.146632000004
          ],
          [
           19.757670000000005,
           19.757670000000005
          ],
          [
           3981.6279520000007,
           3981.6279520000007
          ],
          [
           4987.016161,
           4987.016161
          ],
          [
           80.083495,
           80.083495
          ],
          [
           1532.9856740000002,
           1532.9856740000002
          ],
          [
           19666.982681999998,
           19666.982681999998
          ],
          [
           9.758631000000003,
           9.758631000000003
          ],
          [
           74.027475,
           74.027475
          ],
          [
           2.6602380000000005,
           2.6602380000000005
          ],
          [
           2.997089000000001,
           2.997089000000001
          ],
          [
           0.7703909999999999,
           0.7703909999999999
          ],
          [
           51362.473028999986,
           51362.473028999986
          ],
          [
           973.6464009999997,
           973.6464009999997
          ],
          [
           193.20358100000004,
           193.20358100000004
          ],
          [
           3.380643,
           3.380643
          ],
          [
           4491.710684999998,
           4491.710684999998
          ],
          [
           2112.693466999999,
           2112.693466999999
          ],
          [
           21307.232167000013,
           21307.232167000013
          ],
          [
           1.8193810000000001,
           1.8193810000000001
          ],
          [
           1.352269,
           1.352269
          ],
          [
           0.762193,
           0.762193
          ],
          [
           5352.982835999999,
           5352.982835999999
          ],
          [
           1008973.5574330001,
           1008973.5574330001
          ],
          [
           2818.3343840000025,
           2818.3343840000025
          ],
          [
           1.348353,
           1.348353
          ],
          [
           0.11754200000000001,
           0.11754200000000001
          ],
          [
           17281.450790000014,
           17281.450790000014
          ],
          [
           11482.683850000001,
           11482.683850000001
          ],
          [
           215.77302499999996,
           215.77302499999996
          ],
          [
           165.63309299999995,
           165.63309299999995
          ],
          [
           1432.233216000001,
           1432.233216000001
          ],
          [
           5817.068305999996,
           5817.068305999996
          ],
          [
           6400.138625999997,
           6400.138625999997
          ],
          [
           13.613605,
           13.613605
          ],
          [
           0.9458939999999999,
           0.9458939999999999
          ],
          [
           112.06053700000001,
           112.06053700000001
          ],
          [
           2369.7823519999993,
           2369.7823519999993
          ],
          [
           4206.204402999999,
           4206.204402999999
          ],
          [
           85.70273399999999,
           85.70273399999999
          ],
          [
           247.543123,
           247.543123
          ],
          [
           0.248811,
           0.248811
          ],
          [
           353.76145000000025,
           353.76145000000025
          ],
          [
           75.748472,
           75.748472
          ],
          [
           0.470619,
           0.470619
          ],
          [
           79.72967299999999,
           79.72967299999999
          ],
          [
           5608.594206000003,
           5608.594206000003
          ],
          [
           84222.51153399996,
           84222.51153399996
          ],
          [
           0.35412400000000005,
           0.35412400000000005
          ],
          [
           1.670511,
           1.670511
          ],
          [
           4013.638874,
           4013.638874
          ],
          [
           371.6544820000001,
           371.6544820000001
          ],
          [
           172655.33326100005,
           172655.33326100005
          ],
          [
           6004.028615999997,
           6004.028615999997
          ],
          [
           0.710059,
           0.710059
          ],
          [
           706.3503130000001,
           706.3503130000001
          ],
          [
           5.396272,
           5.396272
          ],
          [
           39.046655,
           39.046655
          ],
          [
           1.501561,
           1.501561
          ],
          [
           2.045193,
           2.045193
          ],
          [
           888.4353789999998,
           888.4353789999998
          ],
          [
           149.73741699999997,
           149.73741699999997
          ],
          [
           0.8989689999999999,
           0.8989689999999999
          ],
          [
           32.713983999999996,
           32.713983999999996
          ],
          [
           11.238676000000002,
           11.238676000000002
          ],
          [
           36.705196999999984,
           36.705196999999984
          ],
          [
           88669.66441200003,
           88669.66441200003
          ],
          [
           4029.4493710000015,
           4029.4493710000015
          ],
          [
           40.74392000000001,
           40.74392000000001
          ],
          [
           139162.83088999995,
           139162.83088999995
          ],
          [
           233425.895374,
           233425.895374
          ],
          [
           6593.5939690000005,
           6593.5939690000005
          ],
          [
           18064.500062,
           18064.500062
          ],
          [
           43609.81752100001,
           43609.81752100001
          ],
          [
           51.392725999999975,
           51.392725999999975
          ],
          [
           412700.23306200013,
           412700.23306200013
          ],
          [
           1974.0271359999995,
           1974.0271359999995
          ],
          [
           175.881095,
           175.881095
          ],
          [
           350.17079900000004,
           350.17079900000004
          ],
          [
           39.27146200000001,
           39.27146200000001
          ],
          [
           15717.296577000001,
           15717.296577000001
          ],
          [
           2.4779039999999997,
           2.4779039999999997
          ],
          [
           760.7777569999996,
           760.7777569999996
          ],
          [
           211.80038000000005,
           211.80038000000005
          ],
          [
           1.7540539999999998,
           1.7540539999999998
          ],
          [
           364.099013,
           364.099013
          ],
          [
           4426.737666999999,
           4426.737666999999
          ],
          [
           11.639453999999999,
           11.639453999999999
          ],
          [
           1669.9649649999997,
           1669.9649649999997
          ],
          [
           614.2221170000003,
           614.2221170000003
          ],
          [
           288.90032899999983,
           288.90032899999983
          ],
          [
           72.37452000000002,
           72.37452000000002
          ],
          [
           1480.8206590000007,
           1480.8206590000007
          ],
          [
           18.35030199999999,
           18.35030199999999
          ],
          [
           46.80140499999999,
           46.80140499999999
          ],
          [
           1735.4117960000003,
           1735.4117960000003
          ],
          [
           217.01859399999998,
           217.01859399999998
          ],
          [
           0.5198690000000001,
           0.5198690000000001
          ],
          [
           12.392573000000002,
           12.392573000000002
          ],
          [
           87.93023700000003,
           87.93023700000003
          ],
          [
           0.127141,
           0.127141
          ],
          [
           10094.77744,
           10094.77744
          ],
          [
           1.3078009999999998,
           1.3078009999999998
          ],
          [
           10.569351000000001,
           10.569351000000001
          ],
          [
           608.2740179999995,
           608.2740179999995
          ],
          [
           401.89654899999994,
           401.89654899999994
          ],
          [
           230.9469770000001,
           230.9469770000001
          ],
          [
           0.589069,
           0.589069
          ],
          [
           16.379577000000005,
           16.379577000000005
          ],
          [
           50074.19940099999,
           50074.19940099999
          ],
          [
           4.849800999999999,
           4.849800999999999
          ],
          [
           21443.082143000003,
           21443.082143000003
          ],
          [
           110.52394000000001,
           110.52394000000001
          ],
          [
           1.90301,
           1.90301
          ],
          [
           5517.357539000001,
           5517.357539000001
          ],
          [
           9694.967739,
           9694.967739
          ],
          [
           9130.566457999996,
           9130.566457999996
          ],
          [
           5579.291098000004,
           5579.291098000004
          ],
          [
           0.023982999999999997,
           0.023982999999999997
          ],
          [
           1388.0513199999998,
           1388.0513199999998
          ],
          [
           3999.9050480000005,
           3999.9050480000005
          ],
          [
           644.8289179999999,
           644.8289179999999
          ],
          [
           2216.547223999999,
           2216.547223999999
          ],
          [
           50234.401597999975,
           50234.401597999975
          ],
          [
           5757.647667000001,
           5757.647667000001
          ],
          [
           1726.6155539999988,
           1726.6155539999988
          ],
          [
           235.74114499999993,
           235.74114499999993
          ],
          [
           16700.376181000003,
           16700.376181000003
          ],
          [
           19.65436800000001,
           19.65436800000001
          ],
          [
           989.18161,
           989.18161
          ],
          [
           720.9524919999998,
           720.9524919999998
          ],
          [
           0.192125,
           0.192125
          ],
          [
           0.028047000000000002,
           0.028047000000000002
          ],
          [
           81046.66392400004,
           81046.66392400004
          ],
          [
           75.97196299999997,
           75.97196299999997
          ],
          [
           76.88302399999999,
           76.88302399999999
          ],
          [
           92.397133,
           92.397133
          ],
          [
           6.941035999999998,
           6.941035999999998
          ],
          [
           606026.1248479997,
           606026.1248479997
          ],
          [
           770.4056640000005,
           770.4056640000005
          ],
          [
           815.0778720000002,
           815.0778720000002
          ],
          [
           312.7742930000001,
           312.7742930000001
          ],
          [
           5.684306000000001,
           5.684306000000001
          ],
          [
           18047.848300999976,
           18047.848300999976
          ],
          [
           16504.70428899999,
           16504.70428899999
          ],
          [
           1889.8801689999987,
           1889.8801689999987
          ],
          [
           54.19916000000001,
           54.19916000000001
          ],
          [
           24.313780000000005,
           24.313780000000005
          ],
          [
           33.03155400000001,
           33.03155400000001
          ],
          [
           13747.404772000002,
           13747.404772000002
          ],
          [
           57705.781418999955,
           57705.781418999955
          ],
          [
           3.1760759999999997,
           3.1760759999999997
          ],
          [
           303274.27952300006,
           303274.27952300006
          ],
          [
           117.42820499999998,
           117.42820499999998
          ],
          [
           0.019918,
           0.019918
          ],
          [
           620.4049369999999,
           620.4049369999999
          ],
          [
           9547.16240099999,
           9547.16240099999
          ],
          [
           29.148996999999998,
           29.148996999999998
          ],
          [
           0.017196,
           0.017196
          ],
          [
           628.679824,
           628.679824
          ],
          [
           3840.769200999999,
           3840.769200999999
          ],
          [
           92811.57970600003,
           92811.57970600003
          ],
          [
           49163.930399000004,
           49163.930399000004
          ],
          [
           412958.68946300016,
           412958.68946300016
          ],
          [
           403.42591999999985,
           403.42591999999985
          ],
          [
           135.91336200000003,
           135.91336200000003
          ],
          [
           128.404126,
           128.404126
          ],
          [
           133618.21041000003,
           133618.21041000003
          ],
          [
           2450.1654410000006,
           2450.1654410000006
          ],
          [
           1027.8419729999998,
           1027.8419729999998
          ],
          [
           142.7773400000001,
           142.7773400000001
          ]
         ],
         "domain": {
          "x": [
           0,
           1
          ],
          "y": [
           0,
           1
          ]
         },
         "hovertemplate": "labels=%{label}<br>IMPORT (MILLION RM)_sum=%{value}<br>parent=%{parent}<br>id=%{id}<br>IMPORT (MILLION RM)=%{color}<extra></extra>",
         "ids": [
          "AFGHANISTAN",
          "ALBANIA",
          "ALGERIA",
          "AMERICAN SAMOA",
          "ANDORRA",
          "ANGOLA",
          "ANGUILLA",
          "ARGENTINA",
          "ARMENIA",
          "ARUBA",
          "AUSTRALIA",
          "AUSTRIA",
          "AZERBAIJAN",
          "BAHRAIN",
          "BANGLADESH",
          "BARBADOS",
          "BELARUS",
          "BELGIUM",
          "BELIZE",
          "BENIN",
          "BERMUDA",
          "BHUTAN",
          "BOTSWANA",
          "BRAZIL",
          "BULGARIA",
          "BURKINA FASO",
          "BURUNDI",
          "CAMBODIA",
          "CAMEROON",
          "CANADA",
          "CAPE VERDE",
          "CAYMAN ISLANDS",
          "CHAD",
          "CHILE",
          "CHINA",
          "COLOMBIA",
          "COMOROS",
          "COOK ISLANDS",
          "COSTA RICA",
          "COTE D'IVOIRE",
          "CROATIA",
          "CUBA",
          "CYPRUS",
          "CZECH REPUBLIC",
          "DENMARK",
          "DJIBOUTI",
          "DOMINICA",
          "DOMINICAN REPUBLIC",
          "ECUADOR",
          "EGYPT",
          "EL SALVADOR",
          "EQUATORIAL GUINEA",
          "ERITREA",
          "ESTONIA",
          "ETHIOPIA",
          "FAROE ISLANDS",
          "FIJI",
          "FINLAND",
          "FRANCE",
          "FRENCH GUIANA",
          "FRENCH POLYNESIA",
          "GABON",
          "GEORGIA",
          "GERMANY",
          "GHANA",
          "GIBRALTAR",
          "GREECE",
          "GREENLAND",
          "GRENADA",
          "GUADELOUPE",
          "GUAM",
          "GUATEMALA",
          "GUINEA",
          "GUINEA-BISSAU",
          "GUYANA",
          "HAITI",
          "HONDURAS",
          "HONG KONG",
          "HUNGARY",
          "ICELAND",
          "INDIA",
          "INDONESIA",
          "IRAQ",
          "IRELAND",
          "ITALY",
          "JAMAICA",
          "JAPAN",
          "JORDAN",
          "KAZAKHSTAN",
          "KENYA",
          "KIRIBATI",
          "KUWAIT",
          "KYRGYZSTAN",
          "LATVIA",
          "LEBANON",
          "LESOTHO",
          "LIBERIA",
          "LIBYA",
          "LIECHTENSTEIN",
          "LITHUANIA",
          "LUXEMBOURG",
          "MADAGASCAR",
          "MALAWI",
          "MALAYSIA",
          "MALDIVES",
          "MALI",
          "MALTA",
          "MARSHALL ISLANDS",
          "MARTINIQUE",
          "MAURITANIA",
          "MAURITIUS",
          "MAYOTTE",
          "MEXICO",
          "MONACO",
          "MONGOLIA",
          "MOROCCO",
          "MOZAMBIQUE",
          "NAMIBIA",
          "NAURU",
          "NEPAL",
          "NETHERLANDS",
          "NEW CALEDONIA",
          "NEW ZEALAND",
          "NICARAGUA",
          "NIGER",
          "NIGERIA",
          "NORWAY",
          "OMAN",
          "PAKISTAN",
          "PALAU",
          "PANAMA",
          "PAPUA NEW GUINEA",
          "PARAGUAY",
          "PERU",
          "PHILIPPINES",
          "POLAND",
          "PORTUGAL",
          "PUERTO RICO",
          "QATAR",
          "REUNION",
          "ROMANIA",
          "RWANDA",
          "SAINT LUCIA",
          "SAN MARINO",
          "SAUDI ARABIA",
          "SENEGAL",
          "SERBIA",
          "SEYCHELLES",
          "SIERRA LEONE",
          "SINGAPORE",
          "SLOVAKIA",
          "SLOVENIA",
          "SOLOMON ISLANDS",
          "SOMALIA",
          "SOUTH AFRICA",
          "SPAIN",
          "SRI LANKA",
          "SUDAN",
          "SURINAME",
          "SWAZILAND",
          "SWEDEN",
          "SWITZERLAND",
          "TAJIKISTAN",
          "THAILAND",
          "TOGO",
          "TONGA",
          "TUNISIA",
          "TURKEY",
          "TURKMENISTAN",
          "TUVALU",
          "UGANDA",
          "UKRAINE",
          "UNITED ARAB EMIRATES",
          "UNITED KINGDOM",
          "UNITED STATES",
          "URUGUAY",
          "UZBEKISTAN",
          "VANUATU",
          "VIET NAM",
          "YEMEN",
          "ZAMBIA",
          "ZIMBABWE"
         ],
         "labels": [
          "AFGHANISTAN",
          "ALBANIA",
          "ALGERIA",
          "AMERICAN SAMOA",
          "ANDORRA",
          "ANGOLA",
          "ANGUILLA",
          "ARGENTINA",
          "ARMENIA",
          "ARUBA",
          "AUSTRALIA",
          "AUSTRIA",
          "AZERBAIJAN",
          "BAHRAIN",
          "BANGLADESH",
          "BARBADOS",
          "BELARUS",
          "BELGIUM",
          "BELIZE",
          "BENIN",
          "BERMUDA",
          "BHUTAN",
          "BOTSWANA",
          "BRAZIL",
          "BULGARIA",
          "BURKINA FASO",
          "BURUNDI",
          "CAMBODIA",
          "CAMEROON",
          "CANADA",
          "CAPE VERDE",
          "CAYMAN ISLANDS",
          "CHAD",
          "CHILE",
          "CHINA",
          "COLOMBIA",
          "COMOROS",
          "COOK ISLANDS",
          "COSTA RICA",
          "COTE D'IVOIRE",
          "CROATIA",
          "CUBA",
          "CYPRUS",
          "CZECH REPUBLIC",
          "DENMARK",
          "DJIBOUTI",
          "DOMINICA",
          "DOMINICAN REPUBLIC",
          "ECUADOR",
          "EGYPT",
          "EL SALVADOR",
          "EQUATORIAL GUINEA",
          "ERITREA",
          "ESTONIA",
          "ETHIOPIA",
          "FAROE ISLANDS",
          "FIJI",
          "FINLAND",
          "FRANCE",
          "FRENCH GUIANA",
          "FRENCH POLYNESIA",
          "GABON",
          "GEORGIA",
          "GERMANY",
          "GHANA",
          "GIBRALTAR",
          "GREECE",
          "GREENLAND",
          "GRENADA",
          "GUADELOUPE",
          "GUAM",
          "GUATEMALA",
          "GUINEA",
          "GUINEA-BISSAU",
          "GUYANA",
          "HAITI",
          "HONDURAS",
          "HONG KONG",
          "HUNGARY",
          "ICELAND",
          "INDIA",
          "INDONESIA",
          "IRAQ",
          "IRELAND",
          "ITALY",
          "JAMAICA",
          "JAPAN",
          "JORDAN",
          "KAZAKHSTAN",
          "KENYA",
          "KIRIBATI",
          "KUWAIT",
          "KYRGYZSTAN",
          "LATVIA",
          "LEBANON",
          "LESOTHO",
          "LIBERIA",
          "LIBYA",
          "LIECHTENSTEIN",
          "LITHUANIA",
          "LUXEMBOURG",
          "MADAGASCAR",
          "MALAWI",
          "MALAYSIA",
          "MALDIVES",
          "MALI",
          "MALTA",
          "MARSHALL ISLANDS",
          "MARTINIQUE",
          "MAURITANIA",
          "MAURITIUS",
          "MAYOTTE",
          "MEXICO",
          "MONACO",
          "MONGOLIA",
          "MOROCCO",
          "MOZAMBIQUE",
          "NAMIBIA",
          "NAURU",
          "NEPAL",
          "NETHERLANDS",
          "NEW CALEDONIA",
          "NEW ZEALAND",
          "NICARAGUA",
          "NIGER",
          "NIGERIA",
          "NORWAY",
          "OMAN",
          "PAKISTAN",
          "PALAU",
          "PANAMA",
          "PAPUA NEW GUINEA",
          "PARAGUAY",
          "PERU",
          "PHILIPPINES",
          "POLAND",
          "PORTUGAL",
          "PUERTO RICO",
          "QATAR",
          "REUNION",
          "ROMANIA",
          "RWANDA",
          "SAINT LUCIA",
          "SAN MARINO",
          "SAUDI ARABIA",
          "SENEGAL",
          "SERBIA",
          "SEYCHELLES",
          "SIERRA LEONE",
          "SINGAPORE",
          "SLOVAKIA",
          "SLOVENIA",
          "SOLOMON ISLANDS",
          "SOMALIA",
          "SOUTH AFRICA",
          "SPAIN",
          "SRI LANKA",
          "SUDAN",
          "SURINAME",
          "SWAZILAND",
          "SWEDEN",
          "SWITZERLAND",
          "TAJIKISTAN",
          "THAILAND",
          "TOGO",
          "TONGA",
          "TUNISIA",
          "TURKEY",
          "TURKMENISTAN",
          "TUVALU",
          "UGANDA",
          "UKRAINE",
          "UNITED ARAB EMIRATES",
          "UNITED KINGDOM",
          "UNITED STATES",
          "URUGUAY",
          "UZBEKISTAN",
          "VANUATU",
          "VIET NAM",
          "YEMEN",
          "ZAMBIA",
          "ZIMBABWE"
         ],
         "marker": {
          "coloraxis": "coloraxis",
          "colors": [
           10.776333000000001,
           26.495999,
           2732.3596559999996,
           5.614514,
           3.856605,
           904.1393129999999,
           0.23157100000000003,
           31393.865520999992,
           2.3471940000000004,
           469.7341640000001,
           134928.5646650001,
           15500.146632000004,
           19.757670000000005,
           3981.6279520000007,
           4987.016161,
           80.083495,
           1532.9856740000002,
           19666.982681999998,
           9.758631000000003,
           74.027475,
           2.6602380000000005,
           2.997089000000001,
           0.7703909999999999,
           51362.473028999986,
           973.6464009999997,
           193.20358100000004,
           3.380643,
           4491.710684999998,
           2112.693466999999,
           21307.232167000013,
           1.8193810000000001,
           1.352269,
           0.762193,
           5352.982835999999,
           1008973.5574330001,
           2818.3343840000025,
           1.348353,
           0.11754200000000001,
           17281.450790000014,
           11482.683850000001,
           215.77302499999996,
           165.63309299999995,
           1432.233216000001,
           5817.068305999996,
           6400.138625999997,
           13.613605,
           0.9458939999999999,
           112.06053700000001,
           2369.7823519999993,
           4206.204402999999,
           85.70273399999999,
           247.543123,
           0.248811,
           353.76145000000025,
           75.748472,
           0.470619,
           79.72967299999999,
           5608.594206000003,
           84222.51153399996,
           0.35412400000000005,
           1.670511,
           4013.638874,
           371.6544820000001,
           172655.33326100005,
           6004.028615999997,
           0.710059,
           706.3503130000001,
           5.396272,
           39.046655,
           1.501561,
           2.045193,
           888.4353789999998,
           149.73741699999997,
           0.8989689999999999,
           32.713983999999996,
           11.238676000000002,
           36.705196999999984,
           88669.66441200003,
           4029.4493710000015,
           40.74392000000001,
           139162.83088999995,
           233425.895374,
           6593.5939690000005,
           18064.500062,
           43609.81752100001,
           51.392725999999975,
           412700.23306200013,
           1974.0271359999995,
           175.881095,
           350.17079900000004,
           39.27146200000001,
           15717.296577000001,
           2.4779039999999997,
           760.7777569999996,
           211.80038000000005,
           1.7540539999999998,
           364.099013,
           4426.737666999999,
           11.639453999999999,
           1669.9649649999997,
           614.2221170000003,
           288.90032899999983,
           72.37452000000002,
           1480.8206590000007,
           18.35030199999999,
           46.80140499999999,
           1735.4117960000003,
           217.01859399999998,
           0.5198690000000001,
           12.392573000000002,
           87.93023700000003,
           0.127141,
           10094.77744,
           1.3078009999999998,
           10.569351000000001,
           608.2740179999995,
           401.89654899999994,
           230.9469770000001,
           0.589069,
           16.379577000000005,
           50074.19940099999,
           4.849800999999999,
           21443.082143000003,
           110.52394000000001,
           1.90301,
           5517.357539000001,
           9694.967739,
           9130.566457999996,
           5579.291098000004,
           0.023982999999999997,
           1388.0513199999998,
           3999.9050480000005,
           644.8289179999999,
           2216.547223999999,
           50234.401597999975,
           5757.647667000001,
           1726.6155539999988,
           235.74114499999993,
           16700.376181000003,
           19.65436800000001,
           989.18161,
           720.9524919999998,
           0.192125,
           0.028047000000000002,
           81046.66392400004,
           75.97196299999997,
           76.88302399999999,
           92.397133,
           6.941035999999998,
           606026.1248479997,
           770.4056640000005,
           815.0778720000002,
           312.7742930000001,
           5.684306000000001,
           18047.848300999976,
           16504.70428899999,
           1889.8801689999987,
           54.19916000000001,
           24.313780000000005,
           33.03155400000001,
           13747.404772000002,
           57705.781418999955,
           3.1760759999999997,
           303274.27952300006,
           117.42820499999998,
           0.019918,
           620.4049369999999,
           9547.16240099999,
           29.148996999999998,
           0.017196,
           628.679824,
           3840.769200999999,
           92811.57970600003,
           49163.930399000004,
           412958.68946300016,
           403.42591999999985,
           135.91336200000003,
           128.404126,
           133618.21041000003,
           2450.1654410000006,
           1027.8419729999998,
           142.7773400000001
          ]
         },
         "name": "",
         "parents": [
          "",
          "",
          "",
          "",
          "",
          "",
          "",
          "",
          "",
          "",
          "",
          "",
          "",
          "",
          "",
          "",
          "",
          "",
          "",
          "",
          "",
          "",
          "",
          "",
          "",
          "",
          "",
          "",
          "",
          "",
          "",
          "",
          "",
          "",
          "",
          "",
          "",
          "",
          "",
          "",
          "",
          "",
          "",
          "",
          "",
          "",
          "",
          "",
          "",
          "",
          "",
          "",
          "",
          "",
          "",
          "",
          "",
          "",
          "",
          "",
          "",
          "",
          "",
          "",
          "",
          "",
          "",
          "",
          "",
          "",
          "",
          "",
          "",
          "",
          "",
          "",
          "",
          "",
          "",
          "",
          "",
          "",
          "",
          "",
          "",
          "",
          "",
          "",
          "",
          "",
          "",
          "",
          "",
          "",
          "",
          "",
          "",
          "",
          "",
          "",
          "",
          "",
          "",
          "",
          "",
          "",
          "",
          "",
          "",
          "",
          "",
          "",
          "",
          "",
          "",
          "",
          "",
          "",
          "",
          "",
          "",
          "",
          "",
          "",
          "",
          "",
          "",
          "",
          "",
          "",
          "",
          "",
          "",
          "",
          "",
          "",
          "",
          "",
          "",
          "",
          "",
          "",
          "",
          "",
          "",
          "",
          "",
          "",
          "",
          "",
          "",
          "",
          "",
          "",
          "",
          "",
          "",
          "",
          "",
          "",
          "",
          "",
          "",
          "",
          "",
          "",
          "",
          "",
          "",
          "",
          "",
          "",
          "",
          "",
          "",
          "",
          "",
          "",
          "",
          "",
          "",
          ""
         ],
         "type": "treemap",
         "values": [
          10.776333000000001,
          26.495998999999998,
          2732.3596559999996,
          5.614514,
          3.856605,
          904.1393129999999,
          0.23157100000000003,
          31393.865520999992,
          2.3471940000000004,
          469.7341640000001,
          134928.5646650001,
          15500.146632000004,
          19.757670000000005,
          3981.6279520000007,
          4987.016161,
          80.083495,
          1532.9856740000002,
          19666.982681999998,
          9.758631000000003,
          74.027475,
          2.6602380000000005,
          2.997089000000001,
          0.7703909999999999,
          51362.473028999986,
          973.6464009999997,
          193.20358100000004,
          3.380643,
          4491.710684999998,
          2112.693466999999,
          21307.232167000013,
          1.8193810000000001,
          1.352269,
          0.762193,
          5352.982835999999,
          1008973.5574330001,
          2818.3343840000025,
          1.348353,
          0.11754200000000001,
          17281.450790000014,
          11482.683850000001,
          215.77302499999996,
          165.63309299999995,
          1432.233216000001,
          5817.068305999996,
          6400.138625999998,
          13.613605,
          0.9458939999999999,
          112.06053700000001,
          2369.7823519999993,
          4206.204402999999,
          85.70273399999999,
          247.543123,
          0.248811,
          353.76145000000025,
          75.748472,
          0.470619,
          79.72967299999999,
          5608.594206000003,
          84222.51153399996,
          0.35412400000000005,
          1.670511,
          4013.638874,
          371.6544820000001,
          172655.33326100005,
          6004.028615999997,
          0.710059,
          706.3503130000001,
          5.396272,
          39.046655,
          1.501561,
          2.045193,
          888.4353789999998,
          149.73741699999997,
          0.8989689999999999,
          32.713983999999996,
          11.238676000000002,
          36.705196999999984,
          88669.66441200003,
          4029.4493710000015,
          40.74392000000001,
          139162.83088999995,
          233425.895374,
          6593.593969000001,
          18064.500062,
          43609.81752100001,
          51.39272599999998,
          412700.23306200013,
          1974.0271359999995,
          175.881095,
          350.17079900000004,
          39.27146200000001,
          15717.296577000001,
          2.4779039999999997,
          760.7777569999996,
          211.80038000000005,
          1.7540539999999998,
          364.099013,
          4426.737666999999,
          11.639453999999999,
          1669.9649649999997,
          614.2221170000003,
          288.90032899999983,
          72.37452000000002,
          1480.8206590000007,
          18.35030199999999,
          46.80140499999999,
          1735.4117960000003,
          217.01859399999998,
          0.5198690000000001,
          12.392573000000002,
          87.93023700000003,
          0.127141,
          10094.77744,
          1.3078009999999998,
          10.569351000000001,
          608.2740179999995,
          401.89654899999994,
          230.9469770000001,
          0.589069,
          16.379577000000005,
          50074.19940099999,
          4.849800999999999,
          21443.082143000003,
          110.52394000000001,
          1.90301,
          5517.357539000001,
          9694.967739,
          9130.566457999996,
          5579.291098000004,
          0.023983,
          1388.0513199999998,
          3999.905048,
          644.8289179999999,
          2216.547223999999,
          50234.401597999975,
          5757.647667000001,
          1726.6155539999988,
          235.74114499999993,
          16700.376181000003,
          19.65436800000001,
          989.18161,
          720.9524919999998,
          0.192125,
          0.028047000000000002,
          81046.66392400004,
          75.97196299999997,
          76.88302399999999,
          92.397133,
          6.941035999999998,
          606026.1248479997,
          770.4056640000005,
          815.0778720000002,
          312.7742930000001,
          5.684306,
          18047.848300999976,
          16504.70428899999,
          1889.8801689999987,
          54.19916000000001,
          24.313780000000005,
          33.03155400000001,
          13747.404772,
          57705.781418999955,
          3.1760759999999997,
          303274.27952300006,
          117.42820499999998,
          0.019918,
          620.4049369999999,
          9547.16240099999,
          29.148996999999998,
          0.017196,
          628.679824,
          3840.769200999999,
          92811.57970600003,
          49163.930399000004,
          412958.68946300016,
          403.42591999999985,
          135.91336200000003,
          128.404126,
          133618.21041000003,
          2450.1654410000006,
          1027.8419729999998,
          142.7773400000001
         ]
        }
       ],
       "layout": {
        "coloraxis": {
         "colorbar": {
          "title": {
           "text": "IMPORT (MILLION RM)"
          }
         },
         "colorscale": [
          [
           0,
           "rgb(103,0,31)"
          ],
          [
           0.1,
           "rgb(178,24,43)"
          ],
          [
           0.2,
           "rgb(214,96,77)"
          ],
          [
           0.3,
           "rgb(244,165,130)"
          ],
          [
           0.4,
           "rgb(253,219,199)"
          ],
          [
           0.5,
           "rgb(247,247,247)"
          ],
          [
           0.6,
           "rgb(209,229,240)"
          ],
          [
           0.7,
           "rgb(146,197,222)"
          ],
          [
           0.8,
           "rgb(67,147,195)"
          ],
          [
           0.9,
           "rgb(33,102,172)"
          ],
          [
           1,
           "rgb(5,48,97)"
          ]
         ]
        },
        "legend": {
         "tracegroupgap": 0
        },
        "margin": {
         "t": 60
        },
        "template": {
         "data": {
          "bar": [
           {
            "error_x": {
             "color": "#2a3f5f"
            },
            "error_y": {
             "color": "#2a3f5f"
            },
            "marker": {
             "line": {
              "color": "#E5ECF6",
              "width": 0.5
             }
            },
            "type": "bar"
           }
          ],
          "barpolar": [
           {
            "marker": {
             "line": {
              "color": "#E5ECF6",
              "width": 0.5
             }
            },
            "type": "barpolar"
           }
          ],
          "carpet": [
           {
            "aaxis": {
             "endlinecolor": "#2a3f5f",
             "gridcolor": "white",
             "linecolor": "white",
             "minorgridcolor": "white",
             "startlinecolor": "#2a3f5f"
            },
            "baxis": {
             "endlinecolor": "#2a3f5f",
             "gridcolor": "white",
             "linecolor": "white",
             "minorgridcolor": "white",
             "startlinecolor": "#2a3f5f"
            },
            "type": "carpet"
           }
          ],
          "choropleth": [
           {
            "colorbar": {
             "outlinewidth": 0,
             "ticks": ""
            },
            "type": "choropleth"
           }
          ],
          "contour": [
           {
            "colorbar": {
             "outlinewidth": 0,
             "ticks": ""
            },
            "colorscale": [
             [
              0,
              "#0d0887"
             ],
             [
              0.1111111111111111,
              "#46039f"
             ],
             [
              0.2222222222222222,
              "#7201a8"
             ],
             [
              0.3333333333333333,
              "#9c179e"
             ],
             [
              0.4444444444444444,
              "#bd3786"
             ],
             [
              0.5555555555555556,
              "#d8576b"
             ],
             [
              0.6666666666666666,
              "#ed7953"
             ],
             [
              0.7777777777777778,
              "#fb9f3a"
             ],
             [
              0.8888888888888888,
              "#fdca26"
             ],
             [
              1,
              "#f0f921"
             ]
            ],
            "type": "contour"
           }
          ],
          "contourcarpet": [
           {
            "colorbar": {
             "outlinewidth": 0,
             "ticks": ""
            },
            "type": "contourcarpet"
           }
          ],
          "heatmap": [
           {
            "colorbar": {
             "outlinewidth": 0,
             "ticks": ""
            },
            "colorscale": [
             [
              0,
              "#0d0887"
             ],
             [
              0.1111111111111111,
              "#46039f"
             ],
             [
              0.2222222222222222,
              "#7201a8"
             ],
             [
              0.3333333333333333,
              "#9c179e"
             ],
             [
              0.4444444444444444,
              "#bd3786"
             ],
             [
              0.5555555555555556,
              "#d8576b"
             ],
             [
              0.6666666666666666,
              "#ed7953"
             ],
             [
              0.7777777777777778,
              "#fb9f3a"
             ],
             [
              0.8888888888888888,
              "#fdca26"
             ],
             [
              1,
              "#f0f921"
             ]
            ],
            "type": "heatmap"
           }
          ],
          "heatmapgl": [
           {
            "colorbar": {
             "outlinewidth": 0,
             "ticks": ""
            },
            "colorscale": [
             [
              0,
              "#0d0887"
             ],
             [
              0.1111111111111111,
              "#46039f"
             ],
             [
              0.2222222222222222,
              "#7201a8"
             ],
             [
              0.3333333333333333,
              "#9c179e"
             ],
             [
              0.4444444444444444,
              "#bd3786"
             ],
             [
              0.5555555555555556,
              "#d8576b"
             ],
             [
              0.6666666666666666,
              "#ed7953"
             ],
             [
              0.7777777777777778,
              "#fb9f3a"
             ],
             [
              0.8888888888888888,
              "#fdca26"
             ],
             [
              1,
              "#f0f921"
             ]
            ],
            "type": "heatmapgl"
           }
          ],
          "histogram": [
           {
            "marker": {
             "colorbar": {
              "outlinewidth": 0,
              "ticks": ""
             }
            },
            "type": "histogram"
           }
          ],
          "histogram2d": [
           {
            "colorbar": {
             "outlinewidth": 0,
             "ticks": ""
            },
            "colorscale": [
             [
              0,
              "#0d0887"
             ],
             [
              0.1111111111111111,
              "#46039f"
             ],
             [
              0.2222222222222222,
              "#7201a8"
             ],
             [
              0.3333333333333333,
              "#9c179e"
             ],
             [
              0.4444444444444444,
              "#bd3786"
             ],
             [
              0.5555555555555556,
              "#d8576b"
             ],
             [
              0.6666666666666666,
              "#ed7953"
             ],
             [
              0.7777777777777778,
              "#fb9f3a"
             ],
             [
              0.8888888888888888,
              "#fdca26"
             ],
             [
              1,
              "#f0f921"
             ]
            ],
            "type": "histogram2d"
           }
          ],
          "histogram2dcontour": [
           {
            "colorbar": {
             "outlinewidth": 0,
             "ticks": ""
            },
            "colorscale": [
             [
              0,
              "#0d0887"
             ],
             [
              0.1111111111111111,
              "#46039f"
             ],
             [
              0.2222222222222222,
              "#7201a8"
             ],
             [
              0.3333333333333333,
              "#9c179e"
             ],
             [
              0.4444444444444444,
              "#bd3786"
             ],
             [
              0.5555555555555556,
              "#d8576b"
             ],
             [
              0.6666666666666666,
              "#ed7953"
             ],
             [
              0.7777777777777778,
              "#fb9f3a"
             ],
             [
              0.8888888888888888,
              "#fdca26"
             ],
             [
              1,
              "#f0f921"
             ]
            ],
            "type": "histogram2dcontour"
           }
          ],
          "mesh3d": [
           {
            "colorbar": {
             "outlinewidth": 0,
             "ticks": ""
            },
            "type": "mesh3d"
           }
          ],
          "parcoords": [
           {
            "line": {
             "colorbar": {
              "outlinewidth": 0,
              "ticks": ""
             }
            },
            "type": "parcoords"
           }
          ],
          "pie": [
           {
            "automargin": true,
            "type": "pie"
           }
          ],
          "scatter": [
           {
            "marker": {
             "colorbar": {
              "outlinewidth": 0,
              "ticks": ""
             }
            },
            "type": "scatter"
           }
          ],
          "scatter3d": [
           {
            "line": {
             "colorbar": {
              "outlinewidth": 0,
              "ticks": ""
             }
            },
            "marker": {
             "colorbar": {
              "outlinewidth": 0,
              "ticks": ""
             }
            },
            "type": "scatter3d"
           }
          ],
          "scattercarpet": [
           {
            "marker": {
             "colorbar": {
              "outlinewidth": 0,
              "ticks": ""
             }
            },
            "type": "scattercarpet"
           }
          ],
          "scattergeo": [
           {
            "marker": {
             "colorbar": {
              "outlinewidth": 0,
              "ticks": ""
             }
            },
            "type": "scattergeo"
           }
          ],
          "scattergl": [
           {
            "marker": {
             "colorbar": {
              "outlinewidth": 0,
              "ticks": ""
             }
            },
            "type": "scattergl"
           }
          ],
          "scattermapbox": [
           {
            "marker": {
             "colorbar": {
              "outlinewidth": 0,
              "ticks": ""
             }
            },
            "type": "scattermapbox"
           }
          ],
          "scatterpolar": [
           {
            "marker": {
             "colorbar": {
              "outlinewidth": 0,
              "ticks": ""
             }
            },
            "type": "scatterpolar"
           }
          ],
          "scatterpolargl": [
           {
            "marker": {
             "colorbar": {
              "outlinewidth": 0,
              "ticks": ""
             }
            },
            "type": "scatterpolargl"
           }
          ],
          "scatterternary": [
           {
            "marker": {
             "colorbar": {
              "outlinewidth": 0,
              "ticks": ""
             }
            },
            "type": "scatterternary"
           }
          ],
          "surface": [
           {
            "colorbar": {
             "outlinewidth": 0,
             "ticks": ""
            },
            "colorscale": [
             [
              0,
              "#0d0887"
             ],
             [
              0.1111111111111111,
              "#46039f"
             ],
             [
              0.2222222222222222,
              "#7201a8"
             ],
             [
              0.3333333333333333,
              "#9c179e"
             ],
             [
              0.4444444444444444,
              "#bd3786"
             ],
             [
              0.5555555555555556,
              "#d8576b"
             ],
             [
              0.6666666666666666,
              "#ed7953"
             ],
             [
              0.7777777777777778,
              "#fb9f3a"
             ],
             [
              0.8888888888888888,
              "#fdca26"
             ],
             [
              1,
              "#f0f921"
             ]
            ],
            "type": "surface"
           }
          ],
          "table": [
           {
            "cells": {
             "fill": {
              "color": "#EBF0F8"
             },
             "line": {
              "color": "white"
             }
            },
            "header": {
             "fill": {
              "color": "#C8D4E3"
             },
             "line": {
              "color": "white"
             }
            },
            "type": "table"
           }
          ]
         },
         "layout": {
          "annotationdefaults": {
           "arrowcolor": "#2a3f5f",
           "arrowhead": 0,
           "arrowwidth": 1
          },
          "coloraxis": {
           "colorbar": {
            "outlinewidth": 0,
            "ticks": ""
           }
          },
          "colorscale": {
           "diverging": [
            [
             0,
             "#8e0152"
            ],
            [
             0.1,
             "#c51b7d"
            ],
            [
             0.2,
             "#de77ae"
            ],
            [
             0.3,
             "#f1b6da"
            ],
            [
             0.4,
             "#fde0ef"
            ],
            [
             0.5,
             "#f7f7f7"
            ],
            [
             0.6,
             "#e6f5d0"
            ],
            [
             0.7,
             "#b8e186"
            ],
            [
             0.8,
             "#7fbc41"
            ],
            [
             0.9,
             "#4d9221"
            ],
            [
             1,
             "#276419"
            ]
           ],
           "sequential": [
            [
             0,
             "#0d0887"
            ],
            [
             0.1111111111111111,
             "#46039f"
            ],
            [
             0.2222222222222222,
             "#7201a8"
            ],
            [
             0.3333333333333333,
             "#9c179e"
            ],
            [
             0.4444444444444444,
             "#bd3786"
            ],
            [
             0.5555555555555556,
             "#d8576b"
            ],
            [
             0.6666666666666666,
             "#ed7953"
            ],
            [
             0.7777777777777778,
             "#fb9f3a"
            ],
            [
             0.8888888888888888,
             "#fdca26"
            ],
            [
             1,
             "#f0f921"
            ]
           ],
           "sequentialminus": [
            [
             0,
             "#0d0887"
            ],
            [
             0.1111111111111111,
             "#46039f"
            ],
            [
             0.2222222222222222,
             "#7201a8"
            ],
            [
             0.3333333333333333,
             "#9c179e"
            ],
            [
             0.4444444444444444,
             "#bd3786"
            ],
            [
             0.5555555555555556,
             "#d8576b"
            ],
            [
             0.6666666666666666,
             "#ed7953"
            ],
            [
             0.7777777777777778,
             "#fb9f3a"
            ],
            [
             0.8888888888888888,
             "#fdca26"
            ],
            [
             1,
             "#f0f921"
            ]
           ]
          },
          "colorway": [
           "#636efa",
           "#EF553B",
           "#00cc96",
           "#ab63fa",
           "#FFA15A",
           "#19d3f3",
           "#FF6692",
           "#B6E880",
           "#FF97FF",
           "#FECB52"
          ],
          "font": {
           "color": "#2a3f5f"
          },
          "geo": {
           "bgcolor": "white",
           "lakecolor": "white",
           "landcolor": "#E5ECF6",
           "showlakes": true,
           "showland": true,
           "subunitcolor": "white"
          },
          "hoverlabel": {
           "align": "left"
          },
          "hovermode": "closest",
          "mapbox": {
           "style": "light"
          },
          "paper_bgcolor": "white",
          "plot_bgcolor": "#E5ECF6",
          "polar": {
           "angularaxis": {
            "gridcolor": "white",
            "linecolor": "white",
            "ticks": ""
           },
           "bgcolor": "#E5ECF6",
           "radialaxis": {
            "gridcolor": "white",
            "linecolor": "white",
            "ticks": ""
           }
          },
          "scene": {
           "xaxis": {
            "backgroundcolor": "#E5ECF6",
            "gridcolor": "white",
            "gridwidth": 2,
            "linecolor": "white",
            "showbackground": true,
            "ticks": "",
            "zerolinecolor": "white"
           },
           "yaxis": {
            "backgroundcolor": "#E5ECF6",
            "gridcolor": "white",
            "gridwidth": 2,
            "linecolor": "white",
            "showbackground": true,
            "ticks": "",
            "zerolinecolor": "white"
           },
           "zaxis": {
            "backgroundcolor": "#E5ECF6",
            "gridcolor": "white",
            "gridwidth": 2,
            "linecolor": "white",
            "showbackground": true,
            "ticks": "",
            "zerolinecolor": "white"
           }
          },
          "shapedefaults": {
           "line": {
            "color": "#2a3f5f"
           }
          },
          "ternary": {
           "aaxis": {
            "gridcolor": "white",
            "linecolor": "white",
            "ticks": ""
           },
           "baxis": {
            "gridcolor": "white",
            "linecolor": "white",
            "ticks": ""
           },
           "bgcolor": "#E5ECF6",
           "caxis": {
            "gridcolor": "white",
            "linecolor": "white",
            "ticks": ""
           }
          },
          "title": {
           "x": 0.05
          },
          "xaxis": {
           "automargin": true,
           "gridcolor": "white",
           "linecolor": "white",
           "ticks": "",
           "title": {
            "standoff": 15
           },
           "zerolinecolor": "white",
           "zerolinewidth": 2
          },
          "yaxis": {
           "automargin": true,
           "gridcolor": "white",
           "linecolor": "white",
           "ticks": "",
           "title": {
            "standoff": 15
           },
           "zerolinecolor": "white",
           "zerolinewidth": 2
          }
         }
        }
       }
      },
      "text/html": [
       "<div>                            <div id=\"71ddaeb4-2a74-45ea-92ae-f339f1d6ced9\" class=\"plotly-graph-div\" style=\"height:525px; width:100%;\"></div>            <script type=\"text/javascript\">                require([\"plotly\"], function(Plotly) {                    window.PLOTLYENV=window.PLOTLYENV || {};                                    if (document.getElementById(\"71ddaeb4-2a74-45ea-92ae-f339f1d6ced9\")) {                    Plotly.newPlot(                        \"71ddaeb4-2a74-45ea-92ae-f339f1d6ced9\",                        [{\"branchvalues\": \"total\", \"customdata\": [[10.776333000000001, 10.776333000000001], [26.495999, 26.495999], [2732.3596559999996, 2732.3596559999996], [5.614514, 5.614514], [3.856605, 3.856605], [904.1393129999999, 904.1393129999999], [0.23157100000000003, 0.23157100000000003], [31393.865520999992, 31393.865520999992], [2.3471940000000004, 2.3471940000000004], [469.7341640000001, 469.7341640000001], [134928.5646650001, 134928.5646650001], [15500.146632000004, 15500.146632000004], [19.757670000000005, 19.757670000000005], [3981.6279520000007, 3981.6279520000007], [4987.016161, 4987.016161], [80.083495, 80.083495], [1532.9856740000002, 1532.9856740000002], [19666.982681999998, 19666.982681999998], [9.758631000000003, 9.758631000000003], [74.027475, 74.027475], [2.6602380000000005, 2.6602380000000005], [2.997089000000001, 2.997089000000001], [0.7703909999999999, 0.7703909999999999], [51362.473028999986, 51362.473028999986], [973.6464009999997, 973.6464009999997], [193.20358100000004, 193.20358100000004], [3.380643, 3.380643], [4491.710684999998, 4491.710684999998], [2112.693466999999, 2112.693466999999], [21307.232167000013, 21307.232167000013], [1.8193810000000001, 1.8193810000000001], [1.352269, 1.352269], [0.762193, 0.762193], [5352.982835999999, 5352.982835999999], [1008973.5574330001, 1008973.5574330001], [2818.3343840000025, 2818.3343840000025], [1.348353, 1.348353], [0.11754200000000001, 0.11754200000000001], [17281.450790000014, 17281.450790000014], [11482.683850000001, 11482.683850000001], [215.77302499999996, 215.77302499999996], [165.63309299999995, 165.63309299999995], [1432.233216000001, 1432.233216000001], [5817.068305999996, 5817.068305999996], [6400.138625999997, 6400.138625999997], [13.613605, 13.613605], [0.9458939999999999, 0.9458939999999999], [112.06053700000001, 112.06053700000001], [2369.7823519999993, 2369.7823519999993], [4206.204402999999, 4206.204402999999], [85.70273399999999, 85.70273399999999], [247.543123, 247.543123], [0.248811, 0.248811], [353.76145000000025, 353.76145000000025], [75.748472, 75.748472], [0.470619, 0.470619], [79.72967299999999, 79.72967299999999], [5608.594206000003, 5608.594206000003], [84222.51153399996, 84222.51153399996], [0.35412400000000005, 0.35412400000000005], [1.670511, 1.670511], [4013.638874, 4013.638874], [371.6544820000001, 371.6544820000001], [172655.33326100005, 172655.33326100005], [6004.028615999997, 6004.028615999997], [0.710059, 0.710059], [706.3503130000001, 706.3503130000001], [5.396272, 5.396272], [39.046655, 39.046655], [1.501561, 1.501561], [2.045193, 2.045193], [888.4353789999998, 888.4353789999998], [149.73741699999997, 149.73741699999997], [0.8989689999999999, 0.8989689999999999], [32.713983999999996, 32.713983999999996], [11.238676000000002, 11.238676000000002], [36.705196999999984, 36.705196999999984], [88669.66441200003, 88669.66441200003], [4029.4493710000015, 4029.4493710000015], [40.74392000000001, 40.74392000000001], [139162.83088999995, 139162.83088999995], [233425.895374, 233425.895374], [6593.5939690000005, 6593.5939690000005], [18064.500062, 18064.500062], [43609.81752100001, 43609.81752100001], [51.392725999999975, 51.392725999999975], [412700.23306200013, 412700.23306200013], [1974.0271359999995, 1974.0271359999995], [175.881095, 175.881095], [350.17079900000004, 350.17079900000004], [39.27146200000001, 39.27146200000001], [15717.296577000001, 15717.296577000001], [2.4779039999999997, 2.4779039999999997], [760.7777569999996, 760.7777569999996], [211.80038000000005, 211.80038000000005], [1.7540539999999998, 1.7540539999999998], [364.099013, 364.099013], [4426.737666999999, 4426.737666999999], [11.639453999999999, 11.639453999999999], [1669.9649649999997, 1669.9649649999997], [614.2221170000003, 614.2221170000003], [288.90032899999983, 288.90032899999983], [72.37452000000002, 72.37452000000002], [1480.8206590000007, 1480.8206590000007], [18.35030199999999, 18.35030199999999], [46.80140499999999, 46.80140499999999], [1735.4117960000003, 1735.4117960000003], [217.01859399999998, 217.01859399999998], [0.5198690000000001, 0.5198690000000001], [12.392573000000002, 12.392573000000002], [87.93023700000003, 87.93023700000003], [0.127141, 0.127141], [10094.77744, 10094.77744], [1.3078009999999998, 1.3078009999999998], [10.569351000000001, 10.569351000000001], [608.2740179999995, 608.2740179999995], [401.89654899999994, 401.89654899999994], [230.9469770000001, 230.9469770000001], [0.589069, 0.589069], [16.379577000000005, 16.379577000000005], [50074.19940099999, 50074.19940099999], [4.849800999999999, 4.849800999999999], [21443.082143000003, 21443.082143000003], [110.52394000000001, 110.52394000000001], [1.90301, 1.90301], [5517.357539000001, 5517.357539000001], [9694.967739, 9694.967739], [9130.566457999996, 9130.566457999996], [5579.291098000004, 5579.291098000004], [0.023982999999999997, 0.023982999999999997], [1388.0513199999998, 1388.0513199999998], [3999.9050480000005, 3999.9050480000005], [644.8289179999999, 644.8289179999999], [2216.547223999999, 2216.547223999999], [50234.401597999975, 50234.401597999975], [5757.647667000001, 5757.647667000001], [1726.6155539999988, 1726.6155539999988], [235.74114499999993, 235.74114499999993], [16700.376181000003, 16700.376181000003], [19.65436800000001, 19.65436800000001], [989.18161, 989.18161], [720.9524919999998, 720.9524919999998], [0.192125, 0.192125], [0.028047000000000002, 0.028047000000000002], [81046.66392400004, 81046.66392400004], [75.97196299999997, 75.97196299999997], [76.88302399999999, 76.88302399999999], [92.397133, 92.397133], [6.941035999999998, 6.941035999999998], [606026.1248479997, 606026.1248479997], [770.4056640000005, 770.4056640000005], [815.0778720000002, 815.0778720000002], [312.7742930000001, 312.7742930000001], [5.684306000000001, 5.684306000000001], [18047.848300999976, 18047.848300999976], [16504.70428899999, 16504.70428899999], [1889.8801689999987, 1889.8801689999987], [54.19916000000001, 54.19916000000001], [24.313780000000005, 24.313780000000005], [33.03155400000001, 33.03155400000001], [13747.404772000002, 13747.404772000002], [57705.781418999955, 57705.781418999955], [3.1760759999999997, 3.1760759999999997], [303274.27952300006, 303274.27952300006], [117.42820499999998, 117.42820499999998], [0.019918, 0.019918], [620.4049369999999, 620.4049369999999], [9547.16240099999, 9547.16240099999], [29.148996999999998, 29.148996999999998], [0.017196, 0.017196], [628.679824, 628.679824], [3840.769200999999, 3840.769200999999], [92811.57970600003, 92811.57970600003], [49163.930399000004, 49163.930399000004], [412958.68946300016, 412958.68946300016], [403.42591999999985, 403.42591999999985], [135.91336200000003, 135.91336200000003], [128.404126, 128.404126], [133618.21041000003, 133618.21041000003], [2450.1654410000006, 2450.1654410000006], [1027.8419729999998, 1027.8419729999998], [142.7773400000001, 142.7773400000001]], \"domain\": {\"x\": [0.0, 1.0], \"y\": [0.0, 1.0]}, \"hovertemplate\": \"labels=%{label}<br>IMPORT (MILLION RM)_sum=%{value}<br>parent=%{parent}<br>id=%{id}<br>IMPORT (MILLION RM)=%{color}<extra></extra>\", \"ids\": [\"AFGHANISTAN\", \"ALBANIA\", \"ALGERIA\", \"AMERICAN SAMOA\", \"ANDORRA\", \"ANGOLA\", \"ANGUILLA\", \"ARGENTINA\", \"ARMENIA\", \"ARUBA\", \"AUSTRALIA\", \"AUSTRIA\", \"AZERBAIJAN\", \"BAHRAIN\", \"BANGLADESH\", \"BARBADOS\", \"BELARUS\", \"BELGIUM\", \"BELIZE\", \"BENIN\", \"BERMUDA\", \"BHUTAN\", \"BOTSWANA\", \"BRAZIL\", \"BULGARIA\", \"BURKINA FASO\", \"BURUNDI\", \"CAMBODIA\", \"CAMEROON\", \"CANADA\", \"CAPE VERDE\", \"CAYMAN ISLANDS\", \"CHAD\", \"CHILE\", \"CHINA\", \"COLOMBIA\", \"COMOROS\", \"COOK ISLANDS\", \"COSTA RICA\", \"COTE D'IVOIRE\", \"CROATIA\", \"CUBA\", \"CYPRUS\", \"CZECH REPUBLIC\", \"DENMARK\", \"DJIBOUTI\", \"DOMINICA\", \"DOMINICAN REPUBLIC\", \"ECUADOR\", \"EGYPT\", \"EL SALVADOR\", \"EQUATORIAL GUINEA\", \"ERITREA\", \"ESTONIA\", \"ETHIOPIA\", \"FAROE ISLANDS\", \"FIJI\", \"FINLAND\", \"FRANCE\", \"FRENCH GUIANA\", \"FRENCH POLYNESIA\", \"GABON\", \"GEORGIA\", \"GERMANY\", \"GHANA\", \"GIBRALTAR\", \"GREECE\", \"GREENLAND\", \"GRENADA\", \"GUADELOUPE\", \"GUAM\", \"GUATEMALA\", \"GUINEA\", \"GUINEA-BISSAU\", \"GUYANA\", \"HAITI\", \"HONDURAS\", \"HONG KONG\", \"HUNGARY\", \"ICELAND\", \"INDIA\", \"INDONESIA\", \"IRAQ\", \"IRELAND\", \"ITALY\", \"JAMAICA\", \"JAPAN\", \"JORDAN\", \"KAZAKHSTAN\", \"KENYA\", \"KIRIBATI\", \"KUWAIT\", \"KYRGYZSTAN\", \"LATVIA\", \"LEBANON\", \"LESOTHO\", \"LIBERIA\", \"LIBYA\", \"LIECHTENSTEIN\", \"LITHUANIA\", \"LUXEMBOURG\", \"MADAGASCAR\", \"MALAWI\", \"MALAYSIA\", \"MALDIVES\", \"MALI\", \"MALTA\", \"MARSHALL ISLANDS\", \"MARTINIQUE\", \"MAURITANIA\", \"MAURITIUS\", \"MAYOTTE\", \"MEXICO\", \"MONACO\", \"MONGOLIA\", \"MOROCCO\", \"MOZAMBIQUE\", \"NAMIBIA\", \"NAURU\", \"NEPAL\", \"NETHERLANDS\", \"NEW CALEDONIA\", \"NEW ZEALAND\", \"NICARAGUA\", \"NIGER\", \"NIGERIA\", \"NORWAY\", \"OMAN\", \"PAKISTAN\", \"PALAU\", \"PANAMA\", \"PAPUA NEW GUINEA\", \"PARAGUAY\", \"PERU\", \"PHILIPPINES\", \"POLAND\", \"PORTUGAL\", \"PUERTO RICO\", \"QATAR\", \"REUNION\", \"ROMANIA\", \"RWANDA\", \"SAINT LUCIA\", \"SAN MARINO\", \"SAUDI ARABIA\", \"SENEGAL\", \"SERBIA\", \"SEYCHELLES\", \"SIERRA LEONE\", \"SINGAPORE\", \"SLOVAKIA\", \"SLOVENIA\", \"SOLOMON ISLANDS\", \"SOMALIA\", \"SOUTH AFRICA\", \"SPAIN\", \"SRI LANKA\", \"SUDAN\", \"SURINAME\", \"SWAZILAND\", \"SWEDEN\", \"SWITZERLAND\", \"TAJIKISTAN\", \"THAILAND\", \"TOGO\", \"TONGA\", \"TUNISIA\", \"TURKEY\", \"TURKMENISTAN\", \"TUVALU\", \"UGANDA\", \"UKRAINE\", \"UNITED ARAB EMIRATES\", \"UNITED KINGDOM\", \"UNITED STATES\", \"URUGUAY\", \"UZBEKISTAN\", \"VANUATU\", \"VIET NAM\", \"YEMEN\", \"ZAMBIA\", \"ZIMBABWE\"], \"labels\": [\"AFGHANISTAN\", \"ALBANIA\", \"ALGERIA\", \"AMERICAN SAMOA\", \"ANDORRA\", \"ANGOLA\", \"ANGUILLA\", \"ARGENTINA\", \"ARMENIA\", \"ARUBA\", \"AUSTRALIA\", \"AUSTRIA\", \"AZERBAIJAN\", \"BAHRAIN\", \"BANGLADESH\", \"BARBADOS\", \"BELARUS\", \"BELGIUM\", \"BELIZE\", \"BENIN\", \"BERMUDA\", \"BHUTAN\", \"BOTSWANA\", \"BRAZIL\", \"BULGARIA\", \"BURKINA FASO\", \"BURUNDI\", \"CAMBODIA\", \"CAMEROON\", \"CANADA\", \"CAPE VERDE\", \"CAYMAN ISLANDS\", \"CHAD\", \"CHILE\", \"CHINA\", \"COLOMBIA\", \"COMOROS\", \"COOK ISLANDS\", \"COSTA RICA\", \"COTE D'IVOIRE\", \"CROATIA\", \"CUBA\", \"CYPRUS\", \"CZECH REPUBLIC\", \"DENMARK\", \"DJIBOUTI\", \"DOMINICA\", \"DOMINICAN REPUBLIC\", \"ECUADOR\", \"EGYPT\", \"EL SALVADOR\", \"EQUATORIAL GUINEA\", \"ERITREA\", \"ESTONIA\", \"ETHIOPIA\", \"FAROE ISLANDS\", \"FIJI\", \"FINLAND\", \"FRANCE\", \"FRENCH GUIANA\", \"FRENCH POLYNESIA\", \"GABON\", \"GEORGIA\", \"GERMANY\", \"GHANA\", \"GIBRALTAR\", \"GREECE\", \"GREENLAND\", \"GRENADA\", \"GUADELOUPE\", \"GUAM\", \"GUATEMALA\", \"GUINEA\", \"GUINEA-BISSAU\", \"GUYANA\", \"HAITI\", \"HONDURAS\", \"HONG KONG\", \"HUNGARY\", \"ICELAND\", \"INDIA\", \"INDONESIA\", \"IRAQ\", \"IRELAND\", \"ITALY\", \"JAMAICA\", \"JAPAN\", \"JORDAN\", \"KAZAKHSTAN\", \"KENYA\", \"KIRIBATI\", \"KUWAIT\", \"KYRGYZSTAN\", \"LATVIA\", \"LEBANON\", \"LESOTHO\", \"LIBERIA\", \"LIBYA\", \"LIECHTENSTEIN\", \"LITHUANIA\", \"LUXEMBOURG\", \"MADAGASCAR\", \"MALAWI\", \"MALAYSIA\", \"MALDIVES\", \"MALI\", \"MALTA\", \"MARSHALL ISLANDS\", \"MARTINIQUE\", \"MAURITANIA\", \"MAURITIUS\", \"MAYOTTE\", \"MEXICO\", \"MONACO\", \"MONGOLIA\", \"MOROCCO\", \"MOZAMBIQUE\", \"NAMIBIA\", \"NAURU\", \"NEPAL\", \"NETHERLANDS\", \"NEW CALEDONIA\", \"NEW ZEALAND\", \"NICARAGUA\", \"NIGER\", \"NIGERIA\", \"NORWAY\", \"OMAN\", \"PAKISTAN\", \"PALAU\", \"PANAMA\", \"PAPUA NEW GUINEA\", \"PARAGUAY\", \"PERU\", \"PHILIPPINES\", \"POLAND\", \"PORTUGAL\", \"PUERTO RICO\", \"QATAR\", \"REUNION\", \"ROMANIA\", \"RWANDA\", \"SAINT LUCIA\", \"SAN MARINO\", \"SAUDI ARABIA\", \"SENEGAL\", \"SERBIA\", \"SEYCHELLES\", \"SIERRA LEONE\", \"SINGAPORE\", \"SLOVAKIA\", \"SLOVENIA\", \"SOLOMON ISLANDS\", \"SOMALIA\", \"SOUTH AFRICA\", \"SPAIN\", \"SRI LANKA\", \"SUDAN\", \"SURINAME\", \"SWAZILAND\", \"SWEDEN\", \"SWITZERLAND\", \"TAJIKISTAN\", \"THAILAND\", \"TOGO\", \"TONGA\", \"TUNISIA\", \"TURKEY\", \"TURKMENISTAN\", \"TUVALU\", \"UGANDA\", \"UKRAINE\", \"UNITED ARAB EMIRATES\", \"UNITED KINGDOM\", \"UNITED STATES\", \"URUGUAY\", \"UZBEKISTAN\", \"VANUATU\", \"VIET NAM\", \"YEMEN\", \"ZAMBIA\", \"ZIMBABWE\"], \"marker\": {\"coloraxis\": \"coloraxis\", \"colors\": [10.776333000000001, 26.495999, 2732.3596559999996, 5.614514, 3.856605, 904.1393129999999, 0.23157100000000003, 31393.865520999992, 2.3471940000000004, 469.7341640000001, 134928.5646650001, 15500.146632000004, 19.757670000000005, 3981.6279520000007, 4987.016161, 80.083495, 1532.9856740000002, 19666.982681999998, 9.758631000000003, 74.027475, 2.6602380000000005, 2.997089000000001, 0.7703909999999999, 51362.473028999986, 973.6464009999997, 193.20358100000004, 3.380643, 4491.710684999998, 2112.693466999999, 21307.232167000013, 1.8193810000000001, 1.352269, 0.762193, 5352.982835999999, 1008973.5574330001, 2818.3343840000025, 1.348353, 0.11754200000000001, 17281.450790000014, 11482.683850000001, 215.77302499999996, 165.63309299999995, 1432.233216000001, 5817.068305999996, 6400.138625999997, 13.613605, 0.9458939999999999, 112.06053700000001, 2369.7823519999993, 4206.204402999999, 85.70273399999999, 247.543123, 0.248811, 353.76145000000025, 75.748472, 0.470619, 79.72967299999999, 5608.594206000003, 84222.51153399996, 0.35412400000000005, 1.670511, 4013.638874, 371.6544820000001, 172655.33326100005, 6004.028615999997, 0.710059, 706.3503130000001, 5.396272, 39.046655, 1.501561, 2.045193, 888.4353789999998, 149.73741699999997, 0.8989689999999999, 32.713983999999996, 11.238676000000002, 36.705196999999984, 88669.66441200003, 4029.4493710000015, 40.74392000000001, 139162.83088999995, 233425.895374, 6593.5939690000005, 18064.500062, 43609.81752100001, 51.392725999999975, 412700.23306200013, 1974.0271359999995, 175.881095, 350.17079900000004, 39.27146200000001, 15717.296577000001, 2.4779039999999997, 760.7777569999996, 211.80038000000005, 1.7540539999999998, 364.099013, 4426.737666999999, 11.639453999999999, 1669.9649649999997, 614.2221170000003, 288.90032899999983, 72.37452000000002, 1480.8206590000007, 18.35030199999999, 46.80140499999999, 1735.4117960000003, 217.01859399999998, 0.5198690000000001, 12.392573000000002, 87.93023700000003, 0.127141, 10094.77744, 1.3078009999999998, 10.569351000000001, 608.2740179999995, 401.89654899999994, 230.9469770000001, 0.589069, 16.379577000000005, 50074.19940099999, 4.849800999999999, 21443.082143000003, 110.52394000000001, 1.90301, 5517.357539000001, 9694.967739, 9130.566457999996, 5579.291098000004, 0.023982999999999997, 1388.0513199999998, 3999.9050480000005, 644.8289179999999, 2216.547223999999, 50234.401597999975, 5757.647667000001, 1726.6155539999988, 235.74114499999993, 16700.376181000003, 19.65436800000001, 989.18161, 720.9524919999998, 0.192125, 0.028047000000000002, 81046.66392400004, 75.97196299999997, 76.88302399999999, 92.397133, 6.941035999999998, 606026.1248479997, 770.4056640000005, 815.0778720000002, 312.7742930000001, 5.684306000000001, 18047.848300999976, 16504.70428899999, 1889.8801689999987, 54.19916000000001, 24.313780000000005, 33.03155400000001, 13747.404772000002, 57705.781418999955, 3.1760759999999997, 303274.27952300006, 117.42820499999998, 0.019918, 620.4049369999999, 9547.16240099999, 29.148996999999998, 0.017196, 628.679824, 3840.769200999999, 92811.57970600003, 49163.930399000004, 412958.68946300016, 403.42591999999985, 135.91336200000003, 128.404126, 133618.21041000003, 2450.1654410000006, 1027.8419729999998, 142.7773400000001]}, \"name\": \"\", \"parents\": [\"\", \"\", \"\", \"\", \"\", \"\", \"\", \"\", \"\", \"\", \"\", \"\", \"\", \"\", \"\", \"\", \"\", \"\", \"\", \"\", \"\", \"\", \"\", \"\", \"\", \"\", \"\", \"\", \"\", \"\", \"\", \"\", \"\", \"\", \"\", \"\", \"\", \"\", \"\", \"\", \"\", \"\", \"\", \"\", \"\", \"\", \"\", \"\", \"\", \"\", \"\", \"\", \"\", \"\", \"\", \"\", \"\", \"\", \"\", \"\", \"\", \"\", \"\", \"\", \"\", \"\", \"\", \"\", \"\", \"\", \"\", \"\", \"\", \"\", \"\", \"\", \"\", \"\", \"\", \"\", \"\", \"\", \"\", \"\", \"\", \"\", \"\", \"\", \"\", \"\", \"\", \"\", \"\", \"\", \"\", \"\", \"\", \"\", \"\", \"\", \"\", \"\", \"\", \"\", \"\", \"\", \"\", \"\", \"\", \"\", \"\", \"\", \"\", \"\", \"\", \"\", \"\", \"\", \"\", \"\", \"\", \"\", \"\", \"\", \"\", \"\", \"\", \"\", \"\", \"\", \"\", \"\", \"\", \"\", \"\", \"\", \"\", \"\", \"\", \"\", \"\", \"\", \"\", \"\", \"\", \"\", \"\", \"\", \"\", \"\", \"\", \"\", \"\", \"\", \"\", \"\", \"\", \"\", \"\", \"\", \"\", \"\", \"\", \"\", \"\", \"\", \"\", \"\", \"\", \"\", \"\", \"\", \"\", \"\", \"\", \"\", \"\", \"\", \"\", \"\", \"\", \"\"], \"type\": \"treemap\", \"values\": [10.776333000000001, 26.495998999999998, 2732.3596559999996, 5.614514, 3.856605, 904.1393129999999, 0.23157100000000003, 31393.865520999992, 2.3471940000000004, 469.7341640000001, 134928.5646650001, 15500.146632000004, 19.757670000000005, 3981.6279520000007, 4987.016161, 80.083495, 1532.9856740000002, 19666.982681999998, 9.758631000000003, 74.027475, 2.6602380000000005, 2.997089000000001, 0.7703909999999999, 51362.473028999986, 973.6464009999997, 193.20358100000004, 3.380643, 4491.710684999998, 2112.693466999999, 21307.232167000013, 1.8193810000000001, 1.352269, 0.762193, 5352.982835999999, 1008973.5574330001, 2818.3343840000025, 1.348353, 0.11754200000000001, 17281.450790000014, 11482.683850000001, 215.77302499999996, 165.63309299999995, 1432.233216000001, 5817.068305999996, 6400.138625999998, 13.613605, 0.9458939999999999, 112.06053700000001, 2369.7823519999993, 4206.204402999999, 85.70273399999999, 247.543123, 0.248811, 353.76145000000025, 75.748472, 0.470619, 79.72967299999999, 5608.594206000003, 84222.51153399996, 0.35412400000000005, 1.670511, 4013.638874, 371.6544820000001, 172655.33326100005, 6004.028615999997, 0.710059, 706.3503130000001, 5.396272, 39.046655, 1.501561, 2.045193, 888.4353789999998, 149.73741699999997, 0.8989689999999999, 32.713983999999996, 11.238676000000002, 36.705196999999984, 88669.66441200003, 4029.4493710000015, 40.74392000000001, 139162.83088999995, 233425.895374, 6593.593969000001, 18064.500062, 43609.81752100001, 51.39272599999998, 412700.23306200013, 1974.0271359999995, 175.881095, 350.17079900000004, 39.27146200000001, 15717.296577000001, 2.4779039999999997, 760.7777569999996, 211.80038000000005, 1.7540539999999998, 364.099013, 4426.737666999999, 11.639453999999999, 1669.9649649999997, 614.2221170000003, 288.90032899999983, 72.37452000000002, 1480.8206590000007, 18.35030199999999, 46.80140499999999, 1735.4117960000003, 217.01859399999998, 0.5198690000000001, 12.392573000000002, 87.93023700000003, 0.127141, 10094.77744, 1.3078009999999998, 10.569351000000001, 608.2740179999995, 401.89654899999994, 230.9469770000001, 0.589069, 16.379577000000005, 50074.19940099999, 4.849800999999999, 21443.082143000003, 110.52394000000001, 1.90301, 5517.357539000001, 9694.967739, 9130.566457999996, 5579.291098000004, 0.023983, 1388.0513199999998, 3999.905048, 644.8289179999999, 2216.547223999999, 50234.401597999975, 5757.647667000001, 1726.6155539999988, 235.74114499999993, 16700.376181000003, 19.65436800000001, 989.18161, 720.9524919999998, 0.192125, 0.028047000000000002, 81046.66392400004, 75.97196299999997, 76.88302399999999, 92.397133, 6.941035999999998, 606026.1248479997, 770.4056640000005, 815.0778720000002, 312.7742930000001, 5.684306, 18047.848300999976, 16504.70428899999, 1889.8801689999987, 54.19916000000001, 24.313780000000005, 33.03155400000001, 13747.404772, 57705.781418999955, 3.1760759999999997, 303274.27952300006, 117.42820499999998, 0.019918, 620.4049369999999, 9547.16240099999, 29.148996999999998, 0.017196, 628.679824, 3840.769200999999, 92811.57970600003, 49163.930399000004, 412958.68946300016, 403.42591999999985, 135.91336200000003, 128.404126, 133618.21041000003, 2450.1654410000006, 1027.8419729999998, 142.7773400000001]}],                        {\"coloraxis\": {\"colorbar\": {\"title\": {\"text\": \"IMPORT (MILLION RM)\"}}, \"colorscale\": [[0.0, \"rgb(103,0,31)\"], [0.1, \"rgb(178,24,43)\"], [0.2, \"rgb(214,96,77)\"], [0.3, \"rgb(244,165,130)\"], [0.4, \"rgb(253,219,199)\"], [0.5, \"rgb(247,247,247)\"], [0.6, \"rgb(209,229,240)\"], [0.7, \"rgb(146,197,222)\"], [0.8, \"rgb(67,147,195)\"], [0.9, \"rgb(33,102,172)\"], [1.0, \"rgb(5,48,97)\"]]}, \"legend\": {\"tracegroupgap\": 0}, \"margin\": {\"t\": 60}, \"template\": {\"data\": {\"bar\": [{\"error_x\": {\"color\": \"#2a3f5f\"}, \"error_y\": {\"color\": \"#2a3f5f\"}, \"marker\": {\"line\": {\"color\": \"#E5ECF6\", \"width\": 0.5}}, \"type\": \"bar\"}], \"barpolar\": [{\"marker\": {\"line\": {\"color\": \"#E5ECF6\", \"width\": 0.5}}, \"type\": \"barpolar\"}], \"carpet\": [{\"aaxis\": {\"endlinecolor\": \"#2a3f5f\", \"gridcolor\": \"white\", \"linecolor\": \"white\", \"minorgridcolor\": \"white\", \"startlinecolor\": \"#2a3f5f\"}, \"baxis\": {\"endlinecolor\": \"#2a3f5f\", \"gridcolor\": \"white\", \"linecolor\": \"white\", \"minorgridcolor\": \"white\", \"startlinecolor\": \"#2a3f5f\"}, \"type\": \"carpet\"}], \"choropleth\": [{\"colorbar\": {\"outlinewidth\": 0, \"ticks\": \"\"}, \"type\": \"choropleth\"}], \"contour\": [{\"colorbar\": {\"outlinewidth\": 0, \"ticks\": \"\"}, \"colorscale\": [[0.0, \"#0d0887\"], [0.1111111111111111, \"#46039f\"], [0.2222222222222222, \"#7201a8\"], [0.3333333333333333, \"#9c179e\"], [0.4444444444444444, \"#bd3786\"], [0.5555555555555556, \"#d8576b\"], [0.6666666666666666, \"#ed7953\"], [0.7777777777777778, \"#fb9f3a\"], [0.8888888888888888, \"#fdca26\"], [1.0, \"#f0f921\"]], \"type\": \"contour\"}], \"contourcarpet\": [{\"colorbar\": {\"outlinewidth\": 0, \"ticks\": \"\"}, \"type\": \"contourcarpet\"}], \"heatmap\": [{\"colorbar\": {\"outlinewidth\": 0, \"ticks\": \"\"}, \"colorscale\": [[0.0, \"#0d0887\"], [0.1111111111111111, \"#46039f\"], [0.2222222222222222, \"#7201a8\"], [0.3333333333333333, \"#9c179e\"], [0.4444444444444444, \"#bd3786\"], [0.5555555555555556, \"#d8576b\"], [0.6666666666666666, \"#ed7953\"], [0.7777777777777778, \"#fb9f3a\"], [0.8888888888888888, \"#fdca26\"], [1.0, \"#f0f921\"]], \"type\": \"heatmap\"}], \"heatmapgl\": [{\"colorbar\": {\"outlinewidth\": 0, \"ticks\": \"\"}, \"colorscale\": [[0.0, \"#0d0887\"], [0.1111111111111111, \"#46039f\"], [0.2222222222222222, \"#7201a8\"], [0.3333333333333333, \"#9c179e\"], [0.4444444444444444, \"#bd3786\"], [0.5555555555555556, \"#d8576b\"], [0.6666666666666666, \"#ed7953\"], [0.7777777777777778, \"#fb9f3a\"], [0.8888888888888888, \"#fdca26\"], [1.0, \"#f0f921\"]], \"type\": \"heatmapgl\"}], \"histogram\": [{\"marker\": {\"colorbar\": {\"outlinewidth\": 0, \"ticks\": \"\"}}, \"type\": \"histogram\"}], \"histogram2d\": [{\"colorbar\": {\"outlinewidth\": 0, \"ticks\": \"\"}, \"colorscale\": [[0.0, \"#0d0887\"], [0.1111111111111111, \"#46039f\"], [0.2222222222222222, \"#7201a8\"], [0.3333333333333333, \"#9c179e\"], [0.4444444444444444, \"#bd3786\"], [0.5555555555555556, \"#d8576b\"], [0.6666666666666666, \"#ed7953\"], [0.7777777777777778, \"#fb9f3a\"], [0.8888888888888888, \"#fdca26\"], [1.0, \"#f0f921\"]], \"type\": \"histogram2d\"}], \"histogram2dcontour\": [{\"colorbar\": {\"outlinewidth\": 0, \"ticks\": \"\"}, \"colorscale\": [[0.0, \"#0d0887\"], [0.1111111111111111, \"#46039f\"], [0.2222222222222222, \"#7201a8\"], [0.3333333333333333, \"#9c179e\"], [0.4444444444444444, \"#bd3786\"], [0.5555555555555556, \"#d8576b\"], [0.6666666666666666, \"#ed7953\"], [0.7777777777777778, \"#fb9f3a\"], [0.8888888888888888, \"#fdca26\"], [1.0, \"#f0f921\"]], \"type\": \"histogram2dcontour\"}], \"mesh3d\": [{\"colorbar\": {\"outlinewidth\": 0, \"ticks\": \"\"}, \"type\": \"mesh3d\"}], \"parcoords\": [{\"line\": {\"colorbar\": {\"outlinewidth\": 0, \"ticks\": \"\"}}, \"type\": \"parcoords\"}], \"pie\": [{\"automargin\": true, \"type\": \"pie\"}], \"scatter\": [{\"marker\": {\"colorbar\": {\"outlinewidth\": 0, \"ticks\": \"\"}}, \"type\": \"scatter\"}], \"scatter3d\": [{\"line\": {\"colorbar\": {\"outlinewidth\": 0, \"ticks\": \"\"}}, \"marker\": {\"colorbar\": {\"outlinewidth\": 0, \"ticks\": \"\"}}, \"type\": \"scatter3d\"}], \"scattercarpet\": [{\"marker\": {\"colorbar\": {\"outlinewidth\": 0, \"ticks\": \"\"}}, \"type\": \"scattercarpet\"}], \"scattergeo\": [{\"marker\": {\"colorbar\": {\"outlinewidth\": 0, \"ticks\": \"\"}}, \"type\": \"scattergeo\"}], \"scattergl\": [{\"marker\": {\"colorbar\": {\"outlinewidth\": 0, \"ticks\": \"\"}}, \"type\": \"scattergl\"}], \"scattermapbox\": [{\"marker\": {\"colorbar\": {\"outlinewidth\": 0, \"ticks\": \"\"}}, \"type\": \"scattermapbox\"}], \"scatterpolar\": [{\"marker\": {\"colorbar\": {\"outlinewidth\": 0, \"ticks\": \"\"}}, \"type\": \"scatterpolar\"}], \"scatterpolargl\": [{\"marker\": {\"colorbar\": {\"outlinewidth\": 0, \"ticks\": \"\"}}, \"type\": \"scatterpolargl\"}], \"scatterternary\": [{\"marker\": {\"colorbar\": {\"outlinewidth\": 0, \"ticks\": \"\"}}, \"type\": \"scatterternary\"}], \"surface\": [{\"colorbar\": {\"outlinewidth\": 0, \"ticks\": \"\"}, \"colorscale\": [[0.0, \"#0d0887\"], [0.1111111111111111, \"#46039f\"], [0.2222222222222222, \"#7201a8\"], [0.3333333333333333, \"#9c179e\"], [0.4444444444444444, \"#bd3786\"], [0.5555555555555556, \"#d8576b\"], [0.6666666666666666, \"#ed7953\"], [0.7777777777777778, \"#fb9f3a\"], [0.8888888888888888, \"#fdca26\"], [1.0, \"#f0f921\"]], \"type\": \"surface\"}], \"table\": [{\"cells\": {\"fill\": {\"color\": \"#EBF0F8\"}, \"line\": {\"color\": \"white\"}}, \"header\": {\"fill\": {\"color\": \"#C8D4E3\"}, \"line\": {\"color\": \"white\"}}, \"type\": \"table\"}]}, \"layout\": {\"annotationdefaults\": {\"arrowcolor\": \"#2a3f5f\", \"arrowhead\": 0, \"arrowwidth\": 1}, \"coloraxis\": {\"colorbar\": {\"outlinewidth\": 0, \"ticks\": \"\"}}, \"colorscale\": {\"diverging\": [[0, \"#8e0152\"], [0.1, \"#c51b7d\"], [0.2, \"#de77ae\"], [0.3, \"#f1b6da\"], [0.4, \"#fde0ef\"], [0.5, \"#f7f7f7\"], [0.6, \"#e6f5d0\"], [0.7, \"#b8e186\"], [0.8, \"#7fbc41\"], [0.9, \"#4d9221\"], [1, \"#276419\"]], \"sequential\": [[0.0, \"#0d0887\"], [0.1111111111111111, \"#46039f\"], [0.2222222222222222, \"#7201a8\"], [0.3333333333333333, \"#9c179e\"], [0.4444444444444444, \"#bd3786\"], [0.5555555555555556, \"#d8576b\"], [0.6666666666666666, \"#ed7953\"], [0.7777777777777778, \"#fb9f3a\"], [0.8888888888888888, \"#fdca26\"], [1.0, \"#f0f921\"]], \"sequentialminus\": [[0.0, \"#0d0887\"], [0.1111111111111111, \"#46039f\"], [0.2222222222222222, \"#7201a8\"], [0.3333333333333333, \"#9c179e\"], [0.4444444444444444, \"#bd3786\"], [0.5555555555555556, \"#d8576b\"], [0.6666666666666666, \"#ed7953\"], [0.7777777777777778, \"#fb9f3a\"], [0.8888888888888888, \"#fdca26\"], [1.0, \"#f0f921\"]]}, \"colorway\": [\"#636efa\", \"#EF553B\", \"#00cc96\", \"#ab63fa\", \"#FFA15A\", \"#19d3f3\", \"#FF6692\", \"#B6E880\", \"#FF97FF\", \"#FECB52\"], \"font\": {\"color\": \"#2a3f5f\"}, \"geo\": {\"bgcolor\": \"white\", \"lakecolor\": \"white\", \"landcolor\": \"#E5ECF6\", \"showlakes\": true, \"showland\": true, \"subunitcolor\": \"white\"}, \"hoverlabel\": {\"align\": \"left\"}, \"hovermode\": \"closest\", \"mapbox\": {\"style\": \"light\"}, \"paper_bgcolor\": \"white\", \"plot_bgcolor\": \"#E5ECF6\", \"polar\": {\"angularaxis\": {\"gridcolor\": \"white\", \"linecolor\": \"white\", \"ticks\": \"\"}, \"bgcolor\": \"#E5ECF6\", \"radialaxis\": {\"gridcolor\": \"white\", \"linecolor\": \"white\", \"ticks\": \"\"}}, \"scene\": {\"xaxis\": {\"backgroundcolor\": \"#E5ECF6\", \"gridcolor\": \"white\", \"gridwidth\": 2, \"linecolor\": \"white\", \"showbackground\": true, \"ticks\": \"\", \"zerolinecolor\": \"white\"}, \"yaxis\": {\"backgroundcolor\": \"#E5ECF6\", \"gridcolor\": \"white\", \"gridwidth\": 2, \"linecolor\": \"white\", \"showbackground\": true, \"ticks\": \"\", \"zerolinecolor\": \"white\"}, \"zaxis\": {\"backgroundcolor\": \"#E5ECF6\", \"gridcolor\": \"white\", \"gridwidth\": 2, \"linecolor\": \"white\", \"showbackground\": true, \"ticks\": \"\", \"zerolinecolor\": \"white\"}}, \"shapedefaults\": {\"line\": {\"color\": \"#2a3f5f\"}}, \"ternary\": {\"aaxis\": {\"gridcolor\": \"white\", \"linecolor\": \"white\", \"ticks\": \"\"}, \"baxis\": {\"gridcolor\": \"white\", \"linecolor\": \"white\", \"ticks\": \"\"}, \"bgcolor\": \"#E5ECF6\", \"caxis\": {\"gridcolor\": \"white\", \"linecolor\": \"white\", \"ticks\": \"\"}}, \"title\": {\"x\": 0.05}, \"xaxis\": {\"automargin\": true, \"gridcolor\": \"white\", \"linecolor\": \"white\", \"ticks\": \"\", \"title\": {\"standoff\": 15}, \"zerolinecolor\": \"white\", \"zerolinewidth\": 2}, \"yaxis\": {\"automargin\": true, \"gridcolor\": \"white\", \"linecolor\": \"white\", \"ticks\": \"\", \"title\": {\"standoff\": 15}, \"zerolinecolor\": \"white\", \"zerolinewidth\": 2}}}},                        {\"responsive\": true}                    ).then(function(){\n",
       "                            \n",
       "var gd = document.getElementById('71ddaeb4-2a74-45ea-92ae-f339f1d6ced9');\n",
       "var x = new MutationObserver(function (mutations, observer) {{\n",
       "        var display = window.getComputedStyle(gd).display;\n",
       "        if (!display || display === 'none') {{\n",
       "            console.log([gd, 'removed!']);\n",
       "            Plotly.purge(gd);\n",
       "            observer.disconnect();\n",
       "        }}\n",
       "}});\n",
       "\n",
       "// Listen for the removal of the full notebook cells\n",
       "var notebookContainer = gd.closest('#notebook-container');\n",
       "if (notebookContainer) {{\n",
       "    x.observe(notebookContainer, {childList: true});\n",
       "}}\n",
       "\n",
       "// Listen for the clearing of the current output cell\n",
       "var outputEl = gd.closest('.output');\n",
       "if (outputEl) {{\n",
       "    x.observe(outputEl, {childList: true});\n",
       "}}\n",
       "\n",
       "                        })                };                });            </script>        </div>"
      ]
     },
     "metadata": {},
     "output_type": "display_data"
    }
   ],
   "source": [
    "df_merge = df_merge.groupby('COUNTRY',)['IMPORT (MILLION RM)'].sum().reset_index()\n",
    "df_merge = df_merge[df_merge['IMPORT (MILLION RM)']>0]\n",
    "fig = px.treemap(df_merge, path=['COUNTRY'], values='IMPORT (MILLION RM)',\n",
    "                  color='IMPORT (MILLION RM)', hover_data=['IMPORT (MILLION RM)'],\n",
    "                  color_continuous_scale='RdBu')\n",
    "#                   color_continuous_midpoint=np.average(df4['sum_import'], weights=df4['sum_import']))\n",
    "fig.show()"
   ]
  },
  {
   "cell_type": "code",
   "execution_count": 73,
   "metadata": {},
   "outputs": [
    {
     "data": {
      "application/vnd.plotly.v1+json": {
       "config": {
        "plotlyServerURL": "https://plot.ly"
       },
       "data": [
        {
         "branchvalues": "total",
         "customdata": [
          [
           1.654302,
           1.654302
          ],
          [
           1.2669569999999999,
           1.2669569999999999
          ],
          [
           9.235426,
           9.235426
          ],
          [
           0.05964800000000001,
           0.05964800000000001
          ],
          [
           1.385539,
           1.385539
          ],
          [
           6.831120999999999,
           6.831120999999999
          ],
          [
           4999.758647999999,
           4999.758647999999
          ],
          [
           0.33479600000000004,
           0.33479600000000004
          ],
          [
           0.082384,
           0.082384
          ],
          [
           20091.811555999997,
           20091.811555999997
          ],
          [
           2335.512688,
           2335.512688
          ],
          [
           3.174426,
           3.174426
          ],
          [
           557.9512359999999,
           557.9512359999999
          ],
          [
           949.7747740000002,
           949.7747740000002
          ],
          [
           65.263919,
           65.263919
          ],
          [
           180.284182,
           180.284182
          ],
          [
           2703.730552,
           2703.730552
          ],
          [
           0.101217,
           0.101217
          ],
          [
           34.265487,
           34.265487
          ],
          [
           0.008017999999999999,
           0.008017999999999999
          ],
          [
           1.0562680000000002,
           1.0562680000000002
          ],
          [
           0.009032,
           0.009032
          ],
          [
           9046.773952000001,
           9046.773952000001
          ],
          [
           125.95882100000001,
           125.95882100000001
          ],
          [
           21.968604,
           21.968604
          ],
          [
           708.779845,
           708.779845
          ],
          [
           346.26512799999995,
           346.26512799999995
          ],
          [
           3046.575907,
           3046.575907
          ],
          [
           0.15037799999999998,
           0.15037799999999998
          ],
          [
           0.482388,
           0.482388
          ],
          [
           786.2743650000001,
           786.2743650000001
          ],
          [
           164444.69400600006,
           164444.69400600006
          ],
          [
           250.46670699999999,
           250.46670699999999
          ],
          [
           83.77063700000001,
           83.77063700000001
          ],
          [
           2539.2103520000005,
           2539.2103520000005
          ],
          [
           35.10192,
           35.10192
          ],
          [
           4.870734,
           4.870734
          ],
          [
           40.05049799999999,
           40.05049799999999
          ],
          [
           963.4228989999997,
           963.4228989999997
          ],
          [
           842.4396530000001,
           842.4396530000001
          ],
          [
           0.6506879999999999,
           0.6506879999999999
          ],
          [
           0.176351,
           0.176351
          ],
          [
           22.386422999999997,
           22.386422999999997
          ],
          [
           486.607476,
           486.607476
          ],
          [
           570.6178229999999,
           570.6178229999999
          ],
          [
           2.373049,
           2.373049
          ],
          [
           45.22348399999999,
           45.22348399999999
          ],
          [
           34.094804,
           34.094804
          ],
          [
           10.167029000000001,
           10.167029000000001
          ],
          [
           0.011558,
           0.011558
          ],
          [
           19.485222000000004,
           19.485222000000004
          ],
          [
           746.495524,
           746.495524
          ],
          [
           12728.053628000001,
           12728.053628000001
          ],
          [
           1342.0794649999998,
           1342.0794649999998
          ],
          [
           6.36535,
           6.36535
          ],
          [
           26277.537614999994,
           26277.537614999994
          ],
          [
           908.4099380000002,
           908.4099380000002
          ],
          [
           0.009598999999999998,
           0.009598999999999998
          ],
          [
           79.48540199999997,
           79.48540199999997
          ],
          [
           0.305708,
           0.305708
          ],
          [
           0.046812,
           0.046812
          ],
          [
           0.8414969999999999,
           0.8414969999999999
          ],
          [
           0.07536399999999999,
           0.07536399999999999
          ],
          [
           249.51422100000005,
           249.51422100000005
          ],
          [
           50.97719900000001,
           50.97719900000001
          ],
          [
           0.092317,
           0.092317
          ],
          [
           4.406455,
           4.406455
          ],
          [
           1.4685709999999996,
           1.4685709999999996
          ],
          [
           9.636401000000001,
           9.636401000000001
          ],
          [
           14010.570346,
           14010.570346
          ],
          [
           741.9685410000002,
           741.9685410000002
          ],
          [
           7.2733680000000005,
           7.2733680000000005
          ],
          [
           26853.001515000007,
           26853.001515000007
          ],
          [
           37879.432262999995,
           37879.432262999995
          ],
          [
           1798.750081,
           1798.750081
          ],
          [
           3592.521797,
           3592.521797
          ],
          [
           7216.7465919999995,
           7216.7465919999995
          ],
          [
           3.1939919999999997,
           3.1939919999999997
          ],
          [
           63610.713632,
           63610.713632
          ],
          [
           242.638173,
           242.638173
          ],
          [
           40.1304,
           40.1304
          ],
          [
           32.377767,
           32.377767
          ],
          [
           15.058282000000002,
           15.058282000000002
          ],
          [
           1122.1933209999997,
           1122.1933209999997
          ],
          [
           0.208235,
           0.208235
          ],
          [
           115.89105900000001,
           115.89105900000001
          ],
          [
           27.33878099999999,
           27.33878099999999
          ],
          [
           0.067234,
           0.067234
          ],
          [
           53.029738,
           53.029738
          ],
          [
           341.167328,
           341.167328
          ],
          [
           0.7140460000000001,
           0.7140460000000001
          ],
          [
           268.35231600000003,
           268.35231600000003
          ],
          [
           69.97925300000001,
           69.97925300000001
          ],
          [
           22.852432999999998,
           22.852432999999998
          ],
          [
           7.544574,
           7.544574
          ],
          [
           122.491225,
           122.491225
          ],
          [
           2.852031,
           2.852031
          ],
          [
           1.9326709999999998,
           1.9326709999999998
          ],
          [
           164.13433,
           164.13433
          ],
          [
           2.030423,
           2.030423
          ],
          [
           0.268444,
           0.268444
          ],
          [
           0.369907,
           0.369907
          ],
          [
           16.889743,
           16.889743
          ],
          [
           1401.668981,
           1401.668981
          ],
          [
           0.119363,
           0.119363
          ],
          [
           0.145049,
           0.145049
          ],
          [
           113.92926099999997,
           113.92926099999997
          ],
          [
           18.467291000000003,
           18.467291000000003
          ],
          [
           1.8867590000000003,
           1.8867590000000003
          ],
          [
           0.523972,
           0.523972
          ],
          [
           2.424665,
           2.424665
          ],
          [
           7851.8314740000005,
           7851.8314740000005
          ],
          [
           0.09191200000000001,
           0.09191200000000001
          ],
          [
           3358.581938,
           3358.581938
          ],
          [
           51.584349,
           51.584349
          ],
          [
           0.0035399999999999997,
           0.0035399999999999997
          ],
          [
           832.848404,
           832.848404
          ],
          [
           1966.2667209999995,
           1966.2667209999995
          ],
          [
           1318.7940879999994,
           1318.7940879999994
          ],
          [
           719.667912,
           719.667912
          ],
          [
           10.538392,
           10.538392
          ],
          [
           945.1984650000003,
           945.1984650000003
          ],
          [
           29.756913000000004,
           29.756913000000004
          ],
          [
           590.3334379999999,
           590.3334379999999
          ],
          [
           8976.101706000001,
           8976.101706000001
          ],
          [
           657.6839260000002,
           657.6839260000002
          ],
          [
           252.36916300000001,
           252.36916300000001
          ],
          [
           52.016051999999995,
           52.016051999999995
          ],
          [
           2115.596298000001,
           2115.596298000001
          ],
          [
           1.7798859999999999,
           1.7798859999999999
          ],
          [
           142.375292,
           142.375292
          ],
          [
           62.447176999999996,
           62.447176999999996
          ],
          [
           0.010358,
           0.010358
          ],
          [
           10689.177725999996,
           10689.177725999996
          ],
          [
           8.09202,
           8.09202
          ],
          [
           7.209305999999999,
           7.209305999999999
          ],
          [
           14.76051,
           14.76051
          ],
          [
           0.9277460000000001,
           0.9277460000000001
          ],
          [
           92729.02029,
           92729.02029
          ],
          [
           147.37247000000008,
           147.37247000000008
          ],
          [
           145.60843500000004,
           145.60843500000004
          ],
          [
           44.48595800000002,
           44.48595800000002
          ],
          [
           0.123332,
           0.123332
          ],
          [
           2957.2864999999997,
           2957.2864999999997
          ],
          [
           2533.8573619999997,
           2533.8573619999997
          ],
          [
           298.76115200000004,
           298.76115200000004
          ],
          [
           28.770970000000002,
           28.770970000000002
          ],
          [
           1.595901,
           1.595901
          ],
          [
           0.6406029999999999,
           0.6406029999999999
          ],
          [
           2086.5880839999995,
           2086.5880839999995
          ],
          [
           11852.615357999997,
           11852.615357999997
          ],
          [
           0.05988,
           0.05988
          ],
          [
           48141.21756199999,
           48141.21756199999
          ],
          [
           10.09879,
           10.09879
          ],
          [
           131.80226099999993,
           131.80226099999993
          ],
          [
           1551.4043049999998,
           1551.4043049999998
          ],
          [
           12.219512999999997,
           12.219512999999997
          ],
          [
           0.0014219999999999999,
           0.0014219999999999999
          ],
          [
           98.43967599999998,
           98.43967599999998
          ],
          [
           441.40414300000015,
           441.40414300000015
          ],
          [
           13161.466574999999,
           13161.466574999999
          ],
          [
           6726.963076,
           6726.963076
          ],
          [
           65274.57193699999,
           65274.57193699999
          ],
          [
           53.01002799999999,
           53.01002799999999
          ],
          [
           9.802361999999997,
           9.802361999999997
          ],
          [
           30.997770000000003,
           30.997770000000003
          ],
          [
           22625.633753000002,
           22625.633753000002
          ],
          [
           50.48273600000001,
           50.48273600000001
          ],
          [
           40.463148000000004,
           40.463148000000004
          ],
          [
           2.889161,
           2.889161
          ],
          [
           93245.02784647641,
           93245.02784647641
          ],
          [
           207.02427621004622,
           207.02427621004622
          ],
          [
           330.3344814364572,
           330.3344814364572
          ],
          [
           671.0285615863731,
           671.0285615863731
          ],
          [
           6049.556360816416,
           6049.556360816416
          ],
          [
           9210.915804524799,
           9210.915804524799
          ],
          [
           404.9162213935203,
           404.9162213935203
          ],
          [
           62499.4148000517,
           62499.4148000517
          ],
          [
           16967.973523158485,
           16967.973523158485
          ],
          [
           1959.8586012011183,
           1959.8586012011183
          ],
          [
           13257.510759687266,
           13257.510759687266
          ],
          [
           70166.52341433727,
           70166.52341433727
          ]
         ],
         "domain": {
          "x": [
           0,
           1
          ],
          "y": [
           0,
           1
          ]
         },
         "hovertemplate": "labels=%{label}<br>IMPORT (MILLION RM)_sum=%{value}<br>parent=%{parent}<br>id=%{id}<br>IMPORT (MILLION RM)=%{color}<extra></extra>",
         "ids": [
          "WORLD/ASIA (EX. NEAR EAST)         /AFGHANISTAN",
          "WORLD/EASTERN EUROPE                     /ALBANIA",
          "WORLD/NORTHERN AFRICA                    /ALGERIA",
          "WORLD/OCEANIA                            /AMERICAN SAMOA",
          "WORLD/WESTERN EUROPE                     /ANDORRA",
          "WORLD/SUB-SAHARAN AFRICA                 /ANGOLA",
          "WORLD/LATIN AMER. & CARIB    /ARGENTINA",
          "WORLD/C.W. OF IND. STATES /ARMENIA",
          "WORLD/LATIN AMER. & CARIB    /ARUBA",
          "WORLD/OCEANIA                            /AUSTRALIA",
          "WORLD/WESTERN EUROPE                     /AUSTRIA",
          "WORLD/C.W. OF IND. STATES /AZERBAIJAN",
          "WORLD/NEAR EAST                          /BAHRAIN",
          "WORLD/ASIA (EX. NEAR EAST)         /BANGLADESH",
          "WORLD/LATIN AMER. & CARIB    /BARBADOS",
          "WORLD/C.W. OF IND. STATES /BELARUS",
          "WORLD/WESTERN EUROPE                     /BELGIUM",
          "WORLD/LATIN AMER. & CARIB    /BELIZE",
          "WORLD/SUB-SAHARAN AFRICA                 /BENIN",
          "WORLD/NORTHERN AMERICA                   /BERMUDA",
          "WORLD/ASIA (EX. NEAR EAST)         /BHUTAN",
          "WORLD/SUB-SAHARAN AFRICA                 /BOTSWANA",
          "WORLD/LATIN AMER. & CARIB    /BRAZIL",
          "WORLD/EASTERN EUROPE                     /BULGARIA",
          "WORLD/SUB-SAHARAN AFRICA                 /BURKINA FASO",
          "WORLD/ASIA (EX. NEAR EAST)         /CAMBODIA",
          "WORLD/SUB-SAHARAN AFRICA                 /CAMEROON",
          "WORLD/NORTHERN AMERICA                   /CANADA",
          "WORLD/LATIN AMER. & CARIB    /CAYMAN ISLANDS",
          "WORLD/SUB-SAHARAN AFRICA                 /CHAD",
          "WORLD/LATIN AMER. & CARIB    /CHILE",
          "WORLD/ASIA (EX. NEAR EAST)         /CHINA",
          "WORLD/LATIN AMER. & CARIB    /COLOMBIA",
          "WORLD/LATIN AMER. & CARIB    /COSTA RICA",
          "WORLD/SUB-SAHARAN AFRICA                 /COTE D'IVOIRE",
          "WORLD/EASTERN EUROPE                     /CROATIA",
          "WORLD/LATIN AMER. & CARIB    /CUBA",
          "WORLD/NEAR EAST                          /CYPRUS",
          "WORLD/EASTERN EUROPE                     /CZECH REPUBLIC",
          "WORLD/WESTERN EUROPE                     /DENMARK",
          "WORLD/SUB-SAHARAN AFRICA                 /DJIBOUTI",
          "WORLD/LATIN AMER. & CARIB    /DOMINICA",
          "WORLD/LATIN AMER. & CARIB    /DOMINICAN REPUBLIC",
          "WORLD/LATIN AMER. & CARIB    /ECUADOR",
          "WORLD/NORTHERN AFRICA                    /EGYPT",
          "WORLD/LATIN AMER. & CARIB    /EL SALVADOR",
          "WORLD/SUB-SAHARAN AFRICA                 /EQUATORIAL GUINEA",
          "WORLD/BALTICS                            /ESTONIA",
          "WORLD/SUB-SAHARAN AFRICA                 /ETHIOPIA",
          "WORLD/WESTERN EUROPE                     /FAROE ISLANDS",
          "WORLD/OCEANIA                            /FIJI",
          "WORLD/WESTERN EUROPE                     /FINLAND",
          "WORLD/WESTERN EUROPE                     /FRANCE",
          "WORLD/SUB-SAHARAN AFRICA                 /GABON",
          "WORLD/C.W. OF IND. STATES /GEORGIA",
          "WORLD/WESTERN EUROPE                     /GERMANY",
          "WORLD/SUB-SAHARAN AFRICA                 /GHANA",
          "WORLD/WESTERN EUROPE                     /GIBRALTAR",
          "WORLD/WESTERN EUROPE                     /GREECE",
          "WORLD/NORTHERN AMERICA                   /GREENLAND",
          "WORLD/LATIN AMER. & CARIB    /GRENADA",
          "WORLD/LATIN AMER. & CARIB    /GUADELOUPE",
          "WORLD/OCEANIA                            /GUAM",
          "WORLD/LATIN AMER. & CARIB    /GUATEMALA",
          "WORLD/SUB-SAHARAN AFRICA                 /GUINEA",
          "WORLD/SUB-SAHARAN AFRICA                 /GUINEA-BISSAU",
          "WORLD/LATIN AMER. & CARIB    /GUYANA",
          "WORLD/LATIN AMER. & CARIB    /HAITI",
          "WORLD/LATIN AMER. & CARIB    /HONDURAS",
          "WORLD/ASIA (EX. NEAR EAST)         /HONG KONG",
          "WORLD/EASTERN EUROPE                     /HUNGARY",
          "WORLD/WESTERN EUROPE                     /ICELAND",
          "WORLD/ASIA (EX. NEAR EAST)         /INDIA",
          "WORLD/ASIA (EX. NEAR EAST)         /INDONESIA",
          "WORLD/NEAR EAST                          /IRAQ",
          "WORLD/WESTERN EUROPE                     /IRELAND",
          "WORLD/WESTERN EUROPE                     /ITALY",
          "WORLD/LATIN AMER. & CARIB    /JAMAICA",
          "WORLD/ASIA (EX. NEAR EAST)         /JAPAN",
          "WORLD/NEAR EAST                          /JORDAN",
          "WORLD/C.W. OF IND. STATES /KAZAKHSTAN",
          "WORLD/SUB-SAHARAN AFRICA                 /KENYA",
          "WORLD/OCEANIA                            /KIRIBATI",
          "WORLD/NEAR EAST                          /KUWAIT",
          "WORLD/C.W. OF IND. STATES /KYRGYZSTAN",
          "WORLD/BALTICS                            /LATVIA",
          "WORLD/NEAR EAST                          /LEBANON",
          "WORLD/SUB-SAHARAN AFRICA                 /LESOTHO",
          "WORLD/SUB-SAHARAN AFRICA                 /LIBERIA",
          "WORLD/NORTHERN AFRICA                    /LIBYA",
          "WORLD/WESTERN EUROPE                     /LIECHTENSTEIN",
          "WORLD/BALTICS                            /LITHUANIA",
          "WORLD/WESTERN EUROPE                     /LUXEMBOURG",
          "WORLD/SUB-SAHARAN AFRICA                 /MADAGASCAR",
          "WORLD/SUB-SAHARAN AFRICA                 /MALAWI",
          "WORLD/ASIA (EX. NEAR EAST)         /MALAYSIA",
          "WORLD/ASIA (EX. NEAR EAST)         /MALDIVES",
          "WORLD/SUB-SAHARAN AFRICA                 /MALI",
          "WORLD/WESTERN EUROPE                     /MALTA",
          "WORLD/OCEANIA                            /MARSHALL ISLANDS",
          "WORLD/LATIN AMER. & CARIB    /MARTINIQUE",
          "WORLD/SUB-SAHARAN AFRICA                 /MAURITANIA",
          "WORLD/SUB-SAHARAN AFRICA                 /MAURITIUS",
          "WORLD/LATIN AMER. & CARIB    /MEXICO",
          "WORLD/WESTERN EUROPE                     /MONACO",
          "WORLD/ASIA (EX. NEAR EAST)         /MONGOLIA",
          "WORLD/NORTHERN AFRICA                    /MOROCCO",
          "WORLD/SUB-SAHARAN AFRICA                 /MOZAMBIQUE",
          "WORLD/SUB-SAHARAN AFRICA                 /NAMIBIA",
          "WORLD/OCEANIA                            /NAURU",
          "WORLD/ASIA (EX. NEAR EAST)         /NEPAL",
          "WORLD/WESTERN EUROPE                     /NETHERLANDS",
          "WORLD/OCEANIA                            /NEW CALEDONIA",
          "WORLD/OCEANIA                            /NEW ZEALAND",
          "WORLD/LATIN AMER. & CARIB    /NICARAGUA",
          "WORLD/SUB-SAHARAN AFRICA                 /NIGER",
          "WORLD/SUB-SAHARAN AFRICA                 /NIGERIA",
          "WORLD/WESTERN EUROPE                     /NORWAY",
          "WORLD/NEAR EAST                          /OMAN",
          "WORLD/ASIA (EX. NEAR EAST)         /PAKISTAN",
          "WORLD/LATIN AMER. & CARIB    /PANAMA",
          "WORLD/OCEANIA                            /PAPUA NEW GUINEA",
          "WORLD/LATIN AMER. & CARIB    /PARAGUAY",
          "WORLD/LATIN AMER. & CARIB    /PERU",
          "WORLD/ASIA (EX. NEAR EAST)         /PHILIPPINES",
          "WORLD/EASTERN EUROPE                     /POLAND",
          "WORLD/WESTERN EUROPE                     /PORTUGAL",
          "WORLD/LATIN AMER. & CARIB    /PUERTO RICO",
          "WORLD/NEAR EAST                          /QATAR",
          "WORLD/SUB-SAHARAN AFRICA                 /REUNION",
          "WORLD/EASTERN EUROPE                     /ROMANIA",
          "WORLD/SUB-SAHARAN AFRICA                 /RWANDA",
          "WORLD/WESTERN EUROPE                     /SAN MARINO",
          "WORLD/NEAR EAST                          /SAUDI ARABIA",
          "WORLD/SUB-SAHARAN AFRICA                 /SENEGAL",
          "WORLD/EASTERN EUROPE                     /SERBIA",
          "WORLD/SUB-SAHARAN AFRICA                 /SEYCHELLES",
          "WORLD/SUB-SAHARAN AFRICA                 /SIERRA LEONE",
          "WORLD/ASIA (EX. NEAR EAST)         /SINGAPORE",
          "WORLD/EASTERN EUROPE                     /SLOVAKIA",
          "WORLD/EASTERN EUROPE                     /SLOVENIA",
          "WORLD/OCEANIA                            /SOLOMON ISLANDS",
          "WORLD/SUB-SAHARAN AFRICA                 /SOMALIA",
          "WORLD/SUB-SAHARAN AFRICA                 /SOUTH AFRICA",
          "WORLD/WESTERN EUROPE                     /SPAIN",
          "WORLD/ASIA (EX. NEAR EAST)         /SRI LANKA",
          "WORLD/SUB-SAHARAN AFRICA                 /SUDAN",
          "WORLD/LATIN AMER. & CARIB    /SURINAME",
          "WORLD/SUB-SAHARAN AFRICA                 /SWAZILAND",
          "WORLD/WESTERN EUROPE                     /SWEDEN",
          "WORLD/WESTERN EUROPE                     /SWITZERLAND",
          "WORLD/C.W. OF IND. STATES /TAJIKISTAN",
          "WORLD/ASIA (EX. NEAR EAST)         /THAILAND",
          "WORLD/SUB-SAHARAN AFRICA                 /TOGO",
          "WORLD/NORTHERN AFRICA                    /TUNISIA",
          "WORLD/NEAR EAST                          /TURKEY",
          "WORLD/C.W. OF IND. STATES /TURKMENISTAN",
          "WORLD/OCEANIA                            /TUVALU",
          "WORLD/SUB-SAHARAN AFRICA                 /UGANDA",
          "WORLD/C.W. OF IND. STATES /UKRAINE",
          "WORLD/NEAR EAST                          /UNITED ARAB EMIRATES",
          "WORLD/WESTERN EUROPE                     /UNITED KINGDOM",
          "WORLD/NORTHERN AMERICA                   /UNITED STATES",
          "WORLD/LATIN AMER. & CARIB    /URUGUAY",
          "WORLD/C.W. OF IND. STATES /UZBEKISTAN",
          "WORLD/OCEANIA                            /VANUATU",
          "WORLD/ASIA (EX. NEAR EAST)         /VIET NAM",
          "WORLD/NEAR EAST                          /YEMEN",
          "WORLD/SUB-SAHARAN AFRICA                 /ZAMBIA",
          "WORLD/SUB-SAHARAN AFRICA                 /ZIMBABWE",
          "WORLD/ASIA (EX. NEAR EAST)         ",
          "WORLD/BALTICS                            ",
          "WORLD/C.W. OF IND. STATES ",
          "WORLD/EASTERN EUROPE                     ",
          "WORLD/LATIN AMER. & CARIB    ",
          "WORLD/NEAR EAST                          ",
          "WORLD/NORTHERN AFRICA                    ",
          "WORLD/NORTHERN AMERICA                   ",
          "WORLD/OCEANIA                            ",
          "WORLD/SUB-SAHARAN AFRICA                 ",
          "WORLD/WESTERN EUROPE                     ",
          "WORLD"
         ],
         "labels": [
          "AFGHANISTAN",
          "ALBANIA",
          "ALGERIA",
          "AMERICAN SAMOA",
          "ANDORRA",
          "ANGOLA",
          "ARGENTINA",
          "ARMENIA",
          "ARUBA",
          "AUSTRALIA",
          "AUSTRIA",
          "AZERBAIJAN",
          "BAHRAIN",
          "BANGLADESH",
          "BARBADOS",
          "BELARUS",
          "BELGIUM",
          "BELIZE",
          "BENIN",
          "BERMUDA",
          "BHUTAN",
          "BOTSWANA",
          "BRAZIL",
          "BULGARIA",
          "BURKINA FASO",
          "CAMBODIA",
          "CAMEROON",
          "CANADA",
          "CAYMAN ISLANDS",
          "CHAD",
          "CHILE",
          "CHINA",
          "COLOMBIA",
          "COSTA RICA",
          "COTE D'IVOIRE",
          "CROATIA",
          "CUBA",
          "CYPRUS",
          "CZECH REPUBLIC",
          "DENMARK",
          "DJIBOUTI",
          "DOMINICA",
          "DOMINICAN REPUBLIC",
          "ECUADOR",
          "EGYPT",
          "EL SALVADOR",
          "EQUATORIAL GUINEA",
          "ESTONIA",
          "ETHIOPIA",
          "FAROE ISLANDS",
          "FIJI",
          "FINLAND",
          "FRANCE",
          "GABON",
          "GEORGIA",
          "GERMANY",
          "GHANA",
          "GIBRALTAR",
          "GREECE",
          "GREENLAND",
          "GRENADA",
          "GUADELOUPE",
          "GUAM",
          "GUATEMALA",
          "GUINEA",
          "GUINEA-BISSAU",
          "GUYANA",
          "HAITI",
          "HONDURAS",
          "HONG KONG",
          "HUNGARY",
          "ICELAND",
          "INDIA",
          "INDONESIA",
          "IRAQ",
          "IRELAND",
          "ITALY",
          "JAMAICA",
          "JAPAN",
          "JORDAN",
          "KAZAKHSTAN",
          "KENYA",
          "KIRIBATI",
          "KUWAIT",
          "KYRGYZSTAN",
          "LATVIA",
          "LEBANON",
          "LESOTHO",
          "LIBERIA",
          "LIBYA",
          "LIECHTENSTEIN",
          "LITHUANIA",
          "LUXEMBOURG",
          "MADAGASCAR",
          "MALAWI",
          "MALAYSIA",
          "MALDIVES",
          "MALI",
          "MALTA",
          "MARSHALL ISLANDS",
          "MARTINIQUE",
          "MAURITANIA",
          "MAURITIUS",
          "MEXICO",
          "MONACO",
          "MONGOLIA",
          "MOROCCO",
          "MOZAMBIQUE",
          "NAMIBIA",
          "NAURU",
          "NEPAL",
          "NETHERLANDS",
          "NEW CALEDONIA",
          "NEW ZEALAND",
          "NICARAGUA",
          "NIGER",
          "NIGERIA",
          "NORWAY",
          "OMAN",
          "PAKISTAN",
          "PANAMA",
          "PAPUA NEW GUINEA",
          "PARAGUAY",
          "PERU",
          "PHILIPPINES",
          "POLAND",
          "PORTUGAL",
          "PUERTO RICO",
          "QATAR",
          "REUNION",
          "ROMANIA",
          "RWANDA",
          "SAN MARINO",
          "SAUDI ARABIA",
          "SENEGAL",
          "SERBIA",
          "SEYCHELLES",
          "SIERRA LEONE",
          "SINGAPORE",
          "SLOVAKIA",
          "SLOVENIA",
          "SOLOMON ISLANDS",
          "SOMALIA",
          "SOUTH AFRICA",
          "SPAIN",
          "SRI LANKA",
          "SUDAN",
          "SURINAME",
          "SWAZILAND",
          "SWEDEN",
          "SWITZERLAND",
          "TAJIKISTAN",
          "THAILAND",
          "TOGO",
          "TUNISIA",
          "TURKEY",
          "TURKMENISTAN",
          "TUVALU",
          "UGANDA",
          "UKRAINE",
          "UNITED ARAB EMIRATES",
          "UNITED KINGDOM",
          "UNITED STATES",
          "URUGUAY",
          "UZBEKISTAN",
          "VANUATU",
          "VIET NAM",
          "YEMEN",
          "ZAMBIA",
          "ZIMBABWE",
          "ASIA (EX. NEAR EAST)         ",
          "BALTICS                            ",
          "C.W. OF IND. STATES ",
          "EASTERN EUROPE                     ",
          "LATIN AMER. & CARIB    ",
          "NEAR EAST                          ",
          "NORTHERN AFRICA                    ",
          "NORTHERN AMERICA                   ",
          "OCEANIA                            ",
          "SUB-SAHARAN AFRICA                 ",
          "WESTERN EUROPE                     ",
          "WORLD"
         ],
         "marker": {
          "coloraxis": "coloraxis",
          "colors": [
           1.654302,
           1.2669569999999999,
           9.235426,
           0.05964800000000001,
           1.385539,
           6.831120999999999,
           4999.758647999999,
           0.33479600000000004,
           0.082384,
           20091.811555999997,
           2335.512688,
           3.174426,
           557.9512359999999,
           949.7747740000002,
           65.263919,
           180.284182,
           2703.730552,
           0.101217,
           34.265487,
           0.008017999999999999,
           1.0562680000000002,
           0.009032,
           9046.773952000001,
           125.95882100000001,
           21.968604,
           708.779845,
           346.26512799999995,
           3046.575907,
           0.15037799999999998,
           0.482388,
           786.2743650000001,
           164444.69400600006,
           250.46670699999999,
           83.77063700000001,
           2539.2103520000005,
           35.10192,
           4.870734,
           40.05049799999999,
           963.4228989999997,
           842.4396530000001,
           0.6506879999999999,
           0.176351,
           22.386422999999997,
           486.607476,
           570.6178229999999,
           2.373049,
           45.22348399999999,
           34.094804,
           10.167029000000001,
           0.011558,
           19.485222000000004,
           746.495524,
           12728.053628000001,
           1342.0794649999998,
           6.36535,
           26277.537614999994,
           908.4099380000002,
           0.009598999999999998,
           79.48540199999997,
           0.305708,
           0.046812,
           0.8414969999999999,
           0.07536399999999999,
           249.51422100000005,
           50.97719900000001,
           0.092317,
           4.406455,
           1.4685709999999996,
           9.636401000000001,
           14010.570346,
           741.9685410000002,
           7.2733680000000005,
           26853.001515000007,
           37879.432262999995,
           1798.750081,
           3592.521797,
           7216.7465919999995,
           3.1939919999999997,
           63610.713632,
           242.638173,
           40.1304,
           32.377767,
           15.058282000000002,
           1122.1933209999997,
           0.208235,
           115.89105900000001,
           27.33878099999999,
           0.067234,
           53.029738,
           341.167328,
           0.7140460000000001,
           268.35231600000003,
           69.97925300000001,
           22.852432999999998,
           7.544574,
           122.491225,
           2.852031,
           1.9326709999999998,
           164.13433,
           2.030423,
           0.268444,
           0.369907,
           16.889743,
           1401.668981,
           0.119363,
           0.145049,
           113.92926099999997,
           18.467291000000003,
           1.8867590000000003,
           0.523972,
           2.424665,
           7851.8314740000005,
           0.09191200000000001,
           3358.581938,
           51.584349,
           0.0035399999999999997,
           832.848404,
           1966.2667209999995,
           1318.7940879999994,
           719.667912,
           10.538392,
           945.1984650000003,
           29.756913000000004,
           590.3334379999999,
           8976.101706000001,
           657.6839260000002,
           252.36916300000001,
           52.016051999999995,
           2115.596298000001,
           1.7798859999999999,
           142.375292,
           62.447176999999996,
           0.010358,
           10689.177725999996,
           8.09202,
           7.209305999999999,
           14.76051,
           0.9277460000000001,
           92729.02029,
           147.37247000000008,
           145.60843500000004,
           44.48595800000002,
           0.123332,
           2957.2864999999997,
           2533.8573619999997,
           298.76115200000004,
           28.770970000000002,
           1.595901,
           0.6406029999999999,
           2086.5880839999995,
           11852.615357999997,
           0.05988,
           48141.21756199999,
           10.09879,
           131.80226099999993,
           1551.4043049999998,
           12.219512999999997,
           0.0014219999999999999,
           98.43967599999998,
           441.40414300000015,
           13161.466574999999,
           6726.963076,
           65274.57193699999,
           53.01002799999999,
           9.802361999999997,
           30.997770000000003,
           22625.633753000002,
           50.48273600000001,
           40.463148000000004,
           2.889161,
           93245.02784647641,
           207.02427621004622,
           330.3344814364572,
           671.0285615863731,
           6049.556360816416,
           9210.915804524799,
           404.9162213935203,
           62499.4148000517,
           16967.973523158485,
           1959.8586012011183,
           13257.510759687266,
           70166.52341433727
          ]
         },
         "name": "",
         "parents": [
          "WORLD/ASIA (EX. NEAR EAST)         ",
          "WORLD/EASTERN EUROPE                     ",
          "WORLD/NORTHERN AFRICA                    ",
          "WORLD/OCEANIA                            ",
          "WORLD/WESTERN EUROPE                     ",
          "WORLD/SUB-SAHARAN AFRICA                 ",
          "WORLD/LATIN AMER. & CARIB    ",
          "WORLD/C.W. OF IND. STATES ",
          "WORLD/LATIN AMER. & CARIB    ",
          "WORLD/OCEANIA                            ",
          "WORLD/WESTERN EUROPE                     ",
          "WORLD/C.W. OF IND. STATES ",
          "WORLD/NEAR EAST                          ",
          "WORLD/ASIA (EX. NEAR EAST)         ",
          "WORLD/LATIN AMER. & CARIB    ",
          "WORLD/C.W. OF IND. STATES ",
          "WORLD/WESTERN EUROPE                     ",
          "WORLD/LATIN AMER. & CARIB    ",
          "WORLD/SUB-SAHARAN AFRICA                 ",
          "WORLD/NORTHERN AMERICA                   ",
          "WORLD/ASIA (EX. NEAR EAST)         ",
          "WORLD/SUB-SAHARAN AFRICA                 ",
          "WORLD/LATIN AMER. & CARIB    ",
          "WORLD/EASTERN EUROPE                     ",
          "WORLD/SUB-SAHARAN AFRICA                 ",
          "WORLD/ASIA (EX. NEAR EAST)         ",
          "WORLD/SUB-SAHARAN AFRICA                 ",
          "WORLD/NORTHERN AMERICA                   ",
          "WORLD/LATIN AMER. & CARIB    ",
          "WORLD/SUB-SAHARAN AFRICA                 ",
          "WORLD/LATIN AMER. & CARIB    ",
          "WORLD/ASIA (EX. NEAR EAST)         ",
          "WORLD/LATIN AMER. & CARIB    ",
          "WORLD/LATIN AMER. & CARIB    ",
          "WORLD/SUB-SAHARAN AFRICA                 ",
          "WORLD/EASTERN EUROPE                     ",
          "WORLD/LATIN AMER. & CARIB    ",
          "WORLD/NEAR EAST                          ",
          "WORLD/EASTERN EUROPE                     ",
          "WORLD/WESTERN EUROPE                     ",
          "WORLD/SUB-SAHARAN AFRICA                 ",
          "WORLD/LATIN AMER. & CARIB    ",
          "WORLD/LATIN AMER. & CARIB    ",
          "WORLD/LATIN AMER. & CARIB    ",
          "WORLD/NORTHERN AFRICA                    ",
          "WORLD/LATIN AMER. & CARIB    ",
          "WORLD/SUB-SAHARAN AFRICA                 ",
          "WORLD/BALTICS                            ",
          "WORLD/SUB-SAHARAN AFRICA                 ",
          "WORLD/WESTERN EUROPE                     ",
          "WORLD/OCEANIA                            ",
          "WORLD/WESTERN EUROPE                     ",
          "WORLD/WESTERN EUROPE                     ",
          "WORLD/SUB-SAHARAN AFRICA                 ",
          "WORLD/C.W. OF IND. STATES ",
          "WORLD/WESTERN EUROPE                     ",
          "WORLD/SUB-SAHARAN AFRICA                 ",
          "WORLD/WESTERN EUROPE                     ",
          "WORLD/WESTERN EUROPE                     ",
          "WORLD/NORTHERN AMERICA                   ",
          "WORLD/LATIN AMER. & CARIB    ",
          "WORLD/LATIN AMER. & CARIB    ",
          "WORLD/OCEANIA                            ",
          "WORLD/LATIN AMER. & CARIB    ",
          "WORLD/SUB-SAHARAN AFRICA                 ",
          "WORLD/SUB-SAHARAN AFRICA                 ",
          "WORLD/LATIN AMER. & CARIB    ",
          "WORLD/LATIN AMER. & CARIB    ",
          "WORLD/LATIN AMER. & CARIB    ",
          "WORLD/ASIA (EX. NEAR EAST)         ",
          "WORLD/EASTERN EUROPE                     ",
          "WORLD/WESTERN EUROPE                     ",
          "WORLD/ASIA (EX. NEAR EAST)         ",
          "WORLD/ASIA (EX. NEAR EAST)         ",
          "WORLD/NEAR EAST                          ",
          "WORLD/WESTERN EUROPE                     ",
          "WORLD/WESTERN EUROPE                     ",
          "WORLD/LATIN AMER. & CARIB    ",
          "WORLD/ASIA (EX. NEAR EAST)         ",
          "WORLD/NEAR EAST                          ",
          "WORLD/C.W. OF IND. STATES ",
          "WORLD/SUB-SAHARAN AFRICA                 ",
          "WORLD/OCEANIA                            ",
          "WORLD/NEAR EAST                          ",
          "WORLD/C.W. OF IND. STATES ",
          "WORLD/BALTICS                            ",
          "WORLD/NEAR EAST                          ",
          "WORLD/SUB-SAHARAN AFRICA                 ",
          "WORLD/SUB-SAHARAN AFRICA                 ",
          "WORLD/NORTHERN AFRICA                    ",
          "WORLD/WESTERN EUROPE                     ",
          "WORLD/BALTICS                            ",
          "WORLD/WESTERN EUROPE                     ",
          "WORLD/SUB-SAHARAN AFRICA                 ",
          "WORLD/SUB-SAHARAN AFRICA                 ",
          "WORLD/ASIA (EX. NEAR EAST)         ",
          "WORLD/ASIA (EX. NEAR EAST)         ",
          "WORLD/SUB-SAHARAN AFRICA                 ",
          "WORLD/WESTERN EUROPE                     ",
          "WORLD/OCEANIA                            ",
          "WORLD/LATIN AMER. & CARIB    ",
          "WORLD/SUB-SAHARAN AFRICA                 ",
          "WORLD/SUB-SAHARAN AFRICA                 ",
          "WORLD/LATIN AMER. & CARIB    ",
          "WORLD/WESTERN EUROPE                     ",
          "WORLD/ASIA (EX. NEAR EAST)         ",
          "WORLD/NORTHERN AFRICA                    ",
          "WORLD/SUB-SAHARAN AFRICA                 ",
          "WORLD/SUB-SAHARAN AFRICA                 ",
          "WORLD/OCEANIA                            ",
          "WORLD/ASIA (EX. NEAR EAST)         ",
          "WORLD/WESTERN EUROPE                     ",
          "WORLD/OCEANIA                            ",
          "WORLD/OCEANIA                            ",
          "WORLD/LATIN AMER. & CARIB    ",
          "WORLD/SUB-SAHARAN AFRICA                 ",
          "WORLD/SUB-SAHARAN AFRICA                 ",
          "WORLD/WESTERN EUROPE                     ",
          "WORLD/NEAR EAST                          ",
          "WORLD/ASIA (EX. NEAR EAST)         ",
          "WORLD/LATIN AMER. & CARIB    ",
          "WORLD/OCEANIA                            ",
          "WORLD/LATIN AMER. & CARIB    ",
          "WORLD/LATIN AMER. & CARIB    ",
          "WORLD/ASIA (EX. NEAR EAST)         ",
          "WORLD/EASTERN EUROPE                     ",
          "WORLD/WESTERN EUROPE                     ",
          "WORLD/LATIN AMER. & CARIB    ",
          "WORLD/NEAR EAST                          ",
          "WORLD/SUB-SAHARAN AFRICA                 ",
          "WORLD/EASTERN EUROPE                     ",
          "WORLD/SUB-SAHARAN AFRICA                 ",
          "WORLD/WESTERN EUROPE                     ",
          "WORLD/NEAR EAST                          ",
          "WORLD/SUB-SAHARAN AFRICA                 ",
          "WORLD/EASTERN EUROPE                     ",
          "WORLD/SUB-SAHARAN AFRICA                 ",
          "WORLD/SUB-SAHARAN AFRICA                 ",
          "WORLD/ASIA (EX. NEAR EAST)         ",
          "WORLD/EASTERN EUROPE                     ",
          "WORLD/EASTERN EUROPE                     ",
          "WORLD/OCEANIA                            ",
          "WORLD/SUB-SAHARAN AFRICA                 ",
          "WORLD/SUB-SAHARAN AFRICA                 ",
          "WORLD/WESTERN EUROPE                     ",
          "WORLD/ASIA (EX. NEAR EAST)         ",
          "WORLD/SUB-SAHARAN AFRICA                 ",
          "WORLD/LATIN AMER. & CARIB    ",
          "WORLD/SUB-SAHARAN AFRICA                 ",
          "WORLD/WESTERN EUROPE                     ",
          "WORLD/WESTERN EUROPE                     ",
          "WORLD/C.W. OF IND. STATES ",
          "WORLD/ASIA (EX. NEAR EAST)         ",
          "WORLD/SUB-SAHARAN AFRICA                 ",
          "WORLD/NORTHERN AFRICA                    ",
          "WORLD/NEAR EAST                          ",
          "WORLD/C.W. OF IND. STATES ",
          "WORLD/OCEANIA                            ",
          "WORLD/SUB-SAHARAN AFRICA                 ",
          "WORLD/C.W. OF IND. STATES ",
          "WORLD/NEAR EAST                          ",
          "WORLD/WESTERN EUROPE                     ",
          "WORLD/NORTHERN AMERICA                   ",
          "WORLD/LATIN AMER. & CARIB    ",
          "WORLD/C.W. OF IND. STATES ",
          "WORLD/OCEANIA                            ",
          "WORLD/ASIA (EX. NEAR EAST)         ",
          "WORLD/NEAR EAST                          ",
          "WORLD/SUB-SAHARAN AFRICA                 ",
          "WORLD/SUB-SAHARAN AFRICA                 ",
          "WORLD",
          "WORLD",
          "WORLD",
          "WORLD",
          "WORLD",
          "WORLD",
          "WORLD",
          "WORLD",
          "WORLD",
          "WORLD",
          "WORLD",
          ""
         ],
         "type": "treemap",
         "values": [
          1.654302,
          1.2669569999999999,
          9.235426,
          0.05964800000000001,
          1.385539,
          6.831120999999999,
          4999.758647999999,
          0.33479600000000004,
          0.082384,
          20091.811555999997,
          2335.512688,
          3.174426,
          557.9512359999999,
          949.7747740000002,
          65.263919,
          180.284182,
          2703.730552,
          0.101217,
          34.265487,
          0.008017999999999999,
          1.0562680000000002,
          0.009032,
          9046.773952000001,
          125.95882100000001,
          21.968604,
          708.779845,
          346.26512799999995,
          3046.575907,
          0.15037799999999998,
          0.482388,
          786.2743650000001,
          164444.69400600006,
          250.46670699999999,
          83.77063700000001,
          2539.2103520000005,
          35.10192,
          4.870734,
          40.05049799999999,
          963.4228989999997,
          842.4396530000001,
          0.6506879999999999,
          0.176351,
          22.386422999999997,
          486.607476,
          570.6178229999999,
          2.373049,
          45.22348399999999,
          34.094804,
          10.167029000000001,
          0.011558,
          19.485222000000004,
          746.495524,
          12728.053628,
          1342.0794649999998,
          6.36535,
          26277.537614999994,
          908.4099380000002,
          0.009598999999999998,
          79.48540199999997,
          0.305708,
          0.04681199999999999,
          0.8414969999999999,
          0.07536399999999999,
          249.51422100000005,
          50.97719900000001,
          0.092317,
          4.406455,
          1.4685709999999998,
          9.636401000000001,
          14010.570346,
          741.9685410000002,
          7.2733680000000005,
          26853.001515000007,
          37879.432262999995,
          1798.750081,
          3592.521797,
          7216.7465919999995,
          3.1939919999999997,
          63610.713632,
          242.638173,
          40.1304,
          32.377767,
          15.058282000000002,
          1122.1933209999997,
          0.20823500000000003,
          115.89105900000001,
          27.33878099999999,
          0.067234,
          53.029738,
          341.167328,
          0.7140460000000001,
          268.35231600000003,
          69.97925300000001,
          22.852432999999998,
          7.544574,
          122.491225,
          2.852031,
          1.9326709999999998,
          164.13433,
          2.030423,
          0.268444,
          0.369907,
          16.889743,
          1401.668981,
          0.119363,
          0.145049,
          113.92926099999997,
          18.467291000000003,
          1.8867590000000003,
          0.523972,
          2.424665,
          7851.8314740000005,
          0.09191200000000001,
          3358.581938,
          51.584349,
          0.0035399999999999997,
          832.848404,
          1966.2667209999995,
          1318.7940879999994,
          719.667912,
          10.538392,
          945.1984650000003,
          29.756913000000004,
          590.3334379999999,
          8976.101706000001,
          657.6839260000002,
          252.36916300000001,
          52.016051999999995,
          2115.596298000001,
          1.7798859999999999,
          142.375292,
          62.447176999999996,
          0.010358,
          10689.177725999996,
          8.09202,
          7.209305999999999,
          14.76051,
          0.9277460000000001,
          92729.02029,
          147.37247000000008,
          145.60843500000004,
          44.48595800000002,
          0.123332,
          2957.2864999999997,
          2533.8573619999997,
          298.76115200000004,
          28.770970000000002,
          1.595901,
          0.6406029999999999,
          2086.5880839999995,
          11852.615358,
          0.05988,
          48141.21756199999,
          10.09879,
          131.80226099999993,
          1551.4043049999998,
          12.219512999999997,
          0.001422,
          98.43967599999998,
          441.4041430000001,
          13161.466574999999,
          6726.963076,
          65274.57193699999,
          53.01002799999999,
          9.802361999999997,
          30.997770000000003,
          22625.633753000002,
          50.48273600000001,
          40.463148000000004,
          2.889161,
          482077.992296,
          418.3381790000001,
          693.9832870000001,
          2967.968567000001,
          18208.936686999998,
          32675.843817999994,
          1166.7520989999998,
          68321.46157,
          24508.401932,
          9521.621812,
          90036.65210299997,
          730597.9523499998
         ]
        }
       ],
       "layout": {
        "coloraxis": {
         "colorbar": {
          "title": {
           "text": "IMPORT (MILLION RM)"
          }
         },
         "colorscale": [
          [
           0,
           "rgb(103,0,31)"
          ],
          [
           0.1,
           "rgb(178,24,43)"
          ],
          [
           0.2,
           "rgb(214,96,77)"
          ],
          [
           0.3,
           "rgb(244,165,130)"
          ],
          [
           0.4,
           "rgb(253,219,199)"
          ],
          [
           0.5,
           "rgb(247,247,247)"
          ],
          [
           0.6,
           "rgb(209,229,240)"
          ],
          [
           0.7,
           "rgb(146,197,222)"
          ],
          [
           0.8,
           "rgb(67,147,195)"
          ],
          [
           0.9,
           "rgb(33,102,172)"
          ],
          [
           1,
           "rgb(5,48,97)"
          ]
         ]
        },
        "legend": {
         "tracegroupgap": 0
        },
        "margin": {
         "t": 60
        },
        "template": {
         "data": {
          "bar": [
           {
            "error_x": {
             "color": "#2a3f5f"
            },
            "error_y": {
             "color": "#2a3f5f"
            },
            "marker": {
             "line": {
              "color": "#E5ECF6",
              "width": 0.5
             }
            },
            "type": "bar"
           }
          ],
          "barpolar": [
           {
            "marker": {
             "line": {
              "color": "#E5ECF6",
              "width": 0.5
             }
            },
            "type": "barpolar"
           }
          ],
          "carpet": [
           {
            "aaxis": {
             "endlinecolor": "#2a3f5f",
             "gridcolor": "white",
             "linecolor": "white",
             "minorgridcolor": "white",
             "startlinecolor": "#2a3f5f"
            },
            "baxis": {
             "endlinecolor": "#2a3f5f",
             "gridcolor": "white",
             "linecolor": "white",
             "minorgridcolor": "white",
             "startlinecolor": "#2a3f5f"
            },
            "type": "carpet"
           }
          ],
          "choropleth": [
           {
            "colorbar": {
             "outlinewidth": 0,
             "ticks": ""
            },
            "type": "choropleth"
           }
          ],
          "contour": [
           {
            "colorbar": {
             "outlinewidth": 0,
             "ticks": ""
            },
            "colorscale": [
             [
              0,
              "#0d0887"
             ],
             [
              0.1111111111111111,
              "#46039f"
             ],
             [
              0.2222222222222222,
              "#7201a8"
             ],
             [
              0.3333333333333333,
              "#9c179e"
             ],
             [
              0.4444444444444444,
              "#bd3786"
             ],
             [
              0.5555555555555556,
              "#d8576b"
             ],
             [
              0.6666666666666666,
              "#ed7953"
             ],
             [
              0.7777777777777778,
              "#fb9f3a"
             ],
             [
              0.8888888888888888,
              "#fdca26"
             ],
             [
              1,
              "#f0f921"
             ]
            ],
            "type": "contour"
           }
          ],
          "contourcarpet": [
           {
            "colorbar": {
             "outlinewidth": 0,
             "ticks": ""
            },
            "type": "contourcarpet"
           }
          ],
          "heatmap": [
           {
            "colorbar": {
             "outlinewidth": 0,
             "ticks": ""
            },
            "colorscale": [
             [
              0,
              "#0d0887"
             ],
             [
              0.1111111111111111,
              "#46039f"
             ],
             [
              0.2222222222222222,
              "#7201a8"
             ],
             [
              0.3333333333333333,
              "#9c179e"
             ],
             [
              0.4444444444444444,
              "#bd3786"
             ],
             [
              0.5555555555555556,
              "#d8576b"
             ],
             [
              0.6666666666666666,
              "#ed7953"
             ],
             [
              0.7777777777777778,
              "#fb9f3a"
             ],
             [
              0.8888888888888888,
              "#fdca26"
             ],
             [
              1,
              "#f0f921"
             ]
            ],
            "type": "heatmap"
           }
          ],
          "heatmapgl": [
           {
            "colorbar": {
             "outlinewidth": 0,
             "ticks": ""
            },
            "colorscale": [
             [
              0,
              "#0d0887"
             ],
             [
              0.1111111111111111,
              "#46039f"
             ],
             [
              0.2222222222222222,
              "#7201a8"
             ],
             [
              0.3333333333333333,
              "#9c179e"
             ],
             [
              0.4444444444444444,
              "#bd3786"
             ],
             [
              0.5555555555555556,
              "#d8576b"
             ],
             [
              0.6666666666666666,
              "#ed7953"
             ],
             [
              0.7777777777777778,
              "#fb9f3a"
             ],
             [
              0.8888888888888888,
              "#fdca26"
             ],
             [
              1,
              "#f0f921"
             ]
            ],
            "type": "heatmapgl"
           }
          ],
          "histogram": [
           {
            "marker": {
             "colorbar": {
              "outlinewidth": 0,
              "ticks": ""
             }
            },
            "type": "histogram"
           }
          ],
          "histogram2d": [
           {
            "colorbar": {
             "outlinewidth": 0,
             "ticks": ""
            },
            "colorscale": [
             [
              0,
              "#0d0887"
             ],
             [
              0.1111111111111111,
              "#46039f"
             ],
             [
              0.2222222222222222,
              "#7201a8"
             ],
             [
              0.3333333333333333,
              "#9c179e"
             ],
             [
              0.4444444444444444,
              "#bd3786"
             ],
             [
              0.5555555555555556,
              "#d8576b"
             ],
             [
              0.6666666666666666,
              "#ed7953"
             ],
             [
              0.7777777777777778,
              "#fb9f3a"
             ],
             [
              0.8888888888888888,
              "#fdca26"
             ],
             [
              1,
              "#f0f921"
             ]
            ],
            "type": "histogram2d"
           }
          ],
          "histogram2dcontour": [
           {
            "colorbar": {
             "outlinewidth": 0,
             "ticks": ""
            },
            "colorscale": [
             [
              0,
              "#0d0887"
             ],
             [
              0.1111111111111111,
              "#46039f"
             ],
             [
              0.2222222222222222,
              "#7201a8"
             ],
             [
              0.3333333333333333,
              "#9c179e"
             ],
             [
              0.4444444444444444,
              "#bd3786"
             ],
             [
              0.5555555555555556,
              "#d8576b"
             ],
             [
              0.6666666666666666,
              "#ed7953"
             ],
             [
              0.7777777777777778,
              "#fb9f3a"
             ],
             [
              0.8888888888888888,
              "#fdca26"
             ],
             [
              1,
              "#f0f921"
             ]
            ],
            "type": "histogram2dcontour"
           }
          ],
          "mesh3d": [
           {
            "colorbar": {
             "outlinewidth": 0,
             "ticks": ""
            },
            "type": "mesh3d"
           }
          ],
          "parcoords": [
           {
            "line": {
             "colorbar": {
              "outlinewidth": 0,
              "ticks": ""
             }
            },
            "type": "parcoords"
           }
          ],
          "pie": [
           {
            "automargin": true,
            "type": "pie"
           }
          ],
          "scatter": [
           {
            "marker": {
             "colorbar": {
              "outlinewidth": 0,
              "ticks": ""
             }
            },
            "type": "scatter"
           }
          ],
          "scatter3d": [
           {
            "line": {
             "colorbar": {
              "outlinewidth": 0,
              "ticks": ""
             }
            },
            "marker": {
             "colorbar": {
              "outlinewidth": 0,
              "ticks": ""
             }
            },
            "type": "scatter3d"
           }
          ],
          "scattercarpet": [
           {
            "marker": {
             "colorbar": {
              "outlinewidth": 0,
              "ticks": ""
             }
            },
            "type": "scattercarpet"
           }
          ],
          "scattergeo": [
           {
            "marker": {
             "colorbar": {
              "outlinewidth": 0,
              "ticks": ""
             }
            },
            "type": "scattergeo"
           }
          ],
          "scattergl": [
           {
            "marker": {
             "colorbar": {
              "outlinewidth": 0,
              "ticks": ""
             }
            },
            "type": "scattergl"
           }
          ],
          "scattermapbox": [
           {
            "marker": {
             "colorbar": {
              "outlinewidth": 0,
              "ticks": ""
             }
            },
            "type": "scattermapbox"
           }
          ],
          "scatterpolar": [
           {
            "marker": {
             "colorbar": {
              "outlinewidth": 0,
              "ticks": ""
             }
            },
            "type": "scatterpolar"
           }
          ],
          "scatterpolargl": [
           {
            "marker": {
             "colorbar": {
              "outlinewidth": 0,
              "ticks": ""
             }
            },
            "type": "scatterpolargl"
           }
          ],
          "scatterternary": [
           {
            "marker": {
             "colorbar": {
              "outlinewidth": 0,
              "ticks": ""
             }
            },
            "type": "scatterternary"
           }
          ],
          "surface": [
           {
            "colorbar": {
             "outlinewidth": 0,
             "ticks": ""
            },
            "colorscale": [
             [
              0,
              "#0d0887"
             ],
             [
              0.1111111111111111,
              "#46039f"
             ],
             [
              0.2222222222222222,
              "#7201a8"
             ],
             [
              0.3333333333333333,
              "#9c179e"
             ],
             [
              0.4444444444444444,
              "#bd3786"
             ],
             [
              0.5555555555555556,
              "#d8576b"
             ],
             [
              0.6666666666666666,
              "#ed7953"
             ],
             [
              0.7777777777777778,
              "#fb9f3a"
             ],
             [
              0.8888888888888888,
              "#fdca26"
             ],
             [
              1,
              "#f0f921"
             ]
            ],
            "type": "surface"
           }
          ],
          "table": [
           {
            "cells": {
             "fill": {
              "color": "#EBF0F8"
             },
             "line": {
              "color": "white"
             }
            },
            "header": {
             "fill": {
              "color": "#C8D4E3"
             },
             "line": {
              "color": "white"
             }
            },
            "type": "table"
           }
          ]
         },
         "layout": {
          "annotationdefaults": {
           "arrowcolor": "#2a3f5f",
           "arrowhead": 0,
           "arrowwidth": 1
          },
          "coloraxis": {
           "colorbar": {
            "outlinewidth": 0,
            "ticks": ""
           }
          },
          "colorscale": {
           "diverging": [
            [
             0,
             "#8e0152"
            ],
            [
             0.1,
             "#c51b7d"
            ],
            [
             0.2,
             "#de77ae"
            ],
            [
             0.3,
             "#f1b6da"
            ],
            [
             0.4,
             "#fde0ef"
            ],
            [
             0.5,
             "#f7f7f7"
            ],
            [
             0.6,
             "#e6f5d0"
            ],
            [
             0.7,
             "#b8e186"
            ],
            [
             0.8,
             "#7fbc41"
            ],
            [
             0.9,
             "#4d9221"
            ],
            [
             1,
             "#276419"
            ]
           ],
           "sequential": [
            [
             0,
             "#0d0887"
            ],
            [
             0.1111111111111111,
             "#46039f"
            ],
            [
             0.2222222222222222,
             "#7201a8"
            ],
            [
             0.3333333333333333,
             "#9c179e"
            ],
            [
             0.4444444444444444,
             "#bd3786"
            ],
            [
             0.5555555555555556,
             "#d8576b"
            ],
            [
             0.6666666666666666,
             "#ed7953"
            ],
            [
             0.7777777777777778,
             "#fb9f3a"
            ],
            [
             0.8888888888888888,
             "#fdca26"
            ],
            [
             1,
             "#f0f921"
            ]
           ],
           "sequentialminus": [
            [
             0,
             "#0d0887"
            ],
            [
             0.1111111111111111,
             "#46039f"
            ],
            [
             0.2222222222222222,
             "#7201a8"
            ],
            [
             0.3333333333333333,
             "#9c179e"
            ],
            [
             0.4444444444444444,
             "#bd3786"
            ],
            [
             0.5555555555555556,
             "#d8576b"
            ],
            [
             0.6666666666666666,
             "#ed7953"
            ],
            [
             0.7777777777777778,
             "#fb9f3a"
            ],
            [
             0.8888888888888888,
             "#fdca26"
            ],
            [
             1,
             "#f0f921"
            ]
           ]
          },
          "colorway": [
           "#636efa",
           "#EF553B",
           "#00cc96",
           "#ab63fa",
           "#FFA15A",
           "#19d3f3",
           "#FF6692",
           "#B6E880",
           "#FF97FF",
           "#FECB52"
          ],
          "font": {
           "color": "#2a3f5f"
          },
          "geo": {
           "bgcolor": "white",
           "lakecolor": "white",
           "landcolor": "#E5ECF6",
           "showlakes": true,
           "showland": true,
           "subunitcolor": "white"
          },
          "hoverlabel": {
           "align": "left"
          },
          "hovermode": "closest",
          "mapbox": {
           "style": "light"
          },
          "paper_bgcolor": "white",
          "plot_bgcolor": "#E5ECF6",
          "polar": {
           "angularaxis": {
            "gridcolor": "white",
            "linecolor": "white",
            "ticks": ""
           },
           "bgcolor": "#E5ECF6",
           "radialaxis": {
            "gridcolor": "white",
            "linecolor": "white",
            "ticks": ""
           }
          },
          "scene": {
           "xaxis": {
            "backgroundcolor": "#E5ECF6",
            "gridcolor": "white",
            "gridwidth": 2,
            "linecolor": "white",
            "showbackground": true,
            "ticks": "",
            "zerolinecolor": "white"
           },
           "yaxis": {
            "backgroundcolor": "#E5ECF6",
            "gridcolor": "white",
            "gridwidth": 2,
            "linecolor": "white",
            "showbackground": true,
            "ticks": "",
            "zerolinecolor": "white"
           },
           "zaxis": {
            "backgroundcolor": "#E5ECF6",
            "gridcolor": "white",
            "gridwidth": 2,
            "linecolor": "white",
            "showbackground": true,
            "ticks": "",
            "zerolinecolor": "white"
           }
          },
          "shapedefaults": {
           "line": {
            "color": "#2a3f5f"
           }
          },
          "ternary": {
           "aaxis": {
            "gridcolor": "white",
            "linecolor": "white",
            "ticks": ""
           },
           "baxis": {
            "gridcolor": "white",
            "linecolor": "white",
            "ticks": ""
           },
           "bgcolor": "#E5ECF6",
           "caxis": {
            "gridcolor": "white",
            "linecolor": "white",
            "ticks": ""
           }
          },
          "title": {
           "x": 0.05
          },
          "xaxis": {
           "automargin": true,
           "gridcolor": "white",
           "linecolor": "white",
           "ticks": "",
           "title": {
            "standoff": 15
           },
           "zerolinecolor": "white",
           "zerolinewidth": 2
          },
          "yaxis": {
           "automargin": true,
           "gridcolor": "white",
           "linecolor": "white",
           "ticks": "",
           "title": {
            "standoff": 15
           },
           "zerolinecolor": "white",
           "zerolinewidth": 2
          }
         }
        }
       }
      },
      "text/html": [
       "<div>                            <div id=\"b0a89058-1da3-4572-bcc2-c670c9ae113a\" class=\"plotly-graph-div\" style=\"height:525px; width:100%;\"></div>            <script type=\"text/javascript\">                require([\"plotly\"], function(Plotly) {                    window.PLOTLYENV=window.PLOTLYENV || {};                                    if (document.getElementById(\"b0a89058-1da3-4572-bcc2-c670c9ae113a\")) {                    Plotly.newPlot(                        \"b0a89058-1da3-4572-bcc2-c670c9ae113a\",                        [{\"branchvalues\": \"total\", \"customdata\": [[1.654302, 1.654302], [1.2669569999999999, 1.2669569999999999], [9.235426, 9.235426], [0.05964800000000001, 0.05964800000000001], [1.385539, 1.385539], [6.831120999999999, 6.831120999999999], [4999.758647999999, 4999.758647999999], [0.33479600000000004, 0.33479600000000004], [0.082384, 0.082384], [20091.811555999997, 20091.811555999997], [2335.512688, 2335.512688], [3.174426, 3.174426], [557.9512359999999, 557.9512359999999], [949.7747740000002, 949.7747740000002], [65.263919, 65.263919], [180.284182, 180.284182], [2703.730552, 2703.730552], [0.101217, 0.101217], [34.265487, 34.265487], [0.008017999999999999, 0.008017999999999999], [1.0562680000000002, 1.0562680000000002], [0.009032, 0.009032], [9046.773952000001, 9046.773952000001], [125.95882100000001, 125.95882100000001], [21.968604, 21.968604], [708.779845, 708.779845], [346.26512799999995, 346.26512799999995], [3046.575907, 3046.575907], [0.15037799999999998, 0.15037799999999998], [0.482388, 0.482388], [786.2743650000001, 786.2743650000001], [164444.69400600006, 164444.69400600006], [250.46670699999999, 250.46670699999999], [83.77063700000001, 83.77063700000001], [2539.2103520000005, 2539.2103520000005], [35.10192, 35.10192], [4.870734, 4.870734], [40.05049799999999, 40.05049799999999], [963.4228989999997, 963.4228989999997], [842.4396530000001, 842.4396530000001], [0.6506879999999999, 0.6506879999999999], [0.176351, 0.176351], [22.386422999999997, 22.386422999999997], [486.607476, 486.607476], [570.6178229999999, 570.6178229999999], [2.373049, 2.373049], [45.22348399999999, 45.22348399999999], [34.094804, 34.094804], [10.167029000000001, 10.167029000000001], [0.011558, 0.011558], [19.485222000000004, 19.485222000000004], [746.495524, 746.495524], [12728.053628000001, 12728.053628000001], [1342.0794649999998, 1342.0794649999998], [6.36535, 6.36535], [26277.537614999994, 26277.537614999994], [908.4099380000002, 908.4099380000002], [0.009598999999999998, 0.009598999999999998], [79.48540199999997, 79.48540199999997], [0.305708, 0.305708], [0.046812, 0.046812], [0.8414969999999999, 0.8414969999999999], [0.07536399999999999, 0.07536399999999999], [249.51422100000005, 249.51422100000005], [50.97719900000001, 50.97719900000001], [0.092317, 0.092317], [4.406455, 4.406455], [1.4685709999999996, 1.4685709999999996], [9.636401000000001, 9.636401000000001], [14010.570346, 14010.570346], [741.9685410000002, 741.9685410000002], [7.2733680000000005, 7.2733680000000005], [26853.001515000007, 26853.001515000007], [37879.432262999995, 37879.432262999995], [1798.750081, 1798.750081], [3592.521797, 3592.521797], [7216.7465919999995, 7216.7465919999995], [3.1939919999999997, 3.1939919999999997], [63610.713632, 63610.713632], [242.638173, 242.638173], [40.1304, 40.1304], [32.377767, 32.377767], [15.058282000000002, 15.058282000000002], [1122.1933209999997, 1122.1933209999997], [0.208235, 0.208235], [115.89105900000001, 115.89105900000001], [27.33878099999999, 27.33878099999999], [0.067234, 0.067234], [53.029738, 53.029738], [341.167328, 341.167328], [0.7140460000000001, 0.7140460000000001], [268.35231600000003, 268.35231600000003], [69.97925300000001, 69.97925300000001], [22.852432999999998, 22.852432999999998], [7.544574, 7.544574], [122.491225, 122.491225], [2.852031, 2.852031], [1.9326709999999998, 1.9326709999999998], [164.13433, 164.13433], [2.030423, 2.030423], [0.268444, 0.268444], [0.369907, 0.369907], [16.889743, 16.889743], [1401.668981, 1401.668981], [0.119363, 0.119363], [0.145049, 0.145049], [113.92926099999997, 113.92926099999997], [18.467291000000003, 18.467291000000003], [1.8867590000000003, 1.8867590000000003], [0.523972, 0.523972], [2.424665, 2.424665], [7851.8314740000005, 7851.8314740000005], [0.09191200000000001, 0.09191200000000001], [3358.581938, 3358.581938], [51.584349, 51.584349], [0.0035399999999999997, 0.0035399999999999997], [832.848404, 832.848404], [1966.2667209999995, 1966.2667209999995], [1318.7940879999994, 1318.7940879999994], [719.667912, 719.667912], [10.538392, 10.538392], [945.1984650000003, 945.1984650000003], [29.756913000000004, 29.756913000000004], [590.3334379999999, 590.3334379999999], [8976.101706000001, 8976.101706000001], [657.6839260000002, 657.6839260000002], [252.36916300000001, 252.36916300000001], [52.016051999999995, 52.016051999999995], [2115.596298000001, 2115.596298000001], [1.7798859999999999, 1.7798859999999999], [142.375292, 142.375292], [62.447176999999996, 62.447176999999996], [0.010358, 0.010358], [10689.177725999996, 10689.177725999996], [8.09202, 8.09202], [7.209305999999999, 7.209305999999999], [14.76051, 14.76051], [0.9277460000000001, 0.9277460000000001], [92729.02029, 92729.02029], [147.37247000000008, 147.37247000000008], [145.60843500000004, 145.60843500000004], [44.48595800000002, 44.48595800000002], [0.123332, 0.123332], [2957.2864999999997, 2957.2864999999997], [2533.8573619999997, 2533.8573619999997], [298.76115200000004, 298.76115200000004], [28.770970000000002, 28.770970000000002], [1.595901, 1.595901], [0.6406029999999999, 0.6406029999999999], [2086.5880839999995, 2086.5880839999995], [11852.615357999997, 11852.615357999997], [0.05988, 0.05988], [48141.21756199999, 48141.21756199999], [10.09879, 10.09879], [131.80226099999993, 131.80226099999993], [1551.4043049999998, 1551.4043049999998], [12.219512999999997, 12.219512999999997], [0.0014219999999999999, 0.0014219999999999999], [98.43967599999998, 98.43967599999998], [441.40414300000015, 441.40414300000015], [13161.466574999999, 13161.466574999999], [6726.963076, 6726.963076], [65274.57193699999, 65274.57193699999], [53.01002799999999, 53.01002799999999], [9.802361999999997, 9.802361999999997], [30.997770000000003, 30.997770000000003], [22625.633753000002, 22625.633753000002], [50.48273600000001, 50.48273600000001], [40.463148000000004, 40.463148000000004], [2.889161, 2.889161], [93245.02784647641, 93245.02784647641], [207.02427621004622, 207.02427621004622], [330.3344814364572, 330.3344814364572], [671.0285615863731, 671.0285615863731], [6049.556360816416, 6049.556360816416], [9210.915804524799, 9210.915804524799], [404.9162213935203, 404.9162213935203], [62499.4148000517, 62499.4148000517], [16967.973523158485, 16967.973523158485], [1959.8586012011183, 1959.8586012011183], [13257.510759687266, 13257.510759687266], [70166.52341433727, 70166.52341433727]], \"domain\": {\"x\": [0.0, 1.0], \"y\": [0.0, 1.0]}, \"hovertemplate\": \"labels=%{label}<br>IMPORT (MILLION RM)_sum=%{value}<br>parent=%{parent}<br>id=%{id}<br>IMPORT (MILLION RM)=%{color}<extra></extra>\", \"ids\": [\"WORLD/ASIA (EX. NEAR EAST)         /AFGHANISTAN\", \"WORLD/EASTERN EUROPE                     /ALBANIA\", \"WORLD/NORTHERN AFRICA                    /ALGERIA\", \"WORLD/OCEANIA                            /AMERICAN SAMOA\", \"WORLD/WESTERN EUROPE                     /ANDORRA\", \"WORLD/SUB-SAHARAN AFRICA                 /ANGOLA\", \"WORLD/LATIN AMER. & CARIB    /ARGENTINA\", \"WORLD/C.W. OF IND. STATES /ARMENIA\", \"WORLD/LATIN AMER. & CARIB    /ARUBA\", \"WORLD/OCEANIA                            /AUSTRALIA\", \"WORLD/WESTERN EUROPE                     /AUSTRIA\", \"WORLD/C.W. OF IND. STATES /AZERBAIJAN\", \"WORLD/NEAR EAST                          /BAHRAIN\", \"WORLD/ASIA (EX. NEAR EAST)         /BANGLADESH\", \"WORLD/LATIN AMER. & CARIB    /BARBADOS\", \"WORLD/C.W. OF IND. STATES /BELARUS\", \"WORLD/WESTERN EUROPE                     /BELGIUM\", \"WORLD/LATIN AMER. & CARIB    /BELIZE\", \"WORLD/SUB-SAHARAN AFRICA                 /BENIN\", \"WORLD/NORTHERN AMERICA                   /BERMUDA\", \"WORLD/ASIA (EX. NEAR EAST)         /BHUTAN\", \"WORLD/SUB-SAHARAN AFRICA                 /BOTSWANA\", \"WORLD/LATIN AMER. & CARIB    /BRAZIL\", \"WORLD/EASTERN EUROPE                     /BULGARIA\", \"WORLD/SUB-SAHARAN AFRICA                 /BURKINA FASO\", \"WORLD/ASIA (EX. NEAR EAST)         /CAMBODIA\", \"WORLD/SUB-SAHARAN AFRICA                 /CAMEROON\", \"WORLD/NORTHERN AMERICA                   /CANADA\", \"WORLD/LATIN AMER. & CARIB    /CAYMAN ISLANDS\", \"WORLD/SUB-SAHARAN AFRICA                 /CHAD\", \"WORLD/LATIN AMER. & CARIB    /CHILE\", \"WORLD/ASIA (EX. NEAR EAST)         /CHINA\", \"WORLD/LATIN AMER. & CARIB    /COLOMBIA\", \"WORLD/LATIN AMER. & CARIB    /COSTA RICA\", \"WORLD/SUB-SAHARAN AFRICA                 /COTE D'IVOIRE\", \"WORLD/EASTERN EUROPE                     /CROATIA\", \"WORLD/LATIN AMER. & CARIB    /CUBA\", \"WORLD/NEAR EAST                          /CYPRUS\", \"WORLD/EASTERN EUROPE                     /CZECH REPUBLIC\", \"WORLD/WESTERN EUROPE                     /DENMARK\", \"WORLD/SUB-SAHARAN AFRICA                 /DJIBOUTI\", \"WORLD/LATIN AMER. & CARIB    /DOMINICA\", \"WORLD/LATIN AMER. & CARIB    /DOMINICAN REPUBLIC\", \"WORLD/LATIN AMER. & CARIB    /ECUADOR\", \"WORLD/NORTHERN AFRICA                    /EGYPT\", \"WORLD/LATIN AMER. & CARIB    /EL SALVADOR\", \"WORLD/SUB-SAHARAN AFRICA                 /EQUATORIAL GUINEA\", \"WORLD/BALTICS                            /ESTONIA\", \"WORLD/SUB-SAHARAN AFRICA                 /ETHIOPIA\", \"WORLD/WESTERN EUROPE                     /FAROE ISLANDS\", \"WORLD/OCEANIA                            /FIJI\", \"WORLD/WESTERN EUROPE                     /FINLAND\", \"WORLD/WESTERN EUROPE                     /FRANCE\", \"WORLD/SUB-SAHARAN AFRICA                 /GABON\", \"WORLD/C.W. OF IND. STATES /GEORGIA\", \"WORLD/WESTERN EUROPE                     /GERMANY\", \"WORLD/SUB-SAHARAN AFRICA                 /GHANA\", \"WORLD/WESTERN EUROPE                     /GIBRALTAR\", \"WORLD/WESTERN EUROPE                     /GREECE\", \"WORLD/NORTHERN AMERICA                   /GREENLAND\", \"WORLD/LATIN AMER. & CARIB    /GRENADA\", \"WORLD/LATIN AMER. & CARIB    /GUADELOUPE\", \"WORLD/OCEANIA                            /GUAM\", \"WORLD/LATIN AMER. & CARIB    /GUATEMALA\", \"WORLD/SUB-SAHARAN AFRICA                 /GUINEA\", \"WORLD/SUB-SAHARAN AFRICA                 /GUINEA-BISSAU\", \"WORLD/LATIN AMER. & CARIB    /GUYANA\", \"WORLD/LATIN AMER. & CARIB    /HAITI\", \"WORLD/LATIN AMER. & CARIB    /HONDURAS\", \"WORLD/ASIA (EX. NEAR EAST)         /HONG KONG\", \"WORLD/EASTERN EUROPE                     /HUNGARY\", \"WORLD/WESTERN EUROPE                     /ICELAND\", \"WORLD/ASIA (EX. NEAR EAST)         /INDIA\", \"WORLD/ASIA (EX. NEAR EAST)         /INDONESIA\", \"WORLD/NEAR EAST                          /IRAQ\", \"WORLD/WESTERN EUROPE                     /IRELAND\", \"WORLD/WESTERN EUROPE                     /ITALY\", \"WORLD/LATIN AMER. & CARIB    /JAMAICA\", \"WORLD/ASIA (EX. NEAR EAST)         /JAPAN\", \"WORLD/NEAR EAST                          /JORDAN\", \"WORLD/C.W. OF IND. STATES /KAZAKHSTAN\", \"WORLD/SUB-SAHARAN AFRICA                 /KENYA\", \"WORLD/OCEANIA                            /KIRIBATI\", \"WORLD/NEAR EAST                          /KUWAIT\", \"WORLD/C.W. OF IND. STATES /KYRGYZSTAN\", \"WORLD/BALTICS                            /LATVIA\", \"WORLD/NEAR EAST                          /LEBANON\", \"WORLD/SUB-SAHARAN AFRICA                 /LESOTHO\", \"WORLD/SUB-SAHARAN AFRICA                 /LIBERIA\", \"WORLD/NORTHERN AFRICA                    /LIBYA\", \"WORLD/WESTERN EUROPE                     /LIECHTENSTEIN\", \"WORLD/BALTICS                            /LITHUANIA\", \"WORLD/WESTERN EUROPE                     /LUXEMBOURG\", \"WORLD/SUB-SAHARAN AFRICA                 /MADAGASCAR\", \"WORLD/SUB-SAHARAN AFRICA                 /MALAWI\", \"WORLD/ASIA (EX. NEAR EAST)         /MALAYSIA\", \"WORLD/ASIA (EX. NEAR EAST)         /MALDIVES\", \"WORLD/SUB-SAHARAN AFRICA                 /MALI\", \"WORLD/WESTERN EUROPE                     /MALTA\", \"WORLD/OCEANIA                            /MARSHALL ISLANDS\", \"WORLD/LATIN AMER. & CARIB    /MARTINIQUE\", \"WORLD/SUB-SAHARAN AFRICA                 /MAURITANIA\", \"WORLD/SUB-SAHARAN AFRICA                 /MAURITIUS\", \"WORLD/LATIN AMER. & CARIB    /MEXICO\", \"WORLD/WESTERN EUROPE                     /MONACO\", \"WORLD/ASIA (EX. NEAR EAST)         /MONGOLIA\", \"WORLD/NORTHERN AFRICA                    /MOROCCO\", \"WORLD/SUB-SAHARAN AFRICA                 /MOZAMBIQUE\", \"WORLD/SUB-SAHARAN AFRICA                 /NAMIBIA\", \"WORLD/OCEANIA                            /NAURU\", \"WORLD/ASIA (EX. NEAR EAST)         /NEPAL\", \"WORLD/WESTERN EUROPE                     /NETHERLANDS\", \"WORLD/OCEANIA                            /NEW CALEDONIA\", \"WORLD/OCEANIA                            /NEW ZEALAND\", \"WORLD/LATIN AMER. & CARIB    /NICARAGUA\", \"WORLD/SUB-SAHARAN AFRICA                 /NIGER\", \"WORLD/SUB-SAHARAN AFRICA                 /NIGERIA\", \"WORLD/WESTERN EUROPE                     /NORWAY\", \"WORLD/NEAR EAST                          /OMAN\", \"WORLD/ASIA (EX. NEAR EAST)         /PAKISTAN\", \"WORLD/LATIN AMER. & CARIB    /PANAMA\", \"WORLD/OCEANIA                            /PAPUA NEW GUINEA\", \"WORLD/LATIN AMER. & CARIB    /PARAGUAY\", \"WORLD/LATIN AMER. & CARIB    /PERU\", \"WORLD/ASIA (EX. NEAR EAST)         /PHILIPPINES\", \"WORLD/EASTERN EUROPE                     /POLAND\", \"WORLD/WESTERN EUROPE                     /PORTUGAL\", \"WORLD/LATIN AMER. & CARIB    /PUERTO RICO\", \"WORLD/NEAR EAST                          /QATAR\", \"WORLD/SUB-SAHARAN AFRICA                 /REUNION\", \"WORLD/EASTERN EUROPE                     /ROMANIA\", \"WORLD/SUB-SAHARAN AFRICA                 /RWANDA\", \"WORLD/WESTERN EUROPE                     /SAN MARINO\", \"WORLD/NEAR EAST                          /SAUDI ARABIA\", \"WORLD/SUB-SAHARAN AFRICA                 /SENEGAL\", \"WORLD/EASTERN EUROPE                     /SERBIA\", \"WORLD/SUB-SAHARAN AFRICA                 /SEYCHELLES\", \"WORLD/SUB-SAHARAN AFRICA                 /SIERRA LEONE\", \"WORLD/ASIA (EX. NEAR EAST)         /SINGAPORE\", \"WORLD/EASTERN EUROPE                     /SLOVAKIA\", \"WORLD/EASTERN EUROPE                     /SLOVENIA\", \"WORLD/OCEANIA                            /SOLOMON ISLANDS\", \"WORLD/SUB-SAHARAN AFRICA                 /SOMALIA\", \"WORLD/SUB-SAHARAN AFRICA                 /SOUTH AFRICA\", \"WORLD/WESTERN EUROPE                     /SPAIN\", \"WORLD/ASIA (EX. NEAR EAST)         /SRI LANKA\", \"WORLD/SUB-SAHARAN AFRICA                 /SUDAN\", \"WORLD/LATIN AMER. & CARIB    /SURINAME\", \"WORLD/SUB-SAHARAN AFRICA                 /SWAZILAND\", \"WORLD/WESTERN EUROPE                     /SWEDEN\", \"WORLD/WESTERN EUROPE                     /SWITZERLAND\", \"WORLD/C.W. OF IND. STATES /TAJIKISTAN\", \"WORLD/ASIA (EX. NEAR EAST)         /THAILAND\", \"WORLD/SUB-SAHARAN AFRICA                 /TOGO\", \"WORLD/NORTHERN AFRICA                    /TUNISIA\", \"WORLD/NEAR EAST                          /TURKEY\", \"WORLD/C.W. OF IND. STATES /TURKMENISTAN\", \"WORLD/OCEANIA                            /TUVALU\", \"WORLD/SUB-SAHARAN AFRICA                 /UGANDA\", \"WORLD/C.W. OF IND. STATES /UKRAINE\", \"WORLD/NEAR EAST                          /UNITED ARAB EMIRATES\", \"WORLD/WESTERN EUROPE                     /UNITED KINGDOM\", \"WORLD/NORTHERN AMERICA                   /UNITED STATES\", \"WORLD/LATIN AMER. & CARIB    /URUGUAY\", \"WORLD/C.W. OF IND. STATES /UZBEKISTAN\", \"WORLD/OCEANIA                            /VANUATU\", \"WORLD/ASIA (EX. NEAR EAST)         /VIET NAM\", \"WORLD/NEAR EAST                          /YEMEN\", \"WORLD/SUB-SAHARAN AFRICA                 /ZAMBIA\", \"WORLD/SUB-SAHARAN AFRICA                 /ZIMBABWE\", \"WORLD/ASIA (EX. NEAR EAST)         \", \"WORLD/BALTICS                            \", \"WORLD/C.W. OF IND. STATES \", \"WORLD/EASTERN EUROPE                     \", \"WORLD/LATIN AMER. & CARIB    \", \"WORLD/NEAR EAST                          \", \"WORLD/NORTHERN AFRICA                    \", \"WORLD/NORTHERN AMERICA                   \", \"WORLD/OCEANIA                            \", \"WORLD/SUB-SAHARAN AFRICA                 \", \"WORLD/WESTERN EUROPE                     \", \"WORLD\"], \"labels\": [\"AFGHANISTAN\", \"ALBANIA\", \"ALGERIA\", \"AMERICAN SAMOA\", \"ANDORRA\", \"ANGOLA\", \"ARGENTINA\", \"ARMENIA\", \"ARUBA\", \"AUSTRALIA\", \"AUSTRIA\", \"AZERBAIJAN\", \"BAHRAIN\", \"BANGLADESH\", \"BARBADOS\", \"BELARUS\", \"BELGIUM\", \"BELIZE\", \"BENIN\", \"BERMUDA\", \"BHUTAN\", \"BOTSWANA\", \"BRAZIL\", \"BULGARIA\", \"BURKINA FASO\", \"CAMBODIA\", \"CAMEROON\", \"CANADA\", \"CAYMAN ISLANDS\", \"CHAD\", \"CHILE\", \"CHINA\", \"COLOMBIA\", \"COSTA RICA\", \"COTE D'IVOIRE\", \"CROATIA\", \"CUBA\", \"CYPRUS\", \"CZECH REPUBLIC\", \"DENMARK\", \"DJIBOUTI\", \"DOMINICA\", \"DOMINICAN REPUBLIC\", \"ECUADOR\", \"EGYPT\", \"EL SALVADOR\", \"EQUATORIAL GUINEA\", \"ESTONIA\", \"ETHIOPIA\", \"FAROE ISLANDS\", \"FIJI\", \"FINLAND\", \"FRANCE\", \"GABON\", \"GEORGIA\", \"GERMANY\", \"GHANA\", \"GIBRALTAR\", \"GREECE\", \"GREENLAND\", \"GRENADA\", \"GUADELOUPE\", \"GUAM\", \"GUATEMALA\", \"GUINEA\", \"GUINEA-BISSAU\", \"GUYANA\", \"HAITI\", \"HONDURAS\", \"HONG KONG\", \"HUNGARY\", \"ICELAND\", \"INDIA\", \"INDONESIA\", \"IRAQ\", \"IRELAND\", \"ITALY\", \"JAMAICA\", \"JAPAN\", \"JORDAN\", \"KAZAKHSTAN\", \"KENYA\", \"KIRIBATI\", \"KUWAIT\", \"KYRGYZSTAN\", \"LATVIA\", \"LEBANON\", \"LESOTHO\", \"LIBERIA\", \"LIBYA\", \"LIECHTENSTEIN\", \"LITHUANIA\", \"LUXEMBOURG\", \"MADAGASCAR\", \"MALAWI\", \"MALAYSIA\", \"MALDIVES\", \"MALI\", \"MALTA\", \"MARSHALL ISLANDS\", \"MARTINIQUE\", \"MAURITANIA\", \"MAURITIUS\", \"MEXICO\", \"MONACO\", \"MONGOLIA\", \"MOROCCO\", \"MOZAMBIQUE\", \"NAMIBIA\", \"NAURU\", \"NEPAL\", \"NETHERLANDS\", \"NEW CALEDONIA\", \"NEW ZEALAND\", \"NICARAGUA\", \"NIGER\", \"NIGERIA\", \"NORWAY\", \"OMAN\", \"PAKISTAN\", \"PANAMA\", \"PAPUA NEW GUINEA\", \"PARAGUAY\", \"PERU\", \"PHILIPPINES\", \"POLAND\", \"PORTUGAL\", \"PUERTO RICO\", \"QATAR\", \"REUNION\", \"ROMANIA\", \"RWANDA\", \"SAN MARINO\", \"SAUDI ARABIA\", \"SENEGAL\", \"SERBIA\", \"SEYCHELLES\", \"SIERRA LEONE\", \"SINGAPORE\", \"SLOVAKIA\", \"SLOVENIA\", \"SOLOMON ISLANDS\", \"SOMALIA\", \"SOUTH AFRICA\", \"SPAIN\", \"SRI LANKA\", \"SUDAN\", \"SURINAME\", \"SWAZILAND\", \"SWEDEN\", \"SWITZERLAND\", \"TAJIKISTAN\", \"THAILAND\", \"TOGO\", \"TUNISIA\", \"TURKEY\", \"TURKMENISTAN\", \"TUVALU\", \"UGANDA\", \"UKRAINE\", \"UNITED ARAB EMIRATES\", \"UNITED KINGDOM\", \"UNITED STATES\", \"URUGUAY\", \"UZBEKISTAN\", \"VANUATU\", \"VIET NAM\", \"YEMEN\", \"ZAMBIA\", \"ZIMBABWE\", \"ASIA (EX. NEAR EAST)         \", \"BALTICS                            \", \"C.W. OF IND. STATES \", \"EASTERN EUROPE                     \", \"LATIN AMER. & CARIB    \", \"NEAR EAST                          \", \"NORTHERN AFRICA                    \", \"NORTHERN AMERICA                   \", \"OCEANIA                            \", \"SUB-SAHARAN AFRICA                 \", \"WESTERN EUROPE                     \", \"WORLD\"], \"marker\": {\"coloraxis\": \"coloraxis\", \"colors\": [1.654302, 1.2669569999999999, 9.235426, 0.05964800000000001, 1.385539, 6.831120999999999, 4999.758647999999, 0.33479600000000004, 0.082384, 20091.811555999997, 2335.512688, 3.174426, 557.9512359999999, 949.7747740000002, 65.263919, 180.284182, 2703.730552, 0.101217, 34.265487, 0.008017999999999999, 1.0562680000000002, 0.009032, 9046.773952000001, 125.95882100000001, 21.968604, 708.779845, 346.26512799999995, 3046.575907, 0.15037799999999998, 0.482388, 786.2743650000001, 164444.69400600006, 250.46670699999999, 83.77063700000001, 2539.2103520000005, 35.10192, 4.870734, 40.05049799999999, 963.4228989999997, 842.4396530000001, 0.6506879999999999, 0.176351, 22.386422999999997, 486.607476, 570.6178229999999, 2.373049, 45.22348399999999, 34.094804, 10.167029000000001, 0.011558, 19.485222000000004, 746.495524, 12728.053628000001, 1342.0794649999998, 6.36535, 26277.537614999994, 908.4099380000002, 0.009598999999999998, 79.48540199999997, 0.305708, 0.046812, 0.8414969999999999, 0.07536399999999999, 249.51422100000005, 50.97719900000001, 0.092317, 4.406455, 1.4685709999999996, 9.636401000000001, 14010.570346, 741.9685410000002, 7.2733680000000005, 26853.001515000007, 37879.432262999995, 1798.750081, 3592.521797, 7216.7465919999995, 3.1939919999999997, 63610.713632, 242.638173, 40.1304, 32.377767, 15.058282000000002, 1122.1933209999997, 0.208235, 115.89105900000001, 27.33878099999999, 0.067234, 53.029738, 341.167328, 0.7140460000000001, 268.35231600000003, 69.97925300000001, 22.852432999999998, 7.544574, 122.491225, 2.852031, 1.9326709999999998, 164.13433, 2.030423, 0.268444, 0.369907, 16.889743, 1401.668981, 0.119363, 0.145049, 113.92926099999997, 18.467291000000003, 1.8867590000000003, 0.523972, 2.424665, 7851.8314740000005, 0.09191200000000001, 3358.581938, 51.584349, 0.0035399999999999997, 832.848404, 1966.2667209999995, 1318.7940879999994, 719.667912, 10.538392, 945.1984650000003, 29.756913000000004, 590.3334379999999, 8976.101706000001, 657.6839260000002, 252.36916300000001, 52.016051999999995, 2115.596298000001, 1.7798859999999999, 142.375292, 62.447176999999996, 0.010358, 10689.177725999996, 8.09202, 7.209305999999999, 14.76051, 0.9277460000000001, 92729.02029, 147.37247000000008, 145.60843500000004, 44.48595800000002, 0.123332, 2957.2864999999997, 2533.8573619999997, 298.76115200000004, 28.770970000000002, 1.595901, 0.6406029999999999, 2086.5880839999995, 11852.615357999997, 0.05988, 48141.21756199999, 10.09879, 131.80226099999993, 1551.4043049999998, 12.219512999999997, 0.0014219999999999999, 98.43967599999998, 441.40414300000015, 13161.466574999999, 6726.963076, 65274.57193699999, 53.01002799999999, 9.802361999999997, 30.997770000000003, 22625.633753000002, 50.48273600000001, 40.463148000000004, 2.889161, 93245.02784647641, 207.02427621004622, 330.3344814364572, 671.0285615863731, 6049.556360816416, 9210.915804524799, 404.9162213935203, 62499.4148000517, 16967.973523158485, 1959.8586012011183, 13257.510759687266, 70166.52341433727]}, \"name\": \"\", \"parents\": [\"WORLD/ASIA (EX. NEAR EAST)         \", \"WORLD/EASTERN EUROPE                     \", \"WORLD/NORTHERN AFRICA                    \", \"WORLD/OCEANIA                            \", \"WORLD/WESTERN EUROPE                     \", \"WORLD/SUB-SAHARAN AFRICA                 \", \"WORLD/LATIN AMER. & CARIB    \", \"WORLD/C.W. OF IND. STATES \", \"WORLD/LATIN AMER. & CARIB    \", \"WORLD/OCEANIA                            \", \"WORLD/WESTERN EUROPE                     \", \"WORLD/C.W. OF IND. STATES \", \"WORLD/NEAR EAST                          \", \"WORLD/ASIA (EX. NEAR EAST)         \", \"WORLD/LATIN AMER. & CARIB    \", \"WORLD/C.W. OF IND. STATES \", \"WORLD/WESTERN EUROPE                     \", \"WORLD/LATIN AMER. & CARIB    \", \"WORLD/SUB-SAHARAN AFRICA                 \", \"WORLD/NORTHERN AMERICA                   \", \"WORLD/ASIA (EX. NEAR EAST)         \", \"WORLD/SUB-SAHARAN AFRICA                 \", \"WORLD/LATIN AMER. & CARIB    \", \"WORLD/EASTERN EUROPE                     \", \"WORLD/SUB-SAHARAN AFRICA                 \", \"WORLD/ASIA (EX. NEAR EAST)         \", \"WORLD/SUB-SAHARAN AFRICA                 \", \"WORLD/NORTHERN AMERICA                   \", \"WORLD/LATIN AMER. & CARIB    \", \"WORLD/SUB-SAHARAN AFRICA                 \", \"WORLD/LATIN AMER. & CARIB    \", \"WORLD/ASIA (EX. NEAR EAST)         \", \"WORLD/LATIN AMER. & CARIB    \", \"WORLD/LATIN AMER. & CARIB    \", \"WORLD/SUB-SAHARAN AFRICA                 \", \"WORLD/EASTERN EUROPE                     \", \"WORLD/LATIN AMER. & CARIB    \", \"WORLD/NEAR EAST                          \", \"WORLD/EASTERN EUROPE                     \", \"WORLD/WESTERN EUROPE                     \", \"WORLD/SUB-SAHARAN AFRICA                 \", \"WORLD/LATIN AMER. & CARIB    \", \"WORLD/LATIN AMER. & CARIB    \", \"WORLD/LATIN AMER. & CARIB    \", \"WORLD/NORTHERN AFRICA                    \", \"WORLD/LATIN AMER. & CARIB    \", \"WORLD/SUB-SAHARAN AFRICA                 \", \"WORLD/BALTICS                            \", \"WORLD/SUB-SAHARAN AFRICA                 \", \"WORLD/WESTERN EUROPE                     \", \"WORLD/OCEANIA                            \", \"WORLD/WESTERN EUROPE                     \", \"WORLD/WESTERN EUROPE                     \", \"WORLD/SUB-SAHARAN AFRICA                 \", \"WORLD/C.W. OF IND. STATES \", \"WORLD/WESTERN EUROPE                     \", \"WORLD/SUB-SAHARAN AFRICA                 \", \"WORLD/WESTERN EUROPE                     \", \"WORLD/WESTERN EUROPE                     \", \"WORLD/NORTHERN AMERICA                   \", \"WORLD/LATIN AMER. & CARIB    \", \"WORLD/LATIN AMER. & CARIB    \", \"WORLD/OCEANIA                            \", \"WORLD/LATIN AMER. & CARIB    \", \"WORLD/SUB-SAHARAN AFRICA                 \", \"WORLD/SUB-SAHARAN AFRICA                 \", \"WORLD/LATIN AMER. & CARIB    \", \"WORLD/LATIN AMER. & CARIB    \", \"WORLD/LATIN AMER. & CARIB    \", \"WORLD/ASIA (EX. NEAR EAST)         \", \"WORLD/EASTERN EUROPE                     \", \"WORLD/WESTERN EUROPE                     \", \"WORLD/ASIA (EX. NEAR EAST)         \", \"WORLD/ASIA (EX. NEAR EAST)         \", \"WORLD/NEAR EAST                          \", \"WORLD/WESTERN EUROPE                     \", \"WORLD/WESTERN EUROPE                     \", \"WORLD/LATIN AMER. & CARIB    \", \"WORLD/ASIA (EX. NEAR EAST)         \", \"WORLD/NEAR EAST                          \", \"WORLD/C.W. OF IND. STATES \", \"WORLD/SUB-SAHARAN AFRICA                 \", \"WORLD/OCEANIA                            \", \"WORLD/NEAR EAST                          \", \"WORLD/C.W. OF IND. STATES \", \"WORLD/BALTICS                            \", \"WORLD/NEAR EAST                          \", \"WORLD/SUB-SAHARAN AFRICA                 \", \"WORLD/SUB-SAHARAN AFRICA                 \", \"WORLD/NORTHERN AFRICA                    \", \"WORLD/WESTERN EUROPE                     \", \"WORLD/BALTICS                            \", \"WORLD/WESTERN EUROPE                     \", \"WORLD/SUB-SAHARAN AFRICA                 \", \"WORLD/SUB-SAHARAN AFRICA                 \", \"WORLD/ASIA (EX. NEAR EAST)         \", \"WORLD/ASIA (EX. NEAR EAST)         \", \"WORLD/SUB-SAHARAN AFRICA                 \", \"WORLD/WESTERN EUROPE                     \", \"WORLD/OCEANIA                            \", \"WORLD/LATIN AMER. & CARIB    \", \"WORLD/SUB-SAHARAN AFRICA                 \", \"WORLD/SUB-SAHARAN AFRICA                 \", \"WORLD/LATIN AMER. & CARIB    \", \"WORLD/WESTERN EUROPE                     \", \"WORLD/ASIA (EX. NEAR EAST)         \", \"WORLD/NORTHERN AFRICA                    \", \"WORLD/SUB-SAHARAN AFRICA                 \", \"WORLD/SUB-SAHARAN AFRICA                 \", \"WORLD/OCEANIA                            \", \"WORLD/ASIA (EX. NEAR EAST)         \", \"WORLD/WESTERN EUROPE                     \", \"WORLD/OCEANIA                            \", \"WORLD/OCEANIA                            \", \"WORLD/LATIN AMER. & CARIB    \", \"WORLD/SUB-SAHARAN AFRICA                 \", \"WORLD/SUB-SAHARAN AFRICA                 \", \"WORLD/WESTERN EUROPE                     \", \"WORLD/NEAR EAST                          \", \"WORLD/ASIA (EX. NEAR EAST)         \", \"WORLD/LATIN AMER. & CARIB    \", \"WORLD/OCEANIA                            \", \"WORLD/LATIN AMER. & CARIB    \", \"WORLD/LATIN AMER. & CARIB    \", \"WORLD/ASIA (EX. NEAR EAST)         \", \"WORLD/EASTERN EUROPE                     \", \"WORLD/WESTERN EUROPE                     \", \"WORLD/LATIN AMER. & CARIB    \", \"WORLD/NEAR EAST                          \", \"WORLD/SUB-SAHARAN AFRICA                 \", \"WORLD/EASTERN EUROPE                     \", \"WORLD/SUB-SAHARAN AFRICA                 \", \"WORLD/WESTERN EUROPE                     \", \"WORLD/NEAR EAST                          \", \"WORLD/SUB-SAHARAN AFRICA                 \", \"WORLD/EASTERN EUROPE                     \", \"WORLD/SUB-SAHARAN AFRICA                 \", \"WORLD/SUB-SAHARAN AFRICA                 \", \"WORLD/ASIA (EX. NEAR EAST)         \", \"WORLD/EASTERN EUROPE                     \", \"WORLD/EASTERN EUROPE                     \", \"WORLD/OCEANIA                            \", \"WORLD/SUB-SAHARAN AFRICA                 \", \"WORLD/SUB-SAHARAN AFRICA                 \", \"WORLD/WESTERN EUROPE                     \", \"WORLD/ASIA (EX. NEAR EAST)         \", \"WORLD/SUB-SAHARAN AFRICA                 \", \"WORLD/LATIN AMER. & CARIB    \", \"WORLD/SUB-SAHARAN AFRICA                 \", \"WORLD/WESTERN EUROPE                     \", \"WORLD/WESTERN EUROPE                     \", \"WORLD/C.W. OF IND. STATES \", \"WORLD/ASIA (EX. NEAR EAST)         \", \"WORLD/SUB-SAHARAN AFRICA                 \", \"WORLD/NORTHERN AFRICA                    \", \"WORLD/NEAR EAST                          \", \"WORLD/C.W. OF IND. STATES \", \"WORLD/OCEANIA                            \", \"WORLD/SUB-SAHARAN AFRICA                 \", \"WORLD/C.W. OF IND. STATES \", \"WORLD/NEAR EAST                          \", \"WORLD/WESTERN EUROPE                     \", \"WORLD/NORTHERN AMERICA                   \", \"WORLD/LATIN AMER. & CARIB    \", \"WORLD/C.W. OF IND. STATES \", \"WORLD/OCEANIA                            \", \"WORLD/ASIA (EX. NEAR EAST)         \", \"WORLD/NEAR EAST                          \", \"WORLD/SUB-SAHARAN AFRICA                 \", \"WORLD/SUB-SAHARAN AFRICA                 \", \"WORLD\", \"WORLD\", \"WORLD\", \"WORLD\", \"WORLD\", \"WORLD\", \"WORLD\", \"WORLD\", \"WORLD\", \"WORLD\", \"WORLD\", \"\"], \"type\": \"treemap\", \"values\": [1.654302, 1.2669569999999999, 9.235426, 0.05964800000000001, 1.385539, 6.831120999999999, 4999.758647999999, 0.33479600000000004, 0.082384, 20091.811555999997, 2335.512688, 3.174426, 557.9512359999999, 949.7747740000002, 65.263919, 180.284182, 2703.730552, 0.101217, 34.265487, 0.008017999999999999, 1.0562680000000002, 0.009032, 9046.773952000001, 125.95882100000001, 21.968604, 708.779845, 346.26512799999995, 3046.575907, 0.15037799999999998, 0.482388, 786.2743650000001, 164444.69400600006, 250.46670699999999, 83.77063700000001, 2539.2103520000005, 35.10192, 4.870734, 40.05049799999999, 963.4228989999997, 842.4396530000001, 0.6506879999999999, 0.176351, 22.386422999999997, 486.607476, 570.6178229999999, 2.373049, 45.22348399999999, 34.094804, 10.167029000000001, 0.011558, 19.485222000000004, 746.495524, 12728.053628, 1342.0794649999998, 6.36535, 26277.537614999994, 908.4099380000002, 0.009598999999999998, 79.48540199999997, 0.305708, 0.04681199999999999, 0.8414969999999999, 0.07536399999999999, 249.51422100000005, 50.97719900000001, 0.092317, 4.406455, 1.4685709999999998, 9.636401000000001, 14010.570346, 741.9685410000002, 7.2733680000000005, 26853.001515000007, 37879.432262999995, 1798.750081, 3592.521797, 7216.7465919999995, 3.1939919999999997, 63610.713632, 242.638173, 40.1304, 32.377767, 15.058282000000002, 1122.1933209999997, 0.20823500000000003, 115.89105900000001, 27.33878099999999, 0.067234, 53.029738, 341.167328, 0.7140460000000001, 268.35231600000003, 69.97925300000001, 22.852432999999998, 7.544574, 122.491225, 2.852031, 1.9326709999999998, 164.13433, 2.030423, 0.268444, 0.369907, 16.889743, 1401.668981, 0.119363, 0.145049, 113.92926099999997, 18.467291000000003, 1.8867590000000003, 0.523972, 2.424665, 7851.8314740000005, 0.09191200000000001, 3358.581938, 51.584349, 0.0035399999999999997, 832.848404, 1966.2667209999995, 1318.7940879999994, 719.667912, 10.538392, 945.1984650000003, 29.756913000000004, 590.3334379999999, 8976.101706000001, 657.6839260000002, 252.36916300000001, 52.016051999999995, 2115.596298000001, 1.7798859999999999, 142.375292, 62.447176999999996, 0.010358, 10689.177725999996, 8.09202, 7.209305999999999, 14.76051, 0.9277460000000001, 92729.02029, 147.37247000000008, 145.60843500000004, 44.48595800000002, 0.123332, 2957.2864999999997, 2533.8573619999997, 298.76115200000004, 28.770970000000002, 1.595901, 0.6406029999999999, 2086.5880839999995, 11852.615358, 0.05988, 48141.21756199999, 10.09879, 131.80226099999993, 1551.4043049999998, 12.219512999999997, 0.001422, 98.43967599999998, 441.4041430000001, 13161.466574999999, 6726.963076, 65274.57193699999, 53.01002799999999, 9.802361999999997, 30.997770000000003, 22625.633753000002, 50.48273600000001, 40.463148000000004, 2.889161, 482077.992296, 418.3381790000001, 693.9832870000001, 2967.968567000001, 18208.936686999998, 32675.843817999994, 1166.7520989999998, 68321.46157, 24508.401932, 9521.621812, 90036.65210299997, 730597.9523499998]}],                        {\"coloraxis\": {\"colorbar\": {\"title\": {\"text\": \"IMPORT (MILLION RM)\"}}, \"colorscale\": [[0.0, \"rgb(103,0,31)\"], [0.1, \"rgb(178,24,43)\"], [0.2, \"rgb(214,96,77)\"], [0.3, \"rgb(244,165,130)\"], [0.4, \"rgb(253,219,199)\"], [0.5, \"rgb(247,247,247)\"], [0.6, \"rgb(209,229,240)\"], [0.7, \"rgb(146,197,222)\"], [0.8, \"rgb(67,147,195)\"], [0.9, \"rgb(33,102,172)\"], [1.0, \"rgb(5,48,97)\"]]}, \"legend\": {\"tracegroupgap\": 0}, \"margin\": {\"t\": 60}, \"template\": {\"data\": {\"bar\": [{\"error_x\": {\"color\": \"#2a3f5f\"}, \"error_y\": {\"color\": \"#2a3f5f\"}, \"marker\": {\"line\": {\"color\": \"#E5ECF6\", \"width\": 0.5}}, \"type\": \"bar\"}], \"barpolar\": [{\"marker\": {\"line\": {\"color\": \"#E5ECF6\", \"width\": 0.5}}, \"type\": \"barpolar\"}], \"carpet\": [{\"aaxis\": {\"endlinecolor\": \"#2a3f5f\", \"gridcolor\": \"white\", \"linecolor\": \"white\", \"minorgridcolor\": \"white\", \"startlinecolor\": \"#2a3f5f\"}, \"baxis\": {\"endlinecolor\": \"#2a3f5f\", \"gridcolor\": \"white\", \"linecolor\": \"white\", \"minorgridcolor\": \"white\", \"startlinecolor\": \"#2a3f5f\"}, \"type\": \"carpet\"}], \"choropleth\": [{\"colorbar\": {\"outlinewidth\": 0, \"ticks\": \"\"}, \"type\": \"choropleth\"}], \"contour\": [{\"colorbar\": {\"outlinewidth\": 0, \"ticks\": \"\"}, \"colorscale\": [[0.0, \"#0d0887\"], [0.1111111111111111, \"#46039f\"], [0.2222222222222222, \"#7201a8\"], [0.3333333333333333, \"#9c179e\"], [0.4444444444444444, \"#bd3786\"], [0.5555555555555556, \"#d8576b\"], [0.6666666666666666, \"#ed7953\"], [0.7777777777777778, \"#fb9f3a\"], [0.8888888888888888, \"#fdca26\"], [1.0, \"#f0f921\"]], \"type\": \"contour\"}], \"contourcarpet\": [{\"colorbar\": {\"outlinewidth\": 0, \"ticks\": \"\"}, \"type\": \"contourcarpet\"}], \"heatmap\": [{\"colorbar\": {\"outlinewidth\": 0, \"ticks\": \"\"}, \"colorscale\": [[0.0, \"#0d0887\"], [0.1111111111111111, \"#46039f\"], [0.2222222222222222, \"#7201a8\"], [0.3333333333333333, \"#9c179e\"], [0.4444444444444444, \"#bd3786\"], [0.5555555555555556, \"#d8576b\"], [0.6666666666666666, \"#ed7953\"], [0.7777777777777778, \"#fb9f3a\"], [0.8888888888888888, \"#fdca26\"], [1.0, \"#f0f921\"]], \"type\": \"heatmap\"}], \"heatmapgl\": [{\"colorbar\": {\"outlinewidth\": 0, \"ticks\": \"\"}, \"colorscale\": [[0.0, \"#0d0887\"], [0.1111111111111111, \"#46039f\"], [0.2222222222222222, \"#7201a8\"], [0.3333333333333333, \"#9c179e\"], [0.4444444444444444, \"#bd3786\"], [0.5555555555555556, \"#d8576b\"], [0.6666666666666666, \"#ed7953\"], [0.7777777777777778, \"#fb9f3a\"], [0.8888888888888888, \"#fdca26\"], [1.0, \"#f0f921\"]], \"type\": \"heatmapgl\"}], \"histogram\": [{\"marker\": {\"colorbar\": {\"outlinewidth\": 0, \"ticks\": \"\"}}, \"type\": \"histogram\"}], \"histogram2d\": [{\"colorbar\": {\"outlinewidth\": 0, \"ticks\": \"\"}, \"colorscale\": [[0.0, \"#0d0887\"], [0.1111111111111111, \"#46039f\"], [0.2222222222222222, \"#7201a8\"], [0.3333333333333333, \"#9c179e\"], [0.4444444444444444, \"#bd3786\"], [0.5555555555555556, \"#d8576b\"], [0.6666666666666666, \"#ed7953\"], [0.7777777777777778, \"#fb9f3a\"], [0.8888888888888888, \"#fdca26\"], [1.0, \"#f0f921\"]], \"type\": \"histogram2d\"}], \"histogram2dcontour\": [{\"colorbar\": {\"outlinewidth\": 0, \"ticks\": \"\"}, \"colorscale\": [[0.0, \"#0d0887\"], [0.1111111111111111, \"#46039f\"], [0.2222222222222222, \"#7201a8\"], [0.3333333333333333, \"#9c179e\"], [0.4444444444444444, \"#bd3786\"], [0.5555555555555556, \"#d8576b\"], [0.6666666666666666, \"#ed7953\"], [0.7777777777777778, \"#fb9f3a\"], [0.8888888888888888, \"#fdca26\"], [1.0, \"#f0f921\"]], \"type\": \"histogram2dcontour\"}], \"mesh3d\": [{\"colorbar\": {\"outlinewidth\": 0, \"ticks\": \"\"}, \"type\": \"mesh3d\"}], \"parcoords\": [{\"line\": {\"colorbar\": {\"outlinewidth\": 0, \"ticks\": \"\"}}, \"type\": \"parcoords\"}], \"pie\": [{\"automargin\": true, \"type\": \"pie\"}], \"scatter\": [{\"marker\": {\"colorbar\": {\"outlinewidth\": 0, \"ticks\": \"\"}}, \"type\": \"scatter\"}], \"scatter3d\": [{\"line\": {\"colorbar\": {\"outlinewidth\": 0, \"ticks\": \"\"}}, \"marker\": {\"colorbar\": {\"outlinewidth\": 0, \"ticks\": \"\"}}, \"type\": \"scatter3d\"}], \"scattercarpet\": [{\"marker\": {\"colorbar\": {\"outlinewidth\": 0, \"ticks\": \"\"}}, \"type\": \"scattercarpet\"}], \"scattergeo\": [{\"marker\": {\"colorbar\": {\"outlinewidth\": 0, \"ticks\": \"\"}}, \"type\": \"scattergeo\"}], \"scattergl\": [{\"marker\": {\"colorbar\": {\"outlinewidth\": 0, \"ticks\": \"\"}}, \"type\": \"scattergl\"}], \"scattermapbox\": [{\"marker\": {\"colorbar\": {\"outlinewidth\": 0, \"ticks\": \"\"}}, \"type\": \"scattermapbox\"}], \"scatterpolar\": [{\"marker\": {\"colorbar\": {\"outlinewidth\": 0, \"ticks\": \"\"}}, \"type\": \"scatterpolar\"}], \"scatterpolargl\": [{\"marker\": {\"colorbar\": {\"outlinewidth\": 0, \"ticks\": \"\"}}, \"type\": \"scatterpolargl\"}], \"scatterternary\": [{\"marker\": {\"colorbar\": {\"outlinewidth\": 0, \"ticks\": \"\"}}, \"type\": \"scatterternary\"}], \"surface\": [{\"colorbar\": {\"outlinewidth\": 0, \"ticks\": \"\"}, \"colorscale\": [[0.0, \"#0d0887\"], [0.1111111111111111, \"#46039f\"], [0.2222222222222222, \"#7201a8\"], [0.3333333333333333, \"#9c179e\"], [0.4444444444444444, \"#bd3786\"], [0.5555555555555556, \"#d8576b\"], [0.6666666666666666, \"#ed7953\"], [0.7777777777777778, \"#fb9f3a\"], [0.8888888888888888, \"#fdca26\"], [1.0, \"#f0f921\"]], \"type\": \"surface\"}], \"table\": [{\"cells\": {\"fill\": {\"color\": \"#EBF0F8\"}, \"line\": {\"color\": \"white\"}}, \"header\": {\"fill\": {\"color\": \"#C8D4E3\"}, \"line\": {\"color\": \"white\"}}, \"type\": \"table\"}]}, \"layout\": {\"annotationdefaults\": {\"arrowcolor\": \"#2a3f5f\", \"arrowhead\": 0, \"arrowwidth\": 1}, \"coloraxis\": {\"colorbar\": {\"outlinewidth\": 0, \"ticks\": \"\"}}, \"colorscale\": {\"diverging\": [[0, \"#8e0152\"], [0.1, \"#c51b7d\"], [0.2, \"#de77ae\"], [0.3, \"#f1b6da\"], [0.4, \"#fde0ef\"], [0.5, \"#f7f7f7\"], [0.6, \"#e6f5d0\"], [0.7, \"#b8e186\"], [0.8, \"#7fbc41\"], [0.9, \"#4d9221\"], [1, \"#276419\"]], \"sequential\": [[0.0, \"#0d0887\"], [0.1111111111111111, \"#46039f\"], [0.2222222222222222, \"#7201a8\"], [0.3333333333333333, \"#9c179e\"], [0.4444444444444444, \"#bd3786\"], [0.5555555555555556, \"#d8576b\"], [0.6666666666666666, \"#ed7953\"], [0.7777777777777778, \"#fb9f3a\"], [0.8888888888888888, \"#fdca26\"], [1.0, \"#f0f921\"]], \"sequentialminus\": [[0.0, \"#0d0887\"], [0.1111111111111111, \"#46039f\"], [0.2222222222222222, \"#7201a8\"], [0.3333333333333333, \"#9c179e\"], [0.4444444444444444, \"#bd3786\"], [0.5555555555555556, \"#d8576b\"], [0.6666666666666666, \"#ed7953\"], [0.7777777777777778, \"#fb9f3a\"], [0.8888888888888888, \"#fdca26\"], [1.0, \"#f0f921\"]]}, \"colorway\": [\"#636efa\", \"#EF553B\", \"#00cc96\", \"#ab63fa\", \"#FFA15A\", \"#19d3f3\", \"#FF6692\", \"#B6E880\", \"#FF97FF\", \"#FECB52\"], \"font\": {\"color\": \"#2a3f5f\"}, \"geo\": {\"bgcolor\": \"white\", \"lakecolor\": \"white\", \"landcolor\": \"#E5ECF6\", \"showlakes\": true, \"showland\": true, \"subunitcolor\": \"white\"}, \"hoverlabel\": {\"align\": \"left\"}, \"hovermode\": \"closest\", \"mapbox\": {\"style\": \"light\"}, \"paper_bgcolor\": \"white\", \"plot_bgcolor\": \"#E5ECF6\", \"polar\": {\"angularaxis\": {\"gridcolor\": \"white\", \"linecolor\": \"white\", \"ticks\": \"\"}, \"bgcolor\": \"#E5ECF6\", \"radialaxis\": {\"gridcolor\": \"white\", \"linecolor\": \"white\", \"ticks\": \"\"}}, \"scene\": {\"xaxis\": {\"backgroundcolor\": \"#E5ECF6\", \"gridcolor\": \"white\", \"gridwidth\": 2, \"linecolor\": \"white\", \"showbackground\": true, \"ticks\": \"\", \"zerolinecolor\": \"white\"}, \"yaxis\": {\"backgroundcolor\": \"#E5ECF6\", \"gridcolor\": \"white\", \"gridwidth\": 2, \"linecolor\": \"white\", \"showbackground\": true, \"ticks\": \"\", \"zerolinecolor\": \"white\"}, \"zaxis\": {\"backgroundcolor\": \"#E5ECF6\", \"gridcolor\": \"white\", \"gridwidth\": 2, \"linecolor\": \"white\", \"showbackground\": true, \"ticks\": \"\", \"zerolinecolor\": \"white\"}}, \"shapedefaults\": {\"line\": {\"color\": \"#2a3f5f\"}}, \"ternary\": {\"aaxis\": {\"gridcolor\": \"white\", \"linecolor\": \"white\", \"ticks\": \"\"}, \"baxis\": {\"gridcolor\": \"white\", \"linecolor\": \"white\", \"ticks\": \"\"}, \"bgcolor\": \"#E5ECF6\", \"caxis\": {\"gridcolor\": \"white\", \"linecolor\": \"white\", \"ticks\": \"\"}}, \"title\": {\"x\": 0.05}, \"xaxis\": {\"automargin\": true, \"gridcolor\": \"white\", \"linecolor\": \"white\", \"ticks\": \"\", \"title\": {\"standoff\": 15}, \"zerolinecolor\": \"white\", \"zerolinewidth\": 2}, \"yaxis\": {\"automargin\": true, \"gridcolor\": \"white\", \"linecolor\": \"white\", \"ticks\": \"\", \"title\": {\"standoff\": 15}, \"zerolinecolor\": \"white\", \"zerolinewidth\": 2}}}},                        {\"responsive\": true}                    ).then(function(){\n",
       "                            \n",
       "var gd = document.getElementById('b0a89058-1da3-4572-bcc2-c670c9ae113a');\n",
       "var x = new MutationObserver(function (mutations, observer) {{\n",
       "        var display = window.getComputedStyle(gd).display;\n",
       "        if (!display || display === 'none') {{\n",
       "            console.log([gd, 'removed!']);\n",
       "            Plotly.purge(gd);\n",
       "            observer.disconnect();\n",
       "        }}\n",
       "}});\n",
       "\n",
       "// Listen for the removal of the full notebook cells\n",
       "var notebookContainer = gd.closest('#notebook-container');\n",
       "if (notebookContainer) {{\n",
       "    x.observe(notebookContainer, {childList: true});\n",
       "}}\n",
       "\n",
       "// Listen for the clearing of the current output cell\n",
       "var outputEl = gd.closest('.output');\n",
       "if (outputEl) {{\n",
       "    x.observe(outputEl, {childList: true});\n",
       "}}\n",
       "\n",
       "                        })                };                });            </script>        </div>"
      ]
     },
     "metadata": {},
     "output_type": "display_data"
    }
   ],
   "source": [
    "import plotly.express as px\n",
    "import numpy as np\n",
    "import pandas as pd\n",
    "\n",
    "'''Variable year, import_export'''\n",
    "year = 2018\n",
    "# 'IMPORT (RM)' or 'EXPORT (RM)'\n",
    "import_export = 'IMPORT (MILLION RM)'\n",
    "\n",
    "'''Read Data'''\n",
    "# Read Data\n",
    "df = pd.read_csv(\"trade_new.csv\")\n",
    "df_country = pd.read_csv(\"region.csv\")\n",
    "df = df[df['YEAR'] == 2017]\n",
    "'''Data Preprocessing'''\n",
    "# Filter year\n",
    "# GroupBy\n",
    "df_group = df.groupby('COUNTRY')['IMPORT (MILLION RM)'].sum().reset_index()\n",
    "# Merge\n",
    "df_merge = df_group.merge(df_country, on='COUNTRY', how='inner')\n",
    "# Clean 0 trade\n",
    "df_merge = df_merge[df_merge['IMPORT (MILLION RM)']>0]\n",
    "df_merge[\"WORLD\"] = \"WORLD\" # in order to have a single root node\n",
    "\n",
    "'''Plot'''\n",
    "fig = px.treemap(df_merge, path=['WORLD', 'Region','COUNTRY'], values='IMPORT (MILLION RM)',\n",
    "                  color='IMPORT (MILLION RM)', hover_data=['IMPORT (MILLION RM)'],\n",
    "                  color_continuous_scale='RdBu')\n",
    "#                   color_continuous_midpoint=np.average(df4['sum_import'], weights=df4['sum_import']))\n",
    "fig.show()"
   ]
  },
  {
   "cell_type": "code",
   "execution_count": 74,
   "metadata": {},
   "outputs": [
    {
     "data": {
      "text/html": [
       "<div>\n",
       "<style scoped>\n",
       "    .dataframe tbody tr th:only-of-type {\n",
       "        vertical-align: middle;\n",
       "    }\n",
       "\n",
       "    .dataframe tbody tr th {\n",
       "        vertical-align: top;\n",
       "    }\n",
       "\n",
       "    .dataframe thead th {\n",
       "        text-align: right;\n",
       "    }\n",
       "</style>\n",
       "<table border=\"1\" class=\"dataframe\">\n",
       "  <thead>\n",
       "    <tr style=\"text-align: right;\">\n",
       "      <th></th>\n",
       "      <th>YEAR</th>\n",
       "      <th>COUNTRY</th>\n",
       "      <th>SITC 1 DIGIT</th>\n",
       "      <th>SITC 2 DIGIT</th>\n",
       "      <th>IMPORT (MILLION RM)</th>\n",
       "      <th>EXPORT (MILLION RM)</th>\n",
       "      <th>DEFICIT/SURPLUS (MILLION RM)</th>\n",
       "    </tr>\n",
       "  </thead>\n",
       "  <tbody>\n",
       "    <tr>\n",
       "      <th>37756</th>\n",
       "      <td>2017</td>\n",
       "      <td>AFGHANISTAN</td>\n",
       "      <td>0</td>\n",
       "      <td>0</td>\n",
       "      <td>0.000000</td>\n",
       "      <td>0.000000</td>\n",
       "      <td>0.000000</td>\n",
       "    </tr>\n",
       "    <tr>\n",
       "      <th>37757</th>\n",
       "      <td>2017</td>\n",
       "      <td>AFGHANISTAN</td>\n",
       "      <td>0</td>\n",
       "      <td>4</td>\n",
       "      <td>0.000000</td>\n",
       "      <td>0.000000</td>\n",
       "      <td>0.000000</td>\n",
       "    </tr>\n",
       "    <tr>\n",
       "      <th>37758</th>\n",
       "      <td>2017</td>\n",
       "      <td>AFGHANISTAN</td>\n",
       "      <td>0</td>\n",
       "      <td>5</td>\n",
       "      <td>0.000000</td>\n",
       "      <td>0.000000</td>\n",
       "      <td>0.000000</td>\n",
       "    </tr>\n",
       "    <tr>\n",
       "      <th>37759</th>\n",
       "      <td>2017</td>\n",
       "      <td>AFGHANISTAN</td>\n",
       "      <td>0</td>\n",
       "      <td>7</td>\n",
       "      <td>0.000000</td>\n",
       "      <td>0.601560</td>\n",
       "      <td>0.601560</td>\n",
       "    </tr>\n",
       "    <tr>\n",
       "      <th>37760</th>\n",
       "      <td>2017</td>\n",
       "      <td>AFGHANISTAN</td>\n",
       "      <td>0</td>\n",
       "      <td>9</td>\n",
       "      <td>0.000000</td>\n",
       "      <td>1.223472</td>\n",
       "      <td>1.223472</td>\n",
       "    </tr>\n",
       "    <tr>\n",
       "      <th>...</th>\n",
       "      <td>...</td>\n",
       "      <td>...</td>\n",
       "      <td>...</td>\n",
       "      <td>...</td>\n",
       "      <td>...</td>\n",
       "      <td>...</td>\n",
       "      <td>...</td>\n",
       "    </tr>\n",
       "    <tr>\n",
       "      <th>47808</th>\n",
       "      <td>2017</td>\n",
       "      <td>ZIMBABWE</td>\n",
       "      <td>8</td>\n",
       "      <td>84</td>\n",
       "      <td>0.000000</td>\n",
       "      <td>1.426545</td>\n",
       "      <td>1.426545</td>\n",
       "    </tr>\n",
       "    <tr>\n",
       "      <th>47809</th>\n",
       "      <td>2017</td>\n",
       "      <td>ZIMBABWE</td>\n",
       "      <td>8</td>\n",
       "      <td>87</td>\n",
       "      <td>0.000000</td>\n",
       "      <td>0.252405</td>\n",
       "      <td>0.252405</td>\n",
       "    </tr>\n",
       "    <tr>\n",
       "      <th>47810</th>\n",
       "      <td>2017</td>\n",
       "      <td>ZIMBABWE</td>\n",
       "      <td>8</td>\n",
       "      <td>88</td>\n",
       "      <td>0.000000</td>\n",
       "      <td>0.000000</td>\n",
       "      <td>0.000000</td>\n",
       "    </tr>\n",
       "    <tr>\n",
       "      <th>47811</th>\n",
       "      <td>2017</td>\n",
       "      <td>ZIMBABWE</td>\n",
       "      <td>8</td>\n",
       "      <td>89</td>\n",
       "      <td>0.000000</td>\n",
       "      <td>0.122687</td>\n",
       "      <td>0.122687</td>\n",
       "    </tr>\n",
       "    <tr>\n",
       "      <th>47812</th>\n",
       "      <td>2017</td>\n",
       "      <td>ZIMBABWE</td>\n",
       "      <td>9</td>\n",
       "      <td>93</td>\n",
       "      <td>0.009722</td>\n",
       "      <td>0.124771</td>\n",
       "      <td>0.115049</td>\n",
       "    </tr>\n",
       "  </tbody>\n",
       "</table>\n",
       "<p>10057 rows × 7 columns</p>\n",
       "</div>"
      ],
      "text/plain": [
       "       YEAR      COUNTRY  SITC 1 DIGIT  SITC 2 DIGIT  IMPORT (MILLION RM)  \\\n",
       "37756  2017  AFGHANISTAN             0             0             0.000000   \n",
       "37757  2017  AFGHANISTAN             0             4             0.000000   \n",
       "37758  2017  AFGHANISTAN             0             5             0.000000   \n",
       "37759  2017  AFGHANISTAN             0             7             0.000000   \n",
       "37760  2017  AFGHANISTAN             0             9             0.000000   \n",
       "...     ...          ...           ...           ...                  ...   \n",
       "47808  2017     ZIMBABWE             8            84             0.000000   \n",
       "47809  2017     ZIMBABWE             8            87             0.000000   \n",
       "47810  2017     ZIMBABWE             8            88             0.000000   \n",
       "47811  2017     ZIMBABWE             8            89             0.000000   \n",
       "47812  2017     ZIMBABWE             9            93             0.009722   \n",
       "\n",
       "       EXPORT (MILLION RM)  DEFICIT/SURPLUS (MILLION RM)  \n",
       "37756             0.000000                      0.000000  \n",
       "37757             0.000000                      0.000000  \n",
       "37758             0.000000                      0.000000  \n",
       "37759             0.601560                      0.601560  \n",
       "37760             1.223472                      1.223472  \n",
       "...                    ...                           ...  \n",
       "47808             1.426545                      1.426545  \n",
       "47809             0.252405                      0.252405  \n",
       "47810             0.000000                      0.000000  \n",
       "47811             0.122687                      0.122687  \n",
       "47812             0.124771                      0.115049  \n",
       "\n",
       "[10057 rows x 7 columns]"
      ]
     },
     "execution_count": 74,
     "metadata": {},
     "output_type": "execute_result"
    }
   ],
   "source": [
    "df"
   ]
  },
  {
   "cell_type": "code",
   "execution_count": 78,
   "metadata": {},
   "outputs": [
    {
     "data": {
      "text/html": [
       "<div>\n",
       "<style scoped>\n",
       "    .dataframe tbody tr th:only-of-type {\n",
       "        vertical-align: middle;\n",
       "    }\n",
       "\n",
       "    .dataframe tbody tr th {\n",
       "        vertical-align: top;\n",
       "    }\n",
       "\n",
       "    .dataframe thead th {\n",
       "        text-align: right;\n",
       "    }\n",
       "</style>\n",
       "<table border=\"1\" class=\"dataframe\">\n",
       "  <thead>\n",
       "    <tr style=\"text-align: right;\">\n",
       "      <th></th>\n",
       "      <th>YEAR</th>\n",
       "      <th>COUNTRY</th>\n",
       "      <th>SITC 1 DIGIT</th>\n",
       "      <th>SITC 2 DIGIT</th>\n",
       "      <th>IMPORT (MILLION RM)</th>\n",
       "      <th>EXPORT (MILLION RM)</th>\n",
       "      <th>DEFICIT/SURPLUS (MILLION RM)</th>\n",
       "    </tr>\n",
       "  </thead>\n",
       "  <tbody>\n",
       "    <tr>\n",
       "      <th>37756</th>\n",
       "      <td>2017</td>\n",
       "      <td>AFGHANISTAN</td>\n",
       "      <td>0</td>\n",
       "      <td>0</td>\n",
       "      <td>0.000000</td>\n",
       "      <td>0.000000</td>\n",
       "      <td>0.000000</td>\n",
       "    </tr>\n",
       "    <tr>\n",
       "      <th>37757</th>\n",
       "      <td>2017</td>\n",
       "      <td>AFGHANISTAN</td>\n",
       "      <td>0</td>\n",
       "      <td>4</td>\n",
       "      <td>0.000000</td>\n",
       "      <td>0.000000</td>\n",
       "      <td>0.000000</td>\n",
       "    </tr>\n",
       "    <tr>\n",
       "      <th>37758</th>\n",
       "      <td>2017</td>\n",
       "      <td>AFGHANISTAN</td>\n",
       "      <td>0</td>\n",
       "      <td>5</td>\n",
       "      <td>0.000000</td>\n",
       "      <td>0.000000</td>\n",
       "      <td>0.000000</td>\n",
       "    </tr>\n",
       "    <tr>\n",
       "      <th>37759</th>\n",
       "      <td>2017</td>\n",
       "      <td>AFGHANISTAN</td>\n",
       "      <td>0</td>\n",
       "      <td>7</td>\n",
       "      <td>0.000000</td>\n",
       "      <td>0.601560</td>\n",
       "      <td>0.601560</td>\n",
       "    </tr>\n",
       "    <tr>\n",
       "      <th>37760</th>\n",
       "      <td>2017</td>\n",
       "      <td>AFGHANISTAN</td>\n",
       "      <td>0</td>\n",
       "      <td>9</td>\n",
       "      <td>0.000000</td>\n",
       "      <td>1.223472</td>\n",
       "      <td>1.223472</td>\n",
       "    </tr>\n",
       "    <tr>\n",
       "      <th>...</th>\n",
       "      <td>...</td>\n",
       "      <td>...</td>\n",
       "      <td>...</td>\n",
       "      <td>...</td>\n",
       "      <td>...</td>\n",
       "      <td>...</td>\n",
       "      <td>...</td>\n",
       "    </tr>\n",
       "    <tr>\n",
       "      <th>47808</th>\n",
       "      <td>2017</td>\n",
       "      <td>ZIMBABWE</td>\n",
       "      <td>8</td>\n",
       "      <td>84</td>\n",
       "      <td>0.000000</td>\n",
       "      <td>1.426545</td>\n",
       "      <td>1.426545</td>\n",
       "    </tr>\n",
       "    <tr>\n",
       "      <th>47809</th>\n",
       "      <td>2017</td>\n",
       "      <td>ZIMBABWE</td>\n",
       "      <td>8</td>\n",
       "      <td>87</td>\n",
       "      <td>0.000000</td>\n",
       "      <td>0.252405</td>\n",
       "      <td>0.252405</td>\n",
       "    </tr>\n",
       "    <tr>\n",
       "      <th>47810</th>\n",
       "      <td>2017</td>\n",
       "      <td>ZIMBABWE</td>\n",
       "      <td>8</td>\n",
       "      <td>88</td>\n",
       "      <td>0.000000</td>\n",
       "      <td>0.000000</td>\n",
       "      <td>0.000000</td>\n",
       "    </tr>\n",
       "    <tr>\n",
       "      <th>47811</th>\n",
       "      <td>2017</td>\n",
       "      <td>ZIMBABWE</td>\n",
       "      <td>8</td>\n",
       "      <td>89</td>\n",
       "      <td>0.000000</td>\n",
       "      <td>0.122687</td>\n",
       "      <td>0.122687</td>\n",
       "    </tr>\n",
       "    <tr>\n",
       "      <th>47812</th>\n",
       "      <td>2017</td>\n",
       "      <td>ZIMBABWE</td>\n",
       "      <td>9</td>\n",
       "      <td>93</td>\n",
       "      <td>0.009722</td>\n",
       "      <td>0.124771</td>\n",
       "      <td>0.115049</td>\n",
       "    </tr>\n",
       "  </tbody>\n",
       "</table>\n",
       "<p>10057 rows × 7 columns</p>\n",
       "</div>"
      ],
      "text/plain": [
       "       YEAR      COUNTRY  SITC 1 DIGIT  SITC 2 DIGIT  IMPORT (MILLION RM)  \\\n",
       "37756  2017  AFGHANISTAN             0             0             0.000000   \n",
       "37757  2017  AFGHANISTAN             0             4             0.000000   \n",
       "37758  2017  AFGHANISTAN             0             5             0.000000   \n",
       "37759  2017  AFGHANISTAN             0             7             0.000000   \n",
       "37760  2017  AFGHANISTAN             0             9             0.000000   \n",
       "...     ...          ...           ...           ...                  ...   \n",
       "47808  2017     ZIMBABWE             8            84             0.000000   \n",
       "47809  2017     ZIMBABWE             8            87             0.000000   \n",
       "47810  2017     ZIMBABWE             8            88             0.000000   \n",
       "47811  2017     ZIMBABWE             8            89             0.000000   \n",
       "47812  2017     ZIMBABWE             9            93             0.009722   \n",
       "\n",
       "       EXPORT (MILLION RM)  DEFICIT/SURPLUS (MILLION RM)  \n",
       "37756             0.000000                      0.000000  \n",
       "37757             0.000000                      0.000000  \n",
       "37758             0.000000                      0.000000  \n",
       "37759             0.601560                      0.601560  \n",
       "37760             1.223472                      1.223472  \n",
       "...                    ...                           ...  \n",
       "47808             1.426545                      1.426545  \n",
       "47809             0.252405                      0.252405  \n",
       "47810             0.000000                      0.000000  \n",
       "47811             0.122687                      0.122687  \n",
       "47812             0.124771                      0.115049  \n",
       "\n",
       "[10057 rows x 7 columns]"
      ]
     },
     "execution_count": 78,
     "metadata": {},
     "output_type": "execute_result"
    }
   ],
   "source": [
    "df"
   ]
  },
  {
   "cell_type": "code",
   "execution_count": 79,
   "metadata": {},
   "outputs": [
    {
     "data": {
      "text/html": [
       "<div>\n",
       "<style scoped>\n",
       "    .dataframe tbody tr th:only-of-type {\n",
       "        vertical-align: middle;\n",
       "    }\n",
       "\n",
       "    .dataframe tbody tr th {\n",
       "        vertical-align: top;\n",
       "    }\n",
       "\n",
       "    .dataframe thead th {\n",
       "        text-align: right;\n",
       "    }\n",
       "</style>\n",
       "<table border=\"1\" class=\"dataframe\">\n",
       "  <thead>\n",
       "    <tr style=\"text-align: right;\">\n",
       "      <th></th>\n",
       "      <th>SITC 2 DIGIT</th>\n",
       "      <th>SITC 1 DIGIT</th>\n",
       "      <th>IMPORT (MILLION RM)</th>\n",
       "    </tr>\n",
       "  </thead>\n",
       "  <tbody>\n",
       "    <tr>\n",
       "      <th>0</th>\n",
       "      <td>0</td>\n",
       "      <td>0</td>\n",
       "      <td>269.890616</td>\n",
       "    </tr>\n",
       "    <tr>\n",
       "      <th>1</th>\n",
       "      <td>1</td>\n",
       "      <td>0</td>\n",
       "      <td>4126.268346</td>\n",
       "    </tr>\n",
       "    <tr>\n",
       "      <th>2</th>\n",
       "      <td>2</td>\n",
       "      <td>0</td>\n",
       "      <td>3940.902177</td>\n",
       "    </tr>\n",
       "    <tr>\n",
       "      <th>3</th>\n",
       "      <td>3</td>\n",
       "      <td>0</td>\n",
       "      <td>4003.695882</td>\n",
       "    </tr>\n",
       "    <tr>\n",
       "      <th>4</th>\n",
       "      <td>4</td>\n",
       "      <td>0</td>\n",
       "      <td>7963.377055</td>\n",
       "    </tr>\n",
       "    <tr>\n",
       "      <th>...</th>\n",
       "      <td>...</td>\n",
       "      <td>...</td>\n",
       "      <td>...</td>\n",
       "    </tr>\n",
       "    <tr>\n",
       "      <th>61</th>\n",
       "      <td>88</td>\n",
       "      <td>8</td>\n",
       "      <td>5134.699397</td>\n",
       "    </tr>\n",
       "    <tr>\n",
       "      <th>62</th>\n",
       "      <td>89</td>\n",
       "      <td>8</td>\n",
       "      <td>18023.759841</td>\n",
       "    </tr>\n",
       "    <tr>\n",
       "      <th>63</th>\n",
       "      <td>93</td>\n",
       "      <td>9</td>\n",
       "      <td>3136.876629</td>\n",
       "    </tr>\n",
       "    <tr>\n",
       "      <th>64</th>\n",
       "      <td>96</td>\n",
       "      <td>9</td>\n",
       "      <td>93.647931</td>\n",
       "    </tr>\n",
       "    <tr>\n",
       "      <th>65</th>\n",
       "      <td>97</td>\n",
       "      <td>9</td>\n",
       "      <td>13932.540778</td>\n",
       "    </tr>\n",
       "  </tbody>\n",
       "</table>\n",
       "<p>66 rows × 3 columns</p>\n",
       "</div>"
      ],
      "text/plain": [
       "    SITC 2 DIGIT  SITC 1 DIGIT  IMPORT (MILLION RM)\n",
       "0              0             0           269.890616\n",
       "1              1             0          4126.268346\n",
       "2              2             0          3940.902177\n",
       "3              3             0          4003.695882\n",
       "4              4             0          7963.377055\n",
       "..           ...           ...                  ...\n",
       "61            88             8          5134.699397\n",
       "62            89             8         18023.759841\n",
       "63            93             9          3136.876629\n",
       "64            96             9            93.647931\n",
       "65            97             9         13932.540778\n",
       "\n",
       "[66 rows x 3 columns]"
      ]
     },
     "execution_count": 79,
     "metadata": {},
     "output_type": "execute_result"
    }
   ],
   "source": [
    "df_group = df.groupby(['SITC 2 DIGIT','SITC 1 DIGIT'])['IMPORT (MILLION RM)'].sum().reset_index()\n",
    "df_group"
   ]
  },
  {
   "cell_type": "code",
   "execution_count": 80,
   "metadata": {},
   "outputs": [
    {
     "data": {
      "text/html": [
       "<div>\n",
       "<style scoped>\n",
       "    .dataframe tbody tr th:only-of-type {\n",
       "        vertical-align: middle;\n",
       "    }\n",
       "\n",
       "    .dataframe tbody tr th {\n",
       "        vertical-align: top;\n",
       "    }\n",
       "\n",
       "    .dataframe thead th {\n",
       "        text-align: right;\n",
       "    }\n",
       "</style>\n",
       "<table border=\"1\" class=\"dataframe\">\n",
       "  <thead>\n",
       "    <tr style=\"text-align: right;\">\n",
       "      <th></th>\n",
       "      <th>YEAR</th>\n",
       "      <th>COUNTRY</th>\n",
       "      <th>SITC 1 DIGIT</th>\n",
       "      <th>SITC 2 DIGIT</th>\n",
       "      <th>IMPORT (MILLION RM)</th>\n",
       "      <th>EXPORT (MILLION RM)</th>\n",
       "      <th>DEFICIT/SURPLUS (MILLION RM)</th>\n",
       "    </tr>\n",
       "  </thead>\n",
       "  <tbody>\n",
       "    <tr>\n",
       "      <th>37756</th>\n",
       "      <td>2017</td>\n",
       "      <td>AFGHANISTAN</td>\n",
       "      <td>0</td>\n",
       "      <td>0</td>\n",
       "      <td>0.000000</td>\n",
       "      <td>0.000000</td>\n",
       "      <td>0.000000</td>\n",
       "    </tr>\n",
       "    <tr>\n",
       "      <th>37757</th>\n",
       "      <td>2017</td>\n",
       "      <td>AFGHANISTAN</td>\n",
       "      <td>0</td>\n",
       "      <td>4</td>\n",
       "      <td>0.000000</td>\n",
       "      <td>0.000000</td>\n",
       "      <td>0.000000</td>\n",
       "    </tr>\n",
       "    <tr>\n",
       "      <th>37758</th>\n",
       "      <td>2017</td>\n",
       "      <td>AFGHANISTAN</td>\n",
       "      <td>0</td>\n",
       "      <td>5</td>\n",
       "      <td>0.000000</td>\n",
       "      <td>0.000000</td>\n",
       "      <td>0.000000</td>\n",
       "    </tr>\n",
       "    <tr>\n",
       "      <th>37759</th>\n",
       "      <td>2017</td>\n",
       "      <td>AFGHANISTAN</td>\n",
       "      <td>0</td>\n",
       "      <td>7</td>\n",
       "      <td>0.000000</td>\n",
       "      <td>0.601560</td>\n",
       "      <td>0.601560</td>\n",
       "    </tr>\n",
       "    <tr>\n",
       "      <th>37760</th>\n",
       "      <td>2017</td>\n",
       "      <td>AFGHANISTAN</td>\n",
       "      <td>0</td>\n",
       "      <td>9</td>\n",
       "      <td>0.000000</td>\n",
       "      <td>1.223472</td>\n",
       "      <td>1.223472</td>\n",
       "    </tr>\n",
       "    <tr>\n",
       "      <th>...</th>\n",
       "      <td>...</td>\n",
       "      <td>...</td>\n",
       "      <td>...</td>\n",
       "      <td>...</td>\n",
       "      <td>...</td>\n",
       "      <td>...</td>\n",
       "      <td>...</td>\n",
       "    </tr>\n",
       "    <tr>\n",
       "      <th>47808</th>\n",
       "      <td>2017</td>\n",
       "      <td>ZIMBABWE</td>\n",
       "      <td>8</td>\n",
       "      <td>84</td>\n",
       "      <td>0.000000</td>\n",
       "      <td>1.426545</td>\n",
       "      <td>1.426545</td>\n",
       "    </tr>\n",
       "    <tr>\n",
       "      <th>47809</th>\n",
       "      <td>2017</td>\n",
       "      <td>ZIMBABWE</td>\n",
       "      <td>8</td>\n",
       "      <td>87</td>\n",
       "      <td>0.000000</td>\n",
       "      <td>0.252405</td>\n",
       "      <td>0.252405</td>\n",
       "    </tr>\n",
       "    <tr>\n",
       "      <th>47810</th>\n",
       "      <td>2017</td>\n",
       "      <td>ZIMBABWE</td>\n",
       "      <td>8</td>\n",
       "      <td>88</td>\n",
       "      <td>0.000000</td>\n",
       "      <td>0.000000</td>\n",
       "      <td>0.000000</td>\n",
       "    </tr>\n",
       "    <tr>\n",
       "      <th>47811</th>\n",
       "      <td>2017</td>\n",
       "      <td>ZIMBABWE</td>\n",
       "      <td>8</td>\n",
       "      <td>89</td>\n",
       "      <td>0.000000</td>\n",
       "      <td>0.122687</td>\n",
       "      <td>0.122687</td>\n",
       "    </tr>\n",
       "    <tr>\n",
       "      <th>47812</th>\n",
       "      <td>2017</td>\n",
       "      <td>ZIMBABWE</td>\n",
       "      <td>9</td>\n",
       "      <td>93</td>\n",
       "      <td>0.009722</td>\n",
       "      <td>0.124771</td>\n",
       "      <td>0.115049</td>\n",
       "    </tr>\n",
       "  </tbody>\n",
       "</table>\n",
       "<p>10057 rows × 7 columns</p>\n",
       "</div>"
      ],
      "text/plain": [
       "       YEAR      COUNTRY  SITC 1 DIGIT  SITC 2 DIGIT  IMPORT (MILLION RM)  \\\n",
       "37756  2017  AFGHANISTAN             0             0             0.000000   \n",
       "37757  2017  AFGHANISTAN             0             4             0.000000   \n",
       "37758  2017  AFGHANISTAN             0             5             0.000000   \n",
       "37759  2017  AFGHANISTAN             0             7             0.000000   \n",
       "37760  2017  AFGHANISTAN             0             9             0.000000   \n",
       "...     ...          ...           ...           ...                  ...   \n",
       "47808  2017     ZIMBABWE             8            84             0.000000   \n",
       "47809  2017     ZIMBABWE             8            87             0.000000   \n",
       "47810  2017     ZIMBABWE             8            88             0.000000   \n",
       "47811  2017     ZIMBABWE             8            89             0.000000   \n",
       "47812  2017     ZIMBABWE             9            93             0.009722   \n",
       "\n",
       "       EXPORT (MILLION RM)  DEFICIT/SURPLUS (MILLION RM)  \n",
       "37756             0.000000                      0.000000  \n",
       "37757             0.000000                      0.000000  \n",
       "37758             0.000000                      0.000000  \n",
       "37759             0.601560                      0.601560  \n",
       "37760             1.223472                      1.223472  \n",
       "...                    ...                           ...  \n",
       "47808             1.426545                      1.426545  \n",
       "47809             0.252405                      0.252405  \n",
       "47810             0.000000                      0.000000  \n",
       "47811             0.122687                      0.122687  \n",
       "47812             0.124771                      0.115049  \n",
       "\n",
       "[10057 rows x 7 columns]"
      ]
     },
     "execution_count": 80,
     "metadata": {},
     "output_type": "execute_result"
    }
   ],
   "source": [
    "df"
   ]
  },
  {
   "cell_type": "code",
   "execution_count": 86,
   "metadata": {},
   "outputs": [
    {
     "data": {
      "text/html": [
       "<div>\n",
       "<style scoped>\n",
       "    .dataframe tbody tr th:only-of-type {\n",
       "        vertical-align: middle;\n",
       "    }\n",
       "\n",
       "    .dataframe tbody tr th {\n",
       "        vertical-align: top;\n",
       "    }\n",
       "\n",
       "    .dataframe thead th {\n",
       "        text-align: right;\n",
       "    }\n",
       "</style>\n",
       "<table border=\"1\" class=\"dataframe\">\n",
       "  <thead>\n",
       "    <tr style=\"text-align: right;\">\n",
       "      <th></th>\n",
       "      <th>YEAR</th>\n",
       "      <th>COUNTRY</th>\n",
       "      <th>SITC 1 DIGIT</th>\n",
       "      <th>SITC 2 DIGIT</th>\n",
       "      <th>IMPORT (MILLION RM)</th>\n",
       "      <th>EXPORT (MILLION RM)</th>\n",
       "      <th>DEFICIT/SURPLUS (MILLION RM)</th>\n",
       "    </tr>\n",
       "  </thead>\n",
       "  <tbody>\n",
       "    <tr>\n",
       "      <th>37793</th>\n",
       "      <td>2017</td>\n",
       "      <td>ALBANIA</td>\n",
       "      <td>0</td>\n",
       "      <td>2</td>\n",
       "      <td>0.000000</td>\n",
       "      <td>0.000000</td>\n",
       "      <td>0.000000</td>\n",
       "    </tr>\n",
       "    <tr>\n",
       "      <th>37794</th>\n",
       "      <td>2017</td>\n",
       "      <td>ALBANIA</td>\n",
       "      <td>0</td>\n",
       "      <td>3</td>\n",
       "      <td>0.000000</td>\n",
       "      <td>0.000000</td>\n",
       "      <td>0.000000</td>\n",
       "    </tr>\n",
       "    <tr>\n",
       "      <th>37795</th>\n",
       "      <td>2017</td>\n",
       "      <td>ALBANIA</td>\n",
       "      <td>0</td>\n",
       "      <td>4</td>\n",
       "      <td>0.000000</td>\n",
       "      <td>0.219536</td>\n",
       "      <td>0.219536</td>\n",
       "    </tr>\n",
       "    <tr>\n",
       "      <th>37796</th>\n",
       "      <td>2017</td>\n",
       "      <td>ALBANIA</td>\n",
       "      <td>0</td>\n",
       "      <td>5</td>\n",
       "      <td>0.000000</td>\n",
       "      <td>0.324254</td>\n",
       "      <td>0.324254</td>\n",
       "    </tr>\n",
       "    <tr>\n",
       "      <th>37797</th>\n",
       "      <td>2017</td>\n",
       "      <td>ALBANIA</td>\n",
       "      <td>0</td>\n",
       "      <td>7</td>\n",
       "      <td>0.000000</td>\n",
       "      <td>0.000000</td>\n",
       "      <td>0.000000</td>\n",
       "    </tr>\n",
       "    <tr>\n",
       "      <th>37798</th>\n",
       "      <td>2017</td>\n",
       "      <td>ALBANIA</td>\n",
       "      <td>0</td>\n",
       "      <td>8</td>\n",
       "      <td>0.000000</td>\n",
       "      <td>0.000000</td>\n",
       "      <td>0.000000</td>\n",
       "    </tr>\n",
       "    <tr>\n",
       "      <th>37799</th>\n",
       "      <td>2017</td>\n",
       "      <td>ALBANIA</td>\n",
       "      <td>0</td>\n",
       "      <td>9</td>\n",
       "      <td>0.017820</td>\n",
       "      <td>1.411656</td>\n",
       "      <td>1.393836</td>\n",
       "    </tr>\n",
       "    <tr>\n",
       "      <th>37800</th>\n",
       "      <td>2017</td>\n",
       "      <td>ALBANIA</td>\n",
       "      <td>1</td>\n",
       "      <td>11</td>\n",
       "      <td>0.000000</td>\n",
       "      <td>0.000000</td>\n",
       "      <td>0.000000</td>\n",
       "    </tr>\n",
       "    <tr>\n",
       "      <th>37801</th>\n",
       "      <td>2017</td>\n",
       "      <td>ALBANIA</td>\n",
       "      <td>2</td>\n",
       "      <td>24</td>\n",
       "      <td>0.000000</td>\n",
       "      <td>0.000000</td>\n",
       "      <td>0.000000</td>\n",
       "    </tr>\n",
       "    <tr>\n",
       "      <th>37802</th>\n",
       "      <td>2017</td>\n",
       "      <td>ALBANIA</td>\n",
       "      <td>2</td>\n",
       "      <td>25</td>\n",
       "      <td>0.000000</td>\n",
       "      <td>0.000000</td>\n",
       "      <td>0.000000</td>\n",
       "    </tr>\n",
       "    <tr>\n",
       "      <th>37803</th>\n",
       "      <td>2017</td>\n",
       "      <td>ALBANIA</td>\n",
       "      <td>2</td>\n",
       "      <td>28</td>\n",
       "      <td>0.000000</td>\n",
       "      <td>0.000000</td>\n",
       "      <td>0.000000</td>\n",
       "    </tr>\n",
       "    <tr>\n",
       "      <th>37804</th>\n",
       "      <td>2017</td>\n",
       "      <td>ALBANIA</td>\n",
       "      <td>2</td>\n",
       "      <td>29</td>\n",
       "      <td>0.000000</td>\n",
       "      <td>0.000000</td>\n",
       "      <td>0.000000</td>\n",
       "    </tr>\n",
       "    <tr>\n",
       "      <th>37805</th>\n",
       "      <td>2017</td>\n",
       "      <td>ALBANIA</td>\n",
       "      <td>4</td>\n",
       "      <td>42</td>\n",
       "      <td>0.000000</td>\n",
       "      <td>3.910577</td>\n",
       "      <td>3.910577</td>\n",
       "    </tr>\n",
       "    <tr>\n",
       "      <th>37806</th>\n",
       "      <td>2017</td>\n",
       "      <td>ALBANIA</td>\n",
       "      <td>4</td>\n",
       "      <td>43</td>\n",
       "      <td>0.000000</td>\n",
       "      <td>0.272148</td>\n",
       "      <td>0.272148</td>\n",
       "    </tr>\n",
       "    <tr>\n",
       "      <th>37807</th>\n",
       "      <td>2017</td>\n",
       "      <td>ALBANIA</td>\n",
       "      <td>5</td>\n",
       "      <td>51</td>\n",
       "      <td>0.000000</td>\n",
       "      <td>0.000000</td>\n",
       "      <td>0.000000</td>\n",
       "    </tr>\n",
       "    <tr>\n",
       "      <th>37808</th>\n",
       "      <td>2017</td>\n",
       "      <td>ALBANIA</td>\n",
       "      <td>5</td>\n",
       "      <td>54</td>\n",
       "      <td>0.000000</td>\n",
       "      <td>0.000000</td>\n",
       "      <td>0.000000</td>\n",
       "    </tr>\n",
       "    <tr>\n",
       "      <th>37809</th>\n",
       "      <td>2017</td>\n",
       "      <td>ALBANIA</td>\n",
       "      <td>5</td>\n",
       "      <td>55</td>\n",
       "      <td>0.000000</td>\n",
       "      <td>3.081305</td>\n",
       "      <td>3.081305</td>\n",
       "    </tr>\n",
       "    <tr>\n",
       "      <th>37810</th>\n",
       "      <td>2017</td>\n",
       "      <td>ALBANIA</td>\n",
       "      <td>5</td>\n",
       "      <td>57</td>\n",
       "      <td>0.000000</td>\n",
       "      <td>0.275183</td>\n",
       "      <td>0.275183</td>\n",
       "    </tr>\n",
       "    <tr>\n",
       "      <th>37811</th>\n",
       "      <td>2017</td>\n",
       "      <td>ALBANIA</td>\n",
       "      <td>5</td>\n",
       "      <td>58</td>\n",
       "      <td>0.000000</td>\n",
       "      <td>0.219543</td>\n",
       "      <td>0.219543</td>\n",
       "    </tr>\n",
       "    <tr>\n",
       "      <th>37812</th>\n",
       "      <td>2017</td>\n",
       "      <td>ALBANIA</td>\n",
       "      <td>5</td>\n",
       "      <td>59</td>\n",
       "      <td>0.000000</td>\n",
       "      <td>0.000000</td>\n",
       "      <td>0.000000</td>\n",
       "    </tr>\n",
       "    <tr>\n",
       "      <th>37813</th>\n",
       "      <td>2017</td>\n",
       "      <td>ALBANIA</td>\n",
       "      <td>6</td>\n",
       "      <td>62</td>\n",
       "      <td>0.000000</td>\n",
       "      <td>0.161880</td>\n",
       "      <td>0.161880</td>\n",
       "    </tr>\n",
       "    <tr>\n",
       "      <th>37814</th>\n",
       "      <td>2017</td>\n",
       "      <td>ALBANIA</td>\n",
       "      <td>6</td>\n",
       "      <td>64</td>\n",
       "      <td>0.000000</td>\n",
       "      <td>0.000000</td>\n",
       "      <td>0.000000</td>\n",
       "    </tr>\n",
       "    <tr>\n",
       "      <th>37815</th>\n",
       "      <td>2017</td>\n",
       "      <td>ALBANIA</td>\n",
       "      <td>6</td>\n",
       "      <td>65</td>\n",
       "      <td>0.000000</td>\n",
       "      <td>0.017268</td>\n",
       "      <td>0.017268</td>\n",
       "    </tr>\n",
       "    <tr>\n",
       "      <th>37816</th>\n",
       "      <td>2017</td>\n",
       "      <td>ALBANIA</td>\n",
       "      <td>6</td>\n",
       "      <td>66</td>\n",
       "      <td>0.000000</td>\n",
       "      <td>0.177681</td>\n",
       "      <td>0.177681</td>\n",
       "    </tr>\n",
       "    <tr>\n",
       "      <th>37817</th>\n",
       "      <td>2017</td>\n",
       "      <td>ALBANIA</td>\n",
       "      <td>6</td>\n",
       "      <td>67</td>\n",
       "      <td>0.199640</td>\n",
       "      <td>0.000000</td>\n",
       "      <td>-0.199640</td>\n",
       "    </tr>\n",
       "    <tr>\n",
       "      <th>37818</th>\n",
       "      <td>2017</td>\n",
       "      <td>ALBANIA</td>\n",
       "      <td>6</td>\n",
       "      <td>68</td>\n",
       "      <td>0.000000</td>\n",
       "      <td>0.000000</td>\n",
       "      <td>0.000000</td>\n",
       "    </tr>\n",
       "    <tr>\n",
       "      <th>37819</th>\n",
       "      <td>2017</td>\n",
       "      <td>ALBANIA</td>\n",
       "      <td>6</td>\n",
       "      <td>69</td>\n",
       "      <td>0.000000</td>\n",
       "      <td>0.931279</td>\n",
       "      <td>0.931279</td>\n",
       "    </tr>\n",
       "    <tr>\n",
       "      <th>37820</th>\n",
       "      <td>2017</td>\n",
       "      <td>ALBANIA</td>\n",
       "      <td>7</td>\n",
       "      <td>72</td>\n",
       "      <td>0.000000</td>\n",
       "      <td>0.376550</td>\n",
       "      <td>0.376550</td>\n",
       "    </tr>\n",
       "    <tr>\n",
       "      <th>37821</th>\n",
       "      <td>2017</td>\n",
       "      <td>ALBANIA</td>\n",
       "      <td>7</td>\n",
       "      <td>74</td>\n",
       "      <td>0.006615</td>\n",
       "      <td>0.191498</td>\n",
       "      <td>0.184883</td>\n",
       "    </tr>\n",
       "    <tr>\n",
       "      <th>37822</th>\n",
       "      <td>2017</td>\n",
       "      <td>ALBANIA</td>\n",
       "      <td>7</td>\n",
       "      <td>75</td>\n",
       "      <td>0.000000</td>\n",
       "      <td>0.056871</td>\n",
       "      <td>0.056871</td>\n",
       "    </tr>\n",
       "    <tr>\n",
       "      <th>37823</th>\n",
       "      <td>2017</td>\n",
       "      <td>ALBANIA</td>\n",
       "      <td>7</td>\n",
       "      <td>76</td>\n",
       "      <td>0.000000</td>\n",
       "      <td>0.000000</td>\n",
       "      <td>0.000000</td>\n",
       "    </tr>\n",
       "    <tr>\n",
       "      <th>37824</th>\n",
       "      <td>2017</td>\n",
       "      <td>ALBANIA</td>\n",
       "      <td>7</td>\n",
       "      <td>77</td>\n",
       "      <td>0.420583</td>\n",
       "      <td>1.170000</td>\n",
       "      <td>0.749417</td>\n",
       "    </tr>\n",
       "    <tr>\n",
       "      <th>37825</th>\n",
       "      <td>2017</td>\n",
       "      <td>ALBANIA</td>\n",
       "      <td>7</td>\n",
       "      <td>78</td>\n",
       "      <td>0.000000</td>\n",
       "      <td>0.000000</td>\n",
       "      <td>0.000000</td>\n",
       "    </tr>\n",
       "    <tr>\n",
       "      <th>37826</th>\n",
       "      <td>2017</td>\n",
       "      <td>ALBANIA</td>\n",
       "      <td>7</td>\n",
       "      <td>79</td>\n",
       "      <td>0.000000</td>\n",
       "      <td>0.000000</td>\n",
       "      <td>0.000000</td>\n",
       "    </tr>\n",
       "    <tr>\n",
       "      <th>37827</th>\n",
       "      <td>2017</td>\n",
       "      <td>ALBANIA</td>\n",
       "      <td>8</td>\n",
       "      <td>82</td>\n",
       "      <td>0.000000</td>\n",
       "      <td>1.833862</td>\n",
       "      <td>1.833862</td>\n",
       "    </tr>\n",
       "    <tr>\n",
       "      <th>37828</th>\n",
       "      <td>2017</td>\n",
       "      <td>ALBANIA</td>\n",
       "      <td>8</td>\n",
       "      <td>84</td>\n",
       "      <td>0.143210</td>\n",
       "      <td>3.413074</td>\n",
       "      <td>3.269864</td>\n",
       "    </tr>\n",
       "    <tr>\n",
       "      <th>37829</th>\n",
       "      <td>2017</td>\n",
       "      <td>ALBANIA</td>\n",
       "      <td>8</td>\n",
       "      <td>85</td>\n",
       "      <td>0.150662</td>\n",
       "      <td>0.000000</td>\n",
       "      <td>-0.150662</td>\n",
       "    </tr>\n",
       "    <tr>\n",
       "      <th>37830</th>\n",
       "      <td>2017</td>\n",
       "      <td>ALBANIA</td>\n",
       "      <td>8</td>\n",
       "      <td>87</td>\n",
       "      <td>0.209950</td>\n",
       "      <td>0.035729</td>\n",
       "      <td>-0.174221</td>\n",
       "    </tr>\n",
       "    <tr>\n",
       "      <th>37831</th>\n",
       "      <td>2017</td>\n",
       "      <td>ALBANIA</td>\n",
       "      <td>8</td>\n",
       "      <td>89</td>\n",
       "      <td>0.000000</td>\n",
       "      <td>0.127126</td>\n",
       "      <td>0.127126</td>\n",
       "    </tr>\n",
       "    <tr>\n",
       "      <th>37832</th>\n",
       "      <td>2017</td>\n",
       "      <td>ALBANIA</td>\n",
       "      <td>9</td>\n",
       "      <td>93</td>\n",
       "      <td>0.118477</td>\n",
       "      <td>0.049568</td>\n",
       "      <td>-0.068909</td>\n",
       "    </tr>\n",
       "  </tbody>\n",
       "</table>\n",
       "</div>"
      ],
      "text/plain": [
       "       YEAR  COUNTRY  SITC 1 DIGIT  SITC 2 DIGIT  IMPORT (MILLION RM)  \\\n",
       "37793  2017  ALBANIA             0             2             0.000000   \n",
       "37794  2017  ALBANIA             0             3             0.000000   \n",
       "37795  2017  ALBANIA             0             4             0.000000   \n",
       "37796  2017  ALBANIA             0             5             0.000000   \n",
       "37797  2017  ALBANIA             0             7             0.000000   \n",
       "37798  2017  ALBANIA             0             8             0.000000   \n",
       "37799  2017  ALBANIA             0             9             0.017820   \n",
       "37800  2017  ALBANIA             1            11             0.000000   \n",
       "37801  2017  ALBANIA             2            24             0.000000   \n",
       "37802  2017  ALBANIA             2            25             0.000000   \n",
       "37803  2017  ALBANIA             2            28             0.000000   \n",
       "37804  2017  ALBANIA             2            29             0.000000   \n",
       "37805  2017  ALBANIA             4            42             0.000000   \n",
       "37806  2017  ALBANIA             4            43             0.000000   \n",
       "37807  2017  ALBANIA             5            51             0.000000   \n",
       "37808  2017  ALBANIA             5            54             0.000000   \n",
       "37809  2017  ALBANIA             5            55             0.000000   \n",
       "37810  2017  ALBANIA             5            57             0.000000   \n",
       "37811  2017  ALBANIA             5            58             0.000000   \n",
       "37812  2017  ALBANIA             5            59             0.000000   \n",
       "37813  2017  ALBANIA             6            62             0.000000   \n",
       "37814  2017  ALBANIA             6            64             0.000000   \n",
       "37815  2017  ALBANIA             6            65             0.000000   \n",
       "37816  2017  ALBANIA             6            66             0.000000   \n",
       "37817  2017  ALBANIA             6            67             0.199640   \n",
       "37818  2017  ALBANIA             6            68             0.000000   \n",
       "37819  2017  ALBANIA             6            69             0.000000   \n",
       "37820  2017  ALBANIA             7            72             0.000000   \n",
       "37821  2017  ALBANIA             7            74             0.006615   \n",
       "37822  2017  ALBANIA             7            75             0.000000   \n",
       "37823  2017  ALBANIA             7            76             0.000000   \n",
       "37824  2017  ALBANIA             7            77             0.420583   \n",
       "37825  2017  ALBANIA             7            78             0.000000   \n",
       "37826  2017  ALBANIA             7            79             0.000000   \n",
       "37827  2017  ALBANIA             8            82             0.000000   \n",
       "37828  2017  ALBANIA             8            84             0.143210   \n",
       "37829  2017  ALBANIA             8            85             0.150662   \n",
       "37830  2017  ALBANIA             8            87             0.209950   \n",
       "37831  2017  ALBANIA             8            89             0.000000   \n",
       "37832  2017  ALBANIA             9            93             0.118477   \n",
       "\n",
       "       EXPORT (MILLION RM)  DEFICIT/SURPLUS (MILLION RM)  \n",
       "37793             0.000000                      0.000000  \n",
       "37794             0.000000                      0.000000  \n",
       "37795             0.219536                      0.219536  \n",
       "37796             0.324254                      0.324254  \n",
       "37797             0.000000                      0.000000  \n",
       "37798             0.000000                      0.000000  \n",
       "37799             1.411656                      1.393836  \n",
       "37800             0.000000                      0.000000  \n",
       "37801             0.000000                      0.000000  \n",
       "37802             0.000000                      0.000000  \n",
       "37803             0.000000                      0.000000  \n",
       "37804             0.000000                      0.000000  \n",
       "37805             3.910577                      3.910577  \n",
       "37806             0.272148                      0.272148  \n",
       "37807             0.000000                      0.000000  \n",
       "37808             0.000000                      0.000000  \n",
       "37809             3.081305                      3.081305  \n",
       "37810             0.275183                      0.275183  \n",
       "37811             0.219543                      0.219543  \n",
       "37812             0.000000                      0.000000  \n",
       "37813             0.161880                      0.161880  \n",
       "37814             0.000000                      0.000000  \n",
       "37815             0.017268                      0.017268  \n",
       "37816             0.177681                      0.177681  \n",
       "37817             0.000000                     -0.199640  \n",
       "37818             0.000000                      0.000000  \n",
       "37819             0.931279                      0.931279  \n",
       "37820             0.376550                      0.376550  \n",
       "37821             0.191498                      0.184883  \n",
       "37822             0.056871                      0.056871  \n",
       "37823             0.000000                      0.000000  \n",
       "37824             1.170000                      0.749417  \n",
       "37825             0.000000                      0.000000  \n",
       "37826             0.000000                      0.000000  \n",
       "37827             1.833862                      1.833862  \n",
       "37828             3.413074                      3.269864  \n",
       "37829             0.000000                     -0.150662  \n",
       "37830             0.035729                     -0.174221  \n",
       "37831             0.127126                      0.127126  \n",
       "37832             0.049568                     -0.068909  "
      ]
     },
     "execution_count": 86,
     "metadata": {},
     "output_type": "execute_result"
    }
   ],
   "source": [
    "df[df['COUNTRY'] == 'ALBANIA']"
   ]
  },
  {
   "cell_type": "code",
   "execution_count": 82,
   "metadata": {},
   "outputs": [
    {
     "data": {
      "text/plain": [
       "37"
      ]
     },
     "execution_count": 82,
     "metadata": {},
     "output_type": "execute_result"
    }
   ],
   "source": [
    "len(df[df['COUNTRY'] == 'AFGHANISTAN'])"
   ]
  },
  {
   "cell_type": "code",
   "execution_count": 85,
   "metadata": {},
   "outputs": [
    {
     "data": {
      "text/plain": [
       "66"
      ]
     },
     "execution_count": 85,
     "metadata": {},
     "output_type": "execute_result"
    }
   ],
   "source": [
    "len(df[df['COUNTRY'] == 'SINGAPORE'])"
   ]
  },
  {
   "cell_type": "code",
   "execution_count": 83,
   "metadata": {},
   "outputs": [
    {
     "data": {
      "text/html": [
       "<div>\n",
       "<style scoped>\n",
       "    .dataframe tbody tr th:only-of-type {\n",
       "        vertical-align: middle;\n",
       "    }\n",
       "\n",
       "    .dataframe tbody tr th {\n",
       "        vertical-align: top;\n",
       "    }\n",
       "\n",
       "    .dataframe thead th {\n",
       "        text-align: right;\n",
       "    }\n",
       "</style>\n",
       "<table border=\"1\" class=\"dataframe\">\n",
       "  <thead>\n",
       "    <tr style=\"text-align: right;\">\n",
       "      <th></th>\n",
       "      <th>YEAR</th>\n",
       "      <th>COUNTRY</th>\n",
       "      <th>SITC 1 DIGIT</th>\n",
       "      <th>SITC 2 DIGIT</th>\n",
       "      <th>IMPORT (MILLION RM)</th>\n",
       "      <th>EXPORT (MILLION RM)</th>\n",
       "      <th>DEFICIT/SURPLUS (MILLION RM)</th>\n",
       "    </tr>\n",
       "  </thead>\n",
       "  <tbody>\n",
       "    <tr>\n",
       "      <th>37833</th>\n",
       "      <td>2017</td>\n",
       "      <td>ALGERIA</td>\n",
       "      <td>0</td>\n",
       "      <td>1</td>\n",
       "      <td>0.000000</td>\n",
       "      <td>0.000000</td>\n",
       "      <td>0.000000</td>\n",
       "    </tr>\n",
       "    <tr>\n",
       "      <th>37834</th>\n",
       "      <td>2017</td>\n",
       "      <td>ALGERIA</td>\n",
       "      <td>0</td>\n",
       "      <td>2</td>\n",
       "      <td>0.000000</td>\n",
       "      <td>42.975650</td>\n",
       "      <td>42.975650</td>\n",
       "    </tr>\n",
       "    <tr>\n",
       "      <th>37835</th>\n",
       "      <td>2017</td>\n",
       "      <td>ALGERIA</td>\n",
       "      <td>0</td>\n",
       "      <td>3</td>\n",
       "      <td>0.067340</td>\n",
       "      <td>0.628749</td>\n",
       "      <td>0.561409</td>\n",
       "    </tr>\n",
       "    <tr>\n",
       "      <th>37836</th>\n",
       "      <td>2017</td>\n",
       "      <td>ALGERIA</td>\n",
       "      <td>0</td>\n",
       "      <td>4</td>\n",
       "      <td>0.000000</td>\n",
       "      <td>10.512931</td>\n",
       "      <td>10.512931</td>\n",
       "    </tr>\n",
       "    <tr>\n",
       "      <th>37837</th>\n",
       "      <td>2017</td>\n",
       "      <td>ALGERIA</td>\n",
       "      <td>0</td>\n",
       "      <td>5</td>\n",
       "      <td>5.482183</td>\n",
       "      <td>1.387560</td>\n",
       "      <td>-4.094623</td>\n",
       "    </tr>\n",
       "    <tr>\n",
       "      <th>37838</th>\n",
       "      <td>2017</td>\n",
       "      <td>ALGERIA</td>\n",
       "      <td>0</td>\n",
       "      <td>6</td>\n",
       "      <td>0.000000</td>\n",
       "      <td>0.371429</td>\n",
       "      <td>0.371429</td>\n",
       "    </tr>\n",
       "    <tr>\n",
       "      <th>37839</th>\n",
       "      <td>2017</td>\n",
       "      <td>ALGERIA</td>\n",
       "      <td>0</td>\n",
       "      <td>7</td>\n",
       "      <td>0.000000</td>\n",
       "      <td>5.726748</td>\n",
       "      <td>5.726748</td>\n",
       "    </tr>\n",
       "    <tr>\n",
       "      <th>37840</th>\n",
       "      <td>2017</td>\n",
       "      <td>ALGERIA</td>\n",
       "      <td>0</td>\n",
       "      <td>8</td>\n",
       "      <td>0.000000</td>\n",
       "      <td>0.062110</td>\n",
       "      <td>0.062110</td>\n",
       "    </tr>\n",
       "    <tr>\n",
       "      <th>37841</th>\n",
       "      <td>2017</td>\n",
       "      <td>ALGERIA</td>\n",
       "      <td>0</td>\n",
       "      <td>9</td>\n",
       "      <td>0.000000</td>\n",
       "      <td>33.685857</td>\n",
       "      <td>33.685857</td>\n",
       "    </tr>\n",
       "    <tr>\n",
       "      <th>37842</th>\n",
       "      <td>2017</td>\n",
       "      <td>ALGERIA</td>\n",
       "      <td>1</td>\n",
       "      <td>11</td>\n",
       "      <td>0.000000</td>\n",
       "      <td>0.000000</td>\n",
       "      <td>0.000000</td>\n",
       "    </tr>\n",
       "    <tr>\n",
       "      <th>37843</th>\n",
       "      <td>2017</td>\n",
       "      <td>ALGERIA</td>\n",
       "      <td>1</td>\n",
       "      <td>12</td>\n",
       "      <td>0.000000</td>\n",
       "      <td>0.005200</td>\n",
       "      <td>0.005200</td>\n",
       "    </tr>\n",
       "    <tr>\n",
       "      <th>37844</th>\n",
       "      <td>2017</td>\n",
       "      <td>ALGERIA</td>\n",
       "      <td>2</td>\n",
       "      <td>23</td>\n",
       "      <td>0.000000</td>\n",
       "      <td>0.780383</td>\n",
       "      <td>0.780383</td>\n",
       "    </tr>\n",
       "    <tr>\n",
       "      <th>37845</th>\n",
       "      <td>2017</td>\n",
       "      <td>ALGERIA</td>\n",
       "      <td>2</td>\n",
       "      <td>25</td>\n",
       "      <td>2.275443</td>\n",
       "      <td>0.000000</td>\n",
       "      <td>-2.275443</td>\n",
       "    </tr>\n",
       "    <tr>\n",
       "      <th>37846</th>\n",
       "      <td>2017</td>\n",
       "      <td>ALGERIA</td>\n",
       "      <td>2</td>\n",
       "      <td>26</td>\n",
       "      <td>0.000000</td>\n",
       "      <td>0.000000</td>\n",
       "      <td>0.000000</td>\n",
       "    </tr>\n",
       "    <tr>\n",
       "      <th>37847</th>\n",
       "      <td>2017</td>\n",
       "      <td>ALGERIA</td>\n",
       "      <td>2</td>\n",
       "      <td>27</td>\n",
       "      <td>0.000000</td>\n",
       "      <td>0.000000</td>\n",
       "      <td>0.000000</td>\n",
       "    </tr>\n",
       "    <tr>\n",
       "      <th>37848</th>\n",
       "      <td>2017</td>\n",
       "      <td>ALGERIA</td>\n",
       "      <td>2</td>\n",
       "      <td>29</td>\n",
       "      <td>0.000000</td>\n",
       "      <td>0.000000</td>\n",
       "      <td>0.000000</td>\n",
       "    </tr>\n",
       "    <tr>\n",
       "      <th>37849</th>\n",
       "      <td>2017</td>\n",
       "      <td>ALGERIA</td>\n",
       "      <td>3</td>\n",
       "      <td>33</td>\n",
       "      <td>0.000000</td>\n",
       "      <td>3.911030</td>\n",
       "      <td>3.911030</td>\n",
       "    </tr>\n",
       "    <tr>\n",
       "      <th>37850</th>\n",
       "      <td>2017</td>\n",
       "      <td>ALGERIA</td>\n",
       "      <td>3</td>\n",
       "      <td>34</td>\n",
       "      <td>0.000000</td>\n",
       "      <td>0.000000</td>\n",
       "      <td>0.000000</td>\n",
       "    </tr>\n",
       "    <tr>\n",
       "      <th>37851</th>\n",
       "      <td>2017</td>\n",
       "      <td>ALGERIA</td>\n",
       "      <td>4</td>\n",
       "      <td>42</td>\n",
       "      <td>0.000000</td>\n",
       "      <td>61.436493</td>\n",
       "      <td>61.436493</td>\n",
       "    </tr>\n",
       "    <tr>\n",
       "      <th>37852</th>\n",
       "      <td>2017</td>\n",
       "      <td>ALGERIA</td>\n",
       "      <td>4</td>\n",
       "      <td>43</td>\n",
       "      <td>0.000000</td>\n",
       "      <td>159.727161</td>\n",
       "      <td>159.727161</td>\n",
       "    </tr>\n",
       "    <tr>\n",
       "      <th>37853</th>\n",
       "      <td>2017</td>\n",
       "      <td>ALGERIA</td>\n",
       "      <td>5</td>\n",
       "      <td>51</td>\n",
       "      <td>0.000000</td>\n",
       "      <td>3.531515</td>\n",
       "      <td>3.531515</td>\n",
       "    </tr>\n",
       "    <tr>\n",
       "      <th>37854</th>\n",
       "      <td>2017</td>\n",
       "      <td>ALGERIA</td>\n",
       "      <td>5</td>\n",
       "      <td>52</td>\n",
       "      <td>0.000000</td>\n",
       "      <td>0.106843</td>\n",
       "      <td>0.106843</td>\n",
       "    </tr>\n",
       "    <tr>\n",
       "      <th>37855</th>\n",
       "      <td>2017</td>\n",
       "      <td>ALGERIA</td>\n",
       "      <td>5</td>\n",
       "      <td>53</td>\n",
       "      <td>0.000000</td>\n",
       "      <td>0.075766</td>\n",
       "      <td>0.075766</td>\n",
       "    </tr>\n",
       "    <tr>\n",
       "      <th>37856</th>\n",
       "      <td>2017</td>\n",
       "      <td>ALGERIA</td>\n",
       "      <td>5</td>\n",
       "      <td>54</td>\n",
       "      <td>0.000000</td>\n",
       "      <td>0.411101</td>\n",
       "      <td>0.411101</td>\n",
       "    </tr>\n",
       "    <tr>\n",
       "      <th>37857</th>\n",
       "      <td>2017</td>\n",
       "      <td>ALGERIA</td>\n",
       "      <td>5</td>\n",
       "      <td>55</td>\n",
       "      <td>0.000000</td>\n",
       "      <td>16.578977</td>\n",
       "      <td>16.578977</td>\n",
       "    </tr>\n",
       "    <tr>\n",
       "      <th>37858</th>\n",
       "      <td>2017</td>\n",
       "      <td>ALGERIA</td>\n",
       "      <td>5</td>\n",
       "      <td>56</td>\n",
       "      <td>0.000000</td>\n",
       "      <td>0.000000</td>\n",
       "      <td>0.000000</td>\n",
       "    </tr>\n",
       "    <tr>\n",
       "      <th>37859</th>\n",
       "      <td>2017</td>\n",
       "      <td>ALGERIA</td>\n",
       "      <td>5</td>\n",
       "      <td>57</td>\n",
       "      <td>0.000000</td>\n",
       "      <td>1.115996</td>\n",
       "      <td>1.115996</td>\n",
       "    </tr>\n",
       "    <tr>\n",
       "      <th>37860</th>\n",
       "      <td>2017</td>\n",
       "      <td>ALGERIA</td>\n",
       "      <td>5</td>\n",
       "      <td>58</td>\n",
       "      <td>0.000000</td>\n",
       "      <td>1.779419</td>\n",
       "      <td>1.779419</td>\n",
       "    </tr>\n",
       "    <tr>\n",
       "      <th>37861</th>\n",
       "      <td>2017</td>\n",
       "      <td>ALGERIA</td>\n",
       "      <td>5</td>\n",
       "      <td>59</td>\n",
       "      <td>0.000000</td>\n",
       "      <td>3.787158</td>\n",
       "      <td>3.787158</td>\n",
       "    </tr>\n",
       "    <tr>\n",
       "      <th>37862</th>\n",
       "      <td>2017</td>\n",
       "      <td>ALGERIA</td>\n",
       "      <td>6</td>\n",
       "      <td>62</td>\n",
       "      <td>0.000000</td>\n",
       "      <td>0.808730</td>\n",
       "      <td>0.808730</td>\n",
       "    </tr>\n",
       "    <tr>\n",
       "      <th>37863</th>\n",
       "      <td>2017</td>\n",
       "      <td>ALGERIA</td>\n",
       "      <td>6</td>\n",
       "      <td>63</td>\n",
       "      <td>0.000000</td>\n",
       "      <td>0.505839</td>\n",
       "      <td>0.505839</td>\n",
       "    </tr>\n",
       "    <tr>\n",
       "      <th>37864</th>\n",
       "      <td>2017</td>\n",
       "      <td>ALGERIA</td>\n",
       "      <td>6</td>\n",
       "      <td>64</td>\n",
       "      <td>0.000000</td>\n",
       "      <td>0.133970</td>\n",
       "      <td>0.133970</td>\n",
       "    </tr>\n",
       "    <tr>\n",
       "      <th>37865</th>\n",
       "      <td>2017</td>\n",
       "      <td>ALGERIA</td>\n",
       "      <td>6</td>\n",
       "      <td>65</td>\n",
       "      <td>0.000000</td>\n",
       "      <td>1.364168</td>\n",
       "      <td>1.364168</td>\n",
       "    </tr>\n",
       "    <tr>\n",
       "      <th>37866</th>\n",
       "      <td>2017</td>\n",
       "      <td>ALGERIA</td>\n",
       "      <td>6</td>\n",
       "      <td>66</td>\n",
       "      <td>0.000000</td>\n",
       "      <td>0.199096</td>\n",
       "      <td>0.199096</td>\n",
       "    </tr>\n",
       "    <tr>\n",
       "      <th>37867</th>\n",
       "      <td>2017</td>\n",
       "      <td>ALGERIA</td>\n",
       "      <td>6</td>\n",
       "      <td>67</td>\n",
       "      <td>0.000000</td>\n",
       "      <td>2.862687</td>\n",
       "      <td>2.862687</td>\n",
       "    </tr>\n",
       "    <tr>\n",
       "      <th>37868</th>\n",
       "      <td>2017</td>\n",
       "      <td>ALGERIA</td>\n",
       "      <td>6</td>\n",
       "      <td>68</td>\n",
       "      <td>0.000000</td>\n",
       "      <td>1.233533</td>\n",
       "      <td>1.233533</td>\n",
       "    </tr>\n",
       "    <tr>\n",
       "      <th>37869</th>\n",
       "      <td>2017</td>\n",
       "      <td>ALGERIA</td>\n",
       "      <td>6</td>\n",
       "      <td>69</td>\n",
       "      <td>0.000000</td>\n",
       "      <td>5.520073</td>\n",
       "      <td>5.520073</td>\n",
       "    </tr>\n",
       "    <tr>\n",
       "      <th>37870</th>\n",
       "      <td>2017</td>\n",
       "      <td>ALGERIA</td>\n",
       "      <td>7</td>\n",
       "      <td>71</td>\n",
       "      <td>0.000000</td>\n",
       "      <td>0.006119</td>\n",
       "      <td>0.006119</td>\n",
       "    </tr>\n",
       "    <tr>\n",
       "      <th>37871</th>\n",
       "      <td>2017</td>\n",
       "      <td>ALGERIA</td>\n",
       "      <td>7</td>\n",
       "      <td>72</td>\n",
       "      <td>0.080015</td>\n",
       "      <td>6.212140</td>\n",
       "      <td>6.132125</td>\n",
       "    </tr>\n",
       "    <tr>\n",
       "      <th>37872</th>\n",
       "      <td>2017</td>\n",
       "      <td>ALGERIA</td>\n",
       "      <td>7</td>\n",
       "      <td>73</td>\n",
       "      <td>0.000000</td>\n",
       "      <td>0.766268</td>\n",
       "      <td>0.766268</td>\n",
       "    </tr>\n",
       "    <tr>\n",
       "      <th>37873</th>\n",
       "      <td>2017</td>\n",
       "      <td>ALGERIA</td>\n",
       "      <td>7</td>\n",
       "      <td>74</td>\n",
       "      <td>1.139680</td>\n",
       "      <td>26.233454</td>\n",
       "      <td>25.093774</td>\n",
       "    </tr>\n",
       "    <tr>\n",
       "      <th>37874</th>\n",
       "      <td>2017</td>\n",
       "      <td>ALGERIA</td>\n",
       "      <td>7</td>\n",
       "      <td>75</td>\n",
       "      <td>0.000000</td>\n",
       "      <td>0.016180</td>\n",
       "      <td>0.016180</td>\n",
       "    </tr>\n",
       "    <tr>\n",
       "      <th>37875</th>\n",
       "      <td>2017</td>\n",
       "      <td>ALGERIA</td>\n",
       "      <td>7</td>\n",
       "      <td>76</td>\n",
       "      <td>0.046054</td>\n",
       "      <td>4.536918</td>\n",
       "      <td>4.490864</td>\n",
       "    </tr>\n",
       "    <tr>\n",
       "      <th>37876</th>\n",
       "      <td>2017</td>\n",
       "      <td>ALGERIA</td>\n",
       "      <td>7</td>\n",
       "      <td>77</td>\n",
       "      <td>0.093438</td>\n",
       "      <td>11.711385</td>\n",
       "      <td>11.617947</td>\n",
       "    </tr>\n",
       "    <tr>\n",
       "      <th>37877</th>\n",
       "      <td>2017</td>\n",
       "      <td>ALGERIA</td>\n",
       "      <td>7</td>\n",
       "      <td>78</td>\n",
       "      <td>0.000000</td>\n",
       "      <td>0.286159</td>\n",
       "      <td>0.286159</td>\n",
       "    </tr>\n",
       "    <tr>\n",
       "      <th>37878</th>\n",
       "      <td>2017</td>\n",
       "      <td>ALGERIA</td>\n",
       "      <td>7</td>\n",
       "      <td>79</td>\n",
       "      <td>0.000000</td>\n",
       "      <td>2.917436</td>\n",
       "      <td>2.917436</td>\n",
       "    </tr>\n",
       "    <tr>\n",
       "      <th>37879</th>\n",
       "      <td>2017</td>\n",
       "      <td>ALGERIA</td>\n",
       "      <td>8</td>\n",
       "      <td>81</td>\n",
       "      <td>0.000000</td>\n",
       "      <td>0.465970</td>\n",
       "      <td>0.465970</td>\n",
       "    </tr>\n",
       "    <tr>\n",
       "      <th>37880</th>\n",
       "      <td>2017</td>\n",
       "      <td>ALGERIA</td>\n",
       "      <td>8</td>\n",
       "      <td>82</td>\n",
       "      <td>0.000000</td>\n",
       "      <td>75.040401</td>\n",
       "      <td>75.040401</td>\n",
       "    </tr>\n",
       "    <tr>\n",
       "      <th>37881</th>\n",
       "      <td>2017</td>\n",
       "      <td>ALGERIA</td>\n",
       "      <td>8</td>\n",
       "      <td>83</td>\n",
       "      <td>0.000000</td>\n",
       "      <td>0.006746</td>\n",
       "      <td>0.006746</td>\n",
       "    </tr>\n",
       "    <tr>\n",
       "      <th>37882</th>\n",
       "      <td>2017</td>\n",
       "      <td>ALGERIA</td>\n",
       "      <td>8</td>\n",
       "      <td>84</td>\n",
       "      <td>0.000000</td>\n",
       "      <td>16.249609</td>\n",
       "      <td>16.249609</td>\n",
       "    </tr>\n",
       "    <tr>\n",
       "      <th>37883</th>\n",
       "      <td>2017</td>\n",
       "      <td>ALGERIA</td>\n",
       "      <td>8</td>\n",
       "      <td>85</td>\n",
       "      <td>0.000000</td>\n",
       "      <td>1.953315</td>\n",
       "      <td>1.953315</td>\n",
       "    </tr>\n",
       "    <tr>\n",
       "      <th>37884</th>\n",
       "      <td>2017</td>\n",
       "      <td>ALGERIA</td>\n",
       "      <td>8</td>\n",
       "      <td>87</td>\n",
       "      <td>0.000000</td>\n",
       "      <td>0.312613</td>\n",
       "      <td>0.312613</td>\n",
       "    </tr>\n",
       "    <tr>\n",
       "      <th>37885</th>\n",
       "      <td>2017</td>\n",
       "      <td>ALGERIA</td>\n",
       "      <td>8</td>\n",
       "      <td>89</td>\n",
       "      <td>0.000000</td>\n",
       "      <td>0.808240</td>\n",
       "      <td>0.808240</td>\n",
       "    </tr>\n",
       "    <tr>\n",
       "      <th>37886</th>\n",
       "      <td>2017</td>\n",
       "      <td>ALGERIA</td>\n",
       "      <td>9</td>\n",
       "      <td>93</td>\n",
       "      <td>0.051273</td>\n",
       "      <td>0.263841</td>\n",
       "      <td>0.212568</td>\n",
       "    </tr>\n",
       "  </tbody>\n",
       "</table>\n",
       "</div>"
      ],
      "text/plain": [
       "       YEAR  COUNTRY  SITC 1 DIGIT  SITC 2 DIGIT  IMPORT (MILLION RM)  \\\n",
       "37833  2017  ALGERIA             0             1             0.000000   \n",
       "37834  2017  ALGERIA             0             2             0.000000   \n",
       "37835  2017  ALGERIA             0             3             0.067340   \n",
       "37836  2017  ALGERIA             0             4             0.000000   \n",
       "37837  2017  ALGERIA             0             5             5.482183   \n",
       "37838  2017  ALGERIA             0             6             0.000000   \n",
       "37839  2017  ALGERIA             0             7             0.000000   \n",
       "37840  2017  ALGERIA             0             8             0.000000   \n",
       "37841  2017  ALGERIA             0             9             0.000000   \n",
       "37842  2017  ALGERIA             1            11             0.000000   \n",
       "37843  2017  ALGERIA             1            12             0.000000   \n",
       "37844  2017  ALGERIA             2            23             0.000000   \n",
       "37845  2017  ALGERIA             2            25             2.275443   \n",
       "37846  2017  ALGERIA             2            26             0.000000   \n",
       "37847  2017  ALGERIA             2            27             0.000000   \n",
       "37848  2017  ALGERIA             2            29             0.000000   \n",
       "37849  2017  ALGERIA             3            33             0.000000   \n",
       "37850  2017  ALGERIA             3            34             0.000000   \n",
       "37851  2017  ALGERIA             4            42             0.000000   \n",
       "37852  2017  ALGERIA             4            43             0.000000   \n",
       "37853  2017  ALGERIA             5            51             0.000000   \n",
       "37854  2017  ALGERIA             5            52             0.000000   \n",
       "37855  2017  ALGERIA             5            53             0.000000   \n",
       "37856  2017  ALGERIA             5            54             0.000000   \n",
       "37857  2017  ALGERIA             5            55             0.000000   \n",
       "37858  2017  ALGERIA             5            56             0.000000   \n",
       "37859  2017  ALGERIA             5            57             0.000000   \n",
       "37860  2017  ALGERIA             5            58             0.000000   \n",
       "37861  2017  ALGERIA             5            59             0.000000   \n",
       "37862  2017  ALGERIA             6            62             0.000000   \n",
       "37863  2017  ALGERIA             6            63             0.000000   \n",
       "37864  2017  ALGERIA             6            64             0.000000   \n",
       "37865  2017  ALGERIA             6            65             0.000000   \n",
       "37866  2017  ALGERIA             6            66             0.000000   \n",
       "37867  2017  ALGERIA             6            67             0.000000   \n",
       "37868  2017  ALGERIA             6            68             0.000000   \n",
       "37869  2017  ALGERIA             6            69             0.000000   \n",
       "37870  2017  ALGERIA             7            71             0.000000   \n",
       "37871  2017  ALGERIA             7            72             0.080015   \n",
       "37872  2017  ALGERIA             7            73             0.000000   \n",
       "37873  2017  ALGERIA             7            74             1.139680   \n",
       "37874  2017  ALGERIA             7            75             0.000000   \n",
       "37875  2017  ALGERIA             7            76             0.046054   \n",
       "37876  2017  ALGERIA             7            77             0.093438   \n",
       "37877  2017  ALGERIA             7            78             0.000000   \n",
       "37878  2017  ALGERIA             7            79             0.000000   \n",
       "37879  2017  ALGERIA             8            81             0.000000   \n",
       "37880  2017  ALGERIA             8            82             0.000000   \n",
       "37881  2017  ALGERIA             8            83             0.000000   \n",
       "37882  2017  ALGERIA             8            84             0.000000   \n",
       "37883  2017  ALGERIA             8            85             0.000000   \n",
       "37884  2017  ALGERIA             8            87             0.000000   \n",
       "37885  2017  ALGERIA             8            89             0.000000   \n",
       "37886  2017  ALGERIA             9            93             0.051273   \n",
       "\n",
       "       EXPORT (MILLION RM)  DEFICIT/SURPLUS (MILLION RM)  \n",
       "37833             0.000000                      0.000000  \n",
       "37834            42.975650                     42.975650  \n",
       "37835             0.628749                      0.561409  \n",
       "37836            10.512931                     10.512931  \n",
       "37837             1.387560                     -4.094623  \n",
       "37838             0.371429                      0.371429  \n",
       "37839             5.726748                      5.726748  \n",
       "37840             0.062110                      0.062110  \n",
       "37841            33.685857                     33.685857  \n",
       "37842             0.000000                      0.000000  \n",
       "37843             0.005200                      0.005200  \n",
       "37844             0.780383                      0.780383  \n",
       "37845             0.000000                     -2.275443  \n",
       "37846             0.000000                      0.000000  \n",
       "37847             0.000000                      0.000000  \n",
       "37848             0.000000                      0.000000  \n",
       "37849             3.911030                      3.911030  \n",
       "37850             0.000000                      0.000000  \n",
       "37851            61.436493                     61.436493  \n",
       "37852           159.727161                    159.727161  \n",
       "37853             3.531515                      3.531515  \n",
       "37854             0.106843                      0.106843  \n",
       "37855             0.075766                      0.075766  \n",
       "37856             0.411101                      0.411101  \n",
       "37857            16.578977                     16.578977  \n",
       "37858             0.000000                      0.000000  \n",
       "37859             1.115996                      1.115996  \n",
       "37860             1.779419                      1.779419  \n",
       "37861             3.787158                      3.787158  \n",
       "37862             0.808730                      0.808730  \n",
       "37863             0.505839                      0.505839  \n",
       "37864             0.133970                      0.133970  \n",
       "37865             1.364168                      1.364168  \n",
       "37866             0.199096                      0.199096  \n",
       "37867             2.862687                      2.862687  \n",
       "37868             1.233533                      1.233533  \n",
       "37869             5.520073                      5.520073  \n",
       "37870             0.006119                      0.006119  \n",
       "37871             6.212140                      6.132125  \n",
       "37872             0.766268                      0.766268  \n",
       "37873            26.233454                     25.093774  \n",
       "37874             0.016180                      0.016180  \n",
       "37875             4.536918                      4.490864  \n",
       "37876            11.711385                     11.617947  \n",
       "37877             0.286159                      0.286159  \n",
       "37878             2.917436                      2.917436  \n",
       "37879             0.465970                      0.465970  \n",
       "37880            75.040401                     75.040401  \n",
       "37881             0.006746                      0.006746  \n",
       "37882            16.249609                     16.249609  \n",
       "37883             1.953315                      1.953315  \n",
       "37884             0.312613                      0.312613  \n",
       "37885             0.808240                      0.808240  \n",
       "37886             0.263841                      0.212568  "
      ]
     },
     "execution_count": 83,
     "metadata": {},
     "output_type": "execute_result"
    }
   ],
   "source": [
    "df[df['COUNTRY'] == 'ALGERIA']"
   ]
  },
  {
   "cell_type": "code",
   "execution_count": null,
   "metadata": {},
   "outputs": [],
   "source": []
  },
  {
   "cell_type": "code",
   "execution_count": 87,
   "metadata": {},
   "outputs": [
    {
     "data": {
      "text/html": [
       "<div>\n",
       "<style scoped>\n",
       "    .dataframe tbody tr th:only-of-type {\n",
       "        vertical-align: middle;\n",
       "    }\n",
       "\n",
       "    .dataframe tbody tr th {\n",
       "        vertical-align: top;\n",
       "    }\n",
       "\n",
       "    .dataframe thead th {\n",
       "        text-align: right;\n",
       "    }\n",
       "</style>\n",
       "<table border=\"1\" class=\"dataframe\">\n",
       "  <thead>\n",
       "    <tr style=\"text-align: right;\">\n",
       "      <th></th>\n",
       "      <th>YEAR</th>\n",
       "      <th>COUNTRY</th>\n",
       "      <th>SITC 1 DIGIT</th>\n",
       "      <th>SITC 2 DIGIT</th>\n",
       "      <th>IMPORT (MILLION RM)</th>\n",
       "      <th>EXPORT (MILLION RM)</th>\n",
       "      <th>DEFICIT/SURPLUS (MILLION RM)</th>\n",
       "    </tr>\n",
       "  </thead>\n",
       "  <tbody>\n",
       "    <tr>\n",
       "      <th>37756</th>\n",
       "      <td>2017</td>\n",
       "      <td>AFGHANISTAN</td>\n",
       "      <td>0</td>\n",
       "      <td>0</td>\n",
       "      <td>0.000000</td>\n",
       "      <td>0.000000</td>\n",
       "      <td>0.000000</td>\n",
       "    </tr>\n",
       "    <tr>\n",
       "      <th>37757</th>\n",
       "      <td>2017</td>\n",
       "      <td>AFGHANISTAN</td>\n",
       "      <td>0</td>\n",
       "      <td>4</td>\n",
       "      <td>0.000000</td>\n",
       "      <td>0.000000</td>\n",
       "      <td>0.000000</td>\n",
       "    </tr>\n",
       "    <tr>\n",
       "      <th>37758</th>\n",
       "      <td>2017</td>\n",
       "      <td>AFGHANISTAN</td>\n",
       "      <td>0</td>\n",
       "      <td>5</td>\n",
       "      <td>0.000000</td>\n",
       "      <td>0.000000</td>\n",
       "      <td>0.000000</td>\n",
       "    </tr>\n",
       "    <tr>\n",
       "      <th>37759</th>\n",
       "      <td>2017</td>\n",
       "      <td>AFGHANISTAN</td>\n",
       "      <td>0</td>\n",
       "      <td>7</td>\n",
       "      <td>0.000000</td>\n",
       "      <td>0.601560</td>\n",
       "      <td>0.601560</td>\n",
       "    </tr>\n",
       "    <tr>\n",
       "      <th>37760</th>\n",
       "      <td>2017</td>\n",
       "      <td>AFGHANISTAN</td>\n",
       "      <td>0</td>\n",
       "      <td>9</td>\n",
       "      <td>0.000000</td>\n",
       "      <td>1.223472</td>\n",
       "      <td>1.223472</td>\n",
       "    </tr>\n",
       "    <tr>\n",
       "      <th>...</th>\n",
       "      <td>...</td>\n",
       "      <td>...</td>\n",
       "      <td>...</td>\n",
       "      <td>...</td>\n",
       "      <td>...</td>\n",
       "      <td>...</td>\n",
       "      <td>...</td>\n",
       "    </tr>\n",
       "    <tr>\n",
       "      <th>47808</th>\n",
       "      <td>2017</td>\n",
       "      <td>ZIMBABWE</td>\n",
       "      <td>8</td>\n",
       "      <td>84</td>\n",
       "      <td>0.000000</td>\n",
       "      <td>1.426545</td>\n",
       "      <td>1.426545</td>\n",
       "    </tr>\n",
       "    <tr>\n",
       "      <th>47809</th>\n",
       "      <td>2017</td>\n",
       "      <td>ZIMBABWE</td>\n",
       "      <td>8</td>\n",
       "      <td>87</td>\n",
       "      <td>0.000000</td>\n",
       "      <td>0.252405</td>\n",
       "      <td>0.252405</td>\n",
       "    </tr>\n",
       "    <tr>\n",
       "      <th>47810</th>\n",
       "      <td>2017</td>\n",
       "      <td>ZIMBABWE</td>\n",
       "      <td>8</td>\n",
       "      <td>88</td>\n",
       "      <td>0.000000</td>\n",
       "      <td>0.000000</td>\n",
       "      <td>0.000000</td>\n",
       "    </tr>\n",
       "    <tr>\n",
       "      <th>47811</th>\n",
       "      <td>2017</td>\n",
       "      <td>ZIMBABWE</td>\n",
       "      <td>8</td>\n",
       "      <td>89</td>\n",
       "      <td>0.000000</td>\n",
       "      <td>0.122687</td>\n",
       "      <td>0.122687</td>\n",
       "    </tr>\n",
       "    <tr>\n",
       "      <th>47812</th>\n",
       "      <td>2017</td>\n",
       "      <td>ZIMBABWE</td>\n",
       "      <td>9</td>\n",
       "      <td>93</td>\n",
       "      <td>0.009722</td>\n",
       "      <td>0.124771</td>\n",
       "      <td>0.115049</td>\n",
       "    </tr>\n",
       "  </tbody>\n",
       "</table>\n",
       "<p>10057 rows × 7 columns</p>\n",
       "</div>"
      ],
      "text/plain": [
       "       YEAR      COUNTRY  SITC 1 DIGIT  SITC 2 DIGIT  IMPORT (MILLION RM)  \\\n",
       "37756  2017  AFGHANISTAN             0             0             0.000000   \n",
       "37757  2017  AFGHANISTAN             0             4             0.000000   \n",
       "37758  2017  AFGHANISTAN             0             5             0.000000   \n",
       "37759  2017  AFGHANISTAN             0             7             0.000000   \n",
       "37760  2017  AFGHANISTAN             0             9             0.000000   \n",
       "...     ...          ...           ...           ...                  ...   \n",
       "47808  2017     ZIMBABWE             8            84             0.000000   \n",
       "47809  2017     ZIMBABWE             8            87             0.000000   \n",
       "47810  2017     ZIMBABWE             8            88             0.000000   \n",
       "47811  2017     ZIMBABWE             8            89             0.000000   \n",
       "47812  2017     ZIMBABWE             9            93             0.009722   \n",
       "\n",
       "       EXPORT (MILLION RM)  DEFICIT/SURPLUS (MILLION RM)  \n",
       "37756             0.000000                      0.000000  \n",
       "37757             0.000000                      0.000000  \n",
       "37758             0.000000                      0.000000  \n",
       "37759             0.601560                      0.601560  \n",
       "37760             1.223472                      1.223472  \n",
       "...                    ...                           ...  \n",
       "47808             1.426545                      1.426545  \n",
       "47809             0.252405                      0.252405  \n",
       "47810             0.000000                      0.000000  \n",
       "47811             0.122687                      0.122687  \n",
       "47812             0.124771                      0.115049  \n",
       "\n",
       "[10057 rows x 7 columns]"
      ]
     },
     "execution_count": 87,
     "metadata": {},
     "output_type": "execute_result"
    }
   ],
   "source": [
    "df"
   ]
  },
  {
   "cell_type": "code",
   "execution_count": 106,
   "metadata": {},
   "outputs": [
    {
     "data": {
      "text/html": [
       "<div>\n",
       "<style scoped>\n",
       "    .dataframe tbody tr th:only-of-type {\n",
       "        vertical-align: middle;\n",
       "    }\n",
       "\n",
       "    .dataframe tbody tr th {\n",
       "        vertical-align: top;\n",
       "    }\n",
       "\n",
       "    .dataframe thead th {\n",
       "        text-align: right;\n",
       "    }\n",
       "</style>\n",
       "<table border=\"1\" class=\"dataframe\">\n",
       "  <thead>\n",
       "    <tr style=\"text-align: right;\">\n",
       "      <th></th>\n",
       "      <th>YEAR</th>\n",
       "      <th>COUNTRY</th>\n",
       "      <th>SITC 1 DIGIT</th>\n",
       "      <th>SITC 2 DIGIT</th>\n",
       "      <th>IMPORT (MILLION RM)</th>\n",
       "      <th>EXPORT (MILLION RM)</th>\n",
       "      <th>DEFICIT/SURPLUS (MILLION RM)</th>\n",
       "    </tr>\n",
       "  </thead>\n",
       "  <tbody>\n",
       "    <tr>\n",
       "      <th>0</th>\n",
       "      <td>2013</td>\n",
       "      <td>AFGHANISTAN</td>\n",
       "      <td>0</td>\n",
       "      <td>4</td>\n",
       "      <td>0.000000</td>\n",
       "      <td>0.000000</td>\n",
       "      <td>0.000000</td>\n",
       "    </tr>\n",
       "    <tr>\n",
       "      <th>1</th>\n",
       "      <td>2013</td>\n",
       "      <td>AFGHANISTAN</td>\n",
       "      <td>0</td>\n",
       "      <td>5</td>\n",
       "      <td>0.002469</td>\n",
       "      <td>0.419797</td>\n",
       "      <td>0.417328</td>\n",
       "    </tr>\n",
       "    <tr>\n",
       "      <th>2</th>\n",
       "      <td>2013</td>\n",
       "      <td>AFGHANISTAN</td>\n",
       "      <td>0</td>\n",
       "      <td>9</td>\n",
       "      <td>0.000000</td>\n",
       "      <td>0.669157</td>\n",
       "      <td>0.669157</td>\n",
       "    </tr>\n",
       "    <tr>\n",
       "      <th>3</th>\n",
       "      <td>2013</td>\n",
       "      <td>AFGHANISTAN</td>\n",
       "      <td>1</td>\n",
       "      <td>12</td>\n",
       "      <td>0.000000</td>\n",
       "      <td>0.179208</td>\n",
       "      <td>0.179208</td>\n",
       "    </tr>\n",
       "    <tr>\n",
       "      <th>4</th>\n",
       "      <td>2013</td>\n",
       "      <td>AFGHANISTAN</td>\n",
       "      <td>2</td>\n",
       "      <td>26</td>\n",
       "      <td>1.264967</td>\n",
       "      <td>0.000000</td>\n",
       "      <td>-1.264967</td>\n",
       "    </tr>\n",
       "  </tbody>\n",
       "</table>\n",
       "</div>"
      ],
      "text/plain": [
       "   YEAR      COUNTRY  SITC 1 DIGIT  SITC 2 DIGIT  IMPORT (MILLION RM)  \\\n",
       "0  2013  AFGHANISTAN             0             4             0.000000   \n",
       "1  2013  AFGHANISTAN             0             5             0.002469   \n",
       "2  2013  AFGHANISTAN             0             9             0.000000   \n",
       "3  2013  AFGHANISTAN             1            12             0.000000   \n",
       "4  2013  AFGHANISTAN             2            26             1.264967   \n",
       "\n",
       "   EXPORT (MILLION RM)  DEFICIT/SURPLUS (MILLION RM)  \n",
       "0             0.000000                      0.000000  \n",
       "1             0.419797                      0.417328  \n",
       "2             0.669157                      0.669157  \n",
       "3             0.179208                      0.179208  \n",
       "4             0.000000                     -1.264967  "
      ]
     },
     "execution_count": 106,
     "metadata": {},
     "output_type": "execute_result"
    }
   ],
   "source": [
    "df = pd.read_csv('trade_new.csv')\n",
    "df.head()"
   ]
  },
  {
   "cell_type": "code",
   "execution_count": 119,
   "metadata": {},
   "outputs": [],
   "source": [
    "lol = df[df['SITC 1 DIGIT'] == 1].groupby(['YEAR'])[['IMPORT (MILLION RM)']].sum()"
   ]
  },
  {
   "cell_type": "code",
   "execution_count": 120,
   "metadata": {},
   "outputs": [],
   "source": [
    "lol['GROWTH (%)'] = lol['IMPORT (MILLION RM)'].pct_change()*100"
   ]
  },
  {
   "cell_type": "code",
   "execution_count": 121,
   "metadata": {
    "scrolled": true
   },
   "outputs": [
    {
     "data": {
      "text/html": [
       "<div>\n",
       "<style scoped>\n",
       "    .dataframe tbody tr th:only-of-type {\n",
       "        vertical-align: middle;\n",
       "    }\n",
       "\n",
       "    .dataframe tbody tr th {\n",
       "        vertical-align: top;\n",
       "    }\n",
       "\n",
       "    .dataframe thead th {\n",
       "        text-align: right;\n",
       "    }\n",
       "</style>\n",
       "<table border=\"1\" class=\"dataframe\">\n",
       "  <thead>\n",
       "    <tr style=\"text-align: right;\">\n",
       "      <th></th>\n",
       "      <th>IMPORT (MILLION RM)</th>\n",
       "      <th>GROWTH (%)</th>\n",
       "    </tr>\n",
       "    <tr>\n",
       "      <th>YEAR</th>\n",
       "      <th></th>\n",
       "      <th></th>\n",
       "    </tr>\n",
       "  </thead>\n",
       "  <tbody>\n",
       "    <tr>\n",
       "      <th>2013</th>\n",
       "      <td>4069.289044</td>\n",
       "      <td>NaN</td>\n",
       "    </tr>\n",
       "    <tr>\n",
       "      <th>2014</th>\n",
       "      <td>4049.325472</td>\n",
       "      <td>-0.490591</td>\n",
       "    </tr>\n",
       "    <tr>\n",
       "      <th>2015</th>\n",
       "      <td>4547.662308</td>\n",
       "      <td>12.306663</td>\n",
       "    </tr>\n",
       "    <tr>\n",
       "      <th>2016</th>\n",
       "      <td>4534.132964</td>\n",
       "      <td>-0.297501</td>\n",
       "    </tr>\n",
       "    <tr>\n",
       "      <th>2017</th>\n",
       "      <td>3685.782201</td>\n",
       "      <td>-18.710319</td>\n",
       "    </tr>\n",
       "    <tr>\n",
       "      <th>2018</th>\n",
       "      <td>3818.381918</td>\n",
       "      <td>3.597600</td>\n",
       "    </tr>\n",
       "    <tr>\n",
       "      <th>2019</th>\n",
       "      <td>3726.728678</td>\n",
       "      <td>-2.400316</td>\n",
       "    </tr>\n",
       "  </tbody>\n",
       "</table>\n",
       "</div>"
      ],
      "text/plain": [
       "      IMPORT (MILLION RM)  GROWTH (%)\n",
       "YEAR                                 \n",
       "2013          4069.289044         NaN\n",
       "2014          4049.325472   -0.490591\n",
       "2015          4547.662308   12.306663\n",
       "2016          4534.132964   -0.297501\n",
       "2017          3685.782201  -18.710319\n",
       "2018          3818.381918    3.597600\n",
       "2019          3726.728678   -2.400316"
      ]
     },
     "execution_count": 121,
     "metadata": {},
     "output_type": "execute_result"
    }
   ],
   "source": [
    "lol"
   ]
  },
  {
   "cell_type": "code",
   "execution_count": 122,
   "metadata": {},
   "outputs": [
    {
     "data": {
      "text/plain": [
       "-0.9990774239496222"
      ]
     },
     "execution_count": 122,
     "metadata": {},
     "output_type": "execute_result"
    }
   ],
   "source": [
    "lol['GROWTH (%)'].dropna().mean()"
   ]
  },
  {
   "cell_type": "code",
   "execution_count": 104,
   "metadata": {},
   "outputs": [
    {
     "data": {
      "text/plain": [
       "<AxesSubplot:xlabel='YEAR'>"
      ]
     },
     "execution_count": 104,
     "metadata": {},
     "output_type": "execute_result"
    },
    {
     "data": {
      "image/png": "[encoded data removed]",
      "text/plain": [
       "<Figure size 432x288 with 1 Axes>"
      ]
     },
     "metadata": {
      "needs_background": "light"
     },
     "output_type": "display_data"
    }
   ],
   "source": [
    "lol['GROWTH (%)'].plot()"
   ]
  },
  {
   "cell_type": "code",
   "execution_count": 123,
   "metadata": {},
   "outputs": [
    {
     "data": {
      "text/html": [
       "<div>\n",
       "<style scoped>\n",
       "    .dataframe tbody tr th:only-of-type {\n",
       "        vertical-align: middle;\n",
       "    }\n",
       "\n",
       "    .dataframe tbody tr th {\n",
       "        vertical-align: top;\n",
       "    }\n",
       "\n",
       "    .dataframe thead th {\n",
       "        text-align: right;\n",
       "    }\n",
       "</style>\n",
       "<table border=\"1\" class=\"dataframe\">\n",
       "  <thead>\n",
       "    <tr style=\"text-align: right;\">\n",
       "      <th></th>\n",
       "      <th>YEAR</th>\n",
       "      <th>COUNTRY</th>\n",
       "      <th>SITC 1 DIGIT</th>\n",
       "      <th>SITC 2 DIGIT</th>\n",
       "      <th>IMPORT (MILLION RM)</th>\n",
       "      <th>EXPORT (MILLION RM)</th>\n",
       "      <th>DEFICIT/SURPLUS (MILLION RM)</th>\n",
       "    </tr>\n",
       "  </thead>\n",
       "  <tbody>\n",
       "    <tr>\n",
       "      <th>0</th>\n",
       "      <td>2013</td>\n",
       "      <td>AFGHANISTAN</td>\n",
       "      <td>0</td>\n",
       "      <td>4</td>\n",
       "      <td>0.000000</td>\n",
       "      <td>0.000000</td>\n",
       "      <td>0.000000</td>\n",
       "    </tr>\n",
       "    <tr>\n",
       "      <th>1</th>\n",
       "      <td>2013</td>\n",
       "      <td>AFGHANISTAN</td>\n",
       "      <td>0</td>\n",
       "      <td>5</td>\n",
       "      <td>0.002469</td>\n",
       "      <td>0.419797</td>\n",
       "      <td>0.417328</td>\n",
       "    </tr>\n",
       "    <tr>\n",
       "      <th>2</th>\n",
       "      <td>2013</td>\n",
       "      <td>AFGHANISTAN</td>\n",
       "      <td>0</td>\n",
       "      <td>9</td>\n",
       "      <td>0.000000</td>\n",
       "      <td>0.669157</td>\n",
       "      <td>0.669157</td>\n",
       "    </tr>\n",
       "    <tr>\n",
       "      <th>3</th>\n",
       "      <td>2013</td>\n",
       "      <td>AFGHANISTAN</td>\n",
       "      <td>1</td>\n",
       "      <td>12</td>\n",
       "      <td>0.000000</td>\n",
       "      <td>0.179208</td>\n",
       "      <td>0.179208</td>\n",
       "    </tr>\n",
       "    <tr>\n",
       "      <th>4</th>\n",
       "      <td>2013</td>\n",
       "      <td>AFGHANISTAN</td>\n",
       "      <td>2</td>\n",
       "      <td>26</td>\n",
       "      <td>1.264967</td>\n",
       "      <td>0.000000</td>\n",
       "      <td>-1.264967</td>\n",
       "    </tr>\n",
       "  </tbody>\n",
       "</table>\n",
       "</div>"
      ],
      "text/plain": [
       "   YEAR      COUNTRY  SITC 1 DIGIT  SITC 2 DIGIT  IMPORT (MILLION RM)  \\\n",
       "0  2013  AFGHANISTAN             0             4             0.000000   \n",
       "1  2013  AFGHANISTAN             0             5             0.002469   \n",
       "2  2013  AFGHANISTAN             0             9             0.000000   \n",
       "3  2013  AFGHANISTAN             1            12             0.000000   \n",
       "4  2013  AFGHANISTAN             2            26             1.264967   \n",
       "\n",
       "   EXPORT (MILLION RM)  DEFICIT/SURPLUS (MILLION RM)  \n",
       "0             0.000000                      0.000000  \n",
       "1             0.419797                      0.417328  \n",
       "2             0.669157                      0.669157  \n",
       "3             0.179208                      0.179208  \n",
       "4             0.000000                     -1.264967  "
      ]
     },
     "execution_count": 123,
     "metadata": {},
     "output_type": "execute_result"
    }
   ],
   "source": [
    "df = pd.read_csv('trade_new.csv')\n",
    "df.head()"
   ]
  },
  {
   "cell_type": "code",
   "execution_count": 129,
   "metadata": {},
   "outputs": [],
   "source": [
    "list = []\n",
    "for i in np.sort(df['SITC 1 DIGIT'].unique()):\n",
    "    k = df[df['SITC 1 DIGIT'] == i].groupby(['YEAR'])[['IMPORT (MILLION RM)']].sum().pct_change().dropna().mean()\n",
    "    list.append(k)"
   ]
  },
  {
   "cell_type": "code",
   "execution_count": 134,
   "metadata": {},
   "outputs": [
    {
     "data": {
      "text/html": [
       "<div>\n",
       "<style scoped>\n",
       "    .dataframe tbody tr th:only-of-type {\n",
       "        vertical-align: middle;\n",
       "    }\n",
       "\n",
       "    .dataframe tbody tr th {\n",
       "        vertical-align: top;\n",
       "    }\n",
       "\n",
       "    .dataframe thead th {\n",
       "        text-align: right;\n",
       "    }\n",
       "</style>\n",
       "<table border=\"1\" class=\"dataframe\">\n",
       "  <thead>\n",
       "    <tr style=\"text-align: right;\">\n",
       "      <th></th>\n",
       "      <th>IMPORT (MILLION RM)</th>\n",
       "    </tr>\n",
       "  </thead>\n",
       "  <tbody>\n",
       "    <tr>\n",
       "      <th>1</th>\n",
       "      <td>0.048796</td>\n",
       "    </tr>\n",
       "    <tr>\n",
       "      <th>2</th>\n",
       "      <td>-0.009991</td>\n",
       "    </tr>\n",
       "    <tr>\n",
       "      <th>3</th>\n",
       "      <td>0.105244</td>\n",
       "    </tr>\n",
       "    <tr>\n",
       "      <th>4</th>\n",
       "      <td>0.053909</td>\n",
       "    </tr>\n",
       "    <tr>\n",
       "      <th>5</th>\n",
       "      <td>0.105322</td>\n",
       "    </tr>\n",
       "    <tr>\n",
       "      <th>6</th>\n",
       "      <td>0.079686</td>\n",
       "    </tr>\n",
       "    <tr>\n",
       "      <th>7</th>\n",
       "      <td>0.026191</td>\n",
       "    </tr>\n",
       "    <tr>\n",
       "      <th>8</th>\n",
       "      <td>0.045614</td>\n",
       "    </tr>\n",
       "    <tr>\n",
       "      <th>9</th>\n",
       "      <td>0.083988</td>\n",
       "    </tr>\n",
       "    <tr>\n",
       "      <th>10</th>\n",
       "      <td>0.013813</td>\n",
       "    </tr>\n",
       "  </tbody>\n",
       "</table>\n",
       "</div>"
      ],
      "text/plain": [
       "    IMPORT (MILLION RM)\n",
       "1              0.048796\n",
       "2             -0.009991\n",
       "3              0.105244\n",
       "4              0.053909\n",
       "5              0.105322\n",
       "6              0.079686\n",
       "7              0.026191\n",
       "8              0.045614\n",
       "9              0.083988\n",
       "10             0.013813"
      ]
     },
     "execution_count": 134,
     "metadata": {},
     "output_type": "execute_result"
    }
   ],
   "source": [
    "pd.DataFrame(list, index = [1,2,3,4,5,6,7,8,9,10])"
   ]
  },
  {
   "cell_type": "code",
   "execution_count": 155,
   "metadata": {},
   "outputs": [],
   "source": [
    "list = []\n",
    "for i in np.sort(df['SITC 2 DIGIT'].unique()):\n",
    "    k = df[df['SITC 2 DIGIT'] == i].groupby(['YEAR'])[['IMPORT (MILLION RM)']].sum().pct_change().dropna().mean()*100\n",
    "    list.append(k)"
   ]
  },
  {
   "cell_type": "code",
   "execution_count": 156,
   "metadata": {},
   "outputs": [],
   "source": [
    "data = pd.DataFrame(list, index = np.sort(df['SITC 2 DIGIT'].unique())).rename(columns = {'IMPORT (MILLION RM)': \"SITC 2 DIGIT's AVG (%)\"})"
   ]
  },
  {
   "cell_type": "code",
   "execution_count": 157,
   "metadata": {},
   "outputs": [
    {
     "data": {
      "text/plain": [
       "SITC 2 DIGIT's AVG (%)    0\n",
       "dtype: int64"
      ]
     },
     "execution_count": 157,
     "metadata": {},
     "output_type": "execute_result"
    }
   ],
   "source": [
    "data.isnull().sum()"
   ]
  },
  {
   "cell_type": "code",
   "execution_count": 158,
   "metadata": {},
   "outputs": [
    {
     "data": {
      "text/html": [
       "<div>\n",
       "<style scoped>\n",
       "    .dataframe tbody tr th:only-of-type {\n",
       "        vertical-align: middle;\n",
       "    }\n",
       "\n",
       "    .dataframe tbody tr th {\n",
       "        vertical-align: top;\n",
       "    }\n",
       "\n",
       "    .dataframe thead th {\n",
       "        text-align: right;\n",
       "    }\n",
       "</style>\n",
       "<table border=\"1\" class=\"dataframe\">\n",
       "  <thead>\n",
       "    <tr style=\"text-align: right;\">\n",
       "      <th></th>\n",
       "      <th>SITC 2 DIGIT's AVG (%)</th>\n",
       "    </tr>\n",
       "  </thead>\n",
       "  <tbody>\n",
       "    <tr>\n",
       "      <th>71</th>\n",
       "      <td>5.879341</td>\n",
       "    </tr>\n",
       "    <tr>\n",
       "      <th>72</th>\n",
       "      <td>5.718127</td>\n",
       "    </tr>\n",
       "    <tr>\n",
       "      <th>73</th>\n",
       "      <td>2.630900</td>\n",
       "    </tr>\n",
       "    <tr>\n",
       "      <th>74</th>\n",
       "      <td>4.073359</td>\n",
       "    </tr>\n",
       "    <tr>\n",
       "      <th>75</th>\n",
       "      <td>0.205072</td>\n",
       "    </tr>\n",
       "    <tr>\n",
       "      <th>76</th>\n",
       "      <td>3.365189</td>\n",
       "    </tr>\n",
       "    <tr>\n",
       "      <th>77</th>\n",
       "      <td>6.855509</td>\n",
       "    </tr>\n",
       "    <tr>\n",
       "      <th>78</th>\n",
       "      <td>3.230244</td>\n",
       "    </tr>\n",
       "    <tr>\n",
       "      <th>79</th>\n",
       "      <td>-3.205595</td>\n",
       "    </tr>\n",
       "    <tr>\n",
       "      <th>81</th>\n",
       "      <td>13.874862</td>\n",
       "    </tr>\n",
       "    <tr>\n",
       "      <th>82</th>\n",
       "      <td>13.862855</td>\n",
       "    </tr>\n",
       "    <tr>\n",
       "      <th>83</th>\n",
       "      <td>16.158416</td>\n",
       "    </tr>\n",
       "    <tr>\n",
       "      <th>84</th>\n",
       "      <td>19.748759</td>\n",
       "    </tr>\n",
       "    <tr>\n",
       "      <th>85</th>\n",
       "      <td>23.614001</td>\n",
       "    </tr>\n",
       "    <tr>\n",
       "      <th>87</th>\n",
       "      <td>6.271516</td>\n",
       "    </tr>\n",
       "    <tr>\n",
       "      <th>88</th>\n",
       "      <td>3.805328</td>\n",
       "    </tr>\n",
       "    <tr>\n",
       "      <th>89</th>\n",
       "      <td>7.901519</td>\n",
       "    </tr>\n",
       "    <tr>\n",
       "      <th>93</th>\n",
       "      <td>6.192972</td>\n",
       "    </tr>\n",
       "    <tr>\n",
       "      <th>96</th>\n",
       "      <td>-10.724839</td>\n",
       "    </tr>\n",
       "    <tr>\n",
       "      <th>97</th>\n",
       "      <td>0.527400</td>\n",
       "    </tr>\n",
       "  </tbody>\n",
       "</table>\n",
       "</div>"
      ],
      "text/plain": [
       "    SITC 2 DIGIT's AVG (%)\n",
       "71                5.879341\n",
       "72                5.718127\n",
       "73                2.630900\n",
       "74                4.073359\n",
       "75                0.205072\n",
       "76                3.365189\n",
       "77                6.855509\n",
       "78                3.230244\n",
       "79               -3.205595\n",
       "81               13.874862\n",
       "82               13.862855\n",
       "83               16.158416\n",
       "84               19.748759\n",
       "85               23.614001\n",
       "87                6.271516\n",
       "88                3.805328\n",
       "89                7.901519\n",
       "93                6.192972\n",
       "96              -10.724839\n",
       "97                0.527400"
      ]
     },
     "execution_count": 158,
     "metadata": {},
     "output_type": "execute_result"
    }
   ],
   "source": [
    "data.tail(20)"
   ]
  },
  {
   "cell_type": "code",
   "execution_count": 152,
   "metadata": {},
   "outputs": [
    {
     "data": {
      "text/plain": [
       "SITC 2 DIGIT's AVG (%)    False\n",
       "dtype: bool"
      ]
     },
     "execution_count": 152,
     "metadata": {},
     "output_type": "execute_result"
    }
   ],
   "source": [
    "data.isnull().any()"
   ]
  },
  {
   "cell_type": "code",
   "execution_count": 160,
   "metadata": {},
   "outputs": [],
   "source": [
    "data.to_csv('SITC_2_DIGIT_AAVG.csv')"
   ]
  },
  {
   "cell_type": "code",
   "execution_count": 171,
   "metadata": {},
   "outputs": [],
   "source": [
    "df = pd.read_csv('trade_new.csv')\n",
    "list = []\n",
    "for i in np.sort(df['SITC 1 DIGIT'].unique()):\n",
    "    k = df[df['SITC 1 DIGIT'] == i].groupby(['YEAR'])[['IMPORT (MILLION RM)', 'EXPORT (MILLION RM)']].sum().pct_change().dropna().mean()*100\n",
    "    list.append(k)\n",
    "data = pd.DataFrame(list, index = np.sort(df['SITC 1 DIGIT'].unique())).rename(columns = {'IMPORT (MILLION RM)': \"SITC 1 DIGIT's IMPORT AAVG (%)\", 'EXPORT (MILLION RM)': \"SITC 1 DIGIT's EXPORT AAVG (%)\"})\n",
    "data.to_csv('sitc_1_digit_aavg.csv')"
   ]
  },
  {
   "cell_type": "code",
   "execution_count": 172,
   "metadata": {},
   "outputs": [],
   "source": [
    "list = []\n",
    "for i in np.sort(df['SITC 2 DIGIT'].unique()):\n",
    "    k = df[df['SITC 2 DIGIT'] == i].groupby(['YEAR'])[['IMPORT (MILLION RM)', 'EXPORT (MILLION RM)']].sum().pct_change().dropna().mean()*100\n",
    "    list.append(k)\n",
    "data = pd.DataFrame(list, index = np.sort(df['SITC 2 DIGIT'].unique())).rename(columns = {'IMPORT (MILLION RM)': \"SITC 2 DIGIT's IMPORT AAVG (%)\", 'EXPORT (MILLION RM)': \"SITC 2 DIGIT's EXPORT AAVG (%)\"})\n",
    "data.to_csv('sitc_2_digit_aavd.csv')"
   ]
  },
  {
   "cell_type": "code",
   "execution_count": 173,
   "metadata": {},
   "outputs": [
    {
     "data": {
      "text/html": [
       "<div>\n",
       "<style scoped>\n",
       "    .dataframe tbody tr th:only-of-type {\n",
       "        vertical-align: middle;\n",
       "    }\n",
       "\n",
       "    .dataframe tbody tr th {\n",
       "        vertical-align: top;\n",
       "    }\n",
       "\n",
       "    .dataframe thead th {\n",
       "        text-align: right;\n",
       "    }\n",
       "</style>\n",
       "<table border=\"1\" class=\"dataframe\">\n",
       "  <thead>\n",
       "    <tr style=\"text-align: right;\">\n",
       "      <th></th>\n",
       "      <th>YEAR</th>\n",
       "      <th>SITC 1 DIGIT</th>\n",
       "      <th>SITC 2 DIGIT</th>\n",
       "      <th>sum</th>\n",
       "    </tr>\n",
       "  </thead>\n",
       "  <tbody>\n",
       "    <tr>\n",
       "      <th>0</th>\n",
       "      <td>2018</td>\n",
       "      <td>0</td>\n",
       "      <td>0</td>\n",
       "      <td>2.747753e+08</td>\n",
       "    </tr>\n",
       "    <tr>\n",
       "      <th>1</th>\n",
       "      <td>2018</td>\n",
       "      <td>0</td>\n",
       "      <td>1</td>\n",
       "      <td>3.892868e+09</td>\n",
       "    </tr>\n",
       "    <tr>\n",
       "      <th>2</th>\n",
       "      <td>2018</td>\n",
       "      <td>0</td>\n",
       "      <td>2</td>\n",
       "      <td>3.861979e+09</td>\n",
       "    </tr>\n",
       "    <tr>\n",
       "      <th>3</th>\n",
       "      <td>2018</td>\n",
       "      <td>0</td>\n",
       "      <td>3</td>\n",
       "      <td>4.056205e+09</td>\n",
       "    </tr>\n",
       "    <tr>\n",
       "      <th>4</th>\n",
       "      <td>2018</td>\n",
       "      <td>0</td>\n",
       "      <td>4</td>\n",
       "      <td>8.445219e+09</td>\n",
       "    </tr>\n",
       "    <tr>\n",
       "      <th>...</th>\n",
       "      <td>...</td>\n",
       "      <td>...</td>\n",
       "      <td>...</td>\n",
       "      <td>...</td>\n",
       "    </tr>\n",
       "    <tr>\n",
       "      <th>61</th>\n",
       "      <td>2018</td>\n",
       "      <td>8</td>\n",
       "      <td>88</td>\n",
       "      <td>5.131307e+09</td>\n",
       "    </tr>\n",
       "    <tr>\n",
       "      <th>62</th>\n",
       "      <td>2018</td>\n",
       "      <td>8</td>\n",
       "      <td>89</td>\n",
       "      <td>1.930562e+10</td>\n",
       "    </tr>\n",
       "    <tr>\n",
       "      <th>63</th>\n",
       "      <td>2018</td>\n",
       "      <td>9</td>\n",
       "      <td>93</td>\n",
       "      <td>3.498821e+09</td>\n",
       "    </tr>\n",
       "    <tr>\n",
       "      <th>64</th>\n",
       "      <td>2018</td>\n",
       "      <td>9</td>\n",
       "      <td>96</td>\n",
       "      <td>7.087361e+07</td>\n",
       "    </tr>\n",
       "    <tr>\n",
       "      <th>65</th>\n",
       "      <td>2018</td>\n",
       "      <td>9</td>\n",
       "      <td>97</td>\n",
       "      <td>1.272740e+10</td>\n",
       "    </tr>\n",
       "  </tbody>\n",
       "</table>\n",
       "<p>66 rows × 4 columns</p>\n",
       "</div>"
      ],
      "text/plain": [
       "    YEAR  SITC 1 DIGIT  SITC 2 DIGIT           sum\n",
       "0   2018             0             0  2.747753e+08\n",
       "1   2018             0             1  3.892868e+09\n",
       "2   2018             0             2  3.861979e+09\n",
       "3   2018             0             3  4.056205e+09\n",
       "4   2018             0             4  8.445219e+09\n",
       "..   ...           ...           ...           ...\n",
       "61  2018             8            88  5.131307e+09\n",
       "62  2018             8            89  1.930562e+10\n",
       "63  2018             9            93  3.498821e+09\n",
       "64  2018             9            96  7.087361e+07\n",
       "65  2018             9            97  1.272740e+10\n",
       "\n",
       "[66 rows x 4 columns]"
      ]
     },
     "execution_count": 173,
     "metadata": {},
     "output_type": "execute_result"
    }
   ],
   "source": [
    "'''Variable year, import_export'''\n",
    "year = 2018\n",
    "# 'IMPORT (RM)' or 'EXPORT (RM)'\n",
    "import_export = 'IMPORT (RM)'\n",
    "\n",
    "'''Read Data'''\n",
    "# Read Data\n",
    "df = pd.read_csv(\"data_1.csv\")\n",
    "\n",
    "'''Data Preprocessing'''\n",
    "# Filter year\n",
    "df = df[df['YEAR'] == year]\n",
    "df_sum_1_2 = df.groupby(['YEAR','SITC 1 DIGIT', 'SITC 2 DIGIT'])['IMPORT (RM)'].agg(['sum']).reset_index()\n",
    "df_sum_1_2"
   ]
  },
  {
   "cell_type": "code",
   "execution_count": null,
   "metadata": {},
   "outputs": [],
   "source": []
  }
 ],
 "metadata": {
  "kernelspec": {
   "display_name": "Python 3",
   "language": "python",
   "name": "python3"
  },
  "language_info": {
   "codemirror_mode": {
    "name": "ipython",
    "version": 3
   },
   "file_extension": ".py",
   "mimetype": "text/x-python",
   "name": "python",
   "nbconvert_exporter": "python",
   "pygments_lexer": "ipython3",
   "version": "3.8.5"
  }
 },
 "nbformat": 4,
 "nbformat_minor": 4
}
